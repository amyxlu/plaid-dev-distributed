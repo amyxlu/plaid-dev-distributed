{
 "cells": [
  {
   "cell_type": "code",
   "execution_count": 14,
   "id": "c693f2ae-8703-4390-9a22-65ddd1fac4e7",
   "metadata": {},
   "outputs": [],
   "source": [
    "%load_ext autoreload\n",
    "%autoreload 2"
   ]
  },
  {
   "cell_type": "code",
   "execution_count": 15,
   "id": "61cc1c9a-0e39-4f00-995b-f0e6fa4b5167",
   "metadata": {},
   "outputs": [
    {
     "name": "stderr",
     "output_type": "stream",
     "text": [
      "100%|██████████| 1.56G/1.56G [00:06<00:00, 266MB/s]\n",
      "100%|██████████| 1.56G/1.56G [00:08<00:00, 187MB/s]\n"
     ]
    }
   ],
   "source": [
    "import torch\n",
    "from plaid.datasets import FastaDataset, MetadataParser, NUM_FUNCTION_CLASSES, NUM_ORGANISM_CLASSES\n",
    "import numpy as np\n",
    "\n",
    "val_fasta = '/data/lux70/data/pfam/val.fasta'\n",
    "ds = FastaDataset(val_fasta)\n",
    "parser = MetadataParser()"
   ]
  },
  {
   "cell_type": "markdown",
   "id": "4f7f7d41-578d-4159-ae6f-e957bdf34ada",
   "metadata": {},
   "source": [
    "## Parse FASTA to DataFrame"
   ]
  },
  {
   "cell_type": "code",
   "execution_count": 16,
   "id": "65483db1-b2cf-44fb-92e5-b82eae0853b1",
   "metadata": {},
   "outputs": [
    {
     "data": {
      "application/vnd.jupyter.widget-view+json": {
       "model_id": "59de92451b2a4fc5af82b5721de4dbe3",
       "version_major": 2,
       "version_minor": 0
      },
      "text/plain": [
       "  0%|          | 0/8596167 [00:00<?, ?it/s]"
      ]
     },
     "metadata": {},
     "output_type": "display_data"
    }
   ],
   "source": [
    "all_pfam_ids = []\n",
    "all_organisms = []\n",
    "all_sequences = []\n",
    "\n",
    "from tqdm.notebook import trange\n",
    "import math\n",
    "\n",
    "for i in trange(len(ds)):\n",
    "    header, sequence = ds[i]\n",
    "    pfam_id = parser.header_to_pfam_id(header)\n",
    "    organism = parser.header_to_organism(header)\n",
    "\n",
    "    all_pfam_ids.append(pfam_id)\n",
    "    all_organisms.append(organism)\n",
    "    all_sequences.append(sequence)"
   ]
  },
  {
   "cell_type": "code",
   "execution_count": 17,
   "id": "14466f81-99f4-4ae5-82e2-8af0f57ae013",
   "metadata": {},
   "outputs": [
    {
     "name": "stdout",
     "output_type": "stream",
     "text": [
      "8596167\n",
      "8596167\n",
      "8596167\n"
     ]
    }
   ],
   "source": [
    "print(len(all_pfam_ids))\n",
    "print(len(all_organisms))\n",
    "print(len(all_sequences))"
   ]
  },
  {
   "cell_type": "code",
   "execution_count": 21,
   "id": "452da065-bcfa-45c9-8e98-b1153f1cb76b",
   "metadata": {},
   "outputs": [],
   "source": [
    "# print(len(np.unique(all_pfam_ids)))\n",
    "# print(len(np.unique(all_organisms)))\n",
    "# print(len(np.unique(all_sequences)))"
   ]
  },
  {
   "cell_type": "code",
   "execution_count": 19,
   "id": "b1096884-0e6c-4208-961d-18f6510e8b30",
   "metadata": {},
   "outputs": [],
   "source": [
    "import pandas as pd\n",
    "\n",
    "df = pd.DataFrame({\n",
    "    \"pfam_id\": all_pfam_ids,\n",
    "    \"organism\": all_organisms,\n",
    "    \"sequence\": all_sequences\n",
    "})"
   ]
  },
  {
   "cell_type": "code",
   "execution_count": 23,
   "id": "049bbb76-45d9-48f3-8d90-b344426a829c",
   "metadata": {},
   "outputs": [],
   "source": [
    "# outpath = \"/data/lux70/data/pfam/val.parquet\"\n",
    "# df.to_parquet(outpath)"
   ]
  },
  {
   "cell_type": "code",
   "execution_count": 13,
   "id": "49de5bd8-8bff-4da4-ab98-04c82b910c7d",
   "metadata": {},
   "outputs": [],
   "source": [
    "# df = pd.read_parquet(\"/data/lux70/data/pfam/val.parquet\") "
   ]
  },
  {
   "cell_type": "code",
   "execution_count": 22,
   "id": "88e44752-9bcb-4b0f-b7f9-03f25a4b5cd8",
   "metadata": {},
   "outputs": [
    {
     "data": {
      "text/html": [
       "<div>\n",
       "<style scoped>\n",
       "    .dataframe tbody tr th:only-of-type {\n",
       "        vertical-align: middle;\n",
       "    }\n",
       "\n",
       "    .dataframe tbody tr th {\n",
       "        vertical-align: top;\n",
       "    }\n",
       "\n",
       "    .dataframe thead th {\n",
       "        text-align: right;\n",
       "    }\n",
       "</style>\n",
       "<table border=\"1\" class=\"dataframe\">\n",
       "  <thead>\n",
       "    <tr style=\"text-align: right;\">\n",
       "      <th></th>\n",
       "      <th>pfam_id</th>\n",
       "      <th>organism</th>\n",
       "      <th>sequence</th>\n",
       "    </tr>\n",
       "  </thead>\n",
       "  <tbody>\n",
       "    <tr>\n",
       "      <th>0</th>\n",
       "      <td>PF08450</td>\n",
       "      <td>9PROT</td>\n",
       "      <td>WLEGPAWSSEGRFLVLSDVIQSKALRYIWETGEITQFRPEGYAANG...</td>\n",
       "    </tr>\n",
       "    <tr>\n",
       "      <th>1</th>\n",
       "      <td>PF08450</td>\n",
       "      <td>9GAMM</td>\n",
       "      <td>GTEGPIAAPDGSFLFTETRANRITKIAPDNTISTFLENSNGSNGLA...</td>\n",
       "    </tr>\n",
       "    <tr>\n",
       "      <th>2</th>\n",
       "      <td>PF08450</td>\n",
       "      <td>9BURK</td>\n",
       "      <td>WSEGPVWFGDGRCLLWSDIPNNRILRWDEESGQVGVFRKPSDNANG...</td>\n",
       "    </tr>\n",
       "    <tr>\n",
       "      <th>3</th>\n",
       "      <td>PF08450</td>\n",
       "      <td>9GAMM</td>\n",
       "      <td>VAPAPNGLVWYTAQKAGALGILDPSNGDVRHIKLGQGSAPHGVIQG...</td>\n",
       "    </tr>\n",
       "    <tr>\n",
       "      <th>4</th>\n",
       "      <td>PF08450</td>\n",
       "      <td>9ACTN</td>\n",
       "      <td>YPEGVAWDPTRRAFLVGSALKGTLSVIRLDGTVKELAPSIGMVSTL...</td>\n",
       "    </tr>\n",
       "  </tbody>\n",
       "</table>\n",
       "</div>"
      ],
      "text/plain": [
       "   pfam_id organism                                           sequence\n",
       "0  PF08450    9PROT  WLEGPAWSSEGRFLVLSDVIQSKALRYIWETGEITQFRPEGYAANG...\n",
       "1  PF08450    9GAMM  GTEGPIAAPDGSFLFTETRANRITKIAPDNTISTFLENSNGSNGLA...\n",
       "2  PF08450    9BURK  WSEGPVWFGDGRCLLWSDIPNNRILRWDEESGQVGVFRKPSDNANG...\n",
       "3  PF08450    9GAMM  VAPAPNGLVWYTAQKAGALGILDPSNGDVRHIKLGQGSAPHGVIQG...\n",
       "4  PF08450    9ACTN  YPEGVAWDPTRRAFLVGSALKGTLSVIRLDGTVKELAPSIGMVSTL..."
      ]
     },
     "execution_count": 22,
     "metadata": {},
     "output_type": "execute_result"
    }
   ],
   "source": [
    "df.head()"
   ]
  },
  {
   "cell_type": "markdown",
   "id": "179742e2-875e-426f-b72c-cae21416aef4",
   "metadata": {},
   "source": [
    "## Merge Metadata"
   ]
  },
  {
   "cell_type": "code",
   "execution_count": 24,
   "id": "55577728-e795-4a71-b5f4-002d84ff5d9c",
   "metadata": {},
   "outputs": [],
   "source": [
    "from plaid.datasets import MetadataParser\n",
    "metadata_parser = MetadataParser()"
   ]
  },
  {
   "cell_type": "code",
   "execution_count": 25,
   "id": "3ea7b5d2-4dcc-49a2-aeed-7896da463f05",
   "metadata": {},
   "outputs": [
    {
     "data": {
      "text/html": [
       "<div>\n",
       "<style scoped>\n",
       "    .dataframe tbody tr th:only-of-type {\n",
       "        vertical-align: middle;\n",
       "    }\n",
       "\n",
       "    .dataframe tbody tr th {\n",
       "        vertical-align: top;\n",
       "    }\n",
       "\n",
       "    .dataframe thead th {\n",
       "        text-align: right;\n",
       "    }\n",
       "</style>\n",
       "<table border=\"1\" class=\"dataframe\">\n",
       "  <thead>\n",
       "    <tr style=\"text-align: right;\">\n",
       "      <th></th>\n",
       "      <th>pfam_id</th>\n",
       "      <th>GO_id</th>\n",
       "      <th>GO_term</th>\n",
       "      <th>GO_level</th>\n",
       "      <th>count</th>\n",
       "      <th>GO_idx</th>\n",
       "    </tr>\n",
       "  </thead>\n",
       "  <tbody>\n",
       "    <tr>\n",
       "      <th>0</th>\n",
       "      <td>PF00001</td>\n",
       "      <td>GO:0004930</td>\n",
       "      <td>G protein-coupled receptor activity</td>\n",
       "      <td>function</td>\n",
       "      <td>11</td>\n",
       "      <td>0</td>\n",
       "    </tr>\n",
       "    <tr>\n",
       "      <th>1</th>\n",
       "      <td>PF00002</td>\n",
       "      <td>GO:0004930</td>\n",
       "      <td>G protein-coupled receptor activity</td>\n",
       "      <td>function</td>\n",
       "      <td>11</td>\n",
       "      <td>0</td>\n",
       "    </tr>\n",
       "    <tr>\n",
       "      <th>2</th>\n",
       "      <td>PF00003</td>\n",
       "      <td>GO:0004930</td>\n",
       "      <td>G protein-coupled receptor activity</td>\n",
       "      <td>function</td>\n",
       "      <td>11</td>\n",
       "      <td>0</td>\n",
       "    </tr>\n",
       "    <tr>\n",
       "      <th>3</th>\n",
       "      <td>PF00004</td>\n",
       "      <td>GO:0016887</td>\n",
       "      <td>ATP hydrolysis activity</td>\n",
       "      <td>function</td>\n",
       "      <td>15</td>\n",
       "      <td>1</td>\n",
       "    </tr>\n",
       "    <tr>\n",
       "      <th>4</th>\n",
       "      <td>PF00005</td>\n",
       "      <td>GO:0016887</td>\n",
       "      <td>ATP hydrolysis activity</td>\n",
       "      <td>function</td>\n",
       "      <td>15</td>\n",
       "      <td>1</td>\n",
       "    </tr>\n",
       "    <tr>\n",
       "      <th>...</th>\n",
       "      <td>...</td>\n",
       "      <td>...</td>\n",
       "      <td>...</td>\n",
       "      <td>...</td>\n",
       "      <td>...</td>\n",
       "      <td>...</td>\n",
       "    </tr>\n",
       "    <tr>\n",
       "      <th>5207</th>\n",
       "      <td>PF21665</td>\n",
       "      <td>GO:0009306</td>\n",
       "      <td>protein secretion</td>\n",
       "      <td>process</td>\n",
       "      <td>11</td>\n",
       "      <td>123</td>\n",
       "    </tr>\n",
       "    <tr>\n",
       "      <th>5208</th>\n",
       "      <td>PF21729</td>\n",
       "      <td>GO:0045492</td>\n",
       "      <td>xylan biosynthetic process</td>\n",
       "      <td>process</td>\n",
       "      <td>1</td>\n",
       "      <td>2218</td>\n",
       "    </tr>\n",
       "    <tr>\n",
       "      <th>5209</th>\n",
       "      <td>PF21730</td>\n",
       "      <td>GO:0070072</td>\n",
       "      <td>vacuolar proton-transporting V-type ATPase com...</td>\n",
       "      <td>process</td>\n",
       "      <td>4</td>\n",
       "      <td>1706</td>\n",
       "    </tr>\n",
       "    <tr>\n",
       "      <th>5210</th>\n",
       "      <td>PF21767</td>\n",
       "      <td>GO:0005515</td>\n",
       "      <td>protein binding</td>\n",
       "      <td>function</td>\n",
       "      <td>122</td>\n",
       "      <td>10</td>\n",
       "    </tr>\n",
       "    <tr>\n",
       "      <th>5211</th>\n",
       "      <td>PF21816</td>\n",
       "      <td>GO:0008270</td>\n",
       "      <td>zinc ion binding</td>\n",
       "      <td>function</td>\n",
       "      <td>101</td>\n",
       "      <td>229</td>\n",
       "    </tr>\n",
       "  </tbody>\n",
       "</table>\n",
       "<p>5212 rows × 6 columns</p>\n",
       "</div>"
      ],
      "text/plain": [
       "      pfam_id       GO_id                                            GO_term  \\\n",
       "0     PF00001  GO:0004930                G protein-coupled receptor activity   \n",
       "1     PF00002  GO:0004930                G protein-coupled receptor activity   \n",
       "2     PF00003  GO:0004930                G protein-coupled receptor activity   \n",
       "3     PF00004  GO:0016887                            ATP hydrolysis activity   \n",
       "4     PF00005  GO:0016887                            ATP hydrolysis activity   \n",
       "...       ...         ...                                                ...   \n",
       "5207  PF21665  GO:0009306                                  protein secretion   \n",
       "5208  PF21729  GO:0045492                         xylan biosynthetic process   \n",
       "5209  PF21730  GO:0070072  vacuolar proton-transporting V-type ATPase com...   \n",
       "5210  PF21767  GO:0005515                                    protein binding   \n",
       "5211  PF21816  GO:0008270                                   zinc ion binding   \n",
       "\n",
       "      GO_level  count  GO_idx  \n",
       "0     function     11       0  \n",
       "1     function     11       0  \n",
       "2     function     11       0  \n",
       "3     function     15       1  \n",
       "4     function     15       1  \n",
       "...        ...    ...     ...  \n",
       "5207   process     11     123  \n",
       "5208   process      1    2218  \n",
       "5209   process      4    1706  \n",
       "5210  function    122      10  \n",
       "5211  function    101     229  \n",
       "\n",
       "[5212 rows x 6 columns]"
      ]
     },
     "execution_count": 25,
     "metadata": {},
     "output_type": "execute_result"
    }
   ],
   "source": [
    "metadata_parser.go_metadata"
   ]
  },
  {
   "cell_type": "code",
   "execution_count": 10,
   "id": "b39fb2ed-56c6-4e74-ba02-b670d969ed1d",
   "metadata": {},
   "outputs": [
    {
     "data": {
      "text/plain": [
       "array(['function', 'process', 'component'], dtype=object)"
      ]
     },
     "execution_count": 10,
     "metadata": {},
     "output_type": "execute_result"
    }
   ],
   "source": [
    "metadata_parser.go_metadata.GO_level.unique()"
   ]
  },
  {
   "cell_type": "code",
   "execution_count": 26,
   "id": "9c061838-1cb1-4398-88f5-9fe20b501036",
   "metadata": {},
   "outputs": [],
   "source": [
    "tmp = df.merge(metadata_parser.go_metadata, on=\"pfam_id\", how=\"left\")"
   ]
  },
  {
   "cell_type": "code",
   "execution_count": 27,
   "id": "d69428d3-2379-4a5e-aba3-7067dc36ba4e",
   "metadata": {},
   "outputs": [
    {
     "data": {
      "text/html": [
       "<div>\n",
       "<style scoped>\n",
       "    .dataframe tbody tr th:only-of-type {\n",
       "        vertical-align: middle;\n",
       "    }\n",
       "\n",
       "    .dataframe tbody tr th {\n",
       "        vertical-align: top;\n",
       "    }\n",
       "\n",
       "    .dataframe thead th {\n",
       "        text-align: right;\n",
       "    }\n",
       "</style>\n",
       "<table border=\"1\" class=\"dataframe\">\n",
       "  <thead>\n",
       "    <tr style=\"text-align: right;\">\n",
       "      <th></th>\n",
       "      <th>pfam_id</th>\n",
       "      <th>organism</th>\n",
       "      <th>sequence</th>\n",
       "      <th>GO_id</th>\n",
       "      <th>GO_term</th>\n",
       "      <th>GO_level</th>\n",
       "      <th>count</th>\n",
       "      <th>GO_idx</th>\n",
       "    </tr>\n",
       "  </thead>\n",
       "  <tbody>\n",
       "    <tr>\n",
       "      <th>0</th>\n",
       "      <td>PF08450</td>\n",
       "      <td>9PROT</td>\n",
       "      <td>WLEGPAWSSEGRFLVLSDVIQSKALRYIWETGEITQFRPEGYAANG...</td>\n",
       "      <td>NaN</td>\n",
       "      <td>NaN</td>\n",
       "      <td>NaN</td>\n",
       "      <td>NaN</td>\n",
       "      <td>NaN</td>\n",
       "    </tr>\n",
       "    <tr>\n",
       "      <th>1</th>\n",
       "      <td>PF08450</td>\n",
       "      <td>9GAMM</td>\n",
       "      <td>GTEGPIAAPDGSFLFTETRANRITKIAPDNTISTFLENSNGSNGLA...</td>\n",
       "      <td>NaN</td>\n",
       "      <td>NaN</td>\n",
       "      <td>NaN</td>\n",
       "      <td>NaN</td>\n",
       "      <td>NaN</td>\n",
       "    </tr>\n",
       "    <tr>\n",
       "      <th>2</th>\n",
       "      <td>PF08450</td>\n",
       "      <td>9BURK</td>\n",
       "      <td>WSEGPVWFGDGRCLLWSDIPNNRILRWDEESGQVGVFRKPSDNANG...</td>\n",
       "      <td>NaN</td>\n",
       "      <td>NaN</td>\n",
       "      <td>NaN</td>\n",
       "      <td>NaN</td>\n",
       "      <td>NaN</td>\n",
       "    </tr>\n",
       "    <tr>\n",
       "      <th>3</th>\n",
       "      <td>PF08450</td>\n",
       "      <td>9GAMM</td>\n",
       "      <td>VAPAPNGLVWYTAQKAGALGILDPSNGDVRHIKLGQGSAPHGVIQG...</td>\n",
       "      <td>NaN</td>\n",
       "      <td>NaN</td>\n",
       "      <td>NaN</td>\n",
       "      <td>NaN</td>\n",
       "      <td>NaN</td>\n",
       "    </tr>\n",
       "    <tr>\n",
       "      <th>4</th>\n",
       "      <td>PF08450</td>\n",
       "      <td>9ACTN</td>\n",
       "      <td>YPEGVAWDPTRRAFLVGSALKGTLSVIRLDGTVKELAPSIGMVSTL...</td>\n",
       "      <td>NaN</td>\n",
       "      <td>NaN</td>\n",
       "      <td>NaN</td>\n",
       "      <td>NaN</td>\n",
       "      <td>NaN</td>\n",
       "    </tr>\n",
       "  </tbody>\n",
       "</table>\n",
       "</div>"
      ],
      "text/plain": [
       "   pfam_id organism                                           sequence GO_id  \\\n",
       "0  PF08450    9PROT  WLEGPAWSSEGRFLVLSDVIQSKALRYIWETGEITQFRPEGYAANG...   NaN   \n",
       "1  PF08450    9GAMM  GTEGPIAAPDGSFLFTETRANRITKIAPDNTISTFLENSNGSNGLA...   NaN   \n",
       "2  PF08450    9BURK  WSEGPVWFGDGRCLLWSDIPNNRILRWDEESGQVGVFRKPSDNANG...   NaN   \n",
       "3  PF08450    9GAMM  VAPAPNGLVWYTAQKAGALGILDPSNGDVRHIKLGQGSAPHGVIQG...   NaN   \n",
       "4  PF08450    9ACTN  YPEGVAWDPTRRAFLVGSALKGTLSVIRLDGTVKELAPSIGMVSTL...   NaN   \n",
       "\n",
       "  GO_term GO_level  count  GO_idx  \n",
       "0     NaN      NaN    NaN     NaN  \n",
       "1     NaN      NaN    NaN     NaN  \n",
       "2     NaN      NaN    NaN     NaN  \n",
       "3     NaN      NaN    NaN     NaN  \n",
       "4     NaN      NaN    NaN     NaN  "
      ]
     },
     "execution_count": 27,
     "metadata": {},
     "output_type": "execute_result"
    }
   ],
   "source": [
    "tmp.head()"
   ]
  },
  {
   "cell_type": "code",
   "execution_count": 29,
   "id": "327bf275-1bb8-48b1-a20d-80030a459ed8",
   "metadata": {},
   "outputs": [
    {
     "data": {
      "text/plain": [
       "525"
      ]
     },
     "execution_count": 29,
     "metadata": {},
     "output_type": "execute_result"
    }
   ],
   "source": [
    "len(tmp.GO_id.unique())"
   ]
  },
  {
   "cell_type": "code",
   "execution_count": 30,
   "id": "07e6e113-3f83-4fb1-9029-b4f735371d9f",
   "metadata": {},
   "outputs": [
    {
     "data": {
      "text/html": [
       "<div>\n",
       "<style scoped>\n",
       "    .dataframe tbody tr th:only-of-type {\n",
       "        vertical-align: middle;\n",
       "    }\n",
       "\n",
       "    .dataframe tbody tr th {\n",
       "        vertical-align: top;\n",
       "    }\n",
       "\n",
       "    .dataframe thead th {\n",
       "        text-align: right;\n",
       "    }\n",
       "</style>\n",
       "<table border=\"1\" class=\"dataframe\">\n",
       "  <thead>\n",
       "    <tr style=\"text-align: right;\">\n",
       "      <th></th>\n",
       "      <th>organism_index</th>\n",
       "      <th>organism</th>\n",
       "      <th>counts</th>\n",
       "    </tr>\n",
       "  </thead>\n",
       "  <tbody>\n",
       "    <tr>\n",
       "      <th>0</th>\n",
       "      <td>0</td>\n",
       "      <td>SYNS9</td>\n",
       "      <td>2126</td>\n",
       "    </tr>\n",
       "    <tr>\n",
       "      <th>1</th>\n",
       "      <td>1</td>\n",
       "      <td>SCHAZ</td>\n",
       "      <td>4805</td>\n",
       "    </tr>\n",
       "    <tr>\n",
       "      <th>2</th>\n",
       "      <td>2</td>\n",
       "      <td>9ENTE</td>\n",
       "      <td>108317</td>\n",
       "    </tr>\n",
       "    <tr>\n",
       "      <th>3</th>\n",
       "      <td>3</td>\n",
       "      <td>APHAT</td>\n",
       "      <td>14121</td>\n",
       "    </tr>\n",
       "    <tr>\n",
       "      <th>4</th>\n",
       "      <td>4</td>\n",
       "      <td>9GAMM</td>\n",
       "      <td>2601336</td>\n",
       "    </tr>\n",
       "  </tbody>\n",
       "</table>\n",
       "</div>"
      ],
      "text/plain": [
       "   organism_index organism   counts\n",
       "0               0    SYNS9     2126\n",
       "1               1    SCHAZ     4805\n",
       "2               2    9ENTE   108317\n",
       "3               3    APHAT    14121\n",
       "4               4    9GAMM  2601336"
      ]
     },
     "execution_count": 30,
     "metadata": {},
     "output_type": "execute_result"
    }
   ],
   "source": [
    "orgdf = metadata_parser.organism_metadata\n",
    "orgdf = orgdf.rename({\"organism_id\":\"organism\"},axis=1)\n",
    "orgdf.head()"
   ]
  },
  {
   "cell_type": "code",
   "execution_count": 31,
   "id": "9035e986-902a-4bde-96a6-9eb914cc0969",
   "metadata": {},
   "outputs": [],
   "source": [
    "tmp = tmp.merge(orgdf, on=\"organism\", how=\"left\")"
   ]
  },
  {
   "cell_type": "code",
   "execution_count": 32,
   "id": "b2556826-631b-4e39-95c4-b28098e6e26b",
   "metadata": {},
   "outputs": [],
   "source": [
    "tmp = tmp.rename({\"counts\":\"organism_counts\", \"count\":\"GO_counts\"},axis=1)"
   ]
  },
  {
   "cell_type": "code",
   "execution_count": 33,
   "id": "ef4a9854-0890-4338-84c2-bee799e43c4d",
   "metadata": {},
   "outputs": [
    {
     "data": {
      "text/html": [
       "<div>\n",
       "<style scoped>\n",
       "    .dataframe tbody tr th:only-of-type {\n",
       "        vertical-align: middle;\n",
       "    }\n",
       "\n",
       "    .dataframe tbody tr th {\n",
       "        vertical-align: top;\n",
       "    }\n",
       "\n",
       "    .dataframe thead th {\n",
       "        text-align: right;\n",
       "    }\n",
       "</style>\n",
       "<table border=\"1\" class=\"dataframe\">\n",
       "  <thead>\n",
       "    <tr style=\"text-align: right;\">\n",
       "      <th></th>\n",
       "      <th>pfam_id</th>\n",
       "      <th>organism</th>\n",
       "      <th>sequence</th>\n",
       "      <th>GO_id</th>\n",
       "      <th>GO_term</th>\n",
       "      <th>GO_level</th>\n",
       "      <th>GO_counts</th>\n",
       "      <th>GO_idx</th>\n",
       "      <th>organism_index</th>\n",
       "      <th>organism_counts</th>\n",
       "    </tr>\n",
       "  </thead>\n",
       "  <tbody>\n",
       "    <tr>\n",
       "      <th>0</th>\n",
       "      <td>PF08450</td>\n",
       "      <td>9PROT</td>\n",
       "      <td>WLEGPAWSSEGRFLVLSDVIQSKALRYIWETGEITQFRPEGYAANG...</td>\n",
       "      <td>NaN</td>\n",
       "      <td>NaN</td>\n",
       "      <td>NaN</td>\n",
       "      <td>NaN</td>\n",
       "      <td>NaN</td>\n",
       "      <td>40</td>\n",
       "      <td>1199947</td>\n",
       "    </tr>\n",
       "    <tr>\n",
       "      <th>1</th>\n",
       "      <td>PF08450</td>\n",
       "      <td>9GAMM</td>\n",
       "      <td>GTEGPIAAPDGSFLFTETRANRITKIAPDNTISTFLENSNGSNGLA...</td>\n",
       "      <td>NaN</td>\n",
       "      <td>NaN</td>\n",
       "      <td>NaN</td>\n",
       "      <td>NaN</td>\n",
       "      <td>NaN</td>\n",
       "      <td>4</td>\n",
       "      <td>2601336</td>\n",
       "    </tr>\n",
       "    <tr>\n",
       "      <th>2</th>\n",
       "      <td>PF08450</td>\n",
       "      <td>9BURK</td>\n",
       "      <td>WSEGPVWFGDGRCLLWSDIPNNRILRWDEESGQVGVFRKPSDNANG...</td>\n",
       "      <td>NaN</td>\n",
       "      <td>NaN</td>\n",
       "      <td>NaN</td>\n",
       "      <td>NaN</td>\n",
       "      <td>NaN</td>\n",
       "      <td>16</td>\n",
       "      <td>1579077</td>\n",
       "    </tr>\n",
       "    <tr>\n",
       "      <th>3</th>\n",
       "      <td>PF08450</td>\n",
       "      <td>9GAMM</td>\n",
       "      <td>VAPAPNGLVWYTAQKAGALGILDPSNGDVRHIKLGQGSAPHGVIQG...</td>\n",
       "      <td>NaN</td>\n",
       "      <td>NaN</td>\n",
       "      <td>NaN</td>\n",
       "      <td>NaN</td>\n",
       "      <td>NaN</td>\n",
       "      <td>4</td>\n",
       "      <td>2601336</td>\n",
       "    </tr>\n",
       "    <tr>\n",
       "      <th>4</th>\n",
       "      <td>PF08450</td>\n",
       "      <td>9ACTN</td>\n",
       "      <td>YPEGVAWDPTRRAFLVGSALKGTLSVIRLDGTVKELAPSIGMVSTL...</td>\n",
       "      <td>NaN</td>\n",
       "      <td>NaN</td>\n",
       "      <td>NaN</td>\n",
       "      <td>NaN</td>\n",
       "      <td>NaN</td>\n",
       "      <td>31</td>\n",
       "      <td>3774426</td>\n",
       "    </tr>\n",
       "  </tbody>\n",
       "</table>\n",
       "</div>"
      ],
      "text/plain": [
       "   pfam_id organism                                           sequence GO_id  \\\n",
       "0  PF08450    9PROT  WLEGPAWSSEGRFLVLSDVIQSKALRYIWETGEITQFRPEGYAANG...   NaN   \n",
       "1  PF08450    9GAMM  GTEGPIAAPDGSFLFTETRANRITKIAPDNTISTFLENSNGSNGLA...   NaN   \n",
       "2  PF08450    9BURK  WSEGPVWFGDGRCLLWSDIPNNRILRWDEESGQVGVFRKPSDNANG...   NaN   \n",
       "3  PF08450    9GAMM  VAPAPNGLVWYTAQKAGALGILDPSNGDVRHIKLGQGSAPHGVIQG...   NaN   \n",
       "4  PF08450    9ACTN  YPEGVAWDPTRRAFLVGSALKGTLSVIRLDGTVKELAPSIGMVSTL...   NaN   \n",
       "\n",
       "  GO_term GO_level  GO_counts  GO_idx  organism_index  organism_counts  \n",
       "0     NaN      NaN        NaN     NaN              40          1199947  \n",
       "1     NaN      NaN        NaN     NaN               4          2601336  \n",
       "2     NaN      NaN        NaN     NaN              16          1579077  \n",
       "3     NaN      NaN        NaN     NaN               4          2601336  \n",
       "4     NaN      NaN        NaN     NaN              31          3774426  "
      ]
     },
     "execution_count": 33,
     "metadata": {},
     "output_type": "execute_result"
    }
   ],
   "source": [
    "tmp.head()"
   ]
  },
  {
   "cell_type": "code",
   "execution_count": 34,
   "id": "40122f5a-9b82-4736-8984-b0e192594482",
   "metadata": {},
   "outputs": [
    {
     "data": {
      "text/plain": [
       "2565"
      ]
     },
     "execution_count": 34,
     "metadata": {},
     "output_type": "execute_result"
    }
   ],
   "source": [
    "len(tmp.organism_counts.unique())"
   ]
  },
  {
   "cell_type": "markdown",
   "id": "4fba5269-0bbf-4664-8b7b-63c4e1e18928",
   "metadata": {},
   "source": [
    "## Clean-up"
   ]
  },
  {
   "cell_type": "code",
   "execution_count": 35,
   "id": "a53a7e4b-7f99-41ed-98cc-41e737f41627",
   "metadata": {},
   "outputs": [
    {
     "name": "stderr",
     "output_type": "stream",
     "text": [
      "/tmp/ipykernel_2977828/2821481273.py:1: FutureWarning: ChainedAssignmentError: behaviour will change in pandas 3.0!\n",
      "You are setting values through chained assignment. Currently this works in certain cases, but when using Copy-on-Write (which will become the default behaviour in pandas 3.0) this will never work to update the original DataFrame or Series, because the intermediate object on which we are setting values will behave as a copy.\n",
      "A typical example is when you are setting values in a column of a DataFrame, like:\n",
      "\n",
      "df[\"col\"][row_indexer] = value\n",
      "\n",
      "Use `df.loc[row_indexer, \"col\"] = values` instead, to perform the assignment in a single step and ensure this keeps updating the original `df`.\n",
      "\n",
      "See the caveats in the documentation: https://pandas.pydata.org/pandas-docs/stable/user_guide/indexing.html#returning-a-view-versus-a-copy\n",
      "\n",
      "  tmp['GO_idx'][tmp.GO_idx.isna()] = NUM_FUNCTION_CLASSES\n",
      "/tmp/ipykernel_2977828/2821481273.py:1: SettingWithCopyWarning: \n",
      "A value is trying to be set on a copy of a slice from a DataFrame\n",
      "\n",
      "See the caveats in the documentation: https://pandas.pydata.org/pandas-docs/stable/user_guide/indexing.html#returning-a-view-versus-a-copy\n",
      "  tmp['GO_idx'][tmp.GO_idx.isna()] = NUM_FUNCTION_CLASSES\n"
     ]
    }
   ],
   "source": [
    "tmp['GO_idx'][tmp.GO_idx.isna()] = NUM_FUNCTION_CLASSES"
   ]
  },
  {
   "cell_type": "code",
   "execution_count": 36,
   "id": "a710e6ce-1cbd-4ab3-9700-c86ecc584aa2",
   "metadata": {},
   "outputs": [],
   "source": [
    "tmp['GO_idx'] = tmp.GO_idx.astype(int)\n",
    "tmp['GO_id'] = tmp['GO_id'].fillna(\"\")\n",
    "tmp['GO_term'] = tmp['GO_term'].fillna(\"\")\n",
    "tmp['GO_level'] = tmp['GO_level'].fillna(\"\")\n",
    "tmp['seq_len'] = tmp.sequence.str.len()"
   ]
  },
  {
   "cell_type": "code",
   "execution_count": 47,
   "id": "70bef0bf-9a9d-4033-af7e-2479ddecf660",
   "metadata": {},
   "outputs": [
    {
     "data": {
      "text/html": [
       "<div>\n",
       "<style scoped>\n",
       "    .dataframe tbody tr th:only-of-type {\n",
       "        vertical-align: middle;\n",
       "    }\n",
       "\n",
       "    .dataframe tbody tr th {\n",
       "        vertical-align: top;\n",
       "    }\n",
       "\n",
       "    .dataframe thead th {\n",
       "        text-align: right;\n",
       "    }\n",
       "</style>\n",
       "<table border=\"1\" class=\"dataframe\">\n",
       "  <thead>\n",
       "    <tr style=\"text-align: right;\">\n",
       "      <th></th>\n",
       "      <th>pfam_id</th>\n",
       "      <th>organism</th>\n",
       "      <th>sequence</th>\n",
       "      <th>GO_id</th>\n",
       "      <th>GO_term</th>\n",
       "      <th>GO_level</th>\n",
       "      <th>GO_counts</th>\n",
       "      <th>GO_idx</th>\n",
       "      <th>organism_index</th>\n",
       "      <th>organism_counts</th>\n",
       "      <th>seq_len</th>\n",
       "    </tr>\n",
       "  </thead>\n",
       "  <tbody>\n",
       "    <tr>\n",
       "      <th>0</th>\n",
       "      <td>PF08450</td>\n",
       "      <td>9PROT</td>\n",
       "      <td>WLEGPAWSSEGRFLVLSDVIQSKALRYIWETGEITQFRPEGYAANG...</td>\n",
       "      <td></td>\n",
       "      <td></td>\n",
       "      <td></td>\n",
       "      <td>NaN</td>\n",
       "      <td>2219</td>\n",
       "      <td>40</td>\n",
       "      <td>1199947</td>\n",
       "      <td>293</td>\n",
       "    </tr>\n",
       "    <tr>\n",
       "      <th>1</th>\n",
       "      <td>PF08450</td>\n",
       "      <td>9GAMM</td>\n",
       "      <td>GTEGPIAAPDGSFLFTETRANRITKIAPDNTISTFLENSNGSNGLA...</td>\n",
       "      <td></td>\n",
       "      <td></td>\n",
       "      <td></td>\n",
       "      <td>NaN</td>\n",
       "      <td>2219</td>\n",
       "      <td>4</td>\n",
       "      <td>2601336</td>\n",
       "      <td>252</td>\n",
       "    </tr>\n",
       "    <tr>\n",
       "      <th>2</th>\n",
       "      <td>PF08450</td>\n",
       "      <td>9BURK</td>\n",
       "      <td>WSEGPVWFGDGRCLLWSDIPNNRILRWDEESGQVGVFRKPSDNANG...</td>\n",
       "      <td></td>\n",
       "      <td></td>\n",
       "      <td></td>\n",
       "      <td>NaN</td>\n",
       "      <td>2219</td>\n",
       "      <td>16</td>\n",
       "      <td>1579077</td>\n",
       "      <td>259</td>\n",
       "    </tr>\n",
       "    <tr>\n",
       "      <th>3</th>\n",
       "      <td>PF08450</td>\n",
       "      <td>9GAMM</td>\n",
       "      <td>VAPAPNGLVWYTAQKAGALGILDPSNGDVRHIKLGQGSAPHGVIQG...</td>\n",
       "      <td></td>\n",
       "      <td></td>\n",
       "      <td></td>\n",
       "      <td>NaN</td>\n",
       "      <td>2219</td>\n",
       "      <td>4</td>\n",
       "      <td>2601336</td>\n",
       "      <td>216</td>\n",
       "    </tr>\n",
       "    <tr>\n",
       "      <th>4</th>\n",
       "      <td>PF08450</td>\n",
       "      <td>9ACTN</td>\n",
       "      <td>YPEGVAWDPTRRAFLVGSALKGTLSVIRLDGTVKELAPSIGMVSTL...</td>\n",
       "      <td></td>\n",
       "      <td></td>\n",
       "      <td></td>\n",
       "      <td>NaN</td>\n",
       "      <td>2219</td>\n",
       "      <td>31</td>\n",
       "      <td>3774426</td>\n",
       "      <td>211</td>\n",
       "    </tr>\n",
       "  </tbody>\n",
       "</table>\n",
       "</div>"
      ],
      "text/plain": [
       "   pfam_id organism                                           sequence GO_id  \\\n",
       "0  PF08450    9PROT  WLEGPAWSSEGRFLVLSDVIQSKALRYIWETGEITQFRPEGYAANG...         \n",
       "1  PF08450    9GAMM  GTEGPIAAPDGSFLFTETRANRITKIAPDNTISTFLENSNGSNGLA...         \n",
       "2  PF08450    9BURK  WSEGPVWFGDGRCLLWSDIPNNRILRWDEESGQVGVFRKPSDNANG...         \n",
       "3  PF08450    9GAMM  VAPAPNGLVWYTAQKAGALGILDPSNGDVRHIKLGQGSAPHGVIQG...         \n",
       "4  PF08450    9ACTN  YPEGVAWDPTRRAFLVGSALKGTLSVIRLDGTVKELAPSIGMVSTL...         \n",
       "\n",
       "  GO_term GO_level  GO_counts  GO_idx  organism_index  organism_counts  \\\n",
       "0                         NaN    2219              40          1199947   \n",
       "1                         NaN    2219               4          2601336   \n",
       "2                         NaN    2219              16          1579077   \n",
       "3                         NaN    2219               4          2601336   \n",
       "4                         NaN    2219              31          3774426   \n",
       "\n",
       "   seq_len  \n",
       "0      293  \n",
       "1      252  \n",
       "2      259  \n",
       "3      216  \n",
       "4      211  "
      ]
     },
     "execution_count": 47,
     "metadata": {},
     "output_type": "execute_result"
    }
   ],
   "source": [
    "tmp.head()"
   ]
  },
  {
   "cell_type": "code",
   "execution_count": 45,
   "id": "bf3294b0-a30c-4891-be57-a3f7823ce1e8",
   "metadata": {},
   "outputs": [
    {
     "data": {
      "text/plain": [
       "<Axes: >"
      ]
     },
     "execution_count": 45,
     "metadata": {},
     "output_type": "execute_result"
    },
    {
     "data": {
      "image/png": "[encoded data removed]",
      "text/plain": [
       "<Figure size 640x480 with 1 Axes>"
      ]
     },
     "metadata": {},
     "output_type": "display_data"
    }
   ],
   "source": [
    "tmp.GO_idx.hist(bins=100)"
   ]
  },
  {
   "cell_type": "code",
   "execution_count": 46,
   "id": "3fa93ffc-faa0-4841-bdcf-affbbd30f6d1",
   "metadata": {},
   "outputs": [
    {
     "data": {
      "text/plain": [
       "<Axes: >"
      ]
     },
     "execution_count": 46,
     "metadata": {},
     "output_type": "execute_result"
    },
    {
     "data": {
      "image/png": "[encoded data removed]",
      "text/plain": [
       "<Figure size 640x480 with 1 Axes>"
      ]
     },
     "metadata": {},
     "output_type": "display_data"
    }
   ],
   "source": [
    "tmp.organism_index.hist(bins=100)"
   ]
  },
  {
   "cell_type": "code",
   "execution_count": null,
   "id": "4b9ccc61-9b5f-4d3a-ba4b-852e3f1d4238",
   "metadata": {},
   "outputs": [],
   "source": []
  },
  {
   "cell_type": "code",
   "execution_count": 48,
   "id": "a8d10229-b48a-4075-85f8-be0e5a1627fd",
   "metadata": {},
   "outputs": [],
   "source": [
    "# outpath = \"/data/lux70/data/pfam/val.parquet\"\n",
    "# tmp.to_parquet(outpath)"
   ]
  },
  {
   "cell_type": "code",
   "execution_count": 98,
   "id": "975d3031-327e-4c1d-a61e-4ed26d1fed84",
   "metadata": {},
   "outputs": [],
   "source": [
    "values, counts = np.unique(tmp2.GO_term, return_counts=True)"
   ]
  },
  {
   "cell_type": "code",
   "execution_count": 109,
   "id": "b1bec61b-801c-4c5d-844c-e5e389e814fc",
   "metadata": {},
   "outputs": [],
   "source": [
    "tmp3 = pd.DataFrame(\n",
    "    {\n",
    "        \"GO_term\": values,\n",
    "        \"counts\": counts\n",
    "    }\n",
    ")"
   ]
  },
  {
   "cell_type": "code",
   "execution_count": 112,
   "id": "22d9fc0a-60c4-4b51-a19d-075437287471",
   "metadata": {},
   "outputs": [],
   "source": [
    "tmp3 = tmp3.sort_values(by=\"counts\")"
   ]
  },
  {
   "cell_type": "code",
   "execution_count": 114,
   "id": "8e379863-2a21-4828-8eb1-a3a25f6d88d0",
   "metadata": {},
   "outputs": [],
   "source": [
    "tmp3.to_csv(\"/data/lux70/data/pfam/val_go_counts.csv\", index=False)"
   ]
  },
  {
   "cell_type": "code",
   "execution_count": 175,
   "id": "8a0d7745-1bae-40f1-b858-660f6c366110",
   "metadata": {},
   "outputs": [
    {
     "data": {
      "text/plain": [
       "(10852, 10)"
      ]
     },
     "execution_count": 175,
     "metadata": {},
     "output_type": "execute_result"
    }
   ],
   "source": [
    "tmp2[tmp2.GO_term == \"metal ion transport\"].shape"
   ]
  },
  {
   "cell_type": "code",
   "execution_count": 176,
   "id": "45918359-79e0-4b9e-93db-552f2ddf454e",
   "metadata": {},
   "outputs": [],
   "source": [
    "import cheap"
   ]
  },
  {
   "cell_type": "code",
   "execution_count": 180,
   "id": "e2775125-41f7-409b-9445-9420dc5245a7",
   "metadata": {},
   "outputs": [
    {
     "name": "stderr",
     "output_type": "stream",
     "text": [
      "/homefs/home/lux70/code/cheap-proteins/src/cheap/pretrained.py:31: FutureWarning: You are using `torch.load` with `weights_only=False` (the current default value), which uses the default pickle module implicitly. It is possible to construct malicious pickle data which will execute arbitrary code during unpickling (See https://github.com/pytorch/pytorch/blob/main/SECURITY.md#untrusted-models for more details). In a future release, the default value for `weights_only` will be flipped to `True`. This limits the functions that could be executed during unpickling. Arbitrary objects will no longer be allowed to be loaded via this mode unless they are explicitly allowlisted by the user via `torch.serialization.add_safe_globals`. We recommend you start setting `weights_only=True` for any use case where you don't have full control of the loaded file. Please open an issue on GitHub for any issues related to this experimental feature.\n",
      "  ckpt = torch.load(checkpoint_fpath)\n"
     ]
    },
    {
     "name": "stdout",
     "output_type": "stream",
     "text": [
      "Using tanh layer at bottleneck...\n",
      "Finished loading HPCT model with shorten factor 2 and 32 channel dimensions.\n"
     ]
    }
   ],
   "source": [
    "from cheap.pretrained import load_pretrained_model\n",
    "from cheap.pretrained import load_model_from_id\n",
    "from cheap.pretrained import CHEAP_pfam_shorten_2_dim_32\n",
    "\n",
    "hourglass = CHEAP_pfam_shorten_2_dim_32()"
   ]
  },
  {
   "cell_type": "code",
   "execution_count": 181,
   "id": "c385d140-69ce-44b9-b2c6-599a31d8e350",
   "metadata": {},
   "outputs": [],
   "source": [
    "from cheap.esmfold import esmfold_v1_embed_only"
   ]
  },
  {
   "cell_type": "code",
   "execution_count": 182,
   "id": "d8b5fcce-514e-46cd-a351-891c1e9cc5fd",
   "metadata": {},
   "outputs": [
    {
     "name": "stdout",
     "output_type": "stream",
     "text": [
      "Creating ESMFold embedding only model...\n",
      "ESMFold embedding only model created in 32.45 seconds\n"
     ]
    }
   ],
   "source": [
    "esmfold_embed_only = esmfold_v1_embed_only()"
   ]
  },
  {
   "cell_type": "code",
   "execution_count": 184,
   "id": "8bf01234-0fd3-4e16-b5b0-4e6eba241f82",
   "metadata": {},
   "outputs": [],
   "source": [
    "from cheap.utils import LatentScaler\n",
    "\n",
    "scaler = LatentScaler()"
   ]
  },
  {
   "cell_type": "markdown",
   "id": "0d1cb2a9-0f19-438e-86d6-05a09b0f5601",
   "metadata": {},
   "source": [
    "# Read"
   ]
  },
  {
   "cell_type": "code",
   "execution_count": 11,
   "id": "f4afb143-6a1f-46c7-ac60-6278aa5e9247",
   "metadata": {},
   "outputs": [],
   "source": [
    "import pandas as pd\n",
    "\n",
    "df = pd.read_parquet(\"/data/lux70/data/pfam/val_shard_info.parquet\")"
   ]
  },
  {
   "cell_type": "code",
   "execution_count": 12,
   "id": "e68f3db2-ebe6-4d9c-a21a-a51b42e05aea",
   "metadata": {},
   "outputs": [
    {
     "data": {
      "text/plain": [
       "(93753102, 11)"
      ]
     },
     "execution_count": 12,
     "metadata": {},
     "output_type": "execute_result"
    }
   ],
   "source": [
    "df.shape"
   ]
  },
  {
   "cell_type": "code",
   "execution_count": 13,
   "id": "4d0f4d4d-4148-499b-af15-688a7313ba4d",
   "metadata": {},
   "outputs": [
    {
     "data": {
      "text/html": [
       "<div>\n",
       "<style scoped>\n",
       "    .dataframe tbody tr th:only-of-type {\n",
       "        vertical-align: middle;\n",
       "    }\n",
       "\n",
       "    .dataframe tbody tr th {\n",
       "        vertical-align: top;\n",
       "    }\n",
       "\n",
       "    .dataframe thead th {\n",
       "        text-align: right;\n",
       "    }\n",
       "</style>\n",
       "<table border=\"1\" class=\"dataframe\">\n",
       "  <thead>\n",
       "    <tr style=\"text-align: right;\">\n",
       "      <th></th>\n",
       "      <th>GO_idx</th>\n",
       "      <th>organism_index</th>\n",
       "      <th>local_paths</th>\n",
       "      <th>sample_ids</th>\n",
       "      <th>organism_id</th>\n",
       "      <th>organism_counts</th>\n",
       "      <th>pfam_id</th>\n",
       "      <th>GO_id</th>\n",
       "      <th>GO_term</th>\n",
       "      <th>GO_level</th>\n",
       "      <th>GO_counts</th>\n",
       "    </tr>\n",
       "  </thead>\n",
       "  <tbody>\n",
       "    <tr>\n",
       "      <th>0</th>\n",
       "      <td>2130</td>\n",
       "      <td>472</td>\n",
       "      <td>/data/lux70/data/pfam/compressed/j1v1wv6w/val/...</td>\n",
       "      <td>sample001462</td>\n",
       "      <td>9ENTR</td>\n",
       "      <td>85933</td>\n",
       "      <td>PF15894</td>\n",
       "      <td>GO:0046325</td>\n",
       "      <td>negative regulation of glucose import</td>\n",
       "      <td>process</td>\n",
       "      <td>1</td>\n",
       "    </tr>\n",
       "    <tr>\n",
       "      <th>1</th>\n",
       "      <td>2130</td>\n",
       "      <td>215</td>\n",
       "      <td>/data/lux70/data/pfam/compressed/j1v1wv6w/val/...</td>\n",
       "      <td>sample001463</td>\n",
       "      <td>SERS3</td>\n",
       "      <td>4700</td>\n",
       "      <td>PF15894</td>\n",
       "      <td>GO:0046325</td>\n",
       "      <td>negative regulation of glucose import</td>\n",
       "      <td>process</td>\n",
       "      <td>1</td>\n",
       "    </tr>\n",
       "    <tr>\n",
       "      <th>2</th>\n",
       "      <td>2130</td>\n",
       "      <td>472</td>\n",
       "      <td>/data/lux70/data/pfam/compressed/j1v1wv6w/val/...</td>\n",
       "      <td>sample001464</td>\n",
       "      <td>9ENTR</td>\n",
       "      <td>85933</td>\n",
       "      <td>PF15894</td>\n",
       "      <td>GO:0046325</td>\n",
       "      <td>negative regulation of glucose import</td>\n",
       "      <td>process</td>\n",
       "      <td>1</td>\n",
       "    </tr>\n",
       "    <tr>\n",
       "      <th>3</th>\n",
       "      <td>2130</td>\n",
       "      <td>472</td>\n",
       "      <td>/data/lux70/data/pfam/compressed/j1v1wv6w/val/...</td>\n",
       "      <td>sample001465</td>\n",
       "      <td>9ENTR</td>\n",
       "      <td>85933</td>\n",
       "      <td>PF15894</td>\n",
       "      <td>GO:0046325</td>\n",
       "      <td>negative regulation of glucose import</td>\n",
       "      <td>process</td>\n",
       "      <td>1</td>\n",
       "    </tr>\n",
       "    <tr>\n",
       "      <th>4</th>\n",
       "      <td>2130</td>\n",
       "      <td>4</td>\n",
       "      <td>/data/lux70/data/pfam/compressed/j1v1wv6w/val/...</td>\n",
       "      <td>sample001466</td>\n",
       "      <td>9GAMM</td>\n",
       "      <td>2601336</td>\n",
       "      <td>PF15894</td>\n",
       "      <td>GO:0046325</td>\n",
       "      <td>negative regulation of glucose import</td>\n",
       "      <td>process</td>\n",
       "      <td>1</td>\n",
       "    </tr>\n",
       "  </tbody>\n",
       "</table>\n",
       "</div>"
      ],
      "text/plain": [
       "   GO_idx  organism_index                                        local_paths  \\\n",
       "0    2130             472  /data/lux70/data/pfam/compressed/j1v1wv6w/val/...   \n",
       "1    2130             215  /data/lux70/data/pfam/compressed/j1v1wv6w/val/...   \n",
       "2    2130             472  /data/lux70/data/pfam/compressed/j1v1wv6w/val/...   \n",
       "3    2130             472  /data/lux70/data/pfam/compressed/j1v1wv6w/val/...   \n",
       "4    2130               4  /data/lux70/data/pfam/compressed/j1v1wv6w/val/...   \n",
       "\n",
       "     sample_ids organism_id  organism_counts  pfam_id       GO_id  \\\n",
       "0  sample001462       9ENTR            85933  PF15894  GO:0046325   \n",
       "1  sample001463       SERS3             4700  PF15894  GO:0046325   \n",
       "2  sample001464       9ENTR            85933  PF15894  GO:0046325   \n",
       "3  sample001465       9ENTR            85933  PF15894  GO:0046325   \n",
       "4  sample001466       9GAMM          2601336  PF15894  GO:0046325   \n",
       "\n",
       "                                 GO_term GO_level  GO_counts  \n",
       "0  negative regulation of glucose import  process          1  \n",
       "1  negative regulation of glucose import  process          1  \n",
       "2  negative regulation of glucose import  process          1  \n",
       "3  negative regulation of glucose import  process          1  \n",
       "4  negative regulation of glucose import  process          1  "
      ]
     },
     "execution_count": 13,
     "metadata": {},
     "output_type": "execute_result"
    }
   ],
   "source": [
    "df.head()"
   ]
  },
  {
   "cell_type": "code",
   "execution_count": null,
   "id": "184325b8-10cc-45dd-8f47-ccc3d7edf329",
   "metadata": {},
   "outputs": [],
   "source": [
    "df"
   ]
  }
 ],
 "metadata": {
  "kernelspec": {
   "display_name": "Python (plaid-train)",
   "language": "python",
   "name": "plaid-train"
  },
  "language_info": {
   "codemirror_mode": {
    "name": "ipython",
    "version": 3
   },
   "file_extension": ".py",
   "mimetype": "text/x-python",
   "name": "python",
   "nbconvert_exporter": "python",
   "pygments_lexer": "ipython3",
   "version": "3.10.14"
  }
 },
 "nbformat": 4,
 "nbformat_minor": 5
}
