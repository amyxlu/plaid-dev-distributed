{
 "cells": [
  {
   "cell_type": "code",
   "execution_count": 1,
   "id": "cb6d1ac3-78de-4c69-ab12-e5995ad67e0b",
   "metadata": {},
   "outputs": [],
   "source": [
    "%load_ext autoreload\n",
    "%autoreload 2"
   ]
  },
  {
   "cell_type": "code",
   "execution_count": 53,
   "id": "c498aefc-229c-4cb9-999f-aac86d722df4",
   "metadata": {},
   "outputs": [
    {
     "ename": "ImportError",
     "evalue": "cannot import name 'UncompressContinuousLatent' from 'plaid.compression' (unknown location)",
     "output_type": "error",
     "traceback": [
      "\u001b[0;31m---------------------------------------------------------------------------\u001b[0m",
      "\u001b[0;31mImportError\u001b[0m                               Traceback (most recent call last)",
      "Cell \u001b[0;32mIn[53], line 3\u001b[0m\n\u001b[1;32m      1\u001b[0m \u001b[38;5;28;01mfrom\u001b[39;00m \u001b[38;5;21;01mplaid\u001b[39;00m\u001b[38;5;21;01m.\u001b[39;00m\u001b[38;5;21;01mdiffusion\u001b[39;00m \u001b[38;5;28;01mimport\u001b[39;00m GaussianDiffusion\n\u001b[1;32m      2\u001b[0m \u001b[38;5;28;01mfrom\u001b[39;00m \u001b[38;5;21;01mplaid\u001b[39;00m\u001b[38;5;21;01m.\u001b[39;00m\u001b[38;5;21;01mdenoisers\u001b[39;00m \u001b[38;5;28;01mimport\u001b[39;00m SimpleDiT\n\u001b[0;32m----> 3\u001b[0m \u001b[38;5;28;01mfrom\u001b[39;00m \u001b[38;5;21;01mplaid\u001b[39;00m\u001b[38;5;21;01m.\u001b[39;00m\u001b[38;5;21;01mcompression\u001b[39;00m \u001b[38;5;28;01mimport\u001b[39;00m UncompressContinuousLatent\n\u001b[1;32m      4\u001b[0m \u001b[38;5;28;01mimport\u001b[39;00m \u001b[38;5;21;01mtorch\u001b[39;00m\n\u001b[1;32m      6\u001b[0m \u001b[38;5;66;03m# 5x21u86p\u001b[39;00m\n",
      "\u001b[0;31mImportError\u001b[0m: cannot import name 'UncompressContinuousLatent' from 'plaid.compression' (unknown location)"
     ]
    }
   ],
   "source": [
    "from plaid.diffusion import GaussianDiffusion\n",
    "from plaid.denoisers import SimpleDiT\n",
    "from plaid.compression import UncompressContinuousLatent\n",
    "import torch\n",
    "\n",
    "# 5x21u86p\n",
    "\n",
    "ckpt_path = \"/homefs/home/lux70/storage/plaid/checkpoints/diffusion/5x21u86p/epoch=5687-step=1200000.ckpt\"\n",
    "ckpt = torch.load(ckpt_path)\n",
    "\n",
    "\n",
    "\n",
    "denoiser = SimpleDiT(\n",
    "    depth=5,\n",
    "    hidden_size=1152,\n",
    "    input_dim=8,\n",
    "    max_seq_len=512,\n",
    "    mlp_ratio=4,\n",
    "    num_heads=18,\n",
    "    use_self_conditioning=False\n",
    ")\n",
    "# diffusion = GaussianDiffusion(denoiser)\n",
    "# diffusion = GaussianDiffusion.load_from_checkpoint(ckpt_path, model=denoiser)\n",
    "\n",
    "state_dict = ckpt['state_dict']\n",
    "new_sd = {}\n",
    "for k, v in state_dict.items():\n",
    "    new_sd[k.lstrip(\"model._orig_mod.\")] = v\n",
    "\n",
    "denoiser.load_state_dict(new_sd)"
   ]
  },
  {
   "cell_type": "code",
   "execution_count": 54,
   "id": "98566f03-d0e5-4eba-ac44-2bdc50ca594d",
   "metadata": {},
   "outputs": [
    {
     "name": "stdout",
     "output_type": "stream",
     "text": [
      "using quantizer tanh\n"
     ]
    }
   ],
   "source": [
    "from plaid.compression.uncompress import UncompressContinuousLatent\n",
    "uncompressor = UncompressContinuousLatent(\"jzlv54wl\")"
   ]
  },
  {
   "cell_type": "code",
   "execution_count": 55,
   "id": "c93be783-5a6c-49d7-8a6f-95652d80231c",
   "metadata": {},
   "outputs": [],
   "source": [
    "diffusion=GaussianDiffusion(\n",
    "    model=denoiser,\n",
    "    sampling_timesteps=1000,\n",
    "    sampling_seq_len=512,\n",
    "    uncompressor = uncompressor\n",
    ")"
   ]
  },
  {
   "cell_type": "code",
   "execution_count": 67,
   "id": "558df63b-938f-44b8-bed6-863abc33ad72",
   "metadata": {},
   "outputs": [],
   "source": [
    "from plaid.callbacks import SampleCallback\n",
    "denoiser = denoiser.to(device)\n",
    "diffusion = diffusion.to(device)\n",
    "\n",
    "callback = SampleCallback(\n",
    "    diffusion=diffusion,\n",
    "    save_generated_structures=True,\n",
    "    batch_size=4,\n",
    "    num_recycles=2\n",
    ")\n"
   ]
  },
  {
   "cell_type": "code",
   "execution_count": 44,
   "id": "a5855a4b-cdef-40ee-83c0-8363fce62f27",
   "metadata": {},
   "outputs": [
    {
     "name": "stderr",
     "output_type": "stream",
     "text": [
      "  0%|                                                                                                 | 0/1 [00:00<?, ?it/s]"
     ]
    },
    {
     "data": {
      "application/vnd.jupyter.widget-view+json": {
       "model_id": "eb800b15b86444c1a169250483899f40",
       "version_major": 2,
       "version_minor": 0
      },
      "text/plain": [
       "  0%|          | 0/1000 [00:00<?, ?it/s]"
      ]
     },
     "metadata": {},
     "output_type": "display_data"
    },
    {
     "name": "stderr",
     "output_type": "stream",
     "text": [
      "100%|████████████████████████████████████████████████████████████████████████████████████████| 1/1 [05:59<00:00, 359.22s/it]\n"
     ]
    }
   ],
   "source": [
    "device = torch.device(\"cuda\")\n",
    "x, log_dict = callback.sample_compressed_latent((64, 512, 8))"
   ]
  },
  {
   "cell_type": "code",
   "execution_count": 56,
   "id": "46272c3c-815c-489c-a1a0-88cfb103084e",
   "metadata": {},
   "outputs": [
    {
     "name": "stdout",
     "output_type": "stream",
     "text": [
      "torch.Size([64, 512, 8])\n",
      "torch.Size([64, 512, 1024])\n"
     ]
    }
   ],
   "source": [
    "latent = diffusion.process_x_to_latent(x)  # (N, L, C_comp) -> (N, L, C_lat)\n",
    "print(x.shape)\n",
    "print(latent.shape)"
   ]
  },
  {
   "cell_type": "code",
   "execution_count": 57,
   "id": "4aef48fd-b3b1-48d0-b00c-ab5acf915635",
   "metadata": {},
   "outputs": [
    {
     "name": "stderr",
     "output_type": "stream",
     "text": [
      "Special tokens have been added in the vocabulary, make sure the associated word embeddings are fine-tuned or trained.\n"
     ]
    },
    {
     "name": "stdout",
     "output_type": "stream",
     "text": [
      "Mean perplexity: 21.749\n"
     ]
    }
   ],
   "source": [
    "seq_str, log_dict = callback.construct_sequence(latent, device)"
   ]
  },
  {
   "cell_type": "code",
   "execution_count": null,
   "id": "3faf4195-a65c-4b1c-99b9-8bf06fc931a2",
   "metadata": {},
   "outputs": [
    {
     "name": "stdout",
     "output_type": "stream",
     "text": [
      "loading esmfold model...\n",
      "Creating ESMFold...\n",
      "ESMFold model loaded in 0.52 minutes.\n",
      "ESMFold model created in 32.01 seconds.\n"
     ]
    },
    {
     "name": "stderr",
     "output_type": "stream",
     "text": [
      "(Generating structure):  50%|████████████████████████████████                                | 8/16 [07:50<07:50, 58.84s/it]"
     ]
    }
   ],
   "source": [
    "pdb_strs, metrics, log_dict = callback.construct_structure(latent[:256], seq_str[:256], device)\n",
    "    # if log_to_wandb:\n",
    "    #     logger.log(log_dict)\n",
    "\n",
    "    # if self.save_generated_structures:\n",
    "    #     all_pdb_paths = self.save_structures_to_disk(pdb_strs, pl_module.global_step)\n",
    "\n",
    "    #     if not self.n_structures_to_log is None:\n",
    "    #         df = pd.DataFrame(metrics)\n",
    "    #         df['pdb_path'] = [str(x) for x in all_pdb_paths]\n",
    "    #         df = df.sort_values(by=\"plddt\", ascending=False) \n",
    "    #         df = df.iloc[:self.n_structures_to_log, :]\n",
    "    #         df['protein'] = df['pdb_path'].map(lambda x: wandb.Molecule(str(x)))\n",
    "    #         wandb.log({\"sampled_proteins\": wandb.Table(dataframe=df)})\n"
   ]
  },
  {
   "cell_type": "code",
   "execution_count": 74,
   "id": "b70ab890-ba5c-4ef0-a6f2-1b3d764753ea",
   "metadata": {},
   "outputs": [],
   "source": [
    "from plaid.utils import write_pdb_to_disk\n",
    "\n",
    "for i, pdbstr in enumerate(pdb_strs):\n",
    "    write_pdb_to_disk(pdbstr, f\"/homefs/home/lux70/storage/plaid/artifacts/notebook_samples/5x21u86p/{i}.pdb\")"
   ]
  },
  {
   "cell_type": "code",
   "execution_count": null,
   "id": "5e09addf-e48c-42ee-a1dc-4a0679521d24",
   "metadata": {},
   "outputs": [],
   "source": []
  }
 ],
 "metadata": {
  "kernelspec": {
   "display_name": "Python (py310)",
   "language": "python",
   "name": "py310"
  },
  "language_info": {
   "codemirror_mode": {
    "name": "ipython",
    "version": 3
   },
   "file_extension": ".py",
   "mimetype": "text/x-python",
   "name": "python",
   "nbconvert_exporter": "python",
   "pygments_lexer": "ipython3",
   "version": "3.10.14"
  }
 },
 "nbformat": 4,
 "nbformat_minor": 5
}
