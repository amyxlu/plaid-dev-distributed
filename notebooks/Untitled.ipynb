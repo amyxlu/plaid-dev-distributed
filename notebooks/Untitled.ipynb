{
 "cells": [
  {
   "cell_type": "code",
   "execution_count": 1,
   "id": "1c25df97-e34d-47c7-ad88-e4dca43f89de",
   "metadata": {},
   "outputs": [],
   "source": [
    "%load_ext autoreload\n",
    "%autoreload 2"
   ]
  },
  {
   "cell_type": "code",
   "execution_count": 3,
   "id": "02c70b53-7236-4f6d-91ca-eea553e61045",
   "metadata": {},
   "outputs": [],
   "source": [
    "from plaid.compression.hourglass_vq import HourglassVQLightningModule"
   ]
  },
  {
   "cell_type": "code",
   "execution_count": 4,
   "id": "1599bf76-e235-4b18-a0f3-89d3f0e15f33",
   "metadata": {},
   "outputs": [
    {
     "name": "stdout",
     "output_type": "stream",
     "text": [
      "using quantizer tanh\n"
     ]
    }
   ],
   "source": [
    "model = HourglassVQLightningModule.load_from_checkpoint(\n",
    "    \"/homefs/home/lux70/storage/plaid/checkpoints/hourglass_vq/x1zoydo3/last.ckpt\"\n",
    ")"
   ]
  },
  {
   "cell_type": "code",
   "execution_count": null,
   "id": "226caa63-5726-4f8a-ab6a-3380de18574e",
   "metadata": {},
   "outputs": [],
   "source": [
    "device = torch.device(\"c"
   ]
  },
  {
   "cell_type": "code",
   "execution_count": null,
   "id": "059b80a6-f5ca-4742-92c8-7cbdcaa0bb24",
   "metadata": {},
   "outputs": [],
   "source": [
    "from plaid."
   ]
  }
 ],
 "metadata": {
  "kernelspec": {
   "display_name": "Python (py310)",
   "language": "python",
   "name": "py310"
  },
  "language_info": {
   "codemirror_mode": {
    "name": "ipython",
    "version": 3
   },
   "file_extension": ".py",
   "mimetype": "text/x-python",
   "name": "python",
   "nbconvert_exporter": "python",
   "pygments_lexer": "ipython3",
   "version": "3.10.14"
  }
 },
 "nbformat": 4,
 "nbformat_minor": 5
}
