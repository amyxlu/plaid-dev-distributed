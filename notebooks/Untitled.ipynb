{
 "cells": [
  {
   "cell_type": "code",
   "execution_count": 1,
   "id": "133f7a40-aac3-4121-a054-165cec4bb609",
   "metadata": {
    "execution": {
     "iopub.execute_input": "2024-09-20T03:33:55.261342Z",
     "iopub.status.busy": "2024-09-20T03:33:55.260877Z",
     "iopub.status.idle": "2024-09-20T03:33:55.945123Z",
     "shell.execute_reply": "2024-09-20T03:33:55.944450Z",
     "shell.execute_reply.started": "2024-09-20T03:33:55.261316Z"
    }
   },
   "outputs": [],
   "source": [
    "import pandas as pd\n"
   ]
  },
  {
   "cell_type": "code",
   "execution_count": 14,
   "id": "809d2348-961f-4a46-b443-a6834035a6e5",
   "metadata": {
    "execution": {
     "iopub.execute_input": "2024-09-20T03:38:17.714029Z",
     "iopub.status.busy": "2024-09-20T03:38:17.713364Z",
     "iopub.status.idle": "2024-09-20T03:38:17.726163Z",
     "shell.execute_reply": "2024-09-20T03:38:17.725625Z",
     "shell.execute_reply.started": "2024-09-20T03:38:17.713995Z"
    }
   },
   "outputs": [
    {
     "data": {
      "text/html": [
       "<div>\n",
       "<style scoped>\n",
       "    .dataframe tbody tr th:only-of-type {\n",
       "        vertical-align: middle;\n",
       "    }\n",
       "\n",
       "    .dataframe tbody tr th {\n",
       "        vertical-align: top;\n",
       "    }\n",
       "\n",
       "    .dataframe thead th {\n",
       "        text-align: right;\n",
       "    }\n",
       "</style>\n",
       "<table border=\"1\" class=\"dataframe\">\n",
       "  <thead>\n",
       "    <tr style=\"text-align: right;\">\n",
       "      <th></th>\n",
       "      <th>organism_index</th>\n",
       "      <th>organism_id</th>\n",
       "      <th>counts</th>\n",
       "    </tr>\n",
       "  </thead>\n",
       "  <tbody>\n",
       "    <tr>\n",
       "      <th>0</th>\n",
       "      <td>0</td>\n",
       "      <td>SYNS9</td>\n",
       "      <td>2126</td>\n",
       "    </tr>\n",
       "    <tr>\n",
       "      <th>1</th>\n",
       "      <td>1</td>\n",
       "      <td>SCHAZ</td>\n",
       "      <td>4805</td>\n",
       "    </tr>\n",
       "    <tr>\n",
       "      <th>2</th>\n",
       "      <td>2</td>\n",
       "      <td>9ENTE</td>\n",
       "      <td>108317</td>\n",
       "    </tr>\n",
       "    <tr>\n",
       "      <th>3</th>\n",
       "      <td>3</td>\n",
       "      <td>APHAT</td>\n",
       "      <td>14121</td>\n",
       "    </tr>\n",
       "    <tr>\n",
       "      <th>4</th>\n",
       "      <td>4</td>\n",
       "      <td>9GAMM</td>\n",
       "      <td>2601336</td>\n",
       "    </tr>\n",
       "    <tr>\n",
       "      <th>...</th>\n",
       "      <td>...</td>\n",
       "      <td>...</td>\n",
       "      <td>...</td>\n",
       "    </tr>\n",
       "    <tr>\n",
       "      <th>3612</th>\n",
       "      <td>3612</td>\n",
       "      <td>SCSV</td>\n",
       "      <td>1</td>\n",
       "    </tr>\n",
       "    <tr>\n",
       "      <th>3613</th>\n",
       "      <td>3613</td>\n",
       "      <td>DHBV1</td>\n",
       "      <td>1</td>\n",
       "    </tr>\n",
       "    <tr>\n",
       "      <th>3614</th>\n",
       "      <td>3614</td>\n",
       "      <td>CTFVL</td>\n",
       "      <td>1</td>\n",
       "    </tr>\n",
       "    <tr>\n",
       "      <th>3615</th>\n",
       "      <td>3615</td>\n",
       "      <td>MYRV9</td>\n",
       "      <td>1</td>\n",
       "    </tr>\n",
       "    <tr>\n",
       "      <th>3616</th>\n",
       "      <td>3616</td>\n",
       "      <td>PVCV2</td>\n",
       "      <td>1</td>\n",
       "    </tr>\n",
       "  </tbody>\n",
       "</table>\n",
       "<p>3617 rows × 3 columns</p>\n",
       "</div>"
      ],
      "text/plain": [
       "      organism_index organism_id   counts\n",
       "0                  0       SYNS9     2126\n",
       "1                  1       SCHAZ     4805\n",
       "2                  2       9ENTE   108317\n",
       "3                  3       APHAT    14121\n",
       "4                  4       9GAMM  2601336\n",
       "...              ...         ...      ...\n",
       "3612            3612        SCSV        1\n",
       "3613            3613       DHBV1        1\n",
       "3614            3614       CTFVL        1\n",
       "3615            3615       MYRV9        1\n",
       "3616            3616       PVCV2        1\n",
       "\n",
       "[3617 rows x 3 columns]"
      ]
     },
     "execution_count": 14,
     "metadata": {},
     "output_type": "execute_result"
    }
   ],
   "source": [
    "df = pd.read_csv(\"/data/lux70/data/pfam/organism_counts.csv\")\n",
    "df"
   ]
  },
  {
   "cell_type": "code",
   "execution_count": 15,
   "id": "d827ce52-1949-465f-817d-d075b18f17b5",
   "metadata": {
    "execution": {
     "iopub.execute_input": "2024-09-20T03:38:18.300472Z",
     "iopub.status.busy": "2024-09-20T03:38:18.300099Z",
     "iopub.status.idle": "2024-09-20T03:38:18.303719Z",
     "shell.execute_reply": "2024-09-20T03:38:18.303148Z",
     "shell.execute_reply.started": "2024-09-20T03:38:18.300444Z"
    }
   },
   "outputs": [],
   "source": [
    "organisms = [\"BOVIN\",\n",
    "\"CHICK\",\n",
    "\"ECOLI\",\n",
    "\"HORSE\",\n",
    "\"HUMAN\",\n",
    "\"MAIZE\",\n",
    "\"MOUSE\",\n",
    "\"PEA\",\n",
    "\"PIG\",\n",
    "\"RABIT\",\n",
    "\"RAT\",\n",
    "\"SHEEP\",\n",
    "\"SOYBN\",\n",
    "\"TOBAC\",\n",
    "\"WHEAT\",\n",
    "\"YEAST\"]"
   ]
  },
  {
   "cell_type": "code",
   "execution_count": 19,
   "id": "7e935910-d7c0-4613-8974-c2d43e37e951",
   "metadata": {
    "execution": {
     "iopub.execute_input": "2024-09-20T03:39:32.056693Z",
     "iopub.status.busy": "2024-09-20T03:39:32.056319Z",
     "iopub.status.idle": "2024-09-20T03:39:32.071866Z",
     "shell.execute_reply": "2024-09-20T03:39:32.071203Z",
     "shell.execute_reply.started": "2024-09-20T03:39:32.056664Z"
    }
   },
   "outputs": [
    {
     "name": "stdout",
     "output_type": "stream",
     "text": [
      "BOVIN 758\n",
      "CHICK 1411\n",
      "ECOLI 2436\n",
      "HORSE 158\n",
      "HUMAN 1326\n",
      "MAIZE 1294\n",
      "MOUSE 300\n",
      "Error!!! PEA\n",
      "PIG 799\n",
      "RABIT 1265\n",
      "RAT 716\n",
      "SHEEP 333\n",
      "SOYBN 1357\n",
      "TOBAC 1388\n",
      "WHEAT 1452\n",
      "YEAST 818\n"
     ]
    }
   ],
   "source": [
    "interest = []\n",
    "\n",
    "for org in organisms:\n",
    "    try:\n",
    "        idx  = df[df.organism_id == org].organism_index.values[0]\n",
    "        print(org, idx)\n",
    "        interest.append(idx)\n",
    "    except IndexError:\n",
    "        print(\"Error!!!\", org)\n",
    "        continue"
   ]
  },
  {
   "cell_type": "code",
   "execution_count": 26,
   "id": "5b3666fb-4440-43dc-a15f-288e43aea6c6",
   "metadata": {
    "execution": {
     "iopub.execute_input": "2024-09-20T04:53:52.868728Z",
     "iopub.status.busy": "2024-09-20T04:53:52.868364Z",
     "iopub.status.idle": "2024-09-20T04:53:52.872624Z",
     "shell.execute_reply": "2024-09-20T04:53:52.871957Z",
     "shell.execute_reply.started": "2024-09-20T04:53:52.868702Z"
    },
    "scrolled": true
   },
   "outputs": [
    {
     "name": "stdout",
     "output_type": "stream",
     "text": [
      "758,1411,2436,158,1326,1294,300,799,1265,716,333,1357,1388,1452,818\n"
     ]
    }
   ],
   "source": [
    "print(\",\".join([str(i) for i in interest]))"
   ]
  },
  {
   "cell_type": "code",
   "execution_count": 23,
   "id": "7c7a0db3-410e-409a-ba53-917b7c436f9b",
   "metadata": {
    "execution": {
     "iopub.execute_input": "2024-09-20T04:38:26.709381Z",
     "iopub.status.busy": "2024-09-20T04:38:26.708985Z",
     "iopub.status.idle": "2024-09-20T04:38:26.717709Z",
     "shell.execute_reply": "2024-09-20T04:38:26.717174Z",
     "shell.execute_reply.started": "2024-09-20T04:38:26.709355Z"
    }
   },
   "outputs": [
    {
     "data": {
      "text/html": [
       "<div>\n",
       "<style scoped>\n",
       "    .dataframe tbody tr th:only-of-type {\n",
       "        vertical-align: middle;\n",
       "    }\n",
       "\n",
       "    .dataframe tbody tr th {\n",
       "        vertical-align: top;\n",
       "    }\n",
       "\n",
       "    .dataframe thead th {\n",
       "        text-align: right;\n",
       "    }\n",
       "</style>\n",
       "<table border=\"1\" class=\"dataframe\">\n",
       "  <thead>\n",
       "    <tr style=\"text-align: right;\">\n",
       "      <th></th>\n",
       "      <th>organism_index</th>\n",
       "      <th>organism_id</th>\n",
       "      <th>counts</th>\n",
       "    </tr>\n",
       "  </thead>\n",
       "  <tbody>\n",
       "    <tr>\n",
       "      <th>158</th>\n",
       "      <td>158</td>\n",
       "      <td>HORSE</td>\n",
       "      <td>8869</td>\n",
       "    </tr>\n",
       "    <tr>\n",
       "      <th>300</th>\n",
       "      <td>300</td>\n",
       "      <td>MOUSE</td>\n",
       "      <td>9925</td>\n",
       "    </tr>\n",
       "    <tr>\n",
       "      <th>333</th>\n",
       "      <td>333</td>\n",
       "      <td>SHEEP</td>\n",
       "      <td>5570</td>\n",
       "    </tr>\n",
       "    <tr>\n",
       "      <th>716</th>\n",
       "      <td>716</td>\n",
       "      <td>RAT</td>\n",
       "      <td>14312</td>\n",
       "    </tr>\n",
       "    <tr>\n",
       "      <th>758</th>\n",
       "      <td>758</td>\n",
       "      <td>BOVIN</td>\n",
       "      <td>3641</td>\n",
       "    </tr>\n",
       "    <tr>\n",
       "      <th>799</th>\n",
       "      <td>799</td>\n",
       "      <td>PIG</td>\n",
       "      <td>10980</td>\n",
       "    </tr>\n",
       "    <tr>\n",
       "      <th>818</th>\n",
       "      <td>818</td>\n",
       "      <td>YEAST</td>\n",
       "      <td>4749</td>\n",
       "    </tr>\n",
       "    <tr>\n",
       "      <th>1265</th>\n",
       "      <td>1265</td>\n",
       "      <td>RABIT</td>\n",
       "      <td>14631</td>\n",
       "    </tr>\n",
       "    <tr>\n",
       "      <th>1294</th>\n",
       "      <td>1294</td>\n",
       "      <td>MAIZE</td>\n",
       "      <td>18677</td>\n",
       "    </tr>\n",
       "    <tr>\n",
       "      <th>1326</th>\n",
       "      <td>1326</td>\n",
       "      <td>HUMAN</td>\n",
       "      <td>5670</td>\n",
       "    </tr>\n",
       "    <tr>\n",
       "      <th>1357</th>\n",
       "      <td>1357</td>\n",
       "      <td>SOYBN</td>\n",
       "      <td>19846</td>\n",
       "    </tr>\n",
       "    <tr>\n",
       "      <th>1388</th>\n",
       "      <td>1388</td>\n",
       "      <td>TOBAC</td>\n",
       "      <td>22375</td>\n",
       "    </tr>\n",
       "    <tr>\n",
       "      <th>1411</th>\n",
       "      <td>1411</td>\n",
       "      <td>CHICK</td>\n",
       "      <td>6916</td>\n",
       "    </tr>\n",
       "    <tr>\n",
       "      <th>1452</th>\n",
       "      <td>1452</td>\n",
       "      <td>WHEAT</td>\n",
       "      <td>35054</td>\n",
       "    </tr>\n",
       "    <tr>\n",
       "      <th>2436</th>\n",
       "      <td>2436</td>\n",
       "      <td>ECOLI</td>\n",
       "      <td>1348</td>\n",
       "    </tr>\n",
       "  </tbody>\n",
       "</table>\n",
       "</div>"
      ],
      "text/plain": [
       "      organism_index organism_id  counts\n",
       "158              158       HORSE    8869\n",
       "300              300       MOUSE    9925\n",
       "333              333       SHEEP    5570\n",
       "716              716         RAT   14312\n",
       "758              758       BOVIN    3641\n",
       "799              799         PIG   10980\n",
       "818              818       YEAST    4749\n",
       "1265            1265       RABIT   14631\n",
       "1294            1294       MAIZE   18677\n",
       "1326            1326       HUMAN    5670\n",
       "1357            1357       SOYBN   19846\n",
       "1388            1388       TOBAC   22375\n",
       "1411            1411       CHICK    6916\n",
       "1452            1452       WHEAT   35054\n",
       "2436            2436       ECOLI    1348"
      ]
     },
     "execution_count": 23,
     "metadata": {},
     "output_type": "execute_result"
    }
   ],
   "source": [
    "df[df.organism_index.isin(interest)]"
   ]
  },
  {
   "cell_type": "code",
   "execution_count": null,
   "id": "35ea32f8-7cbc-4ba9-845e-899896d0e98a",
   "metadata": {},
   "outputs": [],
   "source": []
  }
 ],
 "metadata": {
  "kernelspec": {
   "display_name": "Python (omegafold)",
   "language": "python",
   "name": "omegafold"
  },
  "language_info": {
   "codemirror_mode": {
    "name": "ipython",
    "version": 3
   },
   "file_extension": ".py",
   "mimetype": "text/x-python",
   "name": "python",
   "nbconvert_exporter": "python",
   "pygments_lexer": "ipython3",
   "version": "3.9.19"
  }
 },
 "nbformat": 4,
 "nbformat_minor": 5
}
