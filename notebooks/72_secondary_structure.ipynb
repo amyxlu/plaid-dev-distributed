{
 "cells": [
  {
   "cell_type": "code",
   "execution_count": 1,
   "id": "f62909bc-0464-46ba-b1ea-57b59d842a0a",
   "metadata": {
    "execution": {
     "iopub.execute_input": "2024-10-25T15:44:38.252368Z",
     "iopub.status.busy": "2024-10-25T15:44:38.252012Z",
     "iopub.status.idle": "2024-10-25T15:44:38.502089Z",
     "shell.execute_reply": "2024-10-25T15:44:38.501519Z",
     "shell.execute_reply.started": "2024-10-25T15:44:38.252343Z"
    }
   },
   "outputs": [],
   "source": [
    "%load_ext autoreload\n",
    "%autoreload 2"
   ]
  },
  {
   "cell_type": "code",
   "execution_count": 2,
   "id": "f0c6413b-801e-4be7-8f74-1f992143b265",
   "metadata": {
    "execution": {
     "iopub.execute_input": "2024-10-25T15:45:21.477342Z",
     "iopub.status.busy": "2024-10-25T15:45:21.476995Z",
     "iopub.status.idle": "2024-10-25T15:45:29.397708Z",
     "shell.execute_reply": "2024-10-25T15:45:29.397126Z",
     "shell.execute_reply.started": "2024-10-25T15:45:21.477319Z"
    }
   },
   "outputs": [],
   "source": [
    "import glob\n",
    "import uuid\n",
    "import shutil\n",
    "import os\n",
    "from pathlib import Path\n",
    "\n",
    "import numpy as np\n",
    "import pandas as pd\n",
    "\n",
    "from plaid.evaluation._structure_metrics import calculate_rmsd\n",
    "from plaid.evaluation._tmalign import run_tmalign\n",
    "from plaid.evaluation._perplexity import RITAPerplexity\n",
    "\n",
    "from plaid.utils._misc import (\n",
    "    extract_avg_b_factor_per_residue,\n",
    "    parse_sequence_from_structure,\n",
    ")\n",
    "from plaid.utils._protein_properties import calculate_df_protein_property_mp"
   ]
  },
  {
   "cell_type": "code",
   "execution_count": 9,
   "id": "77acf821-b641-4d08-b49d-730f1de5cb90",
   "metadata": {
    "execution": {
     "iopub.execute_input": "2024-10-25T15:52:13.579692Z",
     "iopub.status.busy": "2024-10-25T15:52:13.579335Z",
     "iopub.status.idle": "2024-10-25T15:52:14.953516Z",
     "shell.execute_reply": "2024-10-25T15:52:14.952987Z",
     "shell.execute_reply.started": "2024-10-25T15:52:13.579669Z"
    }
   },
   "outputs": [],
   "source": [
    "sample_dir = Path(\"/data/lux70/plaid/artifacts/samples/5j007z42/val_dist/f989_o1326_l144_s3\")"
   ]
  },
  {
   "cell_type": "code",
   "execution_count": 12,
   "id": "44268b55-012f-402b-8291-3704985fe657",
   "metadata": {
    "execution": {
     "iopub.execute_input": "2024-10-25T15:52:46.731838Z",
     "iopub.status.busy": "2024-10-25T15:52:46.731504Z",
     "iopub.status.idle": "2024-10-25T15:52:47.991817Z",
     "shell.execute_reply": "2024-10-25T15:52:47.991261Z",
     "shell.execute_reply.started": "2024-10-25T15:52:46.731816Z"
    }
   },
   "outputs": [
    {
     "name": "stdout",
     "output_type": "stream",
     "text": [
      "Parsing sequences from structures\n"
     ]
    }
   ],
   "source": [
    "import warnings\n",
    "\n",
    "warnings.filterwarnings(\"ignore\")\n",
    "\n",
    "# Gather paths; sort should guarantee that samples are in the same order\n",
    "generated_pdb_paths = glob.glob(str(sample_dir / \"generated/structures/*pdb\"))\n",
    "inverse_generated_pdb_paths = glob.glob(\n",
    "    str(sample_dir / \"inverse_generated/structures/*pdb\")\n",
    ")\n",
    "\n",
    "generated_pdb_paths.sort()\n",
    "inverse_generated_pdb_paths.sort()\n",
    "assert (\n",
    "    len(generated_pdb_paths) == len(inverse_generated_pdb_paths)\n",
    ")\n",
    "\n",
    "# maybe run self-consistency (if phantom generated structures were generated)\n",
    "phantom_generated_pdb_paths = glob.glob(\n",
    "    str(sample_dir / \"phantom_generated/structures/*pdb\")\n",
    ")\n",
    "run_self_consistency = len(phantom_generated_pdb_paths) > 0\n",
    "\n",
    "if run_self_consistency:\n",
    "    phantom_generated_pdb_paths.sort()\n",
    "    assert (\n",
    "        len(generated_pdb_paths) == len(phantom_generated_pdb_paths)\n",
    "    )\n",
    "\n",
    "\n",
    "# Initialize dataframe\n",
    "d = {\n",
    "    \"pdb_paths\": [],\n",
    "    \"sequences\": [],\n",
    "    \"inverse_generated_pdb_paths\": [],\n",
    "}\n",
    "\n",
    "\n",
    "\n",
    "if run_self_consistency:\n",
    "    d[\"phantom_generated_pdb_paths\"] = []\n",
    "\n",
    "# parse sequence directly from structure to make sure there are no mismatches\n",
    "print(\"Parsing sequences from structures\")\n",
    "for i, p in enumerate(generated_pdb_paths):\n",
    "    d[\"pdb_paths\"].append(p)\n",
    "    d[\"inverse_generated_pdb_paths\"].append(inverse_generated_pdb_paths[i])\n",
    "\n",
    "    if run_self_consistency:\n",
    "        d[\"phantom_generated_pdb_paths\"].append(phantom_generated_pdb_paths[i])\n",
    "\n",
    "    with open(p, \"r\") as f:\n",
    "        pdbstr = f.read()\n",
    "\n",
    "    sequence = parse_sequence_from_structure(pdbstr)\n",
    "    d[\"sequences\"].append(sequence)\n"
   ]
  },
  {
   "cell_type": "code",
   "execution_count": 15,
   "id": "23a39b2e-47e9-4679-8060-5f36b3c783de",
   "metadata": {
    "execution": {
     "iopub.execute_input": "2024-10-25T15:53:26.711816Z",
     "iopub.status.busy": "2024-10-25T15:53:26.711485Z",
     "iopub.status.idle": "2024-10-25T15:53:39.274183Z",
     "shell.execute_reply": "2024-10-25T15:53:39.273436Z",
     "shell.execute_reply.started": "2024-10-25T15:53:26.711794Z"
    }
   },
   "outputs": [
    {
     "name": "stdout",
     "output_type": "stream",
     "text": [
      "Calculating average pLDDT\n",
      "Calculating ccRMSD\n",
      "Calculating cctm\n",
      "Calculating scRMSD\n",
      "Calculating sctm\n"
     ]
    }
   ],
   "source": [
    "df = pd.DataFrame(d)\n",
    "df.head()\n",
    "\n",
    "print(\"Calculating average pLDDT\")\n",
    "df[\"plddt\"] = df.apply(\n",
    "    lambda row: np.mean(extract_avg_b_factor_per_residue(row[\"pdb_paths\"])),\n",
    "    axis=1,\n",
    ")\n",
    "\n",
    "print(\"Calculating ccRMSD\")\n",
    "df[\"ccrmsd\"] = df.apply(\n",
    "    lambda row: calculate_rmsd(\n",
    "        row[\"pdb_paths\"], row[\"inverse_generated_pdb_paths\"]\n",
    "    ),\n",
    "    axis=1,\n",
    ")\n",
    "\n",
    "print(\"Calculating cctm\")\n",
    "df[\"cctm\"] = df.apply(\n",
    "    lambda row: run_tmalign(\n",
    "        row[\"pdb_paths\"], row[\"inverse_generated_pdb_paths\"]\n",
    "    ),\n",
    "    axis=1,\n",
    ")\n",
    "\n",
    "df[\"designable\"] = df.ccrmsd < 2\n",
    "\n",
    "# run self-consistency metrics, if applicable:\n",
    "if run_self_consistency:\n",
    "    print(\"Calculating scRMSD\")\n",
    "    df[\"scrmsd\"] = df.apply(\n",
    "        lambda row: calculate_rmsd(\n",
    "            row[\"pdb_paths\"], row[\"phantom_generated_pdb_paths\"]\n",
    "        ),\n",
    "        axis=1,\n",
    "    )\n",
    "\n",
    "    print(\"Calculating sctm\")\n",
    "    df[\"sctm\"] = df.apply(\n",
    "        lambda row: run_tmalign(\n",
    "            row[\"pdb_paths\"], row[\"phantom_generated_pdb_paths\"]\n",
    "        ),\n",
    "        axis=1,\n",
    "    )\n"
   ]
  },
  {
   "cell_type": "code",
   "execution_count": 16,
   "id": "73e52a66-b759-491c-82d5-0cebb4010b1a",
   "metadata": {
    "execution": {
     "iopub.execute_input": "2024-10-25T15:54:24.066268Z",
     "iopub.status.busy": "2024-10-25T15:54:24.065909Z",
     "iopub.status.idle": "2024-10-25T15:54:24.544669Z",
     "shell.execute_reply": "2024-10-25T15:54:24.544126Z",
     "shell.execute_reply.started": "2024-10-25T15:54:24.066247Z"
    }
   },
   "outputs": [],
   "source": [
    "from plaid.utils import pdb_path_to_biotite_atom_array\n",
    "from biotite.application.dssp import DsspApp\n",
    "\n",
    "structure_atom_arrays = [pdb_path_to_biotite_atom_array(p) for p in df.pdb_paths]"
   ]
  },
  {
   "cell_type": "code",
   "execution_count": 18,
   "id": "fcebf0d7-475a-4044-9902-3f17ad679adf",
   "metadata": {
    "execution": {
     "iopub.execute_input": "2024-10-25T15:57:03.466122Z",
     "iopub.status.busy": "2024-10-25T15:57:03.465759Z",
     "iopub.status.idle": "2024-10-25T15:57:05.020989Z",
     "shell.execute_reply": "2024-10-25T15:57:05.020444Z",
     "shell.execute_reply.started": "2024-10-25T15:57:03.466098Z"
    }
   },
   "outputs": [],
   "source": []
  },
  {
   "cell_type": "code",
   "execution_count": 21,
   "id": "66bd9c26-3db7-43bd-a603-48c97a52ac7c",
   "metadata": {
    "execution": {
     "iopub.execute_input": "2024-10-25T16:04:22.861348Z",
     "iopub.status.busy": "2024-10-25T16:04:22.860958Z",
     "iopub.status.idle": "2024-10-25T16:04:24.267231Z",
     "shell.execute_reply": "2024-10-25T16:04:24.266628Z",
     "shell.execute_reply.started": "2024-10-25T16:04:22.861324Z"
    }
   },
   "outputs": [],
   "source": [
    "import os\n",
    "import shutil\n",
    "from pathlib import Path\n",
    "from typing import Optional\n"
   ]
  },
  {
   "cell_type": "code",
   "execution_count": 23,
   "id": "b13e2a7a-c9aa-4fa6-a00b-89ab4ec90c26",
   "metadata": {
    "execution": {
     "iopub.execute_input": "2024-10-25T16:04:58.491005Z",
     "iopub.status.busy": "2024-10-25T16:04:58.490543Z",
     "iopub.status.idle": "2024-10-25T16:04:58.543932Z",
     "shell.execute_reply": "2024-10-25T16:04:58.543367Z",
     "shell.execute_reply.started": "2024-10-25T16:04:58.490979Z"
    }
   },
   "outputs": [],
   "source": [
    "DSSP_PATH = get_mkdssp_path()"
   ]
  },
  {
   "cell_type": "code",
   "execution_count": 27,
   "id": "5649edf7-f50e-414b-816e-121f5ea8a3cd",
   "metadata": {
    "execution": {
     "iopub.execute_input": "2024-10-25T16:06:18.663688Z",
     "iopub.status.busy": "2024-10-25T16:06:18.663326Z",
     "iopub.status.idle": "2024-10-25T16:06:18.855722Z",
     "shell.execute_reply": "2024-10-25T16:06:18.854947Z",
     "shell.execute_reply.started": "2024-10-25T16:06:18.663665Z"
    }
   },
   "outputs": [],
   "source": [
    "out = DsspApp.annotate_sse(structure_atom_arrays[0], DSSP_PATH)"
   ]
  },
  {
   "cell_type": "code",
   "execution_count": 29,
   "id": "8a6408d1-4dc2-48a8-a5e1-e7edbdd2ab6b",
   "metadata": {
    "execution": {
     "iopub.execute_input": "2024-10-25T16:06:50.350006Z",
     "iopub.status.busy": "2024-10-25T16:06:50.349648Z",
     "iopub.status.idle": "2024-10-25T16:06:51.745025Z",
     "shell.execute_reply": "2024-10-25T16:06:51.744438Z",
     "shell.execute_reply.started": "2024-10-25T16:06:50.349983Z"
    }
   },
   "outputs": [],
   "source": [
    "dssp_annotation = \"\".join(out)"
   ]
  },
  {
   "cell_type": "code",
   "execution_count": 30,
   "id": "319b0ce8-0118-4168-845d-afdd0676a852",
   "metadata": {
    "execution": {
     "iopub.execute_input": "2024-10-25T16:06:52.851329Z",
     "iopub.status.busy": "2024-10-25T16:06:52.850974Z",
     "iopub.status.idle": "2024-10-25T16:06:52.895952Z",
     "shell.execute_reply": "2024-10-25T16:06:52.895435Z",
     "shell.execute_reply.started": "2024-10-25T16:06:52.851307Z"
    }
   },
   "outputs": [
    {
     "data": {
      "text/plain": [
       "'CCCCCCCCCCCCCCCTTTGGGGSCCSSCCCCCCCCCCCCSSCCCCCCCCCCSSCCGGGSTTTTTTHHHHHHGGGCCCHHHHHHHHHHHHHHHHGGGSCSCCCCCHHHHHHHHHHHCGGGGCCCCCCCCCCCSCSCCCCCCCCCCCCCCCCCCCCCCCCCCCCCCCCCCCCCCCCCCCCCCCCCCCCCCCCCCCCCCCCCCSCCCCCTTTTSCCCCCCCCCCSCGGGSCSCCCSSCCCCSCCCTTSCSSCCCCCCCCCTTHHHHHTTCCCCCHHHHHHHHHTTTCCCCC'"
      ]
     },
     "execution_count": 30,
     "metadata": {},
     "output_type": "execute_result"
    }
   ],
   "source": [
    "dssp_annotation"
   ]
  },
  {
   "cell_type": "code",
   "execution_count": 34,
   "id": "935be856-05e0-4e1c-a9a7-5709a841cf74",
   "metadata": {
    "execution": {
     "iopub.execute_input": "2024-10-25T16:29:10.688683Z",
     "iopub.status.busy": "2024-10-25T16:29:10.688190Z",
     "iopub.status.idle": "2024-10-25T16:29:10.733137Z",
     "shell.execute_reply": "2024-10-25T16:29:10.732565Z",
     "shell.execute_reply.started": "2024-10-25T16:29:10.688658Z"
    }
   },
   "outputs": [],
   "source": [
    "alpha_percentage = np.array([x == \"C\" for x in dssp_annotation]).sum() / len(dssp_annotation)\n",
    "beta_percentage = np.array([x == \"E\" for x in dssp_annotation]).sum() / len(dssp_annotation)"
   ]
  },
  {
   "cell_type": "code",
   "execution_count": 35,
   "id": "8e5c4153-6ec8-45a4-87f8-c768438d27f2",
   "metadata": {
    "execution": {
     "iopub.execute_input": "2024-10-25T16:29:11.452058Z",
     "iopub.status.busy": "2024-10-25T16:29:11.451478Z",
     "iopub.status.idle": "2024-10-25T16:29:11.497051Z",
     "shell.execute_reply": "2024-10-25T16:29:11.496402Z",
     "shell.execute_reply.started": "2024-10-25T16:29:11.452032Z"
    }
   },
   "outputs": [
    {
     "name": "stdout",
     "output_type": "stream",
     "text": [
      "0.6111111111111112 0.6111111111111112\n"
     ]
    }
   ],
   "source": [
    "print(coil_percentage, alpha_percentage)"
   ]
  },
  {
   "cell_type": "code",
   "execution_count": null,
   "id": "97fed6bd-367b-4482-b2a4-669f764abcf2",
   "metadata": {},
   "outputs": [],
   "source": [
    "beta_percentage = [c == \"E\" metrics[\"sample_pct_beta\"] = mean([c == \"E\" for c in dssp_sample])\n",
    "metrics[\"sample_pct_alpha\"] = mean([c == \"H\" for c in dssp_sample])"
   ]
  },
  {
   "cell_type": "code",
   "execution_count": null,
   "id": "c95b3286-f773-4a2f-9a12-5a1cf43a3855",
   "metadata": {},
   "outputs": [],
   "source": []
  }
 ],
 "metadata": {
  "kernelspec": {
   "display_name": "Python (omegafold)",
   "language": "python",
   "name": "omegafold"
  },
  "language_info": {
   "codemirror_mode": {
    "name": "ipython",
    "version": 3
   },
   "file_extension": ".py",
   "mimetype": "text/x-python",
   "name": "python",
   "nbconvert_exporter": "python",
   "pygments_lexer": "ipython3",
   "version": "3.9.12"
  }
 },
 "nbformat": 4,
 "nbformat_minor": 5
}
