{
 "cells": [
  {
   "cell_type": "code",
   "execution_count": 3,
   "id": "b5b547ea-b163-40ad-ab38-f9f0ebcc3241",
   "metadata": {
    "execution": {
     "iopub.execute_input": "2024-10-17T16:21:12.874382Z",
     "iopub.status.busy": "2024-10-17T16:21:12.874055Z",
     "iopub.status.idle": "2024-10-17T16:21:12.884610Z",
     "shell.execute_reply": "2024-10-17T16:21:12.884137Z",
     "shell.execute_reply.started": "2024-10-17T16:21:12.874361Z"
    }
   },
   "outputs": [
    {
     "name": "stdout",
     "output_type": "stream",
     "text": [
      "The autoreload extension is already loaded. To reload it, use:\n",
      "  %reload_ext autoreload\n"
     ]
    }
   ],
   "source": [
    "%load_ext autoreload\n",
    "%autoreload 2"
   ]
  },
  {
   "cell_type": "code",
   "execution_count": 49,
   "id": "16d46863-9d90-40a6-8c4c-1d85213e7eca",
   "metadata": {
    "execution": {
     "iopub.execute_input": "2024-10-17T16:43:55.968776Z",
     "iopub.status.busy": "2024-10-17T16:43:55.968413Z",
     "iopub.status.idle": "2024-10-17T16:43:56.241436Z",
     "shell.execute_reply": "2024-10-17T16:43:56.240951Z",
     "shell.execute_reply.started": "2024-10-17T16:43:55.968754Z"
    }
   },
   "outputs": [
    {
     "data": {
      "text/plain": [
       "263"
      ]
     },
     "execution_count": 49,
     "metadata": {},
     "output_type": "execute_result"
    }
   ],
   "source": [
    "pfam_hmm_path = \"/data/lux70/data/pfam/Pfam-A.hmm.dat\"\n",
    "\n",
    "with open(pfam_hmm_path, \"r\") as f:\n",
    "    pfam_hmm = f.read()\n",
    "\n",
    "def get_pfam_length(pfam_id, full_pfam_hmm_file):\n",
    "    idx = full_pfam_hmm_file.find(pfam_id)\n",
    "    \n",
    "    if idx != -1:\n",
    "        # Extract lines in that neighborhood\n",
    "        subcontent = full_pfam_hmm_file[idx:idx+1000]\n",
    "        \n",
    "        # filter for lines with the length identifier\n",
    "        lines = subcontent.split(\"\\n\")\n",
    "        line = list(filter(lambda line: \"#=GF ML\" in line, lines))[0]\n",
    "    \n",
    "        if \"#=GF ML\" in line:\n",
    "            length = int(line.split()[-1])\n",
    "\n",
    "    return length\n",
    "\n",
    "pfam_id = 'PF00069'  # Replace with your Pfam ID\n",
    "get_pfam_length(pfam_id, pfam_hmm)"
   ]
  },
  {
   "cell_type": "code",
   "execution_count": 50,
   "id": "6fc83cfc-d8ed-4afe-8551-12666b537829",
   "metadata": {
    "execution": {
     "iopub.execute_input": "2024-10-17T23:07:34.056286Z",
     "iopub.status.busy": "2024-10-17T23:07:34.055919Z",
     "iopub.status.idle": "2024-10-17T23:07:42.985082Z",
     "shell.execute_reply": "2024-10-17T23:07:42.984509Z",
     "shell.execute_reply.started": "2024-10-17T23:07:34.056261Z"
    }
   },
   "outputs": [],
   "source": [
    "import pandas as pd\n",
    "df = pd.read_parquet(\"/data/lux70/data/pfam/val.parquet\")"
   ]
  },
  {
   "cell_type": "code",
   "execution_count": 51,
   "id": "1409b510-1bef-4a7c-b172-833caf391a16",
   "metadata": {
    "execution": {
     "iopub.execute_input": "2024-10-17T23:07:42.986591Z",
     "iopub.status.busy": "2024-10-17T23:07:42.986099Z",
     "iopub.status.idle": "2024-10-17T23:07:43.009226Z",
     "shell.execute_reply": "2024-10-17T23:07:43.008764Z",
     "shell.execute_reply.started": "2024-10-17T23:07:42.986570Z"
    }
   },
   "outputs": [
    {
     "data": {
      "text/html": [
       "<div>\n",
       "<style scoped>\n",
       "    .dataframe tbody tr th:only-of-type {\n",
       "        vertical-align: middle;\n",
       "    }\n",
       "\n",
       "    .dataframe tbody tr th {\n",
       "        vertical-align: top;\n",
       "    }\n",
       "\n",
       "    .dataframe thead th {\n",
       "        text-align: right;\n",
       "    }\n",
       "</style>\n",
       "<table border=\"1\" class=\"dataframe\">\n",
       "  <thead>\n",
       "    <tr style=\"text-align: right;\">\n",
       "      <th></th>\n",
       "      <th>pfam_id</th>\n",
       "      <th>organism</th>\n",
       "      <th>sequence</th>\n",
       "      <th>GO_id</th>\n",
       "      <th>GO_term</th>\n",
       "      <th>GO_level</th>\n",
       "      <th>GO_counts</th>\n",
       "      <th>GO_idx</th>\n",
       "      <th>organism_index</th>\n",
       "      <th>organism_counts</th>\n",
       "      <th>seq_len</th>\n",
       "    </tr>\n",
       "  </thead>\n",
       "  <tbody>\n",
       "    <tr>\n",
       "      <th>0</th>\n",
       "      <td>PF08450</td>\n",
       "      <td>9PROT</td>\n",
       "      <td>WLEGPAWSSEGRFLVLSDVIQSKALRYIWETGEITQFRPEGYAANG...</td>\n",
       "      <td></td>\n",
       "      <td></td>\n",
       "      <td></td>\n",
       "      <td>NaN</td>\n",
       "      <td>2219</td>\n",
       "      <td>40</td>\n",
       "      <td>1199947</td>\n",
       "      <td>293</td>\n",
       "    </tr>\n",
       "    <tr>\n",
       "      <th>1</th>\n",
       "      <td>PF08450</td>\n",
       "      <td>9GAMM</td>\n",
       "      <td>GTEGPIAAPDGSFLFTETRANRITKIAPDNTISTFLENSNGSNGLA...</td>\n",
       "      <td></td>\n",
       "      <td></td>\n",
       "      <td></td>\n",
       "      <td>NaN</td>\n",
       "      <td>2219</td>\n",
       "      <td>4</td>\n",
       "      <td>2601336</td>\n",
       "      <td>252</td>\n",
       "    </tr>\n",
       "    <tr>\n",
       "      <th>2</th>\n",
       "      <td>PF08450</td>\n",
       "      <td>9BURK</td>\n",
       "      <td>WSEGPVWFGDGRCLLWSDIPNNRILRWDEESGQVGVFRKPSDNANG...</td>\n",
       "      <td></td>\n",
       "      <td></td>\n",
       "      <td></td>\n",
       "      <td>NaN</td>\n",
       "      <td>2219</td>\n",
       "      <td>16</td>\n",
       "      <td>1579077</td>\n",
       "      <td>259</td>\n",
       "    </tr>\n",
       "    <tr>\n",
       "      <th>3</th>\n",
       "      <td>PF08450</td>\n",
       "      <td>9GAMM</td>\n",
       "      <td>VAPAPNGLVWYTAQKAGALGILDPSNGDVRHIKLGQGSAPHGVIQG...</td>\n",
       "      <td></td>\n",
       "      <td></td>\n",
       "      <td></td>\n",
       "      <td>NaN</td>\n",
       "      <td>2219</td>\n",
       "      <td>4</td>\n",
       "      <td>2601336</td>\n",
       "      <td>216</td>\n",
       "    </tr>\n",
       "    <tr>\n",
       "      <th>4</th>\n",
       "      <td>PF08450</td>\n",
       "      <td>9ACTN</td>\n",
       "      <td>YPEGVAWDPTRRAFLVGSALKGTLSVIRLDGTVKELAPSIGMVSTL...</td>\n",
       "      <td></td>\n",
       "      <td></td>\n",
       "      <td></td>\n",
       "      <td>NaN</td>\n",
       "      <td>2219</td>\n",
       "      <td>31</td>\n",
       "      <td>3774426</td>\n",
       "      <td>211</td>\n",
       "    </tr>\n",
       "  </tbody>\n",
       "</table>\n",
       "</div>"
      ],
      "text/plain": [
       "   pfam_id organism                                           sequence GO_id  \\\n",
       "0  PF08450    9PROT  WLEGPAWSSEGRFLVLSDVIQSKALRYIWETGEITQFRPEGYAANG...         \n",
       "1  PF08450    9GAMM  GTEGPIAAPDGSFLFTETRANRITKIAPDNTISTFLENSNGSNGLA...         \n",
       "2  PF08450    9BURK  WSEGPVWFGDGRCLLWSDIPNNRILRWDEESGQVGVFRKPSDNANG...         \n",
       "3  PF08450    9GAMM  VAPAPNGLVWYTAQKAGALGILDPSNGDVRHIKLGQGSAPHGVIQG...         \n",
       "4  PF08450    9ACTN  YPEGVAWDPTRRAFLVGSALKGTLSVIRLDGTVKELAPSIGMVSTL...         \n",
       "\n",
       "  GO_term GO_level  GO_counts  GO_idx  organism_index  organism_counts  \\\n",
       "0                         NaN    2219              40          1199947   \n",
       "1                         NaN    2219               4          2601336   \n",
       "2                         NaN    2219              16          1579077   \n",
       "3                         NaN    2219               4          2601336   \n",
       "4                         NaN    2219              31          3774426   \n",
       "\n",
       "   seq_len  \n",
       "0      293  \n",
       "1      252  \n",
       "2      259  \n",
       "3      216  \n",
       "4      211  "
      ]
     },
     "execution_count": 51,
     "metadata": {},
     "output_type": "execute_result"
    }
   ],
   "source": [
    "df.head()"
   ]
  },
  {
   "cell_type": "code",
   "execution_count": null,
   "id": "a8b272c2-5d6b-4b33-a6b3-9f98462d1cea",
   "metadata": {},
   "outputs": [],
   "source": []
  }
 ],
 "metadata": {
  "kernelspec": {
   "display_name": "Python (omegafold)",
   "language": "python",
   "name": "omegafold"
  },
  "language_info": {
   "codemirror_mode": {
    "name": "ipython",
    "version": 3
   },
   "file_extension": ".py",
   "mimetype": "text/x-python",
   "name": "python",
   "nbconvert_exporter": "python",
   "pygments_lexer": "ipython3",
   "version": "3.9.12"
  }
 },
 "nbformat": 4,
 "nbformat_minor": 5
}
