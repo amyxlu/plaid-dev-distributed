{
 "cells": [
  {
   "cell_type": "code",
   "execution_count": 1,
   "id": "8be77fb2-2be4-4ef5-bcff-c337ac2e0f22",
   "metadata": {
    "execution": {
     "iopub.execute_input": "2024-09-29T05:50:12.911217Z",
     "iopub.status.busy": "2024-09-29T05:50:12.910872Z",
     "iopub.status.idle": "2024-09-29T05:50:12.928866Z",
     "shell.execute_reply": "2024-09-29T05:50:12.928355Z",
     "shell.execute_reply.started": "2024-09-29T05:50:12.911191Z"
    }
   },
   "outputs": [],
   "source": [
    "%load_ext autoreload\n",
    "%autoreload 2"
   ]
  },
  {
   "cell_type": "code",
   "execution_count": 2,
   "id": "40340dd1-691e-46a9-a7a4-89764ae70232",
   "metadata": {
    "execution": {
     "iopub.execute_input": "2024-09-29T05:50:13.692975Z",
     "iopub.status.busy": "2024-09-29T05:50:13.692486Z",
     "iopub.status.idle": "2024-09-29T05:50:24.063640Z",
     "shell.execute_reply": "2024-09-29T05:50:24.063020Z",
     "shell.execute_reply.started": "2024-09-29T05:50:13.692951Z"
    }
   },
   "outputs": [
    {
     "name": "stderr",
     "output_type": "stream",
     "text": [
      "/homefs/home/lux70/code/plaid/src/plaid/denoisers/modules/_attention.py:12: FutureWarning: xformers.components is deprecated and is not maintained anymore. It might be removed in a future version of xFormers \n",
      "  from xformers.components.attention import ScaledDotProduct\n"
     ]
    }
   ],
   "source": [
    "from pathlib import Path\n",
    "from omegaconf import OmegaConf\n",
    "from plaid.datasets import NUM_ORGANISM_CLASSES, NUM_FUNCTION_CLASSES\n",
    "import hydra\n",
    "from plaid.pipeline import SampleLatent\n",
    "import torch\n",
    "import pandas as pd\n",
    "import matplotlib.pyplot as plt\n",
    "import seaborn as sns\n",
    "\n",
    "device = torch.device(\"cuda\")"
   ]
  },
  {
   "cell_type": "code",
   "execution_count": 3,
   "id": "5c467851-728c-4b7f-8a2b-eb45bb34ba0f",
   "metadata": {
    "execution": {
     "iopub.execute_input": "2024-09-29T05:50:24.065268Z",
     "iopub.status.busy": "2024-09-29T05:50:24.064798Z",
     "iopub.status.idle": "2024-09-29T05:50:24.121625Z",
     "shell.execute_reply": "2024-09-29T05:50:24.121073Z",
     "shell.execute_reply.started": "2024-09-29T05:50:24.065242Z"
    }
   },
   "outputs": [
    {
     "data": {
      "text/plain": [
       "[547, 192, 169, 29, 38, 229, 86, 1907, 162, 1790, 1386, 1854, 641, 827, 1907]"
      ]
     },
     "execution_count": 3,
     "metadata": {},
     "output_type": "execute_result"
    }
   ],
   "source": [
    "with open(\"/homefs/home/lux70/code/plaid/best_idxs.txt\", \"r\") as f:\n",
    "    lines = f.readlines()\n",
    "lines = [int(x.rstrip(\"\\n\")) for x in lines]\n",
    "lines"
   ]
  },
  {
   "cell_type": "code",
   "execution_count": 4,
   "id": "8def68d1-8d3f-47d6-8925-05af4150a1dc",
   "metadata": {
    "execution": {
     "iopub.execute_input": "2024-09-29T05:50:24.122585Z",
     "iopub.status.busy": "2024-09-29T05:50:24.122389Z",
     "iopub.status.idle": "2024-09-29T05:50:24.194051Z",
     "shell.execute_reply": "2024-09-29T05:50:24.193519Z",
     "shell.execute_reply.started": "2024-09-29T05:50:24.122567Z"
    }
   },
   "outputs": [
    {
     "data": {
      "text/html": [
       "<div>\n",
       "<style scoped>\n",
       "    .dataframe tbody tr th:only-of-type {\n",
       "        vertical-align: middle;\n",
       "    }\n",
       "\n",
       "    .dataframe tbody tr th {\n",
       "        vertical-align: top;\n",
       "    }\n",
       "\n",
       "    .dataframe thead th {\n",
       "        text-align: right;\n",
       "    }\n",
       "</style>\n",
       "<table border=\"1\" class=\"dataframe\">\n",
       "  <thead>\n",
       "    <tr style=\"text-align: right;\">\n",
       "      <th></th>\n",
       "      <th>Unnamed: 0</th>\n",
       "      <th>GO_term</th>\n",
       "      <th>pfam_id</th>\n",
       "      <th>GO_id</th>\n",
       "      <th>GO_level</th>\n",
       "      <th>count</th>\n",
       "      <th>GO_idx</th>\n",
       "    </tr>\n",
       "  </thead>\n",
       "  <tbody>\n",
       "    <tr>\n",
       "      <th>0</th>\n",
       "      <td>161</td>\n",
       "      <td>G protein-coupled receptor activity</td>\n",
       "      <td>PF00001</td>\n",
       "      <td>GO:0004930</td>\n",
       "      <td>function</td>\n",
       "      <td>11</td>\n",
       "      <td>0</td>\n",
       "    </tr>\n",
       "    <tr>\n",
       "      <th>1</th>\n",
       "      <td>54</td>\n",
       "      <td>ATP hydrolysis activity</td>\n",
       "      <td>PF00004</td>\n",
       "      <td>GO:0016887</td>\n",
       "      <td>function</td>\n",
       "      <td>15</td>\n",
       "      <td>1</td>\n",
       "    </tr>\n",
       "    <tr>\n",
       "      <th>2</th>\n",
       "      <td>52</td>\n",
       "      <td>ATP binding</td>\n",
       "      <td>PF00006</td>\n",
       "      <td>GO:0005524</td>\n",
       "      <td>function</td>\n",
       "      <td>178</td>\n",
       "      <td>2</td>\n",
       "    </tr>\n",
       "    <tr>\n",
       "      <th>3</th>\n",
       "      <td>174</td>\n",
       "      <td>GTPase activity</td>\n",
       "      <td>PF00009</td>\n",
       "      <td>GO:0003924</td>\n",
       "      <td>function</td>\n",
       "      <td>10</td>\n",
       "      <td>3</td>\n",
       "    </tr>\n",
       "    <tr>\n",
       "      <th>4</th>\n",
       "      <td>1634</td>\n",
       "      <td>protein dimerization activity</td>\n",
       "      <td>PF00010</td>\n",
       "      <td>GO:0046983</td>\n",
       "      <td>function</td>\n",
       "      <td>22</td>\n",
       "      <td>4</td>\n",
       "    </tr>\n",
       "    <tr>\n",
       "      <th>...</th>\n",
       "      <td>...</td>\n",
       "      <td>...</td>\n",
       "      <td>...</td>\n",
       "      <td>...</td>\n",
       "      <td>...</td>\n",
       "      <td>...</td>\n",
       "      <td>...</td>\n",
       "    </tr>\n",
       "    <tr>\n",
       "      <th>2214</th>\n",
       "      <td>249</td>\n",
       "      <td>RNA cap binding</td>\n",
       "      <td>PF21071</td>\n",
       "      <td>GO:0000339</td>\n",
       "      <td>function</td>\n",
       "      <td>1</td>\n",
       "      <td>2214</td>\n",
       "    </tr>\n",
       "    <tr>\n",
       "      <th>2215</th>\n",
       "      <td>730</td>\n",
       "      <td>deoxyribonuclease I activity</td>\n",
       "      <td>PF21111</td>\n",
       "      <td>GO:0004530</td>\n",
       "      <td>function</td>\n",
       "      <td>1</td>\n",
       "      <td>2215</td>\n",
       "    </tr>\n",
       "    <tr>\n",
       "      <th>2216</th>\n",
       "      <td>1599</td>\n",
       "      <td>potassium channel regulator activity</td>\n",
       "      <td>PF21201</td>\n",
       "      <td>GO:0015459</td>\n",
       "      <td>function</td>\n",
       "      <td>1</td>\n",
       "      <td>2216</td>\n",
       "    </tr>\n",
       "    <tr>\n",
       "      <th>2217</th>\n",
       "      <td>1180</td>\n",
       "      <td>microtubule</td>\n",
       "      <td>PF21410</td>\n",
       "      <td>GO:0005874</td>\n",
       "      <td>component</td>\n",
       "      <td>3</td>\n",
       "      <td>2217</td>\n",
       "    </tr>\n",
       "    <tr>\n",
       "      <th>2218</th>\n",
       "      <td>2215</td>\n",
       "      <td>xylan biosynthetic process</td>\n",
       "      <td>PF21729</td>\n",
       "      <td>GO:0045492</td>\n",
       "      <td>process</td>\n",
       "      <td>1</td>\n",
       "      <td>2218</td>\n",
       "    </tr>\n",
       "  </tbody>\n",
       "</table>\n",
       "<p>2219 rows × 7 columns</p>\n",
       "</div>"
      ],
      "text/plain": [
       "      Unnamed: 0                               GO_term  pfam_id       GO_id  \\\n",
       "0            161   G protein-coupled receptor activity  PF00001  GO:0004930   \n",
       "1             54               ATP hydrolysis activity  PF00004  GO:0016887   \n",
       "2             52                           ATP binding  PF00006  GO:0005524   \n",
       "3            174                       GTPase activity  PF00009  GO:0003924   \n",
       "4           1634         protein dimerization activity  PF00010  GO:0046983   \n",
       "...          ...                                   ...      ...         ...   \n",
       "2214         249                       RNA cap binding  PF21071  GO:0000339   \n",
       "2215         730          deoxyribonuclease I activity  PF21111  GO:0004530   \n",
       "2216        1599  potassium channel regulator activity  PF21201  GO:0015459   \n",
       "2217        1180                           microtubule  PF21410  GO:0005874   \n",
       "2218        2215            xylan biosynthetic process  PF21729  GO:0045492   \n",
       "\n",
       "       GO_level  count  GO_idx  \n",
       "0      function     11       0  \n",
       "1      function     15       1  \n",
       "2      function    178       2  \n",
       "3      function     10       3  \n",
       "4      function     22       4  \n",
       "...         ...    ...     ...  \n",
       "2214   function      1    2214  \n",
       "2215   function      1    2215  \n",
       "2216   function      1    2216  \n",
       "2217  component      3    2217  \n",
       "2218    process      1    2218  \n",
       "\n",
       "[2219 rows x 7 columns]"
      ]
     },
     "execution_count": 4,
     "metadata": {},
     "output_type": "execute_result"
    }
   ],
   "source": [
    "go_idx_df = pd.read_csv(\"/data/lux70/data/pfam/go_index.csv\")\n",
    "go_idx_df"
   ]
  },
  {
   "cell_type": "code",
   "execution_count": 5,
   "id": "9b81e1b0-7273-4e9b-82f4-2f38de33fbd1",
   "metadata": {
    "execution": {
     "iopub.execute_input": "2024-09-29T05:50:24.195506Z",
     "iopub.status.busy": "2024-09-29T05:50:24.195227Z",
     "iopub.status.idle": "2024-09-29T05:50:24.248060Z",
     "shell.execute_reply": "2024-09-29T05:50:24.247570Z",
     "shell.execute_reply.started": "2024-09-29T05:50:24.195485Z"
    }
   },
   "outputs": [
    {
     "data": {
      "text/plain": [
       "(array(['component', 'function', 'process'], dtype=object),\n",
       " array([324, 945, 950]))"
      ]
     },
     "execution_count": 5,
     "metadata": {},
     "output_type": "execute_result"
    }
   ],
   "source": [
    "import numpy as np\n",
    "np.unique(go_idx_df.GO_level, return_counts=True)"
   ]
  },
  {
   "cell_type": "code",
   "execution_count": 6,
   "id": "ae5e9063-51aa-4778-9265-dc18b544a810",
   "metadata": {
    "execution": {
     "iopub.execute_input": "2024-09-29T05:50:24.248986Z",
     "iopub.status.busy": "2024-09-29T05:50:24.248790Z",
     "iopub.status.idle": "2024-09-29T05:50:24.306774Z",
     "shell.execute_reply": "2024-09-29T05:50:24.306241Z",
     "shell.execute_reply.started": "2024-09-29T05:50:24.248968Z"
    }
   },
   "outputs": [
    {
     "name": "stdout",
     "output_type": "stream",
     "text": [
      "547 metal ion transmembrane transporter activity GO:0046873 \t function\n",
      "192 protein deubiquitination GO:0016579 \t process\n",
      "169 kinase activity GO:0016301 \t function\n",
      "29 phosphorelay signal transduction system GO:0000160 \t process\n",
      "38 metal ion binding GO:0046872 \t function\n",
      "229 zinc ion binding GO:0008270 \t function\n",
      "86 regulation of DNA-templated transcription GO:0006355 \t process\n",
      "1907 positive regulation of cyclin-dependent protein serine/threonine kinase activity GO:0045737 \t process\n",
      "162 DNA-templated transcription initiation GO:0006352 \t process\n",
      "1790 nuclear-transcribed mRNA catabolic process, nonsense-mediated decay GO:0000184 \t process\n",
      "1386 oxidoreductase activity, acting on NAD(P)H, quinone or similar compound as acceptor GO:0016655 \t function\n",
      "1854 telomere maintenance via telomerase GO:0007004 \t process\n",
      "641 lysyl-tRNA aminoacylation GO:0006430 \t process\n",
      "827 glucuronate isomerase activity GO:0008880 \t function\n",
      "1907 positive regulation of cyclin-dependent protein serine/threonine kinase activity GO:0045737 \t process\n"
     ]
    }
   ],
   "source": [
    "for idx in lines:\n",
    "    tmp = go_idx_df[go_idx_df.GO_idx == idx]\n",
    "    print(idx, tmp.GO_term.values[0], tmp.GO_id.values[0], \"\\t\", tmp.GO_level.values[0])"
   ]
  },
  {
   "cell_type": "code",
   "execution_count": 7,
   "id": "09632514-7cf6-4e39-8a74-a238fca953d2",
   "metadata": {
    "execution": {
     "iopub.execute_input": "2024-09-29T05:50:24.307713Z",
     "iopub.status.busy": "2024-09-29T05:50:24.307506Z",
     "iopub.status.idle": "2024-09-29T05:50:24.377117Z",
     "shell.execute_reply": "2024-09-29T05:50:24.376542Z",
     "shell.execute_reply.started": "2024-09-29T05:50:24.307695Z"
    }
   },
   "outputs": [
    {
     "data": {
      "text/html": [
       "<div>\n",
       "<style scoped>\n",
       "    .dataframe tbody tr th:only-of-type {\n",
       "        vertical-align: middle;\n",
       "    }\n",
       "\n",
       "    .dataframe tbody tr th {\n",
       "        vertical-align: top;\n",
       "    }\n",
       "\n",
       "    .dataframe thead th {\n",
       "        text-align: right;\n",
       "    }\n",
       "</style>\n",
       "<table border=\"1\" class=\"dataframe\">\n",
       "  <thead>\n",
       "    <tr style=\"text-align: right;\">\n",
       "      <th></th>\n",
       "      <th>pfam_id</th>\n",
       "      <th>GO_id</th>\n",
       "      <th>GO_term</th>\n",
       "      <th>GO_level</th>\n",
       "      <th>count</th>\n",
       "      <th>GO_idx</th>\n",
       "    </tr>\n",
       "  </thead>\n",
       "  <tbody>\n",
       "    <tr>\n",
       "      <th>0</th>\n",
       "      <td>PF00001</td>\n",
       "      <td>GO:0004930</td>\n",
       "      <td>G protein-coupled receptor activity</td>\n",
       "      <td>function</td>\n",
       "      <td>11</td>\n",
       "      <td>0</td>\n",
       "    </tr>\n",
       "    <tr>\n",
       "      <th>1</th>\n",
       "      <td>PF00002</td>\n",
       "      <td>GO:0004930</td>\n",
       "      <td>G protein-coupled receptor activity</td>\n",
       "      <td>function</td>\n",
       "      <td>11</td>\n",
       "      <td>0</td>\n",
       "    </tr>\n",
       "    <tr>\n",
       "      <th>2</th>\n",
       "      <td>PF00003</td>\n",
       "      <td>GO:0004930</td>\n",
       "      <td>G protein-coupled receptor activity</td>\n",
       "      <td>function</td>\n",
       "      <td>11</td>\n",
       "      <td>0</td>\n",
       "    </tr>\n",
       "    <tr>\n",
       "      <th>3</th>\n",
       "      <td>PF00004</td>\n",
       "      <td>GO:0016887</td>\n",
       "      <td>ATP hydrolysis activity</td>\n",
       "      <td>function</td>\n",
       "      <td>15</td>\n",
       "      <td>1</td>\n",
       "    </tr>\n",
       "    <tr>\n",
       "      <th>4</th>\n",
       "      <td>PF00005</td>\n",
       "      <td>GO:0016887</td>\n",
       "      <td>ATP hydrolysis activity</td>\n",
       "      <td>function</td>\n",
       "      <td>15</td>\n",
       "      <td>1</td>\n",
       "    </tr>\n",
       "  </tbody>\n",
       "</table>\n",
       "</div>"
      ],
      "text/plain": [
       "   pfam_id       GO_id                              GO_term  GO_level  count  \\\n",
       "0  PF00001  GO:0004930  G protein-coupled receptor activity  function     11   \n",
       "1  PF00002  GO:0004930  G protein-coupled receptor activity  function     11   \n",
       "2  PF00003  GO:0004930  G protein-coupled receptor activity  function     11   \n",
       "3  PF00004  GO:0016887              ATP hydrolysis activity  function     15   \n",
       "4  PF00005  GO:0016887              ATP hydrolysis activity  function     15   \n",
       "\n",
       "   GO_idx  \n",
       "0       0  \n",
       "1       0  \n",
       "2       0  \n",
       "3       1  \n",
       "4       1  "
      ]
     },
     "execution_count": 7,
     "metadata": {},
     "output_type": "execute_result"
    }
   ],
   "source": [
    "import pandas as pd\n",
    "\n",
    "pfam2go = pd.read_csv(\"/data/lux70/data/pfam/pfam2go.csv\")\n",
    "pfam2go.head()"
   ]
  },
  {
   "cell_type": "code",
   "execution_count": 8,
   "id": "0fa7d0ed-4161-4018-bd75-7beb42792a36",
   "metadata": {
    "execution": {
     "iopub.execute_input": "2024-09-29T05:50:24.378124Z",
     "iopub.status.busy": "2024-09-29T05:50:24.377873Z",
     "iopub.status.idle": "2024-09-29T05:50:24.435801Z",
     "shell.execute_reply": "2024-09-29T05:50:24.435256Z",
     "shell.execute_reply.started": "2024-09-29T05:50:24.378106Z"
    }
   },
   "outputs": [
    {
     "data": {
      "text/html": [
       "<div>\n",
       "<style scoped>\n",
       "    .dataframe tbody tr th:only-of-type {\n",
       "        vertical-align: middle;\n",
       "    }\n",
       "\n",
       "    .dataframe tbody tr th {\n",
       "        vertical-align: top;\n",
       "    }\n",
       "\n",
       "    .dataframe thead th {\n",
       "        text-align: right;\n",
       "    }\n",
       "</style>\n",
       "<table border=\"1\" class=\"dataframe\">\n",
       "  <thead>\n",
       "    <tr style=\"text-align: right;\">\n",
       "      <th></th>\n",
       "      <th>pfam_id</th>\n",
       "      <th>GO_id</th>\n",
       "      <th>GO_term</th>\n",
       "      <th>GO_level</th>\n",
       "      <th>count</th>\n",
       "      <th>GO_idx</th>\n",
       "    </tr>\n",
       "  </thead>\n",
       "  <tbody>\n",
       "    <tr>\n",
       "      <th>237</th>\n",
       "      <td>PF00352</td>\n",
       "      <td>GO:0006352</td>\n",
       "      <td>DNA-templated transcription initiation</td>\n",
       "      <td>process</td>\n",
       "      <td>13</td>\n",
       "      <td>162</td>\n",
       "    </tr>\n",
       "    <tr>\n",
       "      <th>1458</th>\n",
       "      <td>PF02291</td>\n",
       "      <td>GO:0006352</td>\n",
       "      <td>DNA-templated transcription initiation</td>\n",
       "      <td>process</td>\n",
       "      <td>13</td>\n",
       "      <td>162</td>\n",
       "    </tr>\n",
       "    <tr>\n",
       "      <th>2105</th>\n",
       "      <td>PF03540</td>\n",
       "      <td>GO:0006352</td>\n",
       "      <td>DNA-templated transcription initiation</td>\n",
       "      <td>process</td>\n",
       "      <td>13</td>\n",
       "      <td>162</td>\n",
       "    </tr>\n",
       "    <tr>\n",
       "      <th>2534</th>\n",
       "      <td>PF04539</td>\n",
       "      <td>GO:0006352</td>\n",
       "      <td>DNA-templated transcription initiation</td>\n",
       "      <td>process</td>\n",
       "      <td>13</td>\n",
       "      <td>162</td>\n",
       "    </tr>\n",
       "    <tr>\n",
       "      <th>2535</th>\n",
       "      <td>PF04542</td>\n",
       "      <td>GO:0006352</td>\n",
       "      <td>DNA-templated transcription initiation</td>\n",
       "      <td>process</td>\n",
       "      <td>13</td>\n",
       "      <td>162</td>\n",
       "    </tr>\n",
       "    <tr>\n",
       "      <th>2537</th>\n",
       "      <td>PF04545</td>\n",
       "      <td>GO:0006352</td>\n",
       "      <td>DNA-templated transcription initiation</td>\n",
       "      <td>process</td>\n",
       "      <td>13</td>\n",
       "      <td>162</td>\n",
       "    </tr>\n",
       "    <tr>\n",
       "      <th>2722</th>\n",
       "      <td>PF04963</td>\n",
       "      <td>GO:0006352</td>\n",
       "      <td>DNA-templated transcription initiation</td>\n",
       "      <td>process</td>\n",
       "      <td>13</td>\n",
       "      <td>162</td>\n",
       "    </tr>\n",
       "  </tbody>\n",
       "</table>\n",
       "</div>"
      ],
      "text/plain": [
       "      pfam_id       GO_id                                 GO_term GO_level  \\\n",
       "237   PF00352  GO:0006352  DNA-templated transcription initiation  process   \n",
       "1458  PF02291  GO:0006352  DNA-templated transcription initiation  process   \n",
       "2105  PF03540  GO:0006352  DNA-templated transcription initiation  process   \n",
       "2534  PF04539  GO:0006352  DNA-templated transcription initiation  process   \n",
       "2535  PF04542  GO:0006352  DNA-templated transcription initiation  process   \n",
       "2537  PF04545  GO:0006352  DNA-templated transcription initiation  process   \n",
       "2722  PF04963  GO:0006352  DNA-templated transcription initiation  process   \n",
       "\n",
       "      count  GO_idx  \n",
       "237      13     162  \n",
       "1458     13     162  \n",
       "2105     13     162  \n",
       "2534     13     162  \n",
       "2535     13     162  \n",
       "2537     13     162  \n",
       "2722     13     162  "
      ]
     },
     "execution_count": 8,
     "metadata": {},
     "output_type": "execute_result"
    }
   ],
   "source": [
    "pfam2go[pfam2go.GO_id == \"GO:0006352\"]"
   ]
  },
  {
   "cell_type": "code",
   "execution_count": 15,
   "id": "96c4c6c4-131a-4ea3-ac8a-6447d6a09da7",
   "metadata": {
    "execution": {
     "iopub.execute_input": "2024-09-29T06:16:44.421847Z",
     "iopub.status.busy": "2024-09-29T06:16:44.421500Z",
     "iopub.status.idle": "2024-09-29T06:16:44.511566Z",
     "shell.execute_reply": "2024-09-29T06:16:44.511012Z",
     "shell.execute_reply.started": "2024-09-29T06:16:44.421823Z"
    }
   },
   "outputs": [],
   "source": [
    "organism_df = pd.read_csv(\"/data/lux70/data/pfam/organism_hierarchy.csv\")"
   ]
  },
  {
   "cell_type": "code",
   "execution_count": 16,
   "id": "d7d51c47-b1d1-4c69-a7b4-b5c9c4d3a964",
   "metadata": {
    "execution": {
     "iopub.execute_input": "2024-09-29T06:16:44.561166Z",
     "iopub.status.busy": "2024-09-29T06:16:44.560804Z",
     "iopub.status.idle": "2024-09-29T06:16:44.620571Z",
     "shell.execute_reply": "2024-09-29T06:16:44.620046Z",
     "shell.execute_reply.started": "2024-09-29T06:16:44.561139Z"
    }
   },
   "outputs": [
    {
     "data": {
      "text/html": [
       "<div>\n",
       "<style scoped>\n",
       "    .dataframe tbody tr th:only-of-type {\n",
       "        vertical-align: middle;\n",
       "    }\n",
       "\n",
       "    .dataframe tbody tr th {\n",
       "        vertical-align: top;\n",
       "    }\n",
       "\n",
       "    .dataframe thead th {\n",
       "        text-align: right;\n",
       "    }\n",
       "</style>\n",
       "<table border=\"1\" class=\"dataframe\">\n",
       "  <thead>\n",
       "    <tr style=\"text-align: right;\">\n",
       "      <th></th>\n",
       "      <th>uniref_identifier</th>\n",
       "      <th>uniref_code</th>\n",
       "      <th>name</th>\n",
       "      <th>kingdom</th>\n",
       "      <th>superkingdom</th>\n",
       "      <th>phylum</th>\n",
       "      <th>class</th>\n",
       "      <th>order</th>\n",
       "      <th>family</th>\n",
       "      <th>genus</th>\n",
       "      <th>species</th>\n",
       "      <th>organism_index</th>\n",
       "      <th>counts</th>\n",
       "    </tr>\n",
       "  </thead>\n",
       "  <tbody>\n",
       "    <tr>\n",
       "      <th>0</th>\n",
       "      <td>AADNV</td>\n",
       "      <td>648330</td>\n",
       "      <td>Aedes albopictus densovirus (isolate Boublik/1...</td>\n",
       "      <td>Shotokuvirae</td>\n",
       "      <td>Viruses</td>\n",
       "      <td>Cossaviricota</td>\n",
       "      <td>Quintoviricetes</td>\n",
       "      <td>Piccovirales</td>\n",
       "      <td>Parvoviridae</td>\n",
       "      <td>Brevihamaparvovirus</td>\n",
       "      <td>Brevihamaparvovirus dipteran1</td>\n",
       "      <td>3491</td>\n",
       "      <td>2</td>\n",
       "    </tr>\n",
       "    <tr>\n",
       "      <th>1</th>\n",
       "      <td>AAV2S</td>\n",
       "      <td>648242</td>\n",
       "      <td>Adeno-associated virus 2 (isolate Srivastava/1...</td>\n",
       "      <td>Shotokuvirae</td>\n",
       "      <td>Viruses</td>\n",
       "      <td>Cossaviricota</td>\n",
       "      <td>Quintoviricetes</td>\n",
       "      <td>Piccovirales</td>\n",
       "      <td>Parvoviridae</td>\n",
       "      <td>Dependoparvovirus</td>\n",
       "      <td>Dependoparvovirus primate1</td>\n",
       "      <td>3489</td>\n",
       "      <td>4</td>\n",
       "    </tr>\n",
       "    <tr>\n",
       "      <th>2</th>\n",
       "      <td>ABIDE</td>\n",
       "      <td>46125</td>\n",
       "      <td>Abiotrophia defectiva</td>\n",
       "      <td>NaN</td>\n",
       "      <td>Bacteria</td>\n",
       "      <td>Bacillota</td>\n",
       "      <td>Bacilli</td>\n",
       "      <td>Lactobacillales</td>\n",
       "      <td>Aerococcaceae</td>\n",
       "      <td>Abiotrophia</td>\n",
       "      <td>Abiotrophia defectiva</td>\n",
       "      <td>2236</td>\n",
       "      <td>2411</td>\n",
       "    </tr>\n",
       "    <tr>\n",
       "      <th>3</th>\n",
       "      <td>ABLVB</td>\n",
       "      <td>446561</td>\n",
       "      <td>Australian bat lyssavirus (isolate Bat/AUS/1996)</td>\n",
       "      <td>Orthornavirae</td>\n",
       "      <td>Viruses</td>\n",
       "      <td>Negarnaviricota</td>\n",
       "      <td>Monjiviricetes</td>\n",
       "      <td>Mononegavirales</td>\n",
       "      <td>Rhabdoviridae</td>\n",
       "      <td>Lyssavirus</td>\n",
       "      <td>Lyssavirus australis</td>\n",
       "      <td>3422</td>\n",
       "      <td>8</td>\n",
       "    </tr>\n",
       "    <tr>\n",
       "      <th>4</th>\n",
       "      <td>ABPVR</td>\n",
       "      <td>1217067</td>\n",
       "      <td>Acute bee paralysis virus (strain Rothamsted)</td>\n",
       "      <td>Orthornavirae</td>\n",
       "      <td>Viruses</td>\n",
       "      <td>Pisuviricota</td>\n",
       "      <td>Pisoniviricetes</td>\n",
       "      <td>Picornavirales</td>\n",
       "      <td>Dicistroviridae</td>\n",
       "      <td>Aparavirus</td>\n",
       "      <td>Aparavirus apisacutum</td>\n",
       "      <td>3093</td>\n",
       "      <td>6</td>\n",
       "    </tr>\n",
       "  </tbody>\n",
       "</table>\n",
       "</div>"
      ],
      "text/plain": [
       "  uniref_identifier  uniref_code  \\\n",
       "0             AADNV       648330   \n",
       "1             AAV2S       648242   \n",
       "2             ABIDE        46125   \n",
       "3             ABLVB       446561   \n",
       "4             ABPVR      1217067   \n",
       "\n",
       "                                                name        kingdom  \\\n",
       "0  Aedes albopictus densovirus (isolate Boublik/1...   Shotokuvirae   \n",
       "1  Adeno-associated virus 2 (isolate Srivastava/1...   Shotokuvirae   \n",
       "2                              Abiotrophia defectiva            NaN   \n",
       "3   Australian bat lyssavirus (isolate Bat/AUS/1996)  Orthornavirae   \n",
       "4      Acute bee paralysis virus (strain Rothamsted)  Orthornavirae   \n",
       "\n",
       "  superkingdom           phylum            class            order  \\\n",
       "0      Viruses    Cossaviricota  Quintoviricetes     Piccovirales   \n",
       "1      Viruses    Cossaviricota  Quintoviricetes     Piccovirales   \n",
       "2     Bacteria        Bacillota          Bacilli  Lactobacillales   \n",
       "3      Viruses  Negarnaviricota   Monjiviricetes  Mononegavirales   \n",
       "4      Viruses     Pisuviricota  Pisoniviricetes   Picornavirales   \n",
       "\n",
       "            family                genus                        species  \\\n",
       "0     Parvoviridae  Brevihamaparvovirus  Brevihamaparvovirus dipteran1   \n",
       "1     Parvoviridae    Dependoparvovirus     Dependoparvovirus primate1   \n",
       "2    Aerococcaceae          Abiotrophia          Abiotrophia defectiva   \n",
       "3    Rhabdoviridae           Lyssavirus           Lyssavirus australis   \n",
       "4  Dicistroviridae           Aparavirus          Aparavirus apisacutum   \n",
       "\n",
       "   organism_index  counts  \n",
       "0            3491       2  \n",
       "1            3489       4  \n",
       "2            2236    2411  \n",
       "3            3422       8  \n",
       "4            3093       6  "
      ]
     },
     "execution_count": 16,
     "metadata": {},
     "output_type": "execute_result"
    }
   ],
   "source": [
    "organism_df.head()"
   ]
  },
  {
   "cell_type": "code",
   "execution_count": 13,
   "id": "f381ebf9-f9af-467a-b1e2-a52e89ee9c11",
   "metadata": {
    "execution": {
     "iopub.execute_input": "2024-09-29T06:16:19.530583Z",
     "iopub.status.busy": "2024-09-29T06:16:19.530238Z",
     "iopub.status.idle": "2024-09-29T06:16:19.585375Z",
     "shell.execute_reply": "2024-09-29T06:16:19.584869Z",
     "shell.execute_reply.started": "2024-09-29T06:16:19.530560Z"
    }
   },
   "outputs": [
    {
     "data": {
      "text/plain": [
       "[758,\n",
       " 1411,\n",
       " 2436,\n",
       " 158,\n",
       " 1326,\n",
       " 1294,\n",
       " 300,\n",
       " 799,\n",
       " 1265,\n",
       " 716,\n",
       " 333,\n",
       " 1357,\n",
       " 1388,\n",
       " 1452,\n",
       " 818]"
      ]
     },
     "execution_count": 13,
     "metadata": {},
     "output_type": "execute_result"
    }
   ],
   "source": [
    "with open(\"/homefs/home/lux70/code/plaid/organisms.txt\", \"r\") as f:\n",
    "    orgs = f.readlines()\n",
    "orgs = [int(x.rstrip(\"\\n\")) for x in orgs]\n",
    "orgs"
   ]
  },
  {
   "cell_type": "code",
   "execution_count": 19,
   "id": "d87a1ecf-d426-4516-b2c2-b137dbf72f04",
   "metadata": {
    "execution": {
     "iopub.execute_input": "2024-09-29T06:20:36.568494Z",
     "iopub.status.busy": "2024-09-29T06:20:36.568139Z",
     "iopub.status.idle": "2024-09-29T06:20:36.627336Z",
     "shell.execute_reply": "2024-09-29T06:20:36.626826Z",
     "shell.execute_reply.started": "2024-09-29T06:20:36.568468Z"
    }
   },
   "outputs": [
    {
     "name": "stdout",
     "output_type": "stream",
     "text": [
      "758 ['BOVIN']\n",
      "1411 ['CHICK']\n",
      "2436 ['ECOLI']\n",
      "158 ['HORSE']\n",
      "1326 ['HUMAN']\n",
      "1294 ['MAIZE']\n",
      "300 ['MOUSE']\n",
      "799 []\n",
      "1265 ['RABIT']\n",
      "716 []\n",
      "333 ['SHEEP']\n",
      "1357 ['SOYBN']\n",
      "1388 ['TOBAC']\n",
      "1452 ['WHEAT']\n",
      "818 ['YEAST']\n"
     ]
    }
   ],
   "source": [
    "for o in orgs:\n",
    "    print(o, organism_df[organism_df['organism_index'] == o].uniref_identifier.values)"
   ]
  },
  {
   "cell_type": "code",
   "execution_count": null,
   "id": "bbf8fcf4-e93d-47a1-a8c4-52dc89dd6ae2",
   "metadata": {},
   "outputs": [],
   "source": []
  },
  {
   "cell_type": "code",
   "execution_count": 15,
   "id": "a291873f-f6ef-4eed-997e-f815012e2c48",
   "metadata": {
    "execution": {
     "iopub.execute_input": "2024-09-29T01:55:47.821527Z",
     "iopub.status.busy": "2024-09-29T01:55:47.821155Z",
     "iopub.status.idle": "2024-09-29T01:55:55.923570Z",
     "shell.execute_reply": "2024-09-29T01:55:55.922956Z",
     "shell.execute_reply.started": "2024-09-29T01:55:47.821504Z"
    }
   },
   "outputs": [],
   "source": [
    "import pandas as pd\n",
    "df = pd.read_parquet(\"/data/lux70/data/pfam/val.parquet\")# df = pd.read_parquet(\"/data/lux70/data/pfam/val_shard_info.parquet\")"
   ]
  },
  {
   "cell_type": "code",
   "execution_count": 16,
   "id": "10d5be83-29de-44bc-8392-fd91cb56dbf5",
   "metadata": {
    "execution": {
     "iopub.execute_input": "2024-09-29T01:55:55.924956Z",
     "iopub.status.busy": "2024-09-29T01:55:55.924668Z",
     "iopub.status.idle": "2024-09-29T01:55:55.979232Z",
     "shell.execute_reply": "2024-09-29T01:55:55.978636Z",
     "shell.execute_reply.started": "2024-09-29T01:55:55.924935Z"
    }
   },
   "outputs": [
    {
     "data": {
      "text/plain": [
       "[547, 192, 169, 29, 38, 229, 86, 1907, 162, 1790, 1386, 1854, 641, 827]"
      ]
     },
     "execution_count": 16,
     "metadata": {},
     "output_type": "execute_result"
    }
   ],
   "source": [
    "lines"
   ]
  },
  {
   "cell_type": "code",
   "execution_count": 17,
   "id": "4e2aab2a-f43c-4271-8625-cafa92e377d0",
   "metadata": {
    "execution": {
     "iopub.execute_input": "2024-09-29T01:56:09.259917Z",
     "iopub.status.busy": "2024-09-29T01:56:09.259555Z",
     "iopub.status.idle": "2024-09-29T01:56:09.815177Z",
     "shell.execute_reply": "2024-09-29T01:56:09.814570Z",
     "shell.execute_reply.started": "2024-09-29T01:56:09.259893Z"
    }
   },
   "outputs": [
    {
     "data": {
      "text/html": [
       "<div>\n",
       "<style scoped>\n",
       "    .dataframe tbody tr th:only-of-type {\n",
       "        vertical-align: middle;\n",
       "    }\n",
       "\n",
       "    .dataframe tbody tr th {\n",
       "        vertical-align: top;\n",
       "    }\n",
       "\n",
       "    .dataframe thead th {\n",
       "        text-align: right;\n",
       "    }\n",
       "</style>\n",
       "<table border=\"1\" class=\"dataframe\">\n",
       "  <thead>\n",
       "    <tr style=\"text-align: right;\">\n",
       "      <th></th>\n",
       "      <th>pfam_id</th>\n",
       "      <th>organism</th>\n",
       "      <th>sequence</th>\n",
       "      <th>GO_id</th>\n",
       "      <th>GO_term</th>\n",
       "      <th>GO_level</th>\n",
       "      <th>GO_counts</th>\n",
       "      <th>GO_idx</th>\n",
       "      <th>organism_index</th>\n",
       "      <th>organism_counts</th>\n",
       "      <th>seq_len</th>\n",
       "    </tr>\n",
       "  </thead>\n",
       "  <tbody>\n",
       "    <tr>\n",
       "      <th>8456413</th>\n",
       "      <td>PF02535</td>\n",
       "      <td>MALBA</td>\n",
       "      <td>MLVKIWCMVLVFVGTFAAGMSPYFLKWNEGFLVLGTQFAGGIFLGT...</td>\n",
       "      <td>GO:0046873</td>\n",
       "      <td>metal ion transmembrane transporter activity</td>\n",
       "      <td>function</td>\n",
       "      <td>3.0</td>\n",
       "      <td>547</td>\n",
       "      <td>1054</td>\n",
       "      <td>16279</td>\n",
       "      <td>275</td>\n",
       "    </tr>\n",
       "    <tr>\n",
       "      <th>8456414</th>\n",
       "      <td>PF02535</td>\n",
       "      <td>POPTR</td>\n",
       "      <td>LQLKLIAIFSILVASMIGVCLPLFSRAIPALMPDRDLFVVIKAFAS...</td>\n",
       "      <td>GO:0046873</td>\n",
       "      <td>metal ion transmembrane transporter activity</td>\n",
       "      <td>function</td>\n",
       "      <td>3.0</td>\n",
       "      <td>547</td>\n",
       "      <td>194</td>\n",
       "      <td>16721</td>\n",
       "      <td>310</td>\n",
       "    </tr>\n",
       "    <tr>\n",
       "      <th>8456415</th>\n",
       "      <td>PF02535</td>\n",
       "      <td>9EUKA</td>\n",
       "      <td>EKTEDEISFRSGGRGYPRYTGWRNIDNVAWCITVGDGIHNFVDGIA...</td>\n",
       "      <td>GO:0046873</td>\n",
       "      <td>metal ion transmembrane transporter activity</td>\n",
       "      <td>function</td>\n",
       "      <td>3.0</td>\n",
       "      <td>547</td>\n",
       "      <td>301</td>\n",
       "      <td>79159</td>\n",
       "      <td>157</td>\n",
       "    </tr>\n",
       "    <tr>\n",
       "      <th>8456416</th>\n",
       "      <td>PF02535</td>\n",
       "      <td>RHIST</td>\n",
       "      <td>FVWLLLLCMAMLVASFVAGCIPLATKLSESKLNFLTFVSAGLLIST...</td>\n",
       "      <td>GO:0046873</td>\n",
       "      <td>metal ion transmembrane transporter activity</td>\n",
       "      <td>function</td>\n",
       "      <td>3.0</td>\n",
       "      <td>547</td>\n",
       "      <td>316</td>\n",
       "      <td>12614</td>\n",
       "      <td>289</td>\n",
       "    </tr>\n",
       "    <tr>\n",
       "      <th>8456417</th>\n",
       "      <td>PF02535</td>\n",
       "      <td>9FUNG</td>\n",
       "      <td>MGKHFGTGVILATGFIHMFPGAIFSLTDPCLPPLFRSYAAFAGLFA...</td>\n",
       "      <td>GO:0046873</td>\n",
       "      <td>metal ion transmembrane transporter activity</td>\n",
       "      <td>function</td>\n",
       "      <td>3.0</td>\n",
       "      <td>547</td>\n",
       "      <td>92</td>\n",
       "      <td>391211</td>\n",
       "      <td>281</td>\n",
       "    </tr>\n",
       "    <tr>\n",
       "      <th>...</th>\n",
       "      <td>...</td>\n",
       "      <td>...</td>\n",
       "      <td>...</td>\n",
       "      <td>...</td>\n",
       "      <td>...</td>\n",
       "      <td>...</td>\n",
       "      <td>...</td>\n",
       "      <td>...</td>\n",
       "      <td>...</td>\n",
       "      <td>...</td>\n",
       "      <td>...</td>\n",
       "    </tr>\n",
       "    <tr>\n",
       "      <th>8473032</th>\n",
       "      <td>PF02535</td>\n",
       "      <td>9BILA</td>\n",
       "      <td>FQTWFGALVGATAVGCIGLLPIFIVPNEQTKKDKPYLELLLSVAVG...</td>\n",
       "      <td>GO:0046873</td>\n",
       "      <td>metal ion transmembrane transporter activity</td>\n",
       "      <td>function</td>\n",
       "      <td>3.0</td>\n",
       "      <td>547</td>\n",
       "      <td>59</td>\n",
       "      <td>379616</td>\n",
       "      <td>258</td>\n",
       "    </tr>\n",
       "    <tr>\n",
       "      <th>8473033</th>\n",
       "      <td>PF02535</td>\n",
       "      <td>TOXCA</td>\n",
       "      <td>RAAREAIDVRRVGNAGEVVKSITFIVAFTFHSCLEGFAFGVQESTL...</td>\n",
       "      <td>GO:0046873</td>\n",
       "      <td>metal ion transmembrane transporter activity</td>\n",
       "      <td>function</td>\n",
       "      <td>3.0</td>\n",
       "      <td>547</td>\n",
       "      <td>240</td>\n",
       "      <td>15915</td>\n",
       "      <td>164</td>\n",
       "    </tr>\n",
       "    <tr>\n",
       "      <th>8473034</th>\n",
       "      <td>PF02535</td>\n",
       "      <td>9CORY</td>\n",
       "      <td>TAINPHESMTQDTPELQARRQKLMKMGTLTALAIAIHNFPEGFATF...</td>\n",
       "      <td>GO:0046873</td>\n",
       "      <td>metal ion transmembrane transporter activity</td>\n",
       "      <td>function</td>\n",
       "      <td>3.0</td>\n",
       "      <td>547</td>\n",
       "      <td>85</td>\n",
       "      <td>147193</td>\n",
       "      <td>166</td>\n",
       "    </tr>\n",
       "    <tr>\n",
       "      <th>8473035</th>\n",
       "      <td>PF02535</td>\n",
       "      <td>PHYSP</td>\n",
       "      <td>TVFKLVSIGCIWIVGLVGGLTPALLASRHDKSPTLSILSAFSGGVF...</td>\n",
       "      <td>GO:0046873</td>\n",
       "      <td>metal ion transmembrane transporter activity</td>\n",
       "      <td>function</td>\n",
       "      <td>3.0</td>\n",
       "      <td>547</td>\n",
       "      <td>381</td>\n",
       "      <td>8225</td>\n",
       "      <td>330</td>\n",
       "    </tr>\n",
       "    <tr>\n",
       "      <th>8473036</th>\n",
       "      <td>PF02535</td>\n",
       "      <td>HORVV</td>\n",
       "      <td>VAVKLWCLALVFAGTLAGGVSPYFMRWNEAFLALGTQFAGGVFLGT...</td>\n",
       "      <td>GO:0046873</td>\n",
       "      <td>metal ion transmembrane transporter activity</td>\n",
       "      <td>function</td>\n",
       "      <td>3.0</td>\n",
       "      <td>547</td>\n",
       "      <td>650</td>\n",
       "      <td>13304</td>\n",
       "      <td>296</td>\n",
       "    </tr>\n",
       "  </tbody>\n",
       "</table>\n",
       "<p>16624 rows × 11 columns</p>\n",
       "</div>"
      ],
      "text/plain": [
       "         pfam_id organism                                           sequence  \\\n",
       "8456413  PF02535    MALBA  MLVKIWCMVLVFVGTFAAGMSPYFLKWNEGFLVLGTQFAGGIFLGT...   \n",
       "8456414  PF02535    POPTR  LQLKLIAIFSILVASMIGVCLPLFSRAIPALMPDRDLFVVIKAFAS...   \n",
       "8456415  PF02535    9EUKA  EKTEDEISFRSGGRGYPRYTGWRNIDNVAWCITVGDGIHNFVDGIA...   \n",
       "8456416  PF02535    RHIST  FVWLLLLCMAMLVASFVAGCIPLATKLSESKLNFLTFVSAGLLIST...   \n",
       "8456417  PF02535    9FUNG  MGKHFGTGVILATGFIHMFPGAIFSLTDPCLPPLFRSYAAFAGLFA...   \n",
       "...          ...      ...                                                ...   \n",
       "8473032  PF02535    9BILA  FQTWFGALVGATAVGCIGLLPIFIVPNEQTKKDKPYLELLLSVAVG...   \n",
       "8473033  PF02535    TOXCA  RAAREAIDVRRVGNAGEVVKSITFIVAFTFHSCLEGFAFGVQESTL...   \n",
       "8473034  PF02535    9CORY  TAINPHESMTQDTPELQARRQKLMKMGTLTALAIAIHNFPEGFATF...   \n",
       "8473035  PF02535    PHYSP  TVFKLVSIGCIWIVGLVGGLTPALLASRHDKSPTLSILSAFSGGVF...   \n",
       "8473036  PF02535    HORVV  VAVKLWCLALVFAGTLAGGVSPYFMRWNEAFLALGTQFAGGVFLGT...   \n",
       "\n",
       "              GO_id                                       GO_term  GO_level  \\\n",
       "8456413  GO:0046873  metal ion transmembrane transporter activity  function   \n",
       "8456414  GO:0046873  metal ion transmembrane transporter activity  function   \n",
       "8456415  GO:0046873  metal ion transmembrane transporter activity  function   \n",
       "8456416  GO:0046873  metal ion transmembrane transporter activity  function   \n",
       "8456417  GO:0046873  metal ion transmembrane transporter activity  function   \n",
       "...             ...                                           ...       ...   \n",
       "8473032  GO:0046873  metal ion transmembrane transporter activity  function   \n",
       "8473033  GO:0046873  metal ion transmembrane transporter activity  function   \n",
       "8473034  GO:0046873  metal ion transmembrane transporter activity  function   \n",
       "8473035  GO:0046873  metal ion transmembrane transporter activity  function   \n",
       "8473036  GO:0046873  metal ion transmembrane transporter activity  function   \n",
       "\n",
       "         GO_counts  GO_idx  organism_index  organism_counts  seq_len  \n",
       "8456413        3.0     547            1054            16279      275  \n",
       "8456414        3.0     547             194            16721      310  \n",
       "8456415        3.0     547             301            79159      157  \n",
       "8456416        3.0     547             316            12614      289  \n",
       "8456417        3.0     547              92           391211      281  \n",
       "...            ...     ...             ...              ...      ...  \n",
       "8473032        3.0     547              59           379616      258  \n",
       "8473033        3.0     547             240            15915      164  \n",
       "8473034        3.0     547              85           147193      166  \n",
       "8473035        3.0     547             381             8225      330  \n",
       "8473036        3.0     547             650            13304      296  \n",
       "\n",
       "[16624 rows x 11 columns]"
      ]
     },
     "execution_count": 17,
     "metadata": {},
     "output_type": "execute_result"
    }
   ],
   "source": [
    "tmp = df[(df.GO_term == \"metal ion transmembrane transporter activity\")]"
   ]
  },
  {
   "cell_type": "code",
   "execution_count": 20,
   "id": "84ea0dda-2b21-41e3-8444-00f6b60a8f8b",
   "metadata": {
    "execution": {
     "iopub.execute_input": "2024-09-29T01:57:00.533976Z",
     "iopub.status.busy": "2024-09-29T01:57:00.533604Z",
     "iopub.status.idle": "2024-09-29T01:57:00.589847Z",
     "shell.execute_reply": "2024-09-29T01:57:00.589305Z",
     "shell.execute_reply.started": "2024-09-29T01:57:00.533950Z"
    }
   },
   "outputs": [
    {
     "data": {
      "text/plain": [
       "array(['PF02535'], dtype=object)"
      ]
     },
     "execution_count": 20,
     "metadata": {},
     "output_type": "execute_result"
    }
   ],
   "source": [
    "tmp.pfam_id.unique()"
   ]
  },
  {
   "cell_type": "code",
   "execution_count": 28,
   "id": "870b44bf-ed54-41b1-983b-5b0a2653d656",
   "metadata": {
    "execution": {
     "iopub.execute_input": "2024-09-29T02:02:43.555505Z",
     "iopub.status.busy": "2024-09-29T02:02:43.554746Z",
     "iopub.status.idle": "2024-09-29T02:02:43.608744Z",
     "shell.execute_reply": "2024-09-29T02:02:43.608156Z",
     "shell.execute_reply.started": "2024-09-29T02:02:43.555472Z"
    }
   },
   "outputs": [],
   "source": [
    "plt.rcParams['figure.figsize'] = (4,3)\n",
    "plt.rcParams['figure.dpi'] = 200"
   ]
  },
  {
   "cell_type": "code",
   "execution_count": 30,
   "id": "fe6235f5-56dc-479f-8adb-e9d8c1176847",
   "metadata": {
    "execution": {
     "iopub.execute_input": "2024-09-29T02:03:17.815690Z",
     "iopub.status.busy": "2024-09-29T02:03:17.815324Z",
     "iopub.status.idle": "2024-09-29T02:03:18.133398Z",
     "shell.execute_reply": "2024-09-29T02:03:18.132781Z",
     "shell.execute_reply.started": "2024-09-29T02:03:17.815665Z"
    }
   },
   "outputs": [
    {
     "data": {
      "text/plain": [
       "Text(0.5, 1.0, 'Metal ion transmembrane transporter activity')"
      ]
     },
     "execution_count": 30,
     "metadata": {},
     "output_type": "execute_result"
    },
    {
     "data": {
      "image/png": "[encoded data removed]",
      "text/plain": [
       "<Figure size 800x600 with 1 Axes>"
      ]
     },
     "metadata": {},
     "output_type": "display_data"
    }
   ],
   "source": [
    "_ = plt.hist(tmp.seq_len, bins=100, color='teal')\n",
    "plt.title(\"Metal ion transmembrane transporter activity\")"
   ]
  },
  {
   "cell_type": "code",
   "execution_count": 41,
   "id": "99630f95-05d4-420f-9a0b-58c3217ef1e2",
   "metadata": {
    "execution": {
     "iopub.execute_input": "2024-09-29T00:24:54.770268Z",
     "iopub.status.busy": "2024-09-29T00:24:54.769941Z",
     "iopub.status.idle": "2024-09-29T00:24:56.451966Z",
     "shell.execute_reply": "2024-09-29T00:24:56.451420Z",
     "shell.execute_reply.started": "2024-09-29T00:24:54.770246Z"
    }
   },
   "outputs": [],
   "source": [
    "def len_is_between(x, minv, maxv):\n",
    "    return minv <= x < maxv"
   ]
  },
  {
   "cell_type": "code",
   "execution_count": 47,
   "id": "09655c0e-fc18-471a-9915-b0064046999e",
   "metadata": {
    "execution": {
     "iopub.execute_input": "2024-09-29T00:27:36.482538Z",
     "iopub.status.busy": "2024-09-29T00:27:36.482182Z",
     "iopub.status.idle": "2024-09-29T00:27:36.534224Z",
     "shell.execute_reply": "2024-09-29T00:27:36.533679Z",
     "shell.execute_reply.started": "2024-09-29T00:27:36.482515Z"
    }
   },
   "outputs": [],
   "source": [
    "sample_len = 72"
   ]
  },
  {
   "cell_type": "code",
   "execution_count": 49,
   "id": "0d725b42-3ccb-49b0-b1e8-c499689b692f",
   "metadata": {
    "execution": {
     "iopub.execute_input": "2024-09-29T00:28:33.187003Z",
     "iopub.status.busy": "2024-09-29T00:28:33.186518Z",
     "iopub.status.idle": "2024-09-29T00:28:33.245057Z",
     "shell.execute_reply": "2024-09-29T00:28:33.244505Z",
     "shell.execute_reply.started": "2024-09-29T00:28:33.186977Z"
    }
   },
   "outputs": [],
   "source": [
    "tmptmp = tmp[tmp.seq_len.map(lambda x: len_is_between(x, 72 * 2 - 10, 72 * 2 + 10))]"
   ]
  },
  {
   "cell_type": "code",
   "execution_count": 51,
   "id": "f20491d5-be28-4792-94d5-6e94b7448678",
   "metadata": {
    "execution": {
     "iopub.execute_input": "2024-09-29T00:28:51.100059Z",
     "iopub.status.busy": "2024-09-29T00:28:51.099707Z",
     "iopub.status.idle": "2024-09-29T00:28:51.152913Z",
     "shell.execute_reply": "2024-09-29T00:28:51.152411Z",
     "shell.execute_reply.started": "2024-09-29T00:28:51.100036Z"
    }
   },
   "outputs": [
    {
     "data": {
      "text/plain": [
       "array(['PF11435', 'PF15247', 'PF01668', 'PF21138', 'PF05733', 'PF02926',\n",
       "       'PF01818', 'PF05731', 'PF16714', 'PF04146'], dtype=object)"
      ]
     },
     "execution_count": 51,
     "metadata": {},
     "output_type": "execute_result"
    }
   ],
   "source": [
    "tmp.pfam_id.unique()"
   ]
  },
  {
   "cell_type": "code",
   "execution_count": null,
   "id": "08716e93-f468-4259-8813-d7f2e8015f08",
   "metadata": {},
   "outputs": [],
   "source": []
  },
  {
   "cell_type": "code",
   "execution_count": null,
   "id": "68ca2773-e9f9-468b-b016-5e099ca37954",
   "metadata": {},
   "outputs": [],
   "source": []
  },
  {
   "cell_type": "code",
   "execution_count": null,
   "id": "5f555ecb-f16f-4f60-a442-8a370050a24b",
   "metadata": {},
   "outputs": [],
   "source": []
  },
  {
   "cell_type": "code",
   "execution_count": null,
   "id": "aed909f3-e354-4cf2-854c-e7d5192af980",
   "metadata": {},
   "outputs": [],
   "source": []
  },
  {
   "cell_type": "code",
   "execution_count": null,
   "id": "dc3a3ee4-b482-4493-b406-1f4512098105",
   "metadata": {},
   "outputs": [],
   "source": []
  },
  {
   "cell_type": "code",
   "execution_count": null,
   "id": "e55446da-9d52-4a9c-be1e-a1628582776c",
   "metadata": {},
   "outputs": [],
   "source": []
  },
  {
   "cell_type": "code",
   "execution_count": null,
   "id": "07be51c9-d961-424c-9b06-225c949fbb10",
   "metadata": {},
   "outputs": [],
   "source": []
  },
  {
   "cell_type": "code",
   "execution_count": null,
   "id": "630a59aa-ceef-462e-9815-6418a05d91a3",
   "metadata": {},
   "outputs": [],
   "source": []
  },
  {
   "cell_type": "code",
   "execution_count": null,
   "id": "6358007a-a687-49c4-9ec4-e3e47efa36cd",
   "metadata": {},
   "outputs": [],
   "source": []
  }
 ],
 "metadata": {
  "kernelspec": {
   "display_name": "Python (omegafold)",
   "language": "python",
   "name": "omegafold"
  },
  "language_info": {
   "codemirror_mode": {
    "name": "ipython",
    "version": 3
   },
   "file_extension": ".py",
   "mimetype": "text/x-python",
   "name": "python",
   "nbconvert_exporter": "python",
   "pygments_lexer": "ipython3",
   "version": "3.9.12"
  }
 },
 "nbformat": 4,
 "nbformat_minor": 5
}
