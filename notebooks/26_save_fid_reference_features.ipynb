{
 "cells": [
  {
   "cell_type": "code",
   "execution_count": 3,
   "id": "f55c6196-ecf3-4b46-a8e2-fffce6fbba76",
   "metadata": {},
   "outputs": [],
   "source": [
    "%load_ext autoreload\n",
    "%autoreload 2"
   ]
  },
  {
   "cell_type": "code",
   "execution_count": 8,
   "id": "f82d999e-2f01-451a-81a0-02aff62c5ec6",
   "metadata": {},
   "outputs": [
    {
     "name": "stdout",
     "output_type": "stream",
     "text": [
      "dict_keys(['features'])\n",
      "torch.Size([49904, 1024])\n"
     ]
    }
   ],
   "source": [
    "from safetensors.torch import load_file\n",
    "import torch\n",
    "\n",
    "esmfold_ft = load_file(\"/homefs/home/lux70/plaid_cached_tensors/holdout_esmfold_feats.st\")\n",
    "\n",
    "print(esmfold_ft.keys())\n",
    "print(esmfold_ft['features'].shape)"
   ]
  },
  {
   "cell_type": "code",
   "execution_count": 12,
   "id": "740aa441-344b-4f0b-94cf-c209037dcf6c",
   "metadata": {},
   "outputs": [],
   "source": [
    "import torch\n",
    "from plaid.datasets import CATHShardedDataModule\n",
    "\n",
    "shard_dir = \"/homefs/home/lux70/storage/data/rocklin/shards/\"\n",
    "dm = CATHShardedDataModule(\n",
    "    storage_type=\"hdf5\",\n",
    "    shard_dir=shard_dir,\n",
    "    embedder=\"esm2_t6_8M_UR50D\",\n",
    "    seq_len=256,\n",
    "    batch_size=2048\n",
    ")\n",
    "dm.setup()\n",
    "train_dataloader = dm.train_dataloader()\n",
    "val_dataloader = dm.val_dataloader()"
   ]
  },
  {
   "cell_type": "code",
   "execution_count": 20,
   "id": "5e8872e0-519a-4902-a01b-b135772ff798",
   "metadata": {},
   "outputs": [
    {
     "name": "stdout",
     "output_type": "stream",
     "text": [
      "torch.Size([1976, 320])\n"
     ]
    }
   ],
   "source": [
    "features = torch.cat([batch[0] for batch in val_dataloader])\n",
    "features = features.mean(dim=1)\n",
    "print(features.shape)"
   ]
  },
  {
   "cell_type": "code",
   "execution_count": 21,
   "id": "4354e88f-2f1b-4216-8062-a27c252d1689",
   "metadata": {},
   "outputs": [],
   "source": [
    "from safetensors.torch import save_file\n",
    "outpath = \"/homefs/home/lux70/plaid_cached_tensors/rocklin_esm2_t6_holdout.st\"\n",
    "save_file({\"features\": features}, outpath)"
   ]
  },
  {
   "cell_type": "code",
   "execution_count": null,
   "id": "23f33e85-a687-4bad-9afa-0f03c0abed3a",
   "metadata": {},
   "outputs": [],
   "source": []
  }
 ],
 "metadata": {
  "kernelspec": {
   "display_name": "Python 3 (ipykernel)",
   "language": "python",
   "name": "python3"
  },
  "language_info": {
   "codemirror_mode": {
    "name": "ipython",
    "version": 3
   },
   "file_extension": ".py",
   "mimetype": "text/x-python",
   "name": "python",
   "nbconvert_exporter": "python",
   "pygments_lexer": "ipython3",
   "version": "3.12.1"
  }
 },
 "nbformat": 4,
 "nbformat_minor": 5
}
