{
 "cells": [
  {
   "cell_type": "code",
   "execution_count": 1,
   "id": "1c25df97-e34d-47c7-ad88-e4dca43f89de",
   "metadata": {},
   "outputs": [],
   "source": [
    "%load_ext autoreload\n",
    "%autoreload 2"
   ]
  },
  {
   "cell_type": "code",
   "execution_count": 2,
   "id": "02c70b53-7236-4f6d-91ca-eea553e61045",
   "metadata": {},
   "outputs": [],
   "source": [
    "import h5py\n",
    "from tqdm.notebook import trange\n",
    "from plaid.transforms import trim_or_pad_length_first\n",
    "from plaid.utils import to_tensor"
   ]
  },
  {
   "cell_type": "code",
   "execution_count": 14,
   "id": "1599bf76-e235-4b18-a0f3-89d3f0e15f33",
   "metadata": {},
   "outputs": [
    {
     "name": "stdout",
     "output_type": "stream",
     "text": [
      "total 512\n",
      "drwxr-x--- 2 lux70 games 4 Apr 27 23:08 seqlen_512\n"
     ]
    }
   ],
   "source": [
    "!ls -trhl /homefs/home/lux70/storage/data/pfam/compressed/subset_1M/hourglass_wiepwn5p"
   ]
  },
  {
   "cell_type": "code",
   "execution_count": 4,
   "id": "226caa63-5726-4f8a-ab6a-3380de18574e",
   "metadata": {},
   "outputs": [],
   "source": [
    "def get_data_sigma_from_h5_fpath(fpath):\n",
    "    arrays = []\n",
    "    with h5py.File(fpath, mode='r') as f:\n",
    "        for k, v in f.attrs.items():\n",
    "            print(k,v)\n",
    "    \n",
    "        effective_length = int(f.attrs['max_seq_len']) / int(f.attrs['shorten_factor'])\n",
    "        for i in trange(int(f.attrs['dataset_size'])):\n",
    "            arr = f[str(i)][:]\n",
    "            arrays.append(arr)\n",
    "    \n",
    "    import numpy as np\n",
    "    data_sigmas = [np.std(a) for a in arrays]\n",
    "    print(np.mean(data_sigmas))"
   ]
  },
  {
   "cell_type": "code",
   "execution_count": 5,
   "id": "059b80a6-f5ca-4742-92c8-7cbdcaa0bb24",
   "metadata": {},
   "outputs": [
    {
     "name": "stdout",
     "output_type": "stream",
     "text": [
      "compressed_hid_dim 8\n",
      "dataset_size 1000\n",
      "max_seq_len 512\n",
      "shorten_factor 2\n"
     ]
    },
    {
     "data": {
      "application/vnd.jupyter.widget-view+json": {
       "model_id": "5fae6f3cd1234daa8c235ff2e8779055",
       "version_major": 2,
       "version_minor": 0
      },
      "text/plain": [
       "  0%|          | 0/1000 [00:00<?, ?it/s]"
      ]
     },
     "metadata": {},
     "output_type": "display_data"
    },
    {
     "name": "stdout",
     "output_type": "stream",
     "text": [
      "0.36855856\n"
     ]
    }
   ],
   "source": [
    "fpath = \"/homefs/home/lux70/storage/data/pfam/compressed/subset_1M_with_clan/fp16/hourglass_qjs33lme/seqlen_512/val.h5\"\n",
    "get_data_sigma_from_h5_fpath(fpath)"
   ]
  },
  {
   "cell_type": "code",
   "execution_count": 6,
   "id": "e84c1149-6104-408f-bac4-8fc788afd8e4",
   "metadata": {},
   "outputs": [
    {
     "name": "stdout",
     "output_type": "stream",
     "text": [
      "compressed_hid_dim 8\n",
      "dataset_size 2999\n",
      "max_seq_len 512\n",
      "shorten_factor 1\n"
     ]
    },
    {
     "data": {
      "application/vnd.jupyter.widget-view+json": {
       "model_id": "4126c7b91d854370837f103b74f4e6ed",
       "version_major": 2,
       "version_minor": 0
      },
      "text/plain": [
       "  0%|          | 0/2999 [00:00<?, ?it/s]"
      ]
     },
     "metadata": {},
     "output_type": "display_data"
    },
    {
     "name": "stdout",
     "output_type": "stream",
     "text": [
      "0.5509415\n"
     ]
    }
   ],
   "source": [
    "fpath = \"/homefs/home/lux70/storage/data/pfam/compressed/subset_30K_with_clan/hourglass_jzlv54wl/seqlen_512/val.h5\"\n",
    "get_data_sigma_from_h5_fpath(fpath)"
   ]
  },
  {
   "cell_type": "code",
   "execution_count": 7,
   "id": "a257386d-8434-49d6-85af-7d814c76a2f1",
   "metadata": {},
   "outputs": [
    {
     "name": "stdout",
     "output_type": "stream",
     "text": [
      "compressed_hid_dim 64\n",
      "dataset_size 2999\n",
      "max_seq_len 512\n",
      "shorten_factor 2\n"
     ]
    },
    {
     "data": {
      "application/vnd.jupyter.widget-view+json": {
       "model_id": "6f54fc6d03694565a0646f17d7453c59",
       "version_major": 2,
       "version_minor": 0
      },
      "text/plain": [
       "  0%|          | 0/2999 [00:00<?, ?it/s]"
      ]
     },
     "metadata": {},
     "output_type": "display_data"
    },
    {
     "name": "stdout",
     "output_type": "stream",
     "text": [
      "0.28764647\n"
     ]
    }
   ],
   "source": [
    "fpath = \"/homefs/home/lux70/storage/data/pfam/compressed/subset_30K_with_clan/hourglass_h9hzw1bp/seqlen_512/val.h5\"\n",
    "get_data_sigma_from_h5_fpath(fpath)"
   ]
  },
  {
   "cell_type": "code",
   "execution_count": 8,
   "id": "dd57b989-d858-4a22-a94f-941363993b27",
   "metadata": {},
   "outputs": [
    {
     "name": "stdout",
     "output_type": "stream",
     "text": [
      "compressed_hid_dim 32\n",
      "dataset_size 2999\n",
      "max_seq_len 512\n",
      "shorten_factor 2\n"
     ]
    },
    {
     "data": {
      "application/vnd.jupyter.widget-view+json": {
       "model_id": "809a860edcdb419c935910de6dab145b",
       "version_major": 2,
       "version_minor": 0
      },
      "text/plain": [
       "  0%|          | 0/2999 [00:00<?, ?it/s]"
      ]
     },
     "metadata": {},
     "output_type": "display_data"
    },
    {
     "name": "stdout",
     "output_type": "stream",
     "text": [
      "0.33817336\n"
     ]
    }
   ],
   "source": [
    "fpath = \"/homefs/home/lux70/storage/data/pfam/compressed/subset_30K_with_clan/hourglass_j1v1wv6w/seqlen_512/val.h5\"\n",
    "get_data_sigma_from_h5_fpath(fpath)"
   ]
  },
  {
   "cell_type": "code",
   "execution_count": 15,
   "id": "256971b2-14cc-455e-9fa3-199dae48b9ac",
   "metadata": {},
   "outputs": [
    {
     "name": "stdout",
     "output_type": "stream",
     "text": [
      "compressed_hid_dim 8\n",
      "dataset_size 1000\n",
      "max_seq_len 512\n",
      "shorten_factor 1\n"
     ]
    },
    {
     "data": {
      "application/vnd.jupyter.widget-view+json": {
       "model_id": "3bf0fc41080044a29049aa7b395b3ef3",
       "version_major": 2,
       "version_minor": 0
      },
      "text/plain": [
       "  0%|          | 0/1000 [00:00<?, ?it/s]"
      ]
     },
     "metadata": {},
     "output_type": "display_data"
    },
    {
     "name": "stdout",
     "output_type": "stream",
     "text": [
      "0.55581045\n"
     ]
    }
   ],
   "source": [
    "fpath = \"/homefs/home/lux70/storage/data/pfam/compressed/subset_1M/hourglass_wiepwn5p/seqlen_512/val.h5\"\n",
    "get_data_sigma_from_h5_fpath(fpath)"
   ]
  },
  {
   "cell_type": "code",
   "execution_count": null,
   "id": "7e6607f2-25b9-44f5-a8e1-732f53bdb613",
   "metadata": {},
   "outputs": [],
   "source": []
  }
 ],
 "metadata": {
  "kernelspec": {
   "display_name": "Python (py310)",
   "language": "python",
   "name": "py310"
  },
  "language_info": {
   "codemirror_mode": {
    "name": "ipython",
    "version": 3
   },
   "file_extension": ".py",
   "mimetype": "text/x-python",
   "name": "python",
   "nbconvert_exporter": "python",
   "pygments_lexer": "ipython3",
   "version": "3.10.14"
  }
 },
 "nbformat": 4,
 "nbformat_minor": 5
}
