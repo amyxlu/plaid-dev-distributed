{
 "cells": [
  {
   "cell_type": "code",
   "execution_count": 5,
   "id": "fc2a87b1-9775-4a7c-ba5b-897d8baf58a6",
   "metadata": {
    "execution": {
     "iopub.execute_input": "2024-10-02T08:35:51.736040Z",
     "iopub.status.busy": "2024-10-02T08:35:51.735630Z",
     "iopub.status.idle": "2024-10-02T08:35:51.738861Z",
     "shell.execute_reply": "2024-10-02T08:35:51.738379Z",
     "shell.execute_reply.started": "2024-10-02T08:35:51.736014Z"
    }
   },
   "outputs": [],
   "source": [
    "import pandas as pd\n",
    "import os \n",
    "from pathlib import Path\n",
    "import glob"
   ]
  }
 ],
 "metadata": {
  "kernelspec": {
   "display_name": "Python (omegafold)",
   "language": "python",
   "name": "omegafold"
  },
  "language_info": {
   "codemirror_mode": {
    "name": "ipython",
    "version": 3
   },
   "file_extension": ".py",
   "mimetype": "text/x-python",
   "name": "python",
   "nbconvert_exporter": "python",
   "pygments_lexer": "ipython3",
   "version": "3.9.12"
  }
 },
 "nbformat": 4,
 "nbformat_minor": 5
}
