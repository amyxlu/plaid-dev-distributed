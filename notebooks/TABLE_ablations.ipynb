{
 "cells": [
  {
   "cell_type": "code",
   "execution_count": 5,
   "id": "fc2a87b1-9775-4a7c-ba5b-897d8baf58a6",
   "metadata": {
    "execution": {
     "iopub.execute_input": "2024-10-02T08:35:51.736040Z",
     "iopub.status.busy": "2024-10-02T08:35:51.735630Z",
     "iopub.status.idle": "2024-10-02T08:35:51.738861Z",
     "shell.execute_reply": "2024-10-02T08:35:51.738379Z",
     "shell.execute_reply.started": "2024-10-02T08:35:51.736014Z"
    }
   },
   "outputs": [],
   "source": [
    "import pandas as pd\n",
    "import os \n",
    "from pathlib import Path\n",
    "import glob"
   ]
  },
  {
   "cell_type": "code",
   "execution_count": 6,
   "id": "96e9af7c-a77e-4adb-9880-1fb1f983407f",
   "metadata": {
    "execution": {
     "iopub.execute_input": "2024-10-02T08:36:08.992619Z",
     "iopub.status.busy": "2024-10-02T08:36:08.992279Z",
     "iopub.status.idle": "2024-10-02T08:36:08.995264Z",
     "shell.execute_reply": "2024-10-02T08:36:08.994802Z",
     "shell.execute_reply.started": "2024-10-02T08:36:08.992595Z"
    }
   },
   "outputs": [],
   "source": [
    "sampdir = Path(\"/data/lux70/plaid/artifacts/samples/scaling\")"
   ]
  },
  {
   "cell_type": "code",
   "execution_count": 7,
   "id": "4ed9ae3c-c84e-4535-b83b-b888fc59e60b",
   "metadata": {
    "execution": {
     "iopub.execute_input": "2024-10-02T08:36:13.430918Z",
     "iopub.status.busy": "2024-10-02T08:36:13.430590Z",
     "iopub.status.idle": "2024-10-02T08:36:13.441331Z",
     "shell.execute_reply": "2024-10-02T08:36:13.440871Z",
     "shell.execute_reply.started": "2024-10-02T08:36:13.430895Z"
    }
   },
   "outputs": [
    {
     "data": {
      "text/plain": [
       "['ksme77o6',\n",
       " 'zlkurtdd',\n",
       " 'ajaucr8g',\n",
       " '4hdab8dn',\n",
       " 'lqp25b7g',\n",
       " 'o2cgf3eq',\n",
       " 'q133mkem',\n",
       " 'vzi7fsts',\n",
       " 'oa5kjy9x',\n",
       " 'fo6tv2gf',\n",
       " '9xd5bpc1',\n",
       " 'm91o13nd',\n",
       " 'ye1j29dh',\n",
       " 'oi96ynxl',\n",
       " 'jgxkivbq',\n",
       " '5j007z42',\n",
       " 'f0luhi8y',\n",
       " 'k7nfljjc',\n",
       " '6ryvfi2v',\n",
       " 'dojwljt5',\n",
       " '87up71bi',\n",
       " 'qfvl29in',\n",
       " 'iu72i7c5',\n",
       " '93qqcdh9']"
      ]
     },
     "execution_count": 7,
     "metadata": {},
     "output_type": "execute_result"
    }
   ],
   "source": [
    "model_ids = ['4hdab8dn',]"
   ]
  },
  {
   "cell_type": "code",
   "execution_count": null,
   "id": "a1e13680-0d5d-4a3a-be86-d9a5a49480f7",
   "metadata": {},
   "outputs": [],
   "source": []
  }
 ],
 "metadata": {
  "kernelspec": {
   "display_name": "Python (omegafold)",
   "language": "python",
   "name": "omegafold"
  },
  "language_info": {
   "codemirror_mode": {
    "name": "ipython",
    "version": 3
   },
   "file_extension": ".py",
   "mimetype": "text/x-python",
   "name": "python",
   "nbconvert_exporter": "python",
   "pygments_lexer": "ipython3",
   "version": "3.9.12"
  }
 },
 "nbformat": 4,
 "nbformat_minor": 5
}
