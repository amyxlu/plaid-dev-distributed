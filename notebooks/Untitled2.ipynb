{
 "cells": [
  {
   "cell_type": "code",
   "execution_count": 1,
   "id": "ff9e681f-86bf-4d34-b772-968287b3c6ca",
   "metadata": {},
   "outputs": [],
   "source": [
    "%load_ext autoreload\n",
    "%autoreload 2"
   ]
  },
  {
   "cell_type": "code",
   "execution_count": 9,
   "id": "84d3dddb-b121-4875-8c23-4f5bdee668a7",
   "metadata": {},
   "outputs": [
    {
     "data": {
      "text/plain": [
       "['__name__',\n",
       " '__doc__',\n",
       " '__package__',\n",
       " '__loader__',\n",
       " '__spec__',\n",
       " '__path__',\n",
       " '__file__',\n",
       " '__cached__',\n",
       " '__builtins__',\n",
       " '_fid',\n",
       " 'Optional',\n",
       " 'np',\n",
       " 'linalg',\n",
       " 'torch',\n",
       " 'frechet_distance',\n",
       " 'parmar_kid',\n",
       " 'parmar_fid',\n",
       " 'polynomial_kernel',\n",
       " 'squared_mmd',\n",
       " 'calc_kid_fn',\n",
       " 'sqrtm_eig',\n",
       " 'calc_fid_fn',\n",
       " 'ConditionalFID',\n",
       " '_perplexity',\n",
       " 'math',\n",
       " 'T',\n",
       " 'nll_loss',\n",
       " 'AutoTokenizer',\n",
       " 'AutoModelForCausalLM',\n",
       " 'to_tensor',\n",
       " 'RITAPerplexity',\n",
       " 'ESMPseudoPerplexity',\n",
       " '_structure_metrics',\n",
       " 'batch_rmspd_from_pdb_paths',\n",
       " 'lDDT',\n",
       " 'RMSD',\n",
       " '_tmalign',\n",
       " 'run_tmalign',\n",
       " 'max_tm_across_refs']"
      ]
     },
     "execution_count": 9,
     "metadata": {},
     "output_type": "execute_result"
    }
   ],
   "source": [
    "# import pandas as pd\n",
    "# from plaid.utils import round_to_multiple\n",
    "# from omegaconf import DictConfig, OmegaConf\n",
    "from plaid import evaluation\n",
    "evaluation.__dir__()"
   ]
  },
  {
   "cell_type": "code",
   "execution_count": 2,
   "id": "1b433eea-8207-4d90-a11e-ccd98b0a4dcf",
   "metadata": {},
   "outputs": [],
   "source": [
    "df = pd.read_parquet(\"/data/lux70/data/pfam/val.parquet\")\n",
    "unique_go_idxs = df.GO_idx.unique()\n",
    "unique_go_idxs.sort()"
   ]
  },
  {
   "cell_type": "code",
   "execution_count": 18,
   "id": "f3f3c2af-8fa7-48d1-9b30-6abd61765971",
   "metadata": {},
   "outputs": [],
   "source": [
    "cfg = OmegaConf.load(\"/homefs/home/lux70/code/plaid/configs/pipeline/sample_latent.yaml\")\n",
    "cfg.return_all_timesteps = True\n",
    "cfg.length = 64"
   ]
  },
  {
   "cell_type": "code",
   "execution_count": 22,
   "id": "d5f6f4c5-1b7d-4120-a5bd-d80602088e5c",
   "metadata": {},
   "outputs": [
    {
     "name": "stdout",
     "output_type": "stream",
     "text": [
      "127 64 1\n",
      "270 136 2\n",
      "45 24 4\n",
      "142 72 6\n",
      "89 44 7\n",
      "133 68 8\n",
      "39 20 10\n",
      "99 48 11\n",
      "82 40 13\n",
      "88 44 14\n",
      "108 56 15\n"
     ]
    }
   ],
   "source": [
    "for i, idx in enumerate(unique_go_idxs):\n",
    "    if i > 10:\n",
    "        break\n",
    "    median_len = int(df[df.GO_idx == idx].seq_len.median())\n",
    "    sample_len = round_to_multiple(median_len / 2, multiple=4)\n",
    "    print(median_len,sample_len,idx)"
   ]
  },
  {
   "cell_type": "code",
   "execution_count": 31,
   "id": "0467e66d-f22c-46ef-836a-b8bc24d444a0",
   "metadata": {},
   "outputs": [
    {
     "ename": "ModuleNotFoundError",
     "evalue": "No module named 'plaid.evaluation.run_sample'",
     "output_type": "error",
     "traceback": [
      "\u001b[0;31m---------------------------------------------------------------------------\u001b[0m",
      "\u001b[0;31mModuleNotFoundError\u001b[0m                       Traceback (most recent call last)",
      "Cell \u001b[0;32mIn[31], line 1\u001b[0m\n\u001b[0;32m----> 1\u001b[0m \u001b[38;5;28;01mfrom\u001b[39;00m \u001b[38;5;21;01mplaid\u001b[39;00m\u001b[38;5;21;01m.\u001b[39;00m\u001b[38;5;21;01mevaluation\u001b[39;00m\u001b[38;5;21;01m.\u001b[39;00m\u001b[38;5;21;01mrun_sample\u001b[39;00m \u001b[38;5;28;01mimport\u001b[39;00m run\n",
      "\u001b[0;31mModuleNotFoundError\u001b[0m: No module named 'plaid.evaluation.run_sample'"
     ]
    }
   ],
   "source": []
  },
  {
   "cell_type": "code",
   "execution_count": 28,
   "id": "3b79e350-3542-41c7-9dbc-701877ed23a5",
   "metadata": {},
   "outputs": [
    {
     "data": {
      "text/plain": [
       "{'defaults': ['_self_'], 'model_id': '5j007z42', 'model_ckpt_dir': '/data/lux70/plaid/checkpoints/plaid-compositional', 'organism_idx': 3617, 'function_idx': 2219, 'cond_scale': 10.0, 'num_samples': 1024, 'beta_scheduler_name': None, 'sampling_timesteps': 500, 'batch_size': -1, 'return_all_timesteps': True, 'output_root_dir': '/data/lux70/plaid/artifacts/samples', 'length': 64}"
      ]
     },
     "execution_count": 28,
     "metadata": {},
     "output_type": "execute_result"
    }
   ],
   "source": []
  },
  {
   "cell_type": "code",
   "execution_count": null,
   "id": "c2e8bc47-f8a6-4b2e-ae73-733a74ecda46",
   "metadata": {},
   "outputs": [],
   "source": []
  }
 ],
 "metadata": {
  "kernelspec": {
   "display_name": "Python (plaid-train)",
   "language": "python",
   "name": "plaid-train"
  },
  "language_info": {
   "codemirror_mode": {
    "name": "ipython",
    "version": 3
   },
   "file_extension": ".py",
   "mimetype": "text/x-python",
   "name": "python",
   "nbconvert_exporter": "python",
   "pygments_lexer": "ipython3",
   "version": "3.10.14"
  }
 },
 "nbformat": 4,
 "nbformat_minor": 5
}
