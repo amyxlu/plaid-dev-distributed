{
 "cells": [
  {
   "cell_type": "code",
   "execution_count": 1,
   "id": "7aa66b8e-c773-4e98-831a-f2572eeecd39",
   "metadata": {
    "execution": {
     "iopub.execute_input": "2024-09-22T02:13:03.432662Z",
     "iopub.status.busy": "2024-09-22T02:13:03.432292Z",
     "iopub.status.idle": "2024-09-22T02:13:04.116862Z",
     "shell.execute_reply": "2024-09-22T02:13:04.116175Z",
     "shell.execute_reply.started": "2024-09-22T02:13:03.432637Z"
    }
   },
   "outputs": [],
   "source": [
    "import pandas as pd\n"
   ]
  },
  {
   "cell_type": "code",
   "execution_count": 4,
   "id": "7ce5dc81-13ec-4e31-ba28-afd1f0480d8c",
   "metadata": {
    "execution": {
     "iopub.execute_input": "2024-09-22T02:13:34.079150Z",
     "iopub.status.busy": "2024-09-22T02:13:34.078760Z",
     "iopub.status.idle": "2024-09-22T02:13:34.082083Z",
     "shell.execute_reply": "2024-09-22T02:13:34.081503Z",
     "shell.execute_reply.started": "2024-09-22T02:13:34.079123Z"
    }
   },
   "outputs": [],
   "source": [
    "path = \"/data/lux70/data/pfam/go_index.csv\""
   ]
  },
  {
   "cell_type": "code",
   "execution_count": 5,
   "id": "004188cc-f304-4310-bf42-fc2ae2d2b304",
   "metadata": {
    "execution": {
     "iopub.execute_input": "2024-09-22T02:13:34.530536Z",
     "iopub.status.busy": "2024-09-22T02:13:34.530049Z",
     "iopub.status.idle": "2024-09-22T02:13:34.548742Z",
     "shell.execute_reply": "2024-09-22T02:13:34.548152Z",
     "shell.execute_reply.started": "2024-09-22T02:13:34.530505Z"
    }
   },
   "outputs": [
    {
     "data": {
      "text/html": [
       "<div>\n",
       "<style scoped>\n",
       "    .dataframe tbody tr th:only-of-type {\n",
       "        vertical-align: middle;\n",
       "    }\n",
       "\n",
       "    .dataframe tbody tr th {\n",
       "        vertical-align: top;\n",
       "    }\n",
       "\n",
       "    .dataframe thead th {\n",
       "        text-align: right;\n",
       "    }\n",
       "</style>\n",
       "<table border=\"1\" class=\"dataframe\">\n",
       "  <thead>\n",
       "    <tr style=\"text-align: right;\">\n",
       "      <th></th>\n",
       "      <th>Unnamed: 0</th>\n",
       "      <th>GO_term</th>\n",
       "      <th>pfam_id</th>\n",
       "      <th>GO_id</th>\n",
       "      <th>GO_level</th>\n",
       "      <th>count</th>\n",
       "      <th>GO_idx</th>\n",
       "    </tr>\n",
       "  </thead>\n",
       "  <tbody>\n",
       "    <tr>\n",
       "      <th>0</th>\n",
       "      <td>161</td>\n",
       "      <td>G protein-coupled receptor activity</td>\n",
       "      <td>PF00001</td>\n",
       "      <td>GO:0004930</td>\n",
       "      <td>function</td>\n",
       "      <td>11</td>\n",
       "      <td>0</td>\n",
       "    </tr>\n",
       "    <tr>\n",
       "      <th>1</th>\n",
       "      <td>54</td>\n",
       "      <td>ATP hydrolysis activity</td>\n",
       "      <td>PF00004</td>\n",
       "      <td>GO:0016887</td>\n",
       "      <td>function</td>\n",
       "      <td>15</td>\n",
       "      <td>1</td>\n",
       "    </tr>\n",
       "    <tr>\n",
       "      <th>2</th>\n",
       "      <td>52</td>\n",
       "      <td>ATP binding</td>\n",
       "      <td>PF00006</td>\n",
       "      <td>GO:0005524</td>\n",
       "      <td>function</td>\n",
       "      <td>178</td>\n",
       "      <td>2</td>\n",
       "    </tr>\n",
       "    <tr>\n",
       "      <th>3</th>\n",
       "      <td>174</td>\n",
       "      <td>GTPase activity</td>\n",
       "      <td>PF00009</td>\n",
       "      <td>GO:0003924</td>\n",
       "      <td>function</td>\n",
       "      <td>10</td>\n",
       "      <td>3</td>\n",
       "    </tr>\n",
       "    <tr>\n",
       "      <th>4</th>\n",
       "      <td>1634</td>\n",
       "      <td>protein dimerization activity</td>\n",
       "      <td>PF00010</td>\n",
       "      <td>GO:0046983</td>\n",
       "      <td>function</td>\n",
       "      <td>22</td>\n",
       "      <td>4</td>\n",
       "    </tr>\n",
       "  </tbody>\n",
       "</table>\n",
       "</div>"
      ],
      "text/plain": [
       "   Unnamed: 0                              GO_term  pfam_id       GO_id  \\\n",
       "0         161  G protein-coupled receptor activity  PF00001  GO:0004930   \n",
       "1          54              ATP hydrolysis activity  PF00004  GO:0016887   \n",
       "2          52                          ATP binding  PF00006  GO:0005524   \n",
       "3         174                      GTPase activity  PF00009  GO:0003924   \n",
       "4        1634        protein dimerization activity  PF00010  GO:0046983   \n",
       "\n",
       "   GO_level  count  GO_idx  \n",
       "0  function     11       0  \n",
       "1  function     15       1  \n",
       "2  function    178       2  \n",
       "3  function     10       3  \n",
       "4  function     22       4  "
      ]
     },
     "execution_count": 5,
     "metadata": {},
     "output_type": "execute_result"
    }
   ],
   "source": [
    "df = pd.read_csv(path)\n",
    "df.head()"
   ]
  },
  {
   "cell_type": "code",
   "execution_count": 6,
   "id": "1e1ae0d6-3308-44f3-8477-1f3a7b5fc797",
   "metadata": {
    "execution": {
     "iopub.execute_input": "2024-09-22T02:13:49.492178Z",
     "iopub.status.busy": "2024-09-22T02:13:49.491820Z",
     "iopub.status.idle": "2024-09-22T02:13:49.496859Z",
     "shell.execute_reply": "2024-09-22T02:13:49.496243Z",
     "shell.execute_reply.started": "2024-09-22T02:13:49.492149Z"
    }
   },
   "outputs": [
    {
     "data": {
      "text/plain": [
       "array(['function', 'process', 'component'], dtype=object)"
      ]
     },
     "execution_count": 6,
     "metadata": {},
     "output_type": "execute_result"
    }
   ],
   "source": [
    "df.GO_level.unique()"
   ]
  },
  {
   "cell_type": "code",
   "execution_count": 7,
   "id": "b54ee115-5a10-40ba-98d0-da67e0783628",
   "metadata": {
    "execution": {
     "iopub.execute_input": "2024-09-22T02:14:24.235151Z",
     "iopub.status.busy": "2024-09-22T02:14:24.234801Z",
     "iopub.status.idle": "2024-09-22T02:14:25.488996Z",
     "shell.execute_reply": "2024-09-22T02:14:25.488183Z",
     "shell.execute_reply.started": "2024-09-22T02:14:24.235123Z"
    }
   },
   "outputs": [
    {
     "ename": "ValueError",
     "evalue": "COULD NOT READ(http://current.geneontology.org/ontology/go-basic.obo)\ndownload obo file first\n [http://geneontology.org/ontology/go-basic.obo]",
     "output_type": "error",
     "traceback": [
      "\u001b[0;31m---------------------------------------------------------------------------\u001b[0m",
      "\u001b[0;31mValueError\u001b[0m                                Traceback (most recent call last)",
      "Cell \u001b[0;32mIn[7], line 4\u001b[0m\n\u001b[1;32m      1\u001b[0m \u001b[38;5;28;01mfrom\u001b[39;00m \u001b[38;5;21;01mgoatools\u001b[39;00m\u001b[38;5;21;01m.\u001b[39;00m\u001b[38;5;21;01mobo_parser\u001b[39;00m \u001b[38;5;28;01mimport\u001b[39;00m GODag\n\u001b[1;32m      3\u001b[0m \u001b[38;5;66;03m# Load GO DAG (Directed Acyclic Graph)\u001b[39;00m\n\u001b[0;32m----> 4\u001b[0m godag \u001b[38;5;241m=\u001b[39m \u001b[43mGODag\u001b[49m\u001b[43m(\u001b[49m\u001b[38;5;124;43m\"\u001b[39;49m\u001b[38;5;124;43mhttp://current.geneontology.org/ontology/go-basic.obo\u001b[39;49m\u001b[38;5;124;43m\"\u001b[39;49m\u001b[43m)\u001b[49m\n\u001b[1;32m      6\u001b[0m \u001b[38;5;66;03m# Replace with your GO term\u001b[39;00m\n\u001b[1;32m      7\u001b[0m go_term \u001b[38;5;241m=\u001b[39m \u001b[38;5;124m'\u001b[39m\u001b[38;5;124mGO:0008150\u001b[39m\u001b[38;5;124m'\u001b[39m  \u001b[38;5;66;03m# Example for biological process\u001b[39;00m\n",
      "File \u001b[0;32m~/micromamba/envs/omegafold/lib/python3.9/site-packages/goatools/obo_parser.py:316\u001b[0m, in \u001b[0;36mGODag.__init__\u001b[0;34m(self, obo_file, optional_attrs, load_obsolete, prt)\u001b[0m\n\u001b[1;32m    308\u001b[0m \u001b[38;5;28;01mdef\u001b[39;00m \u001b[38;5;21m__init__\u001b[39m(\n\u001b[1;32m    309\u001b[0m     \u001b[38;5;28mself\u001b[39m,\n\u001b[1;32m    310\u001b[0m     obo_file: \u001b[38;5;28mstr\u001b[39m \u001b[38;5;241m=\u001b[39m \u001b[38;5;124m\"\u001b[39m\u001b[38;5;124mgo-basic.obo\u001b[39m\u001b[38;5;124m\"\u001b[39m,\n\u001b[0;32m   (...)\u001b[0m\n\u001b[1;32m    313\u001b[0m     prt\u001b[38;5;241m=\u001b[39mstdout,\n\u001b[1;32m    314\u001b[0m ):\n\u001b[1;32m    315\u001b[0m     \u001b[38;5;28msuper\u001b[39m()\u001b[38;5;241m.\u001b[39m\u001b[38;5;21m__init__\u001b[39m()\n\u001b[0;32m--> 316\u001b[0m     \u001b[38;5;28mself\u001b[39m\u001b[38;5;241m.\u001b[39mversion, \u001b[38;5;28mself\u001b[39m\u001b[38;5;241m.\u001b[39mdata_version \u001b[38;5;241m=\u001b[39m \u001b[38;5;28;43mself\u001b[39;49m\u001b[38;5;241;43m.\u001b[39;49m\u001b[43mload_obo_file\u001b[49m\u001b[43m(\u001b[49m\n\u001b[1;32m    317\u001b[0m \u001b[43m        \u001b[49m\u001b[43mobo_file\u001b[49m\u001b[43m,\u001b[49m\u001b[43m \u001b[49m\u001b[43moptional_attrs\u001b[49m\u001b[43m,\u001b[49m\u001b[43m \u001b[49m\u001b[43mload_obsolete\u001b[49m\u001b[43m,\u001b[49m\u001b[43m \u001b[49m\u001b[43mprt\u001b[49m\n\u001b[1;32m    318\u001b[0m \u001b[43m    \u001b[49m\u001b[43m)\u001b[49m\n",
      "File \u001b[0;32m~/micromamba/envs/omegafold/lib/python3.9/site-packages/goatools/obo_parser.py:322\u001b[0m, in \u001b[0;36mGODag.load_obo_file\u001b[0;34m(self, obo_file, optional_attrs, load_obsolete, prt)\u001b[0m\n\u001b[1;32m    320\u001b[0m \u001b[38;5;28;01mdef\u001b[39;00m \u001b[38;5;21mload_obo_file\u001b[39m(\u001b[38;5;28mself\u001b[39m, obo_file, optional_attrs, load_obsolete, prt):\n\u001b[1;32m    321\u001b[0m \u001b[38;5;250m    \u001b[39m\u001b[38;5;124;03m\"\"\"Read obo file. Store results.\"\"\"\u001b[39;00m\n\u001b[0;32m--> 322\u001b[0m     reader \u001b[38;5;241m=\u001b[39m \u001b[43mOBOReader\u001b[49m\u001b[43m(\u001b[49m\u001b[43mobo_file\u001b[49m\u001b[43m,\u001b[49m\u001b[43m \u001b[49m\u001b[43moptional_attrs\u001b[49m\u001b[43m)\u001b[49m\n\u001b[1;32m    324\u001b[0m     \u001b[38;5;66;03m# Save alt_ids and their corresponding main GO ID. Add to GODag after populating GO Terms\u001b[39;00m\n\u001b[1;32m    325\u001b[0m     alt2rec \u001b[38;5;241m=\u001b[39m {}\n",
      "File \u001b[0;32m~/micromamba/envs/omegafold/lib/python3.9/site-packages/goatools/obo_parser.py:55\u001b[0m, in \u001b[0;36mOBOReader.__init__\u001b[0;34m(self, obo_file, optional_attrs)\u001b[0m\n\u001b[1;32m     52\u001b[0m     \u001b[38;5;28mself\u001b[39m\u001b[38;5;241m.\u001b[39mobo_file \u001b[38;5;241m=\u001b[39m obo_file\n\u001b[1;32m     53\u001b[0m     \u001b[38;5;66;03m# GOTerm attributes that are necessary for any operations:\u001b[39;00m\n\u001b[1;32m     54\u001b[0m \u001b[38;5;28;01melse\u001b[39;00m:\n\u001b[0;32m---> 55\u001b[0m     \u001b[38;5;28;01mraise\u001b[39;00m \u001b[38;5;167;01mValueError\u001b[39;00m(\n\u001b[1;32m     56\u001b[0m         \u001b[38;5;124mf\u001b[39m\u001b[38;5;124m\"\u001b[39m\u001b[38;5;124mCOULD NOT READ(\u001b[39m\u001b[38;5;132;01m{\u001b[39;00mobo_file\u001b[38;5;132;01m}\u001b[39;00m\u001b[38;5;124m)\u001b[39m\u001b[38;5;130;01m\\n\u001b[39;00m\u001b[38;5;124m\"\u001b[39m\n\u001b[1;32m     57\u001b[0m         \u001b[38;5;124m\"\u001b[39m\u001b[38;5;124mdownload obo file first\u001b[39m\u001b[38;5;130;01m\\n\u001b[39;00m\u001b[38;5;124m \u001b[39m\u001b[38;5;124m\"\u001b[39m\n\u001b[1;32m     58\u001b[0m         \u001b[38;5;124m\"\u001b[39m\u001b[38;5;124m[http://geneontology.org/ontology/\u001b[39m\u001b[38;5;124m\"\u001b[39m\n\u001b[1;32m     59\u001b[0m         \u001b[38;5;124m\"\u001b[39m\u001b[38;5;124mgo-basic.obo]\u001b[39m\u001b[38;5;124m\"\u001b[39m\n\u001b[1;32m     60\u001b[0m     )\n",
      "\u001b[0;31mValueError\u001b[0m: COULD NOT READ(http://current.geneontology.org/ontology/go-basic.obo)\ndownload obo file first\n [http://geneontology.org/ontology/go-basic.obo]"
     ]
    }
   ],
   "source": [
    "from goatools.obo_parser import GODag\n",
    "\n",
    "# Load GO DAG (Directed Acyclic Graph)\n",
    "godag = GODag(\"http://current.geneontology.org/ontology/go-basic.obo\")\n",
    "\n",
    "# Replace with your GO term\n",
    "go_term = 'GO:0008150'  # Example for biological process\n",
    "\n",
    "# Get the term object\n",
    "term = godag[go_term]\n",
    "\n",
    "# Print the term and its parents\n",
    "print(f\"Term: {term.id}, {term.name}\")\n",
    "print(\"Parent terms:\")\n",
    "for parent in term.parents:\n",
    "    print(f\"{parent.id} - {parent.name}\")\n"
   ]
  },
  {
   "cell_type": "code",
   "execution_count": 8,
   "id": "fcce3902-529d-44fd-a866-951b963d5e8a",
   "metadata": {
    "execution": {
     "iopub.execute_input": "2024-09-22T02:15:09.954515Z",
     "iopub.status.busy": "2024-09-22T02:15:09.954135Z",
     "iopub.status.idle": "2024-09-22T02:15:12.471329Z",
     "shell.execute_reply": "2024-09-22T02:15:12.470682Z",
     "shell.execute_reply.started": "2024-09-22T02:15:09.954487Z"
    }
   },
   "outputs": [
    {
     "name": "stdout",
     "output_type": "stream",
     "text": [
      "('GO', 'GO:0005829', 'C:cytosol', 'IEA:TreeGrafter')\n",
      "('GO', 'GO:0005759', 'C:mitochondrial matrix', 'IEA:UniProtKB-SubCell')\n",
      "('GO', 'GO:0005739', 'C:mitochondrion', 'ISS:UniProtKB')\n",
      "('GO', 'GO:0005886', 'C:plasma membrane', 'IEA:UniProtKB-SubCell')\n",
      "('GO', 'GO:0042802', 'F:identical protein binding', 'IEA:TreeGrafter')\n",
      "('GO', 'GO:0016212', 'F:kynurenine-oxoglutarate transaminase activity', 'IEA:UniProtKB-EC')\n",
      "('GO', 'GO:0004069', 'F:L-aspartate:2-oxoglutarate aminotransferase activity', 'ISS:UniProtKB')\n",
      "('GO', 'GO:0004838', 'F:L-tyrosine:2-oxoglutarate aminotransferase activity', 'IEA:TreeGrafter')\n",
      "('GO', 'GO:0030170', 'F:pyridoxal phosphate binding', 'IEA:InterPro')\n",
      "('GO', 'GO:0006103', 'P:2-oxoglutarate metabolic process', 'ISS:UniProtKB')\n",
      "('GO', 'GO:0006533', 'P:aspartate catabolic process', 'IEA:TreeGrafter')\n",
      "('GO', 'GO:0006531', 'P:aspartate metabolic process', 'ISS:UniProtKB')\n",
      "('GO', 'GO:0006536', 'P:glutamate metabolic process', 'ISS:UniProtKB')\n",
      "('GO', 'GO:0033585', 'P:L-phenylalanine biosynthetic process from chorismate via phenylpyruvate', 'IEA:TreeGrafter')\n",
      "('GO', 'GO:0006869', 'P:lipid transport', 'IEA:UniProtKB-KW')\n",
      "('GO', 'GO:0006457', 'P:protein folding', 'TAS:HGNC')\n"
     ]
    }
   ],
   "source": [
    "from Bio import ExPASy\n",
    "from Bio import SwissProt\n",
    "\n",
    "# Use ExPASy or SwissProt to retrieve GO information (limited to SwissProt entries)\n",
    "handle = ExPASy.get_sprot_raw(\"P12345\")  # Example for a SwissProt protein ID\n",
    "record = SwissProt.read(handle)\n",
    "\n",
    "# Access GO terms\n",
    "go_terms = [ref for ref in record.cross_references if ref[0] == 'GO']\n",
    "\n",
    "# Extract GO term hierarchy information (if available)\n",
    "for go in go_terms:\n",
    "    print(go)\n"
   ]
  },
  {
   "cell_type": "code",
   "execution_count": null,
   "id": "4b453f55-d708-4a15-864b-8c05f1c6d12c",
   "metadata": {},
   "outputs": [],
   "source": []
  }
 ],
 "metadata": {
  "kernelspec": {
   "display_name": "Python (omegafold)",
   "language": "python",
   "name": "omegafold"
  },
  "language_info": {
   "codemirror_mode": {
    "name": "ipython",
    "version": 3
   },
   "file_extension": ".py",
   "mimetype": "text/x-python",
   "name": "python",
   "nbconvert_exporter": "python",
   "pygments_lexer": "ipython3",
   "version": "3.9.12"
  }
 },
 "nbformat": 4,
 "nbformat_minor": 5
}
