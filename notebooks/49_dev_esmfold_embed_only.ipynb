{
 "cells": [
  {
   "cell_type": "code",
   "execution_count": 1,
   "id": "0d3333c7-39eb-4221-a641-cc58ad09a205",
   "metadata": {},
   "outputs": [],
   "source": [
    "%load_ext autoreload\n",
    "%autoreload 2"
   ]
  },
  {
   "cell_type": "code",
   "execution_count": 2,
   "id": "2b838b33-41ac-44fa-9629-2bd9db3423ff",
   "metadata": {},
   "outputs": [],
   "source": [
    "import torch"
   ]
  },
  {
   "cell_type": "code",
   "execution_count": 2,
   "id": "f4b4fb8c-2c99-4201-86ef-8ffea5bd4c53",
   "metadata": {},
   "outputs": [],
   "source": [
    "# def _load_esmfold_state_dict():\n",
    "#     url = f\"https://dl.fbaipublicfiles.com/fair-esm/models/esmfold_3B_v1.pt\"\n",
    "#     model_data = torch.hub.load_state_dict_from_url(url, progress=False, map_location=\"cpu\")\n",
    "#     return model_data['model']"
   ]
  },
  {
   "cell_type": "code",
   "execution_count": 5,
   "id": "7491b5f5-8d72-4d8f-bc4a-e2c37d16b3b7",
   "metadata": {},
   "outputs": [],
   "source": [
    "# esmfold_state_dict = _load_esmfold_state_dict()"
   ]
  },
  {
   "cell_type": "code",
   "execution_count": 7,
   "id": "1134be5c-614b-4c62-ba9c-9c2cdaeccd39",
   "metadata": {},
   "outputs": [],
   "source": [
    "# from plaid.esmfold.esmfold_embed_only import ESMFoldEmbed\n",
    "\n",
    "# esmfold_embed = ESMFoldEmbed()\n",
    "# incompatible_keys = esmfold_embed.load_state_dict(esmfold_state_dict, strict=False)"
   ]
  },
  {
   "cell_type": "code",
   "execution_count": 14,
   "id": "3f54dfd7-43cf-4c1b-887a-089cacc7ac1c",
   "metadata": {},
   "outputs": [],
   "source": [
    "# # the only missing keys should be the ESM2 LM, for which weights are already loaded\n",
    "# for key in incompatible_keys.missing_keys:\n",
    "#     assert key[:4] == \"esm.\""
   ]
  },
  {
   "cell_type": "code",
   "execution_count": 3,
   "id": "84753f14-62ab-4bc9-8ca2-6332b989501b",
   "metadata": {},
   "outputs": [],
   "source": [
    "sequence = \"KALTARQQEVFDLIRDHISQTGMPPTRAEIAQRLGFRSPNAAEEHLKALARKGVIEIVSGASRGIRLLQEE\""
   ]
  },
  {
   "cell_type": "code",
   "execution_count": 4,
   "id": "5aaaa50e-86b2-4d9c-8b00-c59582b0fca9",
   "metadata": {},
   "outputs": [
    {
     "name": "stdout",
     "output_type": "stream",
     "text": [
      "ESMFold embedding only model created in 29.92 seconds\n"
     ]
    }
   ],
   "source": [
    "from plaid.esmfold.esmfold_embed_only import esmfold_v1_embed_only\n",
    "\n",
    "model = esmfold_v1_embed_only()\n",
    "model.cuda()\n",
    "res1 = model.infer_embedding(sequence)['s']"
   ]
  },
  {
   "cell_type": "code",
   "execution_count": null,
   "id": "e8fc72e0-f303-4782-9dbd-68ed622514de",
   "metadata": {},
   "outputs": [
    {
     "name": "stderr",
     "output_type": "stream",
     "text": [
      "Creating ESMFold...\n"
     ]
    }
   ],
   "source": [
    "from plaid.esmfold import esmfold_v1\n",
    "\n",
    "esmfold_orig = esmfold_v1()\n",
    "esmfold_orig.cuda()"
   ]
  },
  {
   "cell_type": "code",
   "execution_count": null,
   "id": "29c353e3-f4de-447b-9309-654585cf98ee",
   "metadata": {},
   "outputs": [],
   "source": [
    "res2 = model.infer_embedding(sequence)['s']"
   ]
  },
  {
   "cell_type": "code",
   "execution_count": null,
   "id": "f25aa564-15c8-496e-950a-a9adc4505134",
   "metadata": {},
   "outputs": [],
   "source": [
    "from plaid.utils import npy\n",
    "res1, res2 = npy(res1), npy(res2)"
   ]
  },
  {
   "cell_type": "code",
   "execution_count": null,
   "id": "824e9e3d-e35d-4704-809e-5dad8cef15ce",
   "metadata": {},
   "outputs": [],
   "source": [
    "import numpy as np\n",
    "from numpy.testing import assert_allclose\n",
    "\n",
    "assert_allclose(res1, res2)"
   ]
  },
  {
   "cell_type": "code",
   "execution_count": null,
   "id": "4fd415e3-c8a4-47e1-b86a-b13d22254038",
   "metadata": {},
   "outputs": [],
   "source": []
  }
 ],
 "metadata": {
  "kernelspec": {
   "display_name": "Python (plaid)",
   "language": "python",
   "name": "plaid"
  },
  "language_info": {
   "codemirror_mode": {
    "name": "ipython",
    "version": 3
   },
   "file_extension": ".py",
   "mimetype": "text/x-python",
   "name": "python",
   "nbconvert_exporter": "python",
   "pygments_lexer": "ipython3",
   "version": "3.10.0"
  }
 },
 "nbformat": 4,
 "nbformat_minor": 5
}
