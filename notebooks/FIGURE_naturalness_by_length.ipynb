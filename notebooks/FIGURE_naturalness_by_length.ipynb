{
 "cells": [
  {
   "cell_type": "markdown",
   "id": "76e6f798-03fb-41a6-981c-7b74beccff75",
   "metadata": {},
   "source": [
    "# Sequence analysis"
   ]
  },
  {
   "cell_type": "code",
   "execution_count": 1,
   "id": "3a67e5d7-c426-4078-9ea7-7624a89fa986",
   "metadata": {
    "execution": {
     "iopub.execute_input": "2024-09-26T22:01:38.317863Z",
     "iopub.status.busy": "2024-09-26T22:01:38.317258Z",
     "iopub.status.idle": "2024-09-26T22:01:38.337289Z",
     "shell.execute_reply": "2024-09-26T22:01:38.336763Z",
     "shell.execute_reply.started": "2024-09-26T22:01:38.317834Z"
    }
   },
   "outputs": [],
   "source": [
    "%load_ext autoreload\n",
    "%autoreload 2"
   ]
  },
  {
   "cell_type": "code",
   "execution_count": null,
   "id": "04aaf18f-a22b-4653-a5c8-2ca09eb832b9",
   "metadata": {
    "execution": {
     "iopub.execute_input": "2024-09-26T22:01:38.338715Z",
     "iopub.status.busy": "2024-09-26T22:01:38.338291Z",
     "iopub.status.idle": "2024-09-26T22:01:46.189224Z",
     "shell.execute_reply": "2024-09-26T22:01:46.188491Z",
     "shell.execute_reply.started": "2024-09-26T22:01:38.338693Z"
    }
   },
   "outputs": [],
   "source": [
    "from plaid.utils import *\n",
    "from plaid.evaluation import *\n",
    "from tqdm.auto import tqdm, trange\n",
    "import pandas as pd\n",
    "from pathlib import Path\n",
    "import torch\n",
    "import os"
   ]
  },
  {
   "cell_type": "markdown",
   "id": "6e587bf8-06c8-429b-93e8-5b0af0e3aa9f",
   "metadata": {},
   "source": [
    "# Methods\n",
    "## PLAID"
   ]
  },
  {
   "cell_type": "code",
   "execution_count": 3,
   "id": "26a801d3-6548-4d90-9c9e-4c8d48c329da",
   "metadata": {
    "execution": {
     "iopub.execute_input": "2024-09-26T22:01:46.201398Z",
     "iopub.status.busy": "2024-09-26T22:01:46.200847Z",
     "iopub.status.idle": "2024-09-26T22:01:46.244675Z",
     "shell.execute_reply": "2024-09-26T22:01:46.243975Z",
     "shell.execute_reply.started": "2024-09-26T22:01:46.201376Z"
    }
   },
   "outputs": [],
   "source": [
    "rootdir = Path(\"/data/lux70/plaid/artifacts/samples/by_length/\")"
   ]
  },
  {
   "cell_type": "code",
   "execution_count": 4,
   "id": "0f1607d6-21dc-4e61-98e8-20e639c261eb",
   "metadata": {
    "execution": {
     "iopub.execute_input": "2024-09-26T22:01:46.247717Z",
     "iopub.status.busy": "2024-09-26T22:01:46.247354Z",
     "iopub.status.idle": "2024-09-26T22:01:50.036667Z",
     "shell.execute_reply": "2024-09-26T22:01:50.036080Z",
     "shell.execute_reply.started": "2024-09-26T22:01:46.247687Z"
    }
   },
   "outputs": [
    {
     "name": "stderr",
     "output_type": "stream",
     "text": [
      "/homefs/home/lux70/micromamba/envs/omegafold/lib/python3.9/site-packages/transformers/tokenization_utils_base.py:1601: FutureWarning: `clean_up_tokenization_spaces` was not set. It will be set to `True` by default. This behavior will be depracted in transformers v4.45, and will be then set to `False` by default. For more details check this issue: https://github.com/huggingface/transformers/issues/31884\n",
      "  warnings.warn(\n"
     ]
    }
   ],
   "source": [
    "device = torch.device(\"cuda\")\n",
    "rita_perplexity = RITAPerplexity(device=device)"
   ]
  },
  {
   "cell_type": "code",
   "execution_count": 5,
   "id": "4e94aeaa-5526-4145-b480-6235641fa956",
   "metadata": {
    "execution": {
     "iopub.execute_input": "2024-09-26T22:01:59.861218Z",
     "iopub.status.busy": "2024-09-26T22:01:59.860833Z",
     "iopub.status.idle": "2024-09-26T22:01:59.907983Z",
     "shell.execute_reply": "2024-09-26T22:01:59.907365Z",
     "shell.execute_reply.started": "2024-09-26T22:01:59.861190Z"
    }
   },
   "outputs": [],
   "source": [
    "length = str(32)"
   ]
  },
  {
   "cell_type": "code",
   "execution_count": 8,
   "id": "038b6e1f-f41f-479f-b7b3-d9d4f913aa18",
   "metadata": {
    "execution": {
     "iopub.execute_input": "2024-09-26T22:03:27.457852Z",
     "iopub.status.busy": "2024-09-26T22:03:27.457422Z",
     "iopub.status.idle": "2024-09-26T22:03:27.513820Z",
     "shell.execute_reply": "2024-09-26T22:03:27.513146Z",
     "shell.execute_reply.started": "2024-09-26T22:03:27.457822Z"
    }
   },
   "outputs": [],
   "source": [
    "def sequence_properties(length, rootdir):\n",
    "    length = str(length)\n",
    "\n",
    "    sequences_dict = read_sequences_from_fasta(rootdir / f\"{length}/generated/sequences.fasta\")\n",
    "    perplexities = []\n",
    "    sequences = []\n",
    "    \n",
    "    for i in trange(64):\n",
    "        sequence = sequences_dict[f\"sequence_{i}\"]\n",
    "        ppl = rita_perplexity.calc_perplexity(sequence)\n",
    "        perplexities.append(ppl)\n",
    "        sequences.append(sequence)\n",
    "    \n",
    "    df = pd.DataFrame({\n",
    "        \"sequences\": sequences,\n",
    "        \"perplexity\": perplexities\n",
    "    })\n",
    "    \n",
    "    df = calculate_df_protein_property_mp(df)\n",
    "    return df"
   ]
  },
  {
   "cell_type": "code",
   "execution_count": 9,
   "id": "a1aaa99a-5ae0-4057-a875-dc4dd207d437",
   "metadata": {
    "execution": {
     "iopub.execute_input": "2024-09-26T22:03:33.906871Z",
     "iopub.status.busy": "2024-09-26T22:03:33.906492Z",
     "iopub.status.idle": "2024-09-26T22:03:44.643919Z",
     "shell.execute_reply": "2024-09-26T22:03:44.643076Z",
     "shell.execute_reply.started": "2024-09-26T22:03:33.906845Z"
    }
   },
   "outputs": [
    {
     "data": {
      "application/vnd.jupyter.widget-view+json": {
       "model_id": "4161ab51a4384dc1a7a5c24ae14fc7e5",
       "version_major": 2,
       "version_minor": 0
      },
      "text/plain": [
       "  0%|          | 0/64 [00:00<?, ?it/s]"
      ]
     },
     "metadata": {},
     "output_type": "display_data"
    }
   ],
   "source": [
    "df = sequence_properties(32, rootdir) "
   ]
  },
  {
   "cell_type": "code",
   "execution_count": 16,
   "id": "d0d7f919-bde1-48fe-aee7-888a87bb25db",
   "metadata": {
    "execution": {
     "iopub.execute_input": "2024-09-27T01:24:31.917044Z",
     "iopub.status.busy": "2024-09-27T01:24:31.916746Z",
     "iopub.status.idle": "2024-09-27T01:24:33.500688Z",
     "shell.execute_reply": "2024-09-27T01:24:33.499926Z",
     "shell.execute_reply.started": "2024-09-27T01:24:31.917019Z"
    }
   },
   "outputs": [
    {
     "ename": "NameError",
     "evalue": "name 'molecular_weight' is not defined",
     "output_type": "error",
     "traceback": [
      "\u001b[0;31m---------------------------------------------------------------------------\u001b[0m",
      "\u001b[0;31mNameError\u001b[0m                                 Traceback (most recent call last)",
      "Cell \u001b[0;32mIn[16], line 1\u001b[0m\n\u001b[0;32m----> 1\u001b[0m df\u001b[38;5;241m.\u001b[39mhist(\u001b[43mmolecular_weight\u001b[49m)\n",
      "\u001b[0;31mNameError\u001b[0m: name 'molecular_weight' is not defined"
     ]
    }
   ],
   "source": [
    "df.hist(molecular_weight)"
   ]
  },
  {
   "cell_type": "markdown",
   "id": "5e5631fe-5853-48a3-837e-eeb4897e6bc7",
   "metadata": {},
   "source": [
    "# Natural"
   ]
  },
  {
   "cell_type": "code",
   "execution_count": 15,
   "id": "97995686-9127-4a7d-9801-3141383cb217",
   "metadata": {
    "execution": {
     "iopub.execute_input": "2024-09-27T01:22:31.944360Z",
     "iopub.status.busy": "2024-09-27T01:22:31.943648Z",
     "iopub.status.idle": "2024-09-27T01:24:31.915560Z",
     "shell.execute_reply": "2024-09-27T01:24:31.914928Z",
     "shell.execute_reply.started": "2024-09-27T01:22:31.944328Z"
    }
   },
   "outputs": [
    {
     "name": "stderr",
     "output_type": "stream",
     "text": [
      "100%|██████████| 10.6G/10.6G [00:43<00:00, 264MB/s] \n",
      "100%|██████████| 10.6G/10.6G [01:07<00:00, 169MB/s]\n"
     ]
    }
   ],
   "source": [
    "from evo.dataset import FastaDataset\n",
    "\n",
    "pfam_path  = \"/data/lux70/data/pfam/Pfam-A.fasta\"\n",
    "ds = FastaDataset(pfam_path)\n",
    "dl = torch.utils.data.DataLoader(ds, batch_size=1024)\n",
    "batch = next(iter(dl))"
   ]
  },
  {
   "cell_type": "code",
   "execution_count": null,
   "id": "705901ff-09d0-48c9-818d-9ad85c8b4a4b",
   "metadata": {},
   "outputs": [],
   "source": []
  },
  {
   "cell_type": "code",
   "execution_count": null,
   "id": "aa3dfdb9-e5f5-48f8-aed9-d6b9326acc46",
   "metadata": {},
   "outputs": [],
   "source": []
  }
 ],
 "metadata": {
  "kernelspec": {
   "display_name": "Python (omegafold)",
   "language": "python",
   "name": "omegafold"
  },
  "language_info": {
   "codemirror_mode": {
    "name": "ipython",
    "version": 3
   },
   "file_extension": ".py",
   "mimetype": "text/x-python",
   "name": "python",
   "nbconvert_exporter": "python",
   "pygments_lexer": "ipython3",
   "version": "3.9.12"
  }
 },
 "nbformat": 4,
 "nbformat_minor": 5
}
