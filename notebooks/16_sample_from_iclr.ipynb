{
 "cells": [
  {
   "cell_type": "code",
   "execution_count": 1,
   "metadata": {},
   "outputs": [],
   "source": [
    "%load_ext autoreload\n",
    "%autoreload 2"
   ]
  },
  {
   "cell_type": "code",
   "execution_count": 2,
   "metadata": {},
   "outputs": [],
   "source": [
    "from plaid.denoisers import UIPA\n",
    "ckpt_path = \"/shared/amyxlu/dprot/ckpts/2eiqqk2u\"\n",
    "denoiser, unmatched_keys = UIPA.load_from_checkpoint(ckpt_path, return_unmatched_keys=True)"
   ]
  },
  {
   "cell_type": "code",
   "execution_count": 19,
   "metadata": {},
   "outputs": [],
   "source": [
    "from plaid.utils import LatentScaler\n",
    "from plaid.diffusion.beta_schedulers import CosineBetaScheduler, LinearBetaScheduler, SigmoidBetaScheduler\n",
    "from plaid.diffusion import GaussianDiffusion\n",
    "import torch\n",
    "latent_scaler = LatentScaler(mode=\"channel_standardize\", origin_dataset=\"uniref\")\n",
    "beta_scheduler = SigmoidBetaScheduler(start=0, end=3, tau=0.5)\n",
    "\n",
    "diffusion = GaussianDiffusion(\n",
    "    model=denoiser,\n",
    "    latent_scaler=latent_scaler,\n",
    "    beta_scheduler=beta_scheduler,\n",
    "    sampling_timesteps=500,\n",
    ")\n",
    "device = torch.device(\"cuda:0\")\n",
    "diffusion = diffusion.to(device)"
   ]
  },
  {
   "cell_type": "code",
   "execution_count": 12,
   "metadata": {},
   "outputs": [],
   "source": [
    "# from plaid.diffusion import GaussianDiffusion, ElucidatedDiffusion\n",
    "# import torch\n",
    "# device = torch.device(\"cuda:0\")\n",
    "# denoiser = denoiser.to(device)\n",
    "\n",
    "# latent_scaler = LatentScaler(mode=\"channel_standardize\", origin_dataset=\"cath\")\n",
    "\n",
    "# diffusion = ElucidatedDiffusion(\n",
    "#     denoiser=denoiser,\n",
    "#     latent_scaler=latent_scaler,\n",
    "#     # sigma_data=1.,\n",
    "#     # sigma_max=100.,\n",
    "#     # rho=5,\n",
    "#     # P_std=0.8\n",
    "# )\n",
    "# diffusion = diffusion.to(device)\n"
   ]
  },
  {
   "cell_type": "code",
   "execution_count": 21,
   "metadata": {},
   "outputs": [
    {
     "data": {
      "application/vnd.jupyter.widget-view+json": {
       "model_id": "2cd4f25326f9417286cf8229a973a83d",
       "version_major": 2,
       "version_minor": 0
      },
      "text/plain": [
       "sampling loop time step:   0%|          | 0/500 [00:00<?, ?it/s]"
      ]
     },
     "metadata": {},
     "output_type": "display_data"
    },
    {
     "name": "stdout",
     "output_type": "stream",
     "text": [
      "tensor(-2762.2837, device='cuda:0') tensor(117722.1406, device='cuda:0')\n"
     ]
    }
   ],
   "source": [
    "import torch\n",
    "batch_size = 16\n",
    "UNCOND_IDX = 6\n",
    "x = torch.full((batch_size, 3),  UNCOND_IDX).long().to(device)\n",
    "cond_dict = {\"secondary_structure\": x}\n",
    "model_kwargs = {\"cond_dict\": cond_dict}\n",
    "\n",
    "sampled = diffusion.sample(\n",
    "    shape=(16,64,1024),\n",
    "    clip_denoised=True,\n",
    "    model_kwargs=model_kwargs,\n",
    ")\n",
    "\n",
    "print(sampled.mean(), sampled.std())\n"
   ]
  },
  {
   "cell_type": "code",
   "execution_count": 22,
   "metadata": {},
   "outputs": [
    {
     "name": "stdout",
     "output_type": "stream",
     "text": [
      "percentage similarty to argmax idx: 1.000\n",
      "Perplexity: 3.461\n"
     ]
    },
    {
     "data": {
      "text/plain": [
       "['DDDDADDIDDDADDDIADDDDDDDDDDDDDDDDDDADDDDDDDDDADDDDDDDDDDDDDDIDDD',\n",
       " 'DDDDDADDDDDDDDDDDADDDDDDDDDDADADDDDDDDDDDDDDDDDDADDDDDDDDDDDDDDI',\n",
       " 'DDDDDDDDDDDDDDDDDDDDDADDDDDDDDDDDDDDDDDDDDDDDDADAAADDDDDDDDDDDDD',\n",
       " 'DDADDDDDDADADDDIDDDADIDDDDDDDDDDAADADDDDDADDDDADDDADDADDDIDDDDDD',\n",
       " 'DDDDDDDDDDDDDDDDDDADDDDDDDDDDDDDDDDDDDDDDDDDDDDDDDDDDDDDDDADDDDD',\n",
       " 'ADDDDDDDDDADDDDDDDDDDDAADDDDDADDDDDDADDDDDDDDDDDDDDDDDDDDDDDDDDD',\n",
       " 'DDDDDDDDDDDDDDDDDDDADDADDDDDDDDDADDDDDDDDDADDDDDDIDDDDDADDADDDDD',\n",
       " 'DDDDDADDDDDDDDDDDDDDDDDDDADADDDDDDDDADDDDDDDDDADDDDDDADDDDDDDDDD',\n",
       " 'DDDDDDDADDDDDDDDDDDDDDDDDADDDDDDDDDDDDADDDDDDDDDDDDDDDDADDDDDDDD',\n",
       " 'DDDDDDIDDDDDDDADDDDDDAADDDDDDDDDDADDDDAADADDDADDDDDDDAADDDDDDDDD',\n",
       " 'DIDDDADDDDDDDADDDDDDDDDDDDADDDDDDDDDADDDDDDDDDDIDDDDDDDDDDDDDDDD',\n",
       " 'DDDDDDDDDDDDIADDDDDDDDDDDDDDDDIDADDADADADDDDADDDDDAADDAADDDDADDA',\n",
       " 'ADDDDDDDDDDDDDDDDDDDDDADDDDDDDDDDDAADDDDDDDDDDDDDDDDDDDDDDDDDDDD',\n",
       " 'DAADDDDDDDDDADDADDDDDDDDDDDDDDDDDDDDADDDADDDDDDDDDDDDDDDDDDDDDDD',\n",
       " 'DDDDDDDDADDDDADDDDDDDDDDADADDDADDDDDDDDDDDADDDADDDDDDDDDDDDDDDDD',\n",
       " 'DDDDDDDADADDDDDDDDDDDDDDDDDDDDDDDDDDADADADDDADDDDDDDDDDDADDDDDDD']"
      ]
     },
     "execution_count": 22,
     "metadata": {},
     "output_type": "execute_result"
    }
   ],
   "source": [
    "from plaid.callbacks import SampleCallback\n",
    "\n",
    "sampler = SampleCallback(\n",
    "    diffusion=diffusion,\n",
    "    model=denoiser,\n",
    "    calc_fid=True\n",
    ")\n",
    "\n",
    "strs, log_dict = sampler.construct_sequence(sampled, device)\n",
    "strs"
   ]
  },
  {
   "cell_type": "code",
   "execution_count": 24,
   "metadata": {},
   "outputs": [],
   "source": [
    "# from plaid.utils import view_py3Dmol\n",
    "# view_py3Dmol(pdb_strs[0])"
   ]
  },
  {
   "cell_type": "code",
   "execution_count": null,
   "metadata": {},
   "outputs": [],
   "source": []
  }
 ],
 "metadata": {
  "kernelspec": {
   "display_name": "Python 3 (ipykernel)",
   "language": "python",
   "name": "python3"
  },
  "language_info": {
   "codemirror_mode": {
    "name": "ipython",
    "version": 3
   },
   "file_extension": ".py",
   "mimetype": "text/x-python",
   "name": "python",
   "nbconvert_exporter": "python",
   "pygments_lexer": "ipython3",
   "version": "3.10.14"
  }
 },
 "nbformat": 4,
 "nbformat_minor": 4
}
