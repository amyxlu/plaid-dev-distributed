{
 "cells": [
  {
   "cell_type": "code",
   "execution_count": 1,
   "metadata": {},
   "outputs": [],
   "source": [
    "%load_ext autoreload\n",
    "%autoreload 2"
   ]
  },
  {
   "cell_type": "code",
   "execution_count": 2,
   "metadata": {},
   "outputs": [],
   "source": [
    "import torch.nn as nn\n",
    "import math\n",
    "import torch\n",
    "\n",
    "\n",
    "class FourierFeatures(nn.Module):\n",
    "    def __init__(self, in_features, out_features, std=1.):\n",
    "        super().__init__()\n",
    "        assert out_features % 2 == 0\n",
    "        self.register_buffer('weight', torch.randn([out_features // 2, in_features]) * std)\n",
    "\n",
    "    def forward(self, input):\n",
    "        f = 2 * math.pi * input @ self.weight.T\n",
    "        return torch.cat([f.cos(), f.sin()], dim=-1)\n",
    "\n",
    "\n",
    "class Base2FourierFeatures(nn.Module):\n",
    "    # jax to torch adaptation of VDM code\n",
    "    # https://github.com/google-research/vdm/blob/main/model_vdm.py#L618\n",
    "    def __init__(self, start=4, stop=8, step=1):\n",
    "        self.start = start\n",
    "        self.stop = stop\n",
    "        self.step = step\n",
    "\n",
    "    def forward(self, inputs):\n",
    "        freqs = torch.arange(self.start, self.stop, self.step).to(dtype=inputs.dtype)\n",
    "\n",
    "        # Create Base 2 Fourier features\n",
    "        w = 2. ** freqs * 2 * math.pi\n",
    "        w = torch.tile(w[None, :], (1, inputs.shape[-1]))\n",
    "\n",
    "        # Compute features\n",
    "        h = inputs.repeat(1, 1, len(freqs))\n",
    "        h = w * h\n",
    "        h = torch.concatenate([torch.sin(h), torch.cos(h)], axis=-1)\n",
    "        return h"
   ]
  },
  {
   "cell_type": "code",
   "execution_count": 11,
   "metadata": {},
   "outputs": [],
   "source": [
    "fourier_features = FourierFeatures(1, 128)\n",
    "t = torch.randint(1, 1000, (100, 1))\n",
    "temb = fourier_features(t)"
   ]
  },
  {
   "cell_type": "code",
   "execution_count": 12,
   "metadata": {},
   "outputs": [
    {
     "name": "stdout",
     "output_type": "stream",
     "text": [
      "tensor([59])\n",
      "tensor([-0.1310,  0.4321,  0.1970,  0.8801, -0.6391,  0.8497,  0.6323,  0.0497,\n",
      "         0.6066,  0.9331,  0.9964, -0.6086, -0.8721, -0.8267, -0.2844, -0.3201,\n",
      "        -0.2683, -0.1854,  0.9878,  0.7592, -0.0132,  0.1819,  0.2991,  0.3332,\n",
      "         0.7246, -0.0344, -0.8963,  0.5551,  0.6776, -0.3859, -0.0868,  0.6080,\n",
      "        -0.8535, -0.9583, -0.2037, -0.8667,  0.3768,  0.7629, -0.9520, -0.3909,\n",
      "         0.9445, -0.7017,  0.9801,  0.2043,  0.7360,  0.9140, -0.7241,  0.5020,\n",
      "         0.7858,  0.5664,  0.7246,  0.3241,  0.5446,  0.9582,  0.6491,  0.9756,\n",
      "        -0.6356,  0.9341, -0.9754, -0.4616, -0.9167, -0.6897, -0.9992, -0.8050,\n",
      "         0.9914,  0.9018,  0.9804, -0.4748, -0.7691, -0.5273, -0.7747,  0.9988,\n",
      "        -0.7950, -0.3597,  0.0849, -0.7934,  0.4893, -0.5627, -0.9587, -0.9474,\n",
      "        -0.9633, -0.9827, -0.1559,  0.6509, -0.9999,  0.9833,  0.9542, -0.9428,\n",
      "         0.6892,  0.9994, -0.4435,  0.8318,  0.7354, -0.9226, -0.9962, -0.7939,\n",
      "        -0.5212,  0.2858, -0.9790,  0.4988,  0.9263,  0.6466,  0.3061,  0.9205,\n",
      "        -0.3284, -0.7125, -0.1984,  0.9789, -0.6770,  0.4056,  0.6897, -0.8649,\n",
      "        -0.6185,  0.8241, -0.6892, -0.9460,  0.8387, -0.2860,  0.7607, -0.2198,\n",
      "        -0.7720,  0.3570,  0.2203,  0.8871,  0.3996,  0.7241,  0.0403, -0.5933])\n"
     ]
    }
   ],
   "source": [
    "print(t[0])\n",
    "print(temb[0])"
   ]
  },
  {
   "cell_type": "code",
   "execution_count": 15,
   "metadata": {},
   "outputs": [
    {
     "data": {
      "text/plain": [
       "tensor([4., 5., 6., 7.])"
      ]
     },
     "execution_count": 15,
     "metadata": {},
     "output_type": "execute_result"
    }
   ],
   "source": [
    "start, stop, step = 4, 8, 1\n",
    "N, L, C = 4, 128, 1024\n",
    "inputs = torch.randn(N, L, C)\n",
    "freqs = torch.arange(start, stop, step).to(dtype=inputs.dtype)\n",
    "freqs"
   ]
  },
  {
   "cell_type": "code",
   "execution_count": 17,
   "metadata": {},
   "outputs": [
    {
     "name": "stdout",
     "output_type": "stream",
     "text": [
      "tensor([100.5310, 201.0619, 402.1239, 804.2477])\n",
      "torch.Size([1, 4096])\n",
      "tensor([[100.5310, 201.0619, 402.1239,  ..., 201.0619, 402.1239, 804.2477]])\n"
     ]
    }
   ],
   "source": [
    "w = 2. ** freqs * 2 * math.pi\n",
    "print(w)\n",
    "w = torch.tile(w[None, :], (1, inputs.shape[-1]))\n",
    "print(w.shape)\n",
    "print(w)\n"
   ]
  },
  {
   "cell_type": "code",
   "execution_count": 30,
   "metadata": {},
   "outputs": [],
   "source": [
    "h = inputs.repeat(1, 1, len(freqs)).shape"
   ]
  },
  {
   "cell_type": "code",
   "execution_count": 31,
   "metadata": {},
   "outputs": [
    {
     "ename": "TypeError",
     "evalue": "only integer tensors of a single element can be converted to an index",
     "output_type": "error",
     "traceback": [
      "\u001b[0;31m---------------------------------------------------------------------------\u001b[0m",
      "\u001b[0;31mTypeError\u001b[0m                                 Traceback (most recent call last)",
      "\u001b[1;32m/home/amyxlu/plaid/notebooks/14_fourier.ipynb Cell 8\u001b[0m line \u001b[0;36m1\n\u001b[0;32m----> <a href='vscode-notebook-cell://ssh-remote%2Bdgx5/home/amyxlu/plaid/notebooks/14_fourier.ipynb#X11sdnNjb2RlLXJlbW90ZQ%3D%3D?line=0'>1</a>\u001b[0m w \u001b[39m*\u001b[39;49m h\n",
      "\u001b[0;31mTypeError\u001b[0m: only integer tensors of a single element can be converted to an index"
     ]
    }
   ],
   "source": [
    "w * h"
   ]
  },
  {
   "cell_type": "code",
   "execution_count": null,
   "metadata": {},
   "outputs": [],
   "source": []
  }
 ],
 "metadata": {
  "kernelspec": {
   "display_name": "kdif",
   "language": "python",
   "name": "python3"
  },
  "language_info": {
   "codemirror_mode": {
    "name": "ipython",
    "version": 3
   },
   "file_extension": ".py",
   "mimetype": "text/x-python",
   "name": "python",
   "nbconvert_exporter": "python",
   "pygments_lexer": "ipython3",
   "version": "3.11.6"
  }
 },
 "nbformat": 4,
 "nbformat_minor": 2
}
