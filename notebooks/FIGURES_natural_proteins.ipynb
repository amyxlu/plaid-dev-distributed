{
 "cells": [
  {
   "cell_type": "code",
   "execution_count": 1,
   "id": "8239beaa-ec9b-40d9-a914-e06cc0864e93",
   "metadata": {
    "execution": {
     "iopub.execute_input": "2024-09-29T22:32:45.438374Z",
     "iopub.status.busy": "2024-09-29T22:32:45.438039Z",
     "iopub.status.idle": "2024-09-29T22:32:45.456173Z",
     "shell.execute_reply": "2024-09-29T22:32:45.455677Z",
     "shell.execute_reply.started": "2024-09-29T22:32:45.438350Z"
    }
   },
   "outputs": [],
   "source": [
    "%load_ext autoreload\n",
    "%autoreload 2"
   ]
  },
  {
   "cell_type": "code",
   "execution_count": 188,
   "id": "5a9a2a0b-84e6-4280-a2cc-0b7ce2ba8a9e",
   "metadata": {
    "execution": {
     "iopub.execute_input": "2024-09-30T00:29:12.295570Z",
     "iopub.status.busy": "2024-09-30T00:29:12.295201Z",
     "iopub.status.idle": "2024-09-30T00:29:12.315378Z",
     "shell.execute_reply": "2024-09-30T00:29:12.314762Z",
     "shell.execute_reply.started": "2024-09-30T00:29:12.295543Z"
    }
   },
   "outputs": [],
   "source": [
    "import pandas as pd\n",
    "import matplotlib.pyplot as plt\n",
    "import seaborn as sns\n",
    "from pathlib import Path\n",
    "import os"
   ]
  },
  {
   "cell_type": "markdown",
   "id": "7cb2545a-8c1a-4b9b-8ace-e8f70251a67e",
   "metadata": {},
   "source": [
    "# PLAID"
   ]
  },
  {
   "cell_type": "code",
   "execution_count": 189,
   "id": "289f5db7-b8ec-4214-9d17-bca8133385f6",
   "metadata": {
    "execution": {
     "iopub.execute_input": "2024-09-30T00:29:12.487703Z",
     "iopub.status.busy": "2024-09-30T00:29:12.487347Z",
     "iopub.status.idle": "2024-09-30T00:29:12.506544Z",
     "shell.execute_reply": "2024-09-30T00:29:12.505914Z",
     "shell.execute_reply.started": "2024-09-30T00:29:12.487677Z"
    }
   },
   "outputs": [],
   "source": [
    "path = Path(\"/data/lux70/plaid/artifacts/samples/5j007z42/100_200_300_v2\")"
   ]
  },
  {
   "cell_type": "code",
   "execution_count": 190,
   "id": "4f5dcf5e-5e1f-4480-81c1-614020456507",
   "metadata": {
    "execution": {
     "iopub.execute_input": "2024-09-30T00:29:12.599611Z",
     "iopub.status.busy": "2024-09-30T00:29:12.599274Z",
     "iopub.status.idle": "2024-09-30T00:29:12.631910Z",
     "shell.execute_reply": "2024-09-30T00:29:12.631317Z",
     "shell.execute_reply.started": "2024-09-30T00:29:12.599586Z"
    }
   },
   "outputs": [
    {
     "name": "stdout",
     "output_type": "stream",
     "text": [
      "dict_keys(['100', '148', '48'])\n"
     ]
    }
   ],
   "source": [
    "df_dict = {}\n",
    "\n",
    "for length in os.listdir(path):\n",
    "    df_dict[length] = pd.read_csv(path / length / \"designability.csv\")\n",
    "\n",
    "print(df_dict.keys())"
   ]
  },
  {
   "cell_type": "code",
   "execution_count": 191,
   "id": "3371e1ea-74a9-491b-bfa2-9bfafb06c944",
   "metadata": {
    "execution": {
     "iopub.execute_input": "2024-09-30T00:29:12.713486Z",
     "iopub.status.busy": "2024-09-30T00:29:12.713142Z",
     "iopub.status.idle": "2024-09-30T00:29:12.734586Z",
     "shell.execute_reply": "2024-09-30T00:29:12.733979Z",
     "shell.execute_reply.started": "2024-09-30T00:29:12.713462Z"
    }
   },
   "outputs": [
    {
     "data": {
      "text/plain": [
       "(384, 18)"
      ]
     },
     "execution_count": 191,
     "metadata": {},
     "output_type": "execute_result"
    }
   ],
   "source": [
    "big_df = pd.concat(list(df_dict.values()))\n",
    "big_df.shape"
   ]
  },
  {
   "cell_type": "code",
   "execution_count": 192,
   "id": "c8d78368-2fee-4a08-adc4-48f292f7e42f",
   "metadata": {
    "execution": {
     "iopub.execute_input": "2024-09-30T00:29:12.824306Z",
     "iopub.status.busy": "2024-09-30T00:29:12.823960Z",
     "iopub.status.idle": "2024-09-30T00:29:12.861559Z",
     "shell.execute_reply": "2024-09-30T00:29:12.860978Z",
     "shell.execute_reply.started": "2024-09-30T00:29:12.824279Z"
    }
   },
   "outputs": [
    {
     "name": "stdout",
     "output_type": "stream",
     "text": [
      "Unnamed: 0 63.50±37.00\n",
      "plddt 62.18±16.98\n",
      "ccrmsd 7.60±7.52\n",
      "scrmsd 9.06±8.12\n",
      "cctm 0.72±0.27\n",
      "sctm 0.69±0.24\n",
      "perplexity 14.58±4.54\n",
      "molecular_weight 21802.22±8963.56\n",
      "aromaticity 0.09±0.03\n",
      "instability_index 37.04±11.60\n",
      "isoelectric_point 6.74±1.88\n",
      "gravy -0.09±0.41\n",
      "charge_at_pH -2.63±7.11\n"
     ]
    }
   ],
   "source": [
    "summary = big_df.describe()\n",
    "summary = summary.filter(['mean', 'std'], axis=0)\n",
    "for col in summary.columns:\n",
    "    mean = summary[col]['mean']\n",
    "    std = summary[col]['std']\n",
    "    print(col, f\"{mean:.2f}±{std:.2f}\")"
   ]
  },
  {
   "cell_type": "code",
   "execution_count": 193,
   "id": "7adec847-807e-4725-aabe-808d9eb6a427",
   "metadata": {
    "execution": {
     "iopub.execute_input": "2024-09-30T00:29:12.919541Z",
     "iopub.status.busy": "2024-09-30T00:29:12.919201Z",
     "iopub.status.idle": "2024-09-30T00:29:12.940139Z",
     "shell.execute_reply": "2024-09-30T00:29:12.939567Z",
     "shell.execute_reply.started": "2024-09-30T00:29:12.919517Z"
    }
   },
   "outputs": [
    {
     "name": "stdout",
     "output_type": "stream",
     "text": [
      "0.24739583333333334\n",
      "0.3958333333333333\n",
      "0.703125\n"
     ]
    }
   ],
   "source": [
    "print((big_df.scrmsd < 2).sum() / len(big_df))\n",
    "print((big_df.ccrmsd < 2).sum() / len(big_df))\n",
    "print((big_df.sctm > 0.5).sum() / len(big_df))"
   ]
  },
  {
   "cell_type": "markdown",
   "id": "1b14e276-fb93-4bde-827d-fbf6ceaaeaca",
   "metadata": {},
   "source": [
    "# ProteinGenerator"
   ]
  },
  {
   "cell_type": "code",
   "execution_count": 218,
   "id": "3d9ec206-1faf-40f2-a483-9088971ffb0f",
   "metadata": {
    "execution": {
     "iopub.execute_input": "2024-09-30T00:30:14.260374Z",
     "iopub.status.busy": "2024-09-30T00:30:14.260030Z",
     "iopub.status.idle": "2024-09-30T00:30:14.286349Z",
     "shell.execute_reply": "2024-09-30T00:30:14.285826Z",
     "shell.execute_reply.started": "2024-09-30T00:30:14.260351Z"
    }
   },
   "outputs": [
    {
     "name": "stdout",
     "output_type": "stream",
     "text": [
      "(300, 18)\n"
     ]
    }
   ],
   "source": [
    "path = Path(\"/data/lux70/plaid/baselines/proteingenerator/100_200_300/\")\n",
    "big_df = pd.read_csv(path / \"designability.csv\")\n",
    "print(big_df.shape)"
   ]
  },
  {
   "cell_type": "code",
   "execution_count": 219,
   "id": "f275dc63-3f7c-4d1e-afd1-524b9cdf9d78",
   "metadata": {
    "execution": {
     "iopub.execute_input": "2024-09-30T00:30:14.661275Z",
     "iopub.status.busy": "2024-09-30T00:30:14.660919Z",
     "iopub.status.idle": "2024-09-30T00:30:14.705992Z",
     "shell.execute_reply": "2024-09-30T00:30:14.705481Z",
     "shell.execute_reply.started": "2024-09-30T00:30:14.661249Z"
    }
   },
   "outputs": [
    {
     "data": {
      "text/html": [
       "<div>\n",
       "<style scoped>\n",
       "    .dataframe tbody tr th:only-of-type {\n",
       "        vertical-align: middle;\n",
       "    }\n",
       "\n",
       "    .dataframe tbody tr th {\n",
       "        vertical-align: top;\n",
       "    }\n",
       "\n",
       "    .dataframe thead th {\n",
       "        text-align: right;\n",
       "    }\n",
       "</style>\n",
       "<table border=\"1\" class=\"dataframe\">\n",
       "  <thead>\n",
       "    <tr style=\"text-align: right;\">\n",
       "      <th></th>\n",
       "      <th>Unnamed: 0</th>\n",
       "      <th>plddt</th>\n",
       "      <th>ccrmsd</th>\n",
       "      <th>scrmsd</th>\n",
       "      <th>cctm</th>\n",
       "      <th>sctm</th>\n",
       "      <th>perplexity</th>\n",
       "      <th>molecular_weight</th>\n",
       "      <th>aromaticity</th>\n",
       "      <th>instability_index</th>\n",
       "      <th>isoelectric_point</th>\n",
       "      <th>gravy</th>\n",
       "      <th>charge_at_pH</th>\n",
       "    </tr>\n",
       "  </thead>\n",
       "  <tbody>\n",
       "    <tr>\n",
       "      <th>count</th>\n",
       "      <td>300.000000</td>\n",
       "      <td>300.000000</td>\n",
       "      <td>300.000000</td>\n",
       "      <td>300.000000</td>\n",
       "      <td>300.000000</td>\n",
       "      <td>300.000000</td>\n",
       "      <td>300.000000</td>\n",
       "      <td>300.000000</td>\n",
       "      <td>300.000000</td>\n",
       "      <td>300.000000</td>\n",
       "      <td>300.000000</td>\n",
       "      <td>300.000000</td>\n",
       "      <td>300.000000</td>\n",
       "    </tr>\n",
       "    <tr>\n",
       "      <th>mean</th>\n",
       "      <td>149.500000</td>\n",
       "      <td>0.841870</td>\n",
       "      <td>15.715159</td>\n",
       "      <td>3.472982</td>\n",
       "      <td>0.420356</td>\n",
       "      <td>0.862380</td>\n",
       "      <td>8.988858</td>\n",
       "      <td>21688.846412</td>\n",
       "      <td>0.037822</td>\n",
       "      <td>63.963855</td>\n",
       "      <td>5.630221</td>\n",
       "      <td>-0.159347</td>\n",
       "      <td>-11.144268</td>\n",
       "    </tr>\n",
       "    <tr>\n",
       "      <th>std</th>\n",
       "      <td>86.746758</td>\n",
       "      <td>0.108771</td>\n",
       "      <td>3.369976</td>\n",
       "      <td>4.676504</td>\n",
       "      <td>0.093942</td>\n",
       "      <td>0.131920</td>\n",
       "      <td>2.014334</td>\n",
       "      <td>8130.311760</td>\n",
       "      <td>0.030445</td>\n",
       "      <td>21.175184</td>\n",
       "      <td>2.096156</td>\n",
       "      <td>0.609553</td>\n",
       "      <td>10.346914</td>\n",
       "    </tr>\n",
       "    <tr>\n",
       "      <th>min</th>\n",
       "      <td>0.000000</td>\n",
       "      <td>0.353380</td>\n",
       "      <td>2.972114</td>\n",
       "      <td>0.469446</td>\n",
       "      <td>0.213520</td>\n",
       "      <td>0.187450</td>\n",
       "      <td>3.323046</td>\n",
       "      <td>9342.584300</td>\n",
       "      <td>0.000000</td>\n",
       "      <td>1.701000</td>\n",
       "      <td>4.169163</td>\n",
       "      <td>-1.644000</td>\n",
       "      <td>-39.067165</td>\n",
       "    </tr>\n",
       "    <tr>\n",
       "      <th>25%</th>\n",
       "      <td>74.750000</td>\n",
       "      <td>0.784605</td>\n",
       "      <td>13.518054</td>\n",
       "      <td>1.104983</td>\n",
       "      <td>0.345890</td>\n",
       "      <td>0.819925</td>\n",
       "      <td>7.446304</td>\n",
       "      <td>12363.445325</td>\n",
       "      <td>0.010000</td>\n",
       "      <td>46.950417</td>\n",
       "      <td>4.603626</td>\n",
       "      <td>-0.567750</td>\n",
       "      <td>-17.860590</td>\n",
       "    </tr>\n",
       "    <tr>\n",
       "      <th>50%</th>\n",
       "      <td>149.500000</td>\n",
       "      <td>0.857825</td>\n",
       "      <td>15.729024</td>\n",
       "      <td>1.745634</td>\n",
       "      <td>0.410530</td>\n",
       "      <td>0.911380</td>\n",
       "      <td>9.114353</td>\n",
       "      <td>22206.624200</td>\n",
       "      <td>0.035000</td>\n",
       "      <td>64.863000</td>\n",
       "      <td>4.818548</td>\n",
       "      <td>-0.163833</td>\n",
       "      <td>-10.799501</td>\n",
       "    </tr>\n",
       "    <tr>\n",
       "      <th>75%</th>\n",
       "      <td>224.250000</td>\n",
       "      <td>0.927249</td>\n",
       "      <td>17.989170</td>\n",
       "      <td>3.315563</td>\n",
       "      <td>0.487482</td>\n",
       "      <td>0.952647</td>\n",
       "      <td>10.251444</td>\n",
       "      <td>29340.366075</td>\n",
       "      <td>0.060000</td>\n",
       "      <td>76.489000</td>\n",
       "      <td>5.216237</td>\n",
       "      <td>0.205917</td>\n",
       "      <td>-4.953637</td>\n",
       "    </tr>\n",
       "    <tr>\n",
       "      <th>max</th>\n",
       "      <td>299.000000</td>\n",
       "      <td>0.992404</td>\n",
       "      <td>28.042869</td>\n",
       "      <td>37.848807</td>\n",
       "      <td>0.721220</td>\n",
       "      <td>0.984260</td>\n",
       "      <td>14.221144</td>\n",
       "      <td>36775.866100</td>\n",
       "      <td>0.130000</td>\n",
       "      <td>125.194000</td>\n",
       "      <td>11.999968</td>\n",
       "      <td>1.647333</td>\n",
       "      <td>18.782847</td>\n",
       "    </tr>\n",
       "  </tbody>\n",
       "</table>\n",
       "</div>"
      ],
      "text/plain": [
       "       Unnamed: 0       plddt      ccrmsd      scrmsd        cctm        sctm  \\\n",
       "count  300.000000  300.000000  300.000000  300.000000  300.000000  300.000000   \n",
       "mean   149.500000    0.841870   15.715159    3.472982    0.420356    0.862380   \n",
       "std     86.746758    0.108771    3.369976    4.676504    0.093942    0.131920   \n",
       "min      0.000000    0.353380    2.972114    0.469446    0.213520    0.187450   \n",
       "25%     74.750000    0.784605   13.518054    1.104983    0.345890    0.819925   \n",
       "50%    149.500000    0.857825   15.729024    1.745634    0.410530    0.911380   \n",
       "75%    224.250000    0.927249   17.989170    3.315563    0.487482    0.952647   \n",
       "max    299.000000    0.992404   28.042869   37.848807    0.721220    0.984260   \n",
       "\n",
       "       perplexity  molecular_weight  aromaticity  instability_index  \\\n",
       "count  300.000000        300.000000   300.000000         300.000000   \n",
       "mean     8.988858      21688.846412     0.037822          63.963855   \n",
       "std      2.014334       8130.311760     0.030445          21.175184   \n",
       "min      3.323046       9342.584300     0.000000           1.701000   \n",
       "25%      7.446304      12363.445325     0.010000          46.950417   \n",
       "50%      9.114353      22206.624200     0.035000          64.863000   \n",
       "75%     10.251444      29340.366075     0.060000          76.489000   \n",
       "max     14.221144      36775.866100     0.130000         125.194000   \n",
       "\n",
       "       isoelectric_point       gravy  charge_at_pH  \n",
       "count         300.000000  300.000000    300.000000  \n",
       "mean            5.630221   -0.159347    -11.144268  \n",
       "std             2.096156    0.609553     10.346914  \n",
       "min             4.169163   -1.644000    -39.067165  \n",
       "25%             4.603626   -0.567750    -17.860590  \n",
       "50%             4.818548   -0.163833    -10.799501  \n",
       "75%             5.216237    0.205917     -4.953637  \n",
       "max            11.999968    1.647333     18.782847  "
      ]
     },
     "execution_count": 219,
     "metadata": {},
     "output_type": "execute_result"
    }
   ],
   "source": [
    "summary = big_df.describe()\n",
    "summary"
   ]
  },
  {
   "cell_type": "code",
   "execution_count": 220,
   "id": "944c8c67-cc1f-4658-9c74-98b5889813d7",
   "metadata": {
    "execution": {
     "iopub.execute_input": "2024-09-30T00:30:14.998392Z",
     "iopub.status.busy": "2024-09-30T00:30:14.998051Z",
     "iopub.status.idle": "2024-09-30T00:30:15.018218Z",
     "shell.execute_reply": "2024-09-30T00:30:15.017690Z",
     "shell.execute_reply.started": "2024-09-30T00:30:14.998366Z"
    }
   },
   "outputs": [
    {
     "name": "stdout",
     "output_type": "stream",
     "text": [
      "Unnamed: 0 149.50±86.75\n",
      "plddt 0.84±0.11\n",
      "ccrmsd 15.72±3.37\n",
      "scrmsd 3.47±4.68\n",
      "cctm 0.42±0.09\n",
      "sctm 0.86±0.13\n",
      "perplexity 8.99±2.01\n",
      "molecular_weight 21688.85±8130.31\n",
      "aromaticity 0.04±0.03\n",
      "instability_index 63.96±21.18\n",
      "isoelectric_point 5.63±2.10\n",
      "gravy -0.16±0.61\n",
      "charge_at_pH -11.14±10.35\n"
     ]
    }
   ],
   "source": [
    "for col in summary.columns:\n",
    "    mean = summary[col]['mean']\n",
    "    std = summary[col]['std']\n",
    "    print(col, f\"{mean:.2f}±{std:.2f}\")"
   ]
  },
  {
   "cell_type": "code",
   "execution_count": 221,
   "id": "0944900c-b4d2-4997-8f4c-b10e12e0beba",
   "metadata": {
    "execution": {
     "iopub.execute_input": "2024-09-30T00:30:15.337163Z",
     "iopub.status.busy": "2024-09-30T00:30:15.336586Z",
     "iopub.status.idle": "2024-09-30T00:30:15.357362Z",
     "shell.execute_reply": "2024-09-30T00:30:15.356836Z",
     "shell.execute_reply.started": "2024-09-30T00:30:15.337126Z"
    }
   },
   "outputs": [
    {
     "name": "stdout",
     "output_type": "stream",
     "text": [
      "0.54\n",
      "0.0\n",
      "0.9766666666666667\n"
     ]
    }
   ],
   "source": [
    "print((big_df.scrmsd < 2).sum() / len(big_df))\n",
    "print((big_df.ccrmsd < 2).sum() / len(big_df))\n",
    "print((big_df.sctm > 0.5).sum() / len(big_df))"
   ]
  },
  {
   "cell_type": "markdown",
   "id": "06808489-8e2e-4d7b-97c8-f925ef0e3d3d",
   "metadata": {},
   "source": [
    "# Protpardelle"
   ]
  },
  {
   "cell_type": "code",
   "execution_count": 198,
   "id": "41d10ddb-abf4-4d55-9d72-73f314aaaa8d",
   "metadata": {
    "execution": {
     "iopub.execute_input": "2024-09-30T00:29:13.736047Z",
     "iopub.status.busy": "2024-09-30T00:29:13.735686Z",
     "iopub.status.idle": "2024-09-30T00:29:13.762574Z",
     "shell.execute_reply": "2024-09-30T00:29:13.761876Z",
     "shell.execute_reply.started": "2024-09-30T00:29:13.736019Z"
    }
   },
   "outputs": [],
   "source": [
    "path = Path(\"/data/lux70/plaid/baselines/protpardelle/samples_100_200_300\")\n",
    "big_df = pd.read_csv(path / \"designability.csv\")"
   ]
  },
  {
   "cell_type": "code",
   "execution_count": 199,
   "id": "a73cb241-6d61-46fb-8bac-edd79862a3c9",
   "metadata": {
    "execution": {
     "iopub.execute_input": "2024-09-30T00:29:13.794689Z",
     "iopub.status.busy": "2024-09-30T00:29:13.794353Z",
     "iopub.status.idle": "2024-09-30T00:29:13.830940Z",
     "shell.execute_reply": "2024-09-30T00:29:13.830372Z",
     "shell.execute_reply.started": "2024-09-30T00:29:13.794662Z"
    }
   },
   "outputs": [
    {
     "name": "stdout",
     "output_type": "stream",
     "text": [
      "Unnamed: 0 149.50±86.75\n",
      "plddt 1.00±0.00\n",
      "ccrmsd 13.93±2.66\n",
      "scrmsd 6.26±4.41\n",
      "cctm 0.52±0.14\n",
      "sctm 0.71±0.17\n",
      "perplexity 10.82±1.24\n",
      "molecular_weight 20517.07±8089.02\n",
      "aromaticity 0.03±0.02\n",
      "instability_index 27.62±10.82\n",
      "isoelectric_point 4.99±0.77\n",
      "gravy 0.11±0.34\n",
      "charge_at_pH -10.07±6.06\n"
     ]
    }
   ],
   "source": [
    "summary = big_df.describe()\n",
    "\n",
    "for col in summary.columns:\n",
    "    mean = summary[col]['mean']\n",
    "    std = summary[col]['std']\n",
    "    print(col, f\"{mean:.2f}±{std:.2f}\")"
   ]
  },
  {
   "cell_type": "code",
   "execution_count": 200,
   "id": "180a4233-350c-4a57-bc80-2cf837665d19",
   "metadata": {
    "execution": {
     "iopub.execute_input": "2024-09-30T00:29:13.904801Z",
     "iopub.status.busy": "2024-09-30T00:29:13.904222Z",
     "iopub.status.idle": "2024-09-30T00:29:13.925108Z",
     "shell.execute_reply": "2024-09-30T00:29:13.924549Z",
     "shell.execute_reply.started": "2024-09-30T00:29:13.904770Z"
    }
   },
   "outputs": [
    {
     "name": "stdout",
     "output_type": "stream",
     "text": [
      "0.09\n",
      "0.0\n",
      "0.8366666666666667\n"
     ]
    }
   ],
   "source": [
    "print((big_df.scrmsd < 2).sum() / len(big_df))\n",
    "print((big_df.ccrmsd < 2).sum() / len(big_df))\n",
    "print((big_df.sctm > 0.5).sum() / len(big_df))"
   ]
  },
  {
   "cell_type": "code",
   "execution_count": 201,
   "id": "e3615d33-ddd8-4269-93fb-5bea3dcb92fc",
   "metadata": {
    "execution": {
     "iopub.execute_input": "2024-09-30T00:29:14.039695Z",
     "iopub.status.busy": "2024-09-30T00:29:14.039351Z",
     "iopub.status.idle": "2024-09-30T00:29:14.270162Z",
     "shell.execute_reply": "2024-09-30T00:29:14.269587Z",
     "shell.execute_reply.started": "2024-09-30T00:29:14.039668Z"
    }
   },
   "outputs": [
    {
     "data": {
      "text/plain": [
       "<Axes: >"
      ]
     },
     "execution_count": 201,
     "metadata": {},
     "output_type": "execute_result"
    },
    {
     "data": {
      "image/png": "[encoded data removed]",
      "text/plain": [
       "<Figure size 640x480 with 1 Axes>"
      ]
     },
     "metadata": {},
     "output_type": "display_data"
    }
   ],
   "source": [
    "big_df.scrmsd.hist(bins=100)"
   ]
  },
  {
   "cell_type": "code",
   "execution_count": 202,
   "id": "17beb42b-9d40-49d8-9ef4-b996bbace3f3",
   "metadata": {
    "execution": {
     "iopub.execute_input": "2024-09-30T00:29:14.271439Z",
     "iopub.status.busy": "2024-09-30T00:29:14.271185Z",
     "iopub.status.idle": "2024-09-30T00:29:14.502329Z",
     "shell.execute_reply": "2024-09-30T00:29:14.501671Z",
     "shell.execute_reply.started": "2024-09-30T00:29:14.271419Z"
    }
   },
   "outputs": [
    {
     "data": {
      "text/plain": [
       "<Axes: >"
      ]
     },
     "execution_count": 202,
     "metadata": {},
     "output_type": "execute_result"
    },
    {
     "data": {
      "image/png": "[encoded data removed]",
      "text/plain": [
       "<Figure size 640x480 with 1 Axes>"
      ]
     },
     "metadata": {},
     "output_type": "display_data"
    }
   ],
   "source": [
    "big_df.sctm.hist(bins=100)"
   ]
  },
  {
   "cell_type": "markdown",
   "id": "b7c52338-ec22-4e2b-b075-755e2a125af8",
   "metadata": {},
   "source": [
    "# Natural Proteins"
   ]
  },
  {
   "cell_type": "code",
   "execution_count": 222,
   "id": "c8ed9338-b251-44ea-8caa-549f6ae08678",
   "metadata": {
    "execution": {
     "iopub.execute_input": "2024-09-30T00:41:11.243524Z",
     "iopub.status.busy": "2024-09-30T00:41:11.243173Z",
     "iopub.status.idle": "2024-09-30T00:41:11.823343Z",
     "shell.execute_reply": "2024-09-30T00:41:11.822800Z",
     "shell.execute_reply.started": "2024-09-30T00:41:11.243498Z"
    }
   },
   "outputs": [],
   "source": [
    "path = Path(\"/data/lux70/plaid/artifacts/natural/\")\n",
    "\n",
    "df_dict = {}\n",
    "\n",
    "lengths = os.listdir(path)\n",
    "\n",
    "for length in lengths:\n",
    "    df_dict[length] = pd.read_csv(path / length / \"designability.csv\")"
   ]
  },
  {
   "cell_type": "code",
   "execution_count": 224,
   "id": "eabacf34-4ccf-4c1a-a1de-746761ba3732",
   "metadata": {
    "execution": {
     "iopub.execute_input": "2024-09-30T00:41:16.759229Z",
     "iopub.status.busy": "2024-09-30T00:41:16.758888Z",
     "iopub.status.idle": "2024-09-30T00:41:16.777966Z",
     "shell.execute_reply": "2024-09-30T00:41:16.777487Z",
     "shell.execute_reply.started": "2024-09-30T00:41:16.759203Z"
    }
   },
   "outputs": [
    {
     "data": {
      "text/plain": [
       "dict_keys(['maxlen64', 'maxlen256', 'maxlen128', 'maxlen512'])"
      ]
     },
     "execution_count": 224,
     "metadata": {},
     "output_type": "execute_result"
    }
   ],
   "source": [
    "df_dict.keys()"
   ]
  },
  {
   "cell_type": "code",
   "execution_count": 225,
   "id": "74c64cb8-91cf-44b1-8a36-4f74d9496e8e",
   "metadata": {
    "execution": {
     "iopub.execute_input": "2024-09-30T00:41:17.478751Z",
     "iopub.status.busy": "2024-09-30T00:41:17.478404Z",
     "iopub.status.idle": "2024-09-30T00:41:17.498187Z",
     "shell.execute_reply": "2024-09-30T00:41:17.497655Z",
     "shell.execute_reply.started": "2024-09-30T00:41:17.478728Z"
    }
   },
   "outputs": [
    {
     "name": "stdout",
     "output_type": "stream",
     "text": [
      "1.0\n",
      "0.9981998199819982\n",
      "1.0\n",
      "1.0\n"
     ]
    }
   ],
   "source": [
    "for length in lengths:\n",
    "    print(df_dict[length].designable.sum() / len(df_dict[length]))"
   ]
  },
  {
   "cell_type": "code",
   "execution_count": 206,
   "id": "3ed83150-2a61-4262-b29d-de3104fef2fa",
   "metadata": {
    "execution": {
     "iopub.execute_input": "2024-09-30T00:29:15.167745Z",
     "iopub.status.busy": "2024-09-30T00:29:15.167409Z",
     "iopub.status.idle": "2024-09-30T00:29:15.745499Z",
     "shell.execute_reply": "2024-09-30T00:29:15.744849Z",
     "shell.execute_reply.started": "2024-09-30T00:29:15.167718Z"
    }
   },
   "outputs": [
    {
     "data": {
      "image/png": "[encoded data removed]",
      "text/plain": [
       "<Figure size 1600x400 with 4 Axes>"
      ]
     },
     "metadata": {},
     "output_type": "display_data"
    }
   ],
   "source": [
    "fig, axs = plt.subplots(1,4, figsize=(8,2), dpi=200)\n",
    "for i, length in enumerate(lengths):\n",
    "    axs[i].hist(df_dict[length].sctm.values, bins=100, color='teal')\n",
    "    axs[i].set_title(f\"{length}\")\n",
    "    axs[i].set_xlim(0,1)\n",
    "    axs[i].axvline(x=0.5, c='red')\n",
    "    axs[i].set_yticks([])\n",
    "    des = (df_dict[length].sctm > 0.5).sum() / len(df_dict[length].sctm > 0.5)\n",
    "    axs[i].set_title(f\"scTM > 0.5: {des:.02%}\")\n",
    "\n",
    "plt.tight_layout()\n",
    "plt.show()"
   ]
  },
  {
   "cell_type": "code",
   "execution_count": 207,
   "id": "29a20b96-83a5-4be1-8f87-c3ca2ab91c2f",
   "metadata": {
    "execution": {
     "iopub.execute_input": "2024-09-30T00:29:15.747023Z",
     "iopub.status.busy": "2024-09-30T00:29:15.746631Z",
     "iopub.status.idle": "2024-09-30T00:29:17.582031Z",
     "shell.execute_reply": "2024-09-30T00:29:17.581523Z",
     "shell.execute_reply.started": "2024-09-30T00:29:15.747001Z"
    }
   },
   "outputs": [
    {
     "data": {
      "image/png": "[encoded data removed]",
      "text/plain": [
       "<Figure size 1600x400 with 4 Axes>"
      ]
     },
     "metadata": {},
     "output_type": "display_data"
    }
   ],
   "source": [
    "fig, axs = plt.subplots(1,4, figsize=(8,2), dpi=200)\n",
    "for i, length in enumerate(lengths):\n",
    "    axs[i].hist(df_dict[length].scrmsd.values, bins=300, color='teal')\n",
    "    axs[i].set_title(f\"{length}\")\n",
    "    axs[i].set_xlim(0,20)\n",
    "    axs[i].axvline(x=2, c='red')\n",
    "    axs[i].set_yticks([])\n",
    "    des = (df_dict[length].scrmsd < 2).sum() / len(df_dict[length].scrmsd < 2)\n",
    "    axs[i].set_title(f\"scRMSD < 2Å: {des:.02%}\")\n",
    "plt.tight_layout()"
   ]
  },
  {
   "cell_type": "code",
   "execution_count": 208,
   "id": "07b55f6d-c19f-4a95-a0b7-40b10bc259b5",
   "metadata": {
    "execution": {
     "iopub.execute_input": "2024-09-30T00:29:17.583192Z",
     "iopub.status.busy": "2024-09-30T00:29:17.582780Z",
     "iopub.status.idle": "2024-09-30T00:29:18.150925Z",
     "shell.execute_reply": "2024-09-30T00:29:18.150409Z",
     "shell.execute_reply.started": "2024-09-30T00:29:17.583171Z"
    }
   },
   "outputs": [
    {
     "data": {
      "image/png": "[encoded data removed]",
      "text/plain": [
       "<Figure size 1600x400 with 4 Axes>"
      ]
     },
     "metadata": {},
     "output_type": "display_data"
    }
   ],
   "source": [
    "fig, axs = plt.subplots(1,4, figsize=(8,2), dpi=200)\n",
    "for i, length in enumerate(lengths):\n",
    "    axs[i].hist(df_dict[length].plddt.values, bins=100, color='navy')\n",
    "    axs[i].set_xlim(0,100)\n",
    "    axs[i].axvline(x=80, c='red')\n",
    "    axs[i].set_yticks([])\n",
    "    des = (df_dict[length].plddt > 80).sum() / len(df_dict[length])\n",
    "    axs[i].set_title(f\"pLDDT > 80: {des:.02%}\")\n",
    "plt.tight_layout()\n",
    "plt.show()"
   ]
  },
  {
   "cell_type": "code",
   "execution_count": 209,
   "id": "9c85642f-d06d-44ed-9b01-3ed2696a3be3",
   "metadata": {
    "execution": {
     "iopub.execute_input": "2024-09-30T00:29:18.152439Z",
     "iopub.status.busy": "2024-09-30T00:29:18.152235Z",
     "iopub.status.idle": "2024-09-30T00:29:18.721602Z",
     "shell.execute_reply": "2024-09-30T00:29:18.721072Z",
     "shell.execute_reply.started": "2024-09-30T00:29:18.152420Z"
    }
   },
   "outputs": [
    {
     "data": {
      "image/png": "[encoded data removed]",
      "text/plain": [
       "<Figure size 1600x400 with 4 Axes>"
      ]
     },
     "metadata": {},
     "output_type": "display_data"
    }
   ],
   "source": [
    "fig, axs = plt.subplots(1,4, figsize=(8,2), dpi=200)\n",
    "for i, length in enumerate(lengths):\n",
    "    axs[i].hist(df_dict[length].perplexity.values, bins=100, color='navy')\n",
    "    axs[i].set_xlim(0,21)\n",
    "    axs[i].axvline(x=10, c='red')\n",
    "    axs[i].set_yticks([])\n",
    "    des = (df_dict[length].perplexity <10).sum() / len(df_dict[length])\n",
    "    axs[i].set_title(f\"ppl. < 10: {des:.02%}\")\n",
    "plt.tight_layout()\n",
    "plt.show()"
   ]
  },
  {
   "cell_type": "code",
   "execution_count": 210,
   "id": "e2f35ffd-3e40-4101-b1b2-c48b097a535e",
   "metadata": {
    "execution": {
     "iopub.execute_input": "2024-09-30T00:29:18.722573Z",
     "iopub.status.busy": "2024-09-30T00:29:18.722377Z",
     "iopub.status.idle": "2024-09-30T00:29:18.742148Z",
     "shell.execute_reply": "2024-09-30T00:29:18.741630Z",
     "shell.execute_reply.started": "2024-09-30T00:29:18.722554Z"
    }
   },
   "outputs": [
    {
     "name": "stdout",
     "output_type": "stream",
     "text": [
      "0.4326996197718631\n",
      "0.5355535553555355\n",
      "0.43846153846153846\n",
      "0.5384615384615384\n"
     ]
    }
   ],
   "source": [
    "for i, length in enumerate(lengths):\n",
    "    print((df_dict[length].scrmsd > 2).sum() / len(df_dict[length]))"
   ]
  },
  {
   "cell_type": "code",
   "execution_count": 226,
   "id": "3cde503d-e60e-41fd-bb6b-385aca6b8835",
   "metadata": {
    "execution": {
     "iopub.execute_input": "2024-09-30T00:41:28.190381Z",
     "iopub.status.busy": "2024-09-30T00:41:28.190040Z",
     "iopub.status.idle": "2024-09-30T00:41:28.209697Z",
     "shell.execute_reply": "2024-09-30T00:41:28.209147Z",
     "shell.execute_reply.started": "2024-09-30T00:41:28.190358Z"
    }
   },
   "outputs": [],
   "source": [
    "big_df = pd.concat(list(df_dict.values()))"
   ]
  },
  {
   "cell_type": "code",
   "execution_count": 227,
   "id": "03c6f465-5925-4ccc-b95c-90f50cb1054e",
   "metadata": {
    "execution": {
     "iopub.execute_input": "2024-09-30T00:41:28.364399Z",
     "iopub.status.busy": "2024-09-30T00:41:28.364029Z",
     "iopub.status.idle": "2024-09-30T00:41:28.940277Z",
     "shell.execute_reply": "2024-09-30T00:41:28.939785Z",
     "shell.execute_reply.started": "2024-09-30T00:41:28.364373Z"
    }
   },
   "outputs": [
    {
     "data": {
      "text/plain": [
       "Text(0.5, 1.0, 'Length distribution')"
      ]
     },
     "execution_count": 227,
     "metadata": {},
     "output_type": "execute_result"
    },
    {
     "data": {
      "image/png": "[encoded data removed]",
      "text/plain": [
       "<Figure size 1600x200 with 1 Axes>"
      ]
     },
     "metadata": {},
     "output_type": "display_data"
    }
   ],
   "source": [
    "fig, ax = plt.subplots(1,1,figsize=(8,1),dpi=200)\n",
    "_ = plt.hist(big_df.sequences.str.len(), bins=500,color=\"maroon\")\n",
    "plt.yticks([])\n",
    "plt.title(\"Length distribution\",fontsize=9)"
   ]
  },
  {
   "cell_type": "code",
   "execution_count": 228,
   "id": "4f3e9e6e-5c6a-4d84-ac2f-19530124a828",
   "metadata": {
    "execution": {
     "iopub.execute_input": "2024-09-30T00:41:29.658096Z",
     "iopub.status.busy": "2024-09-30T00:41:29.657744Z",
     "iopub.status.idle": "2024-09-30T00:41:29.677632Z",
     "shell.execute_reply": "2024-09-30T00:41:29.677089Z",
     "shell.execute_reply.started": "2024-09-30T00:41:29.658072Z"
    }
   },
   "outputs": [
    {
     "name": "stdout",
     "output_type": "stream",
     "text": [
      "0.013497887242104071 0.14731438419913928\n"
     ]
    }
   ],
   "source": [
    "import numpy as np\n",
    "print(np.mean(big_df.ccrmsd.values), np.std(big_df.ccrmsd.values))"
   ]
  },
  {
   "cell_type": "code",
   "execution_count": 229,
   "id": "a2f07e20-521a-4bd7-848c-94521e5cf146",
   "metadata": {
    "execution": {
     "iopub.execute_input": "2024-09-30T00:41:30.299576Z",
     "iopub.status.busy": "2024-09-30T00:41:30.299228Z",
     "iopub.status.idle": "2024-09-30T00:41:30.346230Z",
     "shell.execute_reply": "2024-09-30T00:41:30.345724Z",
     "shell.execute_reply.started": "2024-09-30T00:41:30.299554Z"
    }
   },
   "outputs": [
    {
     "data": {
      "text/html": [
       "<div>\n",
       "<style scoped>\n",
       "    .dataframe tbody tr th:only-of-type {\n",
       "        vertical-align: middle;\n",
       "    }\n",
       "\n",
       "    .dataframe tbody tr th {\n",
       "        vertical-align: top;\n",
       "    }\n",
       "\n",
       "    .dataframe thead th {\n",
       "        text-align: right;\n",
       "    }\n",
       "</style>\n",
       "<table border=\"1\" class=\"dataframe\">\n",
       "  <thead>\n",
       "    <tr style=\"text-align: right;\">\n",
       "      <th></th>\n",
       "      <th>Unnamed: 0</th>\n",
       "      <th>plddt</th>\n",
       "      <th>ccrmsd</th>\n",
       "      <th>scrmsd</th>\n",
       "      <th>cctm</th>\n",
       "      <th>sctm</th>\n",
       "      <th>perplexity</th>\n",
       "      <th>molecular_weight</th>\n",
       "      <th>aromaticity</th>\n",
       "      <th>instability_index</th>\n",
       "      <th>isoelectric_point</th>\n",
       "      <th>gravy</th>\n",
       "      <th>charge_at_pH</th>\n",
       "    </tr>\n",
       "  </thead>\n",
       "  <tbody>\n",
       "    <tr>\n",
       "      <th>count</th>\n",
       "      <td>4220.000000</td>\n",
       "      <td>4220.000000</td>\n",
       "      <td>4.220000e+03</td>\n",
       "      <td>4220.000000</td>\n",
       "      <td>4220.000000</td>\n",
       "      <td>4220.000000</td>\n",
       "      <td>4220.000000</td>\n",
       "      <td>4220.000000</td>\n",
       "      <td>4220.000000</td>\n",
       "      <td>4220.000000</td>\n",
       "      <td>4220.000000</td>\n",
       "      <td>4220.000000</td>\n",
       "      <td>4220.000000</td>\n",
       "    </tr>\n",
       "    <tr>\n",
       "      <th>mean</th>\n",
       "      <td>579.782227</td>\n",
       "      <td>78.889005</td>\n",
       "      <td>1.349789e-02</td>\n",
       "      <td>4.432093</td>\n",
       "      <td>0.999664</td>\n",
       "      <td>0.783604</td>\n",
       "      <td>9.865747</td>\n",
       "      <td>14172.426968</td>\n",
       "      <td>0.084651</td>\n",
       "      <td>38.079327</td>\n",
       "      <td>6.959271</td>\n",
       "      <td>-0.184684</td>\n",
       "      <td>-1.136821</td>\n",
       "    </tr>\n",
       "    <tr>\n",
       "      <th>std</th>\n",
       "      <td>366.470662</td>\n",
       "      <td>11.001894</td>\n",
       "      <td>1.473318e-01</td>\n",
       "      <td>6.171212</td>\n",
       "      <td>0.005765</td>\n",
       "      <td>0.204115</td>\n",
       "      <td>5.027404</td>\n",
       "      <td>10958.734299</td>\n",
       "      <td>0.037552</td>\n",
       "      <td>16.755585</td>\n",
       "      <td>1.976096</td>\n",
       "      <td>0.460696</td>\n",
       "      <td>5.730593</td>\n",
       "    </tr>\n",
       "    <tr>\n",
       "      <th>min</th>\n",
       "      <td>0.000000</td>\n",
       "      <td>22.856881</td>\n",
       "      <td>6.584438e-16</td>\n",
       "      <td>0.251305</td>\n",
       "      <td>0.721970</td>\n",
       "      <td>0.134410</td>\n",
       "      <td>1.240745</td>\n",
       "      <td>1422.496100</td>\n",
       "      <td>0.000000</td>\n",
       "      <td>-18.421212</td>\n",
       "      <td>4.050028</td>\n",
       "      <td>-2.109524</td>\n",
       "      <td>-34.655971</td>\n",
       "    </tr>\n",
       "    <tr>\n",
       "      <th>25%</th>\n",
       "      <td>263.000000</td>\n",
       "      <td>74.349964</td>\n",
       "      <td>3.760774e-15</td>\n",
       "      <td>0.910211</td>\n",
       "      <td>1.000000</td>\n",
       "      <td>0.676657</td>\n",
       "      <td>5.529786</td>\n",
       "      <td>5769.348450</td>\n",
       "      <td>0.057692</td>\n",
       "      <td>27.607228</td>\n",
       "      <td>5.179121</td>\n",
       "      <td>-0.452056</td>\n",
       "      <td>-3.963249</td>\n",
       "    </tr>\n",
       "    <tr>\n",
       "      <th>50%</th>\n",
       "      <td>538.000000</td>\n",
       "      <td>81.624059</td>\n",
       "      <td>5.954133e-15</td>\n",
       "      <td>1.826484</td>\n",
       "      <td>1.000000</td>\n",
       "      <td>0.861050</td>\n",
       "      <td>9.303823</td>\n",
       "      <td>11231.416350</td>\n",
       "      <td>0.082278</td>\n",
       "      <td>36.346528</td>\n",
       "      <td>6.474382</td>\n",
       "      <td>-0.204668</td>\n",
       "      <td>-0.588467</td>\n",
       "    </tr>\n",
       "    <tr>\n",
       "      <th>75%</th>\n",
       "      <td>890.000000</td>\n",
       "      <td>86.262404</td>\n",
       "      <td>4.673924e-14</td>\n",
       "      <td>5.366524</td>\n",
       "      <td>1.000000</td>\n",
       "      <td>0.947477</td>\n",
       "      <td>13.725045</td>\n",
       "      <td>18617.782925</td>\n",
       "      <td>0.106802</td>\n",
       "      <td>46.402206</td>\n",
       "      <td>8.860567</td>\n",
       "      <td>0.044637</td>\n",
       "      <td>2.062042</td>\n",
       "    </tr>\n",
       "    <tr>\n",
       "      <th>max</th>\n",
       "      <td>1314.000000</td>\n",
       "      <td>96.962145</td>\n",
       "      <td>6.595819e+00</td>\n",
       "      <td>116.396061</td>\n",
       "      <td>1.000000</td>\n",
       "      <td>0.995960</td>\n",
       "      <td>35.084185</td>\n",
       "      <td>57047.234000</td>\n",
       "      <td>0.269231</td>\n",
       "      <td>184.480000</td>\n",
       "      <td>11.999968</td>\n",
       "      <td>1.571429</td>\n",
       "      <td>27.420586</td>\n",
       "    </tr>\n",
       "  </tbody>\n",
       "</table>\n",
       "</div>"
      ],
      "text/plain": [
       "        Unnamed: 0        plddt        ccrmsd       scrmsd         cctm  \\\n",
       "count  4220.000000  4220.000000  4.220000e+03  4220.000000  4220.000000   \n",
       "mean    579.782227    78.889005  1.349789e-02     4.432093     0.999664   \n",
       "std     366.470662    11.001894  1.473318e-01     6.171212     0.005765   \n",
       "min       0.000000    22.856881  6.584438e-16     0.251305     0.721970   \n",
       "25%     263.000000    74.349964  3.760774e-15     0.910211     1.000000   \n",
       "50%     538.000000    81.624059  5.954133e-15     1.826484     1.000000   \n",
       "75%     890.000000    86.262404  4.673924e-14     5.366524     1.000000   \n",
       "max    1314.000000    96.962145  6.595819e+00   116.396061     1.000000   \n",
       "\n",
       "              sctm   perplexity  molecular_weight  aromaticity  \\\n",
       "count  4220.000000  4220.000000       4220.000000  4220.000000   \n",
       "mean      0.783604     9.865747      14172.426968     0.084651   \n",
       "std       0.204115     5.027404      10958.734299     0.037552   \n",
       "min       0.134410     1.240745       1422.496100     0.000000   \n",
       "25%       0.676657     5.529786       5769.348450     0.057692   \n",
       "50%       0.861050     9.303823      11231.416350     0.082278   \n",
       "75%       0.947477    13.725045      18617.782925     0.106802   \n",
       "max       0.995960    35.084185      57047.234000     0.269231   \n",
       "\n",
       "       instability_index  isoelectric_point        gravy  charge_at_pH  \n",
       "count        4220.000000        4220.000000  4220.000000   4220.000000  \n",
       "mean           38.079327           6.959271    -0.184684     -1.136821  \n",
       "std            16.755585           1.976096     0.460696      5.730593  \n",
       "min           -18.421212           4.050028    -2.109524    -34.655971  \n",
       "25%            27.607228           5.179121    -0.452056     -3.963249  \n",
       "50%            36.346528           6.474382    -0.204668     -0.588467  \n",
       "75%            46.402206           8.860567     0.044637      2.062042  \n",
       "max           184.480000          11.999968     1.571429     27.420586  "
      ]
     },
     "execution_count": 229,
     "metadata": {},
     "output_type": "execute_result"
    }
   ],
   "source": [
    "big_df.describe()"
   ]
  },
  {
   "cell_type": "code",
   "execution_count": 215,
   "id": "f474e39f-1ac5-4967-804e-930676f53404",
   "metadata": {
    "execution": {
     "iopub.execute_input": "2024-09-30T00:29:19.404347Z",
     "iopub.status.busy": "2024-09-30T00:29:19.404150Z",
     "iopub.status.idle": "2024-09-30T00:29:19.443656Z",
     "shell.execute_reply": "2024-09-30T00:29:19.443163Z",
     "shell.execute_reply.started": "2024-09-30T00:29:19.404329Z"
    }
   },
   "outputs": [
    {
     "name": "stdout",
     "output_type": "stream",
     "text": [
      "Unnamed: 0 579.78±366.47\n",
      "plddt 78.89±11.00\n",
      "ccrmsd 0.01±0.15\n",
      "scrmsd 4.43±6.17\n",
      "cctm 1.00±0.01\n",
      "sctm 0.78±0.20\n",
      "perplexity 9.87±5.03\n",
      "molecular_weight 14172.43±10958.73\n",
      "aromaticity 0.08±0.04\n",
      "instability_index 38.08±16.76\n",
      "isoelectric_point 6.96±1.98\n",
      "gravy -0.18±0.46\n",
      "charge_at_pH -1.14±5.73\n"
     ]
    }
   ],
   "source": [
    "summary = big_df.describe()\n",
    "summary = summary.filter(['mean', 'std'], axis=0)\n",
    "for col in summary.columns:\n",
    "    mean = summary[col]['mean']\n",
    "    std = summary[col]['std']\n",
    "    print(col, f\"{mean:.2f}±{std:.2f}\")"
   ]
  },
  {
   "cell_type": "code",
   "execution_count": 216,
   "id": "d7aed477-aedd-46d8-be82-1872d9c360a7",
   "metadata": {
    "execution": {
     "iopub.execute_input": "2024-09-30T00:29:19.444508Z",
     "iopub.status.busy": "2024-09-30T00:29:19.444326Z",
     "iopub.status.idle": "2024-09-30T00:29:19.464064Z",
     "shell.execute_reply": "2024-09-30T00:29:19.463569Z",
     "shell.execute_reply.started": "2024-09-30T00:29:19.444491Z"
    }
   },
   "outputs": [
    {
     "name": "stdout",
     "output_type": "stream",
     "text": [
      "0.5260663507109005\n",
      "0.999526066350711\n",
      "0.874170616113744\n"
     ]
    }
   ],
   "source": [
    "print((big_df.scrmsd < 2).sum() / len(big_df))\n",
    "print((big_df.ccrmsd < 2).sum() / len(big_df))\n",
    "print((big_df.sctm > 0.5).sum() / len(big_df))"
   ]
  },
  {
   "cell_type": "markdown",
   "id": "45526253-4444-4e02-8ee8-094977207872",
   "metadata": {},
   "source": [
    "# Diversity and Novelty"
   ]
  },
  {
   "cell_type": "code",
   "execution_count": 248,
   "id": "4002e3ac-57f5-4d4c-aa32-56ad76dca46f",
   "metadata": {
    "execution": {
     "iopub.execute_input": "2024-09-30T01:04:37.762744Z",
     "iopub.status.busy": "2024-09-30T01:04:37.762388Z",
     "iopub.status.idle": "2024-09-30T01:04:37.781827Z",
     "shell.execute_reply": "2024-09-30T01:04:37.781258Z",
     "shell.execute_reply.started": "2024-09-30T01:04:37.762719Z"
    }
   },
   "outputs": [],
   "source": [
    "import glob\n",
    "paths = glob.glob(\"/homefs/home/robins21/fold_seek_results_/scoring/5j007z42_100_200_300_v2_*novelty*.csv\")"
   ]
  },
  {
   "cell_type": "code",
   "execution_count": 252,
   "id": "cdb11134-083b-4dec-9fa1-5f164219828c",
   "metadata": {
    "execution": {
     "iopub.execute_input": "2024-09-30T01:05:31.830246Z",
     "iopub.status.busy": "2024-09-30T01:05:31.829905Z",
     "iopub.status.idle": "2024-09-30T01:05:31.848970Z",
     "shell.execute_reply": "2024-09-30T01:05:31.848489Z",
     "shell.execute_reply.started": "2024-09-30T01:05:31.830224Z"
    }
   },
   "outputs": [
    {
     "data": {
      "text/plain": [
       "['/homefs/home/robins21/fold_seek_results_/scoring/5j007z42_100_200_300_v2_48_novelty_score.csv',\n",
       " '/homefs/home/robins21/fold_seek_results_/scoring/5j007z42_100_200_300_v2_filtered_48_novelty_score.csv',\n",
       " '/homefs/home/robins21/fold_seek_results_/scoring/5j007z42_100_200_300_v2_filtered_100_novelty_score.csv',\n",
       " '/homefs/home/robins21/fold_seek_results_/scoring/5j007z42_100_200_300_v2_100_novelty_score.csv',\n",
       " '/homefs/home/robins21/fold_seek_results_/scoring/5j007z42_100_200_300_v2_148_novelty_score.csv',\n",
       " '/homefs/home/robins21/fold_seek_results_/scoring/5j007z42_100_200_300_v2_filtered_148_novelty_score.csv']"
      ]
     },
     "execution_count": 252,
     "metadata": {},
     "output_type": "execute_result"
    }
   ],
   "source": [
    "paths"
   ]
  },
  {
   "cell_type": "code",
   "execution_count": 251,
   "id": "559094ee-e6e9-421f-8db5-50bc3a59c73f",
   "metadata": {
    "execution": {
     "iopub.execute_input": "2024-09-30T01:05:29.108852Z",
     "iopub.status.busy": "2024-09-30T01:05:29.108509Z",
     "iopub.status.idle": "2024-09-30T01:05:29.144716Z",
     "shell.execute_reply": "2024-09-30T01:05:29.144194Z",
     "shell.execute_reply.started": "2024-09-30T01:05:29.108831Z"
    }
   },
   "outputs": [],
   "source": [
    "all_dfs = {}\n",
    "for p in paths:\n",
    "    all_dfs[Path(p).stem] = pd.read_csv(p)"
   ]
  },
  {
   "cell_type": "code",
   "execution_count": 253,
   "id": "205f9345-f57f-4e64-8d4f-93c8e7c321a7",
   "metadata": {
    "execution": {
     "iopub.execute_input": "2024-09-30T08:55:42.888338Z",
     "iopub.status.busy": "2024-09-30T08:55:42.887984Z",
     "iopub.status.idle": "2024-09-30T08:55:43.544304Z",
     "shell.execute_reply": "2024-09-30T08:55:43.543638Z",
     "shell.execute_reply.started": "2024-09-30T08:55:42.888315Z"
    }
   },
   "outputs": [
    {
     "name": "stdout",
     "output_type": "stream",
     "text": [
      "100  120  140  160  180  200  220  240\t32  52\t72  92\t\tsample.yaml\n",
      "104  124  144  164  184  204  224  244\t36  56\t76  96\t\ttmp\n",
      "108  128  148  168  188  208  228  248\t40  60\t80  generated\n",
      "112  132  152  172  192  212  232  252\t44  64\t84  latent.npz\n",
      "116  136  156  176  196  216  236  256\t48  68\t88  sample.log\n"
     ]
    }
   ],
   "source": [
    "!ls /data/lux70/plaid/artifacts/samples/by_length"
   ]
  },
  {
   "cell_type": "code",
   "execution_count": null,
   "id": "c7f4897e-ed1b-4dc3-8066-7d62b5228287",
   "metadata": {},
   "outputs": [],
   "source": []
  }
 ],
 "metadata": {
  "kernelspec": {
   "display_name": "Python (omegafold)",
   "language": "python",
   "name": "omegafold"
  },
  "language_info": {
   "codemirror_mode": {
    "name": "ipython",
    "version": 3
   },
   "file_extension": ".py",
   "mimetype": "text/x-python",
   "name": "python",
   "nbconvert_exporter": "python",
   "pygments_lexer": "ipython3",
   "version": "3.9.12"
  }
 },
 "nbformat": 4,
 "nbformat_minor": 5
}
