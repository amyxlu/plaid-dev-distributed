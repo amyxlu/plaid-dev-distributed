{
 "cells": [
  {
   "cell_type": "code",
   "execution_count": 1,
   "id": "cc9ebf58-3ef0-4356-be44-d68bc0ef6ae8",
   "metadata": {},
   "outputs": [],
   "source": [
    "%load_ext autoreload\n",
    "%autoreload 2"
   ]
  },
  {
   "cell_type": "code",
   "execution_count": 5,
   "id": "be6497ba-e0b1-4e45-8dd3-8b9b0eaa372d",
   "metadata": {},
   "outputs": [],
   "source": [
    "import numpy as np\n",
    "from pathlib import Path\n",
    "\n",
    "from plaid.datasets import NUM_FUNCTION_CLASSES, NUM_ORGANISM_CLASSES"
   ]
  },
  {
   "cell_type": "code",
   "execution_count": 7,
   "id": "f22fe0d0-5753-4597-b382-40907180c1c2",
   "metadata": {},
   "outputs": [],
   "source": [
    "samples_dir = Path(\"/data/lux70/plaid/artifacts/samples/4hdab8dn\")\n",
    "function_idx = 1\n",
    "organism_idx = NUM_ORGANISM_CLASSES"
   ]
  },
  {
   "cell_type": "code",
   "execution_count": 13,
   "id": "8dad50d2-cdcc-47e6-abdb-4f2cb36ff358",
   "metadata": {},
   "outputs": [],
   "source": [
    "import os\n",
    "from glob import glob\n",
    "\n",
    "npz_path = glob(str(samples_dir / f\"f{function_idx}_o{NUM_ORGANISM_CLASSES}/*.npz\"))[0]"
   ]
  },
  {
   "cell_type": "code",
   "execution_count": 16,
   "id": "0d2a7f40-90c9-4c2d-9c18-228a5f69bade",
   "metadata": {},
   "outputs": [],
   "source": [
    "x = np.load(npz_path, allow_pickle=True)['samples']"
   ]
  },
  {
   "cell_type": "code",
   "execution_count": 17,
   "id": "6d114181-146d-4a77-bfe7-3a321932ee56",
   "metadata": {},
   "outputs": [
    {
     "data": {
      "text/plain": [
       "(2048, 32, 32)"
      ]
     },
     "execution_count": 17,
     "metadata": {},
     "output_type": "execute_result"
    }
   ],
   "source": [
    "x.shape"
   ]
  },
  {
   "cell_type": "code",
   "execution_count": null,
   "id": "ad3418fd-31dd-4d9d-b517-dbd3bbebe3e5",
   "metadata": {},
   "outputs": [],
   "source": []
  }
 ],
 "metadata": {
  "kernelspec": {
   "display_name": "Python (flash_attn)",
   "language": "python",
   "name": "flash_attn"
  },
  "language_info": {
   "codemirror_mode": {
    "name": "ipython",
    "version": 3
   },
   "file_extension": ".py",
   "mimetype": "text/x-python",
   "name": "python",
   "nbconvert_exporter": "python",
   "pygments_lexer": "ipython3",
   "version": "3.11.9"
  }
 },
 "nbformat": 4,
 "nbformat_minor": 5
}
