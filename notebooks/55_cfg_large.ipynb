{
 "cells": [
  {
   "cell_type": "code",
   "execution_count": 1,
   "id": "8be77fb2-2be4-4ef5-bcff-c337ac2e0f22",
   "metadata": {},
   "outputs": [],
   "source": [
    "%load_ext autoreload\n",
    "%autoreload 2"
   ]
  },
  {
   "cell_type": "markdown",
   "id": "6cf5d6a4-43cc-43cd-b2cd-32d85ba411eb",
   "metadata": {},
   "source": [
    "# Load EMA weights"
   ]
  },
  {
   "cell_type": "code",
   "execution_count": 2,
   "id": "40340dd1-691e-46a9-a7a4-89764ae70232",
   "metadata": {},
   "outputs": [],
   "source": [
    "from pathlib import Path\n",
    "from omegaconf import OmegaConf\n",
    "\n",
    "import torch\n",
    "from plaid.diffusion import FunctionOrganismDiffusion\n",
    "from plaid.denoisers import FunctionOrganismDiT, DenoiserKwargs\n",
    "from plaid.constants import COMPRESSION_INPUT_DIMENSIONS, COMPRESSION_SHORTEN_FACTORS\n",
    "\n",
    "device = torch.device(\"cuda\")"
   ]
  },
  {
   "cell_type": "code",
   "execution_count": 3,
   "id": "d41fe821-9853-4dac-8770-7ad43913f72c",
   "metadata": {},
   "outputs": [],
   "source": [
    "model_id = \"4hdab8dn\"\n",
    "\n",
    "ckpt_dir = Path(\"/data/lux70/plaid/checkpoints/plaid-compositional\") \n",
    "model_path = ckpt_dir / model_id / \"last.ckpt\"\n",
    "config_path = ckpt_dir / model_id / \"config.yaml\"\n",
    "\n",
    "cfg = OmegaConf.load(config_path)"
   ]
  },
  {
   "cell_type": "code",
   "execution_count": 4,
   "id": "0d0ee233-db93-413c-9ad8-3d64002782ec",
   "metadata": {},
   "outputs": [],
   "source": [
    "compression_model_id = cfg['compression_model_id']\n",
    "shorten_factor = COMPRESSION_SHORTEN_FACTORS[compression_model_id]\n",
    "input_dim = COMPRESSION_INPUT_DIMENSIONS[compression_model_id]"
   ]
  },
  {
   "cell_type": "code",
   "execution_count": 5,
   "id": "0ccb6306-1595-415f-972a-f2e26c8f0855",
   "metadata": {},
   "outputs": [],
   "source": [
    "denoiser_kwargs = cfg.denoiser\n",
    "denoiser_kwargs.pop(\"_target_\")\n",
    "denoiser = FunctionOrganismDiT(**denoiser_kwargs, input_dim=input_dim)"
   ]
  },
  {
   "cell_type": "code",
   "execution_count": 6,
   "id": "893d53c5-fb33-4ba3-abf0-f5fcef079c0b",
   "metadata": {},
   "outputs": [],
   "source": [
    "# lask.ckpt automatically links to the EMA\n",
    "\n",
    "ckpt = torch.load(model_path)\n",
    "# ckpt.keys()"
   ]
  },
  {
   "cell_type": "code",
   "execution_count": 7,
   "id": "339644e5-2ad5-4c13-a861-b0451aa896dc",
   "metadata": {},
   "outputs": [],
   "source": [
    "mod_state_dict = {}\n",
    "for k, v in ckpt['state_dict'].items():\n",
    "    if k[:16] == \"model._orig_mod.\":\n",
    "        mod_state_dict[k[16:]] = v"
   ]
  },
  {
   "cell_type": "code",
   "execution_count": 8,
   "id": "3db302af-0823-4253-87bd-2759f57bba5e",
   "metadata": {},
   "outputs": [
    {
     "data": {
      "text/plain": [
       "<All keys matched successfully>"
      ]
     },
     "execution_count": 8,
     "metadata": {},
     "output_type": "execute_result"
    }
   ],
   "source": [
    "denoiser.load_state_dict(mod_state_dict)"
   ]
  },
  {
   "cell_type": "code",
   "execution_count": 9,
   "id": "de95b1ca-a6a7-4577-a627-3a4e440d28c8",
   "metadata": {},
   "outputs": [],
   "source": [
    "diffusion_kwargs = cfg.diffusion\n",
    "diffusion_kwargs.pop(\"_target_\")\n",
    "\n",
    "# diffusion_kwargs['beta_scheduler_name'] = \"sigmoid\"\n",
    "diffusion_kwargs['sampling_timesteps'] = 500\n",
    "\n",
    "diffusion = FunctionOrganismDiffusion(model=denoiser,**diffusion_kwargs)"
   ]
  },
  {
   "cell_type": "code",
   "execution_count": 10,
   "id": "11c8b285-5450-4c5b-a524-5bd16104f47f",
   "metadata": {},
   "outputs": [
    {
     "name": "stdout",
     "output_type": "stream",
     "text": [
      "Using tanh layer at bottleneck...\n",
      "Finished loading HPCT model with shorten factor 2 and 32 channel dimensions.\n"
     ]
    },
    {
     "name": "stderr",
     "output_type": "stream",
     "text": [
      "Creating ESMFold...\n",
      "ESMFold model loaded in 36.88 seconds.\n"
     ]
    },
    {
     "data": {
      "text/plain": [
       "<cheap.proteins.LatentToStructure at 0x7f35dc136ec0>"
      ]
     },
     "execution_count": 10,
     "metadata": {},
     "output_type": "execute_result"
    }
   ],
   "source": [
    "from cheap.pretrained import load_model_from_id\n",
    "cheap_model = load_model_from_id(compression_model_id)\n",
    "_ = cheap_model.to(device)\n",
    "\n",
    "from cheap.proteins import LatentToSequence,LatentToStructure\n",
    "latent_to_sequence = LatentToSequence()\n",
    "latent_to_sequence.to(device)\n",
    "\n",
    "latent_to_structure = LatentToStructure()\n",
    "latent_to_structure.to(device)"
   ]
  },
  {
   "cell_type": "markdown",
   "id": "80da3b78-1ae3-43d5-bcfb-e1debeeb2b88",
   "metadata": {},
   "source": [
    "# Sample\n",
    "Human, carbohydrate metabolic process:"
   ]
  },
  {
   "cell_type": "code",
   "execution_count": 11,
   "id": "8dbb148c-1816-460f-a511-050f4b9ac60c",
   "metadata": {},
   "outputs": [],
   "source": [
    "# organism_idx = org_df[org_df.organism_id == \"HUMAN\"].organism_index.iloc[0]\n",
    "# function_idx = go_df[go_df.GO_term == \"carbohydrate metabolic process\"].GO_idx.iloc[0]\n",
    "# print(organism_idx, function_idx)\n"
   ]
  },
  {
   "cell_type": "code",
   "execution_count": 12,
   "id": "ef5574ef-a2a4-4ed4-a8c0-ef6046ded4eb",
   "metadata": {},
   "outputs": [],
   "source": [
    "device = torch.device(\"cuda\")\n",
    "diffusion = diffusion.to(device)"
   ]
  },
  {
   "cell_type": "code",
   "execution_count": null,
   "id": "dbfd8cdc-0b38-4e42-9896-9bceae605613",
   "metadata": {},
   "outputs": [
    {
     "data": {
      "application/vnd.jupyter.widget-view+json": {
       "model_id": "de4590d3d260413a854b36c84d737f63",
       "version_major": 2,
       "version_minor": 0
      },
      "text/plain": [
       "sampling loop time step:   0%|          | 0/1000 [00:00<?, ?it/s]"
      ]
     },
     "metadata": {},
     "output_type": "display_data"
    }
   ],
   "source": [
    "from plaid.datasets import NUM_ORGANISM_CLASSES, NUM_FUNCTION_CLASSES\n",
    "\n",
    "N, L = 32, 128\n",
    "shape = (N, L, input_dim)\n",
    "\n",
    "organism_idx = 0\n",
    "function_idx = 0\n",
    "\n",
    "organism_y_idxs = torch.full((N,), organism_idx)\n",
    "function_y_idxs = torch.full((N,), function_idx)\n",
    "\n",
    "cond_scale = 0\n",
    "\n",
    "diffusion.sampling_timesteps=1000\n",
    "diffusion\n",
    "sampled_latent = diffusion.ddim_sample_loop(shape, organism_idx, function_idx, return_all_timesteps=True, cond_scale=cond_scale)"
   ]
  },
  {
   "cell_type": "code",
   "execution_count": null,
   "id": "1cc49c1b-4349-43c0-bbc2-86bc37c22029",
   "metadata": {},
   "outputs": [],
   "source": [
    "print(sampled_latent.shape)\n",
    "final_sample = sampled_latent[:, -1, :, :]\n",
    "print(final_sample.shape)\n",
    "\n",
    "print(final_sample.max(), final_sample.min())"
   ]
  },
  {
   "cell_type": "code",
   "execution_count": null,
   "id": "6be3f51f-c486-4b19-b8e9-449c810ddad9",
   "metadata": {},
   "outputs": [],
   "source": [
    "sampled_uncompressed = cheap_model.decode(final_sample, downsampled_mask=None)\n",
    "print(sampled_uncompressed.min(), sampled_uncompressed.max())"
   ]
  },
  {
   "cell_type": "code",
   "execution_count": null,
   "id": "dbcf8ec3-7afc-48ae-b0d5-d19ded99b383",
   "metadata": {},
   "outputs": [],
   "source": [
    "# import pickle as pkl\n",
    "# with open(\"test_sample.pkl\", \"wb\") as f:\n",
    "#     pkl.dump(sampled_uncompressed,f)"
   ]
  },
  {
   "cell_type": "code",
   "execution_count": null,
   "id": "8e77d77c-ee26-41ee-a29b-67b3c9777136",
   "metadata": {},
   "outputs": [],
   "source": [
    "from cheap.utils import LatentScaler\n",
    "latent_scaler = LatentScaler()\n",
    "sampled_unscaled = latent_scaler.unscale(sampled_uncompressed) "
   ]
  },
  {
   "cell_type": "code",
   "execution_count": null,
   "id": "36492297-c8cc-44f2-8198-88b8e1223b3c",
   "metadata": {},
   "outputs": [],
   "source": [
    "print(sampled_unscaled.shape)\n",
    "print(sampled_unscaled.max(), sampled_unscaled.min())"
   ]
  },
  {
   "cell_type": "code",
   "execution_count": null,
   "id": "4ebf6908-d86b-4266-a9a9-65c020f2c8cd",
   "metadata": {},
   "outputs": [],
   "source": [
    "sequences = latent_to_sequence.to_sequence(sampled_unscaled)[-1]"
   ]
  },
  {
   "cell_type": "code",
   "execution_count": null,
   "id": "c07e3c4f-692f-435d-b495-d842e2653577",
   "metadata": {},
   "outputs": [],
   "source": [
    "sequences[:3]"
   ]
  },
  {
   "cell_type": "code",
   "execution_count": null,
   "id": "ab9c6666-1bee-41b8-a7be-5b408aa3aa0b",
   "metadata": {},
   "outputs": [],
   "source": [
    "pdb_strs, raw_outputs = latent_to_structure.to_structure(sampled_unscaled, return_raw_outputs=True, sequences=sequences, batch_size=32, num_recycles=1)"
   ]
  },
  {
   "cell_type": "code",
   "execution_count": null,
   "id": "cad56f46-1950-495f-9884-6575c0e9a64f",
   "metadata": {},
   "outputs": [],
   "source": [
    "raw_outputs['plddt'].mean(dim=-1).mean(dim=-1)"
   ]
  },
  {
   "cell_type": "code",
   "execution_count": null,
   "id": "10ccdd63-754f-4f75-86d4-e425ba88dddb",
   "metadata": {},
   "outputs": [],
   "source": [
    "print(raw_outputs['plddt'].mean())"
   ]
  },
  {
   "cell_type": "code",
   "execution_count": null,
   "id": "87165734-415d-47f3-ad0f-9edbb69a8fb2",
   "metadata": {},
   "outputs": [],
   "source": [
    "import py3Dmol\n",
    "\n",
    "# for i in range(len(pdb_strs)):\n",
    "for i in range(0,10): \n",
    "    view = py3Dmol.view(width=600, height=600)\n",
    "    view.addModelsAsFrames(pdb_strs[i])\n",
    "    \n",
    "    # Apply the plDDT color scheme\n",
    "    # view.setStyle({'cartoon': {'color': {'prop': 'b', 'gradient': 'roygb', 'min': 0, 'max': 100}}})\n",
    "    view.setStyle({'cartoon': {'color': {'prop': 'b', 'gradient': 'roygb', 'min': 50, 'max': 90}}})\n",
    "    \n",
    "    # # Add surface representation with plDDT-based color\n",
    "    view.addSurface(py3Dmol.VDW, {'opacity': 0.7, 'colorscheme': {'prop': 'b', 'gradient': 'roygb', 'min': 50, 'max': 90}})\n",
    "    # view.addSurface(py3Dmol.VDW, {'opacity': 0.7, 'colorscheme': {'prop': 'b', 'gradient': 'roygb', 'min': 0, 'max': 100}})\n",
    "\n",
    "    view.zoomTo()\n",
    "    view.show()"
   ]
  },
  {
   "cell_type": "code",
   "execution_count": null,
   "id": "c15f4adf-d61c-47e7-afa6-08619861e4a3",
   "metadata": {},
   "outputs": [],
   "source": [
    "from plaid.evaluation import RITAPerplexity\n",
    "\n",
    "perplexity_calc = RITAPerplexity(device=device)\n",
    "perplexities = perplexity_calc.batch_eval(sequences)"
   ]
  },
  {
   "cell_type": "code",
   "execution_count": null,
   "id": "74a4062a-cfac-40d8-aa37-b7afa8459831",
   "metadata": {},
   "outputs": [],
   "source": [
    "perplexities"
   ]
  },
  {
   "cell_type": "code",
   "execution_count": null,
   "id": "69a3cd6d-9fbb-48b8-bb2e-e824f985020c",
   "metadata": {},
   "outputs": [],
   "source": []
  },
  {
   "cell_type": "code",
   "execution_count": null,
   "id": "8db437c2-58e1-4121-9bdc-7d57f6353864",
   "metadata": {},
   "outputs": [],
   "source": []
  },
  {
   "cell_type": "code",
   "execution_count": null,
   "id": "aaf6a69e-c3c4-4bca-b5c5-59f367b7abca",
   "metadata": {},
   "outputs": [],
   "source": []
  },
  {
   "cell_type": "code",
   "execution_count": null,
   "id": "dc89dcc9-dc2f-4cf5-82af-d3a1b6e61a02",
   "metadata": {},
   "outputs": [],
   "source": []
  },
  {
   "cell_type": "code",
   "execution_count": null,
   "id": "6ba241a5-a334-4034-aabd-186e81be9028",
   "metadata": {},
   "outputs": [],
   "source": []
  }
 ],
 "metadata": {
  "kernelspec": {
   "display_name": "Python (plaid)",
   "language": "python",
   "name": "plaid"
  },
  "language_info": {
   "codemirror_mode": {
    "name": "ipython",
    "version": 3
   },
   "file_extension": ".py",
   "mimetype": "text/x-python",
   "name": "python",
   "nbconvert_exporter": "python",
   "pygments_lexer": "ipython3",
   "version": "3.10.0"
  }
 },
 "nbformat": 4,
 "nbformat_minor": 5
}
