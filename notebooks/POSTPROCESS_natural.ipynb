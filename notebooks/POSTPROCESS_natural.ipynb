{
 "cells": [
  {
   "cell_type": "code",
   "execution_count": 32,
   "id": "eb8f767f-666a-4172-a10f-5b681eec057f",
   "metadata": {
    "execution": {
     "iopub.execute_input": "2024-09-27T19:41:25.606626Z",
     "iopub.status.busy": "2024-09-27T19:41:25.606238Z",
     "iopub.status.idle": "2024-09-27T19:41:27.323885Z",
     "shell.execute_reply": "2024-09-27T19:41:27.323152Z",
     "shell.execute_reply.started": "2024-09-27T19:41:25.606601Z"
    }
   },
   "outputs": [
    {
     "name": "stdout",
     "output_type": "stream",
     "text": [
      "The autoreload extension is already loaded. To reload it, use:\n",
      "  %reload_ext autoreload\n"
     ]
    }
   ],
   "source": [
    "%load_ext autoreload\n",
    "%autoreload 2"
   ]
  },
  {
   "cell_type": "code",
   "execution_count": 33,
   "id": "a2891bad-16f6-42ed-bddd-97cb9feb7101",
   "metadata": {
    "execution": {
     "iopub.execute_input": "2024-09-27T19:41:27.325543Z",
     "iopub.status.busy": "2024-09-27T19:41:27.325080Z",
     "iopub.status.idle": "2024-09-27T19:41:27.381385Z",
     "shell.execute_reply": "2024-09-27T19:41:27.380662Z",
     "shell.execute_reply.started": "2024-09-27T19:41:27.325518Z"
    }
   },
   "outputs": [],
   "source": [
    "import matplotlib.pyplot as plt\n",
    "import numpy as np\n",
    "import pandas as pd\n",
    "import seaborn as sns\n",
    "import torch\n",
    "\n",
    "from pathlib import Path\n",
    "import glob\n",
    "import re\n",
    "\n",
    "from plaid.evaluation import calculate_ca_rmsd, run_tmalign, rmspd_from_pdb_paths\n",
    "from plaid.utils import read_sequences_from_fasta, calc_sequence_recovery, extract_avg_b_factor_per_residue\n",
    "from plaid.evaluation import  run_tmalign\n",
    "\n",
    "import os\n",
    "import multiprocessing as mp\n",
    "from functools import partial\n",
    "\n",
    "import numpy as np\n",
    "import typing as T\n",
    "import pandas as pd\n",
    "from Bio.SeqUtils.ProtParam import ProteinAnalysis\n",
    "from Bio import PDB\n",
    "\n",
    "import re\n",
    "import wandb\n"
   ]
  },
  {
   "cell_type": "code",
   "execution_count": 34,
   "id": "c217b938-fc1c-43cf-8729-e3c2c50d123b",
   "metadata": {
    "execution": {
     "iopub.execute_input": "2024-09-27T19:41:27.382952Z",
     "iopub.status.busy": "2024-09-27T19:41:27.382426Z",
     "iopub.status.idle": "2024-09-27T19:41:27.434024Z",
     "shell.execute_reply": "2024-09-27T19:41:27.433336Z",
     "shell.execute_reply.started": "2024-09-27T19:41:27.382920Z"
    }
   },
   "outputs": [],
   "source": [
    "sample_dir = \"/data/lux70/data/pfam/val_stats/\"\n",
    "sample_dir = Path(sample_dir)\n",
    "\n",
    "def filename_to_suffix_number(path):\n",
    "    x = str(path).split(\"/\")[-1]\n",
    "    return int(re.findall(r\"\\d+\", x)[-1])\n",
    "\n",
    "def sort_by_suffix(lst):\n",
    "    import re\n",
    "    sorted_list = sorted(lst, key=lambda path: filename_to_suffix_number(path))\n",
    "    return sorted_list"
   ]
  },
  {
   "cell_type": "code",
   "execution_count": 35,
   "id": "36ff877e-b421-4765-a460-94e1484e3641",
   "metadata": {
    "execution": {
     "iopub.execute_input": "2024-09-27T19:41:28.960343Z",
     "iopub.status.busy": "2024-09-27T19:41:28.959616Z",
     "iopub.status.idle": "2024-09-27T19:41:29.204510Z",
     "shell.execute_reply": "2024-09-27T19:41:29.203912Z",
     "shell.execute_reply.started": "2024-09-27T19:41:28.960309Z"
    }
   },
   "outputs": [],
   "source": [
    "sequences_dict = read_sequences_from_fasta(sample_dir /  \"generated/sequences.fasta\")\n",
    "\n",
    "gen_pdbs = glob.glob(str(sample_dir /  \"generated/structures/*pdb\"))\n",
    "gen_pdbs = sort_by_suffix(gen_pdbs)\n",
    "\n",
    "inverse_gen_pdbs = glob.glob(str(sample_dir / \"inverse_generated/structures/*pdb\"))\n",
    "inverse_gen_pdbs = sort_by_suffix(inverse_gen_pdbs)\n",
    " \n",
    "# phantom_gen_pdbs = glob.glob(str(sample_dir / \"phantom_generated/structures/*pdb\"))\n",
    "# phantom_gen_pdbs = sort_by_suffix(phantom_gen_pdbs)"
   ]
  },
  {
   "cell_type": "code",
   "execution_count": 17,
   "id": "cdaebec8-9094-45bc-a3a7-7a43b5eda0b3",
   "metadata": {
    "execution": {
     "iopub.execute_input": "2024-09-27T05:22:05.743843Z",
     "iopub.status.busy": "2024-09-27T05:22:05.743491Z",
     "iopub.status.idle": "2024-09-27T05:22:05.793960Z",
     "shell.execute_reply": "2024-09-27T05:22:05.793218Z",
     "shell.execute_reply.started": "2024-09-27T05:22:05.743819Z"
    }
   },
   "outputs": [
    {
     "name": "stdout",
     "output_type": "stream",
     "text": [
      "['/data/lux70/data/pfam/val_stats/generated/structures/pfam6397.pdb', '/data/lux70/data/pfam/val_stats/generated/structures/pfam6398.pdb', '/data/lux70/data/pfam/val_stats/generated/structures/pfam6399.pdb']\n",
      "['/data/lux70/data/pfam/val_stats/inverse_generated/structures/pfam6397.pdb', '/data/lux70/data/pfam/val_stats/inverse_generated/structures/pfam6398.pdb', '/data/lux70/data/pfam/val_stats/inverse_generated/structures/pfam6399.pdb']\n"
     ]
    }
   ],
   "source": [
    "print(gen_pdbs[-3:])\n",
    "print(inverse_gen_pdbs[-3:])\n",
    "# print(phantom_gen_pdbs[-3:])"
   ]
  },
  {
   "cell_type": "code",
   "execution_count": 18,
   "id": "3327b1a9-c0fd-48a3-a5cc-4ed5e675b95e",
   "metadata": {
    "execution": {
     "iopub.execute_input": "2024-09-27T05:22:07.849335Z",
     "iopub.status.busy": "2024-09-27T05:22:07.848953Z",
     "iopub.status.idle": "2024-09-27T05:22:07.906703Z",
     "shell.execute_reply": "2024-09-27T05:22:07.906102Z",
     "shell.execute_reply.started": "2024-09-27T05:22:07.849306Z"
    }
   },
   "outputs": [],
   "source": [
    "sequences = [sequences_dict[p] for p in gen_pdbs]\n",
    "df = pd.DataFrame({\"pdb_path\": gen_pdbs, \"sequence\": sequences})\n",
    "df['length'] = df.sequence.str.len().values\n",
    "df['inverse_gen_pdb'] = inverse_gen_pdbs"
   ]
  },
  {
   "cell_type": "code",
   "execution_count": 37,
   "id": "263d919a-5ab5-4530-bce2-f5bf1ce7d7a4",
   "metadata": {
    "execution": {
     "iopub.execute_input": "2024-09-27T19:41:47.126938Z",
     "iopub.status.busy": "2024-09-27T19:41:47.126541Z",
     "iopub.status.idle": "2024-09-27T19:41:47.593647Z",
     "shell.execute_reply": "2024-09-27T19:41:47.593041Z",
     "shell.execute_reply.started": "2024-09-27T19:41:47.126911Z"
    }
   },
   "outputs": [
    {
     "data": {
      "text/plain": [
       "<Axes: >"
      ]
     },
     "execution_count": 37,
     "metadata": {},
     "output_type": "execute_result"
    },
    {
     "data": {
      "image/png": "[encoded data removed]",
      "text/plain": [
       "<Figure size 640x480 with 1 Axes>"
      ]
     },
     "metadata": {},
     "output_type": "display_data"
    }
   ],
   "source": [
    "df['length'].hist(bins=200)"
   ]
  },
  {
   "cell_type": "markdown",
   "id": "3c273aab-6b7d-44f9-b073-1fb7958bd651",
   "metadata": {},
   "source": [
    "# Consistency, Perplexity, and pLDDT"
   ]
  },
  {
   "cell_type": "code",
   "execution_count": 25,
   "id": "ad85cf11-56a6-4970-8afd-211b09e509bf",
   "metadata": {
    "execution": {
     "iopub.execute_input": "2024-09-27T06:07:13.574344Z",
     "iopub.status.busy": "2024-09-27T06:07:13.574042Z",
     "iopub.status.idle": "2024-09-27T06:07:15.317523Z",
     "shell.execute_reply": "2024-09-27T06:07:15.316926Z",
     "shell.execute_reply.started": "2024-09-27T06:07:13.574320Z"
    }
   },
   "outputs": [],
   "source": [
    "def process_row(row):\n",
    "    row['cctm'] = run_tmalign(row['pdb_path'], row['inverse_gen_pdb'])\n",
    "    # row['ccrmspd'] = rmspd_from_pdb_paths(row['pdb_path'], row['inverse_gen_pdb']).item()\n",
    "    row['plddt'] = np.mean(extract_avg_b_factor_per_residue(row['pdb_path']))\n",
    "    return row"
   ]
  },
  {
   "cell_type": "code",
   "execution_count": 30,
   "id": "13628eb1-0e61-4b13-a629-0566250bd7ff",
   "metadata": {
    "execution": {
     "iopub.execute_input": "2024-09-27T06:13:52.168441Z",
     "iopub.status.busy": "2024-09-27T06:13:52.168037Z",
     "iopub.status.idle": "2024-09-27T06:13:52.219433Z",
     "shell.execute_reply": "2024-09-27T06:13:52.218581Z",
     "shell.execute_reply.started": "2024-09-27T06:13:52.168415Z"
    }
   },
   "outputs": [],
   "source": [
    "import pandas as pd\n",
    "import multiprocessing as mp\n",
    "\n",
    "# Function to apply in parallel\n",
    "def parallel_apply(df, func):\n",
    "    num_processes = min(mp.cpu_count(), df.shape[0])\n",
    "    with mp.Pool(num_processes) as pool:\n",
    "        results = pool.map(func, df)\n",
    "    return results"
   ]
  },
  {
   "cell_type": "code",
   "execution_count": null,
   "id": "e5e8e63a-ac15-43e6-bfa4-cb0c5ff8a1ea",
   "metadata": {
    "execution": {
     "iopub.status.busy": "2024-09-27T16:45:05.732508Z",
     "iopub.status.idle": "2024-09-27T16:45:05.732920Z",
     "shell.execute_reply": "2024-09-27T16:45:05.732805Z",
     "shell.execute_reply.started": "2024-09-27T16:45:05.732789Z"
    }
   },
   "outputs": [],
   "source": []
  },
  {
   "cell_type": "code",
   "execution_count": null,
   "id": "f9939b5f-1d96-45d1-8880-5331735fc549",
   "metadata": {},
   "outputs": [],
   "source": []
  }
 ],
 "metadata": {
  "kernelspec": {
   "display_name": "Python (omegafold)",
   "language": "python",
   "name": "omegafold"
  },
  "language_info": {
   "codemirror_mode": {
    "name": "ipython",
    "version": 3
   },
   "file_extension": ".py",
   "mimetype": "text/x-python",
   "name": "python",
   "nbconvert_exporter": "python",
   "pygments_lexer": "ipython3",
   "version": "3.9.12"
  }
 },
 "nbformat": 4,
 "nbformat_minor": 5
}
