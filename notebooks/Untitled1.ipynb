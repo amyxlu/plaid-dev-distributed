{
 "cells": [
  {
   "cell_type": "code",
   "execution_count": 1,
   "id": "07fa3e19-734b-4f70-8a1a-174912765323",
   "metadata": {
    "execution": {
     "iopub.execute_input": "2024-09-22T01:40:14.517610Z",
     "iopub.status.busy": "2024-09-22T01:40:14.516993Z",
     "iopub.status.idle": "2024-09-22T01:40:15.253432Z",
     "shell.execute_reply": "2024-09-22T01:40:15.252837Z",
     "shell.execute_reply.started": "2024-09-22T01:40:14.517581Z"
    }
   },
   "outputs": [],
   "source": [
    "import pandas as pd"
   ]
  },
  {
   "cell_type": "code",
   "execution_count": 32,
   "id": "e0afb50d-d954-4c5f-b1f2-a37db9a68bbc",
   "metadata": {
    "execution": {
     "iopub.execute_input": "2024-09-22T02:09:08.604436Z",
     "iopub.status.busy": "2024-09-22T02:09:08.604055Z",
     "iopub.status.idle": "2024-09-22T02:09:08.620110Z",
     "shell.execute_reply": "2024-09-22T02:09:08.619463Z",
     "shell.execute_reply.started": "2024-09-22T02:09:08.604408Z"
    }
   },
   "outputs": [
    {
     "data": {
      "text/html": [
       "<div>\n",
       "<style scoped>\n",
       "    .dataframe tbody tr th:only-of-type {\n",
       "        vertical-align: middle;\n",
       "    }\n",
       "\n",
       "    .dataframe tbody tr th {\n",
       "        vertical-align: top;\n",
       "    }\n",
       "\n",
       "    .dataframe thead th {\n",
       "        text-align: right;\n",
       "    }\n",
       "</style>\n",
       "<table border=\"1\" class=\"dataframe\">\n",
       "  <thead>\n",
       "    <tr style=\"text-align: right;\">\n",
       "      <th></th>\n",
       "      <th>organism_index</th>\n",
       "      <th>organism_id</th>\n",
       "      <th>counts</th>\n",
       "    </tr>\n",
       "  </thead>\n",
       "  <tbody>\n",
       "    <tr>\n",
       "      <th>0</th>\n",
       "      <td>0</td>\n",
       "      <td>SYNS9</td>\n",
       "      <td>2126</td>\n",
       "    </tr>\n",
       "    <tr>\n",
       "      <th>1</th>\n",
       "      <td>1</td>\n",
       "      <td>SCHAZ</td>\n",
       "      <td>4805</td>\n",
       "    </tr>\n",
       "    <tr>\n",
       "      <th>2</th>\n",
       "      <td>2</td>\n",
       "      <td>9ENTE</td>\n",
       "      <td>108317</td>\n",
       "    </tr>\n",
       "    <tr>\n",
       "      <th>3</th>\n",
       "      <td>3</td>\n",
       "      <td>APHAT</td>\n",
       "      <td>14121</td>\n",
       "    </tr>\n",
       "    <tr>\n",
       "      <th>4</th>\n",
       "      <td>4</td>\n",
       "      <td>9GAMM</td>\n",
       "      <td>2601336</td>\n",
       "    </tr>\n",
       "  </tbody>\n",
       "</table>\n",
       "</div>"
      ],
      "text/plain": [
       "   organism_index organism_id   counts\n",
       "0               0       SYNS9     2126\n",
       "1               1       SCHAZ     4805\n",
       "2               2       9ENTE   108317\n",
       "3               3       APHAT    14121\n",
       "4               4       9GAMM  2601336"
      ]
     },
     "execution_count": 32,
     "metadata": {},
     "output_type": "execute_result"
    }
   ],
   "source": [
    "df = pd.read_csv(\"/data/lux70/data/pfam/organism_counts.csv\")\n",
    "df.head()"
   ]
  },
  {
   "cell_type": "code",
   "execution_count": 33,
   "id": "471fa73c-6be3-46bd-8176-c4bd028efdcd",
   "metadata": {
    "execution": {
     "iopub.execute_input": "2024-09-22T02:09:11.835147Z",
     "iopub.status.busy": "2024-09-22T02:09:11.834779Z",
     "iopub.status.idle": "2024-09-22T02:09:11.960708Z",
     "shell.execute_reply": "2024-09-22T02:09:11.959883Z",
     "shell.execute_reply.started": "2024-09-22T02:09:11.835121Z"
    }
   },
   "outputs": [
    {
     "name": "stdout",
     "output_type": "stream",
     "text": [
      "AADNV V  648330: N=Aedes albopictus densovirus (isolate Boublik/1994)\n",
      "AAV2  V   10804: N=Adeno-associated virus 2\n",
      "AAV2S V  648242: N=Adeno-associated virus 2 (isolate Srivastava/1982)\n",
      "ABABO E 3053407: N=Abaeis boisduvaliana\n",
      "ABAMA E  118452: N=Abacion magnum\n",
      "ABAME E 3053408: N=Abaeis mexicana\n",
      "ABANI E   72259: N=Abaeis nicippe\n",
      "ABAPA E  102642: N=Abax parallelepipedus\n",
      "ABAST E  392897: N=Abalistes stellaris\n",
      "ABBRI E   75332: N=Abbottina rivularis\n"
     ]
    }
   ],
   "source": [
    "!head /data/lux70/data/uniref90/speclist_parse.txt "
   ]
  },
  {
   "cell_type": "code",
   "execution_count": 34,
   "id": "fd08efba-a897-49f9-ba99-4685af5495ec",
   "metadata": {
    "execution": {
     "iopub.execute_input": "2024-09-22T02:09:12.543225Z",
     "iopub.status.busy": "2024-09-22T02:09:12.542822Z",
     "iopub.status.idle": "2024-09-22T02:09:12.671509Z",
     "shell.execute_reply": "2024-09-22T02:09:12.670876Z",
     "shell.execute_reply.started": "2024-09-22T02:09:12.543198Z"
    }
   },
   "outputs": [],
   "source": [
    "df = pd.read_csv(\"/data/lux70/data/uniref90/speclist_parse.txt\", sep=\": N=\",header=None)\n",
    "df.columns = ['uniref_code','name']"
   ]
  },
  {
   "cell_type": "code",
   "execution_count": 35,
   "id": "6c3b627e-3de1-4a97-b90b-0885b5eaf43f",
   "metadata": {
    "execution": {
     "iopub.execute_input": "2024-09-22T02:09:14.294104Z",
     "iopub.status.busy": "2024-09-22T02:09:14.293738Z",
     "iopub.status.idle": "2024-09-22T02:09:14.311464Z",
     "shell.execute_reply": "2024-09-22T02:09:14.310796Z",
     "shell.execute_reply.started": "2024-09-22T02:09:14.294079Z"
    }
   },
   "outputs": [],
   "source": [
    "df['uniref_identifier'] = df.uniref_code.str[:5]\n",
    "df['uniref_code'] = df.uniref_code.str[7:].astype(int)"
   ]
  },
  {
   "cell_type": "code",
   "execution_count": 36,
   "id": "4b9d4173-2800-4041-9d39-eea952389c00",
   "metadata": {
    "execution": {
     "iopub.execute_input": "2024-09-22T02:09:14.381660Z",
     "iopub.status.busy": "2024-09-22T02:09:14.381348Z",
     "iopub.status.idle": "2024-09-22T02:09:14.388708Z",
     "shell.execute_reply": "2024-09-22T02:09:14.388195Z",
     "shell.execute_reply.started": "2024-09-22T02:09:14.381634Z"
    }
   },
   "outputs": [
    {
     "data": {
      "text/html": [
       "<div>\n",
       "<style scoped>\n",
       "    .dataframe tbody tr th:only-of-type {\n",
       "        vertical-align: middle;\n",
       "    }\n",
       "\n",
       "    .dataframe tbody tr th {\n",
       "        vertical-align: top;\n",
       "    }\n",
       "\n",
       "    .dataframe thead th {\n",
       "        text-align: right;\n",
       "    }\n",
       "</style>\n",
       "<table border=\"1\" class=\"dataframe\">\n",
       "  <thead>\n",
       "    <tr style=\"text-align: right;\">\n",
       "      <th></th>\n",
       "      <th>uniref_code</th>\n",
       "      <th>name</th>\n",
       "      <th>uniref_identifier</th>\n",
       "    </tr>\n",
       "  </thead>\n",
       "  <tbody>\n",
       "    <tr>\n",
       "      <th>0</th>\n",
       "      <td>648330</td>\n",
       "      <td>Aedes albopictus densovirus (isolate Boublik/1...</td>\n",
       "      <td>AADNV</td>\n",
       "    </tr>\n",
       "    <tr>\n",
       "      <th>1</th>\n",
       "      <td>10804</td>\n",
       "      <td>Adeno-associated virus 2</td>\n",
       "      <td>AAV2</td>\n",
       "    </tr>\n",
       "    <tr>\n",
       "      <th>2</th>\n",
       "      <td>648242</td>\n",
       "      <td>Adeno-associated virus 2 (isolate Srivastava/1...</td>\n",
       "      <td>AAV2S</td>\n",
       "    </tr>\n",
       "    <tr>\n",
       "      <th>3</th>\n",
       "      <td>3053407</td>\n",
       "      <td>Abaeis boisduvaliana</td>\n",
       "      <td>ABABO</td>\n",
       "    </tr>\n",
       "    <tr>\n",
       "      <th>4</th>\n",
       "      <td>118452</td>\n",
       "      <td>Abacion magnum</td>\n",
       "      <td>ABAMA</td>\n",
       "    </tr>\n",
       "  </tbody>\n",
       "</table>\n",
       "</div>"
      ],
      "text/plain": [
       "   uniref_code                                               name  \\\n",
       "0       648330  Aedes albopictus densovirus (isolate Boublik/1...   \n",
       "1        10804                           Adeno-associated virus 2   \n",
       "2       648242  Adeno-associated virus 2 (isolate Srivastava/1...   \n",
       "3      3053407                               Abaeis boisduvaliana   \n",
       "4       118452                                     Abacion magnum   \n",
       "\n",
       "  uniref_identifier  \n",
       "0             AADNV  \n",
       "1             AAV2   \n",
       "2             AAV2S  \n",
       "3             ABABO  \n",
       "4             ABAMA  "
      ]
     },
     "execution_count": 36,
     "metadata": {},
     "output_type": "execute_result"
    }
   ],
   "source": [
    "df.head()"
   ]
  },
  {
   "cell_type": "code",
   "execution_count": 7,
   "id": "3755c355-0c80-43f3-a3e2-75779fc07e1e",
   "metadata": {
    "execution": {
     "iopub.execute_input": "2024-09-22T01:40:30.152857Z",
     "iopub.status.busy": "2024-09-22T01:40:30.152482Z",
     "iopub.status.idle": "2024-09-22T01:40:30.942664Z",
     "shell.execute_reply": "2024-09-22T01:40:30.941981Z",
     "shell.execute_reply.started": "2024-09-22T01:40:30.152830Z"
    }
   },
   "outputs": [],
   "source": [
    "from ete3 import NCBITaxa\n",
    "ncbi = NCBITaxa()\n",
    "#ncbi.update_taxonomy_database()  # Download NCBI taxonomy"
   ]
  },
  {
   "cell_type": "code",
   "execution_count": 30,
   "id": "3872cc1e-34e6-4766-af28-3441ce333727",
   "metadata": {
    "execution": {
     "iopub.execute_input": "2024-09-22T02:08:22.803996Z",
     "iopub.status.busy": "2024-09-22T02:08:22.803618Z",
     "iopub.status.idle": "2024-09-22T02:08:22.833492Z",
     "shell.execute_reply": "2024-09-22T02:08:22.832889Z",
     "shell.execute_reply.started": "2024-09-22T02:08:22.803969Z"
    }
   },
   "outputs": [
    {
     "name": "stdout",
     "output_type": "stream",
     "text": [
      "10804 ======\n",
      "12 ['root', 'Viruses', 'Monodnaviria', 'Shotokuvirae', 'Cossaviricota', 'Quintoviricetes', 'Piccovirales', 'Parvoviridae', 'Parvovirinae', 'Dependoparvovirus', 'Dependoparvovirus primate1', 'adeno-associated virus 2']\n",
      "3053408 ======\n",
      "31 ['root', 'cellular organisms', 'Eukaryota', 'Opisthokonta', 'Metazoa', 'Eumetazoa', 'Bilateria', 'Protostomia', 'Ecdysozoa', 'Panarthropoda', 'Arthropoda', 'Mandibulata', 'Pancrustacea', 'Hexapoda', 'Insecta', 'Dicondylia', 'Pterygota', 'Neoptera', 'Endopterygota', 'Amphiesmenoptera', 'Lepidoptera', 'Glossata', 'Neolepidoptera', 'Heteroneura', 'Ditrysia', 'Obtectomera', 'Papilionoidea', 'Pieridae', 'Coliadinae', 'Abaeis', 'Abaeis mexicana']\n",
      "75332 ======\n",
      "30 ['root', 'cellular organisms', 'Eukaryota', 'Opisthokonta', 'Metazoa', 'Eumetazoa', 'Bilateria', 'Deuterostomia', 'Chordata', 'Craniata', 'Vertebrata', 'Gnathostomata', 'Teleostomi', 'Euteleostomi', 'Actinopterygii', 'Actinopteri', 'Neopterygii', 'Teleostei', 'Osteoglossocephalai', 'Clupeocephala', 'Otomorpha', 'Ostariophysi', 'Otophysi', 'Cypriniphysae', 'Cypriniformes', 'Cyprinoidei', 'Gobionidae', 'Gobioninae', 'Abbottina', 'Abbottina rivularis']\n",
      "183219 ======\n",
      "22 ['root', 'cellular organisms', 'Eukaryota', 'Viridiplantae', 'Streptophyta', 'Streptophytina', 'Embryophyta', 'Tracheophyta', 'Euphyllophyta', 'Spermatophyta', 'Magnoliopsida', 'Mesangiospermae', 'eudicotyledons', 'Gunneridae', 'Pentapetalae', 'rosids', 'malvids', 'Malvales', 'Malvaceae', 'Malvoideae', 'Abelmoschus', 'Abelmoschus ficulneus']\n",
      "45372 ======\n",
      "18 ['root', 'cellular organisms', 'Eukaryota', 'Viridiplantae', 'Streptophyta', 'Streptophytina', 'Embryophyta', 'Tracheophyta', 'Euphyllophyta', 'Spermatophyta', 'Acrogymnospermae', 'Pinopsida', 'Pinidae', 'Conifers I', 'Pinales', 'Pinaceae', 'Abies', 'Abies alba']\n",
      "97173 ======\n",
      "18 ['root', 'cellular organisms', 'Eukaryota', 'Viridiplantae', 'Streptophyta', 'Streptophytina', 'Embryophyta', 'Tracheophyta', 'Euphyllophyta', 'Spermatophyta', 'Acrogymnospermae', 'Pinopsida', 'Pinidae', 'Conifers I', 'Pinales', 'Pinaceae', 'Abies', 'Abies concolor']\n",
      "473868 ======\n",
      "31 ['root', 'cellular organisms', 'Eukaryota', 'Opisthokonta', 'Metazoa', 'Eumetazoa', 'Bilateria', 'Protostomia', 'Ecdysozoa', 'Panarthropoda', 'Arthropoda', 'Mandibulata', 'Pancrustacea', 'Hexapoda', 'Insecta', 'Dicondylia', 'Pterygota', 'Neoptera', 'Endopterygota', 'Amphiesmenoptera', 'Lepidoptera', 'Glossata', 'Neolepidoptera', 'Heteroneura', 'Ditrysia', 'Obtectomera', 'Papilionoidea', 'Riodinidae', 'Nemeobiinae', 'Abisara', 'Abisara fylloides']\n",
      "97170 ======\n",
      "18 ['root', 'cellular organisms', 'Eukaryota', 'Viridiplantae', 'Streptophyta', 'Streptophytina', 'Embryophyta', 'Tracheophyta', 'Euphyllophyta', 'Spermatophyta', 'Acrogymnospermae', 'Pinopsida', 'Pinidae', 'Conifers I', 'Pinales', 'Pinaceae', 'Abies', 'Abies koreana']\n",
      "97176 ======\n",
      "18 ['root', 'cellular organisms', 'Eukaryota', 'Viridiplantae', 'Streptophyta', 'Streptophytina', 'Embryophyta', 'Tracheophyta', 'Euphyllophyta', 'Spermatophyta', 'Acrogymnospermae', 'Pinopsida', 'Pinidae', 'Conifers I', 'Pinales', 'Pinaceae', 'Abies', 'Abies nebrodensis']\n",
      "283347 ======\n",
      "29 ['root', 'cellular organisms', 'Eukaryota', 'Opisthokonta', 'Metazoa', 'Eumetazoa', 'Bilateria', 'Deuterostomia', 'Chordata', 'Craniata', 'Vertebrata', 'Gnathostomata', 'Teleostomi', 'Euteleostomi', 'Sarcopterygii', 'Dipnotetrapodomorpha', 'Tetrapoda', 'Amniota', 'Sauropsida', 'Sauria', 'Lepidosauria', 'Squamata', 'Bifurcata', 'Unidentata', 'Scinciformata', 'Scincidae', 'Eugongylinae', 'Ablepharus', 'Ablepharus budaki']\n"
     ]
    }
   ],
   "source": [
    "for taxon_id in df['uniref_code'][1:40:4]:\n",
    "    print(f\"{taxon_id} ======\")\n",
    "    lineage = ncbi.get_lineage(taxon_id)\n",
    "    names = ncbi.get_taxid_translator(lineage)\n",
    "    \n",
    "    # Print higher-order taxonomy names\n",
    "    print(len(lineage), [names[taxid] for taxid in lineage])"
   ]
  },
  {
   "cell_type": "code",
   "execution_count": 45,
   "id": "ec166dfd-1cdc-4fbf-873c-70e0af3c9871",
   "metadata": {
    "execution": {
     "iopub.execute_input": "2024-09-22T02:46:26.969502Z",
     "iopub.status.busy": "2024-09-22T02:46:26.969115Z",
     "iopub.status.idle": "2024-09-22T02:46:26.973493Z",
     "shell.execute_reply": "2024-09-22T02:46:26.972943Z",
     "shell.execute_reply.started": "2024-09-22T02:46:26.969473Z"
    }
   },
   "outputs": [],
   "source": [
    "def parse_level(taxon_id, level):\n",
    "    try:\n",
    "        lineage = ncbi.get_lineage(taxon_id)\n",
    "        names = ncbi.get_taxid_translator(lineage)\n",
    "         \n",
    "        ranks = ncbi.get_rank(lineage)\n",
    "        \n",
    "        # Find the kingdom in the lineage\n",
    "        levels = [names[taxid] for taxid in lineage if ranks[taxid] == level]\n",
    "        return levels[0]\n",
    "        \n",
    "    except:\n",
    "        return \"\""
   ]
  },
  {
   "cell_type": "code",
   "execution_count": 41,
   "id": "d2e08ac9-610a-4293-9373-c6fe7474044f",
   "metadata": {
    "execution": {
     "iopub.execute_input": "2024-09-22T02:10:53.548221Z",
     "iopub.status.busy": "2024-09-22T02:10:53.547863Z",
     "iopub.status.idle": "2024-09-22T02:12:29.933142Z",
     "shell.execute_reply": "2024-09-22T02:12:29.932517Z",
     "shell.execute_reply.started": "2024-09-22T02:10:53.548197Z"
    }
   },
   "outputs": [],
   "source": [
    "import warnings\n",
    "warnings.filterwarnings(\"ignore\")\n",
    "df['kingdom'] = df.uniref_code.map(lambda x: parse_kingdom(x, \"kingdom\"))"
   ]
  },
  {
   "cell_type": "code",
   "execution_count": 44,
   "id": "a33c6e01-d41d-47c8-942a-23946a86caf6",
   "metadata": {
    "execution": {
     "iopub.execute_input": "2024-09-22T02:45:22.868763Z",
     "iopub.status.busy": "2024-09-22T02:45:22.868389Z",
     "iopub.status.idle": "2024-09-22T02:45:22.887951Z",
     "shell.execute_reply": "2024-09-22T02:45:22.887356Z",
     "shell.execute_reply.started": "2024-09-22T02:45:22.868738Z"
    }
   },
   "outputs": [
    {
     "data": {
      "text/plain": [
       "(array(['', 'Bamfordvirae', 'Fungi', 'Heunggongvirae', 'Loebvirae',\n",
       "        'Metazoa', 'Orthornavirae', 'Pararnavirae', 'Sangervirae',\n",
       "        'Shotokuvirae', 'Trapavirae', 'Viridiplantae', 'Zilligvirae'],\n",
       "       dtype=object),\n",
       " array([ 5540,   176,  1102,   380,    14, 13270,  1744,   363,    10,\n",
       "          234,     2,  4802,    14]))"
      ]
     },
     "execution_count": 44,
     "metadata": {},
     "output_type": "execute_result"
    }
   ],
   "source": [
    "import numpy as np\n",
    "\n",
    "np.unique(df.kingdom.values, return_counts=True)"
   ]
  },
  {
   "cell_type": "code",
   "execution_count": null,
   "id": "80670af0-b95c-46b8-800e-41cdc9d95577",
   "metadata": {
    "execution": {
     "iopub.execute_input": "2024-09-22T02:47:23.175797Z",
     "iopub.status.busy": "2024-09-22T02:47:23.175087Z"
    }
   },
   "outputs": [],
   "source": [
    "import warnings\n",
    "warnings.filterwarnings(\"ignore\")\n",
    "df['superkingdom'] = df.uniref_code.map(lambda x: parse_level(x, \"superkingdom\"))"
   ]
  },
  {
   "cell_type": "code",
   "execution_count": null,
   "id": "9cc551e0-4848-4a59-b041-31fbd0d7d389",
   "metadata": {},
   "outputs": [],
   "source": []
  }
 ],
 "metadata": {
  "kernelspec": {
   "display_name": "Python (omegafold)",
   "language": "python",
   "name": "omegafold"
  },
  "language_info": {
   "codemirror_mode": {
    "name": "ipython",
    "version": 3
   },
   "file_extension": ".py",
   "mimetype": "text/x-python",
   "name": "python",
   "nbconvert_exporter": "python",
   "pygments_lexer": "ipython3",
   "version": "3.9.12"
  }
 },
 "nbformat": 4,
 "nbformat_minor": 5
}
