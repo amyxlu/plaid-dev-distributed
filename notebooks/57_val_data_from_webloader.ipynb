{
 "cells": [
  {
   "cell_type": "code",
   "execution_count": 1,
   "id": "d28345e7-0f21-42c9-9b80-e0bb1f591fa8",
   "metadata": {},
   "outputs": [],
   "source": [
    "%load_ext autoreload\n",
    "%autoreload 2"
   ]
  },
  {
   "cell_type": "code",
   "execution_count": 4,
   "id": "e28a5521-bf61-443c-ada0-4687c987cc1a",
   "metadata": {},
   "outputs": [
    {
     "name": "stderr",
     "output_type": "stream",
     "text": [
      "/homefs/home/lux70/micromamba/envs/flash_attn/lib/python3.11/site-packages/webdataset/compat.py:136: UserWarning: WebDataset(shardshuffle=...) is None; set explicitly to False or a number\n",
      "  warnings.warn(\"WebDataset(shardshuffle=...) is None; set explicitly to False or a number\")\n"
     ]
    }
   ],
   "source": [
    "from plaid.datasets import FunctionOrganismDataModule\n",
    "import torch\n",
    "import webdataset as wds\n",
    "\n",
    "ds = wds.WebDataset(\"/data/lux70/data/pfam/compressed/j1v1wv6w/val/shard{0000..0863}.tar\")\n",
    "# ds = wds.WebDataset(\"/data/lux70/data/pfam/compressed/j1v1wv6w/val/shard{0000..0002}.tar\")"
   ]
  },
  {
   "cell_type": "code",
   "execution_count": null,
   "id": "5e0050d8-cfef-41f1-be8d-525810f96719",
   "metadata": {},
   "outputs": [
    {
     "data": {
      "application/vnd.jupyter.widget-view+json": {
       "model_id": "da4b8e6d94354531841fbe89f46c0e66",
       "version_major": 2,
       "version_minor": 0
      },
      "text/plain": [
       "0it [00:00, ?it/s]"
      ]
     },
     "metadata": {},
     "output_type": "display_data"
    }
   ],
   "source": [
    "from plaid.datasets import make_sample, MetadataParser\n",
    "from tqdm.notebook import tqdm\n",
    "\n",
    "metadata_parser = MetadataParser()\n",
    "max_length = 256\n",
    "\n",
    "all_go_idxs = []\n",
    "all_organism_idxs = []\n",
    "all_local_paths = []\n",
    "all_sample_ids = []\n",
    "# all_embeddings = []\n",
    "all_lengths = []\n",
    "\n",
    "for datum in tqdm(ds):\n",
    "    values = make_sample(datum, metadata_parser=metadata_parser, max_length=max_length)\n",
    "    \n",
    "    embedding, mask, go_idx, organism_idx, pfam_id, sample_id, local_path = values\n",
    "    seq_lengths = mask.sum(axis=-1)\n",
    "    \n",
    "    # all_embeddings.append(embedding)\n",
    "    all_lengths.append(seq_lengths)\n",
    "    all_go_idxs.append(go_idx)\n",
    "    all_organism_idxs.append(organism_idx)\n",
    "    all_local_paths.append(local_path)\n",
    "    all_sample_ids.append(sample_id)\n",
    "\n",
    "# all_embeddings = np.stack(all_embeddings)"
   ]
  },
  {
   "cell_type": "code",
   "execution_count": null,
   "id": "3fe3511c-5bc8-4dff-bdcc-0f4814a10942",
   "metadata": {},
   "outputs": [],
   "source": [
    "# np.savez_compressed(f\"/data/lux70/data/pfam/compressed/j1v1wv6w/val_stacked.npz\", emb=all_embeddings)"
   ]
  },
  {
   "cell_type": "code",
   "execution_count": null,
   "id": "5c61efa1-b5ca-4405-9849-8089582c2ad3",
   "metadata": {},
   "outputs": [],
   "source": [
    "print(len(all_organism_idxs))\n",
    "print(len(all_local_paths))\n",
    "print(len(all_sample_ids))\n",
    "print(len(all_go_idxs))\n",
    "\n",
    "# print(all_embeddings.shape)"
   ]
  },
  {
   "cell_type": "code",
   "execution_count": 18,
   "id": "db24bcea-8f48-4282-a847-02203c8c9e04",
   "metadata": {},
   "outputs": [],
   "source": [
    "import pandas as pd\n",
    "\n",
    "go_metadata_fpath = \"/data/lux70/data/pfam/pfam2go.csv\"\n",
    "organism_metadata_fpath = \"/data/lux70/data/pfam/organism_counts.csv\"\n",
    "\n",
    "go_df = pd.read_csv(go_metadata_fpath)\n",
    "org_df = pd.read_csv(organism_metadata_fpath)"
   ]
  },
  {
   "cell_type": "code",
   "execution_count": 19,
   "id": "c56e46ce-3aa7-4ec7-bb3d-d50149884ff0",
   "metadata": {},
   "outputs": [],
   "source": [
    "import pandas as pd\n",
    "\n",
    "df = pd.DataFrame(\n",
    "    {\n",
    "        \"GO_idx\": all_go_idxs,\n",
    "        \"organism_index\": all_organism_idxs,\n",
    "        \"local_paths\": all_local_paths,\n",
    "        \"sample_ids\": all_sample_ids\n",
    "    }\n",
    ")"
   ]
  },
  {
   "cell_type": "code",
   "execution_count": 20,
   "id": "630440cb-6383-401d-a7ad-ba4177ab2a2a",
   "metadata": {},
   "outputs": [],
   "source": [
    "df = df.merge(org_df, on=\"organism_index\")"
   ]
  },
  {
   "cell_type": "code",
   "execution_count": 21,
   "id": "6963d343-fec8-4de9-815d-f2ec8255ef1f",
   "metadata": {},
   "outputs": [],
   "source": [
    "df = df.merge(go_df, on=\"GO_idx\")"
   ]
  },
  {
   "cell_type": "code",
   "execution_count": 22,
   "id": "fb97c139-8847-4e02-afab-8d27dd88faa2",
   "metadata": {},
   "outputs": [],
   "source": [
    "df = df.rename({\"count\": \"GO_counts\", \"counts\": \"organism_counts\"}, axis=1)"
   ]
  },
  {
   "cell_type": "code",
   "execution_count": 23,
   "id": "43028b6a-b984-4764-9c3b-c50252beff03",
   "metadata": {},
   "outputs": [
    {
     "data": {
      "text/html": [
       "<div>\n",
       "<style scoped>\n",
       "    .dataframe tbody tr th:only-of-type {\n",
       "        vertical-align: middle;\n",
       "    }\n",
       "\n",
       "    .dataframe tbody tr th {\n",
       "        vertical-align: top;\n",
       "    }\n",
       "\n",
       "    .dataframe thead th {\n",
       "        text-align: right;\n",
       "    }\n",
       "</style>\n",
       "<table border=\"1\" class=\"dataframe\">\n",
       "  <thead>\n",
       "    <tr style=\"text-align: right;\">\n",
       "      <th></th>\n",
       "      <th>GO_idx</th>\n",
       "      <th>organism_index</th>\n",
       "      <th>local_paths</th>\n",
       "      <th>sample_ids</th>\n",
       "      <th>organism_id</th>\n",
       "      <th>organism_counts</th>\n",
       "      <th>pfam_id</th>\n",
       "      <th>GO_id</th>\n",
       "      <th>GO_term</th>\n",
       "      <th>GO_level</th>\n",
       "      <th>GO_counts</th>\n",
       "    </tr>\n",
       "  </thead>\n",
       "  <tbody>\n",
       "    <tr>\n",
       "      <th>0</th>\n",
       "      <td>2130</td>\n",
       "      <td>472</td>\n",
       "      <td>/data/lux70/data/pfam/compressed/j1v1wv6w/val/...</td>\n",
       "      <td>sample001462</td>\n",
       "      <td>9ENTR</td>\n",
       "      <td>85933</td>\n",
       "      <td>PF15894</td>\n",
       "      <td>GO:0046325</td>\n",
       "      <td>negative regulation of glucose import</td>\n",
       "      <td>process</td>\n",
       "      <td>1</td>\n",
       "    </tr>\n",
       "    <tr>\n",
       "      <th>1</th>\n",
       "      <td>2130</td>\n",
       "      <td>215</td>\n",
       "      <td>/data/lux70/data/pfam/compressed/j1v1wv6w/val/...</td>\n",
       "      <td>sample001463</td>\n",
       "      <td>SERS3</td>\n",
       "      <td>4700</td>\n",
       "      <td>PF15894</td>\n",
       "      <td>GO:0046325</td>\n",
       "      <td>negative regulation of glucose import</td>\n",
       "      <td>process</td>\n",
       "      <td>1</td>\n",
       "    </tr>\n",
       "    <tr>\n",
       "      <th>2</th>\n",
       "      <td>2130</td>\n",
       "      <td>472</td>\n",
       "      <td>/data/lux70/data/pfam/compressed/j1v1wv6w/val/...</td>\n",
       "      <td>sample001464</td>\n",
       "      <td>9ENTR</td>\n",
       "      <td>85933</td>\n",
       "      <td>PF15894</td>\n",
       "      <td>GO:0046325</td>\n",
       "      <td>negative regulation of glucose import</td>\n",
       "      <td>process</td>\n",
       "      <td>1</td>\n",
       "    </tr>\n",
       "    <tr>\n",
       "      <th>3</th>\n",
       "      <td>2130</td>\n",
       "      <td>472</td>\n",
       "      <td>/data/lux70/data/pfam/compressed/j1v1wv6w/val/...</td>\n",
       "      <td>sample001465</td>\n",
       "      <td>9ENTR</td>\n",
       "      <td>85933</td>\n",
       "      <td>PF15894</td>\n",
       "      <td>GO:0046325</td>\n",
       "      <td>negative regulation of glucose import</td>\n",
       "      <td>process</td>\n",
       "      <td>1</td>\n",
       "    </tr>\n",
       "    <tr>\n",
       "      <th>4</th>\n",
       "      <td>2130</td>\n",
       "      <td>4</td>\n",
       "      <td>/data/lux70/data/pfam/compressed/j1v1wv6w/val/...</td>\n",
       "      <td>sample001466</td>\n",
       "      <td>9GAMM</td>\n",
       "      <td>2601336</td>\n",
       "      <td>PF15894</td>\n",
       "      <td>GO:0046325</td>\n",
       "      <td>negative regulation of glucose import</td>\n",
       "      <td>process</td>\n",
       "      <td>1</td>\n",
       "    </tr>\n",
       "  </tbody>\n",
       "</table>\n",
       "</div>"
      ],
      "text/plain": [
       "   GO_idx  organism_index                                        local_paths  \\\n",
       "0    2130             472  /data/lux70/data/pfam/compressed/j1v1wv6w/val/...   \n",
       "1    2130             215  /data/lux70/data/pfam/compressed/j1v1wv6w/val/...   \n",
       "2    2130             472  /data/lux70/data/pfam/compressed/j1v1wv6w/val/...   \n",
       "3    2130             472  /data/lux70/data/pfam/compressed/j1v1wv6w/val/...   \n",
       "4    2130               4  /data/lux70/data/pfam/compressed/j1v1wv6w/val/...   \n",
       "\n",
       "     sample_ids organism_id  organism_counts  pfam_id       GO_id  \\\n",
       "0  sample001462       9ENTR            85933  PF15894  GO:0046325   \n",
       "1  sample001463       SERS3             4700  PF15894  GO:0046325   \n",
       "2  sample001464       9ENTR            85933  PF15894  GO:0046325   \n",
       "3  sample001465       9ENTR            85933  PF15894  GO:0046325   \n",
       "4  sample001466       9GAMM          2601336  PF15894  GO:0046325   \n",
       "\n",
       "                                 GO_term GO_level  GO_counts  \n",
       "0  negative regulation of glucose import  process          1  \n",
       "1  negative regulation of glucose import  process          1  \n",
       "2  negative regulation of glucose import  process          1  \n",
       "3  negative regulation of glucose import  process          1  \n",
       "4  negative regulation of glucose import  process          1  "
      ]
     },
     "execution_count": 23,
     "metadata": {},
     "output_type": "execute_result"
    }
   ],
   "source": [
    "df.head()"
   ]
  },
  {
   "cell_type": "code",
   "execution_count": null,
   "id": "9b1ed3ab-fef8-49e7-8154-e5a7f5f7666f",
   "metadata": {},
   "outputs": [],
   "source": []
  }
 ],
 "metadata": {
  "kernelspec": {
   "display_name": "Python (flash_attn)",
   "language": "python",
   "name": "flash_attn"
  },
  "language_info": {
   "codemirror_mode": {
    "name": "ipython",
    "version": 3
   },
   "file_extension": ".py",
   "mimetype": "text/x-python",
   "name": "python",
   "nbconvert_exporter": "python",
   "pygments_lexer": "ipython3",
   "version": "3.11.9"
  }
 },
 "nbformat": 4,
 "nbformat_minor": 5
}
