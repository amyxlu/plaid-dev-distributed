{
 "cells": [
  {
   "cell_type": "code",
   "execution_count": 6,
   "metadata": {},
   "outputs": [
    {
     "name": "stdout",
     "output_type": "stream",
     "text": [
      "The autoreload extension is already loaded. To reload it, use:\n",
      "  %reload_ext autoreload\n"
     ]
    }
   ],
   "source": [
    "%load_ext autoreload\n",
    "%autoreload 2"
   ]
  },
  {
   "cell_type": "code",
   "execution_count": 5,
   "metadata": {},
   "outputs": [],
   "source": [
    "from k_diffusion.callback import SampleCallback, load_model\n",
    "from k_diffusion.config import SampleCallbackConfig\n",
    "from pathlib import Path\n",
    "\n",
    "model_id = \"htkunb2s\"\n",
    "model_step = -1\n",
    "\n",
    "model_path = Path(\"/shared/amyxlu/kdplaid/checkpoints\") / model_id \n",
    "model, inner_model, model_config = load_model(model_path, model_step)\n",
    "\n",
    "#         ckpt = torch.load(ckpt_path, map_location=\"cpu\")\n",
    "\n",
    "#         # load the previous config for consistency.\n",
    "#         # if a JSON config is saved, use it -- allows us to hack configs but use past checkpoints\n",
    "#         if (checkpoints_dir / \"config.json\").exists():\n",
    "#             argsdict = json.load(open(checkpoints_dir / \"config.json\"))\n",
    "#             args = K.config.dataclass_from_dict(K.config.TrainArgs, argsdict) \n",
    "\n",
    "# cfg = SampleCallbackConfig()\n",
    "# sampler = SampleCallback(cfg)\n"
   ]
  },
  {
   "cell_type": "code",
   "execution_count": null,
   "metadata": {},
   "outputs": [],
   "source": []
  }
 ],
 "metadata": {
  "kernelspec": {
   "display_name": "kdif",
   "language": "python",
   "name": "python3"
  },
  "language_info": {
   "codemirror_mode": {
    "name": "ipython",
    "version": 3
   },
   "file_extension": ".py",
   "mimetype": "text/x-python",
   "name": "python",
   "nbconvert_exporter": "python",
   "pygments_lexer": "ipython3",
   "version": "3.11.6"
  }
 },
 "nbformat": 4,
 "nbformat_minor": 2
}
