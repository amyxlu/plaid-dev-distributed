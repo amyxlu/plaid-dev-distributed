{
 "cells": [
  {
   "cell_type": "code",
   "execution_count": 2,
   "metadata": {},
   "outputs": [],
   "source": [
    "%load_ext autoreload\n",
    "%autoreload 2"
   ]
  },
  {
   "cell_type": "code",
   "execution_count": 3,
   "metadata": {},
   "outputs": [
    {
     "name": "stdout",
     "output_type": "stream",
     "text": [
      "SampleCallbackConfig(solver_type=<SampleSolverType.LMS: 'lms'>, seq_len=128, use_ema=True, batch_size=32, n_to_sample=128, n_to_construct=-1, num_recycles=4, sigma_max=0.01, sigma_min=1000.0, rho=7.0, n_steps=15, model_id='xtb06syu', model_step=115000, model_dir=PosixPath('/shared/amyxlu/kdplaid'), device_id=0, save_to_disk=False, log_to_wandb=False, calc_perplexity=True, base_artifact_dir='/shared/amyxlu/kdplaid', sequence_decode_temperature=1.0, calc_fid=True, clip_range=(-1, 1))\n"
     ]
    }
   ],
   "source": [
    "import k_diffusion as K\n",
    "from k_diffusion.callback import SampleCallback\n",
    "from k_diffusion.model_loading_utils import load_model, infer_ckpt_path\n",
    "from k_diffusion.config import SampleCallbackConfig\n",
    "from pathlib import Path\n",
    "import torch\n",
    "\n",
    "# model_id = \"htkunb2s\"\n",
    "config = SampleCallbackConfig(\n",
    "    model_id = \"xtb06syu\",\n",
    "    model_step = 115000 ,\n",
    "    model_dir = Path(\"/shared/amyxlu/kdplaid/\"),\n",
    "    save_to_disk = False,\n",
    "    log_to_wandb = False,\n",
    ")\n",
    "device = torch.device(\"cuda:2\")\n",
    "print(config)"
   ]
  },
  {
   "cell_type": "code",
   "execution_count": 4,
   "metadata": {},
   "outputs": [
    {
     "name": "stdout",
     "output_type": "stream",
     "text": [
      "Loading checkpoint from /shared/amyxlu/kdplaid/checkpoints/xtb06syu/00115000.pth\n"
     ]
    }
   ],
   "source": [
    "ckpt_path = infer_ckpt_path(config.model_dir, config.model_id, config.model_step)\n",
    "config.model_step = int(Path(ckpt_path).name.split(\".\")[0])\n",
    "model, inner_model, model_config = load_model(ckpt_path)"
   ]
  },
  {
   "cell_type": "code",
   "execution_count": 20,
   "metadata": {},
   "outputs": [],
   "source": [
    "sampler = SampleCallback(\n",
    "    model, config, model_config, is_wandb_setup=False, device=device\n",
    ")"
   ]
  },
  {
   "cell_type": "markdown",
   "metadata": {},
   "source": [
    "# Sample Latents"
   ]
  },
  {
   "cell_type": "code",
   "execution_count": 38,
   "metadata": {},
   "outputs": [
    {
     "name": "stdout",
     "output_type": "stream",
     "text": [
      "Sampling latent...\n"
     ]
    },
    {
     "data": {
      "application/vnd.jupyter.widget-view+json": {
       "model_id": "d6475e5b9b624523a16ecd93551edcb8",
       "version_major": 2,
       "version_minor": 0
      },
      "text/plain": [
       "  0%|          | 0/15 [00:00<?, ?it/s]"
      ]
     },
     "metadata": {},
     "output_type": "display_data"
    },
    {
     "name": "stdout",
     "output_type": "stream",
     "text": [
      "Sampled latent mean: tensor(-2.0136e+08) std: tensor(8.7010e+09)\n",
      "Raw sampled latent mean: tensor(-1129329.1250) std: tensor(69186632.)\n"
     ]
    }
   ],
   "source": [
    "print(\"Sampling latent...\")\n",
    "unclipped_sampled_latent, unclipped_sampled_raw = sampler.sample_latent(\n",
    "    clip_range=config.clip_range, save=False, log_wandb_stats=config.log_to_wandb, return_raw=True\n",
    ")\n",
    "unclipped_sampled_raw_expanded = inner_model.project_to_input_dim(unclipped_sampled_raw.to(device))\n"
   ]
  },
  {
   "cell_type": "code",
   "execution_count": 24,
   "metadata": {},
   "outputs": [
    {
     "name": "stdout",
     "output_type": "stream",
     "text": [
      "Sampling latent...\n"
     ]
    },
    {
     "data": {
      "application/vnd.jupyter.widget-view+json": {
       "model_id": "a5fc1e6da22e464893d7b70cb443fbc4",
       "version_major": 2,
       "version_minor": 0
      },
      "text/plain": [
       "  0%|          | 0/15 [00:00<?, ?it/s]"
      ]
     },
     "metadata": {},
     "output_type": "display_data"
    },
    {
     "name": "stdout",
     "output_type": "stream",
     "text": [
      "Sampled latent mean: tensor(0.4277) std: tensor(89.3935)\n",
      "Raw sampled latent mean: tensor(-0.0129) std: tensor(0.8801)\n"
     ]
    }
   ],
   "source": [
    "print(\"Sampling latent...\")\n",
    "sampled_latent, sampled_raw = sampler.sample_latent(\n",
    "    clip_range=(-1, 1), save=False, log_wandb_stats=config.log_to_wandb, return_raw=True\n",
    ")\n",
    "sampled_raw_expanded = inner_model.project_to_input_dim(sampled_raw.to(device))\n"
   ]
  },
  {
   "cell_type": "markdown",
   "metadata": {},
   "source": [
    "# Examine Clipped-During-Sampling"
   ]
  },
  {
   "cell_type": "code",
   "execution_count": 32,
   "metadata": {},
   "outputs": [
    {
     "name": "stdout",
     "output_type": "stream",
     "text": [
      "Constructing sequences...\n",
      "percentage similarty to argmax idx: 0.898\n",
      "Perplexity: 8.361\n",
      "PIPPTPITPPPTPTPIPMTTPTITTIIIIITTIITTIIPTITPTIIIIIIIIIYIIPIIPIPIIIIIITTTIEIIIPIIPITPPPIITPPPPPTPPTTPTPTPPTPPIIITIPTPPITITIIPIPITP\n",
      "TTTTTTTTTTTTTTTTTTMGTTTTTTTTTTTTTTTTTTTTTTGTTTTTTTTTTTVRTRFTTTTTTTTTTTTTTTTTTTTTTTTTTTRTTTFFTTVTTTTTTTTTTTTTTTTTTTTTTTTTTTTTTTTT\n",
      "DFFVTTLVFKPFFVTFVTVTFTTTTTTTTTTTTMTTTTTTTTTTTTTTTTTTTTMTTTTTTTTTTTTTTTTTTTTVVTTTTTRTGRRPTTVQRFTVTTVTFGRFPFRTVTTTVVGTTGCTTGVRGGTG\n",
      "IIQTTEVQQQITQQQFIQDILQIIFQIIQIIIISTCISIIIEVIQVQIIIIITTTTITIIIIITITITTIYTIITTITTTTTTIIIIITTQITQITQIQITQIIQDYYVDKTQIQIQATTQTITFTTQ\n",
      "SQKRSGSSGKTSHIKSSHSASSSAATIHMAAHRTKARATSAASSASRKASARGASSTQAKCTTKAKTKAKKVAKWTKDIGIIADSMMIIASAASAAAKCASAAAAAATEASSAATASTSSELASSKSP\n",
      "PPKPTLPTSKKPPPWLIPPPPTPYYPPSPPPKPPVLLPPKPKQPPPYKNTPPPLKPPPPKKPTTIAAPPACSAKTTAGAIATAITAAAATAAIAAPIIASIAPTIAIYMPKITPIPPKPGPPIIPPTA\n",
      "QQGIQIHQIYVTYQGIGQQIVIQIKYMAIIQKYAGTESIGGYVLTYYESVVVAVYIVAVLYLIYIQVVIYVIIISVYYYWYYYYYLYYLYLYLVLLILILYQIVIVYIITQCAIIYLAYQIIIETIMY\n",
      "TTTLTTSSTTETTSTTSSTTTTTESTSTTSTSTTTTTTTTTTTTTTTTTTTTLTTTTTSLTTETETTTTTTTTTTLTTTTTTTTTTTTTTTTTTTTTTTTTTTTTTTMTTTTTTETTTTTETTTTTIT\n",
      "AIAGAAFDGAGGGAGGAAIFDAADATDADTTGGGTTGDTTAGTTTTTTTTTTTDTGTVGTTTTTTVTTVVSVAVFTVGAVDDVAVVTWVTGVTTTDTTVTTTTTTTTTTTTTTTTTTDTTTTTTTGTT\n",
      "TDGGTDTTGTTTDTTTNTTDGTTGTTTTGGTGTTGGVTTTVTGTGTTTGTTTTVTTTGTTTVVTVTVARDTTGTETTTVTRTTTTDVTTTTTTTTTTTVERFTTTTTTTTTTTTTTTTTTTTTTDTDT\n"
     ]
    }
   ],
   "source": [
    "print(\"Constructing sequences...\")\n",
    "_, _, strs = sampler.construct_sequence(\n",
    "    sampled_latent,\n",
    "    calc_perplexity=config.calc_perplexity,\n",
    "    save_to_disk=config.save_to_disk,\n",
    "    log_to_wandb=config.log_to_wandb,\n",
    ")\n",
    "for s in strs[:10]: print(s)\n"
   ]
  },
  {
   "cell_type": "code",
   "execution_count": 33,
   "metadata": {},
   "outputs": [
    {
     "name": "stdout",
     "output_type": "stream",
     "text": [
      "Constructing sequences from unnormalized latent...\n",
      "percentage similarty to argmax idx: 0.063\n",
      "Perplexity: 22.722\n",
      "QCKMVMFMNFHPTNMHFHEIIICPMNNSDHSCGCNISNDLYDHTHSIFERYLEVEIGEIGCIWNIKVTVLKLYEKQFHHQEKQGLHFWGWGLHHTHNHSDIELPKFGSDKLQCVAGVPWIYNIVWSCG\n",
      "HQFIWFIYQVYSFCGCFFKDSMEIMGVMVMDVGFGYFMCGMCRQWMMMKQDCGNTRDIKCAAEMIELSDINPHPWLRCNKYVWNVTGGGKGDTRSGRYAALNAFRCKPVGLPGYHMDVTVRHSHIEMM\n",
      "AITMDGRGNNGYAHNKQNALHHGWCCDGERNQYMHKWHKKGQTGSMQFALQHANQQYNFDYTPCMRKDKEKTCDVFDKRFHICTHLLLFSSTVDKVSASAQYDLATPNYEGKGMYGELNRLHASFDPF\n",
      "FPQTLDVCGCGQYPNSTNSDDHFSNFDEFWIPLFHAKMFPHCLVHWSERHKQMRCPPIWGLLTQLMHEMSFVSVICTSQEMAFWKFLIKNYEAKFNPDAFRKRFGMVTSNHYTIPDLAAIVVLMYLNT\n",
      "MCDVFFTHVWANGITNRKMKWLPLFYVFGHFWSYCNPMMKFLPATIVLNRFWSFHRTLTTYHTYRKWVAPDHMPTYEISDQLLGPNDRNLRSPGPMMKCVYYFCNGAIVVHLWHPMIVENASPTSWPK\n",
      "GHPVESWSTCQKTSVIHDGMMTPKRRVPAACLRPFCHSFRNYLTWSKRVPHICINAKKARMLFFYKPGKCHHINIMSLGIMIVDRGNRWDYRGRETPSRWFFGAIDAHQHYWWRKLGWMMNEDICGHQ\n",
      "YYGRKVDKMRTERSVKGNLNLSQKEPSAPMRDYVIVCRSQFDVCLRSAMTIWCMCWEGCSMLSIYVECPEQYFNFTAGCKVNRPMRTRNCFIHLDAQFICIRCQRWIWPKLLMKPCQYPAPIFLHWPR\n",
      "TDGSNKMNQMYETDTETYATEHPLKASDNLFQSGKSEMKKRYNWMLTRTYNCMCCVEYANHRGLPIHVMWIDLTLAVQPDGARAGWVWFEDYIREWKHPIHNEFCGANACPGLEASGKTLDFPQVRKD\n",
      "PLPERARSIMNCWKGCCVDPYLMGIMFSPANDIVHFTPQITMQVHDPVGLTCPVVHMKKYKYIKFQGWKCNNDKIMYHSWQLTSQVLFDMKEKDNNCWFQIMMEFNMTSIVPADQQLTFPVICNAKWK\n",
      "WQVDRLFGLGHDMRRGINVKHVGMRIYAYSCVHYVVKNFNGHCTCTVNCIENRETMTPIEHIMTTVQEVHAQSVCRLGRKVIQVCSPTTLDEWGAGIVQFICWICDFLFNGQWIYPRGFMSWCQGSKL\n"
     ]
    }
   ],
   "source": [
    "print(\"Constructing sequences from unnormalized latent...\")\n",
    "_, _, strs = sampler.construct_sequence(\n",
    "    sampled_raw_expanded,\n",
    "    calc_perplexity=config.calc_perplexity,\n",
    "    save_to_disk=config.save_to_disk,\n",
    "    log_to_wandb=config.log_to_wandb,\n",
    "    wandb_prefix=\"raw_unnormalized_\"\n",
    ")\n",
    "for s in strs[:10]: print(s)\n"
   ]
  },
  {
   "cell_type": "code",
   "execution_count": 35,
   "metadata": {},
   "outputs": [],
   "source": [
    "# print(\"Constructing structures...\")\n",
    "# _, metrics = sampler.construct_structure(\n",
    "#     sampled_latent,\n",
    "#     strs,\n",
    "#     save_to_disk=config.save_to_disk,\n",
    "#     log_to_wandb=config.log_to_wandb,\n",
    "# )"
   ]
  },
  {
   "cell_type": "code",
   "execution_count": 41,
   "metadata": {},
   "outputs": [
    {
     "name": "stdout",
     "output_type": "stream",
     "text": [
      "Normalized fid: 1632370.0, kid: 15257927680.0\n",
      "Unnormalized fid: 5368259.0, kid: 145586667520.0\n"
     ]
    }
   ],
   "source": [
    "fid, kid = sampler.calculate_fid(\n",
    "    sampled_latent, log_to_wandb=config.log_to_wandb\n",
    ")\n",
    "print(\"Normalized\", f\"fid: {fid}, kid: {kid}\")\n",
    "fid, kid = sampler.calculate_fid(\n",
    "    sampled_raw_expanded, log_to_wandb=config.log_to_wandb, wandb_prefix=\"raw_unnormalized_\"\n",
    ")\n",
    "print(\"Unnormalized\", f\"fid: {fid}, kid: {kid}\")\n"
   ]
  },
  {
   "cell_type": "markdown",
   "metadata": {},
   "source": [
    "# Examine sequences for unclipped"
   ]
  },
  {
   "cell_type": "code",
   "execution_count": 39,
   "metadata": {},
   "outputs": [
    {
     "name": "stdout",
     "output_type": "stream",
     "text": [
      "Constructing sequences...\n",
      "percentage similarty to argmax idx: 1.000\n",
      "Perplexity: 7.510\n",
      "DDDDDDDDDDDDDDDDDDDDDDCDDDDDDDDDDDDDDDDDDDDDDDDDDDDDDDDDDDDHDDDDDDDDDHDDDDDDDDDHDADHDAADADAAADADACDDHAADDADHDDDADDAADDAADDDAADDD\n",
      "MCCAMCMCAADDAMACCCCCDAAACMAMCCCDACAMCCCCAMCCAACCAADMCADCACCACDACMAACADCDDDAACCCDDAAADACVAVVAAACAAVAAVAVADDDAVVAVDAAAVAVAVVAAAAAA\n",
      "DDDAADAADDDDDDDDDDDDDDDDDDDDDDDDDDDDDDDDDDDDDDDDDDDDDDDDDDDDDDDDDDDDDDDDDDDDDDDDDDDDDDDDDDDDDDDDDDDDDDDDDDDDDDDIIDIDDAADADDDDDDD\n",
      "DDDDDDDDDDDDDDDDDDDDDDDDDDDDDDDDDDDDDDDDDDDDDDDDDDDDDDDDDDDDDDDDDDDDDDDDDDDDDDDDDDDDDDDDDDDDDDDDDDDDDDDDDDDDDDDDDDDDDDDDDDDDDDDD\n",
      "DDDDDDDDDDDDDDDDDDDDDDDDDDDDDDDDDDDDDDDDDDDDDDDDDDDDDDDDDDDDDDDDDDDDDDDDDDDDDDDDDDDDDDADDDDDDDDDDDDADDDDDDDDADDDDADDDDDDDDDDDDDY\n",
      "DAADADDDAAAAAAAAAAAAAAADDDAADAAAADADDDAAAADADAAAAAAAAAAAAAAAAAAAAAADAAAAAAADAAAAAAAAAAAAAAAAAAAAAAAAAAAAAADDADAADDDDDDDDDDDDDDDD\n",
      "FDSFFNFFNNDNNFFNFFNFFFFFDNNFFFFDNNFFFNNDNNFNNNNNFFNFDFDNFDNDDNFFFHHDFFFDHHHDHHHFHFHHHFDHHDHHHDNHDFDHHHDDHDHDDDHDHHVAVDDDPDMDMMGP\n",
      "DDDDDDDDDDDDDDDDDDDDDDDDDDDDDDDDDDDDDDDDDDDDDDDDDDDDDDDDDDDDDDDDDDDDDDDDDDDDDDDDDDDDDDDDDDDDDDDDDDDDDDDDDDDDDDDDDDDDDDDDDDDDDDDD\n",
      "VVDDADDDAVVDFFAVVVADDDVDVVVDVVVDVDDDDDDVDDDDVDCDCDDDDADVAAVAVDDVVDADDDVAAAAVVVAAAAAVVIDDVDDVVVVVVDDDDDDVDDDVDVDVDADDVDDVDDDDVDDD\n",
      "CCDDDDCDACADADAAAADAADAAAAADAAAAAAAAAAAAADAAAAAAAAAAAAAAADAADAAAADDAAAAAAAADDAAAADDAVADAVAADAAAAAAAAAAAAAAVAAAAAAAAAAAAAAAVVAVVA\n"
     ]
    }
   ],
   "source": [
    "print(\"Constructing sequences...\")\n",
    "_, _, strs = sampler.construct_sequence(\n",
    "    unclipped_sampled_latent,\n",
    "    calc_perplexity=config.calc_perplexity,\n",
    "    save_to_disk=config.save_to_disk,\n",
    "    log_to_wandb=config.log_to_wandb,\n",
    ")\n",
    "for s in strs[:10]: print(s)"
   ]
  },
  {
   "cell_type": "code",
   "execution_count": 42,
   "metadata": {},
   "outputs": [
    {
     "name": "stdout",
     "output_type": "stream",
     "text": [
      "Normalized fid: 6.0373738891454446e+22, kid: nan\n",
      "Unnormalized fid: 1.0907224067014656e+18, kid: nan\n"
     ]
    }
   ],
   "source": [
    "fid, kid = sampler.calculate_fid(\n",
    "    unclipped_sampled_latent, log_to_wandb=config.log_to_wandb\n",
    ")\n",
    "print(\"Normalized\", f\"fid: {fid}, kid: {kid}\")\n",
    "fid, kid = sampler.calculate_fid(\n",
    "    unclipped_sampled_raw_expanded, log_to_wandb=config.log_to_wandb, wandb_prefix=\"raw_unnormalized_\"\n",
    ")\n",
    "print(\"Unnormalized\", f\"fid: {fid}, kid: {kid}\")\n"
   ]
  },
  {
   "cell_type": "markdown",
   "metadata": {},
   "source": [
    "# Adjust sigma"
   ]
  },
  {
   "cell_type": "code",
   "execution_count": 7,
   "metadata": {},
   "outputs": [
    {
     "name": "stdout",
     "output_type": "stream",
     "text": [
      "Sampling latent...\n"
     ]
    },
    {
     "data": {
      "application/vnd.jupyter.widget-view+json": {
       "model_id": "26993df14c7f47e691fcf9e7c9906697",
       "version_major": 2,
       "version_minor": 0
      },
      "text/plain": [
       "  0%|          | 0/15 [00:00<?, ?it/s]"
      ]
     },
     "metadata": {},
     "output_type": "display_data"
    },
    {
     "name": "stdout",
     "output_type": "stream",
     "text": [
      "Sampled latent mean: tensor(1.7744) std: tensor(85.5328)\n",
      "Raw sampled latent mean: tensor(0.0015) std: tensor(0.2282)\n",
      "Normalized fid: 238448.96875, kid: 60487729152.0\n",
      "Unnormalized fid: 5540334.5, kid: 159120441344.0\n"
     ]
    }
   ],
   "source": [
    "config = SampleCallbackConfig(\n",
    "    model_id = \"xtb06syu\",\n",
    "    model_step = 115000 ,\n",
    "    model_dir = Path(\"/shared/amyxlu/kdplaid/\"),\n",
    "    save_to_disk = False,\n",
    "    log_to_wandb = False,\n",
    "    sigma_min = 1e-2,\n",
    "    sigma_max = 80,\n",
    "    n_to_sample = 256,\n",
    "    batch_size = 256\n",
    ")\n",
    "sampler = SampleCallback(\n",
    "    model, config, model_config, is_wandb_setup=False, device=device,\n",
    ")\n",
    "\n",
    "print(\"Sampling latent...\")\n",
    "sampled_latent, sampled_raw, _ = sampler.sample_latent(\n",
    "    clip_range=(-1, 1), save=False, log_wandb_stats=config.log_to_wandb, return_raw=True\n",
    ")\n",
    "sampled_raw_expanded = inner_model.project_to_input_dim(sampled_raw.to(device))\n",
    "\n",
    "fid, kid, _ = sampler.calculate_fid(\n",
    "    sampled_latent, log_to_wandb=config.log_to_wandb\n",
    ")\n",
    "print(\"Normalized\", f\"fid: {fid}, kid: {kid}\")\n",
    "fid, kid, _ = sampler.calculate_fid(\n",
    "    sampled_raw_expanded, log_to_wandb=config.log_to_wandb, wandb_prefix=\"raw_unnormalized_\"\n",
    ")\n",
    "print(\"Unnormalized\", f\"fid: {fid}, kid: {kid}\")\n",
    "\n"
   ]
  },
  {
   "cell_type": "code",
   "execution_count": null,
   "metadata": {},
   "outputs": [],
   "source": []
  }
 ],
 "metadata": {
  "kernelspec": {
   "display_name": "kdif",
   "language": "python",
   "name": "python3"
  },
  "language_info": {
   "codemirror_mode": {
    "name": "ipython",
    "version": 3
   },
   "file_extension": ".py",
   "mimetype": "text/x-python",
   "name": "python",
   "nbconvert_exporter": "python",
   "pygments_lexer": "ipython3",
   "version": "3.11.6"
  }
 },
 "nbformat": 4,
 "nbformat_minor": 2
}
