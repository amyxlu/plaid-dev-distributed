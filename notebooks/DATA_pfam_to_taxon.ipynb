{
 "cells": [
  {
   "cell_type": "code",
   "execution_count": 1,
   "id": "b2b00d95-44fe-4a1f-a146-b02f3769df11",
   "metadata": {},
   "outputs": [],
   "source": [
    "%load_ext autoreload\n",
    "%autoreload 2"
   ]
  },
  {
   "cell_type": "code",
   "execution_count": 25,
   "id": "1803f0a8-1a15-4490-baca-0ff2c47f740a",
   "metadata": {},
   "outputs": [],
   "source": [
    "filepath = \"/data/lux70/data/pfam/Pfam-A.fasta\"\n",
    "\n",
    "organism_counts = {}\n",
    "\n",
    "with open(filepath, \"r\") as f:\n",
    "    for i, line in enumerate(f):\n",
    "        # if i > 1000:\n",
    "        #     break\n",
    "\n",
    "        if line[0] == \">\":\n",
    "            organism = line.split(\"/\")[0].split(\"_\")[-1]\n",
    "            if not organism in organism_counts.keys():\n",
    "                organism_counts[organism] = 1\n",
    "            else:\n",
    "                organism_counts[organism] += 1\n",
    "\n",
    "import pandas as pd\n",
    "organism_counts = pd.DataFrame.from_dict(organism_counts, orient=\"index\").reset_index()\n",
    "organism_counts.columns = [\"organism_id\", \"counts\"]\n",
    "# organism_counts\n",
    "organism_counts.to_csv(\"/data/lux70/data/pfam/organism_counts.csv\")"
   ]
  },
  {
   "cell_type": "code",
   "execution_count": 19,
   "id": "ae8835e6-1a27-47c4-b3ef-8dec4cc48d79",
   "metadata": {},
   "outputs": [],
   "source": [
    "# try to parse headers\n",
    "\n",
    "import pandas as pd\n",
    "\n",
    "go_metadata_fpath = \"/data/lux70/data/pfam/pfam2go.csv\"\n",
    "organism_metadata_fpath = \"/data/lux70/data/pfam/organism_counts.csv\""
   ]
  },
  {
   "cell_type": "code",
   "execution_count": 46,
   "id": "d20fc42a-1fe6-44ea-b44e-489807e5e242",
   "metadata": {},
   "outputs": [],
   "source": [
    "go_df = pd.read_csv(go_metadata_fpath)\n",
    "org_df = pd.read_csv(organism_metadata_fpath)"
   ]
  },
  {
   "cell_type": "code",
   "execution_count": 47,
   "id": "de27a1d0-1521-4109-a150-c0ad2afc19d9",
   "metadata": {},
   "outputs": [
    {
     "data": {
      "text/html": [
       "<div>\n",
       "<style scoped>\n",
       "    .dataframe tbody tr th:only-of-type {\n",
       "        vertical-align: middle;\n",
       "    }\n",
       "\n",
       "    .dataframe tbody tr th {\n",
       "        vertical-align: top;\n",
       "    }\n",
       "\n",
       "    .dataframe thead th {\n",
       "        text-align: right;\n",
       "    }\n",
       "</style>\n",
       "<table border=\"1\" class=\"dataframe\">\n",
       "  <thead>\n",
       "    <tr style=\"text-align: right;\">\n",
       "      <th></th>\n",
       "      <th>pfam_id</th>\n",
       "      <th>GO_id</th>\n",
       "      <th>GO_term</th>\n",
       "      <th>GO_level</th>\n",
       "      <th>count</th>\n",
       "      <th>GO_idx</th>\n",
       "    </tr>\n",
       "  </thead>\n",
       "  <tbody>\n",
       "    <tr>\n",
       "      <th>0</th>\n",
       "      <td>PF00001</td>\n",
       "      <td>GO:0004930</td>\n",
       "      <td>G protein-coupled receptor activity</td>\n",
       "      <td>function</td>\n",
       "      <td>11</td>\n",
       "      <td>0</td>\n",
       "    </tr>\n",
       "    <tr>\n",
       "      <th>1</th>\n",
       "      <td>PF00002</td>\n",
       "      <td>GO:0004930</td>\n",
       "      <td>G protein-coupled receptor activity</td>\n",
       "      <td>function</td>\n",
       "      <td>11</td>\n",
       "      <td>0</td>\n",
       "    </tr>\n",
       "    <tr>\n",
       "      <th>2</th>\n",
       "      <td>PF00003</td>\n",
       "      <td>GO:0004930</td>\n",
       "      <td>G protein-coupled receptor activity</td>\n",
       "      <td>function</td>\n",
       "      <td>11</td>\n",
       "      <td>0</td>\n",
       "    </tr>\n",
       "    <tr>\n",
       "      <th>3</th>\n",
       "      <td>PF00004</td>\n",
       "      <td>GO:0016887</td>\n",
       "      <td>ATP hydrolysis activity</td>\n",
       "      <td>function</td>\n",
       "      <td>15</td>\n",
       "      <td>1</td>\n",
       "    </tr>\n",
       "    <tr>\n",
       "      <th>4</th>\n",
       "      <td>PF00005</td>\n",
       "      <td>GO:0016887</td>\n",
       "      <td>ATP hydrolysis activity</td>\n",
       "      <td>function</td>\n",
       "      <td>15</td>\n",
       "      <td>1</td>\n",
       "    </tr>\n",
       "  </tbody>\n",
       "</table>\n",
       "</div>"
      ],
      "text/plain": [
       "   pfam_id       GO_id                              GO_term  GO_level  count  \\\n",
       "0  PF00001  GO:0004930  G protein-coupled receptor activity  function     11   \n",
       "1  PF00002  GO:0004930  G protein-coupled receptor activity  function     11   \n",
       "2  PF00003  GO:0004930  G protein-coupled receptor activity  function     11   \n",
       "3  PF00004  GO:0016887              ATP hydrolysis activity  function     15   \n",
       "4  PF00005  GO:0016887              ATP hydrolysis activity  function     15   \n",
       "\n",
       "   GO_idx  \n",
       "0       0  \n",
       "1       0  \n",
       "2       0  \n",
       "3       1  \n",
       "4       1  "
      ]
     },
     "execution_count": 47,
     "metadata": {},
     "output_type": "execute_result"
    }
   ],
   "source": [
    "go_df.head()"
   ]
  }
 ],
 "metadata": {
  "kernelspec": {
   "display_name": "Python (omegafold)",
   "language": "python",
   "name": "omegafold"
  },
  "language_info": {
   "codemirror_mode": {
    "name": "ipython",
    "version": 3
   },
   "file_extension": ".py",
   "mimetype": "text/x-python",
   "name": "python",
   "nbconvert_exporter": "python",
   "pygments_lexer": "ipython3",
   "version": "3.9.12"
  }
 },
 "nbformat": 4,
 "nbformat_minor": 5
}
