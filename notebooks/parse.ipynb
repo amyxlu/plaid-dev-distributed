{
 "cells": [
  {
   "cell_type": "code",
   "execution_count": 33,
   "id": "208c8419-849d-4b4f-b13a-d5588977ea86",
   "metadata": {
    "execution": {
     "iopub.execute_input": "2024-09-26T20:10:09.979156Z",
     "iopub.status.busy": "2024-09-26T20:10:09.978755Z",
     "iopub.status.idle": "2024-09-26T20:10:10.251913Z",
     "shell.execute_reply": "2024-09-26T20:10:10.251272Z",
     "shell.execute_reply.started": "2024-09-26T20:10:09.979129Z"
    }
   },
   "outputs": [],
   "source": [
    "%load_ext autoreload\n",
    "%autoreload 2"
   ]
  },
  {
   "cell_type": "code",
   "execution_count": 34,
   "id": "1389e000-96bc-4df1-ad9c-a980a999ddc0",
   "metadata": {
    "execution": {
     "iopub.execute_input": "2024-09-26T20:10:10.253666Z",
     "iopub.status.busy": "2024-09-26T20:10:10.253201Z",
     "iopub.status.idle": "2024-09-26T20:10:16.038765Z",
     "shell.execute_reply": "2024-09-26T20:10:16.038124Z",
     "shell.execute_reply.started": "2024-09-26T20:10:10.253645Z"
    }
   },
   "outputs": [],
   "source": [
    "from plaid.utils import parse_sequence_from_structure, write_to_fasta"
   ]
  },
  {
   "cell_type": "code",
   "execution_count": 35,
   "id": "4b49fe47-1975-42a5-99be-c9535c9436ae",
   "metadata": {
    "execution": {
     "iopub.execute_input": "2024-09-26T20:10:16.040191Z",
     "iopub.status.busy": "2024-09-26T20:10:16.039815Z",
     "iopub.status.idle": "2024-09-26T20:10:16.072414Z",
     "shell.execute_reply": "2024-09-26T20:10:16.071829Z",
     "shell.execute_reply.started": "2024-09-26T20:10:16.040168Z"
    }
   },
   "outputs": [],
   "source": [
    "from pathlib import Path"
   ]
  },
  {
   "cell_type": "code",
   "execution_count": 41,
   "id": "8fb1c9d1-5bd6-4c25-93e6-15b25414c212",
   "metadata": {
    "execution": {
     "iopub.execute_input": "2024-09-26T20:10:58.148743Z",
     "iopub.status.busy": "2024-09-26T20:10:58.148313Z",
     "iopub.status.idle": "2024-09-26T20:10:58.181663Z",
     "shell.execute_reply": "2024-09-26T20:10:58.181053Z",
     "shell.execute_reply.started": "2024-09-26T20:10:58.148719Z"
    }
   },
   "outputs": [],
   "source": [
    "# pdbdir = Path(\"/data/lux70/data/pfam/val_stats/generated/structures\")\n",
    "pdbdir = Path(\"/data/lux70/plaid/baselines/protpardelle/samples_large/samples/generated\")"
   ]
  },
  {
   "cell_type": "code",
   "execution_count": 46,
   "id": "03a359a7-9df3-4e86-bf01-edb8280a25b5",
   "metadata": {
    "execution": {
     "iopub.execute_input": "2024-09-26T20:11:52.932037Z",
     "iopub.status.busy": "2024-09-26T20:11:52.931654Z",
     "iopub.status.idle": "2024-09-26T20:11:52.991754Z",
     "shell.execute_reply": "2024-09-26T20:11:52.991152Z",
     "shell.execute_reply.started": "2024-09-26T20:11:52.932012Z"
    }
   },
   "outputs": [],
   "source": [
    "import glob\n",
    "\n",
    "pdb_paths = glob.glob(str(pdbdir / \"*pdb\"))\n",
    "pdb_paths.sort()"
   ]
  },
  {
   "cell_type": "code",
   "execution_count": 43,
   "id": "cf4156b2-eb24-447e-beef-0bb957eac58c",
   "metadata": {
    "execution": {
     "iopub.execute_input": "2024-09-26T20:11:00.416254Z",
     "iopub.status.busy": "2024-09-26T20:11:00.415857Z",
     "iopub.status.idle": "2024-09-26T20:11:00.449153Z",
     "shell.execute_reply": "2024-09-26T20:11:00.448595Z",
     "shell.execute_reply.started": "2024-09-26T20:11:00.416224Z"
    }
   },
   "outputs": [],
   "source": [
    "pdb_paths.sort()"
   ]
  },
  {
   "cell_type": "code",
   "execution_count": 18,
   "id": "9dc9ef62-4a94-4d63-b6fb-dc6da3de39a7",
   "metadata": {
    "execution": {
     "iopub.execute_input": "2024-09-26T06:41:02.850363Z",
     "iopub.status.busy": "2024-09-26T06:41:02.849989Z",
     "iopub.status.idle": "2024-09-26T06:41:02.883655Z",
     "shell.execute_reply": "2024-09-26T06:41:02.883069Z",
     "shell.execute_reply.started": "2024-09-26T06:41:02.850339Z"
    }
   },
   "outputs": [],
   "source": []
  },
  {
   "cell_type": "code",
   "execution_count": 48,
   "id": "e7a72650-fc40-4983-aa12-b158f566d311",
   "metadata": {
    "execution": {
     "iopub.execute_input": "2024-09-26T20:12:27.464768Z",
     "iopub.status.busy": "2024-09-26T20:12:27.464048Z",
     "iopub.status.idle": "2024-09-26T20:14:37.603206Z",
     "shell.execute_reply": "2024-09-26T20:14:37.602667Z",
     "shell.execute_reply.started": "2024-09-26T20:12:27.464739Z"
    }
   },
   "outputs": [
    {
     "data": {
      "application/vnd.jupyter.widget-view+json": {
       "model_id": "3a5d9f4e73e0421b9a341c6c31cf7590",
       "version_major": 2,
       "version_minor": 0
      },
      "text/plain": [
       "  0%|          | 0/3648 [00:00<?, ?it/s]"
      ]
     },
     "metadata": {},
     "output_type": "display_data"
    }
   ],
   "source": [
    "import warnings\n",
    "from tqdm.auto import tqdm\n",
    "\n",
    "warnings.filterwarnings('ignore') \n",
    "\n",
    "seq_dict = {}\n",
    "\n",
    "for p in tqdm(pdb_paths):\n",
    "    with open(p, \"r\") as f:\n",
    "        pdbstr = f.read()\n",
    "    sequence = parse_sequence_from_structure(pdbstr)\n",
    "    seq_dict[p] = sequence"
   ]
  },
  {
   "cell_type": "code",
   "execution_count": 51,
   "id": "c16ddf16-201e-4e01-a399-b32f6d475634",
   "metadata": {
    "execution": {
     "iopub.execute_input": "2024-09-26T20:17:39.135212Z",
     "iopub.status.busy": "2024-09-26T20:17:39.134832Z",
     "iopub.status.idle": "2024-09-26T20:17:39.170104Z",
     "shell.execute_reply": "2024-09-26T20:17:39.169495Z",
     "shell.execute_reply.started": "2024-09-26T20:17:39.135186Z"
    }
   },
   "outputs": [],
   "source": [
    "outfasta = pdbdir / \"../sequences.fasta\"\n",
    "\n",
    "headers, sequences = [], []\n",
    "for k, v in seq_dict.items():\n",
    "    headers.append(k)\n",
    "    sequences.append(v)"
   ]
  },
  {
   "cell_type": "code",
   "execution_count": 52,
   "id": "a38fef85-d8c2-4593-b811-87f5f83079ec",
   "metadata": {
    "execution": {
     "iopub.execute_input": "2024-09-26T20:17:41.636261Z",
     "iopub.status.busy": "2024-09-26T20:17:41.635564Z",
     "iopub.status.idle": "2024-09-26T20:17:41.676844Z",
     "shell.execute_reply": "2024-09-26T20:17:41.676046Z",
     "shell.execute_reply.started": "2024-09-26T20:17:41.636236Z"
    }
   },
   "outputs": [
    {
     "name": "stdout",
     "output_type": "stream",
     "text": [
      "Wrote 3648 sequences to /data/lux70/plaid/baselines/protpardelle/samples_large/samples/generated/../sequences.fasta.\n"
     ]
    }
   ],
   "source": [
    "# write_to_fasta(\n",
    "#     sequences,\n",
    "#     outfasta,\n",
    "#     headers\n",
    "# )"
   ]
  },
  {
   "cell_type": "code",
   "execution_count": 18,
   "id": "b0db13c2-43a8-499c-9d37-b18cca96a570",
   "metadata": {
    "execution": {
     "iopub.execute_input": "2024-09-26T19:30:58.382317Z",
     "iopub.status.busy": "2024-09-26T19:30:58.381965Z",
     "iopub.status.idle": "2024-09-26T19:30:58.385561Z",
     "shell.execute_reply": "2024-09-26T19:30:58.384929Z",
     "shell.execute_reply.started": "2024-09-26T19:30:58.382292Z"
    }
   },
   "outputs": [],
   "source": [
    "paths.sort()"
   ]
  },
  {
   "cell_type": "code",
   "execution_count": 31,
   "id": "3800441f-88c0-4a99-99ac-174100d1bad4",
   "metadata": {
    "execution": {
     "iopub.execute_input": "2024-09-26T19:55:25.316201Z",
     "iopub.status.busy": "2024-09-26T19:55:25.315827Z",
     "iopub.status.idle": "2024-09-26T19:55:25.333925Z",
     "shell.execute_reply": "2024-09-26T19:55:25.333251Z",
     "shell.execute_reply.started": "2024-09-26T19:55:25.316177Z"
    }
   },
   "outputs": [],
   "source": [
    "from pathlib import Path\n",
    "import os\n",
    "\n",
    "sample_dir = Path(\"/data/lux70/plaid/artifacts/samples/by_length\")\n",
    "# lengths = os.listdir(sample_dir)\n",
    "# lengths.sort()\n",
    "lengths = [str(x) for x in range(212, 257, 4)]\n",
    "for x in lengths:\n",
    "    orig_name = sample_dir / x\n",
    "    new_name = Path(\"/data/lux70/plaid/artifacts/samples/scratch_5j007z42\") / x\n",
    "\n",
    "    try:\n",
    "        os.rename(orig_name, new_name)\n",
    "    except FileNotFoundError:\n",
    "        pass"
   ]
  },
  {
   "cell_type": "code",
   "execution_count": 32,
   "id": "480436f2-e878-4b21-9442-08d1096af86e",
   "metadata": {
    "execution": {
     "iopub.execute_input": "2024-09-26T19:56:13.280999Z",
     "iopub.status.busy": "2024-09-26T19:56:13.280613Z",
     "iopub.status.idle": "2024-09-26T19:56:13.284722Z",
     "shell.execute_reply": "2024-09-26T19:56:13.284010Z",
     "shell.execute_reply.started": "2024-09-26T19:56:13.280974Z"
    }
   },
   "outputs": [
    {
     "name": "stdout",
     "output_type": "stream",
     "text": [
      "180 184 188 192 196 200 204 208 212 216 220 224 228 232 236 240 244 248 252 256\n"
     ]
    }
   ],
   "source": [
    "print(\" \".join([str(x) for x in range(180, 257, 4)]))"
   ]
  },
  {
   "cell_type": "code",
   "execution_count": null,
   "id": "e3b6eb35-dae0-4264-baf8-472a990f0539",
   "metadata": {},
   "outputs": [],
   "source": []
  }
 ],
 "metadata": {
  "kernelspec": {
   "display_name": "Python (omegafold)",
   "language": "python",
   "name": "omegafold"
  },
  "language_info": {
   "codemirror_mode": {
    "name": "ipython",
    "version": 3
   },
   "file_extension": ".py",
   "mimetype": "text/x-python",
   "name": "python",
   "nbconvert_exporter": "python",
   "pygments_lexer": "ipython3",
   "version": "3.9.12"
  }
 },
 "nbformat": 4,
 "nbformat_minor": 5
}
