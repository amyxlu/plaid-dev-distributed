{
 "cells": [
  {
   "cell_type": "code",
   "execution_count": 3,
   "id": "c9cfc485-3573-4f37-933f-2b9b9cede31d",
   "metadata": {},
   "outputs": [],
   "source": [
    "%load_ext autoreload\n",
    "%autoreload 2"
   ]
  },
  {
   "cell_type": "code",
   "execution_count": 4,
   "id": "d20b5781-26bd-4b39-a6cf-cfbacb0ecf18",
   "metadata": {},
   "outputs": [],
   "source": [
    "import safetensors\n",
    "from safetensors import safe_open\n",
    "import torch\n",
    "from pathlib import Path\n",
    "import numpy as np\n",
    "import random\n",
    "import seaborn as sns\n",
    "import matplotlib.pyplot as plt\n",
    "import pandas as pd"
   ]
  },
  {
   "cell_type": "code",
   "execution_count": 5,
   "id": "919fb1f4-46b4-40d2-b0c8-88274ce1171d",
   "metadata": {},
   "outputs": [
    {
     "data": {
      "text/plain": [
       "<torch._C.Generator at 0x7f3f2395e150>"
      ]
     },
     "execution_count": 5,
     "metadata": {},
     "output_type": "execute_result"
    }
   ],
   "source": [
    "random.seed(42)\n",
    "np.random.seed(42)\n",
    "torch.manual_seed(42)"
   ]
  },
  {
   "cell_type": "markdown",
   "id": "5c249b25-1dd0-4471-b5e8-f1aa174d81eb",
   "metadata": {},
   "source": [
    "# Baseline"
   ]
  },
  {
   "cell_type": "code",
   "execution_count": 6,
   "id": "ef6aa4c5-94a6-44b2-a31c-9723f9291e2c",
   "metadata": {},
   "outputs": [
    {
     "name": "stdout",
     "output_type": "stream",
     "text": [
      "torch.Size([11886, 32])\n"
     ]
    }
   ],
   "source": [
    "feature_path = \"/data/lux70/data/pfam/features/all.pt\"\n",
    "with safe_open(feature_path, \"pt\") as f:\n",
    "    features = f.get_tensor('features')\n",
    "\n",
    "print(features.shape)\n",
    "\n",
    "NUM_TO_EVAL = 512\n",
    "idxs = np.arange(NUM_TO_EVAL * 2)\n",
    "np.random.shuffle(idxs)\n",
    "\n",
    "idxs1 = idxs[:NUM_TO_EVAL]\n",
    "idxs2 = idxs[NUM_TO_EVAL:]\n",
    "\n",
    "gt_x1 = features[idxs1].numpy()\n",
    "gt_x2 = features[idxs2].numpy()"
   ]
  },
  {
   "cell_type": "code",
   "execution_count": 7,
   "id": "76505600-7128-49ca-9c8d-1d405ece36ba",
   "metadata": {},
   "outputs": [],
   "source": [
    "from plaid.evaluation import parmar_kid, parmar_fid, ConditionalFID"
   ]
  },
  {
   "cell_type": "code",
   "execution_count": 8,
   "id": "f9dfbe48-3cc0-4af9-8cbc-9f9068747baa",
   "metadata": {},
   "outputs": [
    {
     "name": "stdout",
     "output_type": "stream",
     "text": [
      "0.004427324210236727\n"
     ]
    }
   ],
   "source": [
    "uncond_gt_fid = parmar_fid(gt_x1, gt_x2)\n",
    "print(uncond_gt_fid)"
   ]
  },
  {
   "cell_type": "code",
   "execution_count": 9,
   "id": "e12a5876-8672-4611-804f-41b3d0ce2fb6",
   "metadata": {},
   "outputs": [
    {
     "data": {
      "text/plain": [
       "-3.0023683074134057e-05"
      ]
     },
     "execution_count": 9,
     "metadata": {},
     "output_type": "execute_result"
    }
   ],
   "source": [
    "parmar_kid(gt_x1, gt_x2)"
   ]
  },
  {
   "cell_type": "markdown",
   "id": "fc87b378-0218-453d-94c0-8c25a600fbe6",
   "metadata": {},
   "source": [
    "### Unconditional to Random"
   ]
  },
  {
   "cell_type": "code",
   "execution_count": 10,
   "id": "380657ff-f4e6-4fbb-8f61-65200451b63f",
   "metadata": {},
   "outputs": [
    {
     "data": {
      "image/png": "[encoded data removed]",
      "text/plain": [
       "<Figure size 640x480 with 1 Axes>"
      ]
     },
     "metadata": {},
     "output_type": "display_data"
    }
   ],
   "source": [
    "# from scipy.stats import beta\n",
    "\n",
    "# # Beta distribution parameters can be tweaked for a Gaussian-like shape\n",
    "# alpha, beta_param = 8, 8\n",
    "# samples = beta(alpha, beta_param).rvs(1000)\n",
    "\n",
    "# # Rescale to [-1, 1]\n",
    "# bounded_samples = 2 * samples - 0.9\n",
    "# print(bounded_samples.shape)\n",
    "# _ = plt.hist(bounded_samples.flatten(),bins=100)\n",
    "\n",
    "\n",
    "random = np.random.normal(0, 0.3, (512, 32))\n",
    "_ = plt.hist(random.flatten(), bins=100)"
   ]
  },
  {
   "cell_type": "code",
   "execution_count": 11,
   "id": "0cbb2ba4-6e04-4b6f-ad13-fef21ddad595",
   "metadata": {},
   "outputs": [
    {
     "name": "stdout",
     "output_type": "stream",
     "text": [
      "3.64562124110458\n"
     ]
    }
   ],
   "source": [
    "random_fid = parmar_fid(random, gt_x1)\n",
    "print(random_fid)"
   ]
  },
  {
   "cell_type": "code",
   "execution_count": 12,
   "id": "4026a222-d04f-458a-9385-6876fa4e6ff3",
   "metadata": {},
   "outputs": [
    {
     "data": {
      "text/plain": [
       "3.6613143722900707"
      ]
     },
     "execution_count": 12,
     "metadata": {},
     "output_type": "execute_result"
    }
   ],
   "source": [
    "parmar_fid(random, gt_x2)"
   ]
  },
  {
   "cell_type": "markdown",
   "id": "c95ab981-d75e-497d-bf3b-00c1a7917bbd",
   "metadata": {},
   "source": [
    "# Unconditional generation performance"
   ]
  },
  {
   "cell_type": "code",
   "execution_count": 13,
   "id": "ea061b2d-ceba-436d-bec7-2e3ab45ec09a",
   "metadata": {},
   "outputs": [
    {
     "name": "stdout",
     "output_type": "stream",
     "text": [
      "(1024, 128, 32)\n"
     ]
    }
   ],
   "source": [
    "with np.load(\"/data/lux70/plaid/artifacts/samples/5j007z42/f2219_o3617/240907_0658/latent.npz\", allow_pickle=True) as f:\n",
    "    uncond_gen = f['samples']\n",
    "\n",
    "print(uncond_gen.shape)\n",
    "uncond_gen = uncond_gen.astype(np.float32)"
   ]
  },
  {
   "cell_type": "code",
   "execution_count": 14,
   "id": "dd182b05-f399-4e98-ac4c-2077b7888961",
   "metadata": {},
   "outputs": [
    {
     "name": "stdout",
     "output_type": "stream",
     "text": [
      "(512, 32)\n"
     ]
    }
   ],
   "source": [
    "idxs = np.arange(len(uncond_gen))\n",
    "np.random.shuffle(idxs)\n",
    "uncond_gen = uncond_gen[idxs[:NUM_TO_EVAL]]\n",
    "uncond_gen = uncond_gen.mean(axis=1)\n",
    "print(uncond_gen.shape)"
   ]
  },
  {
   "cell_type": "code",
   "execution_count": 15,
   "id": "4d9429ea-64fe-4b91-b717-bd5e848f1e7f",
   "metadata": {},
   "outputs": [
    {
     "name": "stdout",
     "output_type": "stream",
     "text": [
      "0.07637256839755446\n",
      "0.08355992729511436\n"
     ]
    }
   ],
   "source": [
    "uncond_gen_fid = parmar_fid(gt_x1, uncond_gen)\n",
    "print(uncond_gen_fid)\n",
    "\n",
    "# just to double check, use the other chunk too\n",
    "print(parmar_fid(gt_x2, uncond_gen))"
   ]
  },
  {
   "cell_type": "code",
   "execution_count": 16,
   "id": "369eb593-b270-480f-bc7c-4b2bb28c96e0",
   "metadata": {},
   "outputs": [
    {
     "name": "stdout",
     "output_type": "stream",
     "text": [
      "0.002485317666003457\n",
      "0.002933099899739986\n"
     ]
    }
   ],
   "source": [
    "print(parmar_kid(gt_x1, uncond_gen))\n",
    "print(parmar_kid(gt_x2, uncond_gen))"
   ]
  },
  {
   "cell_type": "markdown",
   "id": "f9793047-307e-47eb-ad06-5c7595f67f6f",
   "metadata": {},
   "source": [
    "# Amass Conditional FID"
   ]
  },
  {
   "cell_type": "code",
   "execution_count": 17,
   "id": "850f90e9-d6f3-4fbe-a475-4cbf8fc55b19",
   "metadata": {},
   "outputs": [
    {
     "name": "stderr",
     "output_type": "stream",
     "text": [
      "/homefs/home/lux70/code/cheap-proteins/src/cheap/pretrained.py:32: FutureWarning: You are using `torch.load` with `weights_only=False` (the current default value), which uses the default pickle module implicitly. It is possible to construct malicious pickle data which will execute arbitrary code during unpickling (See https://github.com/pytorch/pytorch/blob/main/SECURITY.md#untrusted-models for more details). In a future release, the default value for `weights_only` will be flipped to `True`. This limits the functions that could be executed during unpickling. Arbitrary objects will no longer be allowed to be loaded via this mode unless they are explicitly allowlisted by the user via `torch.serialization.add_safe_globals`. We recommend you start setting `weights_only=True` for any use case where you don't have full control of the loaded file. Please open an issue on GitHub for any issues related to this experimental feature.\n",
      "  ckpt = torch.load(checkpoint_fpath)\n"
     ]
    },
    {
     "name": "stdout",
     "output_type": "stream",
     "text": [
      "Using tanh layer at bottleneck...\n",
      "Finished loading HPCT model with shorten factor 2 and 32 channel dimensions.\n",
      "Creating ESMFold embedding only model...\n",
      "ESMFold embedding only model created in 32.71 seconds\n"
     ]
    }
   ],
   "source": [
    "from cheap.pretrained import CHEAP_pfam_shorten_2_dim_32\n",
    "cheap_pipeline = CHEAP_pfam_shorten_2_dim_32()"
   ]
  },
  {
   "cell_type": "code",
   "execution_count": 18,
   "id": "aab94eaa-6872-4548-8588-8bdaba6a5f64",
   "metadata": {},
   "outputs": [],
   "source": [
    "from plaid.evaluation import ConditionalFID\n",
    "from pathlib import Path\n",
    "import glob\n",
    "import numpy as np\n",
    "import torch\n",
    "import os\n",
    "\n",
    "samples_dir = Path(\"/data/lux70/plaid/artifacts/samples/5j007z42/\")"
   ]
  },
  {
   "cell_type": "code",
   "execution_count": null,
   "id": "92cfad19-056e-421e-be36-ae89e2a6ec76",
   "metadata": {},
   "outputs": [
    {
     "name": "stdout",
     "output_type": "stream",
     "text": [
      "/data/lux70/plaid/artifacts/samples/5j007z42/f323_o3617/outputs/latent.npz\n",
      "Found 250 samples for this condition.\n",
      "Need at least 512 samples, as configured.\n",
      "/data/lux70/plaid/artifacts/samples/5j007z42/f146_o3617/240916_0004/latent.npz\n",
      "Found 6246 samples for this condition.\n",
      "f146_o3617 Generated <-> GT FID: 0.7811672630086729\n",
      "f146_o3617 Random Real <-> GT FID: 0.3537851223541004\n",
      "/data/lux70/plaid/artifacts/samples/5j007z42/f262_o3617/240913_1824/latent.npz\n",
      "Found 20112 samples for this condition.\n",
      "f262_o3617 Generated <-> GT FID: 0.5600274919519137\n",
      "f262_o3617 Random Real <-> GT FID: 0.21251049849436743\n",
      "/data/lux70/plaid/artifacts/samples/5j007z42/f129_o3617/240915_1611/latent.npz\n",
      "Found 4742 samples for this condition.\n",
      "f129_o3617 Generated <-> GT FID: 0.7925078749367302\n",
      "f129_o3617 Random Real <-> GT FID: 0.2785714518129988\n",
      "/data/lux70/plaid/artifacts/samples/5j007z42/f314_o3617/240914_1534/latent.npz\n",
      "Found 551 samples for this condition.\n",
      "f314_o3617 Generated <-> GT FID: 0.5738191747945285\n",
      "f314_o3617 Random Real <-> GT FID: 0.47256832648624647\n",
      "/data/lux70/plaid/artifacts/samples/5j007z42/f356_o3617/240915_1658/latent.npz\n",
      "Found 1897 samples for this condition.\n",
      "f356_o3617 Generated <-> GT FID: 0.10637967296788377\n",
      "f356_o3617 Random Real <-> GT FID: 0.24845534477563125\n",
      "/data/lux70/plaid/artifacts/samples/5j007z42/f303_o3617/240914_1046/latent.npz\n",
      "Found 4 samples for this condition.\n",
      "Need at least 512 samples, as configured.\n",
      "/data/lux70/plaid/artifacts/samples/5j007z42/f124_o3617/240915_1337/latent.npz\n",
      "Found 4766 samples for this condition.\n",
      "f124_o3617 Generated <-> GT FID: 0.5533485780578565\n",
      "f124_o3617 Random Real <-> GT FID: 0.23505252423940026\n",
      "/data/lux70/plaid/artifacts/samples/5j007z42/f322_o3617/240914_2246/latent.npz\n",
      "Found 1074 samples for this condition.\n",
      "f322_o3617 Generated <-> GT FID: 0.277073593377244\n",
      "f322_o3617 Random Real <-> GT FID: 0.30971792433290457\n",
      "/data/lux70/plaid/artifacts/samples/5j007z42/f341_o3617/240915_1032/latent.npz\n",
      "Found 129 samples for this condition.\n",
      "Need at least 512 samples, as configured.\n",
      "/data/lux70/plaid/artifacts/samples/5j007z42/f263_o3617/240913_1922/latent.npz\n",
      "Found 808 samples for this condition.\n",
      "f263_o3617 Generated <-> GT FID: 0.07469497783155882\n",
      "f263_o3617 Random Real <-> GT FID: 0.37484995303750757\n",
      "/data/lux70/plaid/artifacts/samples/5j007z42/f113_o3617/240915_0553/latent.npz\n",
      "Found 1153 samples for this condition.\n",
      "f113_o3617 Generated <-> GT FID: 0.39886237479108466\n",
      "f113_o3617 Random Real <-> GT FID: 0.3845794027231677\n",
      "/data/lux70/plaid/artifacts/samples/5j007z42/f315_o3617/240914_1641/latent.npz\n",
      "Found 743 samples for this condition.\n",
      "f315_o3617 Generated <-> GT FID: 0.4865677567812326\n",
      "f315_o3617 Random Real <-> GT FID: 0.215511112306909\n",
      "/data/lux70/plaid/artifacts/samples/5j007z42/f151_o3617/240916_0117/latent.npz\n",
      "Found 23191 samples for this condition.\n",
      "f151_o3617 Generated <-> GT FID: 0.29874517159515873\n",
      "f151_o3617 Random Real <-> GT FID: 0.2112189240123793\n",
      "/data/lux70/plaid/artifacts/samples/5j007z42/f288_o3617/240914_0345/latent.npz\n",
      "Found 8338 samples for this condition.\n",
      "f288_o3617 Generated <-> GT FID: 0.34404404311443293\n",
      "f288_o3617 Random Real <-> GT FID: 0.2093799263789033\n",
      "/data/lux70/plaid/artifacts/samples/5j007z42/f319_o3617/240914_1929/latent.npz\n",
      "Found 1385 samples for this condition.\n",
      "f319_o3617 Generated <-> GT FID: 0.2835391026111582\n",
      "f319_o3617 Random Real <-> GT FID: 0.35756176965575714\n",
      "/data/lux70/plaid/artifacts/samples/5j007z42/f170_o3617/240916_0547/latent.npz\n",
      "Found 7779 samples for this condition.\n",
      "f170_o3617 Generated <-> GT FID: 0.3372468366695084\n",
      "f170_o3617 Random Real <-> GT FID: 0.19294158762712266\n",
      "/data/lux70/plaid/artifacts/samples/5j007z42/f169_o3617/240916_0406/latent.npz\n",
      "Found 1680 samples for this condition.\n",
      "f169_o3617 Generated <-> GT FID: 0.10980860674614587\n",
      "f169_o3617 Random Real <-> GT FID: 0.19522437013723248\n",
      "/data/lux70/plaid/artifacts/samples/5j007z42/f106_o3617/240915_0352/latent.npz\n",
      "Found 2080 samples for this condition.\n",
      "f106_o3617 Generated <-> GT FID: 0.9010483845566166\n",
      "f106_o3617 Random Real <-> GT FID: 0.3761974433725726\n",
      "/data/lux70/plaid/artifacts/samples/5j007z42/f291_o3617/240914_0603/latent.npz\n",
      "Found 22996 samples for this condition.\n",
      "f291_o3617 Generated <-> GT FID: 0.4437392189739451\n",
      "f291_o3617 Random Real <-> GT FID: 0.30591599942441944\n",
      "/data/lux70/plaid/artifacts/samples/5j007z42/f300_o3617/240914_0812/latent.npz\n",
      "Found 1673 samples for this condition.\n",
      "f300_o3617 Generated <-> GT FID: 0.503607952047229\n",
      "f300_o3617 Random Real <-> GT FID: 0.3277243575752279\n",
      "/data/lux70/plaid/artifacts/samples/5j007z42/f363_o3617/240915_2108/latent.npz\n",
      "Found 8556 samples for this condition.\n",
      "f363_o3617 Generated <-> GT FID: 0.9685615913214629\n",
      "f363_o3617 Random Real <-> GT FID: 0.588332885154309\n",
      "/data/lux70/plaid/artifacts/samples/5j007z42/f342_o3617/240915_1126/latent.npz\n",
      "Found 11163 samples for this condition.\n",
      "f342_o3617 Generated <-> GT FID: 0.8036976554239748\n",
      "f342_o3617 Random Real <-> GT FID: 0.25252818075112726\n",
      "/data/lux70/plaid/artifacts/samples/5j007z42/f131_o3617/240915_1831/latent.npz\n",
      "Found 25427 samples for this condition.\n",
      "f131_o3617 Generated <-> GT FID: 0.4158197953996986\n",
      "f131_o3617 Random Real <-> GT FID: 0.4139662276270747\n",
      "/data/lux70/plaid/artifacts/samples/5j007z42/f287_o3617/240914_0251/latent.npz\n",
      "Found 35692 samples for this condition.\n",
      "f287_o3617 Generated <-> GT FID: 0.7687739134586332\n",
      "f287_o3617 Random Real <-> GT FID: 0.2894084284608035\n",
      "/data/lux70/plaid/artifacts/samples/5j007z42/f182_o3617/240916_0915/latent.npz\n",
      "Found 4642 samples for this condition.\n",
      "f182_o3617 Generated <-> GT FID: 0.3721107240061944\n",
      "f182_o3617 Random Real <-> GT FID: 0.2721893657073196\n",
      "/data/lux70/plaid/artifacts/samples/5j007z42/f337_o3617/240915_0741/latent.npz\n",
      "Found 2147 samples for this condition.\n",
      "f337_o3617 Generated <-> GT FID: 0.6055556746456165\n",
      "f337_o3617 Random Real <-> GT FID: 0.31581681035720993\n",
      "/data/lux70/plaid/artifacts/samples/5j007z42/f358_o3617/240915_1822/latent.npz\n",
      "Found 1112 samples for this condition.\n",
      "f358_o3617 Generated <-> GT FID: 0.4678635579800488\n",
      "f358_o3617 Random Real <-> GT FID: 0.27778565704998615\n",
      "/data/lux70/plaid/artifacts/samples/5j007z42/f173_o3617/240916_0641/latent.npz\n",
      "Found 4649 samples for this condition.\n",
      "f173_o3617 Generated <-> GT FID: 0.7122846025603051\n",
      "f173_o3617 Random Real <-> GT FID: 0.24791146866435498\n",
      "/data/lux70/plaid/artifacts/samples/5j007z42/f149_o3617/240916_0032/latent.npz\n",
      "Found 157 samples for this condition.\n",
      "Need at least 512 samples, as configured.\n",
      "/data/lux70/plaid/artifacts/samples/5j007z42/f290_o3617/240914_0447/latent.npz\n",
      "Found 19468 samples for this condition.\n",
      "f290_o3617 Generated <-> GT FID: 0.758885484617576\n",
      "f290_o3617 Random Real <-> GT FID: 0.2745797286212931\n",
      "/data/lux70/plaid/artifacts/samples/5j007z42/f362_o3617/240915_2048/latent.npz\n",
      "Found 6962 samples for this condition.\n",
      "f362_o3617 Generated <-> GT FID: 0.1230645075354577\n",
      "f362_o3617 Random Real <-> GT FID: 0.200313410247291\n",
      "/data/lux70/plaid/artifacts/samples/5j007z42/f317_o3617/240914_1856/latent.npz\n",
      "Found 9 samples for this condition.\n",
      "Need at least 512 samples, as configured.\n",
      "/data/lux70/plaid/artifacts/samples/5j007z42/f336_o3617/240915_0604/latent.npz\n",
      "Found 40611 samples for this condition.\n",
      "f336_o3617 Generated <-> GT FID: 0.3187383925389713\n",
      "f336_o3617 Random Real <-> GT FID: 0.3038999511229689\n",
      "/data/lux70/plaid/artifacts/samples/5j007z42/f359_o3617/240915_1846/latent.npz\n",
      "Found 1 samples for this condition.\n",
      "Need at least 512 samples, as configured.\n",
      "/data/lux70/plaid/artifacts/samples/5j007z42/f111_o3617/240915_0407/latent.npz\n",
      "Found 2357 samples for this condition.\n",
      "f111_o3617 Generated <-> GT FID: 1.7492824615782983\n",
      "f111_o3617 Random Real <-> GT FID: 0.40804279365255336\n",
      "/data/lux70/plaid/artifacts/samples/5j007z42/f327_o3617/240915_0321/latent.npz\n",
      "Found 21977 samples for this condition.\n",
      "f327_o3617 Generated <-> GT FID: 0.1689540868663488\n",
      "f327_o3617 Random Real <-> GT FID: 0.1881749279858296\n",
      "/data/lux70/plaid/artifacts/samples/5j007z42/f175_o3617/240916_0739/latent.npz\n",
      "Found 40398 samples for this condition.\n",
      "f175_o3617 Generated <-> GT FID: 0.11459408116950637\n",
      "f175_o3617 Random Real <-> GT FID: 0.22444612919557183\n",
      "/data/lux70/plaid/artifacts/samples/5j007z42/f352_o3617/240915_1419/latent.npz\n",
      "Found 8598 samples for this condition.\n",
      "f352_o3617 Generated <-> GT FID: 0.802079414256902\n",
      "f352_o3617 Random Real <-> GT FID: 0.3724662537925078\n",
      "/data/lux70/plaid/artifacts/samples/5j007z42/f162_o3617/240916_0234/latent.npz\n",
      "Found 132636 samples for this condition.\n",
      "f162_o3617 Generated <-> GT FID: 0.9551799896944364\n",
      "f162_o3617 Random Real <-> GT FID: 0.368699832272167\n",
      "/data/lux70/plaid/artifacts/samples/5j007z42/f364_o3617/240915_2218/latent.npz\n",
      "Found 1652 samples for this condition.\n",
      "f364_o3617 Generated <-> GT FID: 0.4968763469450737\n",
      "f364_o3617 Random Real <-> GT FID: 0.49172469006800634\n",
      "/data/lux70/plaid/artifacts/samples/5j007z42/f267_o3617/240913_2235/latent.npz\n"
     ]
    }
   ],
   "source": [
    "def cond_code_to_idx(cond_code: str):\n",
    "    vals = cond_code.split(\"_\")\n",
    "    return int(vals[0][1:]), int(vals[1][1:])\n",
    "\n",
    "\n",
    "condgen_to_true = {}\n",
    "uncond_to_true = {}\n",
    "\n",
    "batch_size = 128\n",
    "\n",
    "\n",
    "for i, cond_code in enumerate(os.listdir(samples_dir)):\n",
    "    function_idx, organism_idx = cond_code_to_idx(cond_code)\n",
    "    # timestamps = glob.glob(str(samples_dir / cond_code / \"*.npz\"))\n",
    "    timestamps = os.listdir(samples_dir / cond_code)\n",
    "    \n",
    "    if len(timestamps) > 0:\n",
    "        try:\n",
    "            timestamp = timestamps[-1]\n",
    "            fpath = samples_dir / cond_code / timestamp / \"latent.npz\"\n",
    "            print(fpath)\n",
    "    \n",
    "            cond_fid = ConditionalFID(\n",
    "                function_idx=function_idx,\n",
    "                organism_idx=organism_idx,\n",
    "                cheap_pipeline=cheap_pipeline,\n",
    "                batch_size=batch_size,\n",
    "                max_seq_len=256,\n",
    "                max_eval_samples=512\n",
    "            )\n",
    "            \n",
    "            with np.load(fpath, allow_pickle=True) as f:\n",
    "                x = f['samples'].astype(np.float32)\n",
    "    \n",
    "            feat = x[:, -1, :, :] # take last timestep only\n",
    "            feat = feat.mean(axis=1)\n",
    "            res = cond_fid.run(feat)\n",
    "            print(cond_code, \"Generated <-> GT FID:\", res)\n",
    "    \n",
    "            condgen_to_true[cond_code] = res\n",
    "    \n",
    "            # also try what happens if you do ground truth unconditional to conditional\n",
    "            # res = parmar_fid(feat, gt_x1)\n",
    "            res = parmar_fid(cond_fid.real, gt_x1)\n",
    "            uncond_to_true[cond_code] = res\n",
    "            print(cond_code, \"Random Real <-> GT FID:\", res)\n",
    "        except Exception as e:\n",
    "            print(e)\n",
    "            continue\n",
    "            \n",
    "    else:\n",
    "        pass"
   ]
  },
  {
   "cell_type": "markdown",
   "id": "f3900743-70bc-48da-8503-9009e66afafd",
   "metadata": {},
   "source": [
    "# Plot"
   ]
  },
  {
   "cell_type": "code",
   "execution_count": null,
   "id": "c1e291c4-b544-49d5-b542-7357000c856f",
   "metadata": {},
   "outputs": [],
   "source": [
    "# turn into dataframe\n",
    "df1 = pd.DataFrame(list(condgen_to_true.items()), columns=['Key', 'condgen_to_true'])\n",
    "df2 = pd.DataFrame(list(uncond_to_true.items()), columns=['Key', 'uncond_to_true'])\n",
    "combined_df = pd.merge(df1, df2, on='Key')\n",
    "combined_df[\"GO_idx\"] = combined_df['Key'].map(lambda x: cond_code_to_idx(x)[0])\n",
    "combined_df[\"organism_index\"] = combined_df['Key'].map(lambda x: cond_code_to_idx(x)[1])\n",
    "\n",
    "# attach GO metadata\n",
    "go_df = pd.read_csv(\"/data/lux70/data/pfam/go_index.csv\")\n",
    "combined_df = combined_df.merge(go_df)\n",
    "combined_df = combined_df.sort_values(by=\"count\")\n",
    "combined_df['delta'] = combined_df.condgen_to_true - combined_df.uncond_to_true"
   ]
  },
  {
   "cell_type": "code",
   "execution_count": null,
   "id": "76224d25-8420-482e-bcce-6bdbd75662c7",
   "metadata": {},
   "outputs": [],
   "source": []
  },
  {
   "cell_type": "code",
   "execution_count": null,
   "id": "860597d7-8112-4c27-a4c4-26a358540de2",
   "metadata": {},
   "outputs": [],
   "source": [
    "combined_df"
   ]
  },
  {
   "cell_type": "code",
   "execution_count": null,
   "id": "039fc281-049d-4cb0-8052-c035c6732383",
   "metadata": {},
   "outputs": [],
   "source": [
    "import textwrap\n",
    "\n",
    "from matplotlib import cm\n",
    "from matplotlib.colors import Normalize\n",
    "\n",
    "values = combined_df['delta']\n",
    "norm = Normalize(vmin=min(values), vmax=max(values))\n",
    "\n",
    "colormap = cm.viridis  # You can replace 'viridis' with any other matplotlib colormap\n",
    "colors = colormap(norm(values))\n",
    "\n",
    "\n",
    "fig, ax = plt.subplots(1, 1, dpi=150, figsize=(10,3))\n",
    "ax.scatter(np.arange(len(combined_df)), combined_df['condgen_to_true'].values, label=\"Generated\", s=30, c=colors)\n",
    "# ax.scatter(np.arange(len(combined_df)), combined_df['uncond_to_true'].values, label=\"Random Validation Set Samples\",s=15, c=colors, marker=\"D\")\n",
    "ax.scatter(np.arange(len(combined_df)), combined_df['uncond_to_true'].values, label=\"Random Validation Set Samples\",s=10, c=\"lightskyblue\", marker=\"D\")\n",
    "\n",
    "x_labels = combined_df.GO_term.values\n",
    "wrapped_labels = ['\\n'.join(textwrap.wrap(label, width=35)) for label in x_labels]\n",
    "\n",
    "ax.set_xticks(ticks=np.arange(len(combined_df)), labels=wrapped_labels, rotation=90, fontsize=6)\n",
    "\n",
    "ax.axhline(y=uncond_gt_fid, color='green', linestyle='--', label=\"Natural Proteins\")\n",
    "ax.axhline(y=uncond_gen_fid, color='orange', linestyle='--', label=\"Unconditional FID\")\n",
    "\n",
    "\n",
    "### TODO: modify upper bound on y lim as needed\n",
    "### TODO: wrap text?\n",
    "\n",
    "ax.set_ylim(0,2.0)\n",
    "ax.set_xlabel(\"GO Term (sorted in ascending order of prevalence)\")\n",
    "ax.set_ylabel(\"FID (lower is better)\")\n",
    "\n",
    "plt.legend()"
   ]
  },
  {
   "cell_type": "code",
   "execution_count": null,
   "id": "9784e1b7-26fb-4ede-9ea2-22fed7fa5e61",
   "metadata": {},
   "outputs": [],
   "source": [
    "\" \".join(combined_df[combined_df.delta < 0].Key.values)"
   ]
  },
  {
   "cell_type": "code",
   "execution_count": null,
   "id": "b6c5065e-c1b3-4411-a6df-0100e20765a3",
   "metadata": {},
   "outputs": [],
   "source": []
  },
  {
   "cell_type": "code",
   "execution_count": null,
   "id": "7401ed09-8d69-4a82-81a3-1a83b49460fc",
   "metadata": {},
   "outputs": [],
   "source": [
    "# combined_df.to_csv(\"~/cond_fid_tmp.csv\", sep=\",\")"
   ]
  },
  {
   "cell_type": "markdown",
   "id": "2e0fb1b8-c21a-45c6-b286-60d3b59767c9",
   "metadata": {},
   "source": [
    "# Across Sampling Timesteps"
   ]
  },
  {
   "cell_type": "code",
   "execution_count": null,
   "id": "25e598d1-f2bc-4c5d-b528-d13daf0edd96",
   "metadata": {},
   "outputs": [],
   "source": [
    "!ls /data/lux70/plaid/artifacts/samples/5j007z42/"
   ]
  },
  {
   "cell_type": "code",
   "execution_count": null,
   "id": "50387bde-cebc-4afa-b05c-7840fab3b488",
   "metadata": {},
   "outputs": [],
   "source": [
    "latent_path = Path(\"/data/lux70/plaid/artifacts/samples/5j007z42/f2219_o3617/240915_0802/latent.npz\")\n",
    "\n",
    "with np.load(latent_path) as f:\n",
    "    x = f['samples']"
   ]
  },
  {
   "cell_type": "code",
   "execution_count": null,
   "id": "810427a6-8fcd-45d0-a78a-7190784e0535",
   "metadata": {},
   "outputs": [],
   "source": [
    "from tqdm.notebook import trange\n",
    "\n",
    "fids = []\n",
    "\n",
    "for i in trange(x.shape[1]): # across timesteps\n",
    "    lat = x[:, i, :, :]\n",
    "    fid = parmar_fid(gt_x1, lat.mean(axis=1))\n",
    "    fids.append(fid)\n",
    "\n",
    "print(fids[-1])"
   ]
  },
  {
   "cell_type": "code",
   "execution_count": null,
   "id": "a871ff08-2b12-4aec-b369-4e0b53cf6b5d",
   "metadata": {},
   "outputs": [],
   "source": [
    "fig,ax = plt.subplots(1,1,dpi=200, figsize=(4,4))\n",
    "ax.plot(fids)\n",
    "ax.set_xlabel(\"Sampling Timestep\")\n",
    "ax.set_ylabel(\"FID\")"
   ]
  },
  {
   "cell_type": "code",
   "execution_count": null,
   "id": "0c527894-d4c3-4603-9bd0-e0e86331c483",
   "metadata": {},
   "outputs": [],
   "source": []
  },
  {
   "cell_type": "code",
   "execution_count": null,
   "id": "a2a97935-4ce5-4022-9855-8693a8454ced",
   "metadata": {},
   "outputs": [],
   "source": []
  },
  {
   "cell_type": "code",
   "execution_count": null,
   "id": "6d415b59-0b58-4a4d-be94-1e8b904f231b",
   "metadata": {},
   "outputs": [],
   "source": []
  },
  {
   "cell_type": "code",
   "execution_count": null,
   "id": "d96ac71b-923c-44ca-a3cb-be82a48d93e2",
   "metadata": {},
   "outputs": [],
   "source": []
  },
  {
   "cell_type": "code",
   "execution_count": null,
   "id": "69cee7d0-443c-44e8-9480-63d7c7e58967",
   "metadata": {},
   "outputs": [],
   "source": []
  },
  {
   "cell_type": "code",
   "execution_count": null,
   "id": "0976d5d8-fd29-4978-a543-2b8de3f68c89",
   "metadata": {},
   "outputs": [],
   "source": []
  },
  {
   "cell_type": "code",
   "execution_count": null,
   "id": "f09ba72e-929a-4341-ac12-e4a89a9d12dd",
   "metadata": {},
   "outputs": [],
   "source": []
  },
  {
   "cell_type": "code",
   "execution_count": null,
   "id": "aee9d977-0055-4f0d-8891-76ddb1681644",
   "metadata": {},
   "outputs": [],
   "source": []
  },
  {
   "cell_type": "code",
   "execution_count": null,
   "id": "06e8ef6d-b47e-45f9-b1a3-4192d06ac317",
   "metadata": {},
   "outputs": [],
   "source": []
  },
  {
   "cell_type": "code",
   "execution_count": null,
   "id": "bcd86b4e-9fab-4bf7-abd1-6a7533515dd3",
   "metadata": {},
   "outputs": [],
   "source": []
  },
  {
   "cell_type": "code",
   "execution_count": null,
   "id": "071a16fb-0761-41a7-bf23-41451cdbd75d",
   "metadata": {},
   "outputs": [],
   "source": []
  }
 ],
 "metadata": {
  "kernelspec": {
   "display_name": "Python (plaid-train)",
   "language": "python",
   "name": "plaid-train"
  },
  "language_info": {
   "codemirror_mode": {
    "name": "ipython",
    "version": 3
   },
   "file_extension": ".py",
   "mimetype": "text/x-python",
   "name": "python",
   "nbconvert_exporter": "python",
   "pygments_lexer": "ipython3",
   "version": "3.10.14"
  }
 },
 "nbformat": 4,
 "nbformat_minor": 5
}
