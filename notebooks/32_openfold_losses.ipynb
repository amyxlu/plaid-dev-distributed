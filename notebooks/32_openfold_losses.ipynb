{
 "cells": [
  {
   "cell_type": "code",
   "execution_count": 1,
   "id": "eb592e4d-51d6-4711-ab4c-2092f931491a",
   "metadata": {},
   "outputs": [],
   "source": [
    "%load_ext autoreload\n",
    "%autoreload 2"
   ]
  },
  {
   "cell_type": "code",
   "execution_count": 3,
   "id": "8666ddf0-31df-452f-9b46-09163b7b2d70",
   "metadata": {},
   "outputs": [
    {
     "name": "stdout",
     "output_type": "stream",
     "text": [
      "/homefs/home/lux70/openfold/openfold/__init__.py\n"
     ]
    }
   ],
   "source": [
    "from openfold.utils.loss import lddt_loss, AlphaFoldLoss\n",
    "import openfold\n",
    "import glob\n",
    "import torch\n",
    "from pathlib import Path\n",
    "\n",
    "from plaid.proteins import LatentToStructure, LatentToSequence\n",
    "from plaid.esmfold.misc import batch_encode_sequences\n",
    "from plaid.transforms import trim_or_pad_batch_first\n",
    "\n",
    "print(openfold.__file__)"
   ]
  },
  {
   "cell_type": "markdown",
   "id": "520c726f-9f32-43f1-bc8b-ac1ca3e89e5f",
   "metadata": {},
   "source": [
    "# Process Features from PDB String"
   ]
  },
  {
   "cell_type": "code",
   "execution_count": 4,
   "id": "5cc3fe72-e77b-4481-8506-f9063f35b34d",
   "metadata": {},
   "outputs": [
    {
     "name": "stdout",
     "output_type": "stream",
     "text": [
      "/data/bucket/lux70/data/cath/dompdb/4a9aC01\n"
     ]
    }
   ],
   "source": [
    "shard_dir = \"/homefs/home/lux70/storage/data/cath/shards/\"\n",
    "pdb_dir = \"/data/bucket/lux70/data/cath/dompdb\"\n",
    "\n",
    "pdb_path = glob.glob(f\"{pdb_dir}/*\")[0]\n",
    "print(pdb_path)\n",
    "\n",
    "with open(pdb_path, \"r\") as f:\n",
    "    pdb_str = f.read()\n",
    "# print(pdb_str)"
   ]
  },
  {
   "cell_type": "code",
   "execution_count": 5,
   "id": "38cc3ab8-279d-4856-845c-f6ca3a502b26",
   "metadata": {},
   "outputs": [],
   "source": [
    "from plaid.openfold_utils import protein_from_pdb_string, make_pdb_features\n",
    "\n",
    "\n",
    "protein_object = protein_from_pdb_string(pdb_str)\n",
    "pdb_id = Path(pdb_path).stem\n",
    "\n",
    "# TODO: what is the `is_distillation` argument?\n",
    "protein_features = make_pdb_features(\n",
    "    protein_object, description=pdb_id, is_distillation=False\n",
    ")"
   ]
  },
  {
   "cell_type": "code",
   "execution_count": 6,
   "id": "effabbab-2e64-4f4a-9a24-be5e5a9393fe",
   "metadata": {},
   "outputs": [
    {
     "name": "stdout",
     "output_type": "stream",
     "text": [
      "['aatype',\n",
      " 'all_atom_mask',\n",
      " 'all_atom_positions',\n",
      " 'between_segment_residues',\n",
      " 'domain_name',\n",
      " 'is_distillation',\n",
      " 'residue_index',\n",
      " 'resolution',\n",
      " 'seq_length',\n",
      " 'sequence']\n"
     ]
    }
   ],
   "source": [
    "import pprint\n",
    "\n",
    "pdb_feat_keys = list(protein_features.keys())\n",
    "pdb_feat_keys.sort()\n",
    "pprint.pprint(pdb_feat_keys)"
   ]
  },
  {
   "cell_type": "code",
   "execution_count": 7,
   "id": "ab4912d8-dfb0-4308-96a0-7736f81a5d72",
   "metadata": {},
   "outputs": [
    {
     "data": {
      "text/plain": [
       "'LEKQPKITLEEFIETERGKLDKSKLTPITIANFAQWKKDHVIAKINAEKKLSSKRKPTGREIILKMSAE'"
      ]
     },
     "execution_count": 7,
     "metadata": {},
     "output_type": "execute_result"
    }
   ],
   "source": [
    "sequence = protein_features['sequence'][0].decode()\n",
    "sequence"
   ]
  },
  {
   "cell_type": "code",
   "execution_count": 8,
   "id": "0fcb14e1-7aac-4528-af7e-191998c6cf0c",
   "metadata": {},
   "outputs": [
    {
     "name": "stdout",
     "output_type": "stream",
     "text": [
      "[[[0, 0, 0, 0], [0, 0, 0, 0], [0, 0, 0, 0], [0, 0, 0, 0]], [[0, 1, 3, 5], [1, 3, 5, 11], [3, 5, 11, 23], [5, 11, 23, 32]], [[0, 1, 3, 5], [1, 3, 5, 16], [0, 0, 0, 0], [0, 0, 0, 0]], [[0, 1, 3, 5], [1, 3, 5, 16], [0, 0, 0, 0], [0, 0, 0, 0]], [[0, 1, 3, 10], [0, 0, 0, 0], [0, 0, 0, 0], [0, 0, 0, 0]], [[0, 1, 3, 5], [1, 3, 5, 11], [3, 5, 11, 26], [0, 0, 0, 0]], [[0, 1, 3, 5], [1, 3, 5, 11], [3, 5, 11, 26], [0, 0, 0, 0]], [[0, 0, 0, 0], [0, 0, 0, 0], [0, 0, 0, 0], [0, 0, 0, 0]], [[0, 1, 3, 5], [1, 3, 5, 14], [0, 0, 0, 0], [0, 0, 0, 0]], [[0, 1, 3, 6], [1, 3, 6, 12], [0, 0, 0, 0], [0, 0, 0, 0]], [[0, 1, 3, 5], [1, 3, 5, 12], [0, 0, 0, 0], [0, 0, 0, 0]], [[0, 1, 3, 5], [1, 3, 5, 11], [3, 5, 11, 19], [5, 11, 19, 35]], [[0, 1, 3, 5], [1, 3, 5, 18], [3, 5, 18, 19], [0, 0, 0, 0]], [[0, 1, 3, 5], [1, 3, 5, 12], [0, 0, 0, 0], [0, 0, 0, 0]], [[0, 1, 3, 5], [1, 3, 5, 11], [0, 0, 0, 0], [0, 0, 0, 0]], [[0, 1, 3, 8], [0, 0, 0, 0], [0, 0, 0, 0], [0, 0, 0, 0]], [[0, 1, 3, 9], [0, 0, 0, 0], [0, 0, 0, 0], [0, 0, 0, 0]], [[0, 1, 3, 5], [1, 3, 5, 12], [0, 0, 0, 0], [0, 0, 0, 0]], [[0, 1, 3, 5], [1, 3, 5, 12], [0, 0, 0, 0], [0, 0, 0, 0]], [[0, 1, 3, 6], [0, 0, 0, 0], [0, 0, 0, 0], [0, 0, 0, 0]], [[0, 0, 0, 0], [0, 0, 0, 0], [0, 0, 0, 0], [0, 0, 0, 0]]]\n"
     ]
    }
   ],
   "source": [
    "from plaid.openfold_utils import get_chi_atom_indices\n",
    "\n",
    "chi_idxs = get_chi_atom_indices()\n",
    "print(chi_idxs)"
   ]
  },
  {
   "cell_type": "code",
   "execution_count": 9,
   "id": "e33e3763-9012-446a-b752-4b1dcc7e5f07",
   "metadata": {},
   "outputs": [],
   "source": [
    "pdb_feats = {}\n",
    "import numpy as np\n",
    "\n",
    "for k, v in protein_features.items():\n",
    "    if not v.dtype == np.object_:\n",
    "        pdb_feats[k] = torch.from_numpy(v).cuda()"
   ]
  },
  {
   "cell_type": "code",
   "execution_count": 10,
   "id": "1ae10a57-28bd-43b6-9b26-0cc50b8b47da",
   "metadata": {},
   "outputs": [],
   "source": [
    "from plaid.openfold_utils._data_transforms import *\n",
    "\n",
    "def pretty_print(p):\n",
    "    pprint.pprint(list(p.keys()))\n",
    "    print(\"\\n _______ \\n\")"
   ]
  },
  {
   "cell_type": "code",
   "execution_count": 11,
   "id": "8e590b88-2da1-4524-b1d8-35cb5bd55d4e",
   "metadata": {},
   "outputs": [
    {
     "name": "stdout",
     "output_type": "stream",
     "text": [
      "['aatype',\n",
      " 'between_segment_residues',\n",
      " 'residue_index',\n",
      " 'seq_length',\n",
      " 'all_atom_positions',\n",
      " 'all_atom_mask',\n",
      " 'resolution',\n",
      " 'is_distillation',\n",
      " 'all_atom_aatype']\n",
      "\n",
      " _______ \n",
      "\n",
      "['aatype',\n",
      " 'between_segment_residues',\n",
      " 'residue_index',\n",
      " 'seq_length',\n",
      " 'all_atom_positions',\n",
      " 'all_atom_mask',\n",
      " 'resolution',\n",
      " 'is_distillation',\n",
      " 'all_atom_aatype',\n",
      " 'seq_mask']\n",
      "\n",
      " _______ \n",
      "\n",
      "['aatype',\n",
      " 'between_segment_residues',\n",
      " 'residue_index',\n",
      " 'seq_length',\n",
      " 'all_atom_positions',\n",
      " 'all_atom_mask',\n",
      " 'resolution',\n",
      " 'is_distillation',\n",
      " 'all_atom_aatype',\n",
      " 'seq_mask',\n",
      " 'atom14_atom_exists',\n",
      " 'residx_atom14_to_atom37',\n",
      " 'residx_atom37_to_atom14',\n",
      " 'atom37_atom_exists']\n",
      "\n",
      " _______ \n",
      "\n",
      "['aatype',\n",
      " 'between_segment_residues',\n",
      " 'residue_index',\n",
      " 'seq_length',\n",
      " 'all_atom_positions',\n",
      " 'all_atom_mask',\n",
      " 'resolution',\n",
      " 'is_distillation',\n",
      " 'all_atom_aatype',\n",
      " 'seq_mask',\n",
      " 'atom14_atom_exists',\n",
      " 'residx_atom14_to_atom37',\n",
      " 'residx_atom37_to_atom14',\n",
      " 'atom37_atom_exists',\n",
      " 'atom14_gt_exists',\n",
      " 'atom14_gt_positions',\n",
      " 'atom14_alt_gt_positions',\n",
      " 'atom14_alt_gt_exists',\n",
      " 'atom14_atom_is_ambiguous']\n",
      "\n",
      " _______ \n",
      "\n",
      "['aatype',\n",
      " 'between_segment_residues',\n",
      " 'residue_index',\n",
      " 'seq_length',\n",
      " 'all_atom_positions',\n",
      " 'all_atom_mask',\n",
      " 'resolution',\n",
      " 'is_distillation',\n",
      " 'all_atom_aatype',\n",
      " 'seq_mask',\n",
      " 'atom14_atom_exists',\n",
      " 'residx_atom14_to_atom37',\n",
      " 'residx_atom37_to_atom14',\n",
      " 'atom37_atom_exists',\n",
      " 'atom14_gt_exists',\n",
      " 'atom14_gt_positions',\n",
      " 'atom14_alt_gt_positions',\n",
      " 'atom14_alt_gt_exists',\n",
      " 'atom14_atom_is_ambiguous',\n",
      " 'rigidgroups_gt_frames',\n",
      " 'rigidgroups_gt_exists',\n",
      " 'rigidgroups_group_exists',\n",
      " 'rigidgroups_group_is_ambiguous',\n",
      " 'rigidgroups_alt_gt_frames']\n",
      "\n",
      " _______ \n",
      "\n",
      "['aatype',\n",
      " 'between_segment_residues',\n",
      " 'residue_index',\n",
      " 'seq_length',\n",
      " 'all_atom_positions',\n",
      " 'all_atom_mask',\n",
      " 'resolution',\n",
      " 'is_distillation',\n",
      " 'all_atom_aatype',\n",
      " 'seq_mask',\n",
      " 'atom14_atom_exists',\n",
      " 'residx_atom14_to_atom37',\n",
      " 'residx_atom37_to_atom14',\n",
      " 'atom37_atom_exists',\n",
      " 'atom14_gt_exists',\n",
      " 'atom14_gt_positions',\n",
      " 'atom14_alt_gt_positions',\n",
      " 'atom14_alt_gt_exists',\n",
      " 'atom14_atom_is_ambiguous',\n",
      " 'rigidgroups_gt_frames',\n",
      " 'rigidgroups_gt_exists',\n",
      " 'rigidgroups_group_exists',\n",
      " 'rigidgroups_group_is_ambiguous',\n",
      " 'rigidgroups_alt_gt_frames',\n",
      " 'backbone_rigid_tensor',\n",
      " 'backbone_rigid_mask']\n",
      "\n",
      " _______ \n",
      "\n"
     ]
    }
   ],
   "source": [
    "p = make_all_atom_aatype(pdb_feats)\n",
    "pretty_print(p)\n",
    "\n",
    "p = make_seq_mask(p)\n",
    "pretty_print(p)\n",
    "\n",
    "p = make_atom14_masks(p)\n",
    "pretty_print(p)\n",
    "\n",
    "p = make_atom14_positions(p)\n",
    "pretty_print(p)\n",
    "\n",
    "p = atom37_to_frames(p)\n",
    "pretty_print(p)\n",
    "\n",
    "p = get_backbone_frames(p)\n",
    "pretty_print(p)\n",
    "\n",
    "# f = make_pseudo_beta(\"\")\n",
    "# p = f(p)\n",
    "# pretty_print(p)\n",
    "\n",
    "# f = atom37_to_torsion_angles(\"\")\n",
    "# p = f(p)\n",
    "# pretty_print(p)\n",
    "\n",
    "# p = get_chi_angles(p)\n",
    "# pretty_print(p)"
   ]
  },
  {
   "cell_type": "code",
   "execution_count": 12,
   "id": "1b7687f4-e163-4ec6-8956-a2e2c4fddaa0",
   "metadata": {},
   "outputs": [
    {
     "name": "stdout",
     "output_type": "stream",
     "text": [
      "aatype torch.Size([69, 21])\n",
      "between_segment_residues torch.Size([69])\n",
      "residue_index torch.Size([69])\n",
      "seq_length torch.Size([69])\n",
      "all_atom_positions torch.Size([69, 37, 3])\n",
      "all_atom_mask torch.Size([69, 37])\n",
      "resolution torch.Size([1])\n",
      "is_distillation torch.Size([])\n",
      "all_atom_aatype torch.Size([69, 21])\n",
      "seq_mask torch.Size([69, 21])\n",
      "atom14_atom_exists torch.Size([69, 21, 14])\n",
      "residx_atom14_to_atom37 torch.Size([69, 21, 14])\n",
      "residx_atom37_to_atom14 torch.Size([69, 21, 37])\n",
      "atom37_atom_exists torch.Size([69, 21, 37])\n",
      "atom14_gt_exists torch.Size([69, 21, 14])\n",
      "atom14_gt_positions torch.Size([69, 21, 14, 3])\n",
      "atom14_alt_gt_positions torch.Size([69, 21, 14, 3])\n",
      "atom14_alt_gt_exists torch.Size([69, 21, 14])\n",
      "atom14_atom_is_ambiguous torch.Size([69, 21, 14])\n",
      "rigidgroups_gt_frames torch.Size([69, 21, 8, 4, 4])\n",
      "rigidgroups_gt_exists torch.Size([69, 21, 8])\n",
      "rigidgroups_group_exists torch.Size([69, 21, 8])\n",
      "rigidgroups_group_is_ambiguous torch.Size([69, 21, 8])\n",
      "rigidgroups_alt_gt_frames torch.Size([69, 21, 8, 4, 4])\n",
      "backbone_rigid_tensor torch.Size([69, 21, 4, 4])\n",
      "backbone_rigid_mask torch.Size([69, 21])\n"
     ]
    }
   ],
   "source": [
    "for k, v in p.items():\n",
    "    try:\n",
    "        print(k, v.shape)\n",
    "    except:\n",
    "        print(k)\n",
    "        pass"
   ]
  },
  {
   "cell_type": "code",
   "execution_count": 14,
   "id": "267e5c8e-f3d2-4368-98b0-cca29d49386f",
   "metadata": {},
   "outputs": [],
   "source": [
    "# f = make_pseudo_beta(\"\")\n",
    "# p = f(p)\n",
    "# pretty_print(p)\n",
    "\n",
    "# # f = atom37_to_torsion_angles(\"\")\n",
    "# # p = f(p)\n",
    "# # pretty_print(p)\n",
    "\n",
    "# # p = get_chi_angles(p)\n",
    "# # pretty_print(p)"
   ]
  },
  {
   "cell_type": "markdown",
   "id": "f542e5c0-eb56-4398-bfc8-1410eb5cdb0d",
   "metadata": {},
   "source": [
    "### Fixed Structure Feature Parser"
   ]
  },
  {
   "cell_type": "code",
   "execution_count": 15,
   "id": "2211a008-8e83-40a5-9e8b-f8af390ef075",
   "metadata": {},
   "outputs": [
    {
     "name": "stdout",
     "output_type": "stream",
     "text": [
      "32\n"
     ]
    }
   ],
   "source": [
    "# get saved embedding\n",
    "from plaid.datasets import CATHStructureDataModule\n",
    "\n",
    "shard_dir = \"/homefs/home/lux70/storage/data/cath/shards/\"\n",
    "pdb_dir = \"/data/bucket/lux70/data/cath/dompdb\"\n",
    "# shard_dir = \"/homefs/home/lux70/storage/data/rocklin/shards/\"\n",
    "# pdb_dir = \"/data/bucket/lux70/data/rocklin/structures/\"\n",
    "\n",
    "max_seq_len=256\n",
    "dm = CATHStructureDataModule(\n",
    "    shard_dir,\n",
    "    pdb_dir,\n",
    "    seq_len=max_seq_len,\n",
    "    batch_size=32,\n",
    "    max_num_samples=32,\n",
    "    shuffle_val_dataset=False\n",
    ") \n",
    "    \n",
    "dm.setup()\n",
    "val_dataloader = dm.val_dataloader()\n",
    "next_batch = next(iter(val_dataloader))\n",
    "print(len(val_dataloader.dataset))"
   ]
  },
  {
   "cell_type": "code",
   "execution_count": 16,
   "id": "f3a0a393-ae06-4b6f-8a1f-c010d3d4be74",
   "metadata": {},
   "outputs": [
    {
     "name": "stdout",
     "output_type": "stream",
     "text": [
      "dict_keys(['aatype', 'between_segment_residues', 'domain_name', 'residue_index', 'seq_length', 'sequence', 'all_atom_positions', 'all_atom_mask', 'resolution', 'is_distillation', 'mask', 'all_atom_aatype', 'seq_mask', 'atom14_atom_exists', 'residx_atom14_to_atom37', 'residx_atom37_to_atom14', 'atom37_atom_exists', 'atom14_gt_exists', 'atom14_gt_positions', 'atom14_alt_gt_positions', 'atom14_alt_gt_exists', 'atom14_atom_is_ambiguous', 'rigidgroups_gt_frames', 'rigidgroups_gt_exists', 'rigidgroups_group_exists', 'rigidgroups_group_is_ambiguous', 'rigidgroups_alt_gt_frames', 'backbone_rigid_tensor', 'backbone_rigid_mask'])\n"
     ]
    }
   ],
   "source": [
    "x, sequence, batch = next_batch\n",
    "print(batch.keys())"
   ]
  },
  {
   "cell_type": "code",
   "execution_count": 17,
   "id": "71af61ff-fd2b-43d4-815a-a6cbbd63c557",
   "metadata": {},
   "outputs": [
    {
     "ename": "NameError",
     "evalue": "name 'device' is not defined",
     "output_type": "error",
     "traceback": [
      "\u001b[0;31m---------------------------------------------------------------------------\u001b[0m",
      "\u001b[0;31mNameError\u001b[0m                                 Traceback (most recent call last)",
      "Cell \u001b[0;32mIn[17], line 3\u001b[0m\n\u001b[1;32m      1\u001b[0m \u001b[38;5;66;03m# get corresponding mask, to be used later\u001b[39;00m\n\u001b[1;32m      2\u001b[0m _, mask, _, _, _ \u001b[38;5;241m=\u001b[39m batch_encode_sequences(sequence)\n\u001b[0;32m----> 3\u001b[0m mask \u001b[38;5;241m=\u001b[39m trim_or_pad_batch_first(mask, pad_to\u001b[38;5;241m=\u001b[39mmax_seq_len, pad_idx\u001b[38;5;241m=\u001b[39m\u001b[38;5;241m0\u001b[39m)\u001b[38;5;241m.\u001b[39mto(\u001b[43mdevice\u001b[49m)\n\u001b[1;32m      5\u001b[0m \u001b[38;5;66;03m# implicitly calls Openfold structure module\u001b[39;00m\n\u001b[1;32m      6\u001b[0m latent_to_structure \u001b[38;5;241m=\u001b[39m LatentToStructure()\n",
      "\u001b[0;31mNameError\u001b[0m: name 'device' is not defined"
     ]
    }
   ],
   "source": [
    "# get corresponding mask, to be used later\n",
    "_, mask, _, _, _ = batch_encode_sequences(sequence)\n",
    "mask = trim_or_pad_batch_first(mask, pad_to=max_seq_len, pad_idx=0).to(device)\n",
    "\n",
    "# implicitly calls Openfold structure module\n",
    "latent_to_structure = LatentToStructure()\n",
    "latent_to_structure.to(device)\n",
    "struct = latent_to_structure.to_structure(x, sequence, return_raw_features=True, batch_size=4, num_recycles=1)"
   ]
  },
  {
   "cell_type": "code",
   "execution_count": null,
   "id": "abbb055b-75bf-43ec-8be5-bcd833a60717",
   "metadata": {},
   "outputs": [],
   "source": [
    "out = struct[-1][0]\n",
    "pretty_print(out)"
   ]
  },
  {
   "cell_type": "code",
   "execution_count": 78,
   "id": "ad778d71-e530-4aad-8c20-6fa738232289",
   "metadata": {},
   "outputs": [
    {
     "data": {
      "text/plain": [
       "1"
      ]
     },
     "execution_count": 78,
     "metadata": {},
     "output_type": "execute_result"
    }
   ],
   "source": [
    "from openfold.np import residue_constants\n",
    "residue_constants.atom_order['CA']"
   ]
  },
  {
   "cell_type": "markdown",
   "id": "382f4d5f-3545-40f2-848f-5819af631435",
   "metadata": {},
   "source": [
    "## Examine key shapes "
   ]
  },
  {
   "cell_type": "code",
   "execution_count": 79,
   "id": "db1a9faa-a65c-4ef4-a116-5f84b016b458",
   "metadata": {},
   "outputs": [
    {
     "name": "stdout",
     "output_type": "stream",
     "text": [
      "torch.Size([8, 4, 256, 14, 3])\n"
     ]
    }
   ],
   "source": [
    "print(out['positions'].shape)"
   ]
  },
  {
   "cell_type": "markdown",
   "id": "fb92b288-06fd-422b-9d66-d3c236573302",
   "metadata": {},
   "source": [
    "### Renaming"
   ]
  },
  {
   "cell_type": "code",
   "execution_count": 81,
   "id": "cde79dee-2875-44b2-9eec-f08360b11412",
   "metadata": {},
   "outputs": [
    {
     "ename": "KeyError",
     "evalue": "'atom14_gt_positions'",
     "output_type": "error",
     "traceback": [
      "\u001b[0;31m---------------------------------------------------------------------------\u001b[0m",
      "\u001b[0;31mKeyError\u001b[0m                                  Traceback (most recent call last)",
      "Cell \u001b[0;32mIn[81], line 3\u001b[0m\n\u001b[1;32m      1\u001b[0m \u001b[38;5;66;03m# from openfold.utils.loss import compute_renamed_ground_truth\u001b[39;00m\n\u001b[1;32m      2\u001b[0m \u001b[38;5;28;01mfrom\u001b[39;00m \u001b[38;5;21;01mplaid\u001b[39;00m\u001b[38;5;21;01m.\u001b[39;00m\u001b[38;5;21;01mopenfold_utils\u001b[39;00m\u001b[38;5;21;01m.\u001b[39;00m\u001b[38;5;21;01m_losses\u001b[39;00m \u001b[38;5;28;01mimport\u001b[39;00m compute_renamed_ground_truth\n\u001b[0;32m----> 3\u001b[0m outd  \u001b[38;5;241m=\u001b[39m \u001b[43mcompute_renamed_ground_truth\u001b[49m\u001b[43m(\u001b[49m\u001b[43mbatch\u001b[49m\u001b[43m,\u001b[49m\u001b[43m \u001b[49m\u001b[43mout\u001b[49m\u001b[43m[\u001b[49m\u001b[38;5;124;43m'\u001b[39;49m\u001b[38;5;124;43mpositions\u001b[39;49m\u001b[38;5;124;43m'\u001b[39;49m\u001b[43m]\u001b[49m\u001b[43m)\u001b[49m\n\u001b[1;32m      4\u001b[0m outd\u001b[38;5;241m.\u001b[39mkeys()\n\u001b[1;32m      6\u001b[0m \u001b[38;5;66;03m# ipdb>  atom14_pred_positions.shape\u001b[39;00m\n\u001b[1;32m      7\u001b[0m \u001b[38;5;66;03m# torch.Size([8, 4, 256, 14, 3])\u001b[39;00m\n\u001b[1;32m      8\u001b[0m \n\u001b[1;32m      9\u001b[0m \u001b[38;5;66;03m# ipdb>  batch[\"atom14_gt_positions\"].shape\u001b[39;00m\n\u001b[1;32m     10\u001b[0m \u001b[38;5;66;03m# torch.Size([69, 21, 14, 3])\u001b[39;00m\n",
      "File \u001b[0;32m~/code/plaid/src/plaid/openfold_utils/_losses.py:1503\u001b[0m, in \u001b[0;36mcompute_renamed_ground_truth\u001b[0;34m(batch, atom14_pred_positions, eps)\u001b[0m\n\u001b[1;32m   1463\u001b[0m \u001b[38;5;250m\u001b[39m\u001b[38;5;124;03m\"\"\"\u001b[39;00m\n\u001b[1;32m   1464\u001b[0m \u001b[38;5;124;03mFind optimal renaming of ground truth based on the predicted positions.\u001b[39;00m\n\u001b[1;32m   1465\u001b[0m \n\u001b[0;32m   (...)\u001b[0m\n\u001b[1;32m   1488\u001b[0m \u001b[38;5;124;03m    renamed_atom14_gt_exists: Mask after renaming swap is performed.\u001b[39;00m\n\u001b[1;32m   1489\u001b[0m \u001b[38;5;124;03m\"\"\"\u001b[39;00m\n\u001b[1;32m   1491\u001b[0m pred_dists \u001b[38;5;241m=\u001b[39m torch\u001b[38;5;241m.\u001b[39msqrt(\n\u001b[1;32m   1492\u001b[0m     eps\n\u001b[1;32m   1493\u001b[0m     \u001b[38;5;241m+\u001b[39m torch\u001b[38;5;241m.\u001b[39msum(\n\u001b[0;32m   (...)\u001b[0m\n\u001b[1;32m   1500\u001b[0m     )\n\u001b[1;32m   1501\u001b[0m )\n\u001b[0;32m-> 1503\u001b[0m atom14_gt_positions \u001b[38;5;241m=\u001b[39m \u001b[43mbatch\u001b[49m\u001b[43m[\u001b[49m\u001b[38;5;124;43m\"\u001b[39;49m\u001b[38;5;124;43matom14_gt_positions\u001b[39;49m\u001b[38;5;124;43m\"\u001b[39;49m\u001b[43m]\u001b[49m\n\u001b[1;32m   1504\u001b[0m gt_dists \u001b[38;5;241m=\u001b[39m torch\u001b[38;5;241m.\u001b[39msqrt(\n\u001b[1;32m   1505\u001b[0m     eps\n\u001b[1;32m   1506\u001b[0m     \u001b[38;5;241m+\u001b[39m torch\u001b[38;5;241m.\u001b[39msum(\n\u001b[0;32m   (...)\u001b[0m\n\u001b[1;32m   1513\u001b[0m     )\n\u001b[1;32m   1514\u001b[0m )\n\u001b[1;32m   1516\u001b[0m atom14_alt_gt_positions \u001b[38;5;241m=\u001b[39m batch[\u001b[38;5;124m\"\u001b[39m\u001b[38;5;124matom14_alt_gt_positions\u001b[39m\u001b[38;5;124m\"\u001b[39m]\n",
      "\u001b[0;31mKeyError\u001b[0m: 'atom14_gt_positions'"
     ]
    }
   ],
   "source": [
    "# from openfold.utils.loss import compute_renamed_ground_truth\n",
    "from plaid.openfold_utils._losses import compute_renamed_ground_truth\n",
    "outd  = compute_renamed_ground_truth(batch, out['positions'])\n",
    "outd.keys()\n",
    "\n",
    "# ipdb>  atom14_pred_positions.shape\n",
    "# torch.Size([8, 4, 256, 14, 3])\n",
    "\n",
    "# ipdb>  batch[\"atom14_gt_positions\"].shape\n",
    "# torch.Size([69, 21, 14, 3])"
   ]
  },
  {
   "cell_type": "markdown",
   "id": "686743b5-1329-4f6b-9c07-cce391acf310",
   "metadata": {},
   "source": [
    "## Get loss config"
   ]
  },
  {
   "cell_type": "code",
   "execution_count": 48,
   "id": "27189a36-b291-4613-aa75-daa2985ff1a2",
   "metadata": {},
   "outputs": [
    {
     "name": "stdout",
     "output_type": "stream",
     "text": [
      "<class 'ml_collections.config_dict.config_dict.ConfigDict'>\n",
      "['data', 'ema', 'globals', 'loss', 'model', 'relax']\n",
      "['distogram', 'eps', 'experimentally_resolved', 'fape', 'masked_msa', 'plddt_loss', 'supervised_chi', 'tm', 'violation']\n",
      "['backbone', 'eps', 'sidechain', 'weight']\n"
     ]
    }
   ],
   "source": [
    "from openfold.config import model_config\n",
    "config = model_config(name=\"initial_training\", train=True)\n",
    "print(type(config))\n",
    "print(config.keys())\n",
    "print(config.loss.keys())\n",
    "print(config.loss.fape.keys())"
   ]
  },
  {
   "cell_type": "markdown",
   "id": "18165e84-81c0-4b5a-a127-8f5a0a1edae9",
   "metadata": {},
   "source": [
    "# Try Losses"
   ]
  },
  {
   "cell_type": "code",
   "execution_count": 46,
   "id": "49dea87a-24ed-4ca3-82a3-5a4389600a15",
   "metadata": {},
   "outputs": [
    {
     "name": "stdout",
     "output_type": "stream",
     "text": [
      "dict_keys(['aatype', 'between_segment_residues', 'residue_index', 'seq_length', 'all_atom_positions', 'all_atom_mask', 'resolution', 'is_distillation', 'all_atom_aatype', 'seq_mask', 'atom14_atom_exists', 'residx_atom14_to_atom37', 'residx_atom37_to_atom14', 'atom37_atom_exists', 'atom14_gt_exists', 'atom14_gt_positions', 'atom14_alt_gt_positions', 'atom14_alt_gt_exists', 'atom14_atom_is_ambiguous', 'rigidgroups_gt_frames', 'rigidgroups_gt_exists', 'rigidgroups_group_exists', 'rigidgroups_group_is_ambiguous', 'rigidgroups_alt_gt_frames', 'backbone_rigid_tensor', 'backbone_rigid_mask'])\n"
     ]
    }
   ],
   "source": [
    "from copy import deepcopy\n",
    "\n",
    "batch = deepcopy(p)\n",
    "print(batch.keys())"
   ]
  },
  {
   "cell_type": "markdown",
   "id": "2f411a52-d751-45c3-8fd2-9366fd18869c",
   "metadata": {},
   "source": [
    "## Sidechain Loss"
   ]
  },
  {
   "cell_type": "code",
   "execution_count": 49,
   "id": "1fb333ee-7759-4dbc-bd2d-a8b6f0615ac5",
   "metadata": {},
   "outputs": [
    {
     "ename": "TypeError",
     "evalue": "sidechain_loss() missing 3 required positional arguments: 'renamed_atom14_gt_positions', 'renamed_atom14_gt_exists', and 'alt_naming_is_better'",
     "output_type": "error",
     "traceback": [
      "\u001b[0;31m---------------------------------------------------------------------------\u001b[0m",
      "\u001b[0;31mTypeError\u001b[0m                                 Traceback (most recent call last)",
      "Cell \u001b[0;32mIn[49], line 3\u001b[0m\n\u001b[1;32m      1\u001b[0m \u001b[38;5;28;01mfrom\u001b[39;00m \u001b[38;5;21;01mopenfold\u001b[39;00m\u001b[38;5;21;01m.\u001b[39;00m\u001b[38;5;21;01mutils\u001b[39;00m\u001b[38;5;21;01m.\u001b[39;00m\u001b[38;5;21;01mloss\u001b[39;00m \u001b[38;5;28;01mimport\u001b[39;00m sidechain_loss\n\u001b[0;32m----> 3\u001b[0m sc_loss \u001b[38;5;241m=\u001b[39m \u001b[43msidechain_loss\u001b[49m\u001b[43m(\u001b[49m\n\u001b[1;32m      4\u001b[0m \u001b[43m    \u001b[49m\u001b[43mout\u001b[49m\u001b[43m[\u001b[49m\u001b[38;5;124;43m\"\u001b[39;49m\u001b[38;5;124;43msidechain_frames\u001b[39;49m\u001b[38;5;124;43m\"\u001b[39;49m\u001b[43m]\u001b[49m\u001b[43m,\u001b[49m\n\u001b[1;32m      5\u001b[0m \u001b[43m    \u001b[49m\u001b[43mout\u001b[49m\u001b[43m[\u001b[49m\u001b[38;5;124;43m\"\u001b[39;49m\u001b[38;5;124;43mpositions\u001b[39;49m\u001b[38;5;124;43m\"\u001b[39;49m\u001b[43m]\u001b[49m\u001b[43m,\u001b[49m\n\u001b[1;32m      6\u001b[0m \u001b[43m    \u001b[49m\u001b[38;5;241;43m*\u001b[39;49m\u001b[38;5;241;43m*\u001b[39;49m\u001b[43m{\u001b[49m\u001b[38;5;241;43m*\u001b[39;49m\u001b[38;5;241;43m*\u001b[39;49m\u001b[43mbatch\u001b[49m\u001b[43m,\u001b[49m\u001b[43m \u001b[49m\u001b[38;5;241;43m*\u001b[39;49m\u001b[38;5;241;43m*\u001b[39;49m\u001b[43mconfig\u001b[49m\u001b[38;5;241;43m.\u001b[39;49m\u001b[43mloss\u001b[49m\u001b[38;5;241;43m.\u001b[39;49m\u001b[43mfape\u001b[49m\u001b[38;5;241;43m.\u001b[39;49m\u001b[43msidechain\u001b[49m\u001b[43m}\u001b[49m\u001b[43m,\u001b[49m\n\u001b[1;32m      7\u001b[0m \u001b[43m)\u001b[49m\n",
      "\u001b[0;31mTypeError\u001b[0m: sidechain_loss() missing 3 required positional arguments: 'renamed_atom14_gt_positions', 'renamed_atom14_gt_exists', and 'alt_naming_is_better'"
     ]
    }
   ],
   "source": [
    "from openfold.utils.loss import sidechain_loss\n",
    "\n",
    "sc_loss = sidechain_loss(\n",
    "    out[\"sidechain_frames\"],\n",
    "    out[\"positions\"],\n",
    "    **{**batch, **config.loss.fape.sidechain},\n",
    ")"
   ]
  },
  {
   "cell_type": "code",
   "execution_count": null,
   "id": "e9865f47-5a34-4574-8ffc-b9687544ceeb",
   "metadata": {},
   "outputs": [],
   "source": []
  },
  {
   "cell_type": "code",
   "execution_count": null,
   "id": "115909a3-8e09-4f44-981e-b717dd377ca9",
   "metadata": {},
   "outputs": [],
   "source": []
  },
  {
   "cell_type": "markdown",
   "id": "4535e9a1-145c-4014-9323-0b50ec41b680",
   "metadata": {},
   "source": [
    "## Distogram Loss"
   ]
  },
  {
   "cell_type": "code",
   "execution_count": null,
   "id": "d7a3c7d1-c944-4389-92b0-7a7fab7bf61f",
   "metadata": {},
   "outputs": [],
   "source": []
  },
  {
   "cell_type": "code",
   "execution_count": 19,
   "id": "8c900bad-adea-4ddb-beb7-2bb2ca996c9e",
   "metadata": {},
   "outputs": [
    {
     "ename": "TypeError",
     "evalue": "distogram_loss() missing 2 required positional arguments: 'pseudo_beta' and 'pseudo_beta_mask'",
     "output_type": "error",
     "traceback": [
      "\u001b[0;31m---------------------------------------------------------------------------\u001b[0m",
      "\u001b[0;31mTypeError\u001b[0m                                 Traceback (most recent call last)",
      "Cell \u001b[0;32mIn[19], line 2\u001b[0m\n\u001b[1;32m      1\u001b[0m \u001b[38;5;28;01mfrom\u001b[39;00m \u001b[38;5;21;01mopenfold\u001b[39;00m\u001b[38;5;21;01m.\u001b[39;00m\u001b[38;5;21;01mutils\u001b[39;00m\u001b[38;5;21;01m.\u001b[39;00m\u001b[38;5;21;01mloss\u001b[39;00m \u001b[38;5;28;01mimport\u001b[39;00m distogram_loss\n\u001b[0;32m----> 2\u001b[0m \u001b[43mdistogram_loss\u001b[49m\u001b[43m(\u001b[49m\u001b[43mout\u001b[49m\u001b[43m[\u001b[49m\u001b[38;5;124;43m'\u001b[39;49m\u001b[38;5;124;43mdistogram_logits\u001b[39;49m\u001b[38;5;124;43m'\u001b[39;49m\u001b[43m]\u001b[49m\u001b[43m,\u001b[49m\u001b[43m \u001b[49m\u001b[38;5;241;43m*\u001b[39;49m\u001b[38;5;241;43m*\u001b[39;49m\u001b[43m{\u001b[49m\u001b[38;5;241;43m*\u001b[39;49m\u001b[38;5;241;43m*\u001b[39;49m\u001b[43mbatch\u001b[49m\u001b[43m,\u001b[49m\u001b[43m \u001b[49m\u001b[38;5;241;43m*\u001b[39;49m\u001b[38;5;241;43m*\u001b[39;49m\u001b[43mconfig\u001b[49m\u001b[38;5;241;43m.\u001b[39;49m\u001b[43mloss\u001b[49m\u001b[38;5;241;43m.\u001b[39;49m\u001b[43mdistogram\u001b[49m\u001b[43m}\u001b[49m\u001b[43m)\u001b[49m\n",
      "\u001b[0;31mTypeError\u001b[0m: distogram_loss() missing 2 required positional arguments: 'pseudo_beta' and 'pseudo_beta_mask'"
     ]
    }
   ],
   "source": [
    "from openfold.utils.loss import distogram_loss\n",
    "distogram_loss(out['distogram_logits'], **{**batch, **config.loss.distogram})"
   ]
  },
  {
   "cell_type": "code",
   "execution_count": 20,
   "id": "6a094272-e1bc-4d4c-86df-2ed23c9f5952",
   "metadata": {},
   "outputs": [
    {
     "ename": "KeyError",
     "evalue": "'experimentally_resolved_logits'",
     "output_type": "error",
     "traceback": [
      "\u001b[0;31m---------------------------------------------------------------------------\u001b[0m",
      "\u001b[0;31mKeyError\u001b[0m                                  Traceback (most recent call last)",
      "Cell \u001b[0;32mIn[20], line 3\u001b[0m\n\u001b[1;32m      1\u001b[0m \u001b[38;5;28;01mfrom\u001b[39;00m \u001b[38;5;21;01mopenfold\u001b[39;00m\u001b[38;5;21;01m.\u001b[39;00m\u001b[38;5;21;01mutils\u001b[39;00m\u001b[38;5;21;01m.\u001b[39;00m\u001b[38;5;21;01mloss\u001b[39;00m \u001b[38;5;28;01mimport\u001b[39;00m experimentally_resolved_loss\n\u001b[1;32m      2\u001b[0m experimentally_resolved_loss(\n\u001b[0;32m----> 3\u001b[0m     logits\u001b[38;5;241m=\u001b[39m\u001b[43mout\u001b[49m\u001b[43m[\u001b[49m\u001b[38;5;124;43m'\u001b[39;49m\u001b[38;5;124;43mexperimentally_resolved_logits\u001b[39;49m\u001b[38;5;124;43m'\u001b[39;49m\u001b[43m]\u001b[49m,\n\u001b[1;32m      4\u001b[0m     \u001b[38;5;241m*\u001b[39m\u001b[38;5;241m*\u001b[39m{\u001b[38;5;241m*\u001b[39m\u001b[38;5;241m*\u001b[39mbatch, \u001b[38;5;241m*\u001b[39m\u001b[38;5;241m*\u001b[39mconfig\u001b[38;5;241m.\u001b[39mloss\u001b[38;5;241m.\u001b[39mexperimentally_resolved}\n\u001b[1;32m      5\u001b[0m )\n",
      "\u001b[0;31mKeyError\u001b[0m: 'experimentally_resolved_logits'"
     ]
    }
   ],
   "source": [
    "from openfold.utils.loss import experimentally_resolved_loss\n",
    "experimentally_resolved_loss(\n",
    "    logits=out['experimentally_resolved_logits'],\n",
    "    **{**batch, **config.loss.experimentally_resolved}\n",
    ")"
   ]
  },
  {
   "cell_type": "code",
   "execution_count": 40,
   "id": "f8ba100d-9c2e-4373-accd-b6c16a380ee1",
   "metadata": {},
   "outputs": [
    {
     "ename": "TypeError",
     "evalue": "sidechain_loss() missing 3 required positional arguments: 'renamed_atom14_gt_positions', 'renamed_atom14_gt_exists', and 'alt_naming_is_better'",
     "output_type": "error",
     "traceback": [
      "\u001b[0;31m---------------------------------------------------------------------------\u001b[0m",
      "\u001b[0;31mTypeError\u001b[0m                                 Traceback (most recent call last)",
      "Cell \u001b[0;32mIn[40], line 3\u001b[0m\n\u001b[1;32m      1\u001b[0m \u001b[38;5;28;01mfrom\u001b[39;00m \u001b[38;5;21;01mopenfold\u001b[39;00m\u001b[38;5;21;01m.\u001b[39;00m\u001b[38;5;21;01mutils\u001b[39;00m\u001b[38;5;21;01m.\u001b[39;00m\u001b[38;5;21;01mloss\u001b[39;00m \u001b[38;5;28;01mimport\u001b[39;00m fape_loss\n\u001b[1;32m      2\u001b[0m wrapper_out \u001b[38;5;241m=\u001b[39m {\u001b[38;5;124m\"\u001b[39m\u001b[38;5;124msm\u001b[39m\u001b[38;5;124m\"\u001b[39m: out}\n\u001b[0;32m----> 3\u001b[0m \u001b[43mfape_loss\u001b[49m\u001b[43m(\u001b[49m\u001b[43mwrapper_out\u001b[49m\u001b[43m,\u001b[49m\u001b[43m \u001b[49m\u001b[43mbatch\u001b[49m\u001b[43m,\u001b[49m\u001b[43m \u001b[49m\u001b[43mconfig\u001b[49m\u001b[38;5;241;43m.\u001b[39;49m\u001b[43mloss\u001b[49m\u001b[38;5;241;43m.\u001b[39;49m\u001b[43mfape\u001b[49m\u001b[43m)\u001b[49m\n",
      "File \u001b[0;32m~/openfold/openfold/utils/loss.py:274\u001b[0m, in \u001b[0;36mfape_loss\u001b[0;34m(out, batch, config)\u001b[0m\n\u001b[1;32m    264\u001b[0m \u001b[38;5;28;01mdef\u001b[39;00m \u001b[38;5;21mfape_loss\u001b[39m(\n\u001b[1;32m    265\u001b[0m     out: Dict[\u001b[38;5;28mstr\u001b[39m, torch\u001b[38;5;241m.\u001b[39mTensor],\n\u001b[1;32m    266\u001b[0m     batch: Dict[\u001b[38;5;28mstr\u001b[39m, torch\u001b[38;5;241m.\u001b[39mTensor],\n\u001b[1;32m    267\u001b[0m     config: ml_collections\u001b[38;5;241m.\u001b[39mConfigDict,\n\u001b[1;32m    268\u001b[0m ) \u001b[38;5;241m-\u001b[39m\u001b[38;5;241m>\u001b[39m torch\u001b[38;5;241m.\u001b[39mTensor:\n\u001b[1;32m    269\u001b[0m     bb_loss \u001b[38;5;241m=\u001b[39m backbone_loss(\n\u001b[1;32m    270\u001b[0m         traj\u001b[38;5;241m=\u001b[39mout[\u001b[38;5;124m\"\u001b[39m\u001b[38;5;124msm\u001b[39m\u001b[38;5;124m\"\u001b[39m][\u001b[38;5;124m\"\u001b[39m\u001b[38;5;124mframes\u001b[39m\u001b[38;5;124m\"\u001b[39m],\n\u001b[1;32m    271\u001b[0m         \u001b[38;5;241m*\u001b[39m\u001b[38;5;241m*\u001b[39m{\u001b[38;5;241m*\u001b[39m\u001b[38;5;241m*\u001b[39mbatch, \u001b[38;5;241m*\u001b[39m\u001b[38;5;241m*\u001b[39mconfig\u001b[38;5;241m.\u001b[39mbackbone},\n\u001b[1;32m    272\u001b[0m     )\n\u001b[0;32m--> 274\u001b[0m     sc_loss \u001b[38;5;241m=\u001b[39m \u001b[43msidechain_loss\u001b[49m\u001b[43m(\u001b[49m\n\u001b[1;32m    275\u001b[0m \u001b[43m        \u001b[49m\u001b[43mout\u001b[49m\u001b[43m[\u001b[49m\u001b[38;5;124;43m\"\u001b[39;49m\u001b[38;5;124;43msm\u001b[39;49m\u001b[38;5;124;43m\"\u001b[39;49m\u001b[43m]\u001b[49m\u001b[43m[\u001b[49m\u001b[38;5;124;43m\"\u001b[39;49m\u001b[38;5;124;43msidechain_frames\u001b[39;49m\u001b[38;5;124;43m\"\u001b[39;49m\u001b[43m]\u001b[49m\u001b[43m,\u001b[49m\n\u001b[1;32m    276\u001b[0m \u001b[43m        \u001b[49m\u001b[43mout\u001b[49m\u001b[43m[\u001b[49m\u001b[38;5;124;43m\"\u001b[39;49m\u001b[38;5;124;43msm\u001b[39;49m\u001b[38;5;124;43m\"\u001b[39;49m\u001b[43m]\u001b[49m\u001b[43m[\u001b[49m\u001b[38;5;124;43m\"\u001b[39;49m\u001b[38;5;124;43mpositions\u001b[39;49m\u001b[38;5;124;43m\"\u001b[39;49m\u001b[43m]\u001b[49m\u001b[43m,\u001b[49m\n\u001b[1;32m    277\u001b[0m \u001b[43m        \u001b[49m\u001b[38;5;241;43m*\u001b[39;49m\u001b[38;5;241;43m*\u001b[39;49m\u001b[43m{\u001b[49m\u001b[38;5;241;43m*\u001b[39;49m\u001b[38;5;241;43m*\u001b[39;49m\u001b[43mbatch\u001b[49m\u001b[43m,\u001b[49m\u001b[43m \u001b[49m\u001b[38;5;241;43m*\u001b[39;49m\u001b[38;5;241;43m*\u001b[39;49m\u001b[43mconfig\u001b[49m\u001b[38;5;241;43m.\u001b[39;49m\u001b[43msidechain\u001b[49m\u001b[43m}\u001b[49m\u001b[43m,\u001b[49m\n\u001b[1;32m    278\u001b[0m \u001b[43m    \u001b[49m\u001b[43m)\u001b[49m\n\u001b[1;32m    280\u001b[0m     loss \u001b[38;5;241m=\u001b[39m config\u001b[38;5;241m.\u001b[39mbackbone\u001b[38;5;241m.\u001b[39mweight \u001b[38;5;241m*\u001b[39m bb_loss \u001b[38;5;241m+\u001b[39m config\u001b[38;5;241m.\u001b[39msidechain\u001b[38;5;241m.\u001b[39mweight \u001b[38;5;241m*\u001b[39m sc_loss\n\u001b[1;32m    282\u001b[0m     \u001b[38;5;66;03m# Average over the batch dimension\u001b[39;00m\n",
      "\u001b[0;31mTypeError\u001b[0m: sidechain_loss() missing 3 required positional arguments: 'renamed_atom14_gt_positions', 'renamed_atom14_gt_exists', and 'alt_naming_is_better'"
     ]
    }
   ],
   "source": [
    "from openfold.utils.loss import fape_loss\n",
    "wrapper_out = {\"sm\": out}\n",
    "fape_loss(wrapper_out, batch, config.loss.fape)"
   ]
  },
  {
   "cell_type": "code",
   "execution_count": 41,
   "id": "87fb211c-27b1-4c77-9645-67a25d5b36ac",
   "metadata": {},
   "outputs": [
    {
     "ename": "RuntimeError",
     "evalue": "The size of tensor a (50) must match the size of tensor b (37) at non-singleton dimension 3",
     "output_type": "error",
     "traceback": [
      "\u001b[0;31m---------------------------------------------------------------------------\u001b[0m",
      "\u001b[0;31mRuntimeError\u001b[0m                              Traceback (most recent call last)",
      "Cell \u001b[0;32mIn[41], line 2\u001b[0m\n\u001b[1;32m      1\u001b[0m \u001b[38;5;28;01mfrom\u001b[39;00m \u001b[38;5;21;01mopenfold\u001b[39;00m\u001b[38;5;21;01m.\u001b[39;00m\u001b[38;5;21;01mutils\u001b[39;00m\u001b[38;5;21;01m.\u001b[39;00m\u001b[38;5;21;01mloss\u001b[39;00m \u001b[38;5;28;01mimport\u001b[39;00m lddt_loss\n\u001b[0;32m----> 2\u001b[0m \u001b[43mlddt_loss\u001b[49m\u001b[43m(\u001b[49m\n\u001b[1;32m      3\u001b[0m \u001b[43m    \u001b[49m\u001b[43mlogits\u001b[49m\u001b[38;5;241;43m=\u001b[39;49m\u001b[43mout\u001b[49m\u001b[43m[\u001b[49m\u001b[38;5;124;43m'\u001b[39;49m\u001b[38;5;124;43mplddt\u001b[39;49m\u001b[38;5;124;43m'\u001b[39;49m\u001b[43m]\u001b[49m\u001b[38;5;241;43m.\u001b[39;49m\u001b[43mto\u001b[49m\u001b[43m(\u001b[49m\u001b[43mdevice\u001b[49m\u001b[43m)\u001b[49m\u001b[43m,\u001b[49m\u001b[43m \u001b[49m\u001b[38;5;66;43;03m#TODO: these are not logits\u001b[39;49;00m\n\u001b[1;32m      4\u001b[0m \u001b[43m    \u001b[49m\u001b[43mall_atom_pred_pos\u001b[49m\u001b[38;5;241;43m=\u001b[39;49m\u001b[43mout\u001b[49m\u001b[43m[\u001b[49m\u001b[38;5;124;43m'\u001b[39;49m\u001b[38;5;124;43mpositions\u001b[39;49m\u001b[38;5;124;43m'\u001b[39;49m\u001b[43m]\u001b[49m\u001b[38;5;241;43m.\u001b[39;49m\u001b[43mto\u001b[49m\u001b[43m(\u001b[49m\u001b[43mdevice\u001b[49m\u001b[43m)\u001b[49m\u001b[43m,\u001b[49m\u001b[43m  \u001b[49m\u001b[38;5;66;43;03m#TODO: confim if these are the same\u001b[39;49;00m\n\u001b[1;32m      5\u001b[0m \u001b[43m    \u001b[49m\u001b[38;5;241;43m*\u001b[39;49m\u001b[38;5;241;43m*\u001b[39;49m\u001b[43m{\u001b[49m\u001b[38;5;241;43m*\u001b[39;49m\u001b[38;5;241;43m*\u001b[39;49m\u001b[43mbatch\u001b[49m\u001b[43m,\u001b[49m\u001b[43m \u001b[49m\u001b[38;5;241;43m*\u001b[39;49m\u001b[38;5;241;43m*\u001b[39;49m\u001b[43mconfig\u001b[49m\u001b[38;5;241;43m.\u001b[39;49m\u001b[43mloss\u001b[49m\u001b[38;5;241;43m.\u001b[39;49m\u001b[43mplddt_loss\u001b[49m\u001b[43m}\u001b[49m\n\u001b[1;32m      6\u001b[0m \u001b[43m)\u001b[49m\n\u001b[1;32m      7\u001b[0m out\u001b[38;5;241m.\u001b[39mkeys()\n",
      "File \u001b[0;32m~/openfold/openfold/utils/loss.py:503\u001b[0m, in \u001b[0;36mlddt_loss\u001b[0;34m(logits, all_atom_pred_pos, all_atom_positions, all_atom_mask, resolution, cutoff, no_bins, min_resolution, max_resolution, eps, **kwargs)\u001b[0m\n\u001b[1;32m    498\u001b[0m bin_index \u001b[38;5;241m=\u001b[39m torch\u001b[38;5;241m.\u001b[39mclamp(bin_index, \u001b[38;5;28mmax\u001b[39m\u001b[38;5;241m=\u001b[39m(no_bins \u001b[38;5;241m-\u001b[39m \u001b[38;5;241m1\u001b[39m))\n\u001b[1;32m    499\u001b[0m lddt_ca_one_hot \u001b[38;5;241m=\u001b[39m torch\u001b[38;5;241m.\u001b[39mnn\u001b[38;5;241m.\u001b[39mfunctional\u001b[38;5;241m.\u001b[39mone_hot(\n\u001b[1;32m    500\u001b[0m     bin_index, num_classes\u001b[38;5;241m=\u001b[39mno_bins\n\u001b[1;32m    501\u001b[0m )\n\u001b[0;32m--> 503\u001b[0m errors \u001b[38;5;241m=\u001b[39m \u001b[43msoftmax_cross_entropy\u001b[49m\u001b[43m(\u001b[49m\u001b[43mlogits\u001b[49m\u001b[43m,\u001b[49m\u001b[43m \u001b[49m\u001b[43mlddt_ca_one_hot\u001b[49m\u001b[43m)\u001b[49m\n\u001b[1;32m    504\u001b[0m all_atom_mask \u001b[38;5;241m=\u001b[39m all_atom_mask\u001b[38;5;241m.\u001b[39msqueeze(\u001b[38;5;241m-\u001b[39m\u001b[38;5;241m1\u001b[39m)\n\u001b[1;32m    505\u001b[0m loss \u001b[38;5;241m=\u001b[39m torch\u001b[38;5;241m.\u001b[39msum(errors \u001b[38;5;241m*\u001b[39m all_atom_mask, dim\u001b[38;5;241m=\u001b[39m\u001b[38;5;241m-\u001b[39m\u001b[38;5;241m1\u001b[39m) \u001b[38;5;241m/\u001b[39m (\n\u001b[1;32m    506\u001b[0m     eps \u001b[38;5;241m+\u001b[39m torch\u001b[38;5;241m.\u001b[39msum(all_atom_mask, dim\u001b[38;5;241m=\u001b[39m\u001b[38;5;241m-\u001b[39m\u001b[38;5;241m1\u001b[39m)\n\u001b[1;32m    507\u001b[0m )\n",
      "File \u001b[0;32m~/openfold/openfold/utils/loss.py:39\u001b[0m, in \u001b[0;36msoftmax_cross_entropy\u001b[0;34m(logits, labels)\u001b[0m\n\u001b[1;32m     37\u001b[0m \u001b[38;5;28;01mdef\u001b[39;00m \u001b[38;5;21msoftmax_cross_entropy\u001b[39m(logits, labels):\n\u001b[1;32m     38\u001b[0m     loss \u001b[38;5;241m=\u001b[39m \u001b[38;5;241m-\u001b[39m\u001b[38;5;241m1\u001b[39m \u001b[38;5;241m*\u001b[39m torch\u001b[38;5;241m.\u001b[39msum(\n\u001b[0;32m---> 39\u001b[0m         \u001b[43mlabels\u001b[49m\u001b[43m \u001b[49m\u001b[38;5;241;43m*\u001b[39;49m\u001b[43m \u001b[49m\u001b[43mtorch\u001b[49m\u001b[38;5;241;43m.\u001b[39;49m\u001b[43mnn\u001b[49m\u001b[38;5;241;43m.\u001b[39;49m\u001b[43mfunctional\u001b[49m\u001b[38;5;241;43m.\u001b[39;49m\u001b[43mlog_softmax\u001b[49m\u001b[43m(\u001b[49m\u001b[43mlogits\u001b[49m\u001b[43m,\u001b[49m\u001b[43m \u001b[49m\u001b[43mdim\u001b[49m\u001b[38;5;241;43m=\u001b[39;49m\u001b[38;5;241;43m-\u001b[39;49m\u001b[38;5;241;43m1\u001b[39;49m\u001b[43m)\u001b[49m,\n\u001b[1;32m     40\u001b[0m         dim\u001b[38;5;241m=\u001b[39m\u001b[38;5;241m-\u001b[39m\u001b[38;5;241m1\u001b[39m,\n\u001b[1;32m     41\u001b[0m     )\n\u001b[1;32m     42\u001b[0m     \u001b[38;5;28;01mreturn\u001b[39;00m loss\n",
      "\u001b[0;31mRuntimeError\u001b[0m: The size of tensor a (50) must match the size of tensor b (37) at non-singleton dimension 3"
     ]
    }
   ],
   "source": [
    "from openfold.utils.loss import lddt_loss\n",
    "lddt_loss(\n",
    "    logits=out['plddt'].to(device), #TODO: these are not logits\n",
    "    all_atom_pred_pos=out['positions'].to(device),  #TODO: confim if these are the same\n",
    "    **{**batch, **config.loss.plddt_loss}\n",
    ")\n",
    "out.keys()"
   ]
  },
  {
   "cell_type": "code",
   "execution_count": null,
   "id": "9edadebd-1306-45c0-ae94-1ca1819ffa88",
   "metadata": {},
   "outputs": [
    {
     "name": "stdout",
     "output_type": "stream",
     "text": [
      "> \u001b[0;32m/homefs/home/lux70/openfold/openfold/utils/loss.py\u001b[0m(39)\u001b[0;36msoftmax_cross_entropy\u001b[0;34m()\u001b[0m\n",
      "\u001b[0;32m     37 \u001b[0;31m\u001b[0;32mdef\u001b[0m \u001b[0msoftmax_cross_entropy\u001b[0m\u001b[0;34m(\u001b[0m\u001b[0mlogits\u001b[0m\u001b[0;34m,\u001b[0m \u001b[0mlabels\u001b[0m\u001b[0;34m)\u001b[0m\u001b[0;34m:\u001b[0m\u001b[0;34m\u001b[0m\u001b[0;34m\u001b[0m\u001b[0m\n",
      "\u001b[0m\u001b[0;32m     38 \u001b[0;31m    loss = -1 * torch.sum(\n",
      "\u001b[0m\u001b[0;32m---> 39 \u001b[0;31m        \u001b[0mlabels\u001b[0m \u001b[0;34m*\u001b[0m \u001b[0mtorch\u001b[0m\u001b[0;34m.\u001b[0m\u001b[0mnn\u001b[0m\u001b[0;34m.\u001b[0m\u001b[0mfunctional\u001b[0m\u001b[0;34m.\u001b[0m\u001b[0mlog_softmax\u001b[0m\u001b[0;34m(\u001b[0m\u001b[0mlogits\u001b[0m\u001b[0;34m,\u001b[0m \u001b[0mdim\u001b[0m\u001b[0;34m=\u001b[0m\u001b[0;34m-\u001b[0m\u001b[0;36m1\u001b[0m\u001b[0;34m)\u001b[0m\u001b[0;34m,\u001b[0m\u001b[0;34m\u001b[0m\u001b[0;34m\u001b[0m\u001b[0m\n",
      "\u001b[0m\u001b[0;32m     40 \u001b[0;31m        \u001b[0mdim\u001b[0m\u001b[0;34m=\u001b[0m\u001b[0;34m-\u001b[0m\u001b[0;36m1\u001b[0m\u001b[0;34m,\u001b[0m\u001b[0;34m\u001b[0m\u001b[0;34m\u001b[0m\u001b[0m\n",
      "\u001b[0m\u001b[0;32m     41 \u001b[0;31m    \u001b[0;34m)\u001b[0m\u001b[0;34m\u001b[0m\u001b[0;34m\u001b[0m\u001b[0m\n",
      "\u001b[0m\n"
     ]
    },
    {
     "name": "stdin",
     "output_type": "stream",
     "text": [
      "ipdb>  up\n"
     ]
    },
    {
     "name": "stdout",
     "output_type": "stream",
     "text": [
      "> \u001b[0;32m/homefs/home/lux70/openfold/openfold/utils/loss.py\u001b[0m(503)\u001b[0;36mlddt_loss\u001b[0;34m()\u001b[0m\n",
      "\u001b[0;32m    501 \u001b[0;31m    \u001b[0;34m)\u001b[0m\u001b[0;34m\u001b[0m\u001b[0;34m\u001b[0m\u001b[0m\n",
      "\u001b[0m\u001b[0;32m    502 \u001b[0;31m\u001b[0;34m\u001b[0m\u001b[0m\n",
      "\u001b[0m\u001b[0;32m--> 503 \u001b[0;31m    \u001b[0merrors\u001b[0m \u001b[0;34m=\u001b[0m \u001b[0msoftmax_cross_entropy\u001b[0m\u001b[0;34m(\u001b[0m\u001b[0mlogits\u001b[0m\u001b[0;34m,\u001b[0m \u001b[0mlddt_ca_one_hot\u001b[0m\u001b[0;34m)\u001b[0m\u001b[0;34m\u001b[0m\u001b[0;34m\u001b[0m\u001b[0m\n",
      "\u001b[0m\u001b[0;32m    504 \u001b[0;31m    \u001b[0mall_atom_mask\u001b[0m \u001b[0;34m=\u001b[0m \u001b[0mall_atom_mask\u001b[0m\u001b[0;34m.\u001b[0m\u001b[0msqueeze\u001b[0m\u001b[0;34m(\u001b[0m\u001b[0;34m-\u001b[0m\u001b[0;36m1\u001b[0m\u001b[0;34m)\u001b[0m\u001b[0;34m\u001b[0m\u001b[0;34m\u001b[0m\u001b[0m\n",
      "\u001b[0m\u001b[0;32m    505 \u001b[0;31m    loss = torch.sum(errors * all_atom_mask, dim=-1) / (\n",
      "\u001b[0m\n"
     ]
    },
    {
     "name": "stdin",
     "output_type": "stream",
     "text": [
      "ipdb>  l\n"
     ]
    },
    {
     "name": "stdout",
     "output_type": "stream",
     "text": [
      "\u001b[1;32m    498 \u001b[0m    \u001b[0mbin_index\u001b[0m \u001b[0;34m=\u001b[0m \u001b[0mtorch\u001b[0m\u001b[0;34m.\u001b[0m\u001b[0mclamp\u001b[0m\u001b[0;34m(\u001b[0m\u001b[0mbin_index\u001b[0m\u001b[0;34m,\u001b[0m \u001b[0mmax\u001b[0m\u001b[0;34m=\u001b[0m\u001b[0;34m(\u001b[0m\u001b[0mno_bins\u001b[0m \u001b[0;34m-\u001b[0m \u001b[0;36m1\u001b[0m\u001b[0;34m)\u001b[0m\u001b[0;34m)\u001b[0m\u001b[0;34m\u001b[0m\u001b[0;34m\u001b[0m\u001b[0m\n",
      "\u001b[1;32m    499 \u001b[0m    lddt_ca_one_hot = torch.nn.functional.one_hot(\n",
      "\u001b[1;32m    500 \u001b[0m        \u001b[0mbin_index\u001b[0m\u001b[0;34m,\u001b[0m \u001b[0mnum_classes\u001b[0m\u001b[0;34m=\u001b[0m\u001b[0mno_bins\u001b[0m\u001b[0;34m\u001b[0m\u001b[0;34m\u001b[0m\u001b[0m\n",
      "\u001b[1;32m    501 \u001b[0m    \u001b[0;34m)\u001b[0m\u001b[0;34m\u001b[0m\u001b[0;34m\u001b[0m\u001b[0m\n",
      "\u001b[1;32m    502 \u001b[0m\u001b[0;34m\u001b[0m\u001b[0m\n",
      "\u001b[0;32m--> 503 \u001b[0;31m    \u001b[0merrors\u001b[0m \u001b[0;34m=\u001b[0m \u001b[0msoftmax_cross_entropy\u001b[0m\u001b[0;34m(\u001b[0m\u001b[0mlogits\u001b[0m\u001b[0;34m,\u001b[0m \u001b[0mlddt_ca_one_hot\u001b[0m\u001b[0;34m)\u001b[0m\u001b[0;34m\u001b[0m\u001b[0;34m\u001b[0m\u001b[0m\n",
      "\u001b[0m\u001b[1;32m    504 \u001b[0m    \u001b[0mall_atom_mask\u001b[0m \u001b[0;34m=\u001b[0m \u001b[0mall_atom_mask\u001b[0m\u001b[0;34m.\u001b[0m\u001b[0msqueeze\u001b[0m\u001b[0;34m(\u001b[0m\u001b[0;34m-\u001b[0m\u001b[0;36m1\u001b[0m\u001b[0;34m)\u001b[0m\u001b[0;34m\u001b[0m\u001b[0;34m\u001b[0m\u001b[0m\n",
      "\u001b[1;32m    505 \u001b[0m    loss = torch.sum(errors * all_atom_mask, dim=-1) / (\n",
      "\u001b[1;32m    506 \u001b[0m        \u001b[0meps\u001b[0m \u001b[0;34m+\u001b[0m \u001b[0mtorch\u001b[0m\u001b[0;34m.\u001b[0m\u001b[0msum\u001b[0m\u001b[0;34m(\u001b[0m\u001b[0mall_atom_mask\u001b[0m\u001b[0;34m,\u001b[0m \u001b[0mdim\u001b[0m\u001b[0;34m=\u001b[0m\u001b[0;34m-\u001b[0m\u001b[0;36m1\u001b[0m\u001b[0;34m)\u001b[0m\u001b[0;34m\u001b[0m\u001b[0;34m\u001b[0m\u001b[0m\n",
      "\u001b[1;32m    507 \u001b[0m    \u001b[0;34m)\u001b[0m\u001b[0;34m\u001b[0m\u001b[0;34m\u001b[0m\u001b[0m\n",
      "\u001b[1;32m    508 \u001b[0m\u001b[0;34m\u001b[0m\u001b[0m\n",
      "\n"
     ]
    }
   ],
   "source": [
    "%debug"
   ]
  },
  {
   "cell_type": "code",
   "execution_count": 21,
   "id": "eeda980c-7166-4dd8-8729-327c27c0cc39",
   "metadata": {},
   "outputs": [
    {
     "ename": "TypeError",
     "evalue": "supervised_chi_loss() missing 3 required positional arguments: 'seq_mask', 'chi_mask', and 'chi_angles_sin_cos'",
     "output_type": "error",
     "traceback": [
      "\u001b[0;31m---------------------------------------------------------------------------\u001b[0m",
      "\u001b[0;31mTypeError\u001b[0m                                 Traceback (most recent call last)",
      "Cell \u001b[0;32mIn[21], line 2\u001b[0m\n\u001b[1;32m      1\u001b[0m \u001b[38;5;28;01mfrom\u001b[39;00m \u001b[38;5;21;01mopenfold\u001b[39;00m\u001b[38;5;21;01m.\u001b[39;00m\u001b[38;5;21;01mutils\u001b[39;00m\u001b[38;5;21;01m.\u001b[39;00m\u001b[38;5;21;01mloss\u001b[39;00m \u001b[38;5;28;01mimport\u001b[39;00m supervised_chi_loss\n\u001b[0;32m----> 2\u001b[0m \u001b[43msupervised_chi_loss\u001b[49m\u001b[43m(\u001b[49m\n\u001b[1;32m      3\u001b[0m \u001b[43m    \u001b[49m\u001b[43mout\u001b[49m\u001b[43m[\u001b[49m\u001b[38;5;124;43m\"\u001b[39;49m\u001b[38;5;124;43mangles\u001b[39;49m\u001b[38;5;124;43m\"\u001b[39;49m\u001b[43m]\u001b[49m\u001b[43m,\u001b[49m\u001b[43m \u001b[49m\u001b[43mout\u001b[49m\u001b[43m[\u001b[49m\u001b[38;5;124;43m\"\u001b[39;49m\u001b[38;5;124;43munnormalized_angles\u001b[39;49m\u001b[38;5;124;43m\"\u001b[39;49m\u001b[43m]\u001b[49m\u001b[43m,\u001b[49m\u001b[43m \u001b[49m\u001b[38;5;241;43m*\u001b[39;49m\u001b[38;5;241;43m*\u001b[39;49m\u001b[43m{\u001b[49m\u001b[38;5;241;43m*\u001b[39;49m\u001b[38;5;241;43m*\u001b[39;49m\u001b[43mbatch\u001b[49m\u001b[43m,\u001b[49m\u001b[43m \u001b[49m\u001b[38;5;241;43m*\u001b[39;49m\u001b[38;5;241;43m*\u001b[39;49m\u001b[43mconfig\u001b[49m\u001b[38;5;241;43m.\u001b[39;49m\u001b[43mloss\u001b[49m\u001b[38;5;241;43m.\u001b[39;49m\u001b[43msupervised_chi\u001b[49m\u001b[43m}\u001b[49m\n\u001b[1;32m      4\u001b[0m \u001b[43m)\u001b[49m\n",
      "\u001b[0;31mTypeError\u001b[0m: supervised_chi_loss() missing 3 required positional arguments: 'seq_mask', 'chi_mask', and 'chi_angles_sin_cos'"
     ]
    }
   ],
   "source": [
    "from openfold.utils.loss import supervised_chi_loss\n",
    "supervised_chi_loss(\n",
    "    out[\"angles\"], out[\"unnormalized_angles\"], **{**batch, **config.loss.supervised_chi}\n",
    ")"
   ]
  },
  {
   "cell_type": "code",
   "execution_count": 22,
   "id": "e251f672-a3f7-4b06-9bab-7b295c8fb8e6",
   "metadata": {},
   "outputs": [
    {
     "ename": "KeyError",
     "evalue": "'violation'",
     "output_type": "error",
     "traceback": [
      "\u001b[0;31m---------------------------------------------------------------------------\u001b[0m",
      "\u001b[0;31mKeyError\u001b[0m                                  Traceback (most recent call last)",
      "Cell \u001b[0;32mIn[22], line 3\u001b[0m\n\u001b[1;32m      1\u001b[0m \u001b[38;5;28;01mfrom\u001b[39;00m \u001b[38;5;21;01mopenfold\u001b[39;00m\u001b[38;5;21;01m.\u001b[39;00m\u001b[38;5;21;01mutils\u001b[39;00m\u001b[38;5;21;01m.\u001b[39;00m\u001b[38;5;21;01mloss\u001b[39;00m \u001b[38;5;28;01mimport\u001b[39;00m violation_loss\n\u001b[1;32m      2\u001b[0m violation_loss(\n\u001b[0;32m----> 3\u001b[0m     \u001b[43mout\u001b[49m\u001b[43m[\u001b[49m\u001b[38;5;124;43m'\u001b[39;49m\u001b[38;5;124;43mviolation\u001b[39;49m\u001b[38;5;124;43m'\u001b[39;49m\u001b[43m]\u001b[49m, \u001b[38;5;241m*\u001b[39m\u001b[38;5;241m*\u001b[39m{\u001b[38;5;241m*\u001b[39m\u001b[38;5;241m*\u001b[39mbatch, \u001b[38;5;241m*\u001b[39m\u001b[38;5;241m*\u001b[39mconfig\u001b[38;5;241m.\u001b[39mloss\u001b[38;5;241m.\u001b[39mviolation}\n\u001b[1;32m      4\u001b[0m )\n",
      "\u001b[0;31mKeyError\u001b[0m: 'violation'"
     ]
    }
   ],
   "source": [
    "from openfold.utils.loss import violation_loss\n",
    "violation_loss(\n",
    "    out['violation'], **{**batch, **config.loss.violation}\n",
    ")"
   ]
  },
  {
   "cell_type": "code",
   "execution_count": 23,
   "id": "14533f69-8de7-4c8d-9b74-1a748ba1698e",
   "metadata": {},
   "outputs": [
    {
     "ename": "TypeError",
     "evalue": "tm_loss() missing 1 required positional argument: 'final_affine_tensor'",
     "output_type": "error",
     "traceback": [
      "\u001b[0;31m---------------------------------------------------------------------------\u001b[0m",
      "\u001b[0;31mTypeError\u001b[0m                                 Traceback (most recent call last)",
      "Cell \u001b[0;32mIn[23], line 2\u001b[0m\n\u001b[1;32m      1\u001b[0m \u001b[38;5;28;01mfrom\u001b[39;00m \u001b[38;5;21;01mopenfold\u001b[39;00m\u001b[38;5;21;01m.\u001b[39;00m\u001b[38;5;21;01mutils\u001b[39;00m\u001b[38;5;21;01m.\u001b[39;00m\u001b[38;5;21;01mloss\u001b[39;00m \u001b[38;5;28;01mimport\u001b[39;00m tm_loss\n\u001b[0;32m----> 2\u001b[0m \u001b[43mtm_loss\u001b[49m\u001b[43m(\u001b[49m\n\u001b[1;32m      3\u001b[0m \u001b[43m    \u001b[49m\u001b[43mlogits\u001b[49m\u001b[38;5;241;43m=\u001b[39;49m\u001b[43mout\u001b[49m\u001b[43m[\u001b[49m\u001b[38;5;124;43m'\u001b[39;49m\u001b[38;5;124;43mptm_logits\u001b[39;49m\u001b[38;5;124;43m'\u001b[39;49m\u001b[43m]\u001b[49m\u001b[43m,\u001b[49m\u001b[43m \u001b[49m\n\u001b[1;32m      4\u001b[0m \u001b[43m    \u001b[49m\u001b[38;5;241;43m*\u001b[39;49m\u001b[38;5;241;43m*\u001b[39;49m\u001b[43m{\u001b[49m\u001b[38;5;241;43m*\u001b[39;49m\u001b[38;5;241;43m*\u001b[39;49m\u001b[43mbatch\u001b[49m\u001b[43m,\u001b[49m\u001b[43m \u001b[49m\u001b[38;5;241;43m*\u001b[39;49m\u001b[38;5;241;43m*\u001b[39;49m\u001b[43mout\u001b[49m\u001b[43m,\u001b[49m\u001b[43m \u001b[49m\u001b[38;5;241;43m*\u001b[39;49m\u001b[38;5;241;43m*\u001b[39;49m\u001b[43mconfig\u001b[49m\u001b[38;5;241;43m.\u001b[39;49m\u001b[43mloss\u001b[49m\u001b[38;5;241;43m.\u001b[39;49m\u001b[43mtm\u001b[49m\u001b[43m}\u001b[49m\n\u001b[1;32m      5\u001b[0m \u001b[43m)\u001b[49m\n",
      "\u001b[0;31mTypeError\u001b[0m: tm_loss() missing 1 required positional argument: 'final_affine_tensor'"
     ]
    }
   ],
   "source": [
    "from openfold.utils.loss import tm_loss\n",
    "tm_loss(\n",
    "    logits=out['ptm_logits'], \n",
    "    **{**batch, **out, **config.loss.tm}\n",
    ")"
   ]
  },
  {
   "cell_type": "code",
   "execution_count": 99,
   "id": "4cadcef3-f69c-4fb1-ad07-d8f4d2ea7be9",
   "metadata": {},
   "outputs": [
    {
     "ename": "ImportError",
     "evalue": "cannot import name 'chain_center_of_mass_loss' from 'openfold.utils.loss' (/homefs/home/lux70/openfold/openfold/utils/loss.py)",
     "output_type": "error",
     "traceback": [
      "\u001b[0;31m---------------------------------------------------------------------------\u001b[0m",
      "\u001b[0;31mImportError\u001b[0m                               Traceback (most recent call last)",
      "Cell \u001b[0;32mIn[99], line 1\u001b[0m\n\u001b[0;32m----> 1\u001b[0m \u001b[38;5;28;01mfrom\u001b[39;00m \u001b[38;5;21;01mopenfold\u001b[39;00m\u001b[38;5;21;01m.\u001b[39;00m\u001b[38;5;21;01mutils\u001b[39;00m\u001b[38;5;21;01m.\u001b[39;00m\u001b[38;5;21;01mloss\u001b[39;00m \u001b[38;5;28;01mimport\u001b[39;00m chain_center_of_mass_loss\n\u001b[1;32m      2\u001b[0m chain_center_of_mass_loss(\n\u001b[1;32m      3\u001b[0m     all_atom_pred_pos\u001b[38;5;241m=\u001b[39mout[\u001b[38;5;124m'\u001b[39m\u001b[38;5;124mpositions\u001b[39m\u001b[38;5;124m'\u001b[39m],\n\u001b[1;32m      4\u001b[0m     \u001b[38;5;241m*\u001b[39m\u001b[38;5;241m*\u001b[39m{\u001b[38;5;241m*\u001b[39m\u001b[38;5;241m*\u001b[39mbatch, \u001b[38;5;241m*\u001b[39m\u001b[38;5;241m*\u001b[39mconfig\u001b[38;5;241m.\u001b[39mloss\u001b[38;5;241m.\u001b[39mchain_center_of_mass}\n\u001b[1;32m      5\u001b[0m )\n",
      "\u001b[0;31mImportError\u001b[0m: cannot import name 'chain_center_of_mass_loss' from 'openfold.utils.loss' (/homefs/home/lux70/openfold/openfold/utils/loss.py)"
     ]
    }
   ],
   "source": [
    "from openfold.utils.loss import chain_center_of_mass_loss\n",
    "chain_center_of_mass_loss(\n",
    "    all_atom_pred_pos=out['positions'],\n",
    "    **{**batch, **config.loss.chain_center_of_mass}\n",
    ")"
   ]
  },
  {
   "cell_type": "code",
   "execution_count": null,
   "id": "efba648f-c4ec-4102-9e9e-09f4fc1732ff",
   "metadata": {},
   "outputs": [],
   "source": []
  }
 ],
 "metadata": {
  "kernelspec": {
   "display_name": "Python 3 (ipykernel)",
   "language": "python",
   "name": "python3"
  },
  "language_info": {
   "codemirror_mode": {
    "name": "ipython",
    "version": 3
   },
   "file_extension": ".py",
   "mimetype": "text/x-python",
   "name": "python",
   "nbconvert_exporter": "python",
   "pygments_lexer": "ipython3",
   "version": "3.12.2"
  }
 },
 "nbformat": 4,
 "nbformat_minor": 5
}
