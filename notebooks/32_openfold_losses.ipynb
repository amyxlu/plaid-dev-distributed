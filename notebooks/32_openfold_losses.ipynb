{
 "cells": [
  {
   "cell_type": "code",
   "execution_count": 1,
   "id": "eb592e4d-51d6-4711-ab4c-2092f931491a",
   "metadata": {},
   "outputs": [],
   "source": [
    "%load_ext autoreload\n",
    "%autoreload 2"
   ]
  },
  {
   "cell_type": "code",
   "execution_count": 5,
   "id": "8666ddf0-31df-452f-9b46-09163b7b2d70",
   "metadata": {},
   "outputs": [
    {
     "name": "stdout",
     "output_type": "stream",
     "text": [
      "/homefs/home/lux70/openfold/openfold/__init__.py\n"
     ]
    }
   ],
   "source": [
    "from openfold.utils.loss import lddt_loss, AlphaFoldLoss\n",
    "import openfold\n",
    "import torch\n",
    "\n",
    "from plaid.proteins import LatentToStructure, LatentToSequence\n",
    "from plaid.esmfold.misc import batch_encode_sequences\n",
    "from plaid.transforms import trim_or_pad_batch_first\n",
    "\n",
    "print(openfold.__file__)"
   ]
  },
  {
   "cell_type": "markdown",
   "id": "f425b36d-f41c-4f84-bb8b-f6f8bba89d23",
   "metadata": {},
   "source": [
    "# Load ground truth features and predictions\n",
    "## Ground truth dictionary"
   ]
  },
  {
   "cell_type": "code",
   "execution_count": 17,
   "id": "baa6538f-40e5-40ad-a5b2-c75cd3320799",
   "metadata": {},
   "outputs": [
    {
     "name": "stdout",
     "output_type": "stream",
     "text": [
      "4\n"
     ]
    }
   ],
   "source": [
    "from plaid.datasets import CATHStructureDataModule\n",
    "\n",
    "shard_dir = \"/homefs/home/lux70/storage/data/cath/shards/\"\n",
    "pdb_dir = \"/data/bucket/lux70/data/cath/dompdb\"\n",
    "# shard_dir = \"/homefs/home/lux70/storage/data/rocklin/shards/\"\n",
    "# pdb_dir = \"/data/bucket/lux70/data/rocklin/structures/\"\n",
    "\n",
    "max_seq_len=256\n",
    "dm = CATHStructureDataModule(\n",
    "    shard_dir,\n",
    "    pdb_dir,\n",
    "    seq_len=max_seq_len,\n",
    "    batch_size=4,\n",
    "    max_num_samples=4,\n",
    "    shuffle_val_dataset=False\n",
    ") \n",
    "    \n",
    "dm.setup()\n",
    "val_dataloader = dm.val_dataloader()\n",
    "next_batch = next(iter(val_dataloader))\n",
    "print(len(val_dataloader.dataset))\n",
    "\n",
    "batch = next_batch[-1]  # struct dict"
   ]
  },
  {
   "cell_type": "code",
   "execution_count": 18,
   "id": "11371642-df20-42ad-8b57-ec39cb17b88b",
   "metadata": {},
   "outputs": [
    {
     "data": {
      "text/plain": [
       "dict_keys(['aatype', 'between_segment_residues', 'domain_name', 'residue_index', 'seq_length', 'sequence', 'all_atom_positions', 'all_atom_mask', 'resolution', 'is_distillation', 'mask', 'rigidgroups_gt_frames', 'rigidgroups_gt_exists', 'rigidgroups_group_exists', 'rigidgroups_group_is_ambiguous', 'rigidgroups_alt_gt_frames', 'backbone_rigid_tensor', 'backbone_rigid_mask'])"
      ]
     },
     "execution_count": 18,
     "metadata": {},
     "output_type": "execute_result"
    }
   ],
   "source": [
    "batch.keys()"
   ]
  },
  {
   "cell_type": "code",
   "execution_count": 39,
   "id": "4c6cd209-2ecd-4787-bcd8-51d606c7e7b0",
   "metadata": {},
   "outputs": [
    {
     "name": "stdout",
     "output_type": "stream",
     "text": [
      "domain_name\n",
      "sequence\n",
      "cuda:0\n",
      "cuda:0\n",
      "domain_name\n",
      "cuda:0\n",
      "cuda:0\n",
      "sequence\n",
      "cuda:0\n",
      "cuda:0\n",
      "cuda:0\n",
      "cuda:0\n",
      "cuda:0\n",
      "cuda:0\n",
      "cuda:0\n",
      "cuda:0\n",
      "cuda:0\n",
      "cuda:0\n",
      "cuda:0\n",
      "cuda:0\n"
     ]
    }
   ],
   "source": [
    "device = torch.device(\"cuda\")\n",
    "\n",
    "for k, v in batch.items():\n",
    "    try:\n",
    "        batch[k] = v.to(device)\n",
    "    except:\n",
    "        print(k)\n",
    "        pass\n",
    "\n",
    "for k, v in batch.items():\n",
    "    try:\n",
    "        print(v.device)\n",
    "    except:\n",
    "        print(k); pass"
   ]
  },
  {
   "cell_type": "markdown",
   "id": "f542e5c0-eb56-4398-bfc8-1410eb5cdb0d",
   "metadata": {},
   "source": [
    "## Prediction output dictionary "
   ]
  },
  {
   "cell_type": "code",
   "execution_count": 10,
   "id": "2211a008-8e83-40a5-9e8b-f8af390ef075",
   "metadata": {},
   "outputs": [
    {
     "name": "stderr",
     "output_type": "stream",
     "text": [
      "(Generating structure): 100%|███████████████████████████████████████████████| 1/1 [00:09<00:00,  9.34s/it]\n"
     ]
    }
   ],
   "source": [
    "# get saved embedding\n",
    "device = torch.device(\"cuda\")\n",
    "x = batch[0].to(device)\n",
    "sequences = batch[1]\n",
    "\n",
    "# get corresponding mask, to be used later\n",
    "_, mask, _, _, _ = batch_encode_sequences(sequences)\n",
    "mask = trim_or_pad_batch_first(mask, pad_to=max_seq_len, pad_idx=0).to(device)\n",
    "\n",
    "# implicitly calls Openfold structure module\n",
    "latent_to_structure = LatentToStructure()\n",
    "latent_to_structure.to(device)\n",
    "orig_struct = latent_to_structure.to_structure(x, sequences, return_raw_features=True, batch_size=4, num_recycles=1)"
   ]
  },
  {
   "cell_type": "code",
   "execution_count": 15,
   "id": "abbb055b-75bf-43ec-8be5-bcd833a60717",
   "metadata": {},
   "outputs": [
    {
     "data": {
      "text/plain": [
       "dict_keys(['frames', 'sidechain_frames', 'unnormalized_angles', 'angles', 'positions', 'states', 's_initial', 's_after_layernorm', 'z_after_layernorm', 'single', 'sm_s', 'sm_z', 's_s', 's_z', 'distogram_logits', 'lm_logits', 'aatype', 'atom14_atom_exists', 'residx_atom14_to_atom37', 'residx_atom37_to_atom14', 'atom37_atom_exists', 'residue_index', 'lddt_head', 'plddt', 'ptm_logits', 'ptm', 'aligned_confidence_probs', 'predicted_aligned_error', 'max_predicted_aligned_error'])"
      ]
     },
     "execution_count": 15,
     "metadata": {},
     "output_type": "execute_result"
    }
   ],
   "source": [
    "out = orig_struct[-1][0]\n",
    "out.keys()"
   ]
  },
  {
   "cell_type": "code",
   "execution_count": 27,
   "id": "ad778d71-e530-4aad-8c20-6fa738232289",
   "metadata": {},
   "outputs": [
    {
     "data": {
      "text/plain": [
       "1"
      ]
     },
     "execution_count": 27,
     "metadata": {},
     "output_type": "execute_result"
    }
   ],
   "source": [
    "from openfold.np import residue_constants\n",
    "residue_constants.atom_order['CA']"
   ]
  },
  {
   "cell_type": "markdown",
   "id": "382f4d5f-3545-40f2-848f-5819af631435",
   "metadata": {},
   "source": [
    "## Examine key shapes "
   ]
  },
  {
   "cell_type": "code",
   "execution_count": 24,
   "id": "db1a9faa-a65c-4ef4-a116-5f84b016b458",
   "metadata": {},
   "outputs": [
    {
     "name": "stdout",
     "output_type": "stream",
     "text": [
      "torch.Size([8, 4, 256, 14, 3])\n"
     ]
    }
   ],
   "source": [
    "print(out['positions'].shape)"
   ]
  },
  {
   "cell_type": "code",
   "execution_count": 26,
   "id": "ab4cc0f8-2abe-4a75-9364-daeaad4e3824",
   "metadata": {},
   "outputs": [
    {
     "name": "stdout",
     "output_type": "stream",
     "text": [
      "torch.Size([4, 256, 37, 3])\n",
      "torch.Size([4, 256, 37])\n"
     ]
    }
   ],
   "source": [
    "print(batch['all_atom_positions'].shape)\n",
    "print(batch['all_atom_mask'].shape)"
   ]
  },
  {
   "cell_type": "code",
   "execution_count": null,
   "id": "3662921b-52e1-48aa-82b5-f560d9d16a02",
   "metadata": {},
   "outputs": [],
   "source": []
  },
  {
   "cell_type": "markdown",
   "id": "686743b5-1329-4f6b-9c07-cce391acf310",
   "metadata": {},
   "source": [
    "## Get loss config"
   ]
  },
  {
   "cell_type": "code",
   "execution_count": 11,
   "id": "27189a36-b291-4613-aa75-daa2985ff1a2",
   "metadata": {},
   "outputs": [],
   "source": [
    "from openfold.config import model_config\n",
    "config = model_config(name=\"initial_training\", train=True)"
   ]
  },
  {
   "cell_type": "code",
   "execution_count": 12,
   "id": "17ba16ee-b72e-4c30-840d-e77dbc25fd6e",
   "metadata": {},
   "outputs": [
    {
     "data": {
      "text/plain": [
       "distogram:\n",
       "  eps: &id001 !!python/object:ml_collections.config_dict.config_dict.FieldReference\n",
       "    _field_type: !!python/name:builtins.float ''\n",
       "    _ops: []\n",
       "    _required: false\n",
       "    _value: 1.0e-08\n",
       "  max_bin: 21.6875\n",
       "  min_bin: 2.3125\n",
       "  no_bins: 64\n",
       "  weight: 0.3\n",
       "eps: *id001\n",
       "experimentally_resolved:\n",
       "  eps: *id001\n",
       "  max_resolution: 3.0\n",
       "  min_resolution: 0.1\n",
       "  weight: 0.0\n",
       "fape:\n",
       "  backbone:\n",
       "    clamp_distance: 10.0\n",
       "    loss_unit_distance: 10.0\n",
       "    weight: 0.5\n",
       "  eps: 0.0001\n",
       "  sidechain:\n",
       "    clamp_distance: 10.0\n",
       "    length_scale: 10.0\n",
       "    weight: 0.5\n",
       "  weight: 1.0\n",
       "masked_msa:\n",
       "  eps: *id001\n",
       "  weight: 2.0\n",
       "plddt_loss:\n",
       "  cutoff: 15.0\n",
       "  eps: *id001\n",
       "  max_resolution: 3.0\n",
       "  min_resolution: 0.1\n",
       "  no_bins: 50\n",
       "  weight: 0.01\n",
       "supervised_chi:\n",
       "  angle_norm_weight: 0.01\n",
       "  chi_weight: 0.5\n",
       "  eps: *id001\n",
       "  weight: 1.0\n",
       "tm:\n",
       "  enabled: !!python/object:ml_collections.config_dict.config_dict.FieldReference\n",
       "    _field_type: !!python/name:builtins.bool ''\n",
       "    _ops: []\n",
       "    _required: false\n",
       "    _value: false\n",
       "  eps: *id001\n",
       "  max_bin: 31\n",
       "  max_resolution: 3.0\n",
       "  min_resolution: 0.1\n",
       "  no_bins: 64\n",
       "  weight: 0.0\n",
       "violation:\n",
       "  clash_overlap_tolerance: 1.5\n",
       "  eps: *id001\n",
       "  violation_tolerance_factor: 12.0\n",
       "  weight: 0.0"
      ]
     },
     "execution_count": 12,
     "metadata": {},
     "output_type": "execute_result"
    }
   ],
   "source": [
    "config.loss"
   ]
  },
  {
   "cell_type": "markdown",
   "id": "18165e84-81c0-4b5a-a127-8f5a0a1edae9",
   "metadata": {},
   "source": [
    "# Try Losses"
   ]
  },
  {
   "cell_type": "code",
   "execution_count": 19,
   "id": "8c900bad-adea-4ddb-beb7-2bb2ca996c9e",
   "metadata": {},
   "outputs": [
    {
     "ename": "TypeError",
     "evalue": "distogram_loss() missing 2 required positional arguments: 'pseudo_beta' and 'pseudo_beta_mask'",
     "output_type": "error",
     "traceback": [
      "\u001b[0;31m---------------------------------------------------------------------------\u001b[0m",
      "\u001b[0;31mTypeError\u001b[0m                                 Traceback (most recent call last)",
      "Cell \u001b[0;32mIn[19], line 2\u001b[0m\n\u001b[1;32m      1\u001b[0m \u001b[38;5;28;01mfrom\u001b[39;00m \u001b[38;5;21;01mopenfold\u001b[39;00m\u001b[38;5;21;01m.\u001b[39;00m\u001b[38;5;21;01mutils\u001b[39;00m\u001b[38;5;21;01m.\u001b[39;00m\u001b[38;5;21;01mloss\u001b[39;00m \u001b[38;5;28;01mimport\u001b[39;00m distogram_loss\n\u001b[0;32m----> 2\u001b[0m \u001b[43mdistogram_loss\u001b[49m\u001b[43m(\u001b[49m\u001b[43mout\u001b[49m\u001b[43m[\u001b[49m\u001b[38;5;124;43m'\u001b[39;49m\u001b[38;5;124;43mdistogram_logits\u001b[39;49m\u001b[38;5;124;43m'\u001b[39;49m\u001b[43m]\u001b[49m\u001b[43m,\u001b[49m\u001b[43m \u001b[49m\u001b[38;5;241;43m*\u001b[39;49m\u001b[38;5;241;43m*\u001b[39;49m\u001b[43m{\u001b[49m\u001b[38;5;241;43m*\u001b[39;49m\u001b[38;5;241;43m*\u001b[39;49m\u001b[43mbatch\u001b[49m\u001b[43m,\u001b[49m\u001b[43m \u001b[49m\u001b[38;5;241;43m*\u001b[39;49m\u001b[38;5;241;43m*\u001b[39;49m\u001b[43mconfig\u001b[49m\u001b[38;5;241;43m.\u001b[39;49m\u001b[43mloss\u001b[49m\u001b[38;5;241;43m.\u001b[39;49m\u001b[43mdistogram\u001b[49m\u001b[43m}\u001b[49m\u001b[43m)\u001b[49m\n",
      "\u001b[0;31mTypeError\u001b[0m: distogram_loss() missing 2 required positional arguments: 'pseudo_beta' and 'pseudo_beta_mask'"
     ]
    }
   ],
   "source": [
    "from openfold.utils.loss import distogram_loss\n",
    "distogram_loss(out['distogram_logits'], **{**batch, **config.loss.distogram})"
   ]
  },
  {
   "cell_type": "code",
   "execution_count": 20,
   "id": "6a094272-e1bc-4d4c-86df-2ed23c9f5952",
   "metadata": {},
   "outputs": [
    {
     "ename": "KeyError",
     "evalue": "'experimentally_resolved_logits'",
     "output_type": "error",
     "traceback": [
      "\u001b[0;31m---------------------------------------------------------------------------\u001b[0m",
      "\u001b[0;31mKeyError\u001b[0m                                  Traceback (most recent call last)",
      "Cell \u001b[0;32mIn[20], line 3\u001b[0m\n\u001b[1;32m      1\u001b[0m \u001b[38;5;28;01mfrom\u001b[39;00m \u001b[38;5;21;01mopenfold\u001b[39;00m\u001b[38;5;21;01m.\u001b[39;00m\u001b[38;5;21;01mutils\u001b[39;00m\u001b[38;5;21;01m.\u001b[39;00m\u001b[38;5;21;01mloss\u001b[39;00m \u001b[38;5;28;01mimport\u001b[39;00m experimentally_resolved_loss\n\u001b[1;32m      2\u001b[0m experimentally_resolved_loss(\n\u001b[0;32m----> 3\u001b[0m     logits\u001b[38;5;241m=\u001b[39m\u001b[43mout\u001b[49m\u001b[43m[\u001b[49m\u001b[38;5;124;43m'\u001b[39;49m\u001b[38;5;124;43mexperimentally_resolved_logits\u001b[39;49m\u001b[38;5;124;43m'\u001b[39;49m\u001b[43m]\u001b[49m,\n\u001b[1;32m      4\u001b[0m     \u001b[38;5;241m*\u001b[39m\u001b[38;5;241m*\u001b[39m{\u001b[38;5;241m*\u001b[39m\u001b[38;5;241m*\u001b[39mbatch, \u001b[38;5;241m*\u001b[39m\u001b[38;5;241m*\u001b[39mconfig\u001b[38;5;241m.\u001b[39mloss\u001b[38;5;241m.\u001b[39mexperimentally_resolved}\n\u001b[1;32m      5\u001b[0m )\n",
      "\u001b[0;31mKeyError\u001b[0m: 'experimentally_resolved_logits'"
     ]
    }
   ],
   "source": [
    "from openfold.utils.loss import experimentally_resolved_loss\n",
    "experimentally_resolved_loss(\n",
    "    logits=out['experimentally_resolved_logits'],\n",
    "    **{**batch, **config.loss.experimentally_resolved}\n",
    ")"
   ]
  },
  {
   "cell_type": "code",
   "execution_count": 40,
   "id": "f8ba100d-9c2e-4373-accd-b6c16a380ee1",
   "metadata": {},
   "outputs": [
    {
     "ename": "TypeError",
     "evalue": "sidechain_loss() missing 3 required positional arguments: 'renamed_atom14_gt_positions', 'renamed_atom14_gt_exists', and 'alt_naming_is_better'",
     "output_type": "error",
     "traceback": [
      "\u001b[0;31m---------------------------------------------------------------------------\u001b[0m",
      "\u001b[0;31mTypeError\u001b[0m                                 Traceback (most recent call last)",
      "Cell \u001b[0;32mIn[40], line 3\u001b[0m\n\u001b[1;32m      1\u001b[0m \u001b[38;5;28;01mfrom\u001b[39;00m \u001b[38;5;21;01mopenfold\u001b[39;00m\u001b[38;5;21;01m.\u001b[39;00m\u001b[38;5;21;01mutils\u001b[39;00m\u001b[38;5;21;01m.\u001b[39;00m\u001b[38;5;21;01mloss\u001b[39;00m \u001b[38;5;28;01mimport\u001b[39;00m fape_loss\n\u001b[1;32m      2\u001b[0m wrapper_out \u001b[38;5;241m=\u001b[39m {\u001b[38;5;124m\"\u001b[39m\u001b[38;5;124msm\u001b[39m\u001b[38;5;124m\"\u001b[39m: out}\n\u001b[0;32m----> 3\u001b[0m \u001b[43mfape_loss\u001b[49m\u001b[43m(\u001b[49m\u001b[43mwrapper_out\u001b[49m\u001b[43m,\u001b[49m\u001b[43m \u001b[49m\u001b[43mbatch\u001b[49m\u001b[43m,\u001b[49m\u001b[43m \u001b[49m\u001b[43mconfig\u001b[49m\u001b[38;5;241;43m.\u001b[39;49m\u001b[43mloss\u001b[49m\u001b[38;5;241;43m.\u001b[39;49m\u001b[43mfape\u001b[49m\u001b[43m)\u001b[49m\n",
      "File \u001b[0;32m~/openfold/openfold/utils/loss.py:274\u001b[0m, in \u001b[0;36mfape_loss\u001b[0;34m(out, batch, config)\u001b[0m\n\u001b[1;32m    264\u001b[0m \u001b[38;5;28;01mdef\u001b[39;00m \u001b[38;5;21mfape_loss\u001b[39m(\n\u001b[1;32m    265\u001b[0m     out: Dict[\u001b[38;5;28mstr\u001b[39m, torch\u001b[38;5;241m.\u001b[39mTensor],\n\u001b[1;32m    266\u001b[0m     batch: Dict[\u001b[38;5;28mstr\u001b[39m, torch\u001b[38;5;241m.\u001b[39mTensor],\n\u001b[1;32m    267\u001b[0m     config: ml_collections\u001b[38;5;241m.\u001b[39mConfigDict,\n\u001b[1;32m    268\u001b[0m ) \u001b[38;5;241m-\u001b[39m\u001b[38;5;241m>\u001b[39m torch\u001b[38;5;241m.\u001b[39mTensor:\n\u001b[1;32m    269\u001b[0m     bb_loss \u001b[38;5;241m=\u001b[39m backbone_loss(\n\u001b[1;32m    270\u001b[0m         traj\u001b[38;5;241m=\u001b[39mout[\u001b[38;5;124m\"\u001b[39m\u001b[38;5;124msm\u001b[39m\u001b[38;5;124m\"\u001b[39m][\u001b[38;5;124m\"\u001b[39m\u001b[38;5;124mframes\u001b[39m\u001b[38;5;124m\"\u001b[39m],\n\u001b[1;32m    271\u001b[0m         \u001b[38;5;241m*\u001b[39m\u001b[38;5;241m*\u001b[39m{\u001b[38;5;241m*\u001b[39m\u001b[38;5;241m*\u001b[39mbatch, \u001b[38;5;241m*\u001b[39m\u001b[38;5;241m*\u001b[39mconfig\u001b[38;5;241m.\u001b[39mbackbone},\n\u001b[1;32m    272\u001b[0m     )\n\u001b[0;32m--> 274\u001b[0m     sc_loss \u001b[38;5;241m=\u001b[39m \u001b[43msidechain_loss\u001b[49m\u001b[43m(\u001b[49m\n\u001b[1;32m    275\u001b[0m \u001b[43m        \u001b[49m\u001b[43mout\u001b[49m\u001b[43m[\u001b[49m\u001b[38;5;124;43m\"\u001b[39;49m\u001b[38;5;124;43msm\u001b[39;49m\u001b[38;5;124;43m\"\u001b[39;49m\u001b[43m]\u001b[49m\u001b[43m[\u001b[49m\u001b[38;5;124;43m\"\u001b[39;49m\u001b[38;5;124;43msidechain_frames\u001b[39;49m\u001b[38;5;124;43m\"\u001b[39;49m\u001b[43m]\u001b[49m\u001b[43m,\u001b[49m\n\u001b[1;32m    276\u001b[0m \u001b[43m        \u001b[49m\u001b[43mout\u001b[49m\u001b[43m[\u001b[49m\u001b[38;5;124;43m\"\u001b[39;49m\u001b[38;5;124;43msm\u001b[39;49m\u001b[38;5;124;43m\"\u001b[39;49m\u001b[43m]\u001b[49m\u001b[43m[\u001b[49m\u001b[38;5;124;43m\"\u001b[39;49m\u001b[38;5;124;43mpositions\u001b[39;49m\u001b[38;5;124;43m\"\u001b[39;49m\u001b[43m]\u001b[49m\u001b[43m,\u001b[49m\n\u001b[1;32m    277\u001b[0m \u001b[43m        \u001b[49m\u001b[38;5;241;43m*\u001b[39;49m\u001b[38;5;241;43m*\u001b[39;49m\u001b[43m{\u001b[49m\u001b[38;5;241;43m*\u001b[39;49m\u001b[38;5;241;43m*\u001b[39;49m\u001b[43mbatch\u001b[49m\u001b[43m,\u001b[49m\u001b[43m \u001b[49m\u001b[38;5;241;43m*\u001b[39;49m\u001b[38;5;241;43m*\u001b[39;49m\u001b[43mconfig\u001b[49m\u001b[38;5;241;43m.\u001b[39;49m\u001b[43msidechain\u001b[49m\u001b[43m}\u001b[49m\u001b[43m,\u001b[49m\n\u001b[1;32m    278\u001b[0m \u001b[43m    \u001b[49m\u001b[43m)\u001b[49m\n\u001b[1;32m    280\u001b[0m     loss \u001b[38;5;241m=\u001b[39m config\u001b[38;5;241m.\u001b[39mbackbone\u001b[38;5;241m.\u001b[39mweight \u001b[38;5;241m*\u001b[39m bb_loss \u001b[38;5;241m+\u001b[39m config\u001b[38;5;241m.\u001b[39msidechain\u001b[38;5;241m.\u001b[39mweight \u001b[38;5;241m*\u001b[39m sc_loss\n\u001b[1;32m    282\u001b[0m     \u001b[38;5;66;03m# Average over the batch dimension\u001b[39;00m\n",
      "\u001b[0;31mTypeError\u001b[0m: sidechain_loss() missing 3 required positional arguments: 'renamed_atom14_gt_positions', 'renamed_atom14_gt_exists', and 'alt_naming_is_better'"
     ]
    }
   ],
   "source": [
    "from openfold.utils.loss import fape_loss\n",
    "wrapper_out = {\"sm\": out}\n",
    "fape_loss(wrapper_out, batch, config.loss.fape)"
   ]
  },
  {
   "cell_type": "code",
   "execution_count": 41,
   "id": "87fb211c-27b1-4c77-9645-67a25d5b36ac",
   "metadata": {},
   "outputs": [
    {
     "ename": "RuntimeError",
     "evalue": "The size of tensor a (50) must match the size of tensor b (37) at non-singleton dimension 3",
     "output_type": "error",
     "traceback": [
      "\u001b[0;31m---------------------------------------------------------------------------\u001b[0m",
      "\u001b[0;31mRuntimeError\u001b[0m                              Traceback (most recent call last)",
      "Cell \u001b[0;32mIn[41], line 2\u001b[0m\n\u001b[1;32m      1\u001b[0m \u001b[38;5;28;01mfrom\u001b[39;00m \u001b[38;5;21;01mopenfold\u001b[39;00m\u001b[38;5;21;01m.\u001b[39;00m\u001b[38;5;21;01mutils\u001b[39;00m\u001b[38;5;21;01m.\u001b[39;00m\u001b[38;5;21;01mloss\u001b[39;00m \u001b[38;5;28;01mimport\u001b[39;00m lddt_loss\n\u001b[0;32m----> 2\u001b[0m \u001b[43mlddt_loss\u001b[49m\u001b[43m(\u001b[49m\n\u001b[1;32m      3\u001b[0m \u001b[43m    \u001b[49m\u001b[43mlogits\u001b[49m\u001b[38;5;241;43m=\u001b[39;49m\u001b[43mout\u001b[49m\u001b[43m[\u001b[49m\u001b[38;5;124;43m'\u001b[39;49m\u001b[38;5;124;43mplddt\u001b[39;49m\u001b[38;5;124;43m'\u001b[39;49m\u001b[43m]\u001b[49m\u001b[38;5;241;43m.\u001b[39;49m\u001b[43mto\u001b[49m\u001b[43m(\u001b[49m\u001b[43mdevice\u001b[49m\u001b[43m)\u001b[49m\u001b[43m,\u001b[49m\u001b[43m \u001b[49m\u001b[38;5;66;43;03m#TODO: these are not logits\u001b[39;49;00m\n\u001b[1;32m      4\u001b[0m \u001b[43m    \u001b[49m\u001b[43mall_atom_pred_pos\u001b[49m\u001b[38;5;241;43m=\u001b[39;49m\u001b[43mout\u001b[49m\u001b[43m[\u001b[49m\u001b[38;5;124;43m'\u001b[39;49m\u001b[38;5;124;43mpositions\u001b[39;49m\u001b[38;5;124;43m'\u001b[39;49m\u001b[43m]\u001b[49m\u001b[38;5;241;43m.\u001b[39;49m\u001b[43mto\u001b[49m\u001b[43m(\u001b[49m\u001b[43mdevice\u001b[49m\u001b[43m)\u001b[49m\u001b[43m,\u001b[49m\u001b[43m  \u001b[49m\u001b[38;5;66;43;03m#TODO: confim if these are the same\u001b[39;49;00m\n\u001b[1;32m      5\u001b[0m \u001b[43m    \u001b[49m\u001b[38;5;241;43m*\u001b[39;49m\u001b[38;5;241;43m*\u001b[39;49m\u001b[43m{\u001b[49m\u001b[38;5;241;43m*\u001b[39;49m\u001b[38;5;241;43m*\u001b[39;49m\u001b[43mbatch\u001b[49m\u001b[43m,\u001b[49m\u001b[43m \u001b[49m\u001b[38;5;241;43m*\u001b[39;49m\u001b[38;5;241;43m*\u001b[39;49m\u001b[43mconfig\u001b[49m\u001b[38;5;241;43m.\u001b[39;49m\u001b[43mloss\u001b[49m\u001b[38;5;241;43m.\u001b[39;49m\u001b[43mplddt_loss\u001b[49m\u001b[43m}\u001b[49m\n\u001b[1;32m      6\u001b[0m \u001b[43m)\u001b[49m\n\u001b[1;32m      7\u001b[0m out\u001b[38;5;241m.\u001b[39mkeys()\n",
      "File \u001b[0;32m~/openfold/openfold/utils/loss.py:503\u001b[0m, in \u001b[0;36mlddt_loss\u001b[0;34m(logits, all_atom_pred_pos, all_atom_positions, all_atom_mask, resolution, cutoff, no_bins, min_resolution, max_resolution, eps, **kwargs)\u001b[0m\n\u001b[1;32m    498\u001b[0m bin_index \u001b[38;5;241m=\u001b[39m torch\u001b[38;5;241m.\u001b[39mclamp(bin_index, \u001b[38;5;28mmax\u001b[39m\u001b[38;5;241m=\u001b[39m(no_bins \u001b[38;5;241m-\u001b[39m \u001b[38;5;241m1\u001b[39m))\n\u001b[1;32m    499\u001b[0m lddt_ca_one_hot \u001b[38;5;241m=\u001b[39m torch\u001b[38;5;241m.\u001b[39mnn\u001b[38;5;241m.\u001b[39mfunctional\u001b[38;5;241m.\u001b[39mone_hot(\n\u001b[1;32m    500\u001b[0m     bin_index, num_classes\u001b[38;5;241m=\u001b[39mno_bins\n\u001b[1;32m    501\u001b[0m )\n\u001b[0;32m--> 503\u001b[0m errors \u001b[38;5;241m=\u001b[39m \u001b[43msoftmax_cross_entropy\u001b[49m\u001b[43m(\u001b[49m\u001b[43mlogits\u001b[49m\u001b[43m,\u001b[49m\u001b[43m \u001b[49m\u001b[43mlddt_ca_one_hot\u001b[49m\u001b[43m)\u001b[49m\n\u001b[1;32m    504\u001b[0m all_atom_mask \u001b[38;5;241m=\u001b[39m all_atom_mask\u001b[38;5;241m.\u001b[39msqueeze(\u001b[38;5;241m-\u001b[39m\u001b[38;5;241m1\u001b[39m)\n\u001b[1;32m    505\u001b[0m loss \u001b[38;5;241m=\u001b[39m torch\u001b[38;5;241m.\u001b[39msum(errors \u001b[38;5;241m*\u001b[39m all_atom_mask, dim\u001b[38;5;241m=\u001b[39m\u001b[38;5;241m-\u001b[39m\u001b[38;5;241m1\u001b[39m) \u001b[38;5;241m/\u001b[39m (\n\u001b[1;32m    506\u001b[0m     eps \u001b[38;5;241m+\u001b[39m torch\u001b[38;5;241m.\u001b[39msum(all_atom_mask, dim\u001b[38;5;241m=\u001b[39m\u001b[38;5;241m-\u001b[39m\u001b[38;5;241m1\u001b[39m)\n\u001b[1;32m    507\u001b[0m )\n",
      "File \u001b[0;32m~/openfold/openfold/utils/loss.py:39\u001b[0m, in \u001b[0;36msoftmax_cross_entropy\u001b[0;34m(logits, labels)\u001b[0m\n\u001b[1;32m     37\u001b[0m \u001b[38;5;28;01mdef\u001b[39;00m \u001b[38;5;21msoftmax_cross_entropy\u001b[39m(logits, labels):\n\u001b[1;32m     38\u001b[0m     loss \u001b[38;5;241m=\u001b[39m \u001b[38;5;241m-\u001b[39m\u001b[38;5;241m1\u001b[39m \u001b[38;5;241m*\u001b[39m torch\u001b[38;5;241m.\u001b[39msum(\n\u001b[0;32m---> 39\u001b[0m         \u001b[43mlabels\u001b[49m\u001b[43m \u001b[49m\u001b[38;5;241;43m*\u001b[39;49m\u001b[43m \u001b[49m\u001b[43mtorch\u001b[49m\u001b[38;5;241;43m.\u001b[39;49m\u001b[43mnn\u001b[49m\u001b[38;5;241;43m.\u001b[39;49m\u001b[43mfunctional\u001b[49m\u001b[38;5;241;43m.\u001b[39;49m\u001b[43mlog_softmax\u001b[49m\u001b[43m(\u001b[49m\u001b[43mlogits\u001b[49m\u001b[43m,\u001b[49m\u001b[43m \u001b[49m\u001b[43mdim\u001b[49m\u001b[38;5;241;43m=\u001b[39;49m\u001b[38;5;241;43m-\u001b[39;49m\u001b[38;5;241;43m1\u001b[39;49m\u001b[43m)\u001b[49m,\n\u001b[1;32m     40\u001b[0m         dim\u001b[38;5;241m=\u001b[39m\u001b[38;5;241m-\u001b[39m\u001b[38;5;241m1\u001b[39m,\n\u001b[1;32m     41\u001b[0m     )\n\u001b[1;32m     42\u001b[0m     \u001b[38;5;28;01mreturn\u001b[39;00m loss\n",
      "\u001b[0;31mRuntimeError\u001b[0m: The size of tensor a (50) must match the size of tensor b (37) at non-singleton dimension 3"
     ]
    }
   ],
   "source": [
    "from openfold.utils.loss import lddt_loss\n",
    "lddt_loss(\n",
    "    logits=out['plddt'].to(device), #TODO: these are not logits\n",
    "    all_atom_pred_pos=out['positions'].to(device),  #TODO: confim if these are the same\n",
    "    **{**batch, **config.loss.plddt_loss}\n",
    ")\n",
    "out.keys()"
   ]
  },
  {
   "cell_type": "code",
   "execution_count": null,
   "id": "9edadebd-1306-45c0-ae94-1ca1819ffa88",
   "metadata": {},
   "outputs": [
    {
     "name": "stdout",
     "output_type": "stream",
     "text": [
      "> \u001b[0;32m/homefs/home/lux70/openfold/openfold/utils/loss.py\u001b[0m(39)\u001b[0;36msoftmax_cross_entropy\u001b[0;34m()\u001b[0m\n",
      "\u001b[0;32m     37 \u001b[0;31m\u001b[0;32mdef\u001b[0m \u001b[0msoftmax_cross_entropy\u001b[0m\u001b[0;34m(\u001b[0m\u001b[0mlogits\u001b[0m\u001b[0;34m,\u001b[0m \u001b[0mlabels\u001b[0m\u001b[0;34m)\u001b[0m\u001b[0;34m:\u001b[0m\u001b[0;34m\u001b[0m\u001b[0;34m\u001b[0m\u001b[0m\n",
      "\u001b[0m\u001b[0;32m     38 \u001b[0;31m    loss = -1 * torch.sum(\n",
      "\u001b[0m\u001b[0;32m---> 39 \u001b[0;31m        \u001b[0mlabels\u001b[0m \u001b[0;34m*\u001b[0m \u001b[0mtorch\u001b[0m\u001b[0;34m.\u001b[0m\u001b[0mnn\u001b[0m\u001b[0;34m.\u001b[0m\u001b[0mfunctional\u001b[0m\u001b[0;34m.\u001b[0m\u001b[0mlog_softmax\u001b[0m\u001b[0;34m(\u001b[0m\u001b[0mlogits\u001b[0m\u001b[0;34m,\u001b[0m \u001b[0mdim\u001b[0m\u001b[0;34m=\u001b[0m\u001b[0;34m-\u001b[0m\u001b[0;36m1\u001b[0m\u001b[0;34m)\u001b[0m\u001b[0;34m,\u001b[0m\u001b[0;34m\u001b[0m\u001b[0;34m\u001b[0m\u001b[0m\n",
      "\u001b[0m\u001b[0;32m     40 \u001b[0;31m        \u001b[0mdim\u001b[0m\u001b[0;34m=\u001b[0m\u001b[0;34m-\u001b[0m\u001b[0;36m1\u001b[0m\u001b[0;34m,\u001b[0m\u001b[0;34m\u001b[0m\u001b[0;34m\u001b[0m\u001b[0m\n",
      "\u001b[0m\u001b[0;32m     41 \u001b[0;31m    \u001b[0;34m)\u001b[0m\u001b[0;34m\u001b[0m\u001b[0;34m\u001b[0m\u001b[0m\n",
      "\u001b[0m\n"
     ]
    },
    {
     "name": "stdin",
     "output_type": "stream",
     "text": [
      "ipdb>  up\n"
     ]
    },
    {
     "name": "stdout",
     "output_type": "stream",
     "text": [
      "> \u001b[0;32m/homefs/home/lux70/openfold/openfold/utils/loss.py\u001b[0m(503)\u001b[0;36mlddt_loss\u001b[0;34m()\u001b[0m\n",
      "\u001b[0;32m    501 \u001b[0;31m    \u001b[0;34m)\u001b[0m\u001b[0;34m\u001b[0m\u001b[0;34m\u001b[0m\u001b[0m\n",
      "\u001b[0m\u001b[0;32m    502 \u001b[0;31m\u001b[0;34m\u001b[0m\u001b[0m\n",
      "\u001b[0m\u001b[0;32m--> 503 \u001b[0;31m    \u001b[0merrors\u001b[0m \u001b[0;34m=\u001b[0m \u001b[0msoftmax_cross_entropy\u001b[0m\u001b[0;34m(\u001b[0m\u001b[0mlogits\u001b[0m\u001b[0;34m,\u001b[0m \u001b[0mlddt_ca_one_hot\u001b[0m\u001b[0;34m)\u001b[0m\u001b[0;34m\u001b[0m\u001b[0;34m\u001b[0m\u001b[0m\n",
      "\u001b[0m\u001b[0;32m    504 \u001b[0;31m    \u001b[0mall_atom_mask\u001b[0m \u001b[0;34m=\u001b[0m \u001b[0mall_atom_mask\u001b[0m\u001b[0;34m.\u001b[0m\u001b[0msqueeze\u001b[0m\u001b[0;34m(\u001b[0m\u001b[0;34m-\u001b[0m\u001b[0;36m1\u001b[0m\u001b[0;34m)\u001b[0m\u001b[0;34m\u001b[0m\u001b[0;34m\u001b[0m\u001b[0m\n",
      "\u001b[0m\u001b[0;32m    505 \u001b[0;31m    loss = torch.sum(errors * all_atom_mask, dim=-1) / (\n",
      "\u001b[0m\n"
     ]
    },
    {
     "name": "stdin",
     "output_type": "stream",
     "text": [
      "ipdb>  l\n"
     ]
    },
    {
     "name": "stdout",
     "output_type": "stream",
     "text": [
      "\u001b[1;32m    498 \u001b[0m    \u001b[0mbin_index\u001b[0m \u001b[0;34m=\u001b[0m \u001b[0mtorch\u001b[0m\u001b[0;34m.\u001b[0m\u001b[0mclamp\u001b[0m\u001b[0;34m(\u001b[0m\u001b[0mbin_index\u001b[0m\u001b[0;34m,\u001b[0m \u001b[0mmax\u001b[0m\u001b[0;34m=\u001b[0m\u001b[0;34m(\u001b[0m\u001b[0mno_bins\u001b[0m \u001b[0;34m-\u001b[0m \u001b[0;36m1\u001b[0m\u001b[0;34m)\u001b[0m\u001b[0;34m)\u001b[0m\u001b[0;34m\u001b[0m\u001b[0;34m\u001b[0m\u001b[0m\n",
      "\u001b[1;32m    499 \u001b[0m    lddt_ca_one_hot = torch.nn.functional.one_hot(\n",
      "\u001b[1;32m    500 \u001b[0m        \u001b[0mbin_index\u001b[0m\u001b[0;34m,\u001b[0m \u001b[0mnum_classes\u001b[0m\u001b[0;34m=\u001b[0m\u001b[0mno_bins\u001b[0m\u001b[0;34m\u001b[0m\u001b[0;34m\u001b[0m\u001b[0m\n",
      "\u001b[1;32m    501 \u001b[0m    \u001b[0;34m)\u001b[0m\u001b[0;34m\u001b[0m\u001b[0;34m\u001b[0m\u001b[0m\n",
      "\u001b[1;32m    502 \u001b[0m\u001b[0;34m\u001b[0m\u001b[0m\n",
      "\u001b[0;32m--> 503 \u001b[0;31m    \u001b[0merrors\u001b[0m \u001b[0;34m=\u001b[0m \u001b[0msoftmax_cross_entropy\u001b[0m\u001b[0;34m(\u001b[0m\u001b[0mlogits\u001b[0m\u001b[0;34m,\u001b[0m \u001b[0mlddt_ca_one_hot\u001b[0m\u001b[0;34m)\u001b[0m\u001b[0;34m\u001b[0m\u001b[0;34m\u001b[0m\u001b[0m\n",
      "\u001b[0m\u001b[1;32m    504 \u001b[0m    \u001b[0mall_atom_mask\u001b[0m \u001b[0;34m=\u001b[0m \u001b[0mall_atom_mask\u001b[0m\u001b[0;34m.\u001b[0m\u001b[0msqueeze\u001b[0m\u001b[0;34m(\u001b[0m\u001b[0;34m-\u001b[0m\u001b[0;36m1\u001b[0m\u001b[0;34m)\u001b[0m\u001b[0;34m\u001b[0m\u001b[0;34m\u001b[0m\u001b[0m\n",
      "\u001b[1;32m    505 \u001b[0m    loss = torch.sum(errors * all_atom_mask, dim=-1) / (\n",
      "\u001b[1;32m    506 \u001b[0m        \u001b[0meps\u001b[0m \u001b[0;34m+\u001b[0m \u001b[0mtorch\u001b[0m\u001b[0;34m.\u001b[0m\u001b[0msum\u001b[0m\u001b[0;34m(\u001b[0m\u001b[0mall_atom_mask\u001b[0m\u001b[0;34m,\u001b[0m \u001b[0mdim\u001b[0m\u001b[0;34m=\u001b[0m\u001b[0;34m-\u001b[0m\u001b[0;36m1\u001b[0m\u001b[0;34m)\u001b[0m\u001b[0;34m\u001b[0m\u001b[0;34m\u001b[0m\u001b[0m\n",
      "\u001b[1;32m    507 \u001b[0m    \u001b[0;34m)\u001b[0m\u001b[0;34m\u001b[0m\u001b[0;34m\u001b[0m\u001b[0m\n",
      "\u001b[1;32m    508 \u001b[0m\u001b[0;34m\u001b[0m\u001b[0m\n",
      "\n"
     ]
    }
   ],
   "source": [
    "%debug"
   ]
  },
  {
   "cell_type": "code",
   "execution_count": 21,
   "id": "eeda980c-7166-4dd8-8729-327c27c0cc39",
   "metadata": {},
   "outputs": [
    {
     "ename": "TypeError",
     "evalue": "supervised_chi_loss() missing 3 required positional arguments: 'seq_mask', 'chi_mask', and 'chi_angles_sin_cos'",
     "output_type": "error",
     "traceback": [
      "\u001b[0;31m---------------------------------------------------------------------------\u001b[0m",
      "\u001b[0;31mTypeError\u001b[0m                                 Traceback (most recent call last)",
      "Cell \u001b[0;32mIn[21], line 2\u001b[0m\n\u001b[1;32m      1\u001b[0m \u001b[38;5;28;01mfrom\u001b[39;00m \u001b[38;5;21;01mopenfold\u001b[39;00m\u001b[38;5;21;01m.\u001b[39;00m\u001b[38;5;21;01mutils\u001b[39;00m\u001b[38;5;21;01m.\u001b[39;00m\u001b[38;5;21;01mloss\u001b[39;00m \u001b[38;5;28;01mimport\u001b[39;00m supervised_chi_loss\n\u001b[0;32m----> 2\u001b[0m \u001b[43msupervised_chi_loss\u001b[49m\u001b[43m(\u001b[49m\n\u001b[1;32m      3\u001b[0m \u001b[43m    \u001b[49m\u001b[43mout\u001b[49m\u001b[43m[\u001b[49m\u001b[38;5;124;43m\"\u001b[39;49m\u001b[38;5;124;43mangles\u001b[39;49m\u001b[38;5;124;43m\"\u001b[39;49m\u001b[43m]\u001b[49m\u001b[43m,\u001b[49m\u001b[43m \u001b[49m\u001b[43mout\u001b[49m\u001b[43m[\u001b[49m\u001b[38;5;124;43m\"\u001b[39;49m\u001b[38;5;124;43munnormalized_angles\u001b[39;49m\u001b[38;5;124;43m\"\u001b[39;49m\u001b[43m]\u001b[49m\u001b[43m,\u001b[49m\u001b[43m \u001b[49m\u001b[38;5;241;43m*\u001b[39;49m\u001b[38;5;241;43m*\u001b[39;49m\u001b[43m{\u001b[49m\u001b[38;5;241;43m*\u001b[39;49m\u001b[38;5;241;43m*\u001b[39;49m\u001b[43mbatch\u001b[49m\u001b[43m,\u001b[49m\u001b[43m \u001b[49m\u001b[38;5;241;43m*\u001b[39;49m\u001b[38;5;241;43m*\u001b[39;49m\u001b[43mconfig\u001b[49m\u001b[38;5;241;43m.\u001b[39;49m\u001b[43mloss\u001b[49m\u001b[38;5;241;43m.\u001b[39;49m\u001b[43msupervised_chi\u001b[49m\u001b[43m}\u001b[49m\n\u001b[1;32m      4\u001b[0m \u001b[43m)\u001b[49m\n",
      "\u001b[0;31mTypeError\u001b[0m: supervised_chi_loss() missing 3 required positional arguments: 'seq_mask', 'chi_mask', and 'chi_angles_sin_cos'"
     ]
    }
   ],
   "source": [
    "from openfold.utils.loss import supervised_chi_loss\n",
    "supervised_chi_loss(\n",
    "    out[\"angles\"], out[\"unnormalized_angles\"], **{**batch, **config.loss.supervised_chi}\n",
    ")"
   ]
  },
  {
   "cell_type": "code",
   "execution_count": 22,
   "id": "e251f672-a3f7-4b06-9bab-7b295c8fb8e6",
   "metadata": {},
   "outputs": [
    {
     "ename": "KeyError",
     "evalue": "'violation'",
     "output_type": "error",
     "traceback": [
      "\u001b[0;31m---------------------------------------------------------------------------\u001b[0m",
      "\u001b[0;31mKeyError\u001b[0m                                  Traceback (most recent call last)",
      "Cell \u001b[0;32mIn[22], line 3\u001b[0m\n\u001b[1;32m      1\u001b[0m \u001b[38;5;28;01mfrom\u001b[39;00m \u001b[38;5;21;01mopenfold\u001b[39;00m\u001b[38;5;21;01m.\u001b[39;00m\u001b[38;5;21;01mutils\u001b[39;00m\u001b[38;5;21;01m.\u001b[39;00m\u001b[38;5;21;01mloss\u001b[39;00m \u001b[38;5;28;01mimport\u001b[39;00m violation_loss\n\u001b[1;32m      2\u001b[0m violation_loss(\n\u001b[0;32m----> 3\u001b[0m     \u001b[43mout\u001b[49m\u001b[43m[\u001b[49m\u001b[38;5;124;43m'\u001b[39;49m\u001b[38;5;124;43mviolation\u001b[39;49m\u001b[38;5;124;43m'\u001b[39;49m\u001b[43m]\u001b[49m, \u001b[38;5;241m*\u001b[39m\u001b[38;5;241m*\u001b[39m{\u001b[38;5;241m*\u001b[39m\u001b[38;5;241m*\u001b[39mbatch, \u001b[38;5;241m*\u001b[39m\u001b[38;5;241m*\u001b[39mconfig\u001b[38;5;241m.\u001b[39mloss\u001b[38;5;241m.\u001b[39mviolation}\n\u001b[1;32m      4\u001b[0m )\n",
      "\u001b[0;31mKeyError\u001b[0m: 'violation'"
     ]
    }
   ],
   "source": [
    "from openfold.utils.loss import violation_loss\n",
    "violation_loss(\n",
    "    out['violation'], **{**batch, **config.loss.violation}\n",
    ")"
   ]
  },
  {
   "cell_type": "code",
   "execution_count": 23,
   "id": "14533f69-8de7-4c8d-9b74-1a748ba1698e",
   "metadata": {},
   "outputs": [
    {
     "ename": "TypeError",
     "evalue": "tm_loss() missing 1 required positional argument: 'final_affine_tensor'",
     "output_type": "error",
     "traceback": [
      "\u001b[0;31m---------------------------------------------------------------------------\u001b[0m",
      "\u001b[0;31mTypeError\u001b[0m                                 Traceback (most recent call last)",
      "Cell \u001b[0;32mIn[23], line 2\u001b[0m\n\u001b[1;32m      1\u001b[0m \u001b[38;5;28;01mfrom\u001b[39;00m \u001b[38;5;21;01mopenfold\u001b[39;00m\u001b[38;5;21;01m.\u001b[39;00m\u001b[38;5;21;01mutils\u001b[39;00m\u001b[38;5;21;01m.\u001b[39;00m\u001b[38;5;21;01mloss\u001b[39;00m \u001b[38;5;28;01mimport\u001b[39;00m tm_loss\n\u001b[0;32m----> 2\u001b[0m \u001b[43mtm_loss\u001b[49m\u001b[43m(\u001b[49m\n\u001b[1;32m      3\u001b[0m \u001b[43m    \u001b[49m\u001b[43mlogits\u001b[49m\u001b[38;5;241;43m=\u001b[39;49m\u001b[43mout\u001b[49m\u001b[43m[\u001b[49m\u001b[38;5;124;43m'\u001b[39;49m\u001b[38;5;124;43mptm_logits\u001b[39;49m\u001b[38;5;124;43m'\u001b[39;49m\u001b[43m]\u001b[49m\u001b[43m,\u001b[49m\u001b[43m \u001b[49m\n\u001b[1;32m      4\u001b[0m \u001b[43m    \u001b[49m\u001b[38;5;241;43m*\u001b[39;49m\u001b[38;5;241;43m*\u001b[39;49m\u001b[43m{\u001b[49m\u001b[38;5;241;43m*\u001b[39;49m\u001b[38;5;241;43m*\u001b[39;49m\u001b[43mbatch\u001b[49m\u001b[43m,\u001b[49m\u001b[43m \u001b[49m\u001b[38;5;241;43m*\u001b[39;49m\u001b[38;5;241;43m*\u001b[39;49m\u001b[43mout\u001b[49m\u001b[43m,\u001b[49m\u001b[43m \u001b[49m\u001b[38;5;241;43m*\u001b[39;49m\u001b[38;5;241;43m*\u001b[39;49m\u001b[43mconfig\u001b[49m\u001b[38;5;241;43m.\u001b[39;49m\u001b[43mloss\u001b[49m\u001b[38;5;241;43m.\u001b[39;49m\u001b[43mtm\u001b[49m\u001b[43m}\u001b[49m\n\u001b[1;32m      5\u001b[0m \u001b[43m)\u001b[49m\n",
      "\u001b[0;31mTypeError\u001b[0m: tm_loss() missing 1 required positional argument: 'final_affine_tensor'"
     ]
    }
   ],
   "source": [
    "from openfold.utils.loss import tm_loss\n",
    "tm_loss(\n",
    "    logits=out['ptm_logits'], \n",
    "    **{**batch, **out, **config.loss.tm}\n",
    ")"
   ]
  },
  {
   "cell_type": "code",
   "execution_count": 99,
   "id": "4cadcef3-f69c-4fb1-ad07-d8f4d2ea7be9",
   "metadata": {},
   "outputs": [
    {
     "ename": "ImportError",
     "evalue": "cannot import name 'chain_center_of_mass_loss' from 'openfold.utils.loss' (/homefs/home/lux70/openfold/openfold/utils/loss.py)",
     "output_type": "error",
     "traceback": [
      "\u001b[0;31m---------------------------------------------------------------------------\u001b[0m",
      "\u001b[0;31mImportError\u001b[0m                               Traceback (most recent call last)",
      "Cell \u001b[0;32mIn[99], line 1\u001b[0m\n\u001b[0;32m----> 1\u001b[0m \u001b[38;5;28;01mfrom\u001b[39;00m \u001b[38;5;21;01mopenfold\u001b[39;00m\u001b[38;5;21;01m.\u001b[39;00m\u001b[38;5;21;01mutils\u001b[39;00m\u001b[38;5;21;01m.\u001b[39;00m\u001b[38;5;21;01mloss\u001b[39;00m \u001b[38;5;28;01mimport\u001b[39;00m chain_center_of_mass_loss\n\u001b[1;32m      2\u001b[0m chain_center_of_mass_loss(\n\u001b[1;32m      3\u001b[0m     all_atom_pred_pos\u001b[38;5;241m=\u001b[39mout[\u001b[38;5;124m'\u001b[39m\u001b[38;5;124mpositions\u001b[39m\u001b[38;5;124m'\u001b[39m],\n\u001b[1;32m      4\u001b[0m     \u001b[38;5;241m*\u001b[39m\u001b[38;5;241m*\u001b[39m{\u001b[38;5;241m*\u001b[39m\u001b[38;5;241m*\u001b[39mbatch, \u001b[38;5;241m*\u001b[39m\u001b[38;5;241m*\u001b[39mconfig\u001b[38;5;241m.\u001b[39mloss\u001b[38;5;241m.\u001b[39mchain_center_of_mass}\n\u001b[1;32m      5\u001b[0m )\n",
      "\u001b[0;31mImportError\u001b[0m: cannot import name 'chain_center_of_mass_loss' from 'openfold.utils.loss' (/homefs/home/lux70/openfold/openfold/utils/loss.py)"
     ]
    }
   ],
   "source": [
    "from openfold.utils.loss import chain_center_of_mass_loss\n",
    "chain_center_of_mass_loss(\n",
    "    all_atom_pred_pos=out['positions'],\n",
    "    **{**batch, **config.loss.chain_center_of_mass}\n",
    ")"
   ]
  },
  {
   "cell_type": "code",
   "execution_count": null,
   "id": "efba648f-c4ec-4102-9e9e-09f4fc1732ff",
   "metadata": {},
   "outputs": [],
   "source": []
  }
 ],
 "metadata": {
  "kernelspec": {
   "display_name": "Python 3 (ipykernel)",
   "language": "python",
   "name": "python3"
  },
  "language_info": {
   "codemirror_mode": {
    "name": "ipython",
    "version": 3
   },
   "file_extension": ".py",
   "mimetype": "text/x-python",
   "name": "python",
   "nbconvert_exporter": "python",
   "pygments_lexer": "ipython3",
   "version": "3.12.2"
  }
 },
 "nbformat": 4,
 "nbformat_minor": 5
}
