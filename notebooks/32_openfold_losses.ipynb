{
 "cells": [
  {
   "cell_type": "code",
   "execution_count": 1,
   "id": "eb592e4d-51d6-4711-ab4c-2092f931491a",
   "metadata": {},
   "outputs": [],
   "source": [
    "%load_ext autoreload\n",
    "%autoreload 2"
   ]
  },
  {
   "cell_type": "code",
   "execution_count": 9,
   "id": "8666ddf0-31df-452f-9b46-09163b7b2d70",
   "metadata": {},
   "outputs": [
    {
     "name": "stdout",
     "output_type": "stream",
     "text": [
      "/homefs/home/lux70/openfold/openfold/__init__.py\n"
     ]
    }
   ],
   "source": [
    "from openfold.utils.loss import lddt_loss, AlphaFoldLoss\n",
    "import openfold\n",
    "import glob\n",
    "import torch\n",
    "from pathlib import Path\n",
    "\n",
    "from plaid.proteins import LatentToStructure, LatentToSequence\n",
    "from plaid.esmfold.misc import batch_encode_sequences\n",
    "from plaid.transforms import trim_or_pad_batch_first\n",
    "\n",
    "device = torch.device(\"cuda\")\n",
    "print(openfold.__file__)\n",
    "\n",
    "shard_dir = \"/homefs/home/lux70/storage/data/cath/shards/\"\n",
    "pdb_dir = \"/data/bucket/lux70/data/cath/dompdb\"\n",
    "\n",
    "def pretty_print(p):\n",
    "    pprint.pprint(list(p.keys()))\n",
    "    print(\"\\n _______ \\n\")"
   ]
  },
  {
   "cell_type": "markdown",
   "id": "520c726f-9f32-43f1-bc8b-ac1ca3e89e5f",
   "metadata": {
    "jp-MarkdownHeadingCollapsed": true
   },
   "source": [
    "# Feature Parser Development "
   ]
  },
  {
   "cell_type": "code",
   "execution_count": 3,
   "id": "5cc3fe72-e77b-4481-8506-f9063f35b34d",
   "metadata": {},
   "outputs": [
    {
     "name": "stdout",
     "output_type": "stream",
     "text": [
      "/data/bucket/lux70/data/cath/dompdb/4a9aC01\n"
     ]
    }
   ],
   "source": [
    "\n",
    "pdb_path = glob.glob(f\"{pdb_dir}/*\")[0]\n",
    "print(pdb_path)\n",
    "\n",
    "with open(pdb_path, \"r\") as f:\n",
    "    pdb_str = f.read()\n",
    "# print(pdb_str)"
   ]
  },
  {
   "cell_type": "code",
   "execution_count": 4,
   "id": "38cc3ab8-279d-4856-845c-f6ca3a502b26",
   "metadata": {},
   "outputs": [],
   "source": [
    "from plaid.openfold_utils import protein_from_pdb_string, make_pdb_features\n",
    "\n",
    "\n",
    "protein_object = protein_from_pdb_string(pdb_str)\n",
    "pdb_id = Path(pdb_path).stem\n",
    "\n",
    "# TODO: what is the `is_distillation` argument?\n",
    "protein_features = make_pdb_features(\n",
    "    protein_object, description=pdb_id, is_distillation=False\n",
    ")"
   ]
  },
  {
   "cell_type": "code",
   "execution_count": 5,
   "id": "effabbab-2e64-4f4a-9a24-be5e5a9393fe",
   "metadata": {},
   "outputs": [
    {
     "name": "stdout",
     "output_type": "stream",
     "text": [
      "['aatype',\n",
      " 'all_atom_mask',\n",
      " 'all_atom_positions',\n",
      " 'between_segment_residues',\n",
      " 'domain_name',\n",
      " 'is_distillation',\n",
      " 'residue_index',\n",
      " 'resolution',\n",
      " 'seq_length',\n",
      " 'sequence']\n"
     ]
    }
   ],
   "source": [
    "import pprint\n",
    "\n",
    "pdb_feat_keys = list(protein_features.keys())\n",
    "pdb_feat_keys.sort()\n",
    "pprint.pprint(pdb_feat_keys)"
   ]
  },
  {
   "cell_type": "code",
   "execution_count": 6,
   "id": "ab4912d8-dfb0-4308-96a0-7736f81a5d72",
   "metadata": {},
   "outputs": [
    {
     "data": {
      "text/plain": [
       "'LEKQPKITLEEFIETERGKLDKSKLTPITIANFAQWKKDHVIAKINAEKKLSSKRKPTGREIILKMSAE'"
      ]
     },
     "execution_count": 6,
     "metadata": {},
     "output_type": "execute_result"
    }
   ],
   "source": [
    "sequence = protein_features['sequence'][0].decode()\n",
    "sequence"
   ]
  },
  {
   "cell_type": "code",
   "execution_count": 7,
   "id": "0fcb14e1-7aac-4528-af7e-191998c6cf0c",
   "metadata": {},
   "outputs": [
    {
     "name": "stdout",
     "output_type": "stream",
     "text": [
      "[[[0, 0, 0, 0], [0, 0, 0, 0], [0, 0, 0, 0], [0, 0, 0, 0]], [[0, 1, 3, 5], [1, 3, 5, 11], [3, 5, 11, 23], [5, 11, 23, 32]], [[0, 1, 3, 5], [1, 3, 5, 16], [0, 0, 0, 0], [0, 0, 0, 0]], [[0, 1, 3, 5], [1, 3, 5, 16], [0, 0, 0, 0], [0, 0, 0, 0]], [[0, 1, 3, 10], [0, 0, 0, 0], [0, 0, 0, 0], [0, 0, 0, 0]], [[0, 1, 3, 5], [1, 3, 5, 11], [3, 5, 11, 26], [0, 0, 0, 0]], [[0, 1, 3, 5], [1, 3, 5, 11], [3, 5, 11, 26], [0, 0, 0, 0]], [[0, 0, 0, 0], [0, 0, 0, 0], [0, 0, 0, 0], [0, 0, 0, 0]], [[0, 1, 3, 5], [1, 3, 5, 14], [0, 0, 0, 0], [0, 0, 0, 0]], [[0, 1, 3, 6], [1, 3, 6, 12], [0, 0, 0, 0], [0, 0, 0, 0]], [[0, 1, 3, 5], [1, 3, 5, 12], [0, 0, 0, 0], [0, 0, 0, 0]], [[0, 1, 3, 5], [1, 3, 5, 11], [3, 5, 11, 19], [5, 11, 19, 35]], [[0, 1, 3, 5], [1, 3, 5, 18], [3, 5, 18, 19], [0, 0, 0, 0]], [[0, 1, 3, 5], [1, 3, 5, 12], [0, 0, 0, 0], [0, 0, 0, 0]], [[0, 1, 3, 5], [1, 3, 5, 11], [0, 0, 0, 0], [0, 0, 0, 0]], [[0, 1, 3, 8], [0, 0, 0, 0], [0, 0, 0, 0], [0, 0, 0, 0]], [[0, 1, 3, 9], [0, 0, 0, 0], [0, 0, 0, 0], [0, 0, 0, 0]], [[0, 1, 3, 5], [1, 3, 5, 12], [0, 0, 0, 0], [0, 0, 0, 0]], [[0, 1, 3, 5], [1, 3, 5, 12], [0, 0, 0, 0], [0, 0, 0, 0]], [[0, 1, 3, 6], [0, 0, 0, 0], [0, 0, 0, 0], [0, 0, 0, 0]], [[0, 0, 0, 0], [0, 0, 0, 0], [0, 0, 0, 0], [0, 0, 0, 0]]]\n"
     ]
    }
   ],
   "source": [
    "from plaid.openfold_utils import get_chi_atom_indices\n",
    "\n",
    "chi_idxs = get_chi_atom_indices()\n",
    "print(chi_idxs)"
   ]
  },
  {
   "cell_type": "code",
   "execution_count": 8,
   "id": "e33e3763-9012-446a-b752-4b1dcc7e5f07",
   "metadata": {},
   "outputs": [],
   "source": [
    "pdb_feats = {}\n",
    "import numpy as np\n",
    "\n",
    "for k, v in protein_features.items():\n",
    "    if not v.dtype == np.object_:\n",
    "        pdb_feats[k] = torch.from_numpy(v) #.cuda()"
   ]
  },
  {
   "cell_type": "code",
   "execution_count": 9,
   "id": "1ae10a57-28bd-43b6-9b26-0cc50b8b47da",
   "metadata": {},
   "outputs": [],
   "source": [
    "from plaid.openfold_utils._data_transforms import *\n",
    "\n"
   ]
  },
  {
   "cell_type": "code",
   "execution_count": 10,
   "id": "8e590b88-2da1-4524-b1d8-35cb5bd55d4e",
   "metadata": {},
   "outputs": [
    {
     "name": "stdout",
     "output_type": "stream",
     "text": [
      "['aatype',\n",
      " 'between_segment_residues',\n",
      " 'residue_index',\n",
      " 'seq_length',\n",
      " 'all_atom_positions',\n",
      " 'all_atom_mask',\n",
      " 'resolution',\n",
      " 'is_distillation',\n",
      " 'all_atom_aatype']\n",
      "\n",
      " _______ \n",
      "\n",
      "['aatype',\n",
      " 'between_segment_residues',\n",
      " 'residue_index',\n",
      " 'seq_length',\n",
      " 'all_atom_positions',\n",
      " 'all_atom_mask',\n",
      " 'resolution',\n",
      " 'is_distillation',\n",
      " 'all_atom_aatype',\n",
      " 'seq_mask']\n",
      "\n",
      " _______ \n",
      "\n",
      "['aatype',\n",
      " 'between_segment_residues',\n",
      " 'residue_index',\n",
      " 'seq_length',\n",
      " 'all_atom_positions',\n",
      " 'all_atom_mask',\n",
      " 'resolution',\n",
      " 'is_distillation',\n",
      " 'all_atom_aatype',\n",
      " 'seq_mask',\n",
      " 'atom14_atom_exists',\n",
      " 'residx_atom14_to_atom37',\n",
      " 'residx_atom37_to_atom14',\n",
      " 'atom37_atom_exists']\n",
      "\n",
      " _______ \n",
      "\n",
      "['aatype',\n",
      " 'between_segment_residues',\n",
      " 'residue_index',\n",
      " 'seq_length',\n",
      " 'all_atom_positions',\n",
      " 'all_atom_mask',\n",
      " 'resolution',\n",
      " 'is_distillation',\n",
      " 'all_atom_aatype',\n",
      " 'seq_mask',\n",
      " 'atom14_atom_exists',\n",
      " 'residx_atom14_to_atom37',\n",
      " 'residx_atom37_to_atom14',\n",
      " 'atom37_atom_exists',\n",
      " 'atom14_gt_exists',\n",
      " 'atom14_gt_positions',\n",
      " 'atom14_alt_gt_positions',\n",
      " 'atom14_alt_gt_exists',\n",
      " 'atom14_atom_is_ambiguous']\n",
      "\n",
      " _______ \n",
      "\n",
      "['aatype',\n",
      " 'between_segment_residues',\n",
      " 'residue_index',\n",
      " 'seq_length',\n",
      " 'all_atom_positions',\n",
      " 'all_atom_mask',\n",
      " 'resolution',\n",
      " 'is_distillation',\n",
      " 'all_atom_aatype',\n",
      " 'seq_mask',\n",
      " 'atom14_atom_exists',\n",
      " 'residx_atom14_to_atom37',\n",
      " 'residx_atom37_to_atom14',\n",
      " 'atom37_atom_exists',\n",
      " 'atom14_gt_exists',\n",
      " 'atom14_gt_positions',\n",
      " 'atom14_alt_gt_positions',\n",
      " 'atom14_alt_gt_exists',\n",
      " 'atom14_atom_is_ambiguous',\n",
      " 'rigidgroups_gt_frames',\n",
      " 'rigidgroups_gt_exists',\n",
      " 'rigidgroups_group_exists',\n",
      " 'rigidgroups_group_is_ambiguous',\n",
      " 'rigidgroups_alt_gt_frames']\n",
      "\n",
      " _______ \n",
      "\n",
      "['aatype',\n",
      " 'between_segment_residues',\n",
      " 'residue_index',\n",
      " 'seq_length',\n",
      " 'all_atom_positions',\n",
      " 'all_atom_mask',\n",
      " 'resolution',\n",
      " 'is_distillation',\n",
      " 'all_atom_aatype',\n",
      " 'seq_mask',\n",
      " 'atom14_atom_exists',\n",
      " 'residx_atom14_to_atom37',\n",
      " 'residx_atom37_to_atom14',\n",
      " 'atom37_atom_exists',\n",
      " 'atom14_gt_exists',\n",
      " 'atom14_gt_positions',\n",
      " 'atom14_alt_gt_positions',\n",
      " 'atom14_alt_gt_exists',\n",
      " 'atom14_atom_is_ambiguous',\n",
      " 'rigidgroups_gt_frames',\n",
      " 'rigidgroups_gt_exists',\n",
      " 'rigidgroups_group_exists',\n",
      " 'rigidgroups_group_is_ambiguous',\n",
      " 'rigidgroups_alt_gt_frames',\n",
      " 'backbone_rigid_tensor',\n",
      " 'backbone_rigid_mask']\n",
      "\n",
      " _______ \n",
      "\n"
     ]
    }
   ],
   "source": [
    "p = make_all_atom_aatype(pdb_feats)\n",
    "pretty_print(p)\n",
    "\n",
    "p = make_seq_mask(p)\n",
    "pretty_print(p)\n",
    "\n",
    "p = make_atom14_masks(p)\n",
    "pretty_print(p)\n",
    "\n",
    "p = make_atom14_positions(p)\n",
    "pretty_print(p)\n",
    "\n",
    "p = atom37_to_frames(p)\n",
    "pretty_print(p)\n",
    "\n",
    "p = get_backbone_frames(p)\n",
    "pretty_print(p)\n",
    "\n",
    "# f = make_pseudo_beta(\"\")\n",
    "# p = f(p)\n",
    "# pretty_print(p)\n",
    "\n",
    "# f = atom37_to_torsion_angles(\"\")\n",
    "# p = f(p)\n",
    "# pretty_print(p)\n",
    "\n",
    "# p = get_chi_angles(p)\n",
    "# pretty_print(p)"
   ]
  },
  {
   "cell_type": "code",
   "execution_count": 11,
   "id": "1b7687f4-e163-4ec6-8956-a2e2c4fddaa0",
   "metadata": {},
   "outputs": [
    {
     "name": "stdout",
     "output_type": "stream",
     "text": [
      "aatype torch.Size([69, 21])\n",
      "between_segment_residues torch.Size([69])\n",
      "residue_index torch.Size([69])\n",
      "seq_length torch.Size([69])\n",
      "all_atom_positions torch.Size([69, 37, 3])\n",
      "all_atom_mask torch.Size([69, 37])\n",
      "resolution torch.Size([1])\n",
      "is_distillation torch.Size([])\n",
      "all_atom_aatype torch.Size([69, 21])\n",
      "seq_mask torch.Size([69, 21])\n",
      "atom14_atom_exists torch.Size([69, 21, 14])\n",
      "residx_atom14_to_atom37 torch.Size([69, 21, 14])\n",
      "residx_atom37_to_atom14 torch.Size([69, 21, 37])\n",
      "atom37_atom_exists torch.Size([69, 21, 37])\n",
      "atom14_gt_exists torch.Size([69, 21, 14])\n",
      "atom14_gt_positions torch.Size([69, 21, 14, 3])\n",
      "atom14_alt_gt_positions torch.Size([69, 21, 14, 3])\n",
      "atom14_alt_gt_exists torch.Size([69, 21, 14])\n",
      "atom14_atom_is_ambiguous torch.Size([69, 21, 14])\n",
      "rigidgroups_gt_frames torch.Size([69, 21, 8, 4, 4])\n",
      "rigidgroups_gt_exists torch.Size([69, 21, 8])\n",
      "rigidgroups_group_exists torch.Size([69, 21, 8])\n",
      "rigidgroups_group_is_ambiguous torch.Size([69, 21, 8])\n",
      "rigidgroups_alt_gt_frames torch.Size([69, 21, 8, 4, 4])\n",
      "backbone_rigid_tensor torch.Size([69, 21, 4, 4])\n",
      "backbone_rigid_mask torch.Size([69, 21])\n"
     ]
    }
   ],
   "source": [
    "for k, v in p.items():\n",
    "    try:\n",
    "        print(k, v.shape)\n",
    "    except:\n",
    "        print(k)\n",
    "        pass"
   ]
  },
  {
   "cell_type": "code",
   "execution_count": 12,
   "id": "267e5c8e-f3d2-4368-98b0-cca29d49386f",
   "metadata": {},
   "outputs": [],
   "source": [
    "# f = make_pseudo_beta(\"\")\n",
    "# p = f(p)\n",
    "# pretty_print(p)\n",
    "\n",
    "# # f = atom37_to_torsion_angles(\"\")\n",
    "# # p = f(p)\n",
    "# # pretty_print(p)\n",
    "\n",
    "# # p = get_chi_angles(p)\n",
    "# # pretty_print(p)"
   ]
  },
  {
   "cell_type": "markdown",
   "id": "f542e5c0-eb56-4398-bfc8-1410eb5cdb0d",
   "metadata": {},
   "source": [
    "# Load Features"
   ]
  },
  {
   "cell_type": "code",
   "execution_count": 5,
   "id": "2211a008-8e83-40a5-9e8b-f8af390ef075",
   "metadata": {},
   "outputs": [
    {
     "name": "stdout",
     "output_type": "stream",
     "text": [
      "4\n"
     ]
    }
   ],
   "source": [
    "# get saved embedding\n",
    "from plaid.datasets import CATHStructureDataModule\n",
    "\n",
    "shard_dir = \"/homefs/home/lux70/storage/data/cath/shards/\"\n",
    "pdb_dir = \"/data/bucket/lux70/data/cath/dompdb\"\n",
    "# shard_dir = \"/homefs/home/lux70/storage/data/rocklin/shards/\"\n",
    "# pdb_dir = \"/data/bucket/lux70/data/rocklin/structures/\"\n",
    "\n",
    "NUM_SAMPLES = 4\n",
    "max_seq_len=64\n",
    "\n",
    "dm = CATHStructureDataModule(\n",
    "    shard_dir,\n",
    "    pdb_dir,\n",
    "    seq_len=max_seq_len,\n",
    "    batch_size=NUM_SAMPLES,\n",
    "    max_num_samples=NUM_SAMPLES,\n",
    "    shuffle_val_dataset=False\n",
    ") \n",
    "    \n",
    "dm.setup()\n",
    "val_dataloader = dm.val_dataloader()\n",
    "next_batch = next(iter(val_dataloader))\n",
    "print(len(val_dataloader.dataset))"
   ]
  },
  {
   "cell_type": "code",
   "execution_count": 6,
   "id": "f3a0a393-ae06-4b6f-8a1f-c010d3d4be74",
   "metadata": {},
   "outputs": [
    {
     "name": "stdout",
     "output_type": "stream",
     "text": [
      "dict_keys(['aatype', 'between_segment_residues', 'domain_name', 'residue_index', 'seq_length', 'sequence', 'all_atom_positions', 'all_atom_mask', 'resolution', 'is_distillation', 'mask', 'all_atom_aatype', 'seq_mask', 'atom14_atom_exists', 'residx_atom14_to_atom37', 'residx_atom37_to_atom14', 'atom37_atom_exists', 'atom14_gt_exists', 'atom14_gt_positions', 'atom14_alt_gt_positions', 'atom14_alt_gt_exists', 'atom14_atom_is_ambiguous', 'rigidgroups_gt_frames', 'rigidgroups_gt_exists', 'rigidgroups_group_exists', 'rigidgroups_group_is_ambiguous', 'rigidgroups_alt_gt_frames', 'backbone_rigid_tensor', 'backbone_rigid_mask'])\n",
      "torch.Size([4, 64])\n",
      "torch.Size([4, 64, 14, 3])\n",
      "torch.Size([4, 64, 14, 3])\n",
      "torch.Size([4, 64, 4, 4])\n"
     ]
    }
   ],
   "source": [
    "x, sequence, batch = next_batch\n",
    "\n",
    "for k, v in batch.items():\n",
    "    try:\n",
    "        batch[k] = v.to(device)\n",
    "    except:\n",
    "        pass\n",
    "\n",
    "\n",
    "print(batch.keys())\n",
    "print(batch['aatype'].shape)\n",
    "print(batch['atom14_gt_positions'].shape)\n",
    "print(batch['atom14_alt_gt_positions'].shape)\n",
    "print(batch['backbone_rigid_tensor'].shape)"
   ]
  },
  {
   "cell_type": "code",
   "execution_count": 7,
   "id": "71af61ff-fd2b-43d4-815a-a6cbbd63c557",
   "metadata": {},
   "outputs": [
    {
     "name": "stdout",
     "output_type": "stream",
     "text": [
      "loading esmfold model...\n",
      "ESMFold model created in 45.73 seconds.\n"
     ]
    },
    {
     "name": "stderr",
     "output_type": "stream",
     "text": [
      "(Generating structure): 100%|█████████████████████████████████████████████████████████████████████████████████████████████████████| 1/1 [00:02<00:00,  2.61s/it]\n"
     ]
    }
   ],
   "source": [
    "# get corresponding mask, to be used later\n",
    "_, mask, _, _, _ = batch_encode_sequences(sequence)\n",
    "\n",
    "mask = trim_or_pad_batch_first(mask, pad_to=max_seq_len, pad_idx=0).to(device)\n",
    "\n",
    "# implicitly calls Openfold structure module\n",
    "latent_to_structure = LatentToStructure()\n",
    "latent_to_structure.to(device)\n",
    "struct = latent_to_structure.to_structure(\n",
    "    x, sequence, return_raw_features=True, batch_size=NUM_SAMPLES, num_recycles=1\n",
    ")"
   ]
  },
  {
   "cell_type": "code",
   "execution_count": 11,
   "id": "abbb055b-75bf-43ec-8be5-bcd833a60717",
   "metadata": {},
   "outputs": [
    {
     "name": "stdout",
     "output_type": "stream",
     "text": [
      "['frames',\n",
      " 'sidechain_frames',\n",
      " 'unnormalized_angles',\n",
      " 'angles',\n",
      " 'positions',\n",
      " 'states',\n",
      " 's_initial',\n",
      " 's_after_layernorm',\n",
      " 'z_after_layernorm',\n",
      " 'single',\n",
      " 'sm_s',\n",
      " 'sm_z',\n",
      " 's_s',\n",
      " 's_z',\n",
      " 'distogram_logits',\n",
      " 'lm_logits',\n",
      " 'aatype',\n",
      " 'atom14_atom_exists',\n",
      " 'residx_atom14_to_atom37',\n",
      " 'residx_atom37_to_atom14',\n",
      " 'atom37_atom_exists',\n",
      " 'residue_index',\n",
      " 'lddt_head',\n",
      " 'plddt',\n",
      " 'ptm_logits',\n",
      " 'ptm',\n",
      " 'aligned_confidence_probs',\n",
      " 'predicted_aligned_error',\n",
      " 'max_predicted_aligned_error']\n",
      "\n",
      " _______ \n",
      "\n"
     ]
    }
   ],
   "source": [
    "import pprint\n",
    "out = struct[-1][0]\n",
    "pretty_print(out)"
   ]
  },
  {
   "cell_type": "code",
   "execution_count": 12,
   "id": "db1a9faa-a65c-4ef4-a116-5f84b016b458",
   "metadata": {},
   "outputs": [
    {
     "name": "stdout",
     "output_type": "stream",
     "text": [
      "torch.Size([8, 4, 64, 14, 3])\n",
      "cuda:0\n",
      "torch.Size([4, 64, 14, 3])\n",
      "cuda:0\n"
     ]
    }
   ],
   "source": [
    "print(out['positions'].shape)\n",
    "print(out['positions'].device)\n",
    "print(batch[\"atom14_alt_gt_positions\"].shape)\n",
    "print(batch[\"atom14_alt_gt_positions\"].device)"
   ]
  },
  {
   "cell_type": "code",
   "execution_count": 13,
   "id": "43b58f1f-6a82-4c3a-9b25-ecce6b362500",
   "metadata": {},
   "outputs": [],
   "source": [
    "# save some CUDA memory:\n",
    "del latent_to_structure"
   ]
  },
  {
   "cell_type": "markdown",
   "id": "fb92b288-06fd-422b-9d66-d3c236573302",
   "metadata": {},
   "source": [
    "### Renaming"
   ]
  },
  {
   "cell_type": "code",
   "execution_count": 14,
   "id": "cde79dee-2875-44b2-9eec-f08360b11412",
   "metadata": {},
   "outputs": [
    {
     "name": "stdout",
     "output_type": "stream",
     "text": [
      "dict_keys(['alt_naming_is_better', 'renamed_atom14_gt_positions', 'renamed_atom14_gt_exists'])\n"
     ]
    }
   ],
   "source": [
    "# from openfold.utils.loss import compute_renamed_ground_truth\n",
    "from plaid.openfold_utils._losses import compute_renamed_ground_truth\n",
    "outd  = compute_renamed_ground_truth(batch, out['positions'])\n",
    "print(outd.keys())\n",
    "\n",
    "batch = batch | outd"
   ]
  },
  {
   "cell_type": "markdown",
   "id": "686743b5-1329-4f6b-9c07-cce391acf310",
   "metadata": {},
   "source": [
    "## Get loss config"
   ]
  },
  {
   "cell_type": "code",
   "execution_count": 15,
   "id": "27189a36-b291-4613-aa75-daa2985ff1a2",
   "metadata": {},
   "outputs": [
    {
     "name": "stdout",
     "output_type": "stream",
     "text": [
      "<class 'ml_collections.config_dict.config_dict.ConfigDict'>\n",
      "['data', 'ema', 'globals', 'loss', 'model', 'relax']\n",
      "['distogram', 'eps', 'experimentally_resolved', 'fape', 'masked_msa', 'plddt_loss', 'supervised_chi', 'tm', 'violation']\n",
      "['backbone', 'eps', 'sidechain', 'weight']\n"
     ]
    }
   ],
   "source": [
    "from openfold.config import model_config\n",
    "config = model_config(name=\"initial_training\", train=True)\n",
    "print(type(config))\n",
    "print(config.keys())\n",
    "print(config.loss.keys())\n",
    "print(config.loss.fape.keys())"
   ]
  },
  {
   "cell_type": "markdown",
   "id": "18165e84-81c0-4b5a-a127-8f5a0a1edae9",
   "metadata": {},
   "source": [
    "# Try Losses"
   ]
  },
  {
   "cell_type": "markdown",
   "id": "a989608b-d974-4f61-8766-af3e4732fe11",
   "metadata": {},
   "source": [
    "## Backbone Loss"
   ]
  },
  {
   "cell_type": "code",
   "execution_count": 16,
   "id": "34ffa02f-1e01-4f7b-8539-e9681f73607d",
   "metadata": {},
   "outputs": [
    {
     "name": "stdout",
     "output_type": "stream",
     "text": [
      "tensor(0.9094, device='cuda:0')\n"
     ]
    }
   ],
   "source": [
    "from openfold.utils.loss import backbone_loss\n",
    "traj = out['frames']\n",
    "bb_loss = backbone_loss(traj=traj, **{**batch, **config.loss.fape.backbone})\n",
    "print(bb_loss)"
   ]
  },
  {
   "cell_type": "markdown",
   "id": "2f411a52-d751-45c3-8fd2-9366fd18869c",
   "metadata": {},
   "source": [
    "## Sidechain Loss"
   ]
  },
  {
   "cell_type": "code",
   "execution_count": 18,
   "id": "1fb333ee-7759-4dbc-bd2d-a8b6f0615ac5",
   "metadata": {},
   "outputs": [],
   "source": [
    "from plaid.openfold_utils._losses import sidechain_loss\n",
    "\n",
    "with torch.no_grad():\n",
    "    sc_loss = sidechain_loss(\n",
    "        out[\"sidechain_frames\"],\n",
    "        out[\"positions\"],\n",
    "        **{**batch, **config.loss.fape.sidechain},\n",
    "    )"
   ]
  },
  {
   "cell_type": "markdown",
   "id": "4535e9a1-145c-4014-9323-0b50ec41b680",
   "metadata": {},
   "source": [
    "## Distogram Loss"
   ]
  },
  {
   "cell_type": "code",
   "execution_count": 19,
   "id": "8c900bad-adea-4ddb-beb7-2bb2ca996c9e",
   "metadata": {},
   "outputs": [
    {
     "ename": "TypeError",
     "evalue": "distogram_loss() missing 2 required positional arguments: 'pseudo_beta' and 'pseudo_beta_mask'",
     "output_type": "error",
     "traceback": [
      "\u001b[0;31m---------------------------------------------------------------------------\u001b[0m",
      "\u001b[0;31mTypeError\u001b[0m                                 Traceback (most recent call last)",
      "Cell \u001b[0;32mIn[19], line 2\u001b[0m\n\u001b[1;32m      1\u001b[0m \u001b[38;5;28;01mfrom\u001b[39;00m \u001b[38;5;21;01mopenfold\u001b[39;00m\u001b[38;5;21;01m.\u001b[39;00m\u001b[38;5;21;01mutils\u001b[39;00m\u001b[38;5;21;01m.\u001b[39;00m\u001b[38;5;21;01mloss\u001b[39;00m \u001b[38;5;28;01mimport\u001b[39;00m distogram_loss\n\u001b[0;32m----> 2\u001b[0m \u001b[43mdistogram_loss\u001b[49m\u001b[43m(\u001b[49m\u001b[43mout\u001b[49m\u001b[43m[\u001b[49m\u001b[38;5;124;43m'\u001b[39;49m\u001b[38;5;124;43mdistogram_logits\u001b[39;49m\u001b[38;5;124;43m'\u001b[39;49m\u001b[43m]\u001b[49m\u001b[43m,\u001b[49m\u001b[43m \u001b[49m\u001b[38;5;241;43m*\u001b[39;49m\u001b[38;5;241;43m*\u001b[39;49m\u001b[43m{\u001b[49m\u001b[38;5;241;43m*\u001b[39;49m\u001b[38;5;241;43m*\u001b[39;49m\u001b[43mbatch\u001b[49m\u001b[43m,\u001b[49m\u001b[43m \u001b[49m\u001b[38;5;241;43m*\u001b[39;49m\u001b[38;5;241;43m*\u001b[39;49m\u001b[43mconfig\u001b[49m\u001b[38;5;241;43m.\u001b[39;49m\u001b[43mloss\u001b[49m\u001b[38;5;241;43m.\u001b[39;49m\u001b[43mdistogram\u001b[49m\u001b[43m}\u001b[49m\u001b[43m)\u001b[49m\n",
      "\u001b[0;31mTypeError\u001b[0m: distogram_loss() missing 2 required positional arguments: 'pseudo_beta' and 'pseudo_beta_mask'"
     ]
    }
   ],
   "source": [
    "from openfold.utils.loss import distogram_loss\n",
    "distogram_loss(out['distogram_logits'], **{**batch, **config.loss.distogram})"
   ]
  },
  {
   "cell_type": "markdown",
   "id": "8f43d556-0423-4a1a-bd8b-68cc5e9ab1bb",
   "metadata": {},
   "source": [
    "## Experimentally resolved loss"
   ]
  },
  {
   "cell_type": "code",
   "execution_count": 20,
   "id": "6a094272-e1bc-4d4c-86df-2ed23c9f5952",
   "metadata": {},
   "outputs": [
    {
     "ename": "KeyError",
     "evalue": "'experimentally_resolved_logits'",
     "output_type": "error",
     "traceback": [
      "\u001b[0;31m---------------------------------------------------------------------------\u001b[0m",
      "\u001b[0;31mKeyError\u001b[0m                                  Traceback (most recent call last)",
      "Cell \u001b[0;32mIn[20], line 3\u001b[0m\n\u001b[1;32m      1\u001b[0m \u001b[38;5;28;01mfrom\u001b[39;00m \u001b[38;5;21;01mopenfold\u001b[39;00m\u001b[38;5;21;01m.\u001b[39;00m\u001b[38;5;21;01mutils\u001b[39;00m\u001b[38;5;21;01m.\u001b[39;00m\u001b[38;5;21;01mloss\u001b[39;00m \u001b[38;5;28;01mimport\u001b[39;00m experimentally_resolved_loss\n\u001b[1;32m      2\u001b[0m experimentally_resolved_loss(\n\u001b[0;32m----> 3\u001b[0m     logits\u001b[38;5;241m=\u001b[39m\u001b[43mout\u001b[49m\u001b[43m[\u001b[49m\u001b[38;5;124;43m'\u001b[39;49m\u001b[38;5;124;43mexperimentally_resolved_logits\u001b[39;49m\u001b[38;5;124;43m'\u001b[39;49m\u001b[43m]\u001b[49m,\n\u001b[1;32m      4\u001b[0m     \u001b[38;5;241m*\u001b[39m\u001b[38;5;241m*\u001b[39m{\u001b[38;5;241m*\u001b[39m\u001b[38;5;241m*\u001b[39mbatch, \u001b[38;5;241m*\u001b[39m\u001b[38;5;241m*\u001b[39mconfig\u001b[38;5;241m.\u001b[39mloss\u001b[38;5;241m.\u001b[39mexperimentally_resolved}\n\u001b[1;32m      5\u001b[0m )\n",
      "\u001b[0;31mKeyError\u001b[0m: 'experimentally_resolved_logits'"
     ]
    }
   ],
   "source": [
    "from openfold.utils.loss import experimentally_resolved_loss\n",
    "experimentally_resolved_loss(\n",
    "    logits=out['experimentally_resolved_logits'],\n",
    "    **{**batch, **config.loss.experimentally_resolved}\n",
    ")"
   ]
  },
  {
   "cell_type": "markdown",
   "id": "002c528a-f98b-4b97-a856-f1a5584d7e74",
   "metadata": {},
   "source": [
    "## Combined FAPE loss"
   ]
  },
  {
   "cell_type": "code",
   "execution_count": 21,
   "id": "f8ba100d-9c2e-4373-accd-b6c16a380ee1",
   "metadata": {},
   "outputs": [
    {
     "ename": "RuntimeError",
     "evalue": "The size of tensor a (896) must match the size of tensor b (7168) at non-singleton dimension 2",
     "output_type": "error",
     "traceback": [
      "\u001b[0;31m---------------------------------------------------------------------------\u001b[0m",
      "\u001b[0;31mRuntimeError\u001b[0m                              Traceback (most recent call last)",
      "Cell \u001b[0;32mIn[21], line 3\u001b[0m\n\u001b[1;32m      1\u001b[0m \u001b[38;5;28;01mfrom\u001b[39;00m \u001b[38;5;21;01mopenfold\u001b[39;00m\u001b[38;5;21;01m.\u001b[39;00m\u001b[38;5;21;01mutils\u001b[39;00m\u001b[38;5;21;01m.\u001b[39;00m\u001b[38;5;21;01mloss\u001b[39;00m \u001b[38;5;28;01mimport\u001b[39;00m fape_loss\n\u001b[1;32m      2\u001b[0m wrapper_out \u001b[38;5;241m=\u001b[39m {\u001b[38;5;124m\"\u001b[39m\u001b[38;5;124msm\u001b[39m\u001b[38;5;124m\"\u001b[39m: out}\n\u001b[0;32m----> 3\u001b[0m \u001b[43mfape_loss\u001b[49m\u001b[43m(\u001b[49m\u001b[43mwrapper_out\u001b[49m\u001b[43m,\u001b[49m\u001b[43m \u001b[49m\u001b[43mbatch\u001b[49m\u001b[43m,\u001b[49m\u001b[43m \u001b[49m\u001b[43mconfig\u001b[49m\u001b[38;5;241;43m.\u001b[39;49m\u001b[43mloss\u001b[49m\u001b[38;5;241;43m.\u001b[39;49m\u001b[43mfape\u001b[49m\u001b[43m)\u001b[49m\n",
      "File \u001b[0;32m~/openfold/openfold/utils/loss.py:274\u001b[0m, in \u001b[0;36mfape_loss\u001b[0;34m(out, batch, config)\u001b[0m\n\u001b[1;32m    264\u001b[0m \u001b[38;5;28;01mdef\u001b[39;00m \u001b[38;5;21mfape_loss\u001b[39m(\n\u001b[1;32m    265\u001b[0m     out: Dict[\u001b[38;5;28mstr\u001b[39m, torch\u001b[38;5;241m.\u001b[39mTensor],\n\u001b[1;32m    266\u001b[0m     batch: Dict[\u001b[38;5;28mstr\u001b[39m, torch\u001b[38;5;241m.\u001b[39mTensor],\n\u001b[1;32m    267\u001b[0m     config: ml_collections\u001b[38;5;241m.\u001b[39mConfigDict,\n\u001b[1;32m    268\u001b[0m ) \u001b[38;5;241m-\u001b[39m\u001b[38;5;241m>\u001b[39m torch\u001b[38;5;241m.\u001b[39mTensor:\n\u001b[1;32m    269\u001b[0m     bb_loss \u001b[38;5;241m=\u001b[39m backbone_loss(\n\u001b[1;32m    270\u001b[0m         traj\u001b[38;5;241m=\u001b[39mout[\u001b[38;5;124m\"\u001b[39m\u001b[38;5;124msm\u001b[39m\u001b[38;5;124m\"\u001b[39m][\u001b[38;5;124m\"\u001b[39m\u001b[38;5;124mframes\u001b[39m\u001b[38;5;124m\"\u001b[39m],\n\u001b[1;32m    271\u001b[0m         \u001b[38;5;241m*\u001b[39m\u001b[38;5;241m*\u001b[39m{\u001b[38;5;241m*\u001b[39m\u001b[38;5;241m*\u001b[39mbatch, \u001b[38;5;241m*\u001b[39m\u001b[38;5;241m*\u001b[39mconfig\u001b[38;5;241m.\u001b[39mbackbone},\n\u001b[1;32m    272\u001b[0m     )\n\u001b[0;32m--> 274\u001b[0m     sc_loss \u001b[38;5;241m=\u001b[39m \u001b[43msidechain_loss\u001b[49m\u001b[43m(\u001b[49m\n\u001b[1;32m    275\u001b[0m \u001b[43m        \u001b[49m\u001b[43mout\u001b[49m\u001b[43m[\u001b[49m\u001b[38;5;124;43m\"\u001b[39;49m\u001b[38;5;124;43msm\u001b[39;49m\u001b[38;5;124;43m\"\u001b[39;49m\u001b[43m]\u001b[49m\u001b[43m[\u001b[49m\u001b[38;5;124;43m\"\u001b[39;49m\u001b[38;5;124;43msidechain_frames\u001b[39;49m\u001b[38;5;124;43m\"\u001b[39;49m\u001b[43m]\u001b[49m\u001b[43m,\u001b[49m\n\u001b[1;32m    276\u001b[0m \u001b[43m        \u001b[49m\u001b[43mout\u001b[49m\u001b[43m[\u001b[49m\u001b[38;5;124;43m\"\u001b[39;49m\u001b[38;5;124;43msm\u001b[39;49m\u001b[38;5;124;43m\"\u001b[39;49m\u001b[43m]\u001b[49m\u001b[43m[\u001b[49m\u001b[38;5;124;43m\"\u001b[39;49m\u001b[38;5;124;43mpositions\u001b[39;49m\u001b[38;5;124;43m\"\u001b[39;49m\u001b[43m]\u001b[49m\u001b[43m,\u001b[49m\n\u001b[1;32m    277\u001b[0m \u001b[43m        \u001b[49m\u001b[38;5;241;43m*\u001b[39;49m\u001b[38;5;241;43m*\u001b[39;49m\u001b[43m{\u001b[49m\u001b[38;5;241;43m*\u001b[39;49m\u001b[38;5;241;43m*\u001b[39;49m\u001b[43mbatch\u001b[49m\u001b[43m,\u001b[49m\u001b[43m \u001b[49m\u001b[38;5;241;43m*\u001b[39;49m\u001b[38;5;241;43m*\u001b[39;49m\u001b[43mconfig\u001b[49m\u001b[38;5;241;43m.\u001b[39;49m\u001b[43msidechain\u001b[49m\u001b[43m}\u001b[49m\u001b[43m,\u001b[49m\n\u001b[1;32m    278\u001b[0m \u001b[43m    \u001b[49m\u001b[43m)\u001b[49m\n\u001b[1;32m    280\u001b[0m     loss \u001b[38;5;241m=\u001b[39m config\u001b[38;5;241m.\u001b[39mbackbone\u001b[38;5;241m.\u001b[39mweight \u001b[38;5;241m*\u001b[39m bb_loss \u001b[38;5;241m+\u001b[39m config\u001b[38;5;241m.\u001b[39msidechain\u001b[38;5;241m.\u001b[39mweight \u001b[38;5;241m*\u001b[39m sc_loss\n\u001b[1;32m    282\u001b[0m     \u001b[38;5;66;03m# Average over the batch dimension\u001b[39;00m\n",
      "File \u001b[0;32m~/openfold/openfold/utils/loss.py:249\u001b[0m, in \u001b[0;36msidechain_loss\u001b[0;34m(sidechain_frames, sidechain_atom_pos, rigidgroups_gt_frames, rigidgroups_alt_gt_frames, rigidgroups_gt_exists, renamed_atom14_gt_positions, renamed_atom14_gt_exists, alt_naming_is_better, clamp_distance, length_scale, eps, **kwargs)\u001b[0m\n\u001b[1;32m    244\u001b[0m renamed_atom14_gt_positions \u001b[38;5;241m=\u001b[39m renamed_atom14_gt_positions\u001b[38;5;241m.\u001b[39mview(\n\u001b[1;32m    245\u001b[0m     \u001b[38;5;241m*\u001b[39mbatch_dims, \u001b[38;5;241m-\u001b[39m\u001b[38;5;241m1\u001b[39m, \u001b[38;5;241m3\u001b[39m\n\u001b[1;32m    246\u001b[0m )\n\u001b[1;32m    247\u001b[0m renamed_atom14_gt_exists \u001b[38;5;241m=\u001b[39m renamed_atom14_gt_exists\u001b[38;5;241m.\u001b[39mview(\u001b[38;5;241m*\u001b[39mbatch_dims, \u001b[38;5;241m-\u001b[39m\u001b[38;5;241m1\u001b[39m)\n\u001b[0;32m--> 249\u001b[0m fape \u001b[38;5;241m=\u001b[39m \u001b[43mcompute_fape\u001b[49m\u001b[43m(\u001b[49m\n\u001b[1;32m    250\u001b[0m \u001b[43m    \u001b[49m\u001b[43msidechain_frames\u001b[49m\u001b[43m,\u001b[49m\n\u001b[1;32m    251\u001b[0m \u001b[43m    \u001b[49m\u001b[43mrenamed_gt_frames\u001b[49m\u001b[43m,\u001b[49m\n\u001b[1;32m    252\u001b[0m \u001b[43m    \u001b[49m\u001b[43mrigidgroups_gt_exists\u001b[49m\u001b[43m,\u001b[49m\n\u001b[1;32m    253\u001b[0m \u001b[43m    \u001b[49m\u001b[43msidechain_atom_pos\u001b[49m\u001b[43m,\u001b[49m\n\u001b[1;32m    254\u001b[0m \u001b[43m    \u001b[49m\u001b[43mrenamed_atom14_gt_positions\u001b[49m\u001b[43m,\u001b[49m\n\u001b[1;32m    255\u001b[0m \u001b[43m    \u001b[49m\u001b[43mrenamed_atom14_gt_exists\u001b[49m\u001b[43m,\u001b[49m\n\u001b[1;32m    256\u001b[0m \u001b[43m    \u001b[49m\u001b[43ml1_clamp_distance\u001b[49m\u001b[38;5;241;43m=\u001b[39;49m\u001b[43mclamp_distance\u001b[49m\u001b[43m,\u001b[49m\n\u001b[1;32m    257\u001b[0m \u001b[43m    \u001b[49m\u001b[43mlength_scale\u001b[49m\u001b[38;5;241;43m=\u001b[39;49m\u001b[43mlength_scale\u001b[49m\u001b[43m,\u001b[49m\n\u001b[1;32m    258\u001b[0m \u001b[43m    \u001b[49m\u001b[43meps\u001b[49m\u001b[38;5;241;43m=\u001b[39;49m\u001b[43meps\u001b[49m\u001b[43m,\u001b[49m\n\u001b[1;32m    259\u001b[0m \u001b[43m\u001b[49m\u001b[43m)\u001b[49m\n\u001b[1;32m    261\u001b[0m \u001b[38;5;28;01mreturn\u001b[39;00m fape\n",
      "File \u001b[0;32m~/openfold/openfold/utils/loss.py:127\u001b[0m, in \u001b[0;36mcompute_fape\u001b[0;34m(pred_frames, target_frames, frames_mask, pred_positions, target_positions, positions_mask, length_scale, l1_clamp_distance, eps)\u001b[0m\n\u001b[1;32m    119\u001b[0m local_pred_pos \u001b[38;5;241m=\u001b[39m pred_frames\u001b[38;5;241m.\u001b[39minvert()[\u001b[38;5;241m.\u001b[39m\u001b[38;5;241m.\u001b[39m\u001b[38;5;241m.\u001b[39m, \u001b[38;5;28;01mNone\u001b[39;00m]\u001b[38;5;241m.\u001b[39mapply(\n\u001b[1;32m    120\u001b[0m     pred_positions[\u001b[38;5;241m.\u001b[39m\u001b[38;5;241m.\u001b[39m\u001b[38;5;241m.\u001b[39m, \u001b[38;5;28;01mNone\u001b[39;00m, :, :],\n\u001b[1;32m    121\u001b[0m )\n\u001b[1;32m    122\u001b[0m local_target_pos \u001b[38;5;241m=\u001b[39m target_frames\u001b[38;5;241m.\u001b[39minvert()[\u001b[38;5;241m.\u001b[39m\u001b[38;5;241m.\u001b[39m\u001b[38;5;241m.\u001b[39m, \u001b[38;5;28;01mNone\u001b[39;00m]\u001b[38;5;241m.\u001b[39mapply(\n\u001b[1;32m    123\u001b[0m     target_positions[\u001b[38;5;241m.\u001b[39m\u001b[38;5;241m.\u001b[39m\u001b[38;5;241m.\u001b[39m, \u001b[38;5;28;01mNone\u001b[39;00m, :, :],\n\u001b[1;32m    124\u001b[0m )\n\u001b[1;32m    126\u001b[0m error_dist \u001b[38;5;241m=\u001b[39m torch\u001b[38;5;241m.\u001b[39msqrt(\n\u001b[0;32m--> 127\u001b[0m     torch\u001b[38;5;241m.\u001b[39msum((\u001b[43mlocal_pred_pos\u001b[49m\u001b[43m \u001b[49m\u001b[38;5;241;43m-\u001b[39;49m\u001b[43m \u001b[49m\u001b[43mlocal_target_pos\u001b[49m) \u001b[38;5;241m*\u001b[39m\u001b[38;5;241m*\u001b[39m \u001b[38;5;241m2\u001b[39m, dim\u001b[38;5;241m=\u001b[39m\u001b[38;5;241m-\u001b[39m\u001b[38;5;241m1\u001b[39m) \u001b[38;5;241m+\u001b[39m eps\n\u001b[1;32m    128\u001b[0m )\n\u001b[1;32m    130\u001b[0m \u001b[38;5;28;01mif\u001b[39;00m l1_clamp_distance \u001b[38;5;129;01mis\u001b[39;00m \u001b[38;5;129;01mnot\u001b[39;00m \u001b[38;5;28;01mNone\u001b[39;00m:\n\u001b[1;32m    131\u001b[0m     error_dist \u001b[38;5;241m=\u001b[39m torch\u001b[38;5;241m.\u001b[39mclamp(error_dist, \u001b[38;5;28mmin\u001b[39m\u001b[38;5;241m=\u001b[39m\u001b[38;5;241m0\u001b[39m, \u001b[38;5;28mmax\u001b[39m\u001b[38;5;241m=\u001b[39ml1_clamp_distance)\n",
      "\u001b[0;31mRuntimeError\u001b[0m: The size of tensor a (896) must match the size of tensor b (7168) at non-singleton dimension 2"
     ]
    }
   ],
   "source": [
    "from openfold.utils.loss import fape_loss\n",
    "wrapper_out = {\"sm\": out}\n",
    "fape_loss(wrapper_out, batch, config.loss.fape)"
   ]
  },
  {
   "cell_type": "markdown",
   "id": "29e26b9d-0f95-4196-8835-ece10698a36d",
   "metadata": {},
   "source": [
    "## LDDT loss"
   ]
  },
  {
   "cell_type": "code",
   "execution_count": 22,
   "id": "87fb211c-27b1-4c77-9645-67a25d5b36ac",
   "metadata": {},
   "outputs": [
    {
     "ename": "RuntimeError",
     "evalue": "The size of tensor a (50) must match the size of tensor b (37) at non-singleton dimension 3",
     "output_type": "error",
     "traceback": [
      "\u001b[0;31m---------------------------------------------------------------------------\u001b[0m",
      "\u001b[0;31mRuntimeError\u001b[0m                              Traceback (most recent call last)",
      "Cell \u001b[0;32mIn[22], line 2\u001b[0m\n\u001b[1;32m      1\u001b[0m \u001b[38;5;28;01mfrom\u001b[39;00m \u001b[38;5;21;01mopenfold\u001b[39;00m\u001b[38;5;21;01m.\u001b[39;00m\u001b[38;5;21;01mutils\u001b[39;00m\u001b[38;5;21;01m.\u001b[39;00m\u001b[38;5;21;01mloss\u001b[39;00m \u001b[38;5;28;01mimport\u001b[39;00m lddt_loss\n\u001b[0;32m----> 2\u001b[0m \u001b[43mlddt_loss\u001b[49m\u001b[43m(\u001b[49m\n\u001b[1;32m      3\u001b[0m \u001b[43m    \u001b[49m\u001b[43mlogits\u001b[49m\u001b[38;5;241;43m=\u001b[39;49m\u001b[43mout\u001b[49m\u001b[43m[\u001b[49m\u001b[38;5;124;43m'\u001b[39;49m\u001b[38;5;124;43mplddt\u001b[39;49m\u001b[38;5;124;43m'\u001b[39;49m\u001b[43m]\u001b[49m\u001b[38;5;241;43m.\u001b[39;49m\u001b[43mto\u001b[49m\u001b[43m(\u001b[49m\u001b[43mdevice\u001b[49m\u001b[43m)\u001b[49m\u001b[43m,\u001b[49m\u001b[43m \u001b[49m\u001b[38;5;66;43;03m#TODO: these are not logits\u001b[39;49;00m\n\u001b[1;32m      4\u001b[0m \u001b[43m    \u001b[49m\u001b[43mall_atom_pred_pos\u001b[49m\u001b[38;5;241;43m=\u001b[39;49m\u001b[43mout\u001b[49m\u001b[43m[\u001b[49m\u001b[38;5;124;43m'\u001b[39;49m\u001b[38;5;124;43mpositions\u001b[39;49m\u001b[38;5;124;43m'\u001b[39;49m\u001b[43m]\u001b[49m\u001b[38;5;241;43m.\u001b[39;49m\u001b[43mto\u001b[49m\u001b[43m(\u001b[49m\u001b[43mdevice\u001b[49m\u001b[43m)\u001b[49m\u001b[43m,\u001b[49m\u001b[43m  \u001b[49m\u001b[38;5;66;43;03m#TODO: confim if these are the same\u001b[39;49;00m\n\u001b[1;32m      5\u001b[0m \u001b[43m    \u001b[49m\u001b[38;5;241;43m*\u001b[39;49m\u001b[38;5;241;43m*\u001b[39;49m\u001b[43m{\u001b[49m\u001b[38;5;241;43m*\u001b[39;49m\u001b[38;5;241;43m*\u001b[39;49m\u001b[43mbatch\u001b[49m\u001b[43m,\u001b[49m\u001b[43m \u001b[49m\u001b[38;5;241;43m*\u001b[39;49m\u001b[38;5;241;43m*\u001b[39;49m\u001b[43mconfig\u001b[49m\u001b[38;5;241;43m.\u001b[39;49m\u001b[43mloss\u001b[49m\u001b[38;5;241;43m.\u001b[39;49m\u001b[43mplddt_loss\u001b[49m\u001b[43m}\u001b[49m\n\u001b[1;32m      6\u001b[0m \u001b[43m)\u001b[49m\n\u001b[1;32m      7\u001b[0m out\u001b[38;5;241m.\u001b[39mkeys()\n",
      "File \u001b[0;32m~/openfold/openfold/utils/loss.py:503\u001b[0m, in \u001b[0;36mlddt_loss\u001b[0;34m(logits, all_atom_pred_pos, all_atom_positions, all_atom_mask, resolution, cutoff, no_bins, min_resolution, max_resolution, eps, **kwargs)\u001b[0m\n\u001b[1;32m    498\u001b[0m bin_index \u001b[38;5;241m=\u001b[39m torch\u001b[38;5;241m.\u001b[39mclamp(bin_index, \u001b[38;5;28mmax\u001b[39m\u001b[38;5;241m=\u001b[39m(no_bins \u001b[38;5;241m-\u001b[39m \u001b[38;5;241m1\u001b[39m))\n\u001b[1;32m    499\u001b[0m lddt_ca_one_hot \u001b[38;5;241m=\u001b[39m torch\u001b[38;5;241m.\u001b[39mnn\u001b[38;5;241m.\u001b[39mfunctional\u001b[38;5;241m.\u001b[39mone_hot(\n\u001b[1;32m    500\u001b[0m     bin_index, num_classes\u001b[38;5;241m=\u001b[39mno_bins\n\u001b[1;32m    501\u001b[0m )\n\u001b[0;32m--> 503\u001b[0m errors \u001b[38;5;241m=\u001b[39m \u001b[43msoftmax_cross_entropy\u001b[49m\u001b[43m(\u001b[49m\u001b[43mlogits\u001b[49m\u001b[43m,\u001b[49m\u001b[43m \u001b[49m\u001b[43mlddt_ca_one_hot\u001b[49m\u001b[43m)\u001b[49m\n\u001b[1;32m    504\u001b[0m all_atom_mask \u001b[38;5;241m=\u001b[39m all_atom_mask\u001b[38;5;241m.\u001b[39msqueeze(\u001b[38;5;241m-\u001b[39m\u001b[38;5;241m1\u001b[39m)\n\u001b[1;32m    505\u001b[0m loss \u001b[38;5;241m=\u001b[39m torch\u001b[38;5;241m.\u001b[39msum(errors \u001b[38;5;241m*\u001b[39m all_atom_mask, dim\u001b[38;5;241m=\u001b[39m\u001b[38;5;241m-\u001b[39m\u001b[38;5;241m1\u001b[39m) \u001b[38;5;241m/\u001b[39m (\n\u001b[1;32m    506\u001b[0m     eps \u001b[38;5;241m+\u001b[39m torch\u001b[38;5;241m.\u001b[39msum(all_atom_mask, dim\u001b[38;5;241m=\u001b[39m\u001b[38;5;241m-\u001b[39m\u001b[38;5;241m1\u001b[39m)\n\u001b[1;32m    507\u001b[0m )\n",
      "File \u001b[0;32m~/openfold/openfold/utils/loss.py:39\u001b[0m, in \u001b[0;36msoftmax_cross_entropy\u001b[0;34m(logits, labels)\u001b[0m\n\u001b[1;32m     37\u001b[0m \u001b[38;5;28;01mdef\u001b[39;00m \u001b[38;5;21msoftmax_cross_entropy\u001b[39m(logits, labels):\n\u001b[1;32m     38\u001b[0m     loss \u001b[38;5;241m=\u001b[39m \u001b[38;5;241m-\u001b[39m\u001b[38;5;241m1\u001b[39m \u001b[38;5;241m*\u001b[39m torch\u001b[38;5;241m.\u001b[39msum(\n\u001b[0;32m---> 39\u001b[0m         \u001b[43mlabels\u001b[49m\u001b[43m \u001b[49m\u001b[38;5;241;43m*\u001b[39;49m\u001b[43m \u001b[49m\u001b[43mtorch\u001b[49m\u001b[38;5;241;43m.\u001b[39;49m\u001b[43mnn\u001b[49m\u001b[38;5;241;43m.\u001b[39;49m\u001b[43mfunctional\u001b[49m\u001b[38;5;241;43m.\u001b[39;49m\u001b[43mlog_softmax\u001b[49m\u001b[43m(\u001b[49m\u001b[43mlogits\u001b[49m\u001b[43m,\u001b[49m\u001b[43m \u001b[49m\u001b[43mdim\u001b[49m\u001b[38;5;241;43m=\u001b[39;49m\u001b[38;5;241;43m-\u001b[39;49m\u001b[38;5;241;43m1\u001b[39;49m\u001b[43m)\u001b[49m,\n\u001b[1;32m     40\u001b[0m         dim\u001b[38;5;241m=\u001b[39m\u001b[38;5;241m-\u001b[39m\u001b[38;5;241m1\u001b[39m,\n\u001b[1;32m     41\u001b[0m     )\n\u001b[1;32m     42\u001b[0m     \u001b[38;5;28;01mreturn\u001b[39;00m loss\n",
      "\u001b[0;31mRuntimeError\u001b[0m: The size of tensor a (50) must match the size of tensor b (37) at non-singleton dimension 3"
     ]
    }
   ],
   "source": [
    "from openfold.utils.loss import lddt_loss\n",
    "lddt_loss(\n",
    "    logits=out['plddt'].to(device), #TODO: these are not logits\n",
    "    all_atom_pred_pos=out['positions'].to(device),  #TODO: confim if these are the same\n",
    "    **{**batch, **config.loss.plddt_loss}\n",
    ")\n",
    "out.keys()"
   ]
  },
  {
   "cell_type": "markdown",
   "id": "7c790140-25e5-46f9-9955-8e5b0574d920",
   "metadata": {},
   "source": [
    "# Supervised chi loss"
   ]
  },
  {
   "cell_type": "code",
   "execution_count": 23,
   "id": "eeda980c-7166-4dd8-8729-327c27c0cc39",
   "metadata": {},
   "outputs": [
    {
     "ename": "TypeError",
     "evalue": "supervised_chi_loss() missing 2 required positional arguments: 'chi_mask' and 'chi_angles_sin_cos'",
     "output_type": "error",
     "traceback": [
      "\u001b[0;31m---------------------------------------------------------------------------\u001b[0m",
      "\u001b[0;31mTypeError\u001b[0m                                 Traceback (most recent call last)",
      "Cell \u001b[0;32mIn[23], line 2\u001b[0m\n\u001b[1;32m      1\u001b[0m \u001b[38;5;28;01mfrom\u001b[39;00m \u001b[38;5;21;01mopenfold\u001b[39;00m\u001b[38;5;21;01m.\u001b[39;00m\u001b[38;5;21;01mutils\u001b[39;00m\u001b[38;5;21;01m.\u001b[39;00m\u001b[38;5;21;01mloss\u001b[39;00m \u001b[38;5;28;01mimport\u001b[39;00m supervised_chi_loss\n\u001b[0;32m----> 2\u001b[0m \u001b[43msupervised_chi_loss\u001b[49m\u001b[43m(\u001b[49m\n\u001b[1;32m      3\u001b[0m \u001b[43m    \u001b[49m\u001b[43mout\u001b[49m\u001b[43m[\u001b[49m\u001b[38;5;124;43m\"\u001b[39;49m\u001b[38;5;124;43mangles\u001b[39;49m\u001b[38;5;124;43m\"\u001b[39;49m\u001b[43m]\u001b[49m\u001b[43m,\u001b[49m\u001b[43m \u001b[49m\u001b[43mout\u001b[49m\u001b[43m[\u001b[49m\u001b[38;5;124;43m\"\u001b[39;49m\u001b[38;5;124;43munnormalized_angles\u001b[39;49m\u001b[38;5;124;43m\"\u001b[39;49m\u001b[43m]\u001b[49m\u001b[43m,\u001b[49m\u001b[43m \u001b[49m\u001b[38;5;241;43m*\u001b[39;49m\u001b[38;5;241;43m*\u001b[39;49m\u001b[43m{\u001b[49m\u001b[38;5;241;43m*\u001b[39;49m\u001b[38;5;241;43m*\u001b[39;49m\u001b[43mbatch\u001b[49m\u001b[43m,\u001b[49m\u001b[43m \u001b[49m\u001b[38;5;241;43m*\u001b[39;49m\u001b[38;5;241;43m*\u001b[39;49m\u001b[43mconfig\u001b[49m\u001b[38;5;241;43m.\u001b[39;49m\u001b[43mloss\u001b[49m\u001b[38;5;241;43m.\u001b[39;49m\u001b[43msupervised_chi\u001b[49m\u001b[43m}\u001b[49m\n\u001b[1;32m      4\u001b[0m \u001b[43m)\u001b[49m\n",
      "\u001b[0;31mTypeError\u001b[0m: supervised_chi_loss() missing 2 required positional arguments: 'chi_mask' and 'chi_angles_sin_cos'"
     ]
    }
   ],
   "source": [
    "from openfold.utils.loss import supervised_chi_loss\n",
    "supervised_chi_loss(\n",
    "    out[\"angles\"], out[\"unnormalized_angles\"], **{**batch, **config.loss.supervised_chi}\n",
    ")"
   ]
  },
  {
   "cell_type": "markdown",
   "id": "be8b95b7-a300-4d76-8385-1a44dfda5ded",
   "metadata": {},
   "source": [
    "## Violation Loss"
   ]
  },
  {
   "cell_type": "code",
   "execution_count": 24,
   "id": "e251f672-a3f7-4b06-9bab-7b295c8fb8e6",
   "metadata": {},
   "outputs": [
    {
     "ename": "KeyError",
     "evalue": "'violation'",
     "output_type": "error",
     "traceback": [
      "\u001b[0;31m---------------------------------------------------------------------------\u001b[0m",
      "\u001b[0;31mKeyError\u001b[0m                                  Traceback (most recent call last)",
      "Cell \u001b[0;32mIn[24], line 3\u001b[0m\n\u001b[1;32m      1\u001b[0m \u001b[38;5;28;01mfrom\u001b[39;00m \u001b[38;5;21;01mopenfold\u001b[39;00m\u001b[38;5;21;01m.\u001b[39;00m\u001b[38;5;21;01mutils\u001b[39;00m\u001b[38;5;21;01m.\u001b[39;00m\u001b[38;5;21;01mloss\u001b[39;00m \u001b[38;5;28;01mimport\u001b[39;00m violation_loss\n\u001b[1;32m      2\u001b[0m violation_loss(\n\u001b[0;32m----> 3\u001b[0m     \u001b[43mout\u001b[49m\u001b[43m[\u001b[49m\u001b[38;5;124;43m'\u001b[39;49m\u001b[38;5;124;43mviolation\u001b[39;49m\u001b[38;5;124;43m'\u001b[39;49m\u001b[43m]\u001b[49m, \u001b[38;5;241m*\u001b[39m\u001b[38;5;241m*\u001b[39m{\u001b[38;5;241m*\u001b[39m\u001b[38;5;241m*\u001b[39mbatch, \u001b[38;5;241m*\u001b[39m\u001b[38;5;241m*\u001b[39mconfig\u001b[38;5;241m.\u001b[39mloss\u001b[38;5;241m.\u001b[39mviolation}\n\u001b[1;32m      4\u001b[0m )\n",
      "\u001b[0;31mKeyError\u001b[0m: 'violation'"
     ]
    }
   ],
   "source": [
    "from openfold.utils.loss import violation_loss\n",
    "violation_loss(\n",
    "    out['violation'], **{**batch, **config.loss.violation}\n",
    ")"
   ]
  },
  {
   "cell_type": "markdown",
   "id": "6c58340a-207a-4c4e-8b41-49f959485a64",
   "metadata": {},
   "source": [
    "## TM loss"
   ]
  },
  {
   "cell_type": "code",
   "execution_count": 25,
   "id": "14533f69-8de7-4c8d-9b74-1a748ba1698e",
   "metadata": {},
   "outputs": [
    {
     "ename": "TypeError",
     "evalue": "tm_loss() missing 1 required positional argument: 'final_affine_tensor'",
     "output_type": "error",
     "traceback": [
      "\u001b[0;31m---------------------------------------------------------------------------\u001b[0m",
      "\u001b[0;31mTypeError\u001b[0m                                 Traceback (most recent call last)",
      "Cell \u001b[0;32mIn[25], line 2\u001b[0m\n\u001b[1;32m      1\u001b[0m \u001b[38;5;28;01mfrom\u001b[39;00m \u001b[38;5;21;01mopenfold\u001b[39;00m\u001b[38;5;21;01m.\u001b[39;00m\u001b[38;5;21;01mutils\u001b[39;00m\u001b[38;5;21;01m.\u001b[39;00m\u001b[38;5;21;01mloss\u001b[39;00m \u001b[38;5;28;01mimport\u001b[39;00m tm_loss\n\u001b[0;32m----> 2\u001b[0m \u001b[43mtm_loss\u001b[49m\u001b[43m(\u001b[49m\n\u001b[1;32m      3\u001b[0m \u001b[43m    \u001b[49m\u001b[43mlogits\u001b[49m\u001b[38;5;241;43m=\u001b[39;49m\u001b[43mout\u001b[49m\u001b[43m[\u001b[49m\u001b[38;5;124;43m'\u001b[39;49m\u001b[38;5;124;43mptm_logits\u001b[39;49m\u001b[38;5;124;43m'\u001b[39;49m\u001b[43m]\u001b[49m\u001b[43m,\u001b[49m\u001b[43m \u001b[49m\n\u001b[1;32m      4\u001b[0m \u001b[43m    \u001b[49m\u001b[38;5;241;43m*\u001b[39;49m\u001b[38;5;241;43m*\u001b[39;49m\u001b[43m{\u001b[49m\u001b[38;5;241;43m*\u001b[39;49m\u001b[38;5;241;43m*\u001b[39;49m\u001b[43mbatch\u001b[49m\u001b[43m,\u001b[49m\u001b[43m \u001b[49m\u001b[38;5;241;43m*\u001b[39;49m\u001b[38;5;241;43m*\u001b[39;49m\u001b[43mout\u001b[49m\u001b[43m,\u001b[49m\u001b[43m \u001b[49m\u001b[38;5;241;43m*\u001b[39;49m\u001b[38;5;241;43m*\u001b[39;49m\u001b[43mconfig\u001b[49m\u001b[38;5;241;43m.\u001b[39;49m\u001b[43mloss\u001b[49m\u001b[38;5;241;43m.\u001b[39;49m\u001b[43mtm\u001b[49m\u001b[43m}\u001b[49m\n\u001b[1;32m      5\u001b[0m \u001b[43m)\u001b[49m\n",
      "\u001b[0;31mTypeError\u001b[0m: tm_loss() missing 1 required positional argument: 'final_affine_tensor'"
     ]
    }
   ],
   "source": [
    "from openfold.utils.loss import tm_loss\n",
    "tm_loss(\n",
    "    logits=out['ptm_logits'], \n",
    "    **{**batch, **out, **config.loss.tm}\n",
    ")"
   ]
  },
  {
   "cell_type": "code",
   "execution_count": 26,
   "id": "4cadcef3-f69c-4fb1-ad07-d8f4d2ea7be9",
   "metadata": {},
   "outputs": [
    {
     "ename": "ImportError",
     "evalue": "cannot import name 'chain_center_of_mass_loss' from 'openfold.utils.loss' (/homefs/home/lux70/openfold/openfold/utils/loss.py)",
     "output_type": "error",
     "traceback": [
      "\u001b[0;31m---------------------------------------------------------------------------\u001b[0m",
      "\u001b[0;31mImportError\u001b[0m                               Traceback (most recent call last)",
      "Cell \u001b[0;32mIn[26], line 1\u001b[0m\n\u001b[0;32m----> 1\u001b[0m \u001b[38;5;28;01mfrom\u001b[39;00m \u001b[38;5;21;01mopenfold\u001b[39;00m\u001b[38;5;21;01m.\u001b[39;00m\u001b[38;5;21;01mutils\u001b[39;00m\u001b[38;5;21;01m.\u001b[39;00m\u001b[38;5;21;01mloss\u001b[39;00m \u001b[38;5;28;01mimport\u001b[39;00m chain_center_of_mass_loss\n\u001b[1;32m      2\u001b[0m chain_center_of_mass_loss(\n\u001b[1;32m      3\u001b[0m     all_atom_pred_pos\u001b[38;5;241m=\u001b[39mout[\u001b[38;5;124m'\u001b[39m\u001b[38;5;124mpositions\u001b[39m\u001b[38;5;124m'\u001b[39m],\n\u001b[1;32m      4\u001b[0m     \u001b[38;5;241m*\u001b[39m\u001b[38;5;241m*\u001b[39m{\u001b[38;5;241m*\u001b[39m\u001b[38;5;241m*\u001b[39mbatch, \u001b[38;5;241m*\u001b[39m\u001b[38;5;241m*\u001b[39mconfig\u001b[38;5;241m.\u001b[39mloss\u001b[38;5;241m.\u001b[39mchain_center_of_mass}\n\u001b[1;32m      5\u001b[0m )\n",
      "\u001b[0;31mImportError\u001b[0m: cannot import name 'chain_center_of_mass_loss' from 'openfold.utils.loss' (/homefs/home/lux70/openfold/openfold/utils/loss.py)"
     ]
    }
   ],
   "source": [
    "from openfold.utils.loss import chain_center_of_mass_loss\n",
    "chain_center_of_mass_loss(\n",
    "    all_atom_pred_pos=out['positions'],\n",
    "    **{**batch, **config.loss.chain_center_of_mass}\n",
    ")"
   ]
  },
  {
   "cell_type": "code",
   "execution_count": null,
   "id": "efba648f-c4ec-4102-9e9e-09f4fc1732ff",
   "metadata": {},
   "outputs": [],
   "source": []
  }
 ],
 "metadata": {
  "kernelspec": {
   "display_name": "Python 3 (ipykernel)",
   "language": "python",
   "name": "python3"
  },
  "language_info": {
   "codemirror_mode": {
    "name": "ipython",
    "version": 3
   },
   "file_extension": ".py",
   "mimetype": "text/x-python",
   "name": "python",
   "nbconvert_exporter": "python",
   "pygments_lexer": "ipython3",
   "version": "3.12.2"
  }
 },
 "nbformat": 4,
 "nbformat_minor": 5
}
