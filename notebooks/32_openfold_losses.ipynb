{
 "cells": [
  {
   "cell_type": "code",
   "execution_count": 1,
   "id": "eb592e4d-51d6-4711-ab4c-2092f931491a",
   "metadata": {},
   "outputs": [],
   "source": [
    "%load_ext autoreload\n",
    "%autoreload 2"
   ]
  },
  {
   "cell_type": "markdown",
   "id": "ccff5317-6d8f-452d-934b-7a672b6d18b9",
   "metadata": {},
   "source": [
    "# Play around with openfold losses"
   ]
  },
  {
   "cell_type": "code",
   "execution_count": 50,
   "id": "8666ddf0-31df-452f-9b46-09163b7b2d70",
   "metadata": {},
   "outputs": [],
   "source": [
    "from openfold.utils.loss import lddt_loss, AlphaFoldLoss"
   ]
  },
  {
   "cell_type": "code",
   "execution_count": 52,
   "id": "53bc837b-ca76-41a6-8913-e99bd6ac51c7",
   "metadata": {},
   "outputs": [],
   "source": [
    "import openfold"
   ]
  },
  {
   "cell_type": "code",
   "execution_count": 53,
   "id": "baa6538f-40e5-40ad-a5b2-c75cd3320799",
   "metadata": {},
   "outputs": [
    {
     "data": {
      "text/plain": [
       "'/homefs/home/lux70/openfold/openfold/__init__.py'"
      ]
     },
     "execution_count": 53,
     "metadata": {},
     "output_type": "execute_result"
    }
   ],
   "source": [
    "openfold.__file__"
   ]
  },
  {
   "cell_type": "code",
   "execution_count": 56,
   "id": "0b79a954-f376-46b0-a237-1beed84432a4",
   "metadata": {},
   "outputs": [
    {
     "name": "stdout",
     "output_type": "stream",
     "text": [
      "dict_keys(['frames', 'sidechain_frames', 'unnormalized_angles', 'angles', 'positions', 'states', 's_initial', 's_after_layernorm', 'z_after_layernorm', 'single', 'sm_s', 'sm_z', 's_s', 's_z', 'distogram_logits', 'lm_logits', 'aatype', 'atom14_atom_exists', 'residx_atom14_to_atom37', 'residx_atom37_to_atom14', 'atom37_atom_exists', 'residue_index', 'lddt_head', 'plddt', 'ptm_logits', 'ptm', 'aligned_confidence_probs', 'predicted_aligned_error', 'max_predicted_aligned_error'])\n"
     ]
    }
   ],
   "source": [
    "out = recons_struct[1]\n",
    "print(out.keys())"
   ]
  },
  {
   "cell_type": "code",
   "execution_count": 64,
   "id": "27189a36-b291-4613-aa75-daa2985ff1a2",
   "metadata": {},
   "outputs": [],
   "source": [
    "from openfold.config import model_config\n",
    "config = model_config(name=\"initial_training\", train=True)"
   ]
  },
  {
   "cell_type": "code",
   "execution_count": 65,
   "id": "17ba16ee-b72e-4c30-840d-e77dbc25fd6e",
   "metadata": {},
   "outputs": [
    {
     "data": {
      "text/plain": [
       "distogram:\n",
       "  eps: &id001 !!python/object:ml_collections.config_dict.config_dict.FieldReference\n",
       "    _field_type: !!python/name:builtins.float ''\n",
       "    _ops: []\n",
       "    _required: false\n",
       "    _value: 1.0e-08\n",
       "  max_bin: 21.6875\n",
       "  min_bin: 2.3125\n",
       "  no_bins: 64\n",
       "  weight: 0.3\n",
       "eps: *id001\n",
       "experimentally_resolved:\n",
       "  eps: *id001\n",
       "  max_resolution: 3.0\n",
       "  min_resolution: 0.1\n",
       "  weight: 0.0\n",
       "fape:\n",
       "  backbone:\n",
       "    clamp_distance: 10.0\n",
       "    loss_unit_distance: 10.0\n",
       "    weight: 0.5\n",
       "  eps: 0.0001\n",
       "  sidechain:\n",
       "    clamp_distance: 10.0\n",
       "    length_scale: 10.0\n",
       "    weight: 0.5\n",
       "  weight: 1.0\n",
       "masked_msa:\n",
       "  eps: *id001\n",
       "  weight: 2.0\n",
       "plddt_loss:\n",
       "  cutoff: 15.0\n",
       "  eps: *id001\n",
       "  max_resolution: 3.0\n",
       "  min_resolution: 0.1\n",
       "  no_bins: 50\n",
       "  weight: 0.01\n",
       "supervised_chi:\n",
       "  angle_norm_weight: 0.01\n",
       "  chi_weight: 0.5\n",
       "  eps: *id001\n",
       "  weight: 1.0\n",
       "tm:\n",
       "  enabled: !!python/object:ml_collections.config_dict.config_dict.FieldReference\n",
       "    _field_type: !!python/name:builtins.bool ''\n",
       "    _ops: []\n",
       "    _required: false\n",
       "    _value: false\n",
       "  eps: *id001\n",
       "  max_bin: 31\n",
       "  max_resolution: 3.0\n",
       "  min_resolution: 0.1\n",
       "  no_bins: 64\n",
       "  weight: 0.0\n",
       "violation:\n",
       "  clash_overlap_tolerance: 1.5\n",
       "  eps: *id001\n",
       "  violation_tolerance_factor: 12.0\n",
       "  weight: 0.0"
      ]
     },
     "execution_count": 65,
     "metadata": {},
     "output_type": "execute_result"
    }
   ],
   "source": [
    "config.loss"
   ]
  },
  {
   "cell_type": "code",
   "execution_count": 67,
   "id": "1f733197-1793-4a27-b07b-fe349fb2e23e",
   "metadata": {},
   "outputs": [],
   "source": [
    "batch = batch[-1]"
   ]
  },
  {
   "cell_type": "code",
   "execution_count": 69,
   "id": "8c900bad-adea-4ddb-beb7-2bb2ca996c9e",
   "metadata": {},
   "outputs": [
    {
     "ename": "TypeError",
     "evalue": "distogram_loss() missing 2 required positional arguments: 'pseudo_beta' and 'pseudo_beta_mask'",
     "output_type": "error",
     "traceback": [
      "\u001b[0;31m---------------------------------------------------------------------------\u001b[0m",
      "\u001b[0;31mTypeError\u001b[0m                                 Traceback (most recent call last)",
      "Cell \u001b[0;32mIn[69], line 2\u001b[0m\n\u001b[1;32m      1\u001b[0m \u001b[38;5;28;01mfrom\u001b[39;00m \u001b[38;5;21;01mopenfold\u001b[39;00m\u001b[38;5;21;01m.\u001b[39;00m\u001b[38;5;21;01mutils\u001b[39;00m\u001b[38;5;21;01m.\u001b[39;00m\u001b[38;5;21;01mloss\u001b[39;00m \u001b[38;5;28;01mimport\u001b[39;00m distogram_loss\n\u001b[0;32m----> 2\u001b[0m \u001b[43mdistogram_loss\u001b[49m\u001b[43m(\u001b[49m\u001b[43mout\u001b[49m\u001b[43m[\u001b[49m\u001b[38;5;124;43m'\u001b[39;49m\u001b[38;5;124;43mdistogram_logits\u001b[39;49m\u001b[38;5;124;43m'\u001b[39;49m\u001b[43m]\u001b[49m\u001b[43m,\u001b[49m\u001b[43m \u001b[49m\u001b[38;5;241;43m*\u001b[39;49m\u001b[38;5;241;43m*\u001b[39;49m\u001b[43m{\u001b[49m\u001b[38;5;241;43m*\u001b[39;49m\u001b[38;5;241;43m*\u001b[39;49m\u001b[43mbatch\u001b[49m\u001b[43m,\u001b[49m\u001b[43m \u001b[49m\u001b[38;5;241;43m*\u001b[39;49m\u001b[38;5;241;43m*\u001b[39;49m\u001b[43mconfig\u001b[49m\u001b[38;5;241;43m.\u001b[39;49m\u001b[43mloss\u001b[49m\u001b[38;5;241;43m.\u001b[39;49m\u001b[43mdistogram\u001b[49m\u001b[43m}\u001b[49m\u001b[43m)\u001b[49m,\n",
      "\u001b[0;31mTypeError\u001b[0m: distogram_loss() missing 2 required positional arguments: 'pseudo_beta' and 'pseudo_beta_mask'"
     ]
    }
   ],
   "source": [
    "from openfold.utils.loss import distogram_loss\n",
    "distogram_loss(out['distogram_logits'], **{**batch, **config.loss.distogram})"
   ]
  },
  {
   "cell_type": "code",
   "execution_count": 72,
   "id": "6a094272-e1bc-4d4c-86df-2ed23c9f5952",
   "metadata": {},
   "outputs": [
    {
     "ename": "KeyError",
     "evalue": "'experimentally_resolved_logits'",
     "output_type": "error",
     "traceback": [
      "\u001b[0;31m---------------------------------------------------------------------------\u001b[0m",
      "\u001b[0;31mKeyError\u001b[0m                                  Traceback (most recent call last)",
      "Cell \u001b[0;32mIn[72], line 3\u001b[0m\n\u001b[1;32m      1\u001b[0m \u001b[38;5;28;01mfrom\u001b[39;00m \u001b[38;5;21;01mopenfold\u001b[39;00m\u001b[38;5;21;01m.\u001b[39;00m\u001b[38;5;21;01mutils\u001b[39;00m\u001b[38;5;21;01m.\u001b[39;00m\u001b[38;5;21;01mloss\u001b[39;00m \u001b[38;5;28;01mimport\u001b[39;00m experimentally_resolved_loss\n\u001b[1;32m      2\u001b[0m experimentally_resolved_loss(\n\u001b[0;32m----> 3\u001b[0m     logits\u001b[38;5;241m=\u001b[39m\u001b[43mout\u001b[49m\u001b[43m[\u001b[49m\u001b[38;5;124;43m'\u001b[39;49m\u001b[38;5;124;43mexperimentally_resolved_logits\u001b[39;49m\u001b[38;5;124;43m'\u001b[39;49m\u001b[43m]\u001b[49m,\n\u001b[1;32m      4\u001b[0m     \u001b[38;5;241m*\u001b[39m\u001b[38;5;241m*\u001b[39m{\u001b[38;5;241m*\u001b[39m\u001b[38;5;241m*\u001b[39mbatch, \u001b[38;5;241m*\u001b[39m\u001b[38;5;241m*\u001b[39mconfig\u001b[38;5;241m.\u001b[39mloss\u001b[38;5;241m.\u001b[39mexperimentally_resolved}\n\u001b[1;32m      5\u001b[0m )\n",
      "\u001b[0;31mKeyError\u001b[0m: 'experimentally_resolved_logits'"
     ]
    }
   ],
   "source": [
    "from openfold.utils.loss import experimentally_resolved_loss\n",
    "experimentally_resolved_loss(\n",
    "    logits=out['experimentally_resolved_logits'],\n",
    "    **{**batch, **config.loss.experimentally_resolved}\n",
    ")"
   ]
  },
  {
   "cell_type": "code",
   "execution_count": 80,
   "id": "f8ba100d-9c2e-4373-accd-b6c16a380ee1",
   "metadata": {},
   "outputs": [],
   "source": [
    "# from openfold.utils.loss import fape_loss\n",
    "# wrapper_out = {\"sm\": out}\n",
    "# fape_loss(wrapper_out, batch, config.loss.fape)"
   ]
  },
  {
   "cell_type": "code",
   "execution_count": 89,
   "id": "87fb211c-27b1-4c77-9645-67a25d5b36ac",
   "metadata": {},
   "outputs": [],
   "source": [
    "# from openfold.utils.loss import lddt_loss\n",
    "# lddt_loss(\n",
    "#     logits=out['plddt'], #TODO: these are not logits\n",
    "#     all_atom_pred_pos=out['positions'],  #TODO: confim if these are the same\n",
    "#     **{**batch, **config.loss.plddt_loss}\n",
    "# )\n",
    "# out.keys()"
   ]
  },
  {
   "cell_type": "code",
   "execution_count": 93,
   "id": "eeda980c-7166-4dd8-8729-327c27c0cc39",
   "metadata": {},
   "outputs": [
    {
     "ename": "TypeError",
     "evalue": "supervised_chi_loss() missing 3 required positional arguments: 'seq_mask', 'chi_mask', and 'chi_angles_sin_cos'",
     "output_type": "error",
     "traceback": [
      "\u001b[0;31m---------------------------------------------------------------------------\u001b[0m",
      "\u001b[0;31mTypeError\u001b[0m                                 Traceback (most recent call last)",
      "Cell \u001b[0;32mIn[93], line 2\u001b[0m\n\u001b[1;32m      1\u001b[0m \u001b[38;5;28;01mfrom\u001b[39;00m \u001b[38;5;21;01mopenfold\u001b[39;00m\u001b[38;5;21;01m.\u001b[39;00m\u001b[38;5;21;01mutils\u001b[39;00m\u001b[38;5;21;01m.\u001b[39;00m\u001b[38;5;21;01mloss\u001b[39;00m \u001b[38;5;28;01mimport\u001b[39;00m supervised_chi_loss\n\u001b[0;32m----> 2\u001b[0m \u001b[43msupervised_chi_loss\u001b[49m\u001b[43m(\u001b[49m\n\u001b[1;32m      3\u001b[0m \u001b[43m    \u001b[49m\u001b[43mout\u001b[49m\u001b[43m[\u001b[49m\u001b[38;5;124;43m\"\u001b[39;49m\u001b[38;5;124;43mangles\u001b[39;49m\u001b[38;5;124;43m\"\u001b[39;49m\u001b[43m]\u001b[49m\u001b[43m,\u001b[49m\u001b[43m \u001b[49m\u001b[43mout\u001b[49m\u001b[43m[\u001b[49m\u001b[38;5;124;43m\"\u001b[39;49m\u001b[38;5;124;43munnormalized_angles\u001b[39;49m\u001b[38;5;124;43m\"\u001b[39;49m\u001b[43m]\u001b[49m\u001b[43m,\u001b[49m\u001b[43m \u001b[49m\u001b[38;5;241;43m*\u001b[39;49m\u001b[38;5;241;43m*\u001b[39;49m\u001b[43m{\u001b[49m\u001b[38;5;241;43m*\u001b[39;49m\u001b[38;5;241;43m*\u001b[39;49m\u001b[43mbatch\u001b[49m\u001b[43m,\u001b[49m\u001b[43m \u001b[49m\u001b[38;5;241;43m*\u001b[39;49m\u001b[38;5;241;43m*\u001b[39;49m\u001b[43mconfig\u001b[49m\u001b[38;5;241;43m.\u001b[39;49m\u001b[43mloss\u001b[49m\u001b[38;5;241;43m.\u001b[39;49m\u001b[43msupervised_chi\u001b[49m\u001b[43m}\u001b[49m\n\u001b[1;32m      4\u001b[0m \u001b[43m)\u001b[49m\n",
      "\u001b[0;31mTypeError\u001b[0m: supervised_chi_loss() missing 3 required positional arguments: 'seq_mask', 'chi_mask', and 'chi_angles_sin_cos'"
     ]
    }
   ],
   "source": [
    "from openfold.utils.loss import supervised_chi_loss\n",
    "supervised_chi_loss(\n",
    "    out[\"angles\"], out[\"unnormalized_angles\"], **{**batch, **config.loss.supervised_chi}\n",
    ")"
   ]
  },
  {
   "cell_type": "code",
   "execution_count": 94,
   "id": "e251f672-a3f7-4b06-9bab-7b295c8fb8e6",
   "metadata": {},
   "outputs": [
    {
     "ename": "KeyError",
     "evalue": "'violation'",
     "output_type": "error",
     "traceback": [
      "\u001b[0;31m---------------------------------------------------------------------------\u001b[0m",
      "\u001b[0;31mKeyError\u001b[0m                                  Traceback (most recent call last)",
      "Cell \u001b[0;32mIn[94], line 3\u001b[0m\n\u001b[1;32m      1\u001b[0m \u001b[38;5;28;01mfrom\u001b[39;00m \u001b[38;5;21;01mopenfold\u001b[39;00m\u001b[38;5;21;01m.\u001b[39;00m\u001b[38;5;21;01mutils\u001b[39;00m\u001b[38;5;21;01m.\u001b[39;00m\u001b[38;5;21;01mloss\u001b[39;00m \u001b[38;5;28;01mimport\u001b[39;00m violation_loss\n\u001b[1;32m      2\u001b[0m violation_loss(\n\u001b[0;32m----> 3\u001b[0m     \u001b[43mout\u001b[49m\u001b[43m[\u001b[49m\u001b[38;5;124;43m'\u001b[39;49m\u001b[38;5;124;43mviolation\u001b[39;49m\u001b[38;5;124;43m'\u001b[39;49m\u001b[43m]\u001b[49m, \u001b[38;5;241m*\u001b[39m\u001b[38;5;241m*\u001b[39m{\u001b[38;5;241m*\u001b[39m\u001b[38;5;241m*\u001b[39mbatch, \u001b[38;5;241m*\u001b[39m\u001b[38;5;241m*\u001b[39mconfig\u001b[38;5;241m.\u001b[39mloss\u001b[38;5;241m.\u001b[39mviolation}\n\u001b[1;32m      4\u001b[0m )\n",
      "\u001b[0;31mKeyError\u001b[0m: 'violation'"
     ]
    }
   ],
   "source": [
    "from openfold.utils.loss import violation_loss\n",
    "violation_loss(\n",
    "    out['violation'], **{**batch, **config.loss.violation}\n",
    ")"
   ]
  },
  {
   "cell_type": "code",
   "execution_count": 95,
   "id": "14533f69-8de7-4c8d-9b74-1a748ba1698e",
   "metadata": {},
   "outputs": [
    {
     "ename": "TypeError",
     "evalue": "tm_loss() missing 1 required positional argument: 'final_affine_tensor'",
     "output_type": "error",
     "traceback": [
      "\u001b[0;31m---------------------------------------------------------------------------\u001b[0m",
      "\u001b[0;31mTypeError\u001b[0m                                 Traceback (most recent call last)",
      "Cell \u001b[0;32mIn[95], line 2\u001b[0m\n\u001b[1;32m      1\u001b[0m \u001b[38;5;28;01mfrom\u001b[39;00m \u001b[38;5;21;01mopenfold\u001b[39;00m\u001b[38;5;21;01m.\u001b[39;00m\u001b[38;5;21;01mutils\u001b[39;00m\u001b[38;5;21;01m.\u001b[39;00m\u001b[38;5;21;01mloss\u001b[39;00m \u001b[38;5;28;01mimport\u001b[39;00m tm_loss\n\u001b[0;32m----> 2\u001b[0m \u001b[43mtm_loss\u001b[49m\u001b[43m(\u001b[49m\n\u001b[1;32m      3\u001b[0m \u001b[43m    \u001b[49m\u001b[43mlogits\u001b[49m\u001b[38;5;241;43m=\u001b[39;49m\u001b[43mout\u001b[49m\u001b[43m[\u001b[49m\u001b[38;5;124;43m'\u001b[39;49m\u001b[38;5;124;43mptm_logits\u001b[39;49m\u001b[38;5;124;43m'\u001b[39;49m\u001b[43m]\u001b[49m\u001b[43m,\u001b[49m\u001b[43m \u001b[49m\n\u001b[1;32m      4\u001b[0m \u001b[43m    \u001b[49m\u001b[38;5;241;43m*\u001b[39;49m\u001b[38;5;241;43m*\u001b[39;49m\u001b[43m{\u001b[49m\u001b[38;5;241;43m*\u001b[39;49m\u001b[38;5;241;43m*\u001b[39;49m\u001b[43mbatch\u001b[49m\u001b[43m,\u001b[49m\u001b[43m \u001b[49m\u001b[38;5;241;43m*\u001b[39;49m\u001b[38;5;241;43m*\u001b[39;49m\u001b[43mout\u001b[49m\u001b[43m,\u001b[49m\u001b[43m \u001b[49m\u001b[38;5;241;43m*\u001b[39;49m\u001b[38;5;241;43m*\u001b[39;49m\u001b[43mconfig\u001b[49m\u001b[38;5;241;43m.\u001b[39;49m\u001b[43mloss\u001b[49m\u001b[38;5;241;43m.\u001b[39;49m\u001b[43mtm\u001b[49m\u001b[43m}\u001b[49m\n\u001b[1;32m      5\u001b[0m \u001b[43m)\u001b[49m\n",
      "\u001b[0;31mTypeError\u001b[0m: tm_loss() missing 1 required positional argument: 'final_affine_tensor'"
     ]
    }
   ],
   "source": [
    "from openfold.utils.loss import tm_loss\n",
    "tm_loss(\n",
    "    logits=out['ptm_logits'], \n",
    "    **{**batch, **out, **config.loss.tm}\n",
    ")"
   ]
  },
  {
   "cell_type": "code",
   "execution_count": 99,
   "id": "4cadcef3-f69c-4fb1-ad07-d8f4d2ea7be9",
   "metadata": {},
   "outputs": [
    {
     "ename": "ImportError",
     "evalue": "cannot import name 'chain_center_of_mass_loss' from 'openfold.utils.loss' (/homefs/home/lux70/openfold/openfold/utils/loss.py)",
     "output_type": "error",
     "traceback": [
      "\u001b[0;31m---------------------------------------------------------------------------\u001b[0m",
      "\u001b[0;31mImportError\u001b[0m                               Traceback (most recent call last)",
      "Cell \u001b[0;32mIn[99], line 1\u001b[0m\n\u001b[0;32m----> 1\u001b[0m \u001b[38;5;28;01mfrom\u001b[39;00m \u001b[38;5;21;01mopenfold\u001b[39;00m\u001b[38;5;21;01m.\u001b[39;00m\u001b[38;5;21;01mutils\u001b[39;00m\u001b[38;5;21;01m.\u001b[39;00m\u001b[38;5;21;01mloss\u001b[39;00m \u001b[38;5;28;01mimport\u001b[39;00m chain_center_of_mass_loss\n\u001b[1;32m      2\u001b[0m chain_center_of_mass_loss(\n\u001b[1;32m      3\u001b[0m     all_atom_pred_pos\u001b[38;5;241m=\u001b[39mout[\u001b[38;5;124m'\u001b[39m\u001b[38;5;124mpositions\u001b[39m\u001b[38;5;124m'\u001b[39m],\n\u001b[1;32m      4\u001b[0m     \u001b[38;5;241m*\u001b[39m\u001b[38;5;241m*\u001b[39m{\u001b[38;5;241m*\u001b[39m\u001b[38;5;241m*\u001b[39mbatch, \u001b[38;5;241m*\u001b[39m\u001b[38;5;241m*\u001b[39mconfig\u001b[38;5;241m.\u001b[39mloss\u001b[38;5;241m.\u001b[39mchain_center_of_mass}\n\u001b[1;32m      5\u001b[0m )\n",
      "\u001b[0;31mImportError\u001b[0m: cannot import name 'chain_center_of_mass_loss' from 'openfold.utils.loss' (/homefs/home/lux70/openfold/openfold/utils/loss.py)"
     ]
    }
   ],
   "source": [
    "from openfold.utils.loss import chain_center_of_mass_loss\n",
    "chain_center_of_mass_loss(\n",
    "    all_atom_pred_pos=out['positions'],\n",
    "    **{**batch, **config.loss.chain_center_of_mass}\n",
    ")"
   ]
  },
  {
   "cell_type": "code",
   "execution_count": null,
   "id": "efba648f-c4ec-4102-9e9e-09f4fc1732ff",
   "metadata": {},
   "outputs": [],
   "source": []
  }
 ],
 "metadata": {
  "kernelspec": {
   "display_name": "Python 3 (ipykernel)",
   "language": "python",
   "name": "python3"
  },
  "language_info": {
   "codemirror_mode": {
    "name": "ipython",
    "version": 3
   },
   "file_extension": ".py",
   "mimetype": "text/x-python",
   "name": "python",
   "nbconvert_exporter": "python",
   "pygments_lexer": "ipython3",
   "version": "3.12.2"
  }
 },
 "nbformat": 4,
 "nbformat_minor": 5
}
