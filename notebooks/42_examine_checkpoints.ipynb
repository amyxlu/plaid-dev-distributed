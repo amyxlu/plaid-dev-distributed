{
 "cells": [
  {
   "cell_type": "code",
   "execution_count": 1,
   "id": "760ea709-7ada-4f50-88f0-cf63f4975ed7",
   "metadata": {},
   "outputs": [],
   "source": [
    "# bump up version to match with branch `main`\n",
    "%load_ext autoreload\n",
    "%autoreload 2"
   ]
  },
  {
   "cell_type": "code",
   "execution_count": 4,
   "id": "d118dc34-3fd6-471d-9d32-4036771eb5ee",
   "metadata": {},
   "outputs": [
    {
     "data": {
      "text/plain": [
       "['781-25000-EMA.ckpt', '781-25000.ckpt', 'config.yaml']"
      ]
     },
     "execution_count": 4,
     "metadata": {},
     "output_type": "execute_result"
    }
   ],
   "source": [
    "import torch\n",
    "import os\n",
    "from pathlib import Path\n",
    "ckpt_dir = \"/data/lux70/plaid/checkpoints/diffusion/2dj696qw\"\n",
    "os.listdir(ckpt_dir)"
   ]
  },
  {
   "cell_type": "code",
   "execution_count": 3,
   "id": "dbf1b3cf-6818-40a8-9ef1-8f08c697597f",
   "metadata": {},
   "outputs": [],
   "source": [
    "from omegaconf import OmegaConf\n",
    "cfg_yaml = Path(ckpt_dir) / \"config.yaml\"\n",
    "cfg = OmegaConf.load(cfg_yaml)"
   ]
  },
  {
   "cell_type": "code",
   "execution_count": 9,
   "id": "920602c0-3579-42bd-addf-56b1f0115f39",
   "metadata": {},
   "outputs": [
    {
     "data": {
      "text/plain": [
       "dict_keys(['epoch', 'global_step', 'pytorch-lightning_version', 'state_dict', 'loops', 'callbacks', 'optimizer_states', 'lr_schedulers', 'hparams_name', 'hyper_parameters'])"
      ]
     },
     "execution_count": 9,
     "metadata": {},
     "output_type": "execute_result"
    }
   ],
   "source": [
    "ckpt = torch.load(Path(ckpt_dir) / \"781-25000-EMA.ckpt\")\n",
    "ckpt.keys()"
   ]
  },
  {
   "cell_type": "code",
   "execution_count": 10,
   "id": "c87090fe-1509-4ea5-baae-2c8204d7a4f8",
   "metadata": {},
   "outputs": [
    {
     "data": {
      "text/plain": [
       "odict_keys(['model.pos_embed', 'model.x_proj.proj.weight', 'model.x_proj.proj.bias', 'model.t_embedder.mlp.0.weight', 'model.t_embedder.mlp.0.bias', 'model.t_embedder.mlp.2.weight', 'model.t_embedder.mlp.2.bias', 'model.blocks.0.attn.to_qkv.weight', 'model.blocks.0.attn.to_out.weight', 'model.blocks.0.attn.to_out.bias', 'model.blocks.0.mlp.fc1.weight', 'model.blocks.0.mlp.fc1.bias', 'model.blocks.0.mlp.fc2.weight', 'model.blocks.0.mlp.fc2.bias', 'model.blocks.0.adaLN_modulation.1.weight', 'model.blocks.0.adaLN_modulation.1.bias', 'model.blocks.1.attn.to_qkv.weight', 'model.blocks.1.attn.to_out.weight', 'model.blocks.1.attn.to_out.bias', 'model.blocks.1.mlp.fc1.weight', 'model.blocks.1.mlp.fc1.bias', 'model.blocks.1.mlp.fc2.weight', 'model.blocks.1.mlp.fc2.bias', 'model.blocks.1.adaLN_modulation.1.weight', 'model.blocks.1.adaLN_modulation.1.bias', 'model.blocks.2.attn.to_qkv.weight', 'model.blocks.2.attn.to_out.weight', 'model.blocks.2.attn.to_out.bias', 'model.blocks.2.mlp.fc1.weight', 'model.blocks.2.mlp.fc1.bias', 'model.blocks.2.mlp.fc2.weight', 'model.blocks.2.mlp.fc2.bias', 'model.blocks.2.adaLN_modulation.1.weight', 'model.blocks.2.adaLN_modulation.1.bias', 'model.blocks.3.attn.to_qkv.weight', 'model.blocks.3.attn.to_out.weight', 'model.blocks.3.attn.to_out.bias', 'model.blocks.3.mlp.fc1.weight', 'model.blocks.3.mlp.fc1.bias', 'model.blocks.3.mlp.fc2.weight', 'model.blocks.3.mlp.fc2.bias', 'model.blocks.3.adaLN_modulation.1.weight', 'model.blocks.3.adaLN_modulation.1.bias', 'model.final_layer.linear.weight', 'model.final_layer.linear.bias', 'model.final_layer.adaLN_modulation.1.weight', 'model.final_layer.adaLN_modulation.1.bias'])"
      ]
     },
     "execution_count": 10,
     "metadata": {},
     "output_type": "execute_result"
    }
   ],
   "source": [
    "ckpt['state_dict'].keys()"
   ]
  },
  {
   "cell_type": "code",
   "execution_count": 13,
   "id": "7bd42a89-779f-41af-824b-3fc076dac6d5",
   "metadata": {},
   "outputs": [
    {
     "data": {
      "text/plain": [
       "dict_keys(['beta_scheduler', 'x_downscale_factor', 'timesteps', 'objective', 'min_snr_loss_weight', 'min_snr_gamma', 'x_clip_val', 'shorten_factor', 'unscaler', 'uncompressor', 'sampling_timesteps', 'sampling_seq_len', 'lr', 'adam_betas', 'lr_sched_type', 'lr_num_warmup_steps', 'lr_num_training_steps', 'lr_num_cycles', 'add_secondary_structure_conditioning', 'sequence_constructor', 'structure_constructor', 'sequence_decoder_weight', 'structure_decoder_weight'])"
      ]
     },
     "execution_count": 13,
     "metadata": {},
     "output_type": "execute_result"
    }
   ],
   "source": [
    "ckpt['hyper_parameters'].keys()"
   ]
  },
  {
   "cell_type": "code",
   "execution_count": 14,
   "id": "471340be-7d07-4e62-b5ce-de19f8368c3c",
   "metadata": {},
   "outputs": [
    {
     "data": {
      "text/plain": [
       "dict_keys(['epoch', 'global_step', 'pytorch-lightning_version', 'state_dict', 'loops', 'callbacks', 'optimizer_states', 'lr_schedulers', 'hparams_name', 'hyper_parameters'])"
      ]
     },
     "execution_count": 14,
     "metadata": {},
     "output_type": "execute_result"
    }
   ],
   "source": [
    "ckpt = torch.load(Path(ckpt_dir) / \"781-25000.ckpt\")\n",
    "ckpt.keys()"
   ]
  },
  {
   "cell_type": "code",
   "execution_count": 15,
   "id": "0d120f0f-ff74-40b0-8a20-ec3686fa5b5b",
   "metadata": {},
   "outputs": [
    {
     "data": {
      "text/plain": [
       "odict_keys(['model.pos_embed', 'model.x_proj.proj.weight', 'model.x_proj.proj.bias', 'model.t_embedder.mlp.0.weight', 'model.t_embedder.mlp.0.bias', 'model.t_embedder.mlp.2.weight', 'model.t_embedder.mlp.2.bias', 'model.blocks.0.attn.to_qkv.weight', 'model.blocks.0.attn.to_out.weight', 'model.blocks.0.attn.to_out.bias', 'model.blocks.0.mlp.fc1.weight', 'model.blocks.0.mlp.fc1.bias', 'model.blocks.0.mlp.fc2.weight', 'model.blocks.0.mlp.fc2.bias', 'model.blocks.0.adaLN_modulation.1.weight', 'model.blocks.0.adaLN_modulation.1.bias', 'model.blocks.1.attn.to_qkv.weight', 'model.blocks.1.attn.to_out.weight', 'model.blocks.1.attn.to_out.bias', 'model.blocks.1.mlp.fc1.weight', 'model.blocks.1.mlp.fc1.bias', 'model.blocks.1.mlp.fc2.weight', 'model.blocks.1.mlp.fc2.bias', 'model.blocks.1.adaLN_modulation.1.weight', 'model.blocks.1.adaLN_modulation.1.bias', 'model.blocks.2.attn.to_qkv.weight', 'model.blocks.2.attn.to_out.weight', 'model.blocks.2.attn.to_out.bias', 'model.blocks.2.mlp.fc1.weight', 'model.blocks.2.mlp.fc1.bias', 'model.blocks.2.mlp.fc2.weight', 'model.blocks.2.mlp.fc2.bias', 'model.blocks.2.adaLN_modulation.1.weight', 'model.blocks.2.adaLN_modulation.1.bias', 'model.blocks.3.attn.to_qkv.weight', 'model.blocks.3.attn.to_out.weight', 'model.blocks.3.attn.to_out.bias', 'model.blocks.3.mlp.fc1.weight', 'model.blocks.3.mlp.fc1.bias', 'model.blocks.3.mlp.fc2.weight', 'model.blocks.3.mlp.fc2.bias', 'model.blocks.3.adaLN_modulation.1.weight', 'model.blocks.3.adaLN_modulation.1.bias', 'model.final_layer.linear.weight', 'model.final_layer.linear.bias', 'model.final_layer.adaLN_modulation.1.weight', 'model.final_layer.adaLN_modulation.1.bias'])"
      ]
     },
     "execution_count": 15,
     "metadata": {},
     "output_type": "execute_result"
    }
   ],
   "source": [
    "ckpt['state_dict'].keys()"
   ]
  },
  {
   "cell_type": "code",
   "execution_count": 16,
   "id": "01688023-b7fe-4084-9532-59f2b3948707",
   "metadata": {},
   "outputs": [
    {
     "data": {
      "text/plain": [
       "25000"
      ]
     },
     "execution_count": 16,
     "metadata": {},
     "output_type": "execute_result"
    }
   ],
   "source": [
    "ckpt['global_step']"
   ]
  },
  {
   "cell_type": "code",
   "execution_count": 9,
   "id": "364f59de-f06e-481c-937a-51f534df2d67",
   "metadata": {},
   "outputs": [
    {
     "name": "stdout",
     "output_type": "stream",
     "text": [
      "['/data/lux70/plaid/checkpoints/diffusion/2dj696qw/781-25000-EMA.ckpt', '/data/lux70/plaid/checkpoints/diffusion/2dj696qw/781-25000.ckpt']\n",
      "['/data/lux70/plaid/checkpoints/diffusion/2dj696qw/781-25000.ckpt']\n",
      "25000.ckpt\n"
     ]
    }
   ],
   "source": [
    "import glob\n",
    "files = glob.glob(str(Path(ckpt_dir) / \"*.ckpt\"))\n",
    "print(files)\n",
    "files = list(filter(lambda x: \"EMA\" not in x, files))\n",
    "print(files)\n",
    "for fname in files:\n",
    "    step = fname.split(\"-\")[1]\n",
    "    print(step)"
   ]
  },
  {
   "cell_type": "code",
   "execution_count": 11,
   "id": "1db686fc-8b0f-4f7c-83c7-e2618e4f7d82",
   "metadata": {},
   "outputs": [
    {
     "data": {
      "text/plain": [
       "'781-25000.ckpt'"
      ]
     },
     "execution_count": 11,
     "metadata": {},
     "output_type": "execute_result"
    }
   ],
   "source": [
    "def find_latest_checkpoint(folder):\n",
    "    checkpoint_files = [f for f in os.listdir(folder) if f.endswith('.ckpt')]\n",
    "    checkpoint_files = list(filter(lambda x: \"EMA\" not in x, checkpoint_files))\n",
    "    if not checkpoint_files:\n",
    "        return None\n",
    "    \n",
    "    latest_checkpoint = max(checkpoint_files, key=lambda x: extract_step(x))\n",
    "    return latest_checkpoint\n",
    "\n",
    "def extract_step(checkpoint_file):\n",
    "    match = re.search(r'(\\d+)-(\\d+)\\.ckpt', checkpoint_file)\n",
    "    if match:\n",
    "        return int(match.group(2))\n",
    "    return -1\n",
    "\n",
    "import re\n",
    "\n",
    "find_latest_checkpoint(ckpt_dir)"
   ]
  },
  {
   "cell_type": "code",
   "execution_count": 12,
   "id": "8fbe2c4f-cb64-4790-8934-56b708b80a16",
   "metadata": {},
   "outputs": [
    {
     "data": {
      "text/plain": [
       "True"
      ]
     },
     "execution_count": 12,
     "metadata": {},
     "output_type": "execute_result"
    }
   ],
   "source": [
    "'781-25000.ckpt'.endswith(\"ckpt\")\n"
   ]
  },
  {
   "cell_type": "code",
   "execution_count": 15,
   "id": "b524cbcf-9579-47db-89e3-a944c2c07caf",
   "metadata": {},
   "outputs": [
    {
     "data": {
      "text/plain": [
       "dict_keys(['features'])"
      ]
     },
     "execution_count": 15,
     "metadata": {},
     "output_type": "execute_result"
    }
   ],
   "source": [
    "from safetensors.torch import load_file\n",
    "x = load_file(\"/homefs/home/lux70/plaid_cached_tensors/uniref_esmfold_feats.st\")\n",
    "x.keys()"
   ]
  },
  {
   "cell_type": "code",
   "execution_count": 16,
   "id": "98b4c4bd-4a72-4866-90ea-9767357b0a8b",
   "metadata": {},
   "outputs": [
    {
     "data": {
      "text/plain": [
       "torch.Size([49904, 1024])"
      ]
     },
     "execution_count": 16,
     "metadata": {},
     "output_type": "execute_result"
    }
   ],
   "source": [
    "x['features'].shape"
   ]
  },
  {
   "cell_type": "code",
   "execution_count": 17,
   "id": "4a181d9c-35fb-4add-86d2-3e4cf6b267a9",
   "metadata": {},
   "outputs": [
    {
     "data": {
      "text/plain": [
       "tensor(73.2872)"
      ]
     },
     "execution_count": 17,
     "metadata": {},
     "output_type": "execute_result"
    }
   ],
   "source": [
    "x['features'].std()"
   ]
  },
  {
   "cell_type": "code",
   "execution_count": null,
   "id": "babb002d-e0d2-4ba0-9907-2d42f3882f0d",
   "metadata": {},
   "outputs": [],
   "source": []
  }
 ],
 "metadata": {
  "kernelspec": {
   "display_name": "Python (plaid)",
   "language": "python",
   "name": "plaid"
  },
  "language_info": {
   "codemirror_mode": {
    "name": "ipython",
    "version": 3
   },
   "file_extension": ".py",
   "mimetype": "text/x-python",
   "name": "python",
   "nbconvert_exporter": "python",
   "pygments_lexer": "ipython3",
   "version": "3.10.0"
  }
 },
 "nbformat": 4,
 "nbformat_minor": 5
}
