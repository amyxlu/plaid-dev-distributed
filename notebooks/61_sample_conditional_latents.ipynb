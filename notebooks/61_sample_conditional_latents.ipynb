{
 "cells": [
  {
   "cell_type": "code",
   "execution_count": 1,
   "id": "ff9e681f-86bf-4d34-b772-968287b3c6ca",
   "metadata": {},
   "outputs": [],
   "source": [
    "%load_ext autoreload\n",
    "%autoreload 2"
   ]
  },
  {
   "cell_type": "code",
   "execution_count": 2,
   "id": "84d3dddb-b121-4875-8c23-4f5bdee668a7",
   "metadata": {},
   "outputs": [
    {
     "name": "stderr",
     "output_type": "stream",
     "text": [
      "/homefs/home/lux70/micromamba/envs/plaid-train/lib/python3.10/site-packages/xformers/ops/fmha/flash.py:211: FutureWarning: `torch.library.impl_abstract` was renamed to `torch.library.register_fake`. Please use that instead; we will remove `torch.library.impl_abstract` in a future version of PyTorch.\n",
      "  @torch.library.impl_abstract(\"xformers_flash::flash_fwd\")\n",
      "/homefs/home/lux70/micromamba/envs/plaid-train/lib/python3.10/site-packages/xformers/ops/fmha/flash.py:344: FutureWarning: `torch.library.impl_abstract` was renamed to `torch.library.register_fake`. Please use that instead; we will remove `torch.library.impl_abstract` in a future version of PyTorch.\n",
      "  @torch.library.impl_abstract(\"xformers_flash::flash_bwd\")\n",
      "/homefs/home/lux70/code/plaid/src/plaid/diffusion/cfg.py:470: FutureWarning: `torch.cuda.amp.autocast(args...)` is deprecated. Please use `torch.amp.autocast('cuda', args...)` instead.\n",
      "  @autocast(enabled = False)\n"
     ]
    }
   ],
   "source": [
    "# import pandas as pd\n",
    "# from plaid.utils import round_to_multiple\n",
    "# from omegaconf import DictConfig, OmegaConf\n",
    "from plaid.pipeline import DecodeLatent\n",
    "from omegaconf import OmegaConf, DictConfig\n",
    "import pandas as pd"
   ]
  },
  {
   "cell_type": "code",
   "execution_count": 17,
   "id": "f3f3c2af-8fa7-48d1-9b30-6abd61765971",
   "metadata": {},
   "outputs": [
    {
     "name": "stdout",
     "output_type": "stream",
     "text": [
      "{'cond_code': '???', 'npz_timestamp': '???', 'plaid_model_id': '5j007z42', 'npz_path': '/data/lux70/plaid/artifacts/samples/${plaid_model_id}/${cond_code}/${npz_timestamp}.npz', 'output_root_dir': '/data/lux70/plaid/artifacts/samples/${plaid_model_id}/${cond_code}/${npz_timestamp}/generated', 'batch_size': 64, 'device': 'cuda', 'num_recycles': 1}\n"
     ]
    }
   ],
   "source": [
    "from pathlib import Path\n",
    "\n",
    "cfg = OmegaConf.load(\"/homefs/home/lux70/code/plaid/configs/pipeline/decode_latent.yaml\")\n",
    "cfg.pop(\"defaults\")\n",
    "print(cfg)\n",
    "\n",
    "root_dir = Path(\"/data/lux70/plaid/artifacts/samples\")\n",
    "model_id = \"5j007z42\"\n",
    "cond_code = 'f2_o3617'\n",
    "npz_timestamp = '240911_2240.npz'\n",
    "\n",
    "cfg.npz_path = str(root_dir / cond_code / npz_timestamp)\n",
    "cfg.output_root_dir = str(root_dir / model_id / cond_code / \"generated\")"
   ]
  },
  {
   "cell_type": "code",
   "execution_count": 15,
   "id": "d5f6f4c5-1b7d-4120-a5bd-d80602088e5c",
   "metadata": {},
   "outputs": [
    {
     "ename": "TypeError",
     "evalue": "expected str, bytes or os.PathLike object, not NoneType",
     "output_type": "error",
     "traceback": [
      "\u001b[0;31m---------------------------------------------------------------------------\u001b[0m",
      "\u001b[0;31mTypeError\u001b[0m                                 Traceback (most recent call last)",
      "Cell \u001b[0;32mIn[15], line 1\u001b[0m\n\u001b[0;32m----> 1\u001b[0m decode_latent \u001b[38;5;241m=\u001b[39m \u001b[43mDecodeLatent\u001b[49m\u001b[43m(\u001b[49m\u001b[43mcfg\u001b[49m\u001b[43m)\u001b[49m\n",
      "File \u001b[0;32m~/code/plaid/src/plaid/pipeline/_decode.py:41\u001b[0m, in \u001b[0;36mDecodeLatent.__init__\u001b[0;34m(self, npz_path, output_root_dir, num_recycles, batch_size, device)\u001b[0m\n\u001b[1;32m     32\u001b[0m \u001b[38;5;28;01mdef\u001b[39;00m \u001b[38;5;21m__init__\u001b[39m(\n\u001b[1;32m     33\u001b[0m     \u001b[38;5;28mself\u001b[39m,\n\u001b[1;32m     34\u001b[0m     npz_path: PathLike,\n\u001b[0;32m   (...)\u001b[0m\n\u001b[1;32m     38\u001b[0m     device\u001b[38;5;241m=\u001b[39m\u001b[38;5;124m\"\u001b[39m\u001b[38;5;124mcuda\u001b[39m\u001b[38;5;124m\"\u001b[39m\n\u001b[1;32m     39\u001b[0m ):\n\u001b[1;32m     40\u001b[0m     \u001b[38;5;28mself\u001b[39m\u001b[38;5;241m.\u001b[39mnpz_path \u001b[38;5;241m=\u001b[39m npz_path\n\u001b[0;32m---> 41\u001b[0m     \u001b[38;5;28mself\u001b[39m\u001b[38;5;241m.\u001b[39moutput_root_dir \u001b[38;5;241m=\u001b[39m \u001b[43mPath\u001b[49m\u001b[43m(\u001b[49m\u001b[43moutput_root_dir\u001b[49m\u001b[43m)\u001b[49m\n\u001b[1;32m     42\u001b[0m     \u001b[38;5;28mself\u001b[39m\u001b[38;5;241m.\u001b[39mtime_log_path \u001b[38;5;241m=\u001b[39m \u001b[38;5;28mself\u001b[39m\u001b[38;5;241m.\u001b[39moutput_root_dir \u001b[38;5;241m/\u001b[39m \u001b[38;5;124m\"\u001b[39m\u001b[38;5;124m../construct.log\u001b[39m\u001b[38;5;124m\"\u001b[39m\n\u001b[1;32m     43\u001b[0m     \u001b[38;5;28mself\u001b[39m\u001b[38;5;241m.\u001b[39mnum_recycles \u001b[38;5;241m=\u001b[39m num_recycles\n",
      "File \u001b[0;32m~/micromamba/envs/plaid-train/lib/python3.10/pathlib.py:960\u001b[0m, in \u001b[0;36mPath.__new__\u001b[0;34m(cls, *args, **kwargs)\u001b[0m\n\u001b[1;32m    958\u001b[0m \u001b[38;5;28;01mif\u001b[39;00m \u001b[38;5;28mcls\u001b[39m \u001b[38;5;129;01mis\u001b[39;00m Path:\n\u001b[1;32m    959\u001b[0m     \u001b[38;5;28mcls\u001b[39m \u001b[38;5;241m=\u001b[39m WindowsPath \u001b[38;5;28;01mif\u001b[39;00m os\u001b[38;5;241m.\u001b[39mname \u001b[38;5;241m==\u001b[39m \u001b[38;5;124m'\u001b[39m\u001b[38;5;124mnt\u001b[39m\u001b[38;5;124m'\u001b[39m \u001b[38;5;28;01melse\u001b[39;00m PosixPath\n\u001b[0;32m--> 960\u001b[0m \u001b[38;5;28mself\u001b[39m \u001b[38;5;241m=\u001b[39m \u001b[38;5;28;43mcls\u001b[39;49m\u001b[38;5;241;43m.\u001b[39;49m\u001b[43m_from_parts\u001b[49m\u001b[43m(\u001b[49m\u001b[43margs\u001b[49m\u001b[43m)\u001b[49m\n\u001b[1;32m    961\u001b[0m \u001b[38;5;28;01mif\u001b[39;00m \u001b[38;5;129;01mnot\u001b[39;00m \u001b[38;5;28mself\u001b[39m\u001b[38;5;241m.\u001b[39m_flavour\u001b[38;5;241m.\u001b[39mis_supported:\n\u001b[1;32m    962\u001b[0m     \u001b[38;5;28;01mraise\u001b[39;00m \u001b[38;5;167;01mNotImplementedError\u001b[39;00m(\u001b[38;5;124m\"\u001b[39m\u001b[38;5;124mcannot instantiate \u001b[39m\u001b[38;5;132;01m%r\u001b[39;00m\u001b[38;5;124m on your system\u001b[39m\u001b[38;5;124m\"\u001b[39m\n\u001b[1;32m    963\u001b[0m                               \u001b[38;5;241m%\u001b[39m (\u001b[38;5;28mcls\u001b[39m\u001b[38;5;241m.\u001b[39m\u001b[38;5;18m__name__\u001b[39m,))\n",
      "File \u001b[0;32m~/micromamba/envs/plaid-train/lib/python3.10/pathlib.py:594\u001b[0m, in \u001b[0;36mPurePath._from_parts\u001b[0;34m(cls, args)\u001b[0m\n\u001b[1;32m    589\u001b[0m \u001b[38;5;129m@classmethod\u001b[39m\n\u001b[1;32m    590\u001b[0m \u001b[38;5;28;01mdef\u001b[39;00m \u001b[38;5;21m_from_parts\u001b[39m(\u001b[38;5;28mcls\u001b[39m, args):\n\u001b[1;32m    591\u001b[0m     \u001b[38;5;66;03m# We need to call _parse_args on the instance, so as to get the\u001b[39;00m\n\u001b[1;32m    592\u001b[0m     \u001b[38;5;66;03m# right flavour.\u001b[39;00m\n\u001b[1;32m    593\u001b[0m     \u001b[38;5;28mself\u001b[39m \u001b[38;5;241m=\u001b[39m \u001b[38;5;28mobject\u001b[39m\u001b[38;5;241m.\u001b[39m\u001b[38;5;21m__new__\u001b[39m(\u001b[38;5;28mcls\u001b[39m)\n\u001b[0;32m--> 594\u001b[0m     drv, root, parts \u001b[38;5;241m=\u001b[39m \u001b[38;5;28;43mself\u001b[39;49m\u001b[38;5;241;43m.\u001b[39;49m\u001b[43m_parse_args\u001b[49m\u001b[43m(\u001b[49m\u001b[43margs\u001b[49m\u001b[43m)\u001b[49m\n\u001b[1;32m    595\u001b[0m     \u001b[38;5;28mself\u001b[39m\u001b[38;5;241m.\u001b[39m_drv \u001b[38;5;241m=\u001b[39m drv\n\u001b[1;32m    596\u001b[0m     \u001b[38;5;28mself\u001b[39m\u001b[38;5;241m.\u001b[39m_root \u001b[38;5;241m=\u001b[39m root\n",
      "File \u001b[0;32m~/micromamba/envs/plaid-train/lib/python3.10/pathlib.py:578\u001b[0m, in \u001b[0;36mPurePath._parse_args\u001b[0;34m(cls, args)\u001b[0m\n\u001b[1;32m    576\u001b[0m     parts \u001b[38;5;241m+\u001b[39m\u001b[38;5;241m=\u001b[39m a\u001b[38;5;241m.\u001b[39m_parts\n\u001b[1;32m    577\u001b[0m \u001b[38;5;28;01melse\u001b[39;00m:\n\u001b[0;32m--> 578\u001b[0m     a \u001b[38;5;241m=\u001b[39m \u001b[43mos\u001b[49m\u001b[38;5;241;43m.\u001b[39;49m\u001b[43mfspath\u001b[49m\u001b[43m(\u001b[49m\u001b[43ma\u001b[49m\u001b[43m)\u001b[49m\n\u001b[1;32m    579\u001b[0m     \u001b[38;5;28;01mif\u001b[39;00m \u001b[38;5;28misinstance\u001b[39m(a, \u001b[38;5;28mstr\u001b[39m):\n\u001b[1;32m    580\u001b[0m         \u001b[38;5;66;03m# Force-cast str subclasses to str (issue #21127)\u001b[39;00m\n\u001b[1;32m    581\u001b[0m         parts\u001b[38;5;241m.\u001b[39mappend(\u001b[38;5;28mstr\u001b[39m(a))\n",
      "\u001b[0;31mTypeError\u001b[0m: expected str, bytes or os.PathLike object, not NoneType"
     ]
    }
   ],
   "source": [
    "decode_latent = DecodeLatent(cfg)"
   ]
  },
  {
   "cell_type": "code",
   "execution_count": 16,
   "id": "f6aa2982-e2cc-4c87-9709-0909cd56e531",
   "metadata": {},
   "outputs": [
    {
     "name": "stdout",
     "output_type": "stream",
     "text": [
      "> \u001b[0;32m/homefs/home/lux70/micromamba/envs/plaid-train/lib/python3.10/pathlib.py\u001b[0m(578)\u001b[0;36m_parse_args\u001b[0;34m()\u001b[0m\n",
      "\u001b[0;32m    576 \u001b[0;31m                \u001b[0mparts\u001b[0m \u001b[0;34m+=\u001b[0m \u001b[0ma\u001b[0m\u001b[0;34m.\u001b[0m\u001b[0m_parts\u001b[0m\u001b[0;34m\u001b[0m\u001b[0;34m\u001b[0m\u001b[0m\n",
      "\u001b[0m\u001b[0;32m    577 \u001b[0;31m            \u001b[0;32melse\u001b[0m\u001b[0;34m:\u001b[0m\u001b[0;34m\u001b[0m\u001b[0;34m\u001b[0m\u001b[0m\n",
      "\u001b[0m\u001b[0;32m--> 578 \u001b[0;31m                \u001b[0ma\u001b[0m \u001b[0;34m=\u001b[0m \u001b[0mos\u001b[0m\u001b[0;34m.\u001b[0m\u001b[0mfspath\u001b[0m\u001b[0;34m(\u001b[0m\u001b[0ma\u001b[0m\u001b[0;34m)\u001b[0m\u001b[0;34m\u001b[0m\u001b[0;34m\u001b[0m\u001b[0m\n",
      "\u001b[0m\u001b[0;32m    579 \u001b[0;31m                \u001b[0;32mif\u001b[0m \u001b[0misinstance\u001b[0m\u001b[0;34m(\u001b[0m\u001b[0ma\u001b[0m\u001b[0;34m,\u001b[0m \u001b[0mstr\u001b[0m\u001b[0;34m)\u001b[0m\u001b[0;34m:\u001b[0m\u001b[0;34m\u001b[0m\u001b[0;34m\u001b[0m\u001b[0m\n",
      "\u001b[0m\u001b[0;32m    580 \u001b[0;31m                    \u001b[0;31m# Force-cast str subclasses to str (issue #21127)\u001b[0m\u001b[0;34m\u001b[0m\u001b[0;34m\u001b[0m\u001b[0m\n",
      "\u001b[0m\n"
     ]
    },
    {
     "name": "stdin",
     "output_type": "stream",
     "text": [
      "ipdb>  p a\n"
     ]
    },
    {
     "name": "stdout",
     "output_type": "stream",
     "text": [
      "None\n"
     ]
    },
    {
     "name": "stdin",
     "output_type": "stream",
     "text": [
      "ipdb>  up\n"
     ]
    },
    {
     "name": "stdout",
     "output_type": "stream",
     "text": [
      "> \u001b[0;32m/homefs/home/lux70/micromamba/envs/plaid-train/lib/python3.10/pathlib.py\u001b[0m(594)\u001b[0;36m_from_parts\u001b[0;34m()\u001b[0m\n",
      "\u001b[0;32m    592 \u001b[0;31m        \u001b[0;31m# right flavour.\u001b[0m\u001b[0;34m\u001b[0m\u001b[0;34m\u001b[0m\u001b[0m\n",
      "\u001b[0m\u001b[0;32m    593 \u001b[0;31m        \u001b[0mself\u001b[0m \u001b[0;34m=\u001b[0m \u001b[0mobject\u001b[0m\u001b[0;34m.\u001b[0m\u001b[0m__new__\u001b[0m\u001b[0;34m(\u001b[0m\u001b[0mcls\u001b[0m\u001b[0;34m)\u001b[0m\u001b[0;34m\u001b[0m\u001b[0;34m\u001b[0m\u001b[0m\n",
      "\u001b[0m\u001b[0;32m--> 594 \u001b[0;31m        \u001b[0mdrv\u001b[0m\u001b[0;34m,\u001b[0m \u001b[0mroot\u001b[0m\u001b[0;34m,\u001b[0m \u001b[0mparts\u001b[0m \u001b[0;34m=\u001b[0m \u001b[0mself\u001b[0m\u001b[0;34m.\u001b[0m\u001b[0m_parse_args\u001b[0m\u001b[0;34m(\u001b[0m\u001b[0margs\u001b[0m\u001b[0;34m)\u001b[0m\u001b[0;34m\u001b[0m\u001b[0;34m\u001b[0m\u001b[0m\n",
      "\u001b[0m\u001b[0;32m    595 \u001b[0;31m        \u001b[0mself\u001b[0m\u001b[0;34m.\u001b[0m\u001b[0m_drv\u001b[0m \u001b[0;34m=\u001b[0m \u001b[0mdrv\u001b[0m\u001b[0;34m\u001b[0m\u001b[0;34m\u001b[0m\u001b[0m\n",
      "\u001b[0m\u001b[0;32m    596 \u001b[0;31m        \u001b[0mself\u001b[0m\u001b[0;34m.\u001b[0m\u001b[0m_root\u001b[0m \u001b[0;34m=\u001b[0m \u001b[0mroot\u001b[0m\u001b[0;34m\u001b[0m\u001b[0;34m\u001b[0m\u001b[0m\n",
      "\u001b[0m\n"
     ]
    },
    {
     "name": "stdin",
     "output_type": "stream",
     "text": [
      "ipdb>  up\n"
     ]
    },
    {
     "name": "stdout",
     "output_type": "stream",
     "text": [
      "> \u001b[0;32m/homefs/home/lux70/micromamba/envs/plaid-train/lib/python3.10/pathlib.py\u001b[0m(960)\u001b[0;36m__new__\u001b[0;34m()\u001b[0m\n",
      "\u001b[0;32m    958 \u001b[0;31m        \u001b[0;32mif\u001b[0m \u001b[0mcls\u001b[0m \u001b[0;32mis\u001b[0m \u001b[0mPath\u001b[0m\u001b[0;34m:\u001b[0m\u001b[0;34m\u001b[0m\u001b[0;34m\u001b[0m\u001b[0m\n",
      "\u001b[0m\u001b[0;32m    959 \u001b[0;31m            \u001b[0mcls\u001b[0m \u001b[0;34m=\u001b[0m \u001b[0mWindowsPath\u001b[0m \u001b[0;32mif\u001b[0m \u001b[0mos\u001b[0m\u001b[0;34m.\u001b[0m\u001b[0mname\u001b[0m \u001b[0;34m==\u001b[0m \u001b[0;34m'nt'\u001b[0m \u001b[0;32melse\u001b[0m \u001b[0mPosixPath\u001b[0m\u001b[0;34m\u001b[0m\u001b[0;34m\u001b[0m\u001b[0m\n",
      "\u001b[0m\u001b[0;32m--> 960 \u001b[0;31m        \u001b[0mself\u001b[0m \u001b[0;34m=\u001b[0m \u001b[0mcls\u001b[0m\u001b[0;34m.\u001b[0m\u001b[0m_from_parts\u001b[0m\u001b[0;34m(\u001b[0m\u001b[0margs\u001b[0m\u001b[0;34m)\u001b[0m\u001b[0;34m\u001b[0m\u001b[0;34m\u001b[0m\u001b[0m\n",
      "\u001b[0m\u001b[0;32m    961 \u001b[0;31m        \u001b[0;32mif\u001b[0m \u001b[0;32mnot\u001b[0m \u001b[0mself\u001b[0m\u001b[0;34m.\u001b[0m\u001b[0m_flavour\u001b[0m\u001b[0;34m.\u001b[0m\u001b[0mis_supported\u001b[0m\u001b[0;34m:\u001b[0m\u001b[0;34m\u001b[0m\u001b[0;34m\u001b[0m\u001b[0m\n",
      "\u001b[0m\u001b[0;32m    962 \u001b[0;31m            raise NotImplementedError(\"cannot instantiate %r on your system\"\n",
      "\u001b[0m\n"
     ]
    },
    {
     "name": "stdin",
     "output_type": "stream",
     "text": [
      "ipdb>  up\n"
     ]
    },
    {
     "name": "stdout",
     "output_type": "stream",
     "text": [
      "> \u001b[0;32m/homefs/home/lux70/code/plaid/src/plaid/pipeline/_decode.py\u001b[0m(41)\u001b[0;36m__init__\u001b[0;34m()\u001b[0m\n",
      "\u001b[0;32m     39 \u001b[0;31m    ):\n",
      "\u001b[0m\u001b[0;32m     40 \u001b[0;31m        \u001b[0mself\u001b[0m\u001b[0;34m.\u001b[0m\u001b[0mnpz_path\u001b[0m \u001b[0;34m=\u001b[0m \u001b[0mnpz_path\u001b[0m\u001b[0;34m\u001b[0m\u001b[0;34m\u001b[0m\u001b[0m\n",
      "\u001b[0m\u001b[0;32m---> 41 \u001b[0;31m        \u001b[0mself\u001b[0m\u001b[0;34m.\u001b[0m\u001b[0moutput_root_dir\u001b[0m \u001b[0;34m=\u001b[0m \u001b[0mPath\u001b[0m\u001b[0;34m(\u001b[0m\u001b[0moutput_root_dir\u001b[0m\u001b[0;34m)\u001b[0m\u001b[0;34m\u001b[0m\u001b[0;34m\u001b[0m\u001b[0m\n",
      "\u001b[0m\u001b[0;32m     42 \u001b[0;31m        \u001b[0mself\u001b[0m\u001b[0;34m.\u001b[0m\u001b[0mtime_log_path\u001b[0m \u001b[0;34m=\u001b[0m \u001b[0mself\u001b[0m\u001b[0;34m.\u001b[0m\u001b[0moutput_root_dir\u001b[0m \u001b[0;34m/\u001b[0m \u001b[0;34m\"../construct.log\"\u001b[0m\u001b[0;34m\u001b[0m\u001b[0;34m\u001b[0m\u001b[0m\n",
      "\u001b[0m\u001b[0;32m     43 \u001b[0;31m        \u001b[0mself\u001b[0m\u001b[0;34m.\u001b[0m\u001b[0mnum_recycles\u001b[0m \u001b[0;34m=\u001b[0m \u001b[0mnum_recycles\u001b[0m\u001b[0;34m\u001b[0m\u001b[0;34m\u001b[0m\u001b[0m\n",
      "\u001b[0m\n"
     ]
    },
    {
     "name": "stdin",
     "output_type": "stream",
     "text": [
      "ipdb>  p output_root_dir\n"
     ]
    },
    {
     "name": "stdout",
     "output_type": "stream",
     "text": [
      "None\n"
     ]
    },
    {
     "name": "stdin",
     "output_type": "stream",
     "text": [
      "ipdb>  up\n"
     ]
    },
    {
     "name": "stdout",
     "output_type": "stream",
     "text": [
      "> \u001b[0;32m/tmp/ipykernel_4030370/460477287.py\u001b[0m(1)\u001b[0;36m<module>\u001b[0;34m()\u001b[0m\n",
      "\u001b[0;32m----> 1 \u001b[0;31m\u001b[0mdecode_latent\u001b[0m \u001b[0;34m=\u001b[0m \u001b[0mDecodeLatent\u001b[0m\u001b[0;34m(\u001b[0m\u001b[0mcfg\u001b[0m\u001b[0;34m)\u001b[0m\u001b[0;34m\u001b[0m\u001b[0;34m\u001b[0m\u001b[0m\n",
      "\u001b[0m\n"
     ]
    },
    {
     "name": "stdin",
     "output_type": "stream",
     "text": [
      "ipdb>  cfg\n"
     ]
    },
    {
     "name": "stdout",
     "output_type": "stream",
     "text": [
      "{'cond_code': '???', 'npz_timestamp': '???', 'plaid_model_id': '5j007z42', 'npz_path': '/data/lux70/plaid/artifacts/samples/f2_o3617/240911_2240.npz', 'output_root_dir': '/data/lux70/plaid/artifacts/samples/5j007z42/f2_o3617/240911_2240.npz/generated', 'batch_size': 64, 'device': 'cuda', 'num_recycles': 1}\n"
     ]
    },
    {
     "name": "stdin",
     "output_type": "stream",
     "text": [
      "ipdb>  q\n"
     ]
    }
   ],
   "source": [
    "%debug"
   ]
  },
  {
   "cell_type": "code",
   "execution_count": 26,
   "id": "42cf28f1-3f4a-46e1-9207-be41e0ced7f2",
   "metadata": {},
   "outputs": [
    {
     "name": "stdout",
     "output_type": "stream",
     "text": [
      "/data/lux70/plaid/artifacts/samples/5j007z42/240911_2240\n",
      "/data/lux70/plaid/artifacts/samples/5j007z42/240911_2240/latent.npz\n",
      "/data/lux70/plaid/artifacts/samples/5j007z42/240911_2240/sample.log\n",
      "/data/lux70/plaid/artifacts/samples/5j007z42/240912_1902\n",
      "/data/lux70/plaid/artifacts/samples/5j007z42/240912_1902/latent.npz\n",
      "/data/lux70/plaid/artifacts/samples/5j007z42/240912_1902/sample.log\n",
      "/data/lux70/plaid/artifacts/samples/5j007z42/240912_1930\n",
      "/data/lux70/plaid/artifacts/samples/5j007z42/240912_1930/latent.npz\n",
      "/data/lux70/plaid/artifacts/samples/5j007z42/240912_1930/sample.log\n",
      "/data/lux70/plaid/artifacts/samples/5j007z42/240912_1759\n",
      "/data/lux70/plaid/artifacts/samples/5j007z42/240912_1759/latent.npz\n",
      "/data/lux70/plaid/artifacts/samples/5j007z42/240912_1759/sample.log\n",
      "/data/lux70/plaid/artifacts/samples/5j007z42/240911_2010\n",
      "/data/lux70/plaid/artifacts/samples/5j007z42/240911_2010/latent.npz\n",
      "/data/lux70/plaid/artifacts/samples/5j007z42/240911_2010/sample.log\n",
      "/data/lux70/plaid/artifacts/samples/5j007z42/240912_0525\n",
      "/data/lux70/plaid/artifacts/samples/5j007z42/240912_0525/latent.npz\n",
      "/data/lux70/plaid/artifacts/samples/5j007z42/240912_0525/sample.log\n",
      "/data/lux70/plaid/artifacts/samples/5j007z42/240912_0118\n",
      "/data/lux70/plaid/artifacts/samples/5j007z42/240912_0118/latent.npz\n",
      "/data/lux70/plaid/artifacts/samples/5j007z42/240912_0118/sample.log\n",
      "/data/lux70/plaid/artifacts/samples/5j007z42/240912_0435\n",
      "/data/lux70/plaid/artifacts/samples/5j007z42/240912_0435/latent.npz\n",
      "/data/lux70/plaid/artifacts/samples/5j007z42/240912_0435/sample.log\n",
      "/data/lux70/plaid/artifacts/samples/5j007z42/240912_0028\n",
      "/data/lux70/plaid/artifacts/samples/5j007z42/240912_0028/latent.npz\n",
      "/data/lux70/plaid/artifacts/samples/5j007z42/240912_0028/sample.log\n",
      "/data/lux70/plaid/artifacts/samples/5j007z42/240912_0350\n",
      "/data/lux70/plaid/artifacts/samples/5j007z42/240912_0350/latent.npz\n",
      "/data/lux70/plaid/artifacts/samples/5j007z42/240912_0350/sample.log\n",
      "/data/lux70/plaid/artifacts/samples/5j007z42/240912_0257\n",
      "/data/lux70/plaid/artifacts/samples/5j007z42/240912_0257/latent.npz\n",
      "/data/lux70/plaid/artifacts/samples/5j007z42/240912_0257/sample.log\n",
      "/data/lux70/plaid/artifacts/samples/5j007z42/240911_2308\n",
      "/data/lux70/plaid/artifacts/samples/5j007z42/240911_2308/latent.npz\n",
      "/data/lux70/plaid/artifacts/samples/5j007z42/240911_2308/sample.log\n",
      "/data/lux70/plaid/artifacts/samples/5j007z42/240912_0233\n",
      "/data/lux70/plaid/artifacts/samples/5j007z42/240912_0233/latent.npz\n",
      "/data/lux70/plaid/artifacts/samples/5j007z42/240912_0233/sample.log\n"
     ]
    }
   ],
   "source": [
    "import glob\n",
    "\n",
    "for cond_code in os.listdir(sample_root_dir / model_id):\n",
    "    try:\n",
    "        npz_path = glob.glob(str(sample_root_dir / model_id / cond_code / \"*npz\"))[0]\n",
    "        sample_path = glob.glob(str(sample_root_dir / model_id / cond_code / \"*log\"))[0]\n",
    "    except IndexError:\n",
    "        continue\n",
    "\n",
    "    \n",
    "    npz_timestamp = Path(npz_path).stem\n",
    "\n",
    "    new_dir = sample_root_dir / model_id / npz_timestamp\n",
    "    print(new_dir)\n",
    "    print(new_dir / \"latent.npz\")\n",
    "    print(new_dir / \"sample.log\")\n",
    "    \n",
    "    new_dir.mkdir()\n",
    "    os.rename(npz_path, new_dir / \"latent.npz\")\n",
    "    os.rename(sample_path, new_dir / \"sample.log\")"
   ]
  },
  {
   "cell_type": "code",
   "execution_count": 17,
   "id": "3b79e350-3542-41c7-9dbc-701877ed23a5",
   "metadata": {},
   "outputs": [
    {
     "name": "stderr",
     "output_type": "stream",
     "text": [
      "/homefs/home/lux70/code/plaid/src/plaid/pipeline/_sample.py:92: FutureWarning: You are using `torch.load` with `weights_only=False` (the current default value), which uses the default pickle module implicitly. It is possible to construct malicious pickle data which will execute arbitrary code during unpickling (See https://github.com/pytorch/pytorch/blob/main/SECURITY.md#untrusted-models for more details). In a future release, the default value for `weights_only` will be flipped to `True`. This limits the functions that could be executed during unpickling. Arbitrary objects will no longer be allowed to be loaded via this mode unless they are explicitly allowlisted by the user via `torch.serialization.add_safe_globals`. We recommend you start setting `weights_only=True` for any use case where you don't have full control of the loaded file. Please open an issue on GitHub for any issues related to this experimental feature.\n",
      "  ckpt = torch.load(model_path)\n"
     ]
    }
   ],
   "source": [
    "sample_latent = SampleLatent(**cfg)"
   ]
  },
  {
   "cell_type": "code",
   "execution_count": null,
   "id": "e6fb12a8-ff66-4e4a-9d5b-2b4845508446",
   "metadata": {},
   "outputs": [],
   "source": []
  }
 ],
 "metadata": {
  "kernelspec": {
   "display_name": "Python (plaid-train)",
   "language": "python",
   "name": "plaid-train"
  },
  "language_info": {
   "codemirror_mode": {
    "name": "ipython",
    "version": 3
   },
   "file_extension": ".py",
   "mimetype": "text/x-python",
   "name": "python",
   "nbconvert_exporter": "python",
   "pygments_lexer": "ipython3",
   "version": "3.10.14"
  }
 },
 "nbformat": 4,
 "nbformat_minor": 5
}
