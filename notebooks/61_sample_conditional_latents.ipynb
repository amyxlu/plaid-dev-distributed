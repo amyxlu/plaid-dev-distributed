{
 "cells": [
  {
   "cell_type": "code",
   "execution_count": 19,
   "id": "ff9e681f-86bf-4d34-b772-968287b3c6ca",
   "metadata": {},
   "outputs": [
    {
     "name": "stdout",
     "output_type": "stream",
     "text": [
      "The autoreload extension is already loaded. To reload it, use:\n",
      "  %reload_ext autoreload\n"
     ]
    }
   ],
   "source": [
    "%load_ext autoreload\n",
    "%autoreload 2"
   ]
  },
  {
   "cell_type": "code",
   "execution_count": 13,
   "id": "84d3dddb-b121-4875-8c23-4f5bdee668a7",
   "metadata": {},
   "outputs": [],
   "source": [
    "# import pandas as pd\n",
    "# from plaid.utils import round_to_multiple\n",
    "# from omegaconf import DictConfig, OmegaConf\n",
    "from plaid.pipeline import SampleLatent\n",
    "from omegaconf import OmegaConf, DictConfig\n",
    "from plaid.utils import round_to_multiple\n",
    "pipeline.__dir__()\n",
    "import pandas as pd"
   ]
  },
  {
   "cell_type": "code",
   "execution_count": 10,
   "id": "1b433eea-8207-4d90-a11e-ccd98b0a4dcf",
   "metadata": {},
   "outputs": [],
   "source": [
    "df = pd.read_parquet(\"/data/lux70/data/pfam/val.parquet\")\n",
    "unique_go_idxs = df.GO_idx.unique()\n",
    "unique_go_idxs.sort()"
   ]
  },
  {
   "cell_type": "code",
   "execution_count": 11,
   "id": "f3f3c2af-8fa7-48d1-9b30-6abd61765971",
   "metadata": {},
   "outputs": [],
   "source": [
    "cfg = OmegaConf.load(\"/homefs/home/lux70/code/plaid/configs/pipeline/sample_latent.yaml\")\n",
    "cfg.return_all_timesteps = True\n",
    "cfg.length = 64"
   ]
  },
  {
   "cell_type": "code",
   "execution_count": 14,
   "id": "d5f6f4c5-1b7d-4120-a5bd-d80602088e5c",
   "metadata": {},
   "outputs": [
    {
     "name": "stdout",
     "output_type": "stream",
     "text": [
      "127 64 1\n",
      "270 136 2\n",
      "45 24 4\n",
      "142 72 6\n",
      "89 44 7\n",
      "133 68 8\n",
      "39 20 10\n",
      "99 48 11\n",
      "82 40 13\n",
      "88 44 14\n",
      "108 56 15\n"
     ]
    }
   ],
   "source": [
    "for i, idx in enumerate(unique_go_idxs):\n",
    "    if i > 10:\n",
    "        break\n",
    "    median_len = int(df[df.GO_idx == idx].seq_len.median())\n",
    "    sample_len = round_to_multiple(median_len / 2, multiple=4)\n",
    "    print(median_len,sample_len,idx)"
   ]
  },
  {
   "cell_type": "code",
   "execution_count": 16,
   "id": "42cf28f1-3f4a-46e1-9207-be41e0ced7f2",
   "metadata": {},
   "outputs": [
    {
     "data": {
      "text/plain": [
       "['_self_']"
      ]
     },
     "execution_count": 16,
     "metadata": {},
     "output_type": "execute_result"
    }
   ],
   "source": [
    "cfg.pop(\"defaults\")"
   ]
  },
  {
   "cell_type": "code",
   "execution_count": 17,
   "id": "3b79e350-3542-41c7-9dbc-701877ed23a5",
   "metadata": {},
   "outputs": [
    {
     "name": "stderr",
     "output_type": "stream",
     "text": [
      "/homefs/home/lux70/code/plaid/src/plaid/pipeline/_sample.py:92: FutureWarning: You are using `torch.load` with `weights_only=False` (the current default value), which uses the default pickle module implicitly. It is possible to construct malicious pickle data which will execute arbitrary code during unpickling (See https://github.com/pytorch/pytorch/blob/main/SECURITY.md#untrusted-models for more details). In a future release, the default value for `weights_only` will be flipped to `True`. This limits the functions that could be executed during unpickling. Arbitrary objects will no longer be allowed to be loaded via this mode unless they are explicitly allowlisted by the user via `torch.serialization.add_safe_globals`. We recommend you start setting `weights_only=True` for any use case where you don't have full control of the loaded file. Please open an issue on GitHub for any issues related to this experimental feature.\n",
      "  ckpt = torch.load(model_path)\n"
     ]
    }
   ],
   "source": [
    "sample_latent = SampleLatent(**cfg)"
   ]
  },
  {
   "cell_type": "code",
   "execution_count": 18,
   "id": "c2e8bc47-f8a6-4b2e-ae73-733a74ecda46",
   "metadata": {},
   "outputs": [
    {
     "data": {
      "text/plain": [
       "{'model_id': '5j007z42', 'model_ckpt_dir': '/data/lux70/plaid/checkpoints/plaid-compositional', 'organism_idx': 3617, 'function_idx': 2219, 'cond_scale': 10.0, 'num_samples': 1024, 'beta_scheduler_name': None, 'sampling_timesteps': 500, 'batch_size': -1, 'return_all_timesteps': True, 'output_root_dir': '/data/lux70/plaid/artifacts/samples', 'length': 64}"
      ]
     },
     "execution_count": 18,
     "metadata": {},
     "output_type": "execute_result"
    }
   ],
   "source": [
    "cfg"
   ]
  },
  {
   "cell_type": "code",
   "execution_count": null,
   "id": "e6fb12a8-ff66-4e4a-9d5b-2b4845508446",
   "metadata": {},
   "outputs": [],
   "source": []
  }
 ],
 "metadata": {
  "kernelspec": {
   "display_name": "Python (plaid-train)",
   "language": "python",
   "name": "plaid-train"
  },
  "language_info": {
   "codemirror_mode": {
    "name": "ipython",
    "version": 3
   },
   "file_extension": ".py",
   "mimetype": "text/x-python",
   "name": "python",
   "nbconvert_exporter": "python",
   "pygments_lexer": "ipython3",
   "version": "3.10.14"
  }
 },
 "nbformat": 4,
 "nbformat_minor": 5
}
