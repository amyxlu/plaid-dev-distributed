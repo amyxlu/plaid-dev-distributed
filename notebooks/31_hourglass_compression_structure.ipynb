{
 "cells": [
  {
   "cell_type": "code",
   "execution_count": 1,
   "id": "eb592e4d-51d6-4711-ab4c-2092f931491a",
   "metadata": {},
   "outputs": [],
   "source": [
    "%load_ext autoreload\n",
    "%autoreload 2"
   ]
  },
  {
   "cell_type": "code",
   "execution_count": 2,
   "id": "86d7562f-3c61-4555-9808-a8a5a0e12358",
   "metadata": {},
   "outputs": [],
   "source": [
    "import torch\n",
    "from pathlib import Path\n",
    "from plaid.compression.hourglass_lightning import HourglassTransformerLightningModule\n",
    "import os\n",
    "\n",
    "# dirpath = Path(\"/homefs/home/lux70/storage/plaid/checkpoints/hourglass/2024-02-19T11-10-18\")\n",
    "dirpath = Path(\"/homefs/home/lux70/storage/plaid/checkpoints/hourglass/2024-02-20T03-24-07\")\n",
    "list(dirpath.glob(\"*\"))\n",
    "ckpt = torch.load(dirpath / \"last.ckpt\")"
   ]
  },
  {
   "cell_type": "code",
   "execution_count": 3,
   "id": "53b8a8ba-8726-4eaa-bd65-ae1939d60945",
   "metadata": {},
   "outputs": [
    {
     "data": {
      "text/plain": [
       "<All keys matched successfully>"
      ]
     },
     "execution_count": 3,
     "metadata": {},
     "output_type": "execute_result"
    }
   ],
   "source": [
    "# need to this this explicitly because didn't call save hyperparameter during training, now fixed for future versions.\n",
    "\n",
    "# electric-snow\n",
    "model = HourglassTransformerLightningModule(\n",
    "    dim=1024,\n",
    "    depth=[4,2,4],\n",
    "    dim_head=64,\n",
    "    downproj_factor=4,\n",
    "    shorten_factor=2\n",
    ")\n",
    "\n",
    "# astral-sponge\n",
    "# model = HourglassTransformerLightningModule(\n",
    "#     dim=1024,\n",
    "#     depth=[4,2,4],\n",
    "#     dim_head=64,\n",
    "#     # downproj_factor=4,\n",
    "#     shorten_factor=2\n",
    "# )\n",
    "\n",
    "device = torch.device(\"cuda\")\n",
    "model.load_state_dict(ckpt['state_dict'])"
   ]
  },
  {
   "cell_type": "code",
   "execution_count": 4,
   "id": "686e214c-9c73-4a05-a022-5bf2f6950452",
   "metadata": {},
   "outputs": [],
   "source": [
    "# from evo.dataset import FastaDataset\n",
    "# # dataset = FastaDataset(\"/homefs/home/lux70/storage/data/rocklin/rocklin_stable.fasta\")\n",
    "# dataset = FastaDataset(\"/homefs/home/lux70/storage/data/cath/cath-dataset-nonredundant-S40.atom.fa\")\n",
    "# dataloader = torch.utils.data.DataLoader(dataset, batch_size=32)\n",
    "\n",
    "# from plaid.transforms import get_random_sequence_crop_batch\n",
    "\n",
    "# headers, sequences = next(iter(dataloader))\n",
    "# sequences = get_random_sequence_crop_batch(sequences, max_len=512)\n",
    "# print(sequences[:3])\n",
    "# print(headers[:3])"
   ]
  },
  {
   "cell_type": "code",
   "execution_count": 5,
   "id": "affb6d94-ecba-4783-a1ee-c96834ce0bc5",
   "metadata": {},
   "outputs": [
    {
     "name": "stdout",
     "output_type": "stream",
     "text": [
      "Did not find 4001 IDs, including ['4oe6B02', '3en9A02', '1tt5C01']\n",
      "Did not find 16140 IDs, including ['4rx6D00', '1bw0A02', '3qokA01']\n"
     ]
    },
    {
     "name": "stderr",
     "output_type": "stream",
     "text": [
      "/homefs/home/lux70/miniconda3/envs/plaid/lib/python3.12/site-packages/torch/utils/data/dataloader.py:558: UserWarning: This DataLoader will create 2 worker processes in total. Our suggested max number of worker in current system is 1, which is smaller than what this DataLoader is going to create. Please be aware that excessive worker creation might get DataLoader running slow or even freeze, lower the worker number to avoid potential slowness/freeze if necessary.\n",
      "  warnings.warn(_create_warning_msg(\n"
     ]
    },
    {
     "name": "stdout",
     "output_type": "stream",
     "text": [
      "16140\n"
     ]
    }
   ],
   "source": [
    "from plaid.datasets import CATHStructureDataModule\n",
    "\n",
    "shard_dir = \"/homefs/home/lux70/storage/data/cath/shards/\"\n",
    "pdb_dir = \"/data/bucket/lux70/data/cath/dompdb\"\n",
    "\n",
    "dm = CATHStructureDataModule(\n",
    "    shard_dir,\n",
    "    pdb_dir,\n",
    "    seq_len=256,\n",
    "    batch_size=4,\n",
    "    num_workers=2,\n",
    "    path_to_filtered_ids_list=\"/homefs/home/lux70/accurate_cath_ids.txt\"\n",
    ") \n",
    "    \n",
    "dm.setup()\n",
    "train_dataloader = dm.train_dataloader()\n",
    "batch = next(iter(train_dataloader))\n",
    "print(len(train_dataloader.dataset))"
   ]
  },
  {
   "cell_type": "code",
   "execution_count": null,
   "id": "4ba5df3a-98fc-49a7-ac13-7b1624cf6056",
   "metadata": {},
   "outputs": [],
   "source": [
    "x = batch[0].to(device)\n",
    "sequences = batch[1]\n",
    "x = x.to(device)"
   ]
  },
  {
   "cell_type": "code",
   "execution_count": null,
   "id": "7bd1db99-95e5-42e4-bfff-452916311898",
   "metadata": {},
   "outputs": [],
   "source": [
    "from plaid.esmfold.misc import batch_encode_sequences\n",
    "_, mask, _, _, _ = batch_encode_sequences(sequences)\n",
    "mask = mask.to(device)\n",
    "model = model.to(device)"
   ]
  },
  {
   "cell_type": "code",
   "execution_count": null,
   "id": "86d90920-d370-44bb-bdcb-5ff319891460",
   "metadata": {},
   "outputs": [],
   "source": [
    "from plaid.utils import LatentScaler\n",
    "latent_scaler = LatentScaler()\n",
    "x = latent_scaler.scale(x)"
   ]
  },
  {
   "cell_type": "code",
   "execution_count": null,
   "id": "baacc4c7-f815-411c-baaa-2ec3b266b79d",
   "metadata": {},
   "outputs": [],
   "source": [
    "recons = model(x, mask.bool())\n",
    "print(torch.mean((recons - x) ** 2))"
   ]
  },
  {
   "cell_type": "code",
   "execution_count": null,
   "id": "54c130c6-3320-46f6-9337-370c5f2fc906",
   "metadata": {},
   "outputs": [],
   "source": [
    "print(recons[:2, :2, :2])\n",
    "print(x[:2, :2,:2])\n"
   ]
  },
  {
   "cell_type": "code",
   "execution_count": null,
   "id": "8959e4d4-b60f-48bf-8f32-b0c28d9bb536",
   "metadata": {},
   "outputs": [],
   "source": [
    "from plaid.proteins import LatentToStructure\n",
    "\n",
    "structure_constructor = LatentToStructure()"
   ]
  },
  {
   "cell_type": "code",
   "execution_count": null,
   "id": "cfa2bdfd-0866-45eb-9a3b-4bd0bc9e5ee1",
   "metadata": {},
   "outputs": [],
   "source": [
    "structure_constructor.to(device)"
   ]
  },
  {
   "cell_type": "code",
   "execution_count": null,
   "id": "0e638b71-4c8f-4a0f-9fa2-01cc48a07b04",
   "metadata": {},
   "outputs": [],
   "source": [
    "recons_struct = structure_constructor.to_structure(recons, sequences)"
   ]
  },
  {
   "cell_type": "code",
   "execution_count": null,
   "id": "9591d5cb-b7f4-41e5-a8dc-a1b675f5a2fb",
   "metadata": {},
   "outputs": [],
   "source": [
    "orig_struct = structure_constructor.to_structure(x, sequences)"
   ]
  },
  {
   "cell_type": "code",
   "execution_count": null,
   "id": "e36a98b9-88ce-422f-b877-93763c33af6e",
   "metadata": {},
   "outputs": [],
   "source": [
    "for i, pdbstr in enumerate(recons_struct[0]):\n",
    "    with open(f\"recons_pred_{i}.pdb\", \"w\") as f: \n",
    "        f.write(pdbstr)"
   ]
  },
  {
   "cell_type": "code",
   "execution_count": null,
   "id": "35e83f85-b13c-43aa-81f7-8137981446ab",
   "metadata": {},
   "outputs": [],
   "source": [
    "for i, pdbstr in enumerate(orig_struct[0]):\n",
    "    with open(f\"orig_pred_{i}.pdb\", \"w\") as f: \n",
    "        f.write(pdbstr)"
   ]
  },
  {
   "cell_type": "code",
   "execution_count": null,
   "id": "06d4b591-a00a-48c5-8fa3-cafa503f2dba",
   "metadata": {},
   "outputs": [],
   "source": [
    "import glob\n",
    "recons_pdbs = glob.glob(\"recons_*.pdb\")\n",
    "orig_pdbs = glob.glob(\"orig_*.pdb\")\n",
    "print(orig_pdbs)"
   ]
  },
  {
   "cell_type": "code",
   "execution_count": null,
   "id": "d49cb52c-8a33-47f9-9349-16b2c2e356b7",
   "metadata": {},
   "outputs": [],
   "source": [
    "from plaid.utils import run_tmalign\n",
    "\n",
    "for orig, recons in zip(orig_pdbs, recons_pdbs):\n",
    "    print(run_tmalign(orig, recons))"
   ]
  },
  {
   "cell_type": "code",
   "execution_count": null,
   "id": "8044ddda-a127-4f85-8ab5-94ddb0aca272",
   "metadata": {},
   "outputs": [],
   "source": [
    "from plaid.utils import view_py3Dmol\n",
    "\n",
    "for i in range(4):\n",
    "    view_py3Dmol(orig_struct[0][i])"
   ]
  },
  {
   "cell_type": "code",
   "execution_count": null,
   "id": "b2fc3228-2f6e-4aad-ae68-cf26943e2b8d",
   "metadata": {},
   "outputs": [],
   "source": [
    "recons_pdbs[0]"
   ]
  },
  {
   "cell_type": "code",
   "execution_count": null,
   "id": "fc80928c-68e9-484a-950a-a8c66553a037",
   "metadata": {},
   "outputs": [],
   "source": []
  }
 ],
 "metadata": {
  "kernelspec": {
   "display_name": "Python 3 (ipykernel)",
   "language": "python",
   "name": "python3"
  },
  "language_info": {
   "codemirror_mode": {
    "name": "ipython",
    "version": 3
   },
   "file_extension": ".py",
   "mimetype": "text/x-python",
   "name": "python",
   "nbconvert_exporter": "python",
   "pygments_lexer": "ipython3",
   "version": "3.12.2"
  }
 },
 "nbformat": 4,
 "nbformat_minor": 5
}
