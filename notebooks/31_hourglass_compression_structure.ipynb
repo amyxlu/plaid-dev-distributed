{
 "cells": [
  {
   "cell_type": "code",
   "execution_count": 1,
   "id": "eb592e4d-51d6-4711-ab4c-2092f931491a",
   "metadata": {},
   "outputs": [],
   "source": [
    "%load_ext autoreload\n",
    "%autoreload 2"
   ]
  },
  {
   "cell_type": "code",
   "execution_count": 2,
   "id": "6331a807-fad4-4ff3-995d-bf4953e7fde5",
   "metadata": {},
   "outputs": [],
   "source": [
    "import torch\n",
    "from pathlib import Path\n",
    "from plaid.compression.hourglass_vq import HourglassVQLightningModule\n",
    "import os"
   ]
  },
  {
   "cell_type": "code",
   "execution_count": 3,
   "id": "86d7562f-3c61-4555-9808-a8a5a0e12358",
   "metadata": {},
   "outputs": [
    {
     "name": "stdout",
     "output_type": "stream",
     "text": [
      "['last-v1.ckpt', 'epoch=263-step=105000.ckpt', 'epoch=363-step=145000.ckpt', 'last.ckpt']\n"
     ]
    }
   ],
   "source": [
    "# soft-violet-83\n",
    "dirpath = Path(\"/homefs/home/lux70/storage/plaid/checkpoints/hourglass_vq/2024-03-05T06-20-52\")\n",
    "print(os.listdir(str(dirpath)))\n",
    "model = HourglassVQLightningModule.load_from_checkpoint(dirpath / \"last.ckpt\")"
   ]
  },
  {
   "cell_type": "code",
   "execution_count": 4,
   "id": "affb6d94-ecba-4783-a1ee-c96834ce0bc5",
   "metadata": {},
   "outputs": [
    {
     "name": "stdout",
     "output_type": "stream",
     "text": [
      "32\n"
     ]
    }
   ],
   "source": [
    "from plaid.datasets import CATHStructureDataModule\n",
    "\n",
    "shard_dir = \"/homefs/home/lux70/storage/data/cath/shards/\"\n",
    "pdb_dir = \"/data/bucket/lux70/data/cath/dompdb\"\n",
    "# shard_dir = \"/homefs/home/lux70/storage/data/rocklin/shards/\"\n",
    "# pdb_dir = \"/data/bucket/lux70/data/rocklin/structures/\"\n",
    "\n",
    "max_seq_len=256\n",
    "dm = CATHStructureDataModule(\n",
    "    shard_dir,\n",
    "    pdb_dir,\n",
    "    seq_len=max_seq_len,\n",
    "    batch_size=32,\n",
    "    max_num_samples=32,\n",
    "    shuffle_val_dataset=False\n",
    ") \n",
    "    \n",
    "dm.setup()\n",
    "val_dataloader = dm.val_dataloader()\n",
    "batch = next(iter(val_dataloader))\n",
    "print(len(val_dataloader.dataset))"
   ]
  },
  {
   "cell_type": "code",
   "execution_count": 5,
   "id": "4ba5df3a-98fc-49a7-ac13-7b1624cf6056",
   "metadata": {},
   "outputs": [],
   "source": [
    "# grab saved embedding\n",
    "import torch\n",
    "\n",
    "device = torch.device(\"cuda\")\n",
    "x = batch[0].to(device)\n",
    "sequences = batch[1]\n",
    "x = x.to(device)\n",
    "\n",
    "# make mask\n",
    "from plaid.esmfold.misc import batch_encode_sequences\n",
    "_, mask, _, _, _ = batch_encode_sequences(sequences)\n",
    "\n",
    "from plaid.transforms import trim_or_pad_batch_first\n",
    "mask = mask.to(device)\n",
    "model = model.to(device)\n",
    "mask = trim_or_pad_batch_first(mask, pad_to=max_seq_len, pad_idx=0)\n",
    "\n",
    "# scale\n",
    "from plaid.utils import LatentScaler\n",
    "latent_scaler = LatentScaler()\n",
    "x_norm = latent_scaler.scale(x)"
   ]
  },
  {
   "cell_type": "code",
   "execution_count": 6,
   "id": "e168d24a-e3c8-45ca-bd0f-abdda67b1307",
   "metadata": {},
   "outputs": [
    {
     "name": "stdout",
     "output_type": "stream",
     "text": [
      "torch.Size([32, 256, 1024])\n",
      "tensor(1.1303, device='cuda:0')\n"
     ]
    }
   ],
   "source": [
    "print(x_norm.shape)\n",
    "print(x_norm.max())"
   ]
  },
  {
   "cell_type": "code",
   "execution_count": 7,
   "id": "baacc4c7-f815-411c-baaa-2ec3b266b79d",
   "metadata": {},
   "outputs": [
    {
     "name": "stdout",
     "output_type": "stream",
     "text": [
      "tensor(0.0376, device='cuda:0', grad_fn=<MeanBackward0>)\n"
     ]
    }
   ],
   "source": [
    "# model forward pass!!\n",
    "\n",
    "recons_norm, loss, log_dict, quant_out = model(x_norm, mask.bool(), log_wandb=False)# , return_vq_output=True)\n",
    "print(torch.mean((recons_norm - x_norm) ** 2))"
   ]
  },
  {
   "cell_type": "code",
   "execution_count": 8,
   "id": "c9fed2cd-6dab-4e94-8aaf-c9dea4ab7a3a",
   "metadata": {},
   "outputs": [
    {
     "name": "stdout",
     "output_type": "stream",
     "text": [
      "torch.Size([131072, 1])\n",
      "torch.Size([32, 4096])\n",
      "torch.Size([32, 256, 16])\n"
     ]
    }
   ],
   "source": [
    "N, L, _ = x.shape\n",
    "print(quant_out['min_encoding_indices'].shape)\n",
    "print(quant_out['min_encoding_indices'].reshape(N, -1).shape)\n",
    "print(quant_out['min_encoding_indices'].reshape(N, L, -1).shape)"
   ]
  },
  {
   "cell_type": "code",
   "execution_count": null,
   "id": "8959e4d4-b60f-48bf-8f32-b0c28d9bb536",
   "metadata": {},
   "outputs": [
    {
     "name": "stdout",
     "output_type": "stream",
     "text": [
      "loading esmfold model...\n",
      "ESMFold model created in 46.58 seconds.\n"
     ]
    },
    {
     "name": "stderr",
     "output_type": "stream",
     "text": [
      "(Generating structure): 100%|████████████████████████████████████| 8/8 [01:12<00:00,  9.00s/it]\n",
      "(Generating structure):  25%|█████████                           | 2/8 [00:18<00:54,  9.09s/it]"
     ]
    }
   ],
   "source": [
    "from plaid.proteins import LatentToStructure\n",
    "\n",
    "del model  # save some GPU space\n",
    "\n",
    "structure_constructor = LatentToStructure()\n",
    "structure_constructor.to(device)\n",
    "\n",
    "recons = latent_scaler.unscale(recons_norm)\n",
    "recons_struct = structure_constructor.to_structure(recons, sequences, return_raw_features=True, batch_size=4, num_recycles=1)\n",
    "orig_struct = structure_constructor.to_structure(x, sequences, return_raw_features=True, batch_size=4, num_recycles=1)"
   ]
  },
  {
   "cell_type": "code",
   "execution_count": null,
   "id": "e36a98b9-88ce-422f-b877-93763c33af6e",
   "metadata": {},
   "outputs": [],
   "source": [
    "for i, pdbstr in enumerate(recons_struct[0]):\n",
    "    with open(f\"/homefs/home/lux70/cache/recons_pred_{i}.pdb\", \"w\") as f: \n",
    "        f.write(pdbstr)"
   ]
  },
  {
   "cell_type": "code",
   "execution_count": null,
   "id": "35e83f85-b13c-43aa-81f7-8137981446ab",
   "metadata": {},
   "outputs": [],
   "source": [
    "for i, pdbstr in enumerate(orig_struct[0]):\n",
    "    with open(f\"/homefs/home/lux70/cache/orig_pred_{i}.pdb\", \"w\") as f: \n",
    "        f.write(pdbstr)"
   ]
  },
  {
   "cell_type": "code",
   "execution_count": null,
   "id": "06d4b591-a00a-48c5-8fa3-cafa503f2dba",
   "metadata": {},
   "outputs": [],
   "source": [
    "import glob\n",
    "recons_pdbs = glob.glob(\"/homefs/home/lux70/cache/recons_*.pdb\")\n",
    "orig_pdbs = glob.glob(\"/homefs/home/lux70/cache/orig_*.pdb\")\n",
    "print(orig_pdbs)"
   ]
  },
  {
   "cell_type": "code",
   "execution_count": null,
   "id": "d49cb52c-8a33-47f9-9349-16b2c2e356b7",
   "metadata": {},
   "outputs": [],
   "source": [
    "from plaid.utils import run_tmalign\n",
    "\n",
    "for orig, recons in zip(orig_pdbs, recons_pdbs):\n",
    "    print(run_tmalign(orig, recons))"
   ]
  },
  {
   "cell_type": "code",
   "execution_count": null,
   "id": "902ed000-23bd-4ce0-8a6d-cca7f99b5a84",
   "metadata": {},
   "outputs": [],
   "source": [
    "# import einops\n",
    "# tens = torch.masked_select(\n",
    "#     recons_struct[1]['plddt'],\n",
    "#     einops.repeat(mask.bool(), \"b l -> b l c\", c=recons_struct[1]['plddt'].shape[-1])\n",
    "# )\n",
    "# print(tens.shape)\n",
    "# print(torch.mean(tens))"
   ]
  },
  {
   "cell_type": "code",
   "execution_count": null,
   "id": "8044ddda-a127-4f85-8ab5-94ddb0aca272",
   "metadata": {},
   "outputs": [],
   "source": [
    "from plaid.utils import view_py3Dmol\n",
    "import py3Dmol\n",
    "\n",
    "for i in range(x.shape[0]):\n",
    "    view = py3Dmol.view(width=400, height=300)\n",
    "    view.addModelsAsFrames(orig_struct[0][i])\n",
    "    view.addModelsAsFrames(recons_struct[0][i])\n",
    "    view.setStyle({\"model\": 0}, {\"cartoon\": {\"color\": \"orange\"}})\n",
    "    view.setStyle({\"model\": 1}, {\"cartoon\": {\"color\": \"blue\"}})\n",
    "    view.zoomTo()\n",
    "    view.show()"
   ]
  },
  {
   "cell_type": "code",
   "execution_count": null,
   "id": "756b646f-f5e0-489b-8784-1b740912f0bb",
   "metadata": {},
   "outputs": [],
   "source": [
    "recons_struct[-1]['positions'].shape"
   ]
  },
  {
   "cell_type": "code",
   "execution_count": null,
   "id": "a192c981-89f0-42de-a4b1-3988dd46b609",
   "metadata": {},
   "outputs": [],
   "source": [
    "from plaid.evaluation import drmsd\n",
    "\n",
    "print(recons_struct[-1]['positions'].shape)\n",
    "r = drmsd(recons_struct[-1]['positions'], orig_struct[-1]['positions'])\n",
    "print(r.shape)\n",
    "print(r.mean(dim=(-1)))\n",
    "print(r.mean(dim=(0, -1)))"
   ]
  },
  {
   "cell_type": "code",
   "execution_count": null,
   "id": "a872dac3-408e-406c-a6d2-9ae177eeef49",
   "metadata": {},
   "outputs": [],
   "source": []
  },
  {
   "cell_type": "code",
   "execution_count": null,
   "id": "ed26bc9a-b665-44d8-8130-724d947b1bb6",
   "metadata": {},
   "outputs": [],
   "source": []
  },
  {
   "cell_type": "code",
   "execution_count": null,
   "id": "d5040cfe-5178-48a3-89f0-a30d84a383de",
   "metadata": {},
   "outputs": [],
   "source": []
  }
 ],
 "metadata": {
  "kernelspec": {
   "display_name": "Python 3 (ipykernel)",
   "language": "python",
   "name": "python3"
  },
  "language_info": {
   "codemirror_mode": {
    "name": "ipython",
    "version": 3
   },
   "file_extension": ".py",
   "mimetype": "text/x-python",
   "name": "python",
   "nbconvert_exporter": "python",
   "pygments_lexer": "ipython3",
   "version": "3.12.2"
  }
 },
 "nbformat": 4,
 "nbformat_minor": 5
}
