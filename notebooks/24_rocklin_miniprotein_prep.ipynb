{
 "cells": [
  {
   "cell_type": "code",
   "execution_count": 10,
   "id": "5c40c5e8-75fd-4ece-be63-b036e2ad61da",
   "metadata": {},
   "outputs": [
    {
     "name": "stdout",
     "output_type": "stream",
     "text": [
      "The autoreload extension is already loaded. To reload it, use:\n",
      "  %reload_ext autoreload\n"
     ]
    }
   ],
   "source": [
    "%load_ext autoreload\n",
    "%autoreload 2"
   ]
  },
  {
   "cell_type": "code",
   "execution_count": 11,
   "id": "531cbbe8-3c94-44b0-974d-c3f642b6d6cf",
   "metadata": {},
   "outputs": [],
   "source": [
    "import pandas as pd\n",
    "import matplotlib.pyplot as plt"
   ]
  },
  {
   "cell_type": "markdown",
   "id": "b5cc1491-d285-48a5-b81c-9f30bf02caaf",
   "metadata": {},
   "source": [
    "# Quick processing: rocklin to FASTA\n",
    "data from: https://github.com/duerrsimon/mars-biohackathon\n",
    "* [Multi-mutant](https://github.com/duerrsimon/mars-biohackathon/blob/main/data/multiple_muts_train.csv)\n",
    "* [Single-mutant](https://github.com/duerrsimon/mars-biohackathon/blob/main/data/single_muts_train.csv)"
   ]
  },
  {
   "cell_type": "code",
   "execution_count": 11,
   "id": "a6e350a3-cd5f-4267-9bc5-75d8d14e7f85",
   "metadata": {},
   "outputs": [
    {
     "data": {
      "text/plain": [
       "(8521, 5)"
      ]
     },
     "execution_count": 11,
     "metadata": {},
     "output_type": "execute_result"
    }
   ],
   "source": [
    "df = pd.read_csv(\"../rocklin_single_mutant.csv\")\n",
    "df[df.stabilityscore > 0.].shape"
   ]
  },
  {
   "cell_type": "code",
   "execution_count": 8,
   "id": "8413fe46-907b-499e-bcae-c3dc2e76b3f9",
   "metadata": {},
   "outputs": [
    {
     "data": {
      "text/html": [
       "<div>\n",
       "<style scoped>\n",
       "    .dataframe tbody tr th:only-of-type {\n",
       "        vertical-align: middle;\n",
       "    }\n",
       "\n",
       "    .dataframe tbody tr th {\n",
       "        vertical-align: top;\n",
       "    }\n",
       "\n",
       "    .dataframe thead th {\n",
       "        text-align: right;\n",
       "    }\n",
       "</style>\n",
       "<table border=\"1\" class=\"dataframe\">\n",
       "  <thead>\n",
       "    <tr style=\"text-align: right;\">\n",
       "      <th></th>\n",
       "      <th>Unnamed: 0</th>\n",
       "      <th>name</th>\n",
       "      <th>sequence</th>\n",
       "      <th>secondary_structure</th>\n",
       "      <th>stabilityscore</th>\n",
       "    </tr>\n",
       "  </thead>\n",
       "  <tbody>\n",
       "    <tr>\n",
       "      <th>0</th>\n",
       "      <td>0</td>\n",
       "      <td>EHEE_rd1_0392.pdb</td>\n",
       "      <td>GSSTETYEVHTTDEAERVRKELEKKGYKVEVRSDGTEYEIRSE</td>\n",
       "      <td>TTTTEEEEETTHHHHHHHHHHHHHHTTTEEEEEETTEEEEEET</td>\n",
       "      <td>-0.32</td>\n",
       "    </tr>\n",
       "    <tr>\n",
       "      <th>1</th>\n",
       "      <td>1</td>\n",
       "      <td>EHEE_rd1_0925.pdb_random</td>\n",
       "      <td>GSSEKEDVHRFEIATWERDKQLEERTGREGRTRDIANREDERE</td>\n",
       "      <td>TTTTEEEEETTHHHHHHHHHHHHHHTTTEEEEEETTEEEEEET</td>\n",
       "      <td>-0.50</td>\n",
       "    </tr>\n",
       "    <tr>\n",
       "      <th>2</th>\n",
       "      <td>2</td>\n",
       "      <td>HEEH_rd1_0699.pdb_hp</td>\n",
       "      <td>EARKSDGPSGVKRAKKNEDKETDRKTALYNKIQRVAKEITENE</td>\n",
       "      <td>THHHHHHHHHHHHHTTEEEETTEEEETTTHHHHHHHHHHHHHT</td>\n",
       "      <td>-0.33</td>\n",
       "    </tr>\n",
       "    <tr>\n",
       "      <th>3</th>\n",
       "      <td>3</td>\n",
       "      <td>EEHEE_rd1_0108.pdb_hp</td>\n",
       "      <td>GSAQFKNGNEESEVPYKGRRVKQEPKKDANEWERQGTEGRSDG</td>\n",
       "      <td>TEEEETTEEEETTTHHHHHHHHHHHHHHHTTTEEEETTEEEET</td>\n",
       "      <td>-0.18</td>\n",
       "    </tr>\n",
       "    <tr>\n",
       "      <th>4</th>\n",
       "      <td>4</td>\n",
       "      <td>EEHEE_rd1_0483.pdb</td>\n",
       "      <td>GSGTVELNGNRYTSNSEEDIREWIRRQGATTSETSNGKYQVHR</td>\n",
       "      <td>TEEEETTEEEETTTHHHHHHHHHHHHHHHTTTEEEETTEEEET</td>\n",
       "      <td>-0.12</td>\n",
       "    </tr>\n",
       "  </tbody>\n",
       "</table>\n",
       "</div>"
      ],
      "text/plain": [
       "   Unnamed: 0                      name  \\\n",
       "0           0         EHEE_rd1_0392.pdb   \n",
       "1           1  EHEE_rd1_0925.pdb_random   \n",
       "2           2      HEEH_rd1_0699.pdb_hp   \n",
       "3           3     EEHEE_rd1_0108.pdb_hp   \n",
       "4           4        EEHEE_rd1_0483.pdb   \n",
       "\n",
       "                                      sequence  \\\n",
       "0  GSSTETYEVHTTDEAERVRKELEKKGYKVEVRSDGTEYEIRSE   \n",
       "1  GSSEKEDVHRFEIATWERDKQLEERTGREGRTRDIANREDERE   \n",
       "2  EARKSDGPSGVKRAKKNEDKETDRKTALYNKIQRVAKEITENE   \n",
       "3  GSAQFKNGNEESEVPYKGRRVKQEPKKDANEWERQGTEGRSDG   \n",
       "4  GSGTVELNGNRYTSNSEEDIREWIRRQGATTSETSNGKYQVHR   \n",
       "\n",
       "                           secondary_structure  stabilityscore  \n",
       "0  TTTTEEEEETTHHHHHHHHHHHHHHTTTEEEEEETTEEEEEET           -0.32  \n",
       "1  TTTTEEEEETTHHHHHHHHHHHHHHTTTEEEEEETTEEEEEET           -0.50  \n",
       "2  THHHHHHHHHHHHHTTEEEETTEEEETTTHHHHHHHHHHHHHT           -0.33  \n",
       "3  TEEEETTEEEETTTHHHHHHHHHHHHHHHTTTEEEETTEEEET           -0.18  \n",
       "4  TEEEETTEEEETTTHHHHHHHHHHHHHHHTTTEEEETTEEEET           -0.12  "
      ]
     },
     "execution_count": 8,
     "metadata": {},
     "output_type": "execute_result"
    }
   ],
   "source": [
    "df2 = pd.read_csv(\"../rocklin_multi_mutant.csv\")\n",
    "df2.head()"
   ]
  },
  {
   "cell_type": "markdown",
   "id": "63d86995-63dd-4e5b-a978-b76743a981ce",
   "metadata": {},
   "source": [
    "Let's use the multi mutant dataset and filter out for those with a stability score > 0.1:"
   ]
  },
  {
   "cell_type": "code",
   "execution_count": 17,
   "id": "101d573e-4224-4dd1-9d82-35a2f2fc460e",
   "metadata": {},
   "outputs": [
    {
     "name": "stdout",
     "output_type": "stream",
     "text": [
      "(29187, 5)\n",
      "(9903, 5)\n"
     ]
    }
   ],
   "source": [
    "print(df2.shape)\n",
    "print(df2[df2.stabilityscore > 0.1].shape)"
   ]
  },
  {
   "cell_type": "code",
   "execution_count": 37,
   "id": "7dea6d07-791f-46b3-94e8-45195f59003f",
   "metadata": {},
   "outputs": [
    {
     "name": "stdout",
     "output_type": "stream",
     "text": [
      "(9903, 5)\n",
      "(9880, 5)\n"
     ]
    }
   ],
   "source": [
    "df3 = df2[df2.stabilityscore > 0.1] \n",
    "print(df3.shape)\n",
    "df3 = df3.drop_duplicates(subset=\"sequence\", keep=\"first\")\n",
    "print(df3.shape)"
   ]
  },
  {
   "cell_type": "code",
   "execution_count": 38,
   "id": "45a265e9-2128-4389-845d-1e8265370ec5",
   "metadata": {},
   "outputs": [],
   "source": [
    "# df3.to_csv(\"../rocklin_multi_mutant_stable.csv\")"
   ]
  },
  {
   "cell_type": "code",
   "execution_count": 41,
   "id": "908450ad-80aa-48c6-9326-8f2382bbd95b",
   "metadata": {},
   "outputs": [
    {
     "data": {
      "text/plain": [
       "43"
      ]
     },
     "execution_count": 41,
     "metadata": {},
     "output_type": "execute_result"
    }
   ],
   "source": [
    "df3.sequence.str.len().max()"
   ]
  },
  {
   "cell_type": "code",
   "execution_count": 42,
   "id": "1bfbd4af-853f-4a8d-b697-07b14fa97962",
   "metadata": {},
   "outputs": [
    {
     "data": {
      "text/plain": [
       "28       GSRSGNFGGKSKSPTDWTVKTTATKYAKADTTKDEYGKERLDT\n",
       "30       GSADLTVGNKQFDGADDENQKRARETAGGTHVERDGNTVQVKK\n",
       "33       SDSKEEARRRAKKKNTKVTVNGVTVRAETEEAEKRAEEWLRRQ\n",
       "37       SEEERERAREKARRGEPIKVNGEEWEKPSTELAERLADKKANG\n",
       "41       GSGESRFKGQRVETDNPKELAEREARKVNGPFTQTNGRVEVQV\n",
       "                            ...                     \n",
       "29176    GTDESTNYTYTAPSTDAARKFAQELAKQLGLKVTEKNGTFKVT\n",
       "29178    TWEAAQRVLQALKDNKPITINGVTFTPGNPEVKKWDKKVANAK\n",
       "29181    GSHTLKVGNKEYTFPSWKEAEKFAKKVGAKKVTVKNGTVEVHQ\n",
       "29184    PAAQKAADELKKGATNVTVTLNGKKITLTATSPEEAEKAVKKF\n",
       "29186    TKVHVNGKTYTFPSPDLAKKFAEKVAKKYNLTVHVDGNTVKVK\n",
       "Name: sequence, Length: 9880, dtype: object"
      ]
     },
     "execution_count": 42,
     "metadata": {},
     "output_type": "execute_result"
    }
   ],
   "source": [
    "df3.sequence"
   ]
  },
  {
   "cell_type": "code",
   "execution_count": 43,
   "id": "e5192764-8e40-4ae5-b220-2157aa773186",
   "metadata": {},
   "outputs": [],
   "source": [
    "from plaid.utils import write_to_fasta"
   ]
  },
  {
   "cell_type": "code",
   "execution_count": 45,
   "id": "60797207-ab04-4e49-a130-c4f3c7663a60",
   "metadata": {},
   "outputs": [
    {
     "name": "stdout",
     "output_type": "stream",
     "text": [
      "Wrote 9880 sequences to rocklin_stable.fasta.\n"
     ]
    }
   ],
   "source": [
    "# write_to_fasta(df3.sequence.values, \"rocklin_stable.fasta\", df3.name.values)"
   ]
  },
  {
   "cell_type": "code",
   "execution_count": null,
   "id": "6299a314-d8b1-4e4c-b55d-92f63cc6a0da",
   "metadata": {},
   "outputs": [],
   "source": []
  },
  {
   "cell_type": "markdown",
   "id": "8068ea68-5926-453c-9141-135aa394b246",
   "metadata": {},
   "source": [
    "# Examine perplexity of rocklin dataset"
   ]
  },
  {
   "cell_type": "code",
   "execution_count": 46,
   "id": "9918b81e-4890-473b-a4c6-c1becf961371",
   "metadata": {},
   "outputs": [
    {
     "name": "stderr",
     "output_type": "stream",
     "text": [
      "Special tokens have been added in the vocabulary, make sure the associated word embeddings are fine-tuned or trained.\n"
     ]
    }
   ],
   "source": [
    "from plaid.evaluation import RITAPerplexity\n",
    "import torch\n",
    "\n",
    "device = \"cuda\"\n",
    "\n",
    "perplexity_calculator = RITAPerplexity(device)"
   ]
  },
  {
   "cell_type": "code",
   "execution_count": 50,
   "id": "19fa30f3-38a7-48e8-be0e-9435fec1d8b0",
   "metadata": {},
   "outputs": [
    {
     "data": {
      "text/plain": [
       "15.40421669299786"
      ]
     },
     "execution_count": 50,
     "metadata": {},
     "output_type": "execute_result"
    }
   ],
   "source": [
    "sequences = list(df3.sequence.values)\n",
    "perplexity_calculator.batch_eval(sequences, batch_size=256)"
   ]
  },
  {
   "cell_type": "markdown",
   "id": "d345f226-e7a2-45c1-a230-b8f2b1fa4319",
   "metadata": {},
   "source": [
    "# Structure"
   ]
  },
  {
   "cell_type": "code",
   "execution_count": 3,
   "id": "0618999e-c0e2-464d-8b30-2ad50da9f6f2",
   "metadata": {},
   "outputs": [
    {
     "name": "stdout",
     "output_type": "stream",
     "text": [
      "(9880, 6)\n"
     ]
    },
    {
     "data": {
      "text/html": [
       "<div>\n",
       "<style scoped>\n",
       "    .dataframe tbody tr th:only-of-type {\n",
       "        vertical-align: middle;\n",
       "    }\n",
       "\n",
       "    .dataframe tbody tr th {\n",
       "        vertical-align: top;\n",
       "    }\n",
       "\n",
       "    .dataframe thead th {\n",
       "        text-align: right;\n",
       "    }\n",
       "</style>\n",
       "<table border=\"1\" class=\"dataframe\">\n",
       "  <thead>\n",
       "    <tr style=\"text-align: right;\">\n",
       "      <th></th>\n",
       "      <th>Unnamed: 0.1</th>\n",
       "      <th>Unnamed: 0</th>\n",
       "      <th>name</th>\n",
       "      <th>sequence</th>\n",
       "      <th>secondary_structure</th>\n",
       "      <th>stabilityscore</th>\n",
       "    </tr>\n",
       "  </thead>\n",
       "  <tbody>\n",
       "    <tr>\n",
       "      <th>0</th>\n",
       "      <td>28</td>\n",
       "      <td>28</td>\n",
       "      <td>EEHEE_rd1_0657.pdb_hp</td>\n",
       "      <td>GSRSGNFGGKSKSPTDWTVKTTATKYAKADTTKDEYGKERLDT</td>\n",
       "      <td>TEEEETTEEEETTTHHHHHHHHHHHHHHHTTTEEEETTEEEET</td>\n",
       "      <td>0.43</td>\n",
       "    </tr>\n",
       "    <tr>\n",
       "      <th>1</th>\n",
       "      <td>30</td>\n",
       "      <td>30</td>\n",
       "      <td>EEHEE_rd1_0070.pdb</td>\n",
       "      <td>GSADLTVGNKQFDGADDENQKRARETAGGTHVERDGNTVQVKK</td>\n",
       "      <td>TEEEETTEEEETTTHHHHHHHHHHHHHHHTTTEEEETTEEEET</td>\n",
       "      <td>0.44</td>\n",
       "    </tr>\n",
       "    <tr>\n",
       "      <th>2</th>\n",
       "      <td>33</td>\n",
       "      <td>33</td>\n",
       "      <td>HEEH_rd1_0524.pdb</td>\n",
       "      <td>SDSKEEARRRAKKKNTKVTVNGVTVRAETEEAEKRAEEWLRRQ</td>\n",
       "      <td>THHHHHHHHHHHHHTTEEEETTEEEETTTHHHHHHHHHHHHHT</td>\n",
       "      <td>0.43</td>\n",
       "    </tr>\n",
       "    <tr>\n",
       "      <th>3</th>\n",
       "      <td>37</td>\n",
       "      <td>37</td>\n",
       "      <td>HEEH_rd1_0724.pdb</td>\n",
       "      <td>SEEERERAREKARRGEPIKVNGEEWEKPSTELAERLADKKANG</td>\n",
       "      <td>THHHHHHHHHHHHHTTEEEETTEEEETTTHHHHHHHHHHHHHT</td>\n",
       "      <td>0.45</td>\n",
       "    </tr>\n",
       "    <tr>\n",
       "      <th>4</th>\n",
       "      <td>41</td>\n",
       "      <td>41</td>\n",
       "      <td>EEHEE_rd1_0095.pdb</td>\n",
       "      <td>GSGESRFKGQRVETDNPKELAEREARKVNGPFTQTNGRVEVQV</td>\n",
       "      <td>TEEEETTEEEETTTHHHHHHHHHHHHHHHTTTEEEETTEEEET</td>\n",
       "      <td>0.21</td>\n",
       "    </tr>\n",
       "  </tbody>\n",
       "</table>\n",
       "</div>"
      ],
      "text/plain": [
       "   Unnamed: 0.1  Unnamed: 0                   name  \\\n",
       "0            28          28  EEHEE_rd1_0657.pdb_hp   \n",
       "1            30          30     EEHEE_rd1_0070.pdb   \n",
       "2            33          33      HEEH_rd1_0524.pdb   \n",
       "3            37          37      HEEH_rd1_0724.pdb   \n",
       "4            41          41     EEHEE_rd1_0095.pdb   \n",
       "\n",
       "                                      sequence  \\\n",
       "0  GSRSGNFGGKSKSPTDWTVKTTATKYAKADTTKDEYGKERLDT   \n",
       "1  GSADLTVGNKQFDGADDENQKRARETAGGTHVERDGNTVQVKK   \n",
       "2  SDSKEEARRRAKKKNTKVTVNGVTVRAETEEAEKRAEEWLRRQ   \n",
       "3  SEEERERAREKARRGEPIKVNGEEWEKPSTELAERLADKKANG   \n",
       "4  GSGESRFKGQRVETDNPKELAEREARKVNGPFTQTNGRVEVQV   \n",
       "\n",
       "                           secondary_structure  stabilityscore  \n",
       "0  TEEEETTEEEETTTHHHHHHHHHHHHHHHTTTEEEETTEEEET            0.43  \n",
       "1  TEEEETTEEEETTTHHHHHHHHHHHHHHHTTTEEEETTEEEET            0.44  \n",
       "2  THHHHHHHHHHHHHTTEEEETTEEEETTTHHHHHHHHHHHHHT            0.43  \n",
       "3  THHHHHHHHHHHHHTTEEEETTEEEETTTHHHHHHHHHHHHHT            0.45  \n",
       "4  TEEEETTEEEETTTHHHHHHHHHHHHHHHTTTEEEETTEEEET            0.21  "
      ]
     },
     "execution_count": 3,
     "metadata": {},
     "output_type": "execute_result"
    }
   ],
   "source": [
    "sequences_df = pd.read_csv(\"/homefs/home/lux70/storage/data/rocklin/rocklin_multi_mutant_stable.csv\")\n",
    "print(sequences_df.shape)\n",
    "sequences_df.head()"
   ]
  },
  {
   "cell_type": "code",
   "execution_count": 4,
   "id": "3c5436f3-d9f5-4477-ad52-a0261d00d2bf",
   "metadata": {},
   "outputs": [
    {
     "name": "stdout",
     "output_type": "stream",
     "text": [
      "16463\n"
     ]
    }
   ],
   "source": [
    "import os\n",
    "struct_files_dir = \"/homefs/home/lux70/storage/data/rocklin/structures/\"\n",
    "structure_files = os.listdir(struct_files_dir)\n",
    "print(len(structure_files))"
   ]
  },
  {
   "cell_type": "code",
   "execution_count": 5,
   "id": "fd242c4a-0a48-4a87-a6b6-6067f6e57991",
   "metadata": {},
   "outputs": [
    {
     "name": "stdout",
     "output_type": "stream",
     "text": [
      "9880\n",
      "6989\n"
     ]
    }
   ],
   "source": [
    "print(len(sequences_df.name.unique()))\n",
    "print(len(sequences_df.name.map(lambda x: x.split(\".\")[0]).unique()))"
   ]
  },
  {
   "cell_type": "code",
   "execution_count": 6,
   "id": "7c172377-30fd-47dd-9e5f-81ee7ac20aa4",
   "metadata": {},
   "outputs": [
    {
     "data": {
      "text/plain": [
       "4731"
      ]
     },
     "execution_count": 6,
     "metadata": {},
     "output_type": "execute_result"
    }
   ],
   "source": [
    "len(set(sequences_df.name).intersection(set(structure_files)))"
   ]
  },
  {
   "cell_type": "code",
   "execution_count": 7,
   "id": "21dcee9a-6fe9-4ef7-a3a4-e80d8af66e8e",
   "metadata": {},
   "outputs": [
    {
     "name": "stdout",
     "output_type": "stream",
     "text": [
      "['EEHEE_rd3_0703.pdb', 'HHH_rd2_0070.pdb', 'EEHEE_rd3_0660.pdb', 'HHH_rd1_0753.pdb', 'EHEE_rd2_0969.pdb', 'HHH_rd3_0147.pdb', 'HHH_rd3_0180.pdb', 'EEHEE_rd2_0709.pdb', 'HHH_rd1_0090.pdb', 'HEEH_rd3_1466.pdb']\n"
     ]
    }
   ],
   "source": [
    "files_to_examine = list(set(sequences_df.name).intersection(set(structure_files)))\n",
    "print(files_to_examine[:10])"
   ]
  },
  {
   "cell_type": "code",
   "execution_count": 13,
   "id": "6b0febad-1211-490a-9076-e0619b4e472c",
   "metadata": {},
   "outputs": [
    {
     "ename": "ModuleNotFoundError",
     "evalue": "No module named 'plaid'",
     "output_type": "error",
     "traceback": [
      "\u001b[0;31m---------------------------------------------------------------------------\u001b[0m",
      "\u001b[0;31mModuleNotFoundError\u001b[0m                       Traceback (most recent call last)",
      "Cell \u001b[0;32mIn[13], line 1\u001b[0m\n\u001b[0;32m----> 1\u001b[0m \u001b[38;5;28;01mfrom\u001b[39;00m \u001b[38;5;21;01mplaid\u001b[39;00m\u001b[38;5;21;01m.\u001b[39;00m\u001b[38;5;21;01mutils\u001b[39;00m \u001b[38;5;28;01mimport\u001b[39;00m view_py3Dmol\n\u001b[1;32m      3\u001b[0m \u001b[38;5;28;01mfor\u001b[39;00m i \u001b[38;5;129;01min\u001b[39;00m \u001b[38;5;28mrange\u001b[39m(\u001b[38;5;241m4\u001b[39m):\n\u001b[1;32m      4\u001b[0m     fpath \u001b[38;5;241m=\u001b[39m struct_files_dir \u001b[38;5;241m+\u001b[39m files_to_examine[i]\n",
      "\u001b[0;31mModuleNotFoundError\u001b[0m: No module named 'plaid'"
     ]
    }
   ],
   "source": [
    "from plaid.utils import view_py3Dmol\n",
    "\n",
    "for i in range(4):\n",
    "    fpath = struct_files_dir + files_to_examine[i]\n",
    "    with open(fpath, \"r\") as f:\n",
    "        pdbstr = f.read()\n",
    "    view_py3Dmol(pdbstr)"
   ]
  },
  {
   "cell_type": "code",
   "execution_count": 32,
   "id": "9bc83504-1532-4d1e-9f79-fe64d3938a54",
   "metadata": {},
   "outputs": [
    {
     "name": "stdout",
     "output_type": "stream",
     "text": [
      "1976\n",
      "932\n"
     ]
    }
   ],
   "source": [
    "predicted_pdb_strs_dir = \"/homefs/home/lux70/storage/data/rocklin/esmfold_predicted_structures/val/\" \n",
    "print(len(os.listdir(predicted_pdb_strs_dir)))\n",
    "print(len(set(os.listdir(predicted_pdb_strs_dir)).intersection(set(files_to_examine))))"
   ]
  },
  {
   "cell_type": "code",
   "execution_count": 33,
   "id": "9f60978a-4b02-4dbb-ad0d-2fbb57a62680",
   "metadata": {},
   "outputs": [
    {
     "ename": "FileNotFoundError",
     "evalue": "TMalign not found in PATH",
     "output_type": "error",
     "traceback": [
      "\u001b[0;31m---------------------------------------------------------------------------\u001b[0m",
      "\u001b[0;31mFileNotFoundError\u001b[0m                         Traceback (most recent call last)",
      "Cell \u001b[0;32mIn[33], line 6\u001b[0m\n\u001b[1;32m      4\u001b[0m scores \u001b[38;5;241m=\u001b[39m []\n\u001b[1;32m      5\u001b[0m \u001b[38;5;28;01mfor\u001b[39;00m filename \u001b[38;5;129;01min\u001b[39;00m files_to_examine:\n\u001b[0;32m----> 6\u001b[0m     scores\u001b[38;5;241m.\u001b[39mappend(run_tmalign(\u001b[38;5;124mf\u001b[39m\u001b[38;5;124m\"\u001b[39m\u001b[38;5;132;01m{\u001b[39;00mstruct_files_dir\u001b[38;5;132;01m}\u001b[39;00m\u001b[38;5;132;01m{\u001b[39;00mfilename\u001b[38;5;132;01m}\u001b[39;00m\u001b[38;5;124m\"\u001b[39m, \u001b[38;5;124mf\u001b[39m\u001b[38;5;124m\"\u001b[39m\u001b[38;5;132;01m{\u001b[39;00mpredicted_pdb_strs_dir\u001b[38;5;132;01m}\u001b[39;00m\u001b[38;5;132;01m{\u001b[39;00mfilename\u001b[38;5;132;01m}\u001b[39;00m\u001b[38;5;124m\"\u001b[39m))\n",
      "File \u001b[0;32m~/code/plaid/plaid/utils/_tmalign.py:50\u001b[0m, in \u001b[0;36mrun_tmalign\u001b[0;34m(query, reference, fast, delete_tmp, verbose)\u001b[0m\n\u001b[1;32m     48\u001b[0m exec \u001b[38;5;241m=\u001b[39m shutil\u001b[38;5;241m.\u001b[39mwhich(\u001b[38;5;124m\"\u001b[39m\u001b[38;5;124mTMalign\u001b[39m\u001b[38;5;124m\"\u001b[39m)\n\u001b[1;32m     49\u001b[0m \u001b[38;5;28;01mif\u001b[39;00m \u001b[38;5;129;01mnot\u001b[39;00m exec:\n\u001b[0;32m---> 50\u001b[0m     \u001b[38;5;28;01mraise\u001b[39;00m \u001b[38;5;167;01mFileNotFoundError\u001b[39;00m(\u001b[38;5;124m\"\u001b[39m\u001b[38;5;124mTMalign not found in PATH\u001b[39m\u001b[38;5;124m\"\u001b[39m)\n\u001b[1;32m     52\u001b[0m \u001b[38;5;66;03m# Build the command\u001b[39;00m\n\u001b[1;32m     53\u001b[0m cmd \u001b[38;5;241m=\u001b[39m \u001b[38;5;124mf\u001b[39m\u001b[38;5;124m\"\u001b[39m\u001b[38;5;132;01m{\u001b[39;00mexec\u001b[38;5;132;01m}\u001b[39;00m\u001b[38;5;124m \u001b[39m\u001b[38;5;132;01m{\u001b[39;00mquery\u001b[38;5;132;01m}\u001b[39;00m\u001b[38;5;124m \u001b[39m\u001b[38;5;132;01m{\u001b[39;00mreference\u001b[38;5;132;01m}\u001b[39;00m\u001b[38;5;124m\"\u001b[39m\n",
      "\u001b[0;31mFileNotFoundError\u001b[0m: TMalign not found in PATH"
     ]
    }
   ],
   "source": [
    "files_to_examine = list(set(os.listdir(predicted_pdb_strs_dir)).intersection(set(files_to_examine)))\n",
    "from plaid.utils import run_tmalign\n",
    "\n",
    "scores = []\n",
    "for filename in files_to_examine:\n",
    "    scores.append(run_tmalign(f\"{struct_files_dir}{filename}\", f\"{predicted_pdb_strs_dir}{filename}\")) \n",
    "\n",
    "\n"
   ]
  },
  {
   "cell_type": "code",
   "execution_count": null,
   "id": "5d0164e5-a6a5-4e62-864b-f584d6eb8529",
   "metadata": {},
   "outputs": [],
   "source": []
  }
 ],
 "metadata": {
  "kernelspec": {
   "display_name": "Python 3 (ipykernel)",
   "language": "python",
   "name": "python3"
  },
  "language_info": {
   "codemirror_mode": {
    "name": "ipython",
    "version": 3
   },
   "file_extension": ".py",
   "mimetype": "text/x-python",
   "name": "python",
   "nbconvert_exporter": "python",
   "pygments_lexer": "ipython3",
   "version": "3.12.2"
  }
 },
 "nbformat": 4,
 "nbformat_minor": 5
}
