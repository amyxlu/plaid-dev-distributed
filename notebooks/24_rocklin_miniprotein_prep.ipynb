version https://git-lfs.github.com/spec/v1
oid sha256:7868acc8c733ac870db4bf50dacc91625c713dee30ec653c57cc23e1ad0aff80
size 683549
