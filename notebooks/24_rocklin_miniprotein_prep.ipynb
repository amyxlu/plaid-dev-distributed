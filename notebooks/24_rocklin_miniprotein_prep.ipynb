{
 "cells": [
  {
   "cell_type": "code",
   "execution_count": 1,
   "id": "5c40c5e8-75fd-4ece-be63-b036e2ad61da",
   "metadata": {},
   "outputs": [],
   "source": [
    "%load_ext autoreload\n",
    "%autoreload 2"
   ]
  },
  {
   "cell_type": "code",
   "execution_count": 2,
   "id": "531cbbe8-3c94-44b0-974d-c3f642b6d6cf",
   "metadata": {},
   "outputs": [],
   "source": [
    "import pandas as pd\n",
    "import matplotlib.pyplot as plt"
   ]
  },
  {
   "cell_type": "markdown",
   "id": "b5cc1491-d285-48a5-b81c-9f30bf02caaf",
   "metadata": {},
   "source": [
    "# Quick processing: rocklin to FASTA\n",
    "data from: https://github.com/duerrsimon/mars-biohackathon\n",
    "* [Multi-mutant](https://github.com/duerrsimon/mars-biohackathon/blob/main/data/multiple_muts_train.csv)\n",
    "* [Single-mutant](https://github.com/duerrsimon/mars-biohackathon/blob/main/data/single_muts_train.csv)"
   ]
  },
  {
   "cell_type": "code",
   "execution_count": 4,
   "id": "1a46e216-f86a-4de4-bebd-acb3c1c98ae0",
   "metadata": {},
   "outputs": [],
   "source": [
    "df = pd.read_csv(\"../rocklin_single_mutant.csv\")"
   ]
  },
  {
   "cell_type": "code",
   "execution_count": 11,
   "id": "a6e350a3-cd5f-4267-9bc5-75d8d14e7f85",
   "metadata": {},
   "outputs": [
    {
     "data": {
      "text/plain": [
       "(8521, 5)"
      ]
     },
     "execution_count": 11,
     "metadata": {},
     "output_type": "execute_result"
    }
   ],
   "source": [
    "df[df.stabilityscore > 0.].shape"
   ]
  },
  {
   "cell_type": "code",
   "execution_count": 7,
   "id": "129cbb3d-ea22-4d3a-8bb9-558466f631b7",
   "metadata": {},
   "outputs": [],
   "source": [
    "df2 = pd.read_csv(\"../rocklin_multi_mutant.csv\")"
   ]
  },
  {
   "cell_type": "code",
   "execution_count": 8,
   "id": "8413fe46-907b-499e-bcae-c3dc2e76b3f9",
   "metadata": {},
   "outputs": [
    {
     "data": {
      "text/html": [
       "<div>\n",
       "<style scoped>\n",
       "    .dataframe tbody tr th:only-of-type {\n",
       "        vertical-align: middle;\n",
       "    }\n",
       "\n",
       "    .dataframe tbody tr th {\n",
       "        vertical-align: top;\n",
       "    }\n",
       "\n",
       "    .dataframe thead th {\n",
       "        text-align: right;\n",
       "    }\n",
       "</style>\n",
       "<table border=\"1\" class=\"dataframe\">\n",
       "  <thead>\n",
       "    <tr style=\"text-align: right;\">\n",
       "      <th></th>\n",
       "      <th>Unnamed: 0</th>\n",
       "      <th>name</th>\n",
       "      <th>sequence</th>\n",
       "      <th>secondary_structure</th>\n",
       "      <th>stabilityscore</th>\n",
       "    </tr>\n",
       "  </thead>\n",
       "  <tbody>\n",
       "    <tr>\n",
       "      <th>0</th>\n",
       "      <td>0</td>\n",
       "      <td>EHEE_rd1_0392.pdb</td>\n",
       "      <td>GSSTETYEVHTTDEAERVRKELEKKGYKVEVRSDGTEYEIRSE</td>\n",
       "      <td>TTTTEEEEETTHHHHHHHHHHHHHHTTTEEEEEETTEEEEEET</td>\n",
       "      <td>-0.32</td>\n",
       "    </tr>\n",
       "    <tr>\n",
       "      <th>1</th>\n",
       "      <td>1</td>\n",
       "      <td>EHEE_rd1_0925.pdb_random</td>\n",
       "      <td>GSSEKEDVHRFEIATWERDKQLEERTGREGRTRDIANREDERE</td>\n",
       "      <td>TTTTEEEEETTHHHHHHHHHHHHHHTTTEEEEEETTEEEEEET</td>\n",
       "      <td>-0.50</td>\n",
       "    </tr>\n",
       "    <tr>\n",
       "      <th>2</th>\n",
       "      <td>2</td>\n",
       "      <td>HEEH_rd1_0699.pdb_hp</td>\n",
       "      <td>EARKSDGPSGVKRAKKNEDKETDRKTALYNKIQRVAKEITENE</td>\n",
       "      <td>THHHHHHHHHHHHHTTEEEETTEEEETTTHHHHHHHHHHHHHT</td>\n",
       "      <td>-0.33</td>\n",
       "    </tr>\n",
       "    <tr>\n",
       "      <th>3</th>\n",
       "      <td>3</td>\n",
       "      <td>EEHEE_rd1_0108.pdb_hp</td>\n",
       "      <td>GSAQFKNGNEESEVPYKGRRVKQEPKKDANEWERQGTEGRSDG</td>\n",
       "      <td>TEEEETTEEEETTTHHHHHHHHHHHHHHHTTTEEEETTEEEET</td>\n",
       "      <td>-0.18</td>\n",
       "    </tr>\n",
       "    <tr>\n",
       "      <th>4</th>\n",
       "      <td>4</td>\n",
       "      <td>EEHEE_rd1_0483.pdb</td>\n",
       "      <td>GSGTVELNGNRYTSNSEEDIREWIRRQGATTSETSNGKYQVHR</td>\n",
       "      <td>TEEEETTEEEETTTHHHHHHHHHHHHHHHTTTEEEETTEEEET</td>\n",
       "      <td>-0.12</td>\n",
       "    </tr>\n",
       "  </tbody>\n",
       "</table>\n",
       "</div>"
      ],
      "text/plain": [
       "   Unnamed: 0                      name  \\\n",
       "0           0         EHEE_rd1_0392.pdb   \n",
       "1           1  EHEE_rd1_0925.pdb_random   \n",
       "2           2      HEEH_rd1_0699.pdb_hp   \n",
       "3           3     EEHEE_rd1_0108.pdb_hp   \n",
       "4           4        EEHEE_rd1_0483.pdb   \n",
       "\n",
       "                                      sequence  \\\n",
       "0  GSSTETYEVHTTDEAERVRKELEKKGYKVEVRSDGTEYEIRSE   \n",
       "1  GSSEKEDVHRFEIATWERDKQLEERTGREGRTRDIANREDERE   \n",
       "2  EARKSDGPSGVKRAKKNEDKETDRKTALYNKIQRVAKEITENE   \n",
       "3  GSAQFKNGNEESEVPYKGRRVKQEPKKDANEWERQGTEGRSDG   \n",
       "4  GSGTVELNGNRYTSNSEEDIREWIRRQGATTSETSNGKYQVHR   \n",
       "\n",
       "                           secondary_structure  stabilityscore  \n",
       "0  TTTTEEEEETTHHHHHHHHHHHHHHTTTEEEEEETTEEEEEET           -0.32  \n",
       "1  TTTTEEEEETTHHHHHHHHHHHHHHTTTEEEEEETTEEEEEET           -0.50  \n",
       "2  THHHHHHHHHHHHHTTEEEETTEEEETTTHHHHHHHHHHHHHT           -0.33  \n",
       "3  TEEEETTEEEETTTHHHHHHHHHHHHHHHTTTEEEETTEEEET           -0.18  \n",
       "4  TEEEETTEEEETTTHHHHHHHHHHHHHHHTTTEEEETTEEEET           -0.12  "
      ]
     },
     "execution_count": 8,
     "metadata": {},
     "output_type": "execute_result"
    }
   ],
   "source": [
    "df2.head()"
   ]
  },
  {
   "cell_type": "code",
   "execution_count": 17,
   "id": "101d573e-4224-4dd1-9d82-35a2f2fc460e",
   "metadata": {},
   "outputs": [
    {
     "name": "stdout",
     "output_type": "stream",
     "text": [
      "(29187, 5)\n",
      "(9903, 5)\n"
     ]
    }
   ],
   "source": [
    "print(df2.shape)\n",
    "print(df2[df2.stabilityscore > 0.1].shape)"
   ]
  },
  {
   "cell_type": "code",
   "execution_count": 37,
   "id": "7dea6d07-791f-46b3-94e8-45195f59003f",
   "metadata": {},
   "outputs": [
    {
     "name": "stdout",
     "output_type": "stream",
     "text": [
      "(9903, 5)\n",
      "(9880, 5)\n"
     ]
    }
   ],
   "source": [
    "df3 = df2[df2.stabilityscore > 0.1] \n",
    "print(df3.shape)\n",
    "df3 = df3.drop_duplicates(subset=\"sequence\", keep=\"first\")\n",
    "print(df3.shape)"
   ]
  },
  {
   "cell_type": "code",
   "execution_count": 38,
   "id": "45a265e9-2128-4389-845d-1e8265370ec5",
   "metadata": {},
   "outputs": [],
   "source": [
    "# df3.to_csv(\"../rocklin_multi_mutant_stable.csv\")"
   ]
  },
  {
   "cell_type": "code",
   "execution_count": 41,
   "id": "908450ad-80aa-48c6-9326-8f2382bbd95b",
   "metadata": {},
   "outputs": [
    {
     "data": {
      "text/plain": [
       "43"
      ]
     },
     "execution_count": 41,
     "metadata": {},
     "output_type": "execute_result"
    }
   ],
   "source": [
    "df3.sequence.str.len().max()"
   ]
  },
  {
   "cell_type": "code",
   "execution_count": 42,
   "id": "1bfbd4af-853f-4a8d-b697-07b14fa97962",
   "metadata": {},
   "outputs": [
    {
     "data": {
      "text/plain": [
       "28       GSRSGNFGGKSKSPTDWTVKTTATKYAKADTTKDEYGKERLDT\n",
       "30       GSADLTVGNKQFDGADDENQKRARETAGGTHVERDGNTVQVKK\n",
       "33       SDSKEEARRRAKKKNTKVTVNGVTVRAETEEAEKRAEEWLRRQ\n",
       "37       SEEERERAREKARRGEPIKVNGEEWEKPSTELAERLADKKANG\n",
       "41       GSGESRFKGQRVETDNPKELAEREARKVNGPFTQTNGRVEVQV\n",
       "                            ...                     \n",
       "29176    GTDESTNYTYTAPSTDAARKFAQELAKQLGLKVTEKNGTFKVT\n",
       "29178    TWEAAQRVLQALKDNKPITINGVTFTPGNPEVKKWDKKVANAK\n",
       "29181    GSHTLKVGNKEYTFPSWKEAEKFAKKVGAKKVTVKNGTVEVHQ\n",
       "29184    PAAQKAADELKKGATNVTVTLNGKKITLTATSPEEAEKAVKKF\n",
       "29186    TKVHVNGKTYTFPSPDLAKKFAEKVAKKYNLTVHVDGNTVKVK\n",
       "Name: sequence, Length: 9880, dtype: object"
      ]
     },
     "execution_count": 42,
     "metadata": {},
     "output_type": "execute_result"
    }
   ],
   "source": [
    "df3.sequence"
   ]
  },
  {
   "cell_type": "code",
   "execution_count": 43,
   "id": "e5192764-8e40-4ae5-b220-2157aa773186",
   "metadata": {},
   "outputs": [],
   "source": [
    "from plaid.utils import write_to_fasta"
   ]
  },
  {
   "cell_type": "code",
   "execution_count": 45,
   "id": "60797207-ab04-4e49-a130-c4f3c7663a60",
   "metadata": {},
   "outputs": [
    {
     "name": "stdout",
     "output_type": "stream",
     "text": [
      "Wrote 9880 sequences to rocklin_stable.fasta.\n"
     ]
    }
   ],
   "source": [
    "# write_to_fasta(df3.sequence.values, \"rocklin_stable.fasta\", df3.name.values)"
   ]
  },
  {
   "cell_type": "code",
   "execution_count": null,
   "id": "6299a314-d8b1-4e4c-b55d-92f63cc6a0da",
   "metadata": {},
   "outputs": [],
   "source": []
  }
 ],
 "metadata": {
  "kernelspec": {
   "display_name": "Python 3 (ipykernel)",
   "language": "python",
   "name": "python3"
  },
  "language_info": {
   "codemirror_mode": {
    "name": "ipython",
    "version": 3
   },
   "file_extension": ".py",
   "mimetype": "text/x-python",
   "name": "python",
   "nbconvert_exporter": "python",
   "pygments_lexer": "ipython3",
   "version": "3.12.1"
  }
 },
 "nbformat": 4,
 "nbformat_minor": 5
}
