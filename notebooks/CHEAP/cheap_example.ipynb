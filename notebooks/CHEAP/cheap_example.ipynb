version https://git-lfs.github.com/spec/v1
oid sha256:66b49eb3567e39f0abde516a45d0efad606241461be11ecf13bd2d627c0cb2c6
size 13121
