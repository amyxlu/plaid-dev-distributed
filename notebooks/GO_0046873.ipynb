version https://git-lfs.github.com/spec/v1
oid sha256:2a9a7d26deb9fec37a8854b823925b5c6f60def3e34ad7af44343d4853e77bba
size 3677695
