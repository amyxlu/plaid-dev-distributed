{
 "cells": [
  {
   "cell_type": "code",
   "execution_count": 1,
   "id": "d342cef6-103b-48c2-9cf7-d262f0cb4589",
   "metadata": {},
   "outputs": [],
   "source": [
    "%load_ext autoreload\n",
    "%autoreload 2"
   ]
  },
  {
   "cell_type": "code",
   "execution_count": 4,
   "id": "067134e6-6084-4d58-bdc5-a53426f46558",
   "metadata": {},
   "outputs": [],
   "source": [
    "import plaid\n",
    "from cheap.pretrained import CHEAP_pfam_shorten_2_dim_32"
   ]
  },
  {
   "cell_type": "code",
   "execution_count": 5,
   "id": "aa29a014-befe-4bf1-854c-59e3592fc12e",
   "metadata": {},
   "outputs": [
    {
     "name": "stdout",
     "output_type": "stream",
     "text": [
      "Using tanh layer at bottleneck...\n",
      "Finished loading HPCT model with shorten factor 2 and 32 channel dimensions.\n"
     ]
    }
   ],
   "source": [
    "cheap_model = CHEAP_pfam_shorten_2_dim_32()"
   ]
  },
  {
   "cell_type": "code",
   "execution_count": 6,
   "id": "b2826c58-ea3e-4bf7-bedd-e9466c78d096",
   "metadata": {},
   "outputs": [],
   "source": [
    "import torch\n",
    "device = torch.device(\"cuda\")"
   ]
  },
  {
   "cell_type": "code",
   "execution_count": 8,
   "id": "1c25cb6b-3e11-4f4d-8bf8-c6d2625b7e8a",
   "metadata": {},
   "outputs": [],
   "source": [
    "from plaid.diffusion import FunctionOrganismDiffusion\n",
    "from plaid.denoisers import FunctionOrganismDiT\n",
    "import torch\n",
    "\n",
    "device = torch.device(\"cuda\" if torch.cuda.is_available() else \"cpu\")\n",
    "N, L, C = 4, 128, 32 \n",
    "\n",
    "denoiser = FunctionOrganismDiT(input_dim=32).to(device)\n",
    "diffusion = FunctionOrganismDiffusion(model=denoiser)\n",
    "diffusion = diffusion.to(device)\n"
   ]
  },
  {
   "cell_type": "code",
   "execution_count": 9,
   "id": "d5074492-1b42-4bea-b489-fe67dd7e4170",
   "metadata": {},
   "outputs": [],
   "source": [
    "from plaid.datasets import FunctionOrganismDataModule\n",
    "import torch\n",
    "\n",
    "datamodule = FunctionOrganismDataModule(\n",
    "    train_shards=\"/data/lux70/data/pfam/compressed/j1v1wv6w/train/shard{000..160}.tar\",\n",
    "    val_shards=\"/data/lux70/data/pfam/compressed/j1v1wv6w/val/shard{000..022}.tar\",\n",
    "    config_file=\"/data/lux70/data/pfam/compressed/j1v1wv6w/config.json\",\n",
    "    go_metadata_fpath=\"/data/lux70/data/pfam/pfam2go.csv\",\n",
    "    organism_metadata_fpath=\"/data/lux70/data/pfam/organism_counts.csv\",\n",
    "    cache_dir=\"/homefs/home/lux70/cache/plaid_data_cache/j1v1wv6w\",\n",
    "    train_epoch_num_batches=100_000,\n",
    "    val_epoch_num_batches=1_000,\n",
    "    shuffle_buffer=10_000,\n",
    "    shuffle_initial=10_000,\n",
    "    num_workers=4,\n",
    ")\n",
    "datamodule.setup()"
   ]
  },
  {
   "cell_type": "code",
   "execution_count": 52,
   "id": "32502560-749c-4286-b322-1cc2c3e2dabe",
   "metadata": {},
   "outputs": [],
   "source": [
    "train_dataloader = datamodule.train_dataloader()\n",
    "train_dataset = datamodule.train_ds\n",
    "\n",
    "batch = next(iter(train_dataloader))"
   ]
  },
  {
   "cell_type": "code",
   "execution_count": 53,
   "id": "462b3346-9bec-47b3-9c06-a1f92c64fb28",
   "metadata": {},
   "outputs": [],
   "source": [
    "embedding, mask, go_idx, organism_idx, pfam_id, sample_id, local_path = batch"
   ]
  },
  {
   "cell_type": "code",
   "execution_count": 55,
   "id": "e5e5b132-ee49-42c8-8749-8eb54b469ee6",
   "metadata": {},
   "outputs": [
    {
     "data": {
      "text/plain": [
       "tensor([201, 195, 197, 168, 174, 132,  29, 120, 231, 230, 149, 105,  85, 120,\n",
       "        182, 144, 143, 229, 231, 237, 143,  92,  24, 230, 232, 238, 183, 100,\n",
       "         84, 177,  71,  94,  85, 167,  40,  90,  27,  85,  89, 229, 154,  82,\n",
       "         71,  26,  91,  98,  84, 243, 185, 222, 232,  77,  19,  82, 197,  20,\n",
       "        125, 230,  83, 213,  32, 168,  20,  16])"
      ]
     },
     "execution_count": 55,
     "metadata": {},
     "output_type": "execute_result"
    }
   ],
   "source": [
    "mask.sum(dim=1)"
   ]
  },
  {
   "cell_type": "code",
   "execution_count": 56,
   "id": "58ae59e2-5b44-4775-a2a3-ba591260a9a2",
   "metadata": {},
   "outputs": [],
   "source": [
    "T = 200\n",
    "t = torch.arange(T).long()\n",
    "t = t.to(device)"
   ]
  },
  {
   "cell_type": "code",
   "execution_count": 59,
   "id": "110ff7a2-0787-408e-972a-0f659cafba48",
   "metadata": {},
   "outputs": [],
   "source": [
    "import einops\n",
    "emb = einops.repeat(embedding[0], \"l c -> b l c\", b=T)\n",
    "mask = einops.repeat(mask[0], \"l -> b l\", b=T)\n",
    "mask = mask.to(device)\n",
    "emb = emb.to(device)\n",
    "\n",
    "noise = torch.randn_like(emb)\n",
    "noise = noise.to(device)"
   ]
  },
  {
   "cell_type": "code",
   "execution_count": 60,
   "id": "e9d5501b-1d94-4284-8441-54255830d47e",
   "metadata": {},
   "outputs": [],
   "source": [
    "noised = diffusion.q_sample(emb,t,noise)"
   ]
  },
  {
   "cell_type": "code",
   "execution_count": 63,
   "id": "58f87cab-af76-4bdf-8094-8a3e90da7021",
   "metadata": {},
   "outputs": [],
   "source": [
    "cheap_model = cheap_model.to(device)\n",
    "noised_uncompress = cheap_model.decode(noised, mask) "
   ]
  },
  {
   "cell_type": "code",
   "execution_count": 65,
   "id": "32570afb-bacc-4902-a123-f26cbb6c7768",
   "metadata": {},
   "outputs": [
    {
     "data": {
      "text/plain": [
       "torch.Size([200, 1024, 1024])"
      ]
     },
     "execution_count": 65,
     "metadata": {},
     "output_type": "execute_result"
    }
   ],
   "source": [
    "noised_uncompress.shape"
   ]
  },
  {
   "cell_type": "code",
   "execution_count": null,
   "id": "cc1c6553-c28b-406d-9557-5426d0746029",
   "metadata": {},
   "outputs": [],
   "source": []
  }
 ],
 "metadata": {
  "kernelspec": {
   "display_name": "Python (plaid)",
   "language": "python",
   "name": "plaid"
  },
  "language_info": {
   "codemirror_mode": {
    "name": "ipython",
    "version": 3
   },
   "file_extension": ".py",
   "mimetype": "text/x-python",
   "name": "python",
   "nbconvert_exporter": "python",
   "pygments_lexer": "ipython3",
   "version": "3.10.0"
  }
 },
 "nbformat": 4,
 "nbformat_minor": 5
}
