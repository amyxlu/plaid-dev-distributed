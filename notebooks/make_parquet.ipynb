{
 "cells": [
  {
   "cell_type": "code",
   "execution_count": 1,
   "id": "c693f2ae-8703-4390-9a22-65ddd1fac4e7",
   "metadata": {},
   "outputs": [],
   "source": [
    "%load_ext autoreload\n",
    "%autoreload 2"
   ]
  },
  {
   "cell_type": "code",
   "execution_count": 3,
   "id": "2856649b-26ae-4779-8620-0ab10203a181",
   "metadata": {},
   "outputs": [],
   "source": [
    "# from plaid.datasets import FastaDataset\n",
    "\n",
    "# val_fasta = '/data/lux70/data/pfam/val.fasta'\n",
    "# ds = FastaDataset(val_fasta)"
   ]
  },
  {
   "cell_type": "code",
   "execution_count": 37,
   "id": "61cc1c9a-0e39-4f00-995b-f0e6fa4b5167",
   "metadata": {},
   "outputs": [],
   "source": [
    "import torch\n",
    "\n",
    "batch_size = 4096\n",
    "dataloader = torch.utils.data.DataLoader(ds, batch_size=batch_size, shuffle=False)\n",
    "batch = next(iter(dataloader))"
   ]
  },
  {
   "cell_type": "code",
   "execution_count": 12,
   "id": "b2f190bd-63bd-4bbb-8cb7-870198a53e45",
   "metadata": {},
   "outputs": [],
   "source": [
    "from plaid.datasets import MetadataParser\n",
    "\n",
    "parser = MetadataParser()"
   ]
  },
  {
   "cell_type": "code",
   "execution_count": 38,
   "id": "65483db1-b2cf-44fb-92e5-b82eae0853b1",
   "metadata": {},
   "outputs": [
    {
     "data": {
      "application/vnd.jupyter.widget-view+json": {
       "model_id": "65d757508e3a45b08e43f16143259c7b",
       "version_major": 2,
       "version_minor": 0
      },
      "text/plain": [
       "  0%|          | 0/2099 [00:00<?, ?it/s]"
      ]
     },
     "metadata": {},
     "output_type": "display_data"
    }
   ],
   "source": [
    "all_pfam_ids = []\n",
    "all_organisms = []\n",
    "all_sequences = []\n",
    "\n",
    "from tqdm.notebook import tqdm\n",
    "import math\n",
    "\n",
    "for i, batch in tqdm(enumerate(dataloader), total=math.ceil(len(ds) / batch_size)):\n",
    "    pfam_ids = [parser.header_to_pfam_id(h) for h in headers]\n",
    "    organisms = [parser.header_to_organism(h) for h in headers]\n",
    "    \n",
    "    all_pfam_ids.extend(pfam_ids)\n",
    "    all_organisms.extend(organisms)\n",
    "    all_sequences.extend(list(sequences))"
   ]
  },
  {
   "cell_type": "code",
   "execution_count": 39,
   "id": "14466f81-99f4-4ae5-82e2-8af0f57ae013",
   "metadata": {},
   "outputs": [
    {
     "name": "stdout",
     "output_type": "stream",
     "text": [
      "8597504\n",
      "8597504\n",
      "8597504\n"
     ]
    }
   ],
   "source": [
    "print(len(all_pfam_ids))\n",
    "print(len(all_organisms))\n",
    "print(len(all_sequences))"
   ]
  },
  {
   "cell_type": "code",
   "execution_count": 43,
   "id": "b1096884-0e6c-4208-961d-18f6510e8b30",
   "metadata": {},
   "outputs": [],
   "source": [
    "import pandas as pd\n",
    "\n",
    "df = pd.DataFrame({\n",
    "    \"pfam_id\": all_pfam_ids,\n",
    "    \"organism\": all_organisms,\n",
    "    \"sequence\": all_sequences\n",
    "})"
   ]
  },
  {
   "cell_type": "code",
   "execution_count": 44,
   "id": "049bbb76-45d9-48f3-8d90-b344426a829c",
   "metadata": {},
   "outputs": [],
   "source": [
    "# outpath = \"/data/lux70/data/pfam/val.parquet\"\n",
    "# df.to_parquet(outpath)"
   ]
  },
  {
   "cell_type": "code",
   "execution_count": 45,
   "id": "666f2f86-e1ae-40df-bf97-403b22e8863e",
   "metadata": {},
   "outputs": [],
   "source": [
    "newdf = pd.read_parquet(outpath)"
   ]
  },
  {
   "cell_type": "code",
   "execution_count": 46,
   "id": "49de5bd8-8bff-4da4-ab98-04c82b910c7d",
   "metadata": {},
   "outputs": [
    {
     "data": {
      "text/html": [
       "<div>\n",
       "<style scoped>\n",
       "    .dataframe tbody tr th:only-of-type {\n",
       "        vertical-align: middle;\n",
       "    }\n",
       "\n",
       "    .dataframe tbody tr th {\n",
       "        vertical-align: top;\n",
       "    }\n",
       "\n",
       "    .dataframe thead th {\n",
       "        text-align: right;\n",
       "    }\n",
       "</style>\n",
       "<table border=\"1\" class=\"dataframe\">\n",
       "  <thead>\n",
       "    <tr style=\"text-align: right;\">\n",
       "      <th></th>\n",
       "      <th>pfam_id</th>\n",
       "      <th>organism</th>\n",
       "      <th>sequence</th>\n",
       "    </tr>\n",
       "  </thead>\n",
       "  <tbody>\n",
       "    <tr>\n",
       "      <th>0</th>\n",
       "      <td>PF08450</td>\n",
       "      <td>9PROT</td>\n",
       "      <td>WLEGPAWSSEGRFLVLSDVIQSKALRYIWETGEITQFRPEGYAANG...</td>\n",
       "    </tr>\n",
       "    <tr>\n",
       "      <th>1</th>\n",
       "      <td>PF08450</td>\n",
       "      <td>9GAMM</td>\n",
       "      <td>GTEGPIAAPDGSFLFTETRANRITKIAPDNTISTFLENSNGSNGLA...</td>\n",
       "    </tr>\n",
       "    <tr>\n",
       "      <th>2</th>\n",
       "      <td>PF08450</td>\n",
       "      <td>9BURK</td>\n",
       "      <td>WSEGPVWFGDGRCLLWSDIPNNRILRWDEESGQVGVFRKPSDNANG...</td>\n",
       "    </tr>\n",
       "    <tr>\n",
       "      <th>3</th>\n",
       "      <td>PF08450</td>\n",
       "      <td>9GAMM</td>\n",
       "      <td>VAPAPNGLVWYTAQKAGALGILDPSNGDVRHIKLGQGSAPHGVIQG...</td>\n",
       "    </tr>\n",
       "    <tr>\n",
       "      <th>4</th>\n",
       "      <td>PF08450</td>\n",
       "      <td>9ACTN</td>\n",
       "      <td>YPEGVAWDPTRRAFLVGSALKGTLSVIRLDGTVKELAPSIGMVSTL...</td>\n",
       "    </tr>\n",
       "  </tbody>\n",
       "</table>\n",
       "</div>"
      ],
      "text/plain": [
       "   pfam_id organism                                           sequence\n",
       "0  PF08450    9PROT  WLEGPAWSSEGRFLVLSDVIQSKALRYIWETGEITQFRPEGYAANG...\n",
       "1  PF08450    9GAMM  GTEGPIAAPDGSFLFTETRANRITKIAPDNTISTFLENSNGSNGLA...\n",
       "2  PF08450    9BURK  WSEGPVWFGDGRCLLWSDIPNNRILRWDEESGQVGVFRKPSDNANG...\n",
       "3  PF08450    9GAMM  VAPAPNGLVWYTAQKAGALGILDPSNGDVRHIKLGQGSAPHGVIQG...\n",
       "4  PF08450    9ACTN  YPEGVAWDPTRRAFLVGSALKGTLSVIRLDGTVKELAPSIGMVSTL..."
      ]
     },
     "execution_count": 46,
     "metadata": {},
     "output_type": "execute_result"
    }
   ],
   "source": [
    "newdf.head()"
   ]
  },
  {
   "cell_type": "code",
   "execution_count": null,
   "id": "88e44752-9bcb-4b0f-b7f9-03f25a4b5cd8",
   "metadata": {},
   "outputs": [],
   "source": []
  }
 ],
 "metadata": {
  "kernelspec": {
   "display_name": "Python (flash_attn)",
   "language": "python",
   "name": "flash_attn"
  },
  "language_info": {
   "codemirror_mode": {
    "name": "ipython",
    "version": 3
   },
   "file_extension": ".py",
   "mimetype": "text/x-python",
   "name": "python",
   "nbconvert_exporter": "python",
   "pygments_lexer": "ipython3",
   "version": "3.11.9"
  }
 },
 "nbformat": 4,
 "nbformat_minor": 5
}
