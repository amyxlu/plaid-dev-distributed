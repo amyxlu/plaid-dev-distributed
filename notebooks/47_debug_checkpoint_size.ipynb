{
 "cells": [
  {
   "cell_type": "code",
   "execution_count": 1,
   "id": "e296ea8b-4883-4dab-aa91-4560ae1bd4b2",
   "metadata": {},
   "outputs": [],
   "source": [
    "%load_ext autoreload\n",
    "%autoreload 2"
   ]
  },
  {
   "cell_type": "code",
   "execution_count": 3,
   "id": "a35958f5-06e1-4ee9-849b-f5fc4e533754",
   "metadata": {},
   "outputs": [
    {
     "name": "stdout",
     "output_type": "stream",
     "text": [
      "724-145000.ckpt  config.yaml  last.ckpt\n"
     ]
    }
   ],
   "source": [
    "!ls /data/lux70/plaid/checkpoints/diffusion/qs2zpmjq/ "
   ]
  },
  {
   "cell_type": "code",
   "execution_count": 4,
   "id": "0cd3a42a-8359-4563-a77c-714fdaedba2c",
   "metadata": {},
   "outputs": [],
   "source": [
    "ckpt_path = \"/data/lux70/plaid/checkpoints/diffusion/qs2zpmjq/724-145000.ckpt\"\n",
    "\n",
    "import torch\n",
    "ckpt_dict = torch.load(ckpt_path)"
   ]
  },
  {
   "cell_type": "code",
   "execution_count": 8,
   "id": "1e72f6de-363c-41da-9a27-3d9f8a504205",
   "metadata": {},
   "outputs": [
    {
     "data": {
      "text/plain": [
       "odict_keys(['model.pos_embed', 'model.x_proj.proj.weight', 'model.x_proj.proj.bias', 'model.t_embedder.mlp.0.weight', 'model.t_embedder.mlp.0.bias', 'model.t_embedder.mlp.2.weight', 'model.t_embedder.mlp.2.bias', 'model.blocks.0.attn.to_qkv.weight', 'model.blocks.0.attn.to_out.weight', 'model.blocks.0.attn.to_out.bias', 'model.blocks.0.mlp.fc1.weight', 'model.blocks.0.mlp.fc1.bias', 'model.blocks.0.mlp.fc2.weight', 'model.blocks.0.mlp.fc2.bias', 'model.blocks.0.adaLN_modulation.1.weight', 'model.blocks.0.adaLN_modulation.1.bias', 'model.blocks.1.attn.to_qkv.weight', 'model.blocks.1.attn.to_out.weight', 'model.blocks.1.attn.to_out.bias', 'model.blocks.1.mlp.fc1.weight', 'model.blocks.1.mlp.fc1.bias', 'model.blocks.1.mlp.fc2.weight', 'model.blocks.1.mlp.fc2.bias', 'model.blocks.1.adaLN_modulation.1.weight', 'model.blocks.1.adaLN_modulation.1.bias', 'model.blocks.2.attn.to_qkv.weight', 'model.blocks.2.attn.to_out.weight', 'model.blocks.2.attn.to_out.bias', 'model.blocks.2.mlp.fc1.weight', 'model.blocks.2.mlp.fc1.bias', 'model.blocks.2.mlp.fc2.weight', 'model.blocks.2.mlp.fc2.bias', 'model.blocks.2.adaLN_modulation.1.weight', 'model.blocks.2.adaLN_modulation.1.bias', 'model.blocks.3.attn.to_qkv.weight', 'model.blocks.3.attn.to_out.weight', 'model.blocks.3.attn.to_out.bias', 'model.blocks.3.mlp.fc1.weight', 'model.blocks.3.mlp.fc1.bias', 'model.blocks.3.mlp.fc2.weight', 'model.blocks.3.mlp.fc2.bias', 'model.blocks.3.adaLN_modulation.1.weight', 'model.blocks.3.adaLN_modulation.1.bias', 'model.final_layer.linear.weight', 'model.final_layer.linear.bias', 'model.final_layer.adaLN_modulation.1.weight', 'model.final_layer.adaLN_modulation.1.bias'])"
      ]
     },
     "execution_count": 8,
     "metadata": {},
     "output_type": "execute_result"
    }
   ],
   "source": [
    "ckpt_dict['state_dict'].keys()"
   ]
  },
  {
   "cell_type": "code",
   "execution_count": 5,
   "id": "afe960ad-572e-454f-a879-cd9c835df22d",
   "metadata": {},
   "outputs": [
    {
     "data": {
      "text/plain": [
       "dict_keys(['epoch', 'global_step', 'pytorch-lightning_version', 'state_dict', 'loops', 'callbacks', 'optimizer_states', 'lr_schedulers', 'hparams_name', 'hyper_parameters'])"
      ]
     },
     "execution_count": 5,
     "metadata": {},
     "output_type": "execute_result"
    }
   ],
   "source": [
    "ckpt_dict.keys()"
   ]
  },
  {
   "cell_type": "code",
   "execution_count": 6,
   "id": "efe6c701-0c0c-4249-92db-128921192346",
   "metadata": {},
   "outputs": [
    {
     "data": {
      "text/plain": [
       "dict_keys(['EMA', \"ModelCheckpoint{'monitor': 'step', 'mode': 'max', 'every_n_train_steps': 5000, 'every_n_epochs': 0, 'train_time_interval': None}\"])"
      ]
     },
     "execution_count": 6,
     "metadata": {},
     "output_type": "execute_result"
    }
   ],
   "source": [
    "ckpt_dict['callbacks'].keys()"
   ]
  },
  {
   "cell_type": "code",
   "execution_count": 7,
   "id": "e8049d19-a5c7-4876-9923-53b22b62af83",
   "metadata": {},
   "outputs": [
    {
     "name": "stdout",
     "output_type": "stream",
     "text": [
      "kwargs\n"
     ]
    },
    {
     "data": {
      "text/plain": [
       "{'beta_scheduler': <plaid.diffusion.beta_schedulers.ADMCosineBetaScheduler at 0x7f3726e9c100>,\n",
       " 'x_downscale_factor': 1.0,\n",
       " 'timesteps': 1000,\n",
       " 'objective': 'pred_v',\n",
       " 'min_snr_loss_weight': True,\n",
       " 'min_snr_gamma': 5,\n",
       " 'x_clip_val': 1.0,\n",
       " 'shorten_factor': 2,\n",
       " 'unscaler': <plaid.utils._normalization.LatentScaler at 0x7f3726e9c190>,\n",
       " 'uncompressor': <plaid.compression.uncompress.UncompressContinuousLatent at 0x7f3726e9c340>,\n",
       " 'sequence_to_latent_fn': None,\n",
       " 'pfam_to_clan_fpath': None,\n",
       " 'sampling_timesteps': 100,\n",
       " 'sampling_seq_len': 64,\n",
       " 'lr': 0.0001,\n",
       " 'adam_betas': [0.9, 0.999],\n",
       " 'lr_sched_type': 'constant_with_warmup',\n",
       " 'lr_num_warmup_steps': 5000,\n",
       " 'lr_num_training_steps': 10000000,\n",
       " 'lr_num_cycles': 1,\n",
       " 'add_secondary_structure_conditioning': False,\n",
       " 'sequence_constructor': <cheap.proteins.LatentToSequence at 0x7f3726ed8e50>,\n",
       " 'structure_constructor': <cheap.proteins.LatentToStructure at 0x7f39083aa5f0>,\n",
       " 'sequence_decoder_weight': 0.0,\n",
       " 'structure_decoder_weight': 0.0}"
      ]
     },
     "execution_count": 7,
     "metadata": {},
     "output_type": "execute_result"
    }
   ],
   "source": [
    "print(ckpt_dict['hparams_name'])\n",
    "ckpt_dict['hyper_parameters']"
   ]
  },
  {
   "cell_type": "code",
   "execution_count": 2,
   "id": "b16d2922-ad8b-4413-b140-03a741f2344a",
   "metadata": {},
   "outputs": [],
   "source": [
    "import h5py\n",
    "path = \"/data/lux70/data/pfam/compressed/subset_30K_with_clan/hourglass_jzlv54wl/seqlen_512/train.h5\" \n",
    "h5_root_dir = \"/data/lux70/data/pfam/compressed/subset_30K_with_clan/\""
   ]
  },
  {
   "cell_type": "code",
   "execution_count": 3,
   "id": "3a92b098-16a6-42ce-8bd5-c19185dc55fa",
   "metadata": {},
   "outputs": [
    {
     "name": "stdout",
     "output_type": "stream",
     "text": [
      "<KeysViewHDF5 ['compressed_hid_dim', 'dataset_size', 'max_seq_len', 'shorten_factor']>\n",
      "<KeysViewHDF5 ['clan', 'len']>\n"
     ]
    }
   ],
   "source": [
    "with h5py.File(path, \"r\") as f:\n",
    "    print(f.attrs.keys())\n",
    "    print(f['0'].attrs.keys())\n",
    "    "
   ]
  },
  {
   "cell_type": "code",
   "execution_count": 4,
   "id": "b08f9849-a927-4519-81c7-e4c2892c2cbf",
   "metadata": {},
   "outputs": [
    {
     "name": "stdout",
     "output_type": "stream",
     "text": [
      "<KeysViewHDF5 ['compressed_hid_dim', 'dataset_size', 'max_seq_len', 'shorten_factor']>\n",
      "<KeysViewHDF5 ['clan', 'len']>\n"
     ]
    }
   ],
   "source": [
    "with h5py.File(path, \"r\") as f:\n",
    "    print(f.attrs.keys())\n",
    "    print(f['0'].attrs.keys())\n",
    "    "
   ]
  },
  {
   "cell_type": "code",
   "execution_count": 15,
   "id": "d278a178-ee1c-4a24-be2e-523aed1492e5",
   "metadata": {},
   "outputs": [],
   "source": [
    "from plaid.datasets import CompressedH5DataModule\n",
    "\n",
    "dm = CompressedH5DataModule(\n",
    "        compression_model_id=\"jzlv54wl\",\n",
    "        max_seq_len=512,\n",
    "        h5_root_dir=h5_root_dir,\n",
    "        num_workers=2,\n",
    "        shuffle_val_dataset=False,\n",
    "        aprclan_version=True)"
   ]
  },
  {
   "cell_type": "code",
   "execution_count": 16,
   "id": "fbc26d33-2263-40b8-9c3f-cfe7ef489bde",
   "metadata": {},
   "outputs": [],
   "source": [
    "dm.setup()"
   ]
  },
  {
   "cell_type": "code",
   "execution_count": 17,
   "id": "5aca3b95-9f71-4dab-b072-351724a1fc47",
   "metadata": {},
   "outputs": [],
   "source": [
    "train_dataloader = dm.train_dataloader()"
   ]
  },
  {
   "cell_type": "code",
   "execution_count": 18,
   "id": "a0361459-886c-4666-85d5-f7f021adb49e",
   "metadata": {},
   "outputs": [],
   "source": [
    "batch = next(iter(train_dataloader))"
   ]
  },
  {
   "cell_type": "code",
   "execution_count": 5,
   "id": "1c5c86d8-6038-426f-a933-2b13f91ee6c0",
   "metadata": {},
   "outputs": [
    {
     "ename": "FileNotFoundError",
     "evalue": "[Errno 2] No such file or directory: '/data/lux70/plaid/checkpoints/diffusion/izqjcxxj/epoch=13888-step=500000.ckpt'",
     "output_type": "error",
     "traceback": [
      "\u001b[0;31m---------------------------------------------------------------------------\u001b[0m",
      "\u001b[0;31mFileNotFoundError\u001b[0m                         Traceback (most recent call last)",
      "Cell \u001b[0;32mIn[5], line 6\u001b[0m\n\u001b[1;32m      4\u001b[0m ckpt_path \u001b[38;5;241m=\u001b[39m ckpt_dir \u001b[38;5;241m+\u001b[39m ckpt_name\n\u001b[1;32m      5\u001b[0m \u001b[38;5;28;01mimport\u001b[39;00m \u001b[38;5;21;01mtorch\u001b[39;00m\n\u001b[0;32m----> 6\u001b[0m ckpt_dict \u001b[38;5;241m=\u001b[39m \u001b[43mtorch\u001b[49m\u001b[38;5;241;43m.\u001b[39;49m\u001b[43mload\u001b[49m\u001b[43m(\u001b[49m\u001b[43mckpt_path\u001b[49m\u001b[43m)\u001b[49m\n\u001b[1;32m      8\u001b[0m old_keys \u001b[38;5;241m=\u001b[39m \u001b[38;5;28mset\u001b[39m(ckpt_dict\u001b[38;5;241m.\u001b[39mkeys())\n\u001b[1;32m      9\u001b[0m old_state_dict_keys \u001b[38;5;241m=\u001b[39m \u001b[38;5;28mset\u001b[39m(ckpt_dict[\u001b[38;5;124m'\u001b[39m\u001b[38;5;124mstate_dict\u001b[39m\u001b[38;5;124m'\u001b[39m]\u001b[38;5;241m.\u001b[39mkeys())\n",
      "File \u001b[0;32m~/miniconda3/envs/plaid/lib/python3.10/site-packages/torch/serialization.py:997\u001b[0m, in \u001b[0;36mload\u001b[0;34m(f, map_location, pickle_module, weights_only, mmap, **pickle_load_args)\u001b[0m\n\u001b[1;32m    994\u001b[0m \u001b[38;5;28;01mif\u001b[39;00m \u001b[38;5;124m'\u001b[39m\u001b[38;5;124mencoding\u001b[39m\u001b[38;5;124m'\u001b[39m \u001b[38;5;129;01mnot\u001b[39;00m \u001b[38;5;129;01min\u001b[39;00m pickle_load_args\u001b[38;5;241m.\u001b[39mkeys():\n\u001b[1;32m    995\u001b[0m     pickle_load_args[\u001b[38;5;124m'\u001b[39m\u001b[38;5;124mencoding\u001b[39m\u001b[38;5;124m'\u001b[39m] \u001b[38;5;241m=\u001b[39m \u001b[38;5;124m'\u001b[39m\u001b[38;5;124mutf-8\u001b[39m\u001b[38;5;124m'\u001b[39m\n\u001b[0;32m--> 997\u001b[0m \u001b[38;5;28;01mwith\u001b[39;00m \u001b[43m_open_file_like\u001b[49m\u001b[43m(\u001b[49m\u001b[43mf\u001b[49m\u001b[43m,\u001b[49m\u001b[43m \u001b[49m\u001b[38;5;124;43m'\u001b[39;49m\u001b[38;5;124;43mrb\u001b[39;49m\u001b[38;5;124;43m'\u001b[39;49m\u001b[43m)\u001b[49m \u001b[38;5;28;01mas\u001b[39;00m opened_file:\n\u001b[1;32m    998\u001b[0m     \u001b[38;5;28;01mif\u001b[39;00m _is_zipfile(opened_file):\n\u001b[1;32m    999\u001b[0m         \u001b[38;5;66;03m# The zipfile reader is going to advance the current file position.\u001b[39;00m\n\u001b[1;32m   1000\u001b[0m         \u001b[38;5;66;03m# If we want to actually tail call to torch.jit.load, we need to\u001b[39;00m\n\u001b[1;32m   1001\u001b[0m         \u001b[38;5;66;03m# reset back to the original position.\u001b[39;00m\n\u001b[1;32m   1002\u001b[0m         orig_position \u001b[38;5;241m=\u001b[39m opened_file\u001b[38;5;241m.\u001b[39mtell()\n",
      "File \u001b[0;32m~/miniconda3/envs/plaid/lib/python3.10/site-packages/torch/serialization.py:444\u001b[0m, in \u001b[0;36m_open_file_like\u001b[0;34m(name_or_buffer, mode)\u001b[0m\n\u001b[1;32m    442\u001b[0m \u001b[38;5;28;01mdef\u001b[39;00m \u001b[38;5;21m_open_file_like\u001b[39m(name_or_buffer, mode):\n\u001b[1;32m    443\u001b[0m     \u001b[38;5;28;01mif\u001b[39;00m _is_path(name_or_buffer):\n\u001b[0;32m--> 444\u001b[0m         \u001b[38;5;28;01mreturn\u001b[39;00m \u001b[43m_open_file\u001b[49m\u001b[43m(\u001b[49m\u001b[43mname_or_buffer\u001b[49m\u001b[43m,\u001b[49m\u001b[43m \u001b[49m\u001b[43mmode\u001b[49m\u001b[43m)\u001b[49m\n\u001b[1;32m    445\u001b[0m     \u001b[38;5;28;01melse\u001b[39;00m:\n\u001b[1;32m    446\u001b[0m         \u001b[38;5;28;01mif\u001b[39;00m \u001b[38;5;124m'\u001b[39m\u001b[38;5;124mw\u001b[39m\u001b[38;5;124m'\u001b[39m \u001b[38;5;129;01min\u001b[39;00m mode:\n",
      "File \u001b[0;32m~/miniconda3/envs/plaid/lib/python3.10/site-packages/torch/serialization.py:425\u001b[0m, in \u001b[0;36m_open_file.__init__\u001b[0;34m(self, name, mode)\u001b[0m\n\u001b[1;32m    424\u001b[0m \u001b[38;5;28;01mdef\u001b[39;00m \u001b[38;5;21m__init__\u001b[39m(\u001b[38;5;28mself\u001b[39m, name, mode):\n\u001b[0;32m--> 425\u001b[0m     \u001b[38;5;28msuper\u001b[39m()\u001b[38;5;241m.\u001b[39m\u001b[38;5;21m__init__\u001b[39m(\u001b[38;5;28;43mopen\u001b[39;49m\u001b[43m(\u001b[49m\u001b[43mname\u001b[49m\u001b[43m,\u001b[49m\u001b[43m \u001b[49m\u001b[43mmode\u001b[49m\u001b[43m)\u001b[49m)\n",
      "\u001b[0;31mFileNotFoundError\u001b[0m: [Errno 2] No such file or directory: '/data/lux70/plaid/checkpoints/diffusion/izqjcxxj/epoch=13888-step=500000.ckpt'"
     ]
    }
   ],
   "source": []
  },
  {
   "cell_type": "code",
   "execution_count": 10,
   "id": "b8043ffc-d5b4-4eb8-935c-8f8cb87a7e46",
   "metadata": {},
   "outputs": [
    {
     "name": "stdout",
     "output_type": "stream",
     "text": [
      "total 3.7G\n",
      "-rw-r----- 1 lux70 games 3.7G May  4 21:18 epoch=13888-step=500000.ckpt\n"
     ]
    }
   ],
   "source": [
    "!ls -trhl /data/lux70/plaid/checkpoints/diffusion/izqjcxxj/"
   ]
  },
  {
   "cell_type": "code",
   "execution_count": 11,
   "id": "ebd91658-a44b-4fc0-b284-dde72c1ceb6b",
   "metadata": {},
   "outputs": [
    {
     "name": "stdout",
     "output_type": "stream",
     "text": [
      "total 20G\n",
      "-rw-r----- 1 lux70 games 3.1K May 21 07:20 config.yaml\n",
      "-rw-r----- 1 lux70 games  20G May 21 11:29 1099-220000.ckpt\n"
     ]
    }
   ],
   "source": [
    "!ls -trhl /data/lux70/plaid/checkpoints/diffusion/6nahhz22/"
   ]
  },
  {
   "cell_type": "code",
   "execution_count": 6,
   "id": "d900629a-872f-4fe0-93b8-5e689aebfdee",
   "metadata": {},
   "outputs": [
    {
     "ename": "FileNotFoundError",
     "evalue": "[Errno 2] No such file or directory: '/data/lux70/plaid/checkpoints/diffusion/6nahhz22/1099-220000.ckpt'",
     "output_type": "error",
     "traceback": [
      "\u001b[0;31m---------------------------------------------------------------------------\u001b[0m",
      "\u001b[0;31mFileNotFoundError\u001b[0m                         Traceback (most recent call last)",
      "Cell \u001b[0;32mIn[6], line 6\u001b[0m\n\u001b[1;32m      3\u001b[0m ckpt_path \u001b[38;5;241m=\u001b[39m ckpt_dir \u001b[38;5;241m+\u001b[39m ckpt_name\n\u001b[1;32m      5\u001b[0m \u001b[38;5;28;01mimport\u001b[39;00m \u001b[38;5;21;01mtorch\u001b[39;00m\n\u001b[0;32m----> 6\u001b[0m new_ckpt_dict \u001b[38;5;241m=\u001b[39m \u001b[43mtorch\u001b[49m\u001b[38;5;241;43m.\u001b[39;49m\u001b[43mload\u001b[49m\u001b[43m(\u001b[49m\u001b[43mckpt_path\u001b[49m\u001b[43m)\u001b[49m\n\u001b[1;32m      8\u001b[0m new_keys \u001b[38;5;241m=\u001b[39m \u001b[38;5;28mset\u001b[39m(new_ckpt_dict\u001b[38;5;241m.\u001b[39mkeys())\n\u001b[1;32m      9\u001b[0m new_state_dict_keys \u001b[38;5;241m=\u001b[39m \u001b[38;5;28mset\u001b[39m(new_ckpt_dict[\u001b[38;5;124m'\u001b[39m\u001b[38;5;124mstate_dict\u001b[39m\u001b[38;5;124m'\u001b[39m]\u001b[38;5;241m.\u001b[39mkeys())\n",
      "File \u001b[0;32m~/miniconda3/envs/plaid/lib/python3.10/site-packages/torch/serialization.py:997\u001b[0m, in \u001b[0;36mload\u001b[0;34m(f, map_location, pickle_module, weights_only, mmap, **pickle_load_args)\u001b[0m\n\u001b[1;32m    994\u001b[0m \u001b[38;5;28;01mif\u001b[39;00m \u001b[38;5;124m'\u001b[39m\u001b[38;5;124mencoding\u001b[39m\u001b[38;5;124m'\u001b[39m \u001b[38;5;129;01mnot\u001b[39;00m \u001b[38;5;129;01min\u001b[39;00m pickle_load_args\u001b[38;5;241m.\u001b[39mkeys():\n\u001b[1;32m    995\u001b[0m     pickle_load_args[\u001b[38;5;124m'\u001b[39m\u001b[38;5;124mencoding\u001b[39m\u001b[38;5;124m'\u001b[39m] \u001b[38;5;241m=\u001b[39m \u001b[38;5;124m'\u001b[39m\u001b[38;5;124mutf-8\u001b[39m\u001b[38;5;124m'\u001b[39m\n\u001b[0;32m--> 997\u001b[0m \u001b[38;5;28;01mwith\u001b[39;00m \u001b[43m_open_file_like\u001b[49m\u001b[43m(\u001b[49m\u001b[43mf\u001b[49m\u001b[43m,\u001b[49m\u001b[43m \u001b[49m\u001b[38;5;124;43m'\u001b[39;49m\u001b[38;5;124;43mrb\u001b[39;49m\u001b[38;5;124;43m'\u001b[39;49m\u001b[43m)\u001b[49m \u001b[38;5;28;01mas\u001b[39;00m opened_file:\n\u001b[1;32m    998\u001b[0m     \u001b[38;5;28;01mif\u001b[39;00m _is_zipfile(opened_file):\n\u001b[1;32m    999\u001b[0m         \u001b[38;5;66;03m# The zipfile reader is going to advance the current file position.\u001b[39;00m\n\u001b[1;32m   1000\u001b[0m         \u001b[38;5;66;03m# If we want to actually tail call to torch.jit.load, we need to\u001b[39;00m\n\u001b[1;32m   1001\u001b[0m         \u001b[38;5;66;03m# reset back to the original position.\u001b[39;00m\n\u001b[1;32m   1002\u001b[0m         orig_position \u001b[38;5;241m=\u001b[39m opened_file\u001b[38;5;241m.\u001b[39mtell()\n",
      "File \u001b[0;32m~/miniconda3/envs/plaid/lib/python3.10/site-packages/torch/serialization.py:444\u001b[0m, in \u001b[0;36m_open_file_like\u001b[0;34m(name_or_buffer, mode)\u001b[0m\n\u001b[1;32m    442\u001b[0m \u001b[38;5;28;01mdef\u001b[39;00m \u001b[38;5;21m_open_file_like\u001b[39m(name_or_buffer, mode):\n\u001b[1;32m    443\u001b[0m     \u001b[38;5;28;01mif\u001b[39;00m _is_path(name_or_buffer):\n\u001b[0;32m--> 444\u001b[0m         \u001b[38;5;28;01mreturn\u001b[39;00m \u001b[43m_open_file\u001b[49m\u001b[43m(\u001b[49m\u001b[43mname_or_buffer\u001b[49m\u001b[43m,\u001b[49m\u001b[43m \u001b[49m\u001b[43mmode\u001b[49m\u001b[43m)\u001b[49m\n\u001b[1;32m    445\u001b[0m     \u001b[38;5;28;01melse\u001b[39;00m:\n\u001b[1;32m    446\u001b[0m         \u001b[38;5;28;01mif\u001b[39;00m \u001b[38;5;124m'\u001b[39m\u001b[38;5;124mw\u001b[39m\u001b[38;5;124m'\u001b[39m \u001b[38;5;129;01min\u001b[39;00m mode:\n",
      "File \u001b[0;32m~/miniconda3/envs/plaid/lib/python3.10/site-packages/torch/serialization.py:425\u001b[0m, in \u001b[0;36m_open_file.__init__\u001b[0;34m(self, name, mode)\u001b[0m\n\u001b[1;32m    424\u001b[0m \u001b[38;5;28;01mdef\u001b[39;00m \u001b[38;5;21m__init__\u001b[39m(\u001b[38;5;28mself\u001b[39m, name, mode):\n\u001b[0;32m--> 425\u001b[0m     \u001b[38;5;28msuper\u001b[39m()\u001b[38;5;241m.\u001b[39m\u001b[38;5;21m__init__\u001b[39m(\u001b[38;5;28;43mopen\u001b[39;49m\u001b[43m(\u001b[49m\u001b[43mname\u001b[49m\u001b[43m,\u001b[49m\u001b[43m \u001b[49m\u001b[43mmode\u001b[49m\u001b[43m)\u001b[49m)\n",
      "\u001b[0;31mFileNotFoundError\u001b[0m: [Errno 2] No such file or directory: '/data/lux70/plaid/checkpoints/diffusion/6nahhz22/1099-220000.ckpt'"
     ]
    }
   ],
   "source": [
    "ckpt_dir = \"/data/lux70/plaid/checkpoints/diffusion/6nahhz22/\"\n",
    "ckpt_name = \"1099-220000.ckpt\"\n",
    "ckpt_path = ckpt_dir + ckpt_name\n",
    "\n",
    "import torch\n",
    "new_ckpt_dict = torch.load(ckpt_path)\n",
    "\n",
    "new_keys = set(new_ckpt_dict.keys())\n",
    "new_state_dict_keys = set(new_ckpt_dict['state_dict'].keys())\n",
    "print(new_keys)\n",
    "print(\"\\n___________\\n\")\n",
    "print(new_state_dict_keys)"
   ]
  },
  {
   "cell_type": "code",
   "execution_count": 7,
   "id": "6de9f936-949d-4cb0-8171-9e3ee9b912a2",
   "metadata": {},
   "outputs": [
    {
     "data": {
      "text/plain": [
       "True"
      ]
     },
     "execution_count": 7,
     "metadata": {},
     "output_type": "execute_result"
    }
   ],
   "source": [
    "old_state_dict_keys == new_state_dict_keys"
   ]
  },
  {
   "cell_type": "code",
   "execution_count": 8,
   "id": "6be48251-5917-4598-9a32-baf222f232ce",
   "metadata": {},
   "outputs": [
    {
     "data": {
      "text/plain": [
       "True"
      ]
     },
     "execution_count": 8,
     "metadata": {},
     "output_type": "execute_result"
    }
   ],
   "source": [
    "old_keys == new_keys"
   ]
  },
  {
   "cell_type": "code",
   "execution_count": null,
   "id": "fa154e4a-33af-4ef3-a544-3cf3ddc05fed",
   "metadata": {},
   "outputs": [],
   "source": []
  }
 ],
 "metadata": {
  "kernelspec": {
   "display_name": "Python (plaid)",
   "language": "python",
   "name": "plaid"
  },
  "language_info": {
   "codemirror_mode": {
    "name": "ipython",
    "version": 3
   },
   "file_extension": ".py",
   "mimetype": "text/x-python",
   "name": "python",
   "nbconvert_exporter": "python",
   "pygments_lexer": "ipython3",
   "version": "3.10.0"
  }
 },
 "nbformat": 4,
 "nbformat_minor": 5
}
