{
 "cells": [
  {
   "cell_type": "code",
   "execution_count": 1,
   "id": "e296ea8b-4883-4dab-aa91-4560ae1bd4b2",
   "metadata": {},
   "outputs": [],
   "source": [
    "%load_ext autoreload\n",
    "%autoreload 2"
   ]
  },
  {
   "cell_type": "code",
   "execution_count": 2,
   "id": "b16d2922-ad8b-4413-b140-03a741f2344a",
   "metadata": {},
   "outputs": [],
   "source": [
    "import h5py\n",
    "path = \"/homefs/home/lux70/storage/data/pfam/compressed/subset_30K_with_clan/hourglass_jzlv54wl/seqlen_512/train.h5\" \n",
    "h5_root_dir = \"/homefs/home/lux70/storage/data/pfam/compressed/subset_30K_with_clan/\""
   ]
  },
  {
   "cell_type": "code",
   "execution_count": 4,
   "id": "3a92b098-16a6-42ce-8bd5-c19185dc55fa",
   "metadata": {},
   "outputs": [
    {
     "name": "stdout",
     "output_type": "stream",
     "text": [
      "<KeysViewHDF5 ['compressed_hid_dim', 'dataset_size', 'max_seq_len', 'shorten_factor']>\n",
      "<KeysViewHDF5 ['clan', 'len']>\n"
     ]
    }
   ],
   "source": [
    "with h5py.File(path, \"r\") as f:\n",
    "    print(f.attrs.keys())\n",
    "    print(f['0'].attrs.keys())\n",
    "    "
   ]
  },
  {
   "cell_type": "code",
   "execution_count": 3,
   "id": "b08f9849-a927-4519-81c7-e4c2892c2cbf",
   "metadata": {},
   "outputs": [
    {
     "name": "stdout",
     "output_type": "stream",
     "text": [
      "<KeysViewHDF5 ['compressed_hid_dim', 'dataset_size', 'max_seq_len', 'shorten_factor']>\n",
      "<KeysViewHDF5 ['clan', 'len']>\n"
     ]
    }
   ],
   "source": [
    "with h5py.File(path, \"r\") as f:\n",
    "    print(f.attrs.keys())\n",
    "    print(f['0'].attrs.keys())\n",
    "    "
   ]
  },
  {
   "cell_type": "code",
   "execution_count": 15,
   "id": "d278a178-ee1c-4a24-be2e-523aed1492e5",
   "metadata": {},
   "outputs": [],
   "source": [
    "from plaid.datasets import CompressedH5DataModule\n",
    "\n",
    "dm = CompressedH5DataModule(\n",
    "        compression_model_id=\"jzlv54wl\",\n",
    "        max_seq_len=512,\n",
    "        h5_root_dir=h5_root_dir,\n",
    "        num_workers=2,\n",
    "        shuffle_val_dataset=False,\n",
    "        aprclan_version=True)"
   ]
  },
  {
   "cell_type": "code",
   "execution_count": 16,
   "id": "fbc26d33-2263-40b8-9c3f-cfe7ef489bde",
   "metadata": {},
   "outputs": [],
   "source": [
    "dm.setup()"
   ]
  },
  {
   "cell_type": "code",
   "execution_count": 17,
   "id": "5aca3b95-9f71-4dab-b072-351724a1fc47",
   "metadata": {},
   "outputs": [],
   "source": [
    "train_dataloader = dm.train_dataloader()"
   ]
  },
  {
   "cell_type": "code",
   "execution_count": 18,
   "id": "a0361459-886c-4666-85d5-f7f021adb49e",
   "metadata": {},
   "outputs": [],
   "source": [
    "batch = next(iter(train_dataloader))"
   ]
  },
  {
   "cell_type": "code",
   "execution_count": 5,
   "id": "1c5c86d8-6038-426f-a933-2b13f91ee6c0",
   "metadata": {},
   "outputs": [
    {
     "name": "stdout",
     "output_type": "stream",
     "text": [
      "{'lr_schedulers', 'hyper_parameters', 'pytorch-lightning_version', 'loops', 'hparams_name', 'callbacks', 'state_dict', 'optimizer_states', 'global_step', 'epoch'}\n",
      "\n",
      "___________\n",
      "\n",
      "{'model.blocks.2.adaLN_modulation.1.bias', 'model.blocks.1.adaLN_modulation.1.bias', 'model.blocks.3.mlp.fc2.bias', 'model.blocks.1.attn.to_out.weight', 'model.blocks.3.attn.to_qkv.weight', 'model.final_layer.adaLN_modulation.1.bias', 'model.blocks.0.mlp.fc2.weight', 'model.blocks.0.attn.to_out.bias', 'model.blocks.3.adaLN_modulation.1.weight', 'model.t_embedder.mlp.0.bias', 'model.blocks.3.mlp.fc1.weight', 'model.blocks.0.mlp.fc1.weight', 'model.blocks.2.adaLN_modulation.1.weight', 'model.blocks.0.mlp.fc1.bias', 'model.blocks.0.mlp.fc2.bias', 'model.blocks.0.attn.to_out.weight', 'model.blocks.1.mlp.fc1.bias', 'model.blocks.2.attn.to_out.weight', 'model.blocks.3.attn.to_out.bias', 'model.x_proj.proj.weight', 'model.blocks.1.attn.to_out.bias', 'model.blocks.0.adaLN_modulation.1.bias', 'model.blocks.3.attn.to_out.weight', 'model.blocks.1.attn.to_qkv.weight', 'model.x_proj.proj.bias', 'model.blocks.1.mlp.fc2.bias', 'model.blocks.0.attn.to_qkv.weight', 'model.blocks.2.mlp.fc1.weight', 'model.blocks.0.adaLN_modulation.1.weight', 'model.blocks.1.mlp.fc1.weight', 'model.blocks.1.adaLN_modulation.1.weight', 'model.t_embedder.mlp.0.weight', 'model.blocks.2.attn.to_qkv.weight', 'model.pos_embed', 'model.final_layer.adaLN_modulation.1.weight', 'model.blocks.3.mlp.fc1.bias', 'model.t_embedder.mlp.2.weight', 'model.blocks.3.mlp.fc2.weight', 'model.blocks.2.mlp.fc2.bias', 'model.blocks.1.mlp.fc2.weight', 'model.blocks.2.attn.to_out.bias', 'model.final_layer.linear.weight', 'model.final_layer.linear.bias', 'model.blocks.2.mlp.fc2.weight', 'model.blocks.2.mlp.fc1.bias', 'model.t_embedder.mlp.2.bias', 'model.blocks.3.adaLN_modulation.1.bias'}\n"
     ]
    }
   ],
   "source": [
    "ckpt_dir = \"/homefs/home/lux70/storage/plaid/checkpoints/diffusion/izqjcxxj/\"\n",
    "ckpt_name = \"epoch=13888-step=500000.ckpt\"\n",
    "\n",
    "ckpt_path = ckpt_dir + ckpt_name\n",
    "import torch\n",
    "ckpt_dict = torch.load(ckpt_path)\n",
    "\n",
    "old_keys = set(ckpt_dict.keys())\n",
    "old_state_dict_keys = set(ckpt_dict['state_dict'].keys())\n",
    "print(old_keys)\n",
    "print(\"\\n___________\\n\")\n",
    "print(old_state_dict_keys)"
   ]
  },
  {
   "cell_type": "code",
   "execution_count": 10,
   "id": "b8043ffc-d5b4-4eb8-935c-8f8cb87a7e46",
   "metadata": {},
   "outputs": [
    {
     "name": "stdout",
     "output_type": "stream",
     "text": [
      "total 3.7G\n",
      "-rw-r----- 1 lux70 games 3.7G May  4 21:18 epoch=13888-step=500000.ckpt\n"
     ]
    }
   ],
   "source": [
    "!ls -trhl /homefs/home/lux70/storage/plaid/checkpoints/diffusion/izqjcxxj/"
   ]
  },
  {
   "cell_type": "code",
   "execution_count": 11,
   "id": "ebd91658-a44b-4fc0-b284-dde72c1ceb6b",
   "metadata": {},
   "outputs": [
    {
     "name": "stdout",
     "output_type": "stream",
     "text": [
      "total 20G\n",
      "-rw-r----- 1 lux70 games 3.1K May 21 07:20 config.yaml\n",
      "-rw-r----- 1 lux70 games  20G May 21 11:29 1099-220000.ckpt\n"
     ]
    }
   ],
   "source": [
    "!ls -trhl /homefs/home/lux70/storage/plaid/checkpoints/diffusion/6nahhz22/"
   ]
  },
  {
   "cell_type": "code",
   "execution_count": 6,
   "id": "d900629a-872f-4fe0-93b8-5e689aebfdee",
   "metadata": {},
   "outputs": [
    {
     "name": "stdout",
     "output_type": "stream",
     "text": [
      "{'lr_schedulers', 'hyper_parameters', 'pytorch-lightning_version', 'loops', 'hparams_name', 'callbacks', 'state_dict', 'optimizer_states', 'global_step', 'epoch'}\n",
      "\n",
      "___________\n",
      "\n",
      "{'model.blocks.2.adaLN_modulation.1.bias', 'model.blocks.1.adaLN_modulation.1.bias', 'model.blocks.3.mlp.fc2.bias', 'model.blocks.1.attn.to_out.weight', 'model.blocks.3.attn.to_qkv.weight', 'model.blocks.0.mlp.fc2.weight', 'model.final_layer.adaLN_modulation.1.bias', 'model.blocks.0.attn.to_out.bias', 'model.blocks.3.adaLN_modulation.1.weight', 'model.t_embedder.mlp.0.bias', 'model.blocks.3.mlp.fc1.weight', 'model.blocks.0.mlp.fc1.weight', 'model.blocks.2.adaLN_modulation.1.weight', 'model.blocks.0.mlp.fc1.bias', 'model.blocks.0.mlp.fc2.bias', 'model.blocks.0.attn.to_out.weight', 'model.blocks.1.mlp.fc1.bias', 'model.blocks.2.attn.to_out.weight', 'model.blocks.3.attn.to_out.bias', 'model.x_proj.proj.weight', 'model.blocks.1.attn.to_out.bias', 'model.blocks.0.adaLN_modulation.1.bias', 'model.blocks.3.attn.to_out.weight', 'model.blocks.1.attn.to_qkv.weight', 'model.x_proj.proj.bias', 'model.blocks.1.mlp.fc2.bias', 'model.blocks.0.attn.to_qkv.weight', 'model.blocks.2.mlp.fc1.weight', 'model.blocks.0.adaLN_modulation.1.weight', 'model.blocks.1.mlp.fc1.weight', 'model.blocks.1.adaLN_modulation.1.weight', 'model.t_embedder.mlp.0.weight', 'model.blocks.2.attn.to_qkv.weight', 'model.pos_embed', 'model.blocks.3.mlp.fc1.bias', 'model.blocks.3.mlp.fc2.weight', 'model.t_embedder.mlp.2.weight', 'model.final_layer.adaLN_modulation.1.weight', 'model.blocks.2.mlp.fc2.bias', 'model.blocks.1.mlp.fc2.weight', 'model.blocks.2.attn.to_out.bias', 'model.final_layer.linear.weight', 'model.blocks.2.mlp.fc2.weight', 'model.final_layer.linear.bias', 'model.blocks.2.mlp.fc1.bias', 'model.t_embedder.mlp.2.bias', 'model.blocks.3.adaLN_modulation.1.bias'}\n"
     ]
    }
   ],
   "source": [
    "ckpt_dir = \"/homefs/home/lux70/storage/plaid/checkpoints/diffusion/6nahhz22/\"\n",
    "ckpt_name = \"1099-220000.ckpt\"\n",
    "ckpt_path = ckpt_dir + ckpt_name\n",
    "\n",
    "import torch\n",
    "new_ckpt_dict = torch.load(ckpt_path)\n",
    "\n",
    "new_keys = set(new_ckpt_dict.keys())\n",
    "new_state_dict_keys = set(new_ckpt_dict['state_dict'].keys())\n",
    "print(new_keys)\n",
    "print(\"\\n___________\\n\")\n",
    "print(new_state_dict_keys)"
   ]
  },
  {
   "cell_type": "code",
   "execution_count": 7,
   "id": "6de9f936-949d-4cb0-8171-9e3ee9b912a2",
   "metadata": {},
   "outputs": [
    {
     "data": {
      "text/plain": [
       "True"
      ]
     },
     "execution_count": 7,
     "metadata": {},
     "output_type": "execute_result"
    }
   ],
   "source": [
    "old_state_dict_keys == new_state_dict_keys"
   ]
  },
  {
   "cell_type": "code",
   "execution_count": 8,
   "id": "6be48251-5917-4598-9a32-baf222f232ce",
   "metadata": {},
   "outputs": [
    {
     "data": {
      "text/plain": [
       "True"
      ]
     },
     "execution_count": 8,
     "metadata": {},
     "output_type": "execute_result"
    }
   ],
   "source": [
    "old_keys == new_keys"
   ]
  },
  {
   "cell_type": "code",
   "execution_count": null,
   "id": "fa154e4a-33af-4ef3-a544-3cf3ddc05fed",
   "metadata": {},
   "outputs": [],
   "source": []
  }
 ],
 "metadata": {
  "kernelspec": {
   "display_name": "Python (plaid)",
   "language": "python",
   "name": "plaid"
  },
  "language_info": {
   "codemirror_mode": {
    "name": "ipython",
    "version": 3
   },
   "file_extension": ".py",
   "mimetype": "text/x-python",
   "name": "python",
   "nbconvert_exporter": "python",
   "pygments_lexer": "ipython3",
   "version": "3.10.0"
  }
 },
 "nbformat": 4,
 "nbformat_minor": 5
}
