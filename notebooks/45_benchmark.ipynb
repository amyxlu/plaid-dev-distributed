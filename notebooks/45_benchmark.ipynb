{
 "cells": [
  {
   "cell_type": "code",
   "execution_count": 60,
   "id": "c94a235e-f675-44d8-bbb6-ff0ad0dda2c1",
   "metadata": {},
   "outputs": [
    {
     "name": "stdout",
     "output_type": "stream",
     "text": [
      "The autoreload extension is already loaded. To reload it, use:\n",
      "  %reload_ext autoreload\n"
     ]
    }
   ],
   "source": [
    "%load_ext autoreload\n",
    "%autoreload 2"
   ]
  },
  {
   "cell_type": "code",
   "execution_count": 61,
   "id": "1fcd22bf-bd26-4cce-999b-bee7c974c573",
   "metadata": {},
   "outputs": [],
   "source": [
    "\n",
    "from pathlib import Path\n",
    "\n",
    "import lmdb\n",
    "import torchdrug\n",
    "from torchdrug import datasets, core, tasks\n",
    "import torch\n",
    "\n",
    "from plaid.datasets import CATHShardedDataModule\n",
    "from plaid.compression.hourglass_vq import HourglassVQLightningModule\n",
    "from plaid.esmfold.misc import batch_encode_sequences\n",
    "from plaid.esmfold import esmfold_v1\n",
    "\n",
    "TORCH_DRUG_DATASETS_PATH = Path(\"/homefs/home/lux70/storage/data/torchdrug\")\n",
    "device = torch.device(\"cuda\")"
   ]
  },
  {
   "cell_type": "code",
   "execution_count": 66,
   "id": "795f6507-266e-44a9-b9f0-11468a07d163",
   "metadata": {},
   "outputs": [],
   "source": [
    "train_lmdb_path = TORCH_DRUG_DATASETS_PATH / \"beta_lactamase/beta_lactamase_train.lmdb\""
   ]
  },
  {
   "cell_type": "code",
   "execution_count": 71,
   "id": "c7fd4af3-943d-443a-9783-9f1898b005d9",
   "metadata": {},
   "outputs": [
    {
     "name": "stdout",
     "output_type": "stream",
     "text": [
      "0\n",
      "1\n",
      "10\n",
      "100\n",
      "1000\n",
      "1001\n",
      "1002\n",
      "1003\n",
      "1004\n",
      "1005\n",
      "1006\n",
      "1007\n",
      "1008\n",
      "1009\n",
      "101\n",
      "1010\n",
      "1011\n",
      "1012\n",
      "1013\n",
      "1014\n",
      "1015\n",
      "1016\n",
      "1017\n",
      "1018\n",
      "1019\n",
      "102\n",
      "1020\n",
      "1021\n",
      "1022\n",
      "1023\n",
      "1024\n"
     ]
    }
   ],
   "source": [
    "import lmdb\n",
    "\n",
    "# Open the LMDB database\n",
    "env = lmdb.open(str(train_lmdb_path), readonly=True)\n",
    "i = 0\n",
    "\n",
    "# Begin a new read transaction\n",
    "with env.begin() as txn:\n",
    "    # Get the number of entries in the database\n",
    "    stat = txn.stat()\n",
    "    for key, value in txn.cursor():\n",
    "        if i > 30:\n",
    "            break\n",
    "\n",
    "        print(key.decode('utf-8'))\n",
    "        # decoded_value = value.decode('utf-8')\n",
    "\n",
    "        # # Print the key-value pair\n",
    "        # print(f\"Key: {decoded_key}, Value: {decoded_value}\")\n",
    "        i += 1\n",
    "\n",
    "env.close()"
   ]
  },
  {
   "cell_type": "code",
   "execution_count": 68,
   "id": "f1a0f92f-c4b5-4ba3-b6fa-99510267d93f",
   "metadata": {},
   "outputs": [
    {
     "data": {
      "text/plain": [
       "{'psize': 4096,\n",
       " 'depth': 3,\n",
       " 'branch_pages': 5,\n",
       " 'leaf_pages': 748,\n",
       " 'overflow_pages': 0,\n",
       " 'entries': 4159}"
      ]
     },
     "execution_count": 68,
     "metadata": {},
     "output_type": "execute_result"
    }
   ],
   "source": [
    "stat"
   ]
  },
  {
   "cell_type": "code",
   "execution_count": null,
   "id": "487e6288-1978-4646-b6df-ba85c9d5482d",
   "metadata": {},
   "outputs": [],
   "source": []
  }
 ],
 "metadata": {
  "kernelspec": {
   "display_name": "Python (torchdrug)",
   "language": "python",
   "name": "torchdrug"
  },
  "language_info": {
   "codemirror_mode": {
    "name": "ipython",
    "version": 3
   },
   "file_extension": ".py",
   "mimetype": "text/x-python",
   "name": "python",
   "nbconvert_exporter": "python",
   "pygments_lexer": "ipython3",
   "version": "3.10.14"
  }
 },
 "nbformat": 4,
 "nbformat_minor": 5
}
