{
 "cells": [
  {
   "cell_type": "code",
   "execution_count": 1,
   "id": "48188ad3-12bb-43a0-ae91-3fbae6a7ef27",
   "metadata": {},
   "outputs": [],
   "source": [
    "%load_ext autoreload\n",
    "%autoreload 2"
   ]
  },
  {
   "cell_type": "code",
   "execution_count": 3,
   "id": "b7c31375-37c1-4a39-8577-e3d8457e689d",
   "metadata": {},
   "outputs": [],
   "source": [
    "from plaid.datasets import FastaDataset\n"
   ]
  },
  {
   "cell_type": "code",
   "execution_count": 4,
   "id": "84f97381-9811-4689-a782-ed1f4bfe3592",
   "metadata": {},
   "outputs": [
    {
     "name": "stderr",
     "output_type": "stream",
     "text": [
      "100%|██████████| 10.6G/10.6G [01:37<00:00, 117MB/s] \n",
      "100%|██████████| 10.6G/10.6G [01:14<00:00, 153MB/s]\n"
     ]
    }
   ],
   "source": [
    "ds = FastaDataset(\"/homefs/home/lux70/storage/data/pfam/Pfam-A.fasta\")\n"
   ]
  },
  {
   "cell_type": "code",
   "execution_count": null,
   "id": "70b7a5df-8d15-4c95-abfe-2a8a5556195a",
   "metadata": {},
   "outputs": [],
   "source": []
  }
 ],
 "metadata": {
  "kernelspec": {
   "display_name": "Python 3 (ipykernel)",
   "language": "python",
   "name": "python3"
  },
  "language_info": {
   "codemirror_mode": {
    "name": "ipython",
    "version": 3
   },
   "file_extension": ".py",
   "mimetype": "text/x-python",
   "name": "python",
   "nbconvert_exporter": "python",
   "pygments_lexer": "ipython3",
   "version": "3.12.2"
  }
 },
 "nbformat": 4,
 "nbformat_minor": 5
}
