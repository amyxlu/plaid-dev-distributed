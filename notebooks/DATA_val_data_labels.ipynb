{
 "cells": [
  {
   "cell_type": "code",
   "execution_count": 1,
   "id": "d28345e7-0f21-42c9-9b80-e0bb1f591fa8",
   "metadata": {},
   "outputs": [],
   "source": [
    "%load_ext autoreload\n",
    "%autoreload 2"
   ]
  },
  {
   "cell_type": "code",
   "execution_count": 2,
   "id": "e28a5521-bf61-443c-ada0-4687c987cc1a",
   "metadata": {},
   "outputs": [
    {
     "name": "stdout",
     "output_type": "stream",
     "text": [
      "102877\n",
      "6584128\n"
     ]
    }
   ],
   "source": [
    "from plaid.datasets import FunctionOrganismDataModule\n",
    "import torch\n",
    "\n",
    "datamodule = FunctionOrganismDataModule(\n",
    "    train_shards=\"/data/lux70/data/pfam/compressed/j1v1wv6w/train/shard{000..160}.tar\",\n",
    "    val_shards=\"/data/lux70/data/pfam/compressed/j1v1wv6w/val/shard{000..022}.tar\",\n",
    "    config_file=\"/data/lux70/data/pfam/compressed/j1v1wv6w/config.json\",\n",
    "    go_metadata_fpath=\"/data/lux70/data/pfam/pfam2go.csv\",\n",
    "    organism_metadata_fpath=\"/data/lux70/data/pfam/organism_counts.csv\",\n",
    "    cache_dir=\"/homefs/home/lux70/cache/plaid_data_cache/j1v1wv6w\",\n",
    "    train_epoch_num_batches=100_000,\n",
    "    val_epoch_num_batches=None,\n",
    "    shuffle_buffer=10_000,\n",
    "    shuffle_initial=10_000,\n",
    "    num_workers=4,\n",
    ")\n",
    "datamodule.setup()\n",
    "\n",
    "val_dataloader = datamodule.val_dataloader()\n",
    "val_dataset = datamodule.val_ds\n",
    "\n",
    "\n",
    "print(len(val_dataloader))\n",
    "print(datamodule.batch_size * len(val_dataloader))"
   ]
  },
  {
   "cell_type": "code",
   "execution_count": 6,
   "id": "1e681eb6-853f-4037-ad80-19b41051cc3c",
   "metadata": {},
   "outputs": [
    {
     "data": {
      "application/vnd.jupyter.widget-view+json": {
       "model_id": "63fd96f83dd24241870ffaa38a061af3",
       "version_major": 2,
       "version_minor": 0
      },
      "text/plain": [
       "  0%|          | 0/102877 [00:00<?, ?it/s]"
      ]
     },
     "metadata": {},
     "output_type": "display_data"
    }
   ],
   "source": [
    "# all_go_idxs = []\n",
    "# all_organism_idxs = []\n",
    "# all_local_paths = []\n",
    "# all_sample_ids = []\n",
    "\n",
    "\n",
    "# from tqdm.notebook import tqdm\n",
    "\n",
    "# for batch in tqdm(val_dataloader):\n",
    "#     embedding, mask, go_idx, organism_idx, pfam_id, sample_id, local_path = batch\n",
    "    \n",
    "#     all_go_idxs.append(go_idx)\n",
    "#     all_organism_idxs.append(organism_idx)\n",
    "#     all_local_paths.append(local_path)\n",
    "#     all_sample_ids.append(sample_id)"
   ]
  },
  {
   "cell_type": "code",
   "execution_count": 15,
   "id": "ebef53f2-32b8-42e7-9eea-4f0c9a186595",
   "metadata": {},
   "outputs": [],
   "source": [
    "# import itertools\n",
    "\n",
    "# all_go_idxs = torch.cat(all_go_idxs)\n",
    "# all_organism_idxs = torch.cat(all_organism_idxs)\n",
    "# all_local_paths = list(itertools.chain.from_iterable(all_local_paths))\n",
    "# all_sample_ids = list(itertools.chain.from_iterable(all_sample_ids))"
   ]
  },
  {
   "cell_type": "code",
   "execution_count": 26,
   "id": "db24bcea-8f48-4282-a847-02203c8c9e04",
   "metadata": {},
   "outputs": [],
   "source": [
    "import pandas as pd\n",
    "\n",
    "go_metadata_fpath = \"/data/lux70/data/pfam/pfam2go.csv\"\n",
    "organism_metadata_fpath = \"/data/lux70/data/pfam/organism_counts.csv\"\n",
    "\n",
    "go_df = pd.read_csv(go_metadata_fpath)\n",
    "org_df = pd.read_csv(organism_metadata_fpath)"
   ]
  },
  {
   "cell_type": "code",
   "execution_count": 38,
   "id": "c56e46ce-3aa7-4ec7-bb3d-d50149884ff0",
   "metadata": {},
   "outputs": [],
   "source": [
    "import pandas as pd\n",
    "\n",
    "df = pd.DataFrame(\n",
    "    {\n",
    "        \"GO_idx\": all_go_idxs,\n",
    "        \"organism_index\": all_organism_idxs,\n",
    "        \"local_paths\": all_local_paths,\n",
    "        \"sample_ids\": all_sample_ids\n",
    "    }\n",
    ")"
   ]
  },
  {
   "cell_type": "code",
   "execution_count": 57,
   "id": "630440cb-6383-401d-a7ad-ba4177ab2a2a",
   "metadata": {},
   "outputs": [],
   "source": [
    "df = df.merge(org_df, on=\"organism_index\")"
   ]
  },
  {
   "cell_type": "code",
   "execution_count": 59,
   "id": "6963d343-fec8-4de9-815d-f2ec8255ef1f",
   "metadata": {},
   "outputs": [],
   "source": [
    "df = df.merge(go_df, on=\"GO_idx\")"
   ]
  },
  {
   "cell_type": "code",
   "execution_count": 64,
   "id": "fb97c139-8847-4e02-afab-8d27dd88faa2",
   "metadata": {},
   "outputs": [
    {
     "data": {
      "text/html": [
       "<div>\n",
       "<style scoped>\n",
       "    .dataframe tbody tr th:only-of-type {\n",
       "        vertical-align: middle;\n",
       "    }\n",
       "\n",
       "    .dataframe tbody tr th {\n",
       "        vertical-align: top;\n",
       "    }\n",
       "\n",
       "    .dataframe thead th {\n",
       "        text-align: right;\n",
       "    }\n",
       "</style>\n",
       "<table border=\"1\" class=\"dataframe\">\n",
       "  <thead>\n",
       "    <tr style=\"text-align: right;\">\n",
       "      <th></th>\n",
       "      <th>GO_idx</th>\n",
       "      <th>organism_index</th>\n",
       "      <th>local_paths</th>\n",
       "      <th>sample_ids</th>\n",
       "      <th>organism_id</th>\n",
       "      <th>organism_counts</th>\n",
       "      <th>pfam_id</th>\n",
       "      <th>GO_id</th>\n",
       "      <th>GO_term</th>\n",
       "      <th>GO_level</th>\n",
       "      <th>GO_counts</th>\n",
       "    </tr>\n",
       "  </thead>\n",
       "  <tbody>\n",
       "    <tr>\n",
       "      <th>0</th>\n",
       "      <td>3</td>\n",
       "      <td>30</td>\n",
       "      <td>/data/lux70/data/pfam/compressed/j1v1wv6w/val/...</td>\n",
       "      <td>sample2772227</td>\n",
       "      <td>9BACT</td>\n",
       "      <td>3061628</td>\n",
       "      <td>PF00009</td>\n",
       "      <td>GO:0003924</td>\n",
       "      <td>GTPase activity</td>\n",
       "      <td>function</td>\n",
       "      <td>10</td>\n",
       "    </tr>\n",
       "    <tr>\n",
       "      <th>1</th>\n",
       "      <td>3</td>\n",
       "      <td>30</td>\n",
       "      <td>/data/lux70/data/pfam/compressed/j1v1wv6w/val/...</td>\n",
       "      <td>sample2772227</td>\n",
       "      <td>9BACT</td>\n",
       "      <td>3061628</td>\n",
       "      <td>PF00025</td>\n",
       "      <td>GO:0003924</td>\n",
       "      <td>GTPase activity</td>\n",
       "      <td>function</td>\n",
       "      <td>10</td>\n",
       "    </tr>\n",
       "    <tr>\n",
       "      <th>2</th>\n",
       "      <td>3</td>\n",
       "      <td>30</td>\n",
       "      <td>/data/lux70/data/pfam/compressed/j1v1wv6w/val/...</td>\n",
       "      <td>sample2772227</td>\n",
       "      <td>9BACT</td>\n",
       "      <td>3061628</td>\n",
       "      <td>PF00071</td>\n",
       "      <td>GO:0003924</td>\n",
       "      <td>GTPase activity</td>\n",
       "      <td>function</td>\n",
       "      <td>10</td>\n",
       "    </tr>\n",
       "    <tr>\n",
       "      <th>3</th>\n",
       "      <td>3</td>\n",
       "      <td>30</td>\n",
       "      <td>/data/lux70/data/pfam/compressed/j1v1wv6w/val/...</td>\n",
       "      <td>sample2772227</td>\n",
       "      <td>9BACT</td>\n",
       "      <td>3061628</td>\n",
       "      <td>PF02212</td>\n",
       "      <td>GO:0003924</td>\n",
       "      <td>GTPase activity</td>\n",
       "      <td>function</td>\n",
       "      <td>10</td>\n",
       "    </tr>\n",
       "    <tr>\n",
       "      <th>4</th>\n",
       "      <td>3</td>\n",
       "      <td>30</td>\n",
       "      <td>/data/lux70/data/pfam/compressed/j1v1wv6w/val/...</td>\n",
       "      <td>sample2772227</td>\n",
       "      <td>9BACT</td>\n",
       "      <td>3061628</td>\n",
       "      <td>PF02263</td>\n",
       "      <td>GO:0003924</td>\n",
       "      <td>GTPase activity</td>\n",
       "      <td>function</td>\n",
       "      <td>10</td>\n",
       "    </tr>\n",
       "    <tr>\n",
       "      <th>...</th>\n",
       "      <td>...</td>\n",
       "      <td>...</td>\n",
       "      <td>...</td>\n",
       "      <td>...</td>\n",
       "      <td>...</td>\n",
       "      <td>...</td>\n",
       "      <td>...</td>\n",
       "      <td>...</td>\n",
       "      <td>...</td>\n",
       "      <td>...</td>\n",
       "      <td>...</td>\n",
       "    </tr>\n",
       "    <tr>\n",
       "      <th>68280953</th>\n",
       "      <td>82</td>\n",
       "      <td>59</td>\n",
       "      <td>/data/lux70/data/pfam/compressed/j1v1wv6w/val/...</td>\n",
       "      <td>sample1106504</td>\n",
       "      <td>9BILA</td>\n",
       "      <td>379616</td>\n",
       "      <td>PF01607</td>\n",
       "      <td>GO:0008061</td>\n",
       "      <td>chitin binding</td>\n",
       "      <td>function</td>\n",
       "      <td>4</td>\n",
       "    </tr>\n",
       "    <tr>\n",
       "      <th>68280954</th>\n",
       "      <td>82</td>\n",
       "      <td>59</td>\n",
       "      <td>/data/lux70/data/pfam/compressed/j1v1wv6w/val/...</td>\n",
       "      <td>sample1106504</td>\n",
       "      <td>9BILA</td>\n",
       "      <td>379616</td>\n",
       "      <td>PF05927</td>\n",
       "      <td>GO:0008061</td>\n",
       "      <td>chitin binding</td>\n",
       "      <td>function</td>\n",
       "      <td>4</td>\n",
       "    </tr>\n",
       "    <tr>\n",
       "      <th>68280955</th>\n",
       "      <td>82</td>\n",
       "      <td>548</td>\n",
       "      <td>/data/lux70/data/pfam/compressed/j1v1wv6w/val/...</td>\n",
       "      <td>sample1106505</td>\n",
       "      <td>DROSI</td>\n",
       "      <td>3595</td>\n",
       "      <td>PF00187</td>\n",
       "      <td>GO:0008061</td>\n",
       "      <td>chitin binding</td>\n",
       "      <td>function</td>\n",
       "      <td>4</td>\n",
       "    </tr>\n",
       "    <tr>\n",
       "      <th>68280956</th>\n",
       "      <td>82</td>\n",
       "      <td>548</td>\n",
       "      <td>/data/lux70/data/pfam/compressed/j1v1wv6w/val/...</td>\n",
       "      <td>sample1106505</td>\n",
       "      <td>DROSI</td>\n",
       "      <td>3595</td>\n",
       "      <td>PF01607</td>\n",
       "      <td>GO:0008061</td>\n",
       "      <td>chitin binding</td>\n",
       "      <td>function</td>\n",
       "      <td>4</td>\n",
       "    </tr>\n",
       "    <tr>\n",
       "      <th>68280957</th>\n",
       "      <td>82</td>\n",
       "      <td>548</td>\n",
       "      <td>/data/lux70/data/pfam/compressed/j1v1wv6w/val/...</td>\n",
       "      <td>sample1106505</td>\n",
       "      <td>DROSI</td>\n",
       "      <td>3595</td>\n",
       "      <td>PF05927</td>\n",
       "      <td>GO:0008061</td>\n",
       "      <td>chitin binding</td>\n",
       "      <td>function</td>\n",
       "      <td>4</td>\n",
       "    </tr>\n",
       "  </tbody>\n",
       "</table>\n",
       "<p>68280958 rows × 11 columns</p>\n",
       "</div>"
      ],
      "text/plain": [
       "          GO_idx  organism_index  \\\n",
       "0              3              30   \n",
       "1              3              30   \n",
       "2              3              30   \n",
       "3              3              30   \n",
       "4              3              30   \n",
       "...          ...             ...   \n",
       "68280953      82              59   \n",
       "68280954      82              59   \n",
       "68280955      82             548   \n",
       "68280956      82             548   \n",
       "68280957      82             548   \n",
       "\n",
       "                                                local_paths     sample_ids  \\\n",
       "0         /data/lux70/data/pfam/compressed/j1v1wv6w/val/...  sample2772227   \n",
       "1         /data/lux70/data/pfam/compressed/j1v1wv6w/val/...  sample2772227   \n",
       "2         /data/lux70/data/pfam/compressed/j1v1wv6w/val/...  sample2772227   \n",
       "3         /data/lux70/data/pfam/compressed/j1v1wv6w/val/...  sample2772227   \n",
       "4         /data/lux70/data/pfam/compressed/j1v1wv6w/val/...  sample2772227   \n",
       "...                                                     ...            ...   \n",
       "68280953  /data/lux70/data/pfam/compressed/j1v1wv6w/val/...  sample1106504   \n",
       "68280954  /data/lux70/data/pfam/compressed/j1v1wv6w/val/...  sample1106504   \n",
       "68280955  /data/lux70/data/pfam/compressed/j1v1wv6w/val/...  sample1106505   \n",
       "68280956  /data/lux70/data/pfam/compressed/j1v1wv6w/val/...  sample1106505   \n",
       "68280957  /data/lux70/data/pfam/compressed/j1v1wv6w/val/...  sample1106505   \n",
       "\n",
       "         organism_id  organism_counts  pfam_id       GO_id          GO_term  \\\n",
       "0              9BACT          3061628  PF00009  GO:0003924  GTPase activity   \n",
       "1              9BACT          3061628  PF00025  GO:0003924  GTPase activity   \n",
       "2              9BACT          3061628  PF00071  GO:0003924  GTPase activity   \n",
       "3              9BACT          3061628  PF02212  GO:0003924  GTPase activity   \n",
       "4              9BACT          3061628  PF02263  GO:0003924  GTPase activity   \n",
       "...              ...              ...      ...         ...              ...   \n",
       "68280953       9BILA           379616  PF01607  GO:0008061   chitin binding   \n",
       "68280954       9BILA           379616  PF05927  GO:0008061   chitin binding   \n",
       "68280955       DROSI             3595  PF00187  GO:0008061   chitin binding   \n",
       "68280956       DROSI             3595  PF01607  GO:0008061   chitin binding   \n",
       "68280957       DROSI             3595  PF05927  GO:0008061   chitin binding   \n",
       "\n",
       "          GO_level  GO_counts  \n",
       "0         function         10  \n",
       "1         function         10  \n",
       "2         function         10  \n",
       "3         function         10  \n",
       "4         function         10  \n",
       "...            ...        ...  \n",
       "68280953  function          4  \n",
       "68280954  function          4  \n",
       "68280955  function          4  \n",
       "68280956  function          4  \n",
       "68280957  function          4  \n",
       "\n",
       "[68280958 rows x 11 columns]"
      ]
     },
     "execution_count": 64,
     "metadata": {},
     "output_type": "execute_result"
    }
   ],
   "source": [
    "df = df.rename({\"count\": \"GO_counts\", \"counts\": \"organism_counts\"}, axis=1)"
   ]
  },
  {
   "cell_type": "code",
   "execution_count": 74,
   "id": "940a9b57-c83e-425c-92b3-ec80a0b79848",
   "metadata": {},
   "outputs": [
    {
     "name": "stdout",
     "output_type": "stream",
     "text": [
      "(56994, 11)\n"
     ]
    },
    {
     "data": {
      "text/plain": [
       "organism_id\n",
       "9BACT    3129\n",
       "9FIRM    2996\n",
       "9ACTN    2688\n",
       "9GAMM    2506\n",
       "9PROT    1057\n",
       "         ... \n",
       "VITXG       7\n",
       "WALI9       7\n",
       "WEIPA       7\n",
       "WIGBR       7\n",
       "WUCBA       7\n",
       "Name: count, Length: 1515, dtype: int64"
      ]
     },
     "execution_count": 74,
     "metadata": {},
     "output_type": "execute_result"
    }
   ],
   "source": [
    "print(df[df.GO_term == \"GTPase activity\"].shape)\n",
    "df[df.GO_term == \"GTPase activity\"].value_counts(\"organism_id\")"
   ]
  },
  {
   "cell_type": "code",
   "execution_count": 70,
   "id": "02162015-8142-487e-a54e-c7eab59f1aa9",
   "metadata": {},
   "outputs": [],
   "source": [
    "# df.to_csv(\"/data/lux70/data/pfam/compressed/j1v1wv6w/val_dataset_metadata.csv\")"
   ]
  },
  {
   "cell_type": "code",
   "execution_count": 65,
   "id": "43028b6a-b984-4764-9c3b-c50252beff03",
   "metadata": {},
   "outputs": [
    {
     "data": {
      "text/html": [
       "<div>\n",
       "<style scoped>\n",
       "    .dataframe tbody tr th:only-of-type {\n",
       "        vertical-align: middle;\n",
       "    }\n",
       "\n",
       "    .dataframe tbody tr th {\n",
       "        vertical-align: top;\n",
       "    }\n",
       "\n",
       "    .dataframe thead th {\n",
       "        text-align: right;\n",
       "    }\n",
       "</style>\n",
       "<table border=\"1\" class=\"dataframe\">\n",
       "  <thead>\n",
       "    <tr style=\"text-align: right;\">\n",
       "      <th></th>\n",
       "      <th>GO_idx</th>\n",
       "      <th>organism_index</th>\n",
       "      <th>local_paths</th>\n",
       "      <th>sample_ids</th>\n",
       "      <th>organism_id</th>\n",
       "      <th>counts</th>\n",
       "      <th>pfam_id</th>\n",
       "      <th>GO_id</th>\n",
       "      <th>GO_term</th>\n",
       "      <th>GO_level</th>\n",
       "      <th>count</th>\n",
       "    </tr>\n",
       "  </thead>\n",
       "  <tbody>\n",
       "    <tr>\n",
       "      <th>0</th>\n",
       "      <td>3</td>\n",
       "      <td>30</td>\n",
       "      <td>/data/lux70/data/pfam/compressed/j1v1wv6w/val/...</td>\n",
       "      <td>sample2772227</td>\n",
       "      <td>9BACT</td>\n",
       "      <td>3061628</td>\n",
       "      <td>PF00009</td>\n",
       "      <td>GO:0003924</td>\n",
       "      <td>GTPase activity</td>\n",
       "      <td>function</td>\n",
       "      <td>10</td>\n",
       "    </tr>\n",
       "    <tr>\n",
       "      <th>1</th>\n",
       "      <td>3</td>\n",
       "      <td>30</td>\n",
       "      <td>/data/lux70/data/pfam/compressed/j1v1wv6w/val/...</td>\n",
       "      <td>sample2772227</td>\n",
       "      <td>9BACT</td>\n",
       "      <td>3061628</td>\n",
       "      <td>PF00025</td>\n",
       "      <td>GO:0003924</td>\n",
       "      <td>GTPase activity</td>\n",
       "      <td>function</td>\n",
       "      <td>10</td>\n",
       "    </tr>\n",
       "    <tr>\n",
       "      <th>2</th>\n",
       "      <td>3</td>\n",
       "      <td>30</td>\n",
       "      <td>/data/lux70/data/pfam/compressed/j1v1wv6w/val/...</td>\n",
       "      <td>sample2772227</td>\n",
       "      <td>9BACT</td>\n",
       "      <td>3061628</td>\n",
       "      <td>PF00071</td>\n",
       "      <td>GO:0003924</td>\n",
       "      <td>GTPase activity</td>\n",
       "      <td>function</td>\n",
       "      <td>10</td>\n",
       "    </tr>\n",
       "    <tr>\n",
       "      <th>3</th>\n",
       "      <td>3</td>\n",
       "      <td>30</td>\n",
       "      <td>/data/lux70/data/pfam/compressed/j1v1wv6w/val/...</td>\n",
       "      <td>sample2772227</td>\n",
       "      <td>9BACT</td>\n",
       "      <td>3061628</td>\n",
       "      <td>PF02212</td>\n",
       "      <td>GO:0003924</td>\n",
       "      <td>GTPase activity</td>\n",
       "      <td>function</td>\n",
       "      <td>10</td>\n",
       "    </tr>\n",
       "    <tr>\n",
       "      <th>4</th>\n",
       "      <td>3</td>\n",
       "      <td>30</td>\n",
       "      <td>/data/lux70/data/pfam/compressed/j1v1wv6w/val/...</td>\n",
       "      <td>sample2772227</td>\n",
       "      <td>9BACT</td>\n",
       "      <td>3061628</td>\n",
       "      <td>PF02263</td>\n",
       "      <td>GO:0003924</td>\n",
       "      <td>GTPase activity</td>\n",
       "      <td>function</td>\n",
       "      <td>10</td>\n",
       "    </tr>\n",
       "  </tbody>\n",
       "</table>\n",
       "</div>"
      ],
      "text/plain": [
       "   GO_idx  organism_index                                        local_paths  \\\n",
       "0       3              30  /data/lux70/data/pfam/compressed/j1v1wv6w/val/...   \n",
       "1       3              30  /data/lux70/data/pfam/compressed/j1v1wv6w/val/...   \n",
       "2       3              30  /data/lux70/data/pfam/compressed/j1v1wv6w/val/...   \n",
       "3       3              30  /data/lux70/data/pfam/compressed/j1v1wv6w/val/...   \n",
       "4       3              30  /data/lux70/data/pfam/compressed/j1v1wv6w/val/...   \n",
       "\n",
       "      sample_ids organism_id   counts  pfam_id       GO_id          GO_term  \\\n",
       "0  sample2772227       9BACT  3061628  PF00009  GO:0003924  GTPase activity   \n",
       "1  sample2772227       9BACT  3061628  PF00025  GO:0003924  GTPase activity   \n",
       "2  sample2772227       9BACT  3061628  PF00071  GO:0003924  GTPase activity   \n",
       "3  sample2772227       9BACT  3061628  PF02212  GO:0003924  GTPase activity   \n",
       "4  sample2772227       9BACT  3061628  PF02263  GO:0003924  GTPase activity   \n",
       "\n",
       "   GO_level  count  \n",
       "0  function     10  \n",
       "1  function     10  \n",
       "2  function     10  \n",
       "3  function     10  \n",
       "4  function     10  "
      ]
     },
     "execution_count": 65,
     "metadata": {},
     "output_type": "execute_result"
    }
   ],
   "source": [
    "df.head()"
   ]
  },
  {
   "cell_type": "code",
   "execution_count": 170,
   "id": "3d2abbcd-e047-49bf-970c-9435cd9f4c1b",
   "metadata": {},
   "outputs": [
    {
     "data": {
      "text/plain": [
       "'/data/lux70/data/pfam/compressed/j1v1wv6w/val/shard010.tar'"
      ]
     },
     "execution_count": 170,
     "metadata": {},
     "output_type": "execute_result"
    }
   ],
   "source": [
    "df.local_paths[0]"
   ]
  },
  {
   "cell_type": "code",
   "execution_count": 99,
   "id": "40d37d99-b812-4ca0-bafd-c346c3dce8ac",
   "metadata": {},
   "outputs": [
    {
     "name": "stderr",
     "output_type": "stream",
     "text": [
      "/tmp/ipykernel_3915179/1331610776.py:6: UserWarning: Boolean Series key will be reindexed to match DataFrame index.\n",
      "  tmp = tmp[df.organism_index == org_idx]\n"
     ]
    },
    {
     "data": {
      "text/plain": [
       "(3129, 11)"
      ]
     },
     "execution_count": 99,
     "metadata": {},
     "output_type": "execute_result"
    }
   ],
   "source": [
    "def filter_classes(df, GO_idx, org_idx, seed, max_samples=10_000):\n",
    "    random.seed(seed)\n",
    "    np.random.seed(seed)\n",
    "    \n",
    "    tmp = df[df.GO_idx == GO_idx]\n",
    "    tmp = tmp[df.organism_index == org_idx]\n",
    "    n_samples = min(tmp.shape[0], max_samples)\n",
    "    tmp = tmp.sample(n=n_samples, random_state=seed)\n",
    "    return tmp\n",
    "\n",
    "filtered_samples = filter_classes(df, 3, 30, 42)\n",
    "filtered_samples.shape"
   ]
  },
  {
   "cell_type": "code",
   "execution_count": 137,
   "id": "0753839c-767f-4a7d-b7a5-4ecf983ef730",
   "metadata": {},
   "outputs": [],
   "source": [
    "filtered_samples = filtered_samples.sort_values(\"local_paths\")"
   ]
  },
  {
   "cell_type": "code",
   "execution_count": 104,
   "id": "327e48f5-4229-4d88-80cd-58927299520d",
   "metadata": {},
   "outputs": [],
   "source": [
    "shard_list = filtered_samples.local_paths.unique()"
   ]
  },
  {
   "cell_type": "code",
   "execution_count": 98,
   "id": "1f10e3a2-60ea-4c19-b285-e239049d9ce0",
   "metadata": {},
   "outputs": [],
   "source": [
    "import webdataset as wds\n",
    "from plaid.datasets import MetadataParser, make_sample\n",
    "\n",
    "import random\n",
    "import numpy as np\n",
    "\n",
    "metadata_parser = MetadataParser(\n",
    "    go_metadata_fpath=\"/data/lux70/data/pfam/pfam2go.csv\",\n",
    "    organism_metadata_fpath=\"/data/lux70/data/pfam/organism_counts.csv\",\n",
    ")"
   ]
  },
  {
   "cell_type": "code",
   "execution_count": 130,
   "id": "e5e98b2c-2560-41c2-a438-5a019a06c414",
   "metadata": {},
   "outputs": [],
   "source": [
    "ds = wds.WebDataset(list(shard_list), resampled=False, repeat=False, shardshuffle=False).map(lambda x: make_sample(x, 512, metadata_parser)).batched(2048)"
   ]
  },
  {
   "cell_type": "code",
   "execution_count": 201,
   "id": "e6bbcf09-d29a-461f-944a-2841ca99e32a",
   "metadata": {},
   "outputs": [],
   "source": [
    "sample = next(iter(ds))"
   ]
  },
  {
   "cell_type": "code",
   "execution_count": 202,
   "id": "1961199c-c12d-4be3-a2b9-164a31e2cd30",
   "metadata": {},
   "outputs": [],
   "source": [
    "embedding, mask, go_idx, organism_idx, pfam_id, sample_id, local_path = sample"
   ]
  },
  {
   "cell_type": "code",
   "execution_count": 203,
   "id": "b95b5d30-8673-4bf3-b1c3-baa19b8b24c9",
   "metadata": {},
   "outputs": [],
   "source": [
    "import numpy as np\n",
    "\n",
    "unique_shards = np.unique(local_path)"
   ]
  },
  {
   "cell_type": "code",
   "execution_count": 204,
   "id": "282a1313-9e70-4a58-b13e-e69cf839d650",
   "metadata": {},
   "outputs": [],
   "source": [
    "tmp = filtered_samples[filtered_samples.local_paths.isin(unique_shards)]"
   ]
  },
  {
   "cell_type": "code",
   "execution_count": 205,
   "id": "65622a21-4b4a-45c1-ad85-469546874729",
   "metadata": {},
   "outputs": [
    {
     "data": {
      "text/html": [
       "<div>\n",
       "<style scoped>\n",
       "    .dataframe tbody tr th:only-of-type {\n",
       "        vertical-align: middle;\n",
       "    }\n",
       "\n",
       "    .dataframe tbody tr th {\n",
       "        vertical-align: top;\n",
       "    }\n",
       "\n",
       "    .dataframe thead th {\n",
       "        text-align: right;\n",
       "    }\n",
       "</style>\n",
       "<table border=\"1\" class=\"dataframe\">\n",
       "  <thead>\n",
       "    <tr style=\"text-align: right;\">\n",
       "      <th></th>\n",
       "      <th>GO_idx</th>\n",
       "      <th>organism_index</th>\n",
       "      <th>local_paths</th>\n",
       "      <th>sample_ids</th>\n",
       "      <th>organism_id</th>\n",
       "      <th>counts</th>\n",
       "      <th>pfam_id</th>\n",
       "      <th>GO_id</th>\n",
       "      <th>GO_term</th>\n",
       "      <th>GO_level</th>\n",
       "      <th>count</th>\n",
       "    </tr>\n",
       "  </thead>\n",
       "  <tbody>\n",
       "  </tbody>\n",
       "</table>\n",
       "</div>"
      ],
      "text/plain": [
       "Empty DataFrame\n",
       "Columns: [GO_idx, organism_index, local_paths, sample_ids, organism_id, counts, pfam_id, GO_id, GO_term, GO_level, count]\n",
       "Index: []"
      ]
     },
     "execution_count": 205,
     "metadata": {},
     "output_type": "execute_result"
    }
   ],
   "source": [
    "tmp[tmp.sample_ids.isin(sample_id)]"
   ]
  },
  {
   "cell_type": "code",
   "execution_count": null,
   "id": "55a98a1e-6026-4130-85fd-32a6260a9736",
   "metadata": {},
   "outputs": [],
   "source": []
  }
 ],
 "metadata": {
  "kernelspec": {
   "display_name": "Python (plaid)",
   "language": "python",
   "name": "plaid"
  },
  "language_info": {
   "codemirror_mode": {
    "name": "ipython",
    "version": 3
   },
   "file_extension": ".py",
   "mimetype": "text/x-python",
   "name": "python",
   "nbconvert_exporter": "python",
   "pygments_lexer": "ipython3",
   "version": "3.10.0"
  }
 },
 "nbformat": 4,
 "nbformat_minor": 5
}
