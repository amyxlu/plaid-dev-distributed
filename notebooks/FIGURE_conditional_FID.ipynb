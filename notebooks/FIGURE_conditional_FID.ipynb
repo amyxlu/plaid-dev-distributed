{
 "cells": [
  {
   "cell_type": "code",
   "execution_count": 47,
   "id": "c9cfc485-3573-4f37-933f-2b9b9cede31d",
   "metadata": {},
   "outputs": [
    {
     "name": "stdout",
     "output_type": "stream",
     "text": [
      "The autoreload extension is already loaded. To reload it, use:\n",
      "  %reload_ext autoreload\n"
     ]
    }
   ],
   "source": [
    "%load_ext autoreload\n",
    "%autoreload 2"
   ]
  },
  {
   "cell_type": "code",
   "execution_count": 48,
   "id": "d20b5781-26bd-4b39-a6cf-cfbacb0ecf18",
   "metadata": {},
   "outputs": [],
   "source": [
    "import safetensors\n",
    "from safetensors import safe_open\n",
    "import torch\n",
    "from pathlib import Path\n",
    "import numpy as np\n",
    "import random\n",
    "import seaborn as sns\n",
    "import matplotlib.pyplot as plt"
   ]
  },
  {
   "cell_type": "code",
   "execution_count": 49,
   "id": "919fb1f4-46b4-40d2-b0c8-88274ce1171d",
   "metadata": {},
   "outputs": [
    {
     "data": {
      "text/plain": [
       "<torch._C.Generator at 0x7efcc806c030>"
      ]
     },
     "execution_count": 49,
     "metadata": {},
     "output_type": "execute_result"
    }
   ],
   "source": [
    "random.seed(42)\n",
    "np.random.seed(42)\n",
    "torch.manual_seed(42)"
   ]
  },
  {
   "cell_type": "markdown",
   "id": "5c249b25-1dd0-4471-b5e8-f1aa174d81eb",
   "metadata": {},
   "source": [
    "# Baseline"
   ]
  },
  {
   "cell_type": "code",
   "execution_count": 50,
   "id": "ef6aa4c5-94a6-44b2-a31c-9723f9291e2c",
   "metadata": {},
   "outputs": [
    {
     "name": "stdout",
     "output_type": "stream",
     "text": [
      "torch.Size([11886, 32])\n"
     ]
    }
   ],
   "source": [
    "feature_path = \"/data/lux70/data/pfam/features/all.pt\"\n",
    "with safe_open(feature_path, \"pt\") as f:\n",
    "    features = f.get_tensor('features')\n",
    "\n",
    "print(features.shape)\n",
    "\n",
    "NUM_TO_EVAL = 512\n",
    "idxs = np.arange(NUM_TO_EVAL * 2)\n",
    "np.random.shuffle(idxs)\n",
    "\n",
    "idxs1 = idxs[:NUM_TO_EVAL]\n",
    "idxs2 = idxs[NUM_TO_EVAL:]\n",
    "\n",
    "gt_x1 = features[idxs1].numpy()\n",
    "gt_x2 = features[idxs2].numpy()"
   ]
  },
  {
   "cell_type": "code",
   "execution_count": 51,
   "id": "76505600-7128-49ca-9c8d-1d405ece36ba",
   "metadata": {},
   "outputs": [],
   "source": [
    "from plaid.evaluation import parmar_kid, parmar_fid, ConditionalFID"
   ]
  },
  {
   "cell_type": "code",
   "execution_count": 52,
   "id": "f9dfbe48-3cc0-4af9-8cbc-9f9068747baa",
   "metadata": {},
   "outputs": [
    {
     "name": "stdout",
     "output_type": "stream",
     "text": [
      "0.004427324210236727\n"
     ]
    }
   ],
   "source": [
    "uncond_gt_fid = parmar_fid(gt_x1, gt_x2)\n",
    "print(uncond_gt_fid)"
   ]
  },
  {
   "cell_type": "code",
   "execution_count": 53,
   "id": "e12a5876-8672-4611-804f-41b3d0ce2fb6",
   "metadata": {},
   "outputs": [
    {
     "data": {
      "text/plain": [
       "-3.0023683074134057e-05"
      ]
     },
     "execution_count": 53,
     "metadata": {},
     "output_type": "execute_result"
    }
   ],
   "source": [
    "parmar_kid(gt_x1, gt_x2)"
   ]
  },
  {
   "cell_type": "markdown",
   "id": "fc87b378-0218-453d-94c0-8c25a600fbe6",
   "metadata": {},
   "source": [
    "### Unconditional to Random"
   ]
  },
  {
   "cell_type": "code",
   "execution_count": 54,
   "id": "380657ff-f4e6-4fbb-8f61-65200451b63f",
   "metadata": {},
   "outputs": [
    {
     "data": {
      "image/png": "[encoded data removed]",
      "text/plain": [
       "<Figure size 640x480 with 1 Axes>"
      ]
     },
     "metadata": {},
     "output_type": "display_data"
    }
   ],
   "source": [
    "# from scipy.stats import beta\n",
    "\n",
    "# # Beta distribution parameters can be tweaked for a Gaussian-like shape\n",
    "# alpha, beta_param = 8, 8\n",
    "# samples = beta(alpha, beta_param).rvs(1000)\n",
    "\n",
    "# # Rescale to [-1, 1]\n",
    "# bounded_samples = 2 * samples - 0.9\n",
    "# print(bounded_samples.shape)\n",
    "# _ = plt.hist(bounded_samples.flatten(),bins=100)\n",
    "\n",
    "\n",
    "random = np.random.normal(0, 0.3, (512, 32))\n",
    "_ = plt.hist(random.flatten(), bins=100)"
   ]
  },
  {
   "cell_type": "code",
   "execution_count": 55,
   "id": "0cbb2ba4-6e04-4b6f-ad13-fef21ddad595",
   "metadata": {},
   "outputs": [
    {
     "name": "stdout",
     "output_type": "stream",
     "text": [
      "3.64562124110458\n"
     ]
    }
   ],
   "source": [
    "random_fid = parmar_fid(random, gt_x1)\n",
    "print(random_fid)"
   ]
  },
  {
   "cell_type": "code",
   "execution_count": 56,
   "id": "4026a222-d04f-458a-9385-6876fa4e6ff3",
   "metadata": {},
   "outputs": [
    {
     "data": {
      "text/plain": [
       "3.6613143722900707"
      ]
     },
     "execution_count": 56,
     "metadata": {},
     "output_type": "execute_result"
    }
   ],
   "source": [
    "parmar_fid(random, gt_x2)"
   ]
  },
  {
   "cell_type": "markdown",
   "id": "c95ab981-d75e-497d-bf3b-00c1a7917bbd",
   "metadata": {},
   "source": [
    "# Unconditional generation performance"
   ]
  },
  {
   "cell_type": "code",
   "execution_count": 57,
   "id": "ea061b2d-ceba-436d-bec7-2e3ab45ec09a",
   "metadata": {},
   "outputs": [
    {
     "name": "stdout",
     "output_type": "stream",
     "text": [
      "(1024, 128, 32)\n"
     ]
    }
   ],
   "source": [
    "with np.load(\"/data/lux70/plaid/artifacts/samples/5j007z42/f2219_o3617/240907_0658/latent.npz\", allow_pickle=True) as f:\n",
    "    uncond_gen = f['samples']\n",
    "\n",
    "print(uncond_gen.shape)\n",
    "uncond_gen = uncond_gen.astype(np.float32)"
   ]
  },
  {
   "cell_type": "code",
   "execution_count": 58,
   "id": "dd182b05-f399-4e98-ac4c-2077b7888961",
   "metadata": {},
   "outputs": [
    {
     "name": "stdout",
     "output_type": "stream",
     "text": [
      "(512, 32)\n"
     ]
    }
   ],
   "source": [
    "idxs = np.arange(len(uncond_gen))\n",
    "np.random.shuffle(idxs)\n",
    "uncond_gen = uncond_gen[idxs[:NUM_TO_EVAL]]\n",
    "uncond_gen = uncond_gen.mean(axis=1)\n",
    "print(uncond_gen.shape)"
   ]
  },
  {
   "cell_type": "code",
   "execution_count": 59,
   "id": "4d9429ea-64fe-4b91-b717-bd5e848f1e7f",
   "metadata": {},
   "outputs": [
    {
     "name": "stdout",
     "output_type": "stream",
     "text": [
      "0.07637256839755446\n",
      "0.08355992729511436\n"
     ]
    }
   ],
   "source": [
    "uncond_gen_fid = parmar_fid(gt_x1, uncond_gen)\n",
    "print(uncond_gen_fid)\n",
    "\n",
    "# just to double check, use the other chunk too\n",
    "print(parmar_fid(gt_x2, uncond_gen))"
   ]
  },
  {
   "cell_type": "code",
   "execution_count": 60,
   "id": "369eb593-b270-480f-bc7c-4b2bb28c96e0",
   "metadata": {},
   "outputs": [
    {
     "name": "stdout",
     "output_type": "stream",
     "text": [
      "0.002485317666003457\n",
      "0.002933099899739986\n"
     ]
    }
   ],
   "source": [
    "print(parmar_kid(gt_x1, uncond_gen))\n",
    "print(parmar_kid(gt_x2, uncond_gen))"
   ]
  },
  {
   "cell_type": "markdown",
   "id": "f9793047-307e-47eb-ad06-5c7595f67f6f",
   "metadata": {},
   "source": [
    "# Amass Conditional FID"
   ]
  },
  {
   "cell_type": "code",
   "execution_count": 61,
   "id": "850f90e9-d6f3-4fbe-a475-4cbf8fc55b19",
   "metadata": {},
   "outputs": [
    {
     "name": "stderr",
     "output_type": "stream",
     "text": [
      "/homefs/home/lux70/code/cheap-proteins/src/cheap/pretrained.py:32: FutureWarning: You are using `torch.load` with `weights_only=False` (the current default value), which uses the default pickle module implicitly. It is possible to construct malicious pickle data which will execute arbitrary code during unpickling (See https://github.com/pytorch/pytorch/blob/main/SECURITY.md#untrusted-models for more details). In a future release, the default value for `weights_only` will be flipped to `True`. This limits the functions that could be executed during unpickling. Arbitrary objects will no longer be allowed to be loaded via this mode unless they are explicitly allowlisted by the user via `torch.serialization.add_safe_globals`. We recommend you start setting `weights_only=True` for any use case where you don't have full control of the loaded file. Please open an issue on GitHub for any issues related to this experimental feature.\n",
      "  ckpt = torch.load(checkpoint_fpath)\n"
     ]
    },
    {
     "name": "stdout",
     "output_type": "stream",
     "text": [
      "Using tanh layer at bottleneck...\n",
      "Finished loading HPCT model with shorten factor 2 and 32 channel dimensions.\n",
      "Creating ESMFold embedding only model...\n",
      "ESMFold embedding only model created in 35.20 seconds\n"
     ]
    }
   ],
   "source": [
    "from cheap.pretrained import CHEAP_pfam_shorten_2_dim_32\n",
    "cheap_pipeline = CHEAP_pfam_shorten_2_dim_32()"
   ]
  },
  {
   "cell_type": "code",
   "execution_count": 62,
   "id": "aab94eaa-6872-4548-8588-8bdaba6a5f64",
   "metadata": {},
   "outputs": [],
   "source": [
    "from plaid.evaluation import ConditionalFID\n",
    "from pathlib import Path\n",
    "import glob\n",
    "import numpy as np\n",
    "import torch\n",
    "import os\n",
    "\n",
    "samples_dir = Path(\"/data/lux70/plaid/artifacts/samples/5j007z42/\")"
   ]
  },
  {
   "cell_type": "code",
   "execution_count": 63,
   "id": "92cfad19-056e-421e-be36-ae89e2a6ec76",
   "metadata": {},
   "outputs": [
    {
     "ename": "ValueError",
     "evalue": "invalid literal for int() with base 10: 'ld'",
     "output_type": "error",
     "traceback": [
      "\u001b[0;31m---------------------------------------------------------------------------\u001b[0m",
      "\u001b[0;31mValueError\u001b[0m                                Traceback (most recent call last)",
      "Cell \u001b[0;32mIn[63], line 13\u001b[0m\n\u001b[1;32m      9\u001b[0m batch_size \u001b[38;5;241m=\u001b[39m \u001b[38;5;241m128\u001b[39m\n\u001b[1;32m     12\u001b[0m \u001b[38;5;28;01mfor\u001b[39;00m i, cond_code \u001b[38;5;129;01min\u001b[39;00m \u001b[38;5;28menumerate\u001b[39m(os\u001b[38;5;241m.\u001b[39mlistdir(samples_dir)):\n\u001b[0;32m---> 13\u001b[0m     function_idx, organism_idx \u001b[38;5;241m=\u001b[39m \u001b[43mcond_code_to_idx\u001b[49m\u001b[43m(\u001b[49m\u001b[43mcond_code\u001b[49m\u001b[43m)\u001b[49m\n\u001b[1;32m     14\u001b[0m     timestamps \u001b[38;5;241m=\u001b[39m glob\u001b[38;5;241m.\u001b[39mglob(\u001b[38;5;28mstr\u001b[39m(samples_dir \u001b[38;5;241m/\u001b[39m cond_code \u001b[38;5;241m/\u001b[39m \u001b[38;5;124m\"\u001b[39m\u001b[38;5;124m*.npz\u001b[39m\u001b[38;5;124m\"\u001b[39m))\n\u001b[1;32m     16\u001b[0m     \u001b[38;5;28;01mif\u001b[39;00m \u001b[38;5;28mlen\u001b[39m(timestamps) \u001b[38;5;241m>\u001b[39m \u001b[38;5;241m0\u001b[39m:\n",
      "Cell \u001b[0;32mIn[63], line 3\u001b[0m, in \u001b[0;36mcond_code_to_idx\u001b[0;34m(cond_code)\u001b[0m\n\u001b[1;32m      1\u001b[0m \u001b[38;5;28;01mdef\u001b[39;00m \u001b[38;5;21mcond_code_to_idx\u001b[39m(cond_code: \u001b[38;5;28mstr\u001b[39m):\n\u001b[1;32m      2\u001b[0m     vals \u001b[38;5;241m=\u001b[39m cond_code\u001b[38;5;241m.\u001b[39msplit(\u001b[38;5;124m\"\u001b[39m\u001b[38;5;124m_\u001b[39m\u001b[38;5;124m\"\u001b[39m)\n\u001b[0;32m----> 3\u001b[0m     \u001b[38;5;28;01mreturn\u001b[39;00m \u001b[38;5;28;43mint\u001b[39;49m\u001b[43m(\u001b[49m\u001b[43mvals\u001b[49m\u001b[43m[\u001b[49m\u001b[38;5;241;43m0\u001b[39;49m\u001b[43m]\u001b[49m\u001b[43m[\u001b[49m\u001b[38;5;241;43m1\u001b[39;49m\u001b[43m:\u001b[49m\u001b[43m]\u001b[49m\u001b[43m)\u001b[49m, \u001b[38;5;28mint\u001b[39m(vals[\u001b[38;5;241m1\u001b[39m][\u001b[38;5;241m1\u001b[39m:])\n",
      "\u001b[0;31mValueError\u001b[0m: invalid literal for int() with base 10: 'ld'"
     ]
    }
   ],
   "source": [
    "def cond_code_to_idx(cond_code: str):\n",
    "    vals = cond_code.split(\"_\")\n",
    "    return int(vals[0][1:]), int(vals[1][1:])\n",
    "\n",
    "\n",
    "condgen_to_true = {}\n",
    "uncond_to_true = {}\n",
    "\n",
    "batch_size = 128\n",
    "\n",
    "\n",
    "for i, cond_code in enumerate(os.listdir(samples_dir)):\n",
    "    function_idx, organism_idx = cond_code_to_idx(cond_code)\n",
    "    timestamps = glob.glob(str(samples_dir / cond_code / \"*.npz\"))\n",
    "    \n",
    "    if len(timestamps) > 0:\n",
    "        try:\n",
    "            fpath = timestamps[-1]\n",
    "            print(fpath)\n",
    "    \n",
    "            cond_fid = ConditionalFID(\n",
    "                function_idx=function_idx,\n",
    "                organism_idx=organism_idx,\n",
    "                cheap_pipeline=cheap_pipeline,\n",
    "                batch_size=batch_size,\n",
    "                max_seq_len=256,\n",
    "                max_eval_samples=512\n",
    "            )\n",
    "            \n",
    "            with np.load(fpath, allow_pickle=True) as f:\n",
    "                x = f['samples'].astype(np.float32)\n",
    "    \n",
    "            feat = x[:, -1, :, :] # take last timestep only\n",
    "            feat = feat.mean(axis=1)\n",
    "            res = cond_fid.run(feat)\n",
    "            print(cond_code, \"Generated <-> GT FID:\", res)\n",
    "    \n",
    "            condgen_to_true[cond_code] = res\n",
    "    \n",
    "            # also try what happens if you do ground truth unconditional to conditional\n",
    "            res = parmar_fid(feat, gt_x1)\n",
    "            uncond_to_true[cond_code] = res\n",
    "            print(cond_code, \"Random Real <-> GT FID:\", res)\n",
    "        except Exception as e:\n",
    "            print(e)\n",
    "            continue\n",
    "            \n",
    "    else:\n",
    "        pass"
   ]
  },
  {
   "cell_type": "markdown",
   "id": "f3900743-70bc-48da-8503-9009e66afafd",
   "metadata": {},
   "source": [
    "# Plot"
   ]
  },
  {
   "cell_type": "code",
   "execution_count": null,
   "id": "c1e291c4-b544-49d5-b542-7357000c856f",
   "metadata": {},
   "outputs": [],
   "source": [
    "# turn into dataframe\n",
    "df1 = pd.DataFrame(list(condgen_to_true.items()), columns=['Key', 'condgen_to_true'])\n",
    "df2 = pd.DataFrame(list(uncond_to_true.items()), columns=['Key', 'uncond_to_true'])\n",
    "combined_df = pd.merge(df1, df2, on='Key')\n",
    "combined_df[\"GO_idx\"] = combined_df['Key'].map(lambda x: cond_code_to_idx(x)[0])\n",
    "combined_df[\"organism_index\"] = combined_df['Key'].map(lambda x: cond_code_to_idx(x)[1])\n",
    "\n",
    "# attach GO metadata\n",
    "go_df = pd.read_csv(\"/data/lux70/data/pfam/go_index.csv\")\n",
    "combined_df = combined_df.merge(go_df)\n",
    "combined_df = combined_df.sort_values(by=\"count\")\n",
    "combined_df['delta'] = combined_df.condgen_to_true - combined_df.uncond_to_true"
   ]
  },
  {
   "cell_type": "code",
   "execution_count": null,
   "id": "76224d25-8420-482e-bcce-6bdbd75662c7",
   "metadata": {},
   "outputs": [],
   "source": [
    "from matplotlib import cm\n",
    "from matplotlib.colors import Normalize\n",
    "\n",
    "values = combined_df['delta']\n",
    "norm = Normalize(vmin=min(values), vmax=max(values))\n",
    "\n",
    "colormap = cm.viridis  # You can replace 'viridis' with any other matplotlib colormap\n",
    "colors = colormap(norm(values))\n"
   ]
  },
  {
   "cell_type": "code",
   "execution_count": null,
   "id": "860597d7-8112-4c27-a4c4-26a358540de2",
   "metadata": {},
   "outputs": [],
   "source": [
    "combined_df"
   ]
  },
  {
   "cell_type": "code",
   "execution_count": null,
   "id": "039fc281-049d-4cb0-8052-c035c6732383",
   "metadata": {},
   "outputs": [],
   "source": [
    "fig, ax = plt.subplots(1, 1, dpi=150, figsize=(6,3))\n",
    "ax.scatter(np.arange(len(combined_df)), combined_df['condgen_to_true'].values, label=\"Generated\", s=30, c=\"navy\")\n",
    "# ax.scatter(np.arange(len(combined_df)), combined_df['uncond_to_true'].values, label=\"Random Validation Set Samples\",s=15, c=colors, marker=\"D\")\n",
    "ax.scatter(np.arange(len(combined_df)), combined_df['uncond_to_true'].values, label=\"Random Validation Set Samples\",s=10, c=\"lightskyblue\", marker=\"D\")\n",
    "ax.set_xticks(ticks=np.arange(len(combined_df)), labels=combined_df.GO_term.values, rotation=90)\n",
    "\n",
    "ax.axhline(y=uncond_gt_fid, color='green', linestyle='--', label=\"Natural Proteins\")\n",
    "ax.axhline(y=uncond_gen_fid, color='orange', linestyle='--', label=\"Unconditional FID\")\n",
    "\n",
    "\n",
    "### TODO: modify upper bound on y lim as needed\n",
    "### TODO: wrap text?\n",
    "\n",
    "ax.set_ylim(0,1.2)\n",
    "ax.set_xlabel(\"GO Term (sorted in ascending order of prevalence)\")\n",
    "ax.set_ylabel(\"FID (lower is better)\")\n",
    "\n",
    "plt.legend()"
   ]
  },
  {
   "cell_type": "code",
   "execution_count": null,
   "id": "e8ed6cd8-dae0-4365-add2-e1b8fcd09506",
   "metadata": {},
   "outputs": [],
   "source": [
    "combined_df.head()"
   ]
  },
  {
   "cell_type": "code",
   "execution_count": null,
   "id": "7401ed09-8d69-4a82-81a3-1a83b49460fc",
   "metadata": {},
   "outputs": [],
   "source": [
    "combined_df.to_csv(\"~/cond_fid_tmp.csv\", sep=\",\")"
   ]
  },
  {
   "cell_type": "markdown",
   "id": "2e0fb1b8-c21a-45c6-b286-60d3b59767c9",
   "metadata": {},
   "source": [
    "# Across Sampling Timesteps"
   ]
  },
  {
   "cell_type": "code",
   "execution_count": null,
   "id": "25e598d1-f2bc-4c5d-b528-d13daf0edd96",
   "metadata": {},
   "outputs": [],
   "source": [
    "!ls /data/lux70/plaid/artifacts/samples/5j007z42/old/240911_2010/latent.npz"
   ]
  },
  {
   "cell_type": "code",
   "execution_count": null,
   "id": "50387bde-cebc-4afa-b05c-7840fab3b488",
   "metadata": {},
   "outputs": [],
   "source": [
    "# oopsies on the path\n",
    "\n",
    "latent_path = Path(\"/data/lux70/plaid/artifacts/samples/5j007z42/old/240911_2010/latent.npz\")\n",
    "cond_code = \"f13_o3617\"  # cysteine-type endopeptidase inhibitor activity\n",
    "\n",
    "with np.load(latent_path) as f:\n",
    "    x = f['samples']\n"
   ]
  },
  {
   "cell_type": "code",
   "execution_count": null,
   "id": "36201f9d-0679-4650-a6d0-13040f2d5a0a",
   "metadata": {},
   "outputs": [],
   "source": [
    "x.shape"
   ]
  },
  {
   "cell_type": "code",
   "execution_count": null,
   "id": "bf2a5112-8b36-459d-be49-6b9163305cff",
   "metadata": {},
   "outputs": [],
   "source": [
    "gt_x1.shape"
   ]
  },
  {
   "cell_type": "code",
   "execution_count": null,
   "id": "810427a6-8fcd-45d0-a78a-7190784e0535",
   "metadata": {},
   "outputs": [],
   "source": [
    "from tqdm.notebook import trange\n",
    "\n",
    "fids = []\n",
    "\n",
    "for i in trange(x.shape[1]): # across timesteps\n",
    "    lat = x[:, i, :, :]\n",
    "    fid = parmar_fid(gt_x1, lat.mean(axis=1))\n",
    "    fids.append(fid)"
   ]
  },
  {
   "cell_type": "code",
   "execution_count": null,
   "id": "a871ff08-2b12-4aec-b369-4e0b53cf6b5d",
   "metadata": {},
   "outputs": [],
   "source": [
    "fig,ax = plt.subplots(1,1,dpi=200, figsize=(4,4))\n",
    "ax.plot(fids)\n",
    "ax.set_xlabel(\"Sampling Timestep\")\n",
    "ax.set_ylabel(\"FID\")"
   ]
  },
  {
   "cell_type": "code",
   "execution_count": null,
   "id": "0c527894-d4c3-4603-9bd0-e0e86331c483",
   "metadata": {},
   "outputs": [],
   "source": [
    "np.array(fids) * 10"
   ]
  },
  {
   "cell_type": "code",
   "execution_count": null,
   "id": "a2a97935-4ce5-4022-9855-8693a8454ced",
   "metadata": {},
   "outputs": [],
   "source": []
  },
  {
   "cell_type": "code",
   "execution_count": null,
   "id": "6d415b59-0b58-4a4d-be94-1e8b904f231b",
   "metadata": {},
   "outputs": [],
   "source": []
  },
  {
   "cell_type": "code",
   "execution_count": null,
   "id": "d96ac71b-923c-44ca-a3cb-be82a48d93e2",
   "metadata": {},
   "outputs": [],
   "source": []
  },
  {
   "cell_type": "code",
   "execution_count": null,
   "id": "69cee7d0-443c-44e8-9480-63d7c7e58967",
   "metadata": {},
   "outputs": [],
   "source": []
  },
  {
   "cell_type": "code",
   "execution_count": null,
   "id": "0976d5d8-fd29-4978-a543-2b8de3f68c89",
   "metadata": {},
   "outputs": [],
   "source": []
  },
  {
   "cell_type": "code",
   "execution_count": null,
   "id": "f09ba72e-929a-4341-ac12-e4a89a9d12dd",
   "metadata": {},
   "outputs": [],
   "source": []
  },
  {
   "cell_type": "code",
   "execution_count": null,
   "id": "aee9d977-0055-4f0d-8891-76ddb1681644",
   "metadata": {},
   "outputs": [],
   "source": []
  },
  {
   "cell_type": "code",
   "execution_count": null,
   "id": "06e8ef6d-b47e-45f9-b1a3-4192d06ac317",
   "metadata": {},
   "outputs": [],
   "source": []
  },
  {
   "cell_type": "code",
   "execution_count": null,
   "id": "bcd86b4e-9fab-4bf7-abd1-6a7533515dd3",
   "metadata": {},
   "outputs": [],
   "source": []
  },
  {
   "cell_type": "code",
   "execution_count": null,
   "id": "071a16fb-0761-41a7-bf23-41451cdbd75d",
   "metadata": {},
   "outputs": [],
   "source": []
  }
 ],
 "metadata": {
  "kernelspec": {
   "display_name": "Python (plaid-train)",
   "language": "python",
   "name": "plaid-train"
  },
  "language_info": {
   "codemirror_mode": {
    "name": "ipython",
    "version": 3
   },
   "file_extension": ".py",
   "mimetype": "text/x-python",
   "name": "python",
   "nbconvert_exporter": "python",
   "pygments_lexer": "ipython3",
   "version": "3.10.14"
  }
 },
 "nbformat": 4,
 "nbformat_minor": 5
}
