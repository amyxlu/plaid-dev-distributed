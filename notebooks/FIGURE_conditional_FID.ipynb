{
 "cells": [
  {
   "cell_type": "code",
   "execution_count": 1,
   "id": "c9cfc485-3573-4f37-933f-2b9b9cede31d",
   "metadata": {},
   "outputs": [],
   "source": [
    "%load_ext autoreload\n",
    "%autoreload 2"
   ]
  },
  {
   "cell_type": "code",
   "execution_count": 9,
   "id": "d20b5781-26bd-4b39-a6cf-cfbacb0ecf18",
   "metadata": {},
   "outputs": [],
   "source": [
    "import safetensors\n",
    "from safetensors import safe_open\n",
    "import torch\n",
    "from pathlib import Path\n",
    "import numpy as np\n",
    "import random\n",
    "import seaborn as sns\n",
    "import matplotlib.pyplot as plt"
   ]
  },
  {
   "cell_type": "code",
   "execution_count": 3,
   "id": "919fb1f4-46b4-40d2-b0c8-88274ce1171d",
   "metadata": {},
   "outputs": [
    {
     "data": {
      "text/plain": [
       "<torch._C.Generator at 0x7efcc806c030>"
      ]
     },
     "execution_count": 3,
     "metadata": {},
     "output_type": "execute_result"
    }
   ],
   "source": [
    "random.seed(42)\n",
    "np.random.seed(42)\n",
    "torch.manual_seed(42)"
   ]
  },
  {
   "cell_type": "markdown",
   "id": "5c249b25-1dd0-4471-b5e8-f1aa174d81eb",
   "metadata": {},
   "source": [
    "# Baseline"
   ]
  },
  {
   "cell_type": "code",
   "execution_count": 4,
   "id": "ef6aa4c5-94a6-44b2-a31c-9723f9291e2c",
   "metadata": {},
   "outputs": [
    {
     "name": "stdout",
     "output_type": "stream",
     "text": [
      "torch.Size([11886, 32])\n"
     ]
    }
   ],
   "source": [
    "feature_path = \"/data/lux70/data/pfam/features/all.pt\"\n",
    "with safe_open(feature_path, \"pt\") as f:\n",
    "    features = f.get_tensor('features')\n",
    "\n",
    "print(features.shape)\n",
    "\n",
    "NUM_TO_EVAL = 512\n",
    "idxs = np.arange(NUM_TO_EVAL * 2)\n",
    "np.random.shuffle(idxs)\n",
    "\n",
    "idxs1 = idxs[:NUM_TO_EVAL]\n",
    "idxs2 = idxs[NUM_TO_EVAL:]\n",
    "\n",
    "gt_x1 = features[idxs1].numpy()\n",
    "gt_x2 = features[idxs2].numpy()"
   ]
  },
  {
   "cell_type": "code",
   "execution_count": 5,
   "id": "76505600-7128-49ca-9c8d-1d405ece36ba",
   "metadata": {},
   "outputs": [],
   "source": [
    "from plaid.evaluation import parmar_kid, parmar_fid, ConditionalFID"
   ]
  },
  {
   "cell_type": "code",
   "execution_count": 6,
   "id": "f9dfbe48-3cc0-4af9-8cbc-9f9068747baa",
   "metadata": {},
   "outputs": [
    {
     "name": "stdout",
     "output_type": "stream",
     "text": [
      "0.004427324210236727\n"
     ]
    }
   ],
   "source": [
    "uncond_gt_fid = parmar_fid(gt_x1, gt_x2)\n",
    "print(uncond_gt_fid)"
   ]
  },
  {
   "cell_type": "code",
   "execution_count": 7,
   "id": "e12a5876-8672-4611-804f-41b3d0ce2fb6",
   "metadata": {},
   "outputs": [
    {
     "data": {
      "text/plain": [
       "-3.0023683074134057e-05"
      ]
     },
     "execution_count": 7,
     "metadata": {},
     "output_type": "execute_result"
    }
   ],
   "source": [
    "parmar_kid(gt_x1, gt_x2)"
   ]
  },
  {
   "cell_type": "markdown",
   "id": "fc87b378-0218-453d-94c0-8c25a600fbe6",
   "metadata": {},
   "source": [
    "### Unconditional to Random"
   ]
  },
  {
   "cell_type": "code",
   "execution_count": 10,
   "id": "380657ff-f4e6-4fbb-8f61-65200451b63f",
   "metadata": {},
   "outputs": [
    {
     "data": {
      "image/png": "[encoded data removed]",
      "text/plain": [
       "<Figure size 640x480 with 1 Axes>"
      ]
     },
     "metadata": {},
     "output_type": "display_data"
    }
   ],
   "source": [
    "# from scipy.stats import beta\n",
    "\n",
    "# # Beta distribution parameters can be tweaked for a Gaussian-like shape\n",
    "# alpha, beta_param = 8, 8\n",
    "# samples = beta(alpha, beta_param).rvs(1000)\n",
    "\n",
    "# # Rescale to [-1, 1]\n",
    "# bounded_samples = 2 * samples - 0.9\n",
    "# print(bounded_samples.shape)\n",
    "# _ = plt.hist(bounded_samples.flatten(),bins=100)\n",
    "\n",
    "\n",
    "random = np.random.normal(0, 0.3, (512, 32))\n",
    "_ = plt.hist(random.flatten(), bins=100)"
   ]
  },
  {
   "cell_type": "code",
   "execution_count": 11,
   "id": "0cbb2ba4-6e04-4b6f-ad13-fef21ddad595",
   "metadata": {},
   "outputs": [
    {
     "name": "stdout",
     "output_type": "stream",
     "text": [
      "3.6711824541849736\n"
     ]
    }
   ],
   "source": [
    "random_fid = parmar_fid(random, gt_x1)\n",
    "print(random_fid)"
   ]
  },
  {
   "cell_type": "code",
   "execution_count": 12,
   "id": "4026a222-d04f-458a-9385-6876fa4e6ff3",
   "metadata": {},
   "outputs": [
    {
     "data": {
      "text/plain": [
       "3.6874570378098825"
      ]
     },
     "execution_count": 12,
     "metadata": {},
     "output_type": "execute_result"
    }
   ],
   "source": [
    "parmar_fid(random, gt_x2)"
   ]
  },
  {
   "cell_type": "markdown",
   "id": "c95ab981-d75e-497d-bf3b-00c1a7917bbd",
   "metadata": {},
   "source": [
    "# Unconditional generation performance"
   ]
  },
  {
   "cell_type": "code",
   "execution_count": 13,
   "id": "ea061b2d-ceba-436d-bec7-2e3ab45ec09a",
   "metadata": {},
   "outputs": [
    {
     "name": "stdout",
     "output_type": "stream",
     "text": [
      "(1024, 128, 32)\n"
     ]
    }
   ],
   "source": [
    "with np.load(\"/data/lux70/plaid/artifacts/samples/5j007z42/f2219_o3617/240907_0658/latent.npz\", allow_pickle=True) as f:\n",
    "    uncond_gen = f['samples']\n",
    "\n",
    "print(uncond_gen.shape)\n",
    "uncond_gen = uncond_gen.astype(np.float32)"
   ]
  },
  {
   "cell_type": "code",
   "execution_count": 14,
   "id": "dd182b05-f399-4e98-ac4c-2077b7888961",
   "metadata": {},
   "outputs": [
    {
     "name": "stdout",
     "output_type": "stream",
     "text": [
      "(512, 32)\n"
     ]
    }
   ],
   "source": [
    "idxs = np.arange(len(uncond_gen))\n",
    "np.random.shuffle(idxs)\n",
    "uncond_gen = uncond_gen[idxs[:NUM_TO_EVAL]]\n",
    "uncond_gen = uncond_gen.mean(axis=1)\n",
    "print(uncond_gen.shape)"
   ]
  },
  {
   "cell_type": "code",
   "execution_count": 15,
   "id": "4d9429ea-64fe-4b91-b717-bd5e848f1e7f",
   "metadata": {},
   "outputs": [
    {
     "name": "stdout",
     "output_type": "stream",
     "text": [
      "0.07651111395878912\n",
      "0.08356994516211258\n"
     ]
    }
   ],
   "source": [
    "uncond_gen_fid = parmar_fid(gt_x1, uncond_gen)\n",
    "print(uncond_gen_fid)\n",
    "\n",
    "# just to double check, use the other chunk too\n",
    "print(parmar_fid(gt_x2, uncond_gen))"
   ]
  },
  {
   "cell_type": "code",
   "execution_count": 16,
   "id": "369eb593-b270-480f-bc7c-4b2bb28c96e0",
   "metadata": {},
   "outputs": [
    {
     "name": "stdout",
     "output_type": "stream",
     "text": [
      "0.002375873357582403\n",
      "0.002810228248864881\n"
     ]
    }
   ],
   "source": [
    "print(parmar_kid(gt_x1, uncond_gen))\n",
    "print(parmar_kid(gt_x2, uncond_gen))"
   ]
  },
  {
   "cell_type": "markdown",
   "id": "f9793047-307e-47eb-ad06-5c7595f67f6f",
   "metadata": {},
   "source": [
    "# Amass Conditional FID"
   ]
  },
  {
   "cell_type": "code",
   "execution_count": 167,
   "id": "850f90e9-d6f3-4fbe-a475-4cbf8fc55b19",
   "metadata": {},
   "outputs": [
    {
     "name": "stderr",
     "output_type": "stream",
     "text": [
      "/homefs/home/lux70/code/cheap-proteins/src/cheap/pretrained.py:32: FutureWarning: You are using `torch.load` with `weights_only=False` (the current default value), which uses the default pickle module implicitly. It is possible to construct malicious pickle data which will execute arbitrary code during unpickling (See https://github.com/pytorch/pytorch/blob/main/SECURITY.md#untrusted-models for more details). In a future release, the default value for `weights_only` will be flipped to `True`. This limits the functions that could be executed during unpickling. Arbitrary objects will no longer be allowed to be loaded via this mode unless they are explicitly allowlisted by the user via `torch.serialization.add_safe_globals`. We recommend you start setting `weights_only=True` for any use case where you don't have full control of the loaded file. Please open an issue on GitHub for any issues related to this experimental feature.\n",
      "  ckpt = torch.load(checkpoint_fpath)\n"
     ]
    },
    {
     "name": "stdout",
     "output_type": "stream",
     "text": [
      "Using tanh layer at bottleneck...\n",
      "Finished loading HPCT model with shorten factor 2 and 32 channel dimensions.\n",
      "Creating ESMFold embedding only model...\n",
      "ESMFold embedding only model created in 30.86 seconds\n"
     ]
    }
   ],
   "source": [
    "from cheap.pretrained import CHEAP_pfam_shorten_2_dim_32\n",
    "cheap_pipeline = CHEAP_pfam_shorten_2_dim_32()"
   ]
  },
  {
   "cell_type": "code",
   "execution_count": 18,
   "id": "aab94eaa-6872-4548-8588-8bdaba6a5f64",
   "metadata": {},
   "outputs": [],
   "source": [
    "from plaid.evaluation import ConditionalFID\n",
    "from pathlib import Path\n",
    "import glob\n",
    "import numpy as np\n",
    "import torch\n",
    "import os\n",
    "\n",
    "samples_dir = Path(\"/data/lux70/plaid/artifacts/samples/5j007z42/\")"
   ]
  },
  {
   "cell_type": "code",
   "execution_count": 170,
   "id": "92cfad19-056e-421e-be36-ae89e2a6ec76",
   "metadata": {},
   "outputs": [
    {
     "name": "stdout",
     "output_type": "stream",
     "text": [
      "/data/lux70/plaid/artifacts/samples/5j007z42/f2_o3617/240911_2240.npz\n",
      "f2_o3617 Generated <-> GT FID: 0.22431448614522595\n",
      "f2_o3617 Random Real <-> GT FID: 0.3501730364916279\n",
      "/data/lux70/plaid/artifacts/samples/5j007z42/f16_o3617/240912_1902.npz\n",
      "Found 231 samples for this condition.\n",
      "/data/lux70/plaid/artifacts/samples/5j007z42/f19_o3617/240912_1930.npz\n",
      "Found 152673 samples for this condition.\n",
      "f19_o3617 Generated <-> GT FID: 0.5580841357514196\n",
      "f19_o3617 Random Real <-> GT FID: 0.40443279015955497\n",
      "/data/lux70/plaid/artifacts/samples/5j007z42/f15_o3617/240912_0627.npz\n",
      "Found 929 samples for this condition.\n",
      "f15_o3617 Generated <-> GT FID: 0.2895154369618543\n",
      "f15_o3617 Random Real <-> GT FID: 0.3079078745317132\n",
      "/data/lux70/plaid/artifacts/samples/5j007z42/f1_o3617/240911_2010.npz\n",
      "f1_o3617 Generated <-> GT FID: 0.2618252301259568\n",
      "f1_o3617 Random Real <-> GT FID: 0.2999705215709382\n",
      "/data/lux70/plaid/artifacts/samples/5j007z42/f14_o3617/240912_0525.npz\n",
      "Found 1874 samples for this condition.\n",
      "f14_o3617 Generated <-> GT FID: 0.2044579015432289\n",
      "f14_o3617 Random Real <-> GT FID: 0.34471450061423137\n",
      "/data/lux70/plaid/artifacts/samples/5j007z42/f7_o3617/240912_0118.npz\n",
      "f7_o3617 Generated <-> GT FID: 0.2703340737507355\n",
      "f7_o3617 Random Real <-> GT FID: 0.5160364271078572\n",
      "/data/lux70/plaid/artifacts/samples/5j007z42/f13_o3617/240912_0435.npz\n",
      "Found 1633 samples for this condition.\n",
      "f13_o3617 Generated <-> GT FID: 0.11149456417905437\n",
      "f13_o3617 Random Real <-> GT FID: 0.48236159629781156\n",
      "/data/lux70/plaid/artifacts/samples/5j007z42/f6_o3617/240912_0028.npz\n",
      "f6_o3617 Generated <-> GT FID: 0.4588000317148956\n",
      "f6_o3617 Random Real <-> GT FID: 0.4324975902750142\n",
      "/data/lux70/plaid/artifacts/samples/5j007z42/f11_o3617/240912_0350.npz\n",
      "f11_o3617 Generated <-> GT FID: 0.10714309219338226\n",
      "f11_o3617 Random Real <-> GT FID: 0.5034840717387506\n",
      "/data/lux70/plaid/artifacts/samples/5j007z42/f10_o3617/240912_0257.npz\n",
      "f10_o3617 Generated <-> GT FID: 0.5131101443852841\n",
      "f10_o3617 Random Real <-> GT FID: 0.46543835663415967\n",
      "/data/lux70/plaid/artifacts/samples/5j007z42/f4_o3617/240911_2308.npz\n",
      "f4_o3617 Generated <-> GT FID: 0.31454378421416923\n",
      "f4_o3617 Random Real <-> GT FID: 0.4405794002325094\n",
      "/data/lux70/plaid/artifacts/samples/5j007z42/f8_o3617/240912_0233.npz\n",
      "f8_o3617 Generated <-> GT FID: 0.5586349092293659\n",
      "f8_o3617 Random Real <-> GT FID: 0.6199405032082033\n"
     ]
    }
   ],
   "source": [
    "def cond_code_to_idx(cond_code: str):\n",
    "    vals = cond_code.split(\"_\")\n",
    "    return int(vals[0][1:]), int(vals[1][1:])\n",
    "\n",
    "\n",
    "condgen_to_true = {}\n",
    "uncond_to_true = {}\n",
    "\n",
    "batch_size = 128\n",
    "\n",
    "\n",
    "for i, cond_code in enumerate(os.listdir(samples_dir)):\n",
    "    function_idx, organism_idx = cond_code_to_idx(cond_code)\n",
    "    timestamps = glob.glob(str(samples_dir / cond_code / \"*.npz\"))\n",
    "    \n",
    "    if len(timestamps) > 0:\n",
    "        try:\n",
    "            fpath = timestamps[-1]\n",
    "            print(fpath)\n",
    "    \n",
    "            cond_fid = ConditionalFID(\n",
    "                function_idx=function_idx,\n",
    "                organism_idx=organism_idx,\n",
    "                cheap_pipeline=cheap_pipeline,\n",
    "                batch_size=batch_size,\n",
    "                max_seq_len=256,\n",
    "                max_eval_samples=512\n",
    "            )\n",
    "            \n",
    "            with np.load(fpath, allow_pickle=True) as f:\n",
    "                x = f['samples'].astype(np.float32)\n",
    "    \n",
    "            feat = x[:, -1, :, :] # take last timestep only\n",
    "            feat = feat.mean(axis=1)\n",
    "            res = cond_fid.run(feat)\n",
    "            print(cond_code, \"Generated <-> GT FID:\", res)\n",
    "    \n",
    "            condgen_to_true[cond_code] = res\n",
    "    \n",
    "            # also try what happens if you do ground truth unconditional to conditional\n",
    "            res = parmar_fid(feat, gt_x1)\n",
    "            uncond_to_true[cond_code] = res\n",
    "            print(cond_code, \"Random Real <-> GT FID:\", res)\n",
    "        except Exception as e:\n",
    "            print(e)\n",
    "            continue\n",
    "            \n",
    "    else:\n",
    "        pass"
   ]
  },
  {
   "cell_type": "markdown",
   "id": "f3900743-70bc-48da-8503-9009e66afafd",
   "metadata": {},
   "source": [
    "# Plot"
   ]
  },
  {
   "cell_type": "code",
   "execution_count": 171,
   "id": "c1e291c4-b544-49d5-b542-7357000c856f",
   "metadata": {},
   "outputs": [],
   "source": [
    "# turn into dataframe\n",
    "df1 = pd.DataFrame(list(condgen_to_true.items()), columns=['Key', 'condgen_to_true'])\n",
    "df2 = pd.DataFrame(list(uncond_to_true.items()), columns=['Key', 'uncond_to_true'])\n",
    "combined_df = pd.merge(df1, df2, on='Key')\n",
    "combined_df[\"GO_idx\"] = combined_df['Key'].map(lambda x: cond_code_to_idx(x)[0])\n",
    "combined_df[\"organism_index\"] = combined_df['Key'].map(lambda x: cond_code_to_idx(x)[1])\n",
    "\n",
    "# attach GO metadata\n",
    "go_df = pd.read_csv(\"/data/lux70/data/pfam/go_index.csv\")\n",
    "combined_df = combined_df.merge(go_df)\n",
    "combined_df = combined_df.sort_values(by=\"count\")\n",
    "combined_df['delta'] = combined_df.condgen_to_true - combined_df.uncond_to_true"
   ]
  },
  {
   "cell_type": "code",
   "execution_count": 172,
   "id": "76224d25-8420-482e-bcce-6bdbd75662c7",
   "metadata": {},
   "outputs": [],
   "source": [
    "from matplotlib import cm\n",
    "from matplotlib.colors import Normalize\n",
    "\n",
    "values = combined_df['delta']\n",
    "norm = Normalize(vmin=min(values), vmax=max(values))\n",
    "\n",
    "colormap = cm.viridis  # You can replace 'viridis' with any other matplotlib colormap\n",
    "colors = colormap(norm(values))\n"
   ]
  },
  {
   "cell_type": "code",
   "execution_count": 173,
   "id": "860597d7-8112-4c27-a4c4-26a358540de2",
   "metadata": {},
   "outputs": [
    {
     "data": {
      "text/html": [
       "<div>\n",
       "<style scoped>\n",
       "    .dataframe tbody tr th:only-of-type {\n",
       "        vertical-align: middle;\n",
       "    }\n",
       "\n",
       "    .dataframe tbody tr th {\n",
       "        vertical-align: top;\n",
       "    }\n",
       "\n",
       "    .dataframe thead th {\n",
       "        text-align: right;\n",
       "    }\n",
       "</style>\n",
       "<table border=\"1\" class=\"dataframe\">\n",
       "  <thead>\n",
       "    <tr style=\"text-align: right;\">\n",
       "      <th></th>\n",
       "      <th>Key</th>\n",
       "      <th>condgen_to_true</th>\n",
       "      <th>uncond_to_true</th>\n",
       "      <th>GO_idx</th>\n",
       "      <th>organism_index</th>\n",
       "      <th>Unnamed: 0</th>\n",
       "      <th>GO_term</th>\n",
       "      <th>pfam_id</th>\n",
       "      <th>GO_id</th>\n",
       "      <th>GO_level</th>\n",
       "      <th>count</th>\n",
       "      <th>delta</th>\n",
       "    </tr>\n",
       "  </thead>\n",
       "  <tbody>\n",
       "    <tr>\n",
       "      <th>6</th>\n",
       "      <td>f13_o3617</td>\n",
       "      <td>0.111495</td>\n",
       "      <td>0.482362</td>\n",
       "      <td>13</td>\n",
       "      <td>3617</td>\n",
       "      <td>687</td>\n",
       "      <td>cysteine-type endopeptidase inhibitor activity</td>\n",
       "      <td>PF00031</td>\n",
       "      <td>GO:0004869</td>\n",
       "      <td>function</td>\n",
       "      <td>3</td>\n",
       "      <td>-0.370867</td>\n",
       "    </tr>\n",
       "    <tr>\n",
       "      <th>5</th>\n",
       "      <td>f7_o3617</td>\n",
       "      <td>0.270334</td>\n",
       "      <td>0.516036</td>\n",
       "      <td>7</td>\n",
       "      <td>3617</td>\n",
       "      <td>1914</td>\n",
       "      <td>serine-type endopeptidase inhibitor activity</td>\n",
       "      <td>PF00014</td>\n",
       "      <td>GO:0004867</td>\n",
       "      <td>function</td>\n",
       "      <td>11</td>\n",
       "      <td>-0.245702</td>\n",
       "    </tr>\n",
       "    <tr>\n",
       "      <th>3</th>\n",
       "      <td>f1_o3617</td>\n",
       "      <td>0.261825</td>\n",
       "      <td>0.299971</td>\n",
       "      <td>1</td>\n",
       "      <td>3617</td>\n",
       "      <td>54</td>\n",
       "      <td>ATP hydrolysis activity</td>\n",
       "      <td>PF00004</td>\n",
       "      <td>GO:0016887</td>\n",
       "      <td>function</td>\n",
       "      <td>15</td>\n",
       "      <td>-0.038145</td>\n",
       "    </tr>\n",
       "    <tr>\n",
       "      <th>8</th>\n",
       "      <td>f11_o3617</td>\n",
       "      <td>0.107143</td>\n",
       "      <td>0.503484</td>\n",
       "      <td>11</td>\n",
       "      <td>3617</td>\n",
       "      <td>922</td>\n",
       "      <td>growth factor activity</td>\n",
       "      <td>PF00019</td>\n",
       "      <td>GO:0008083</td>\n",
       "      <td>function</td>\n",
       "      <td>17</td>\n",
       "      <td>-0.396341</td>\n",
       "    </tr>\n",
       "    <tr>\n",
       "      <th>4</th>\n",
       "      <td>f14_o3617</td>\n",
       "      <td>0.204458</td>\n",
       "      <td>0.344715</td>\n",
       "      <td>14</td>\n",
       "      <td>3617</td>\n",
       "      <td>769</td>\n",
       "      <td>electron transfer activity</td>\n",
       "      <td>PF00032</td>\n",
       "      <td>GO:0009055</td>\n",
       "      <td>function</td>\n",
       "      <td>20</td>\n",
       "      <td>-0.140257</td>\n",
       "    </tr>\n",
       "    <tr>\n",
       "      <th>10</th>\n",
       "      <td>f4_o3617</td>\n",
       "      <td>0.314544</td>\n",
       "      <td>0.440579</td>\n",
       "      <td>4</td>\n",
       "      <td>3617</td>\n",
       "      <td>1634</td>\n",
       "      <td>protein dimerization activity</td>\n",
       "      <td>PF00010</td>\n",
       "      <td>GO:0046983</td>\n",
       "      <td>function</td>\n",
       "      <td>22</td>\n",
       "      <td>-0.126036</td>\n",
       "    </tr>\n",
       "    <tr>\n",
       "      <th>2</th>\n",
       "      <td>f15_o3617</td>\n",
       "      <td>0.289515</td>\n",
       "      <td>0.307908</td>\n",
       "      <td>15</td>\n",
       "      <td>3617</td>\n",
       "      <td>516</td>\n",
       "      <td>calcium ion binding</td>\n",
       "      <td>PF00036</td>\n",
       "      <td>GO:0005509</td>\n",
       "      <td>function</td>\n",
       "      <td>34</td>\n",
       "      <td>-0.018392</td>\n",
       "    </tr>\n",
       "    <tr>\n",
       "      <th>11</th>\n",
       "      <td>f8_o3617</td>\n",
       "      <td>0.558635</td>\n",
       "      <td>0.619941</td>\n",
       "      <td>8</td>\n",
       "      <td>3617</td>\n",
       "      <td>1931</td>\n",
       "      <td>signal transduction</td>\n",
       "      <td>PF00015</td>\n",
       "      <td>GO:0007165</td>\n",
       "      <td>process</td>\n",
       "      <td>34</td>\n",
       "      <td>-0.061306</td>\n",
       "    </tr>\n",
       "    <tr>\n",
       "      <th>7</th>\n",
       "      <td>f6_o3617</td>\n",
       "      <td>0.458800</td>\n",
       "      <td>0.432498</td>\n",
       "      <td>6</td>\n",
       "      <td>3617</td>\n",
       "      <td>247</td>\n",
       "      <td>RNA binding</td>\n",
       "      <td>PF00013</td>\n",
       "      <td>GO:0003723</td>\n",
       "      <td>function</td>\n",
       "      <td>118</td>\n",
       "      <td>0.026302</td>\n",
       "    </tr>\n",
       "    <tr>\n",
       "      <th>9</th>\n",
       "      <td>f10_o3617</td>\n",
       "      <td>0.513110</td>\n",
       "      <td>0.465438</td>\n",
       "      <td>10</td>\n",
       "      <td>3617</td>\n",
       "      <td>1629</td>\n",
       "      <td>protein binding</td>\n",
       "      <td>PF00018</td>\n",
       "      <td>GO:0005515</td>\n",
       "      <td>function</td>\n",
       "      <td>122</td>\n",
       "      <td>0.047672</td>\n",
       "    </tr>\n",
       "    <tr>\n",
       "      <th>0</th>\n",
       "      <td>f2_o3617</td>\n",
       "      <td>0.224314</td>\n",
       "      <td>0.350173</td>\n",
       "      <td>2</td>\n",
       "      <td>3617</td>\n",
       "      <td>52</td>\n",
       "      <td>ATP binding</td>\n",
       "      <td>PF00006</td>\n",
       "      <td>GO:0005524</td>\n",
       "      <td>function</td>\n",
       "      <td>178</td>\n",
       "      <td>-0.125859</td>\n",
       "    </tr>\n",
       "    <tr>\n",
       "      <th>1</th>\n",
       "      <td>f19_o3617</td>\n",
       "      <td>0.558084</td>\n",
       "      <td>0.404433</td>\n",
       "      <td>19</td>\n",
       "      <td>3617</td>\n",
       "      <td>99</td>\n",
       "      <td>DNA binding</td>\n",
       "      <td>PF00046</td>\n",
       "      <td>GO:0003677</td>\n",
       "      <td>function</td>\n",
       "      <td>320</td>\n",
       "      <td>0.153651</td>\n",
       "    </tr>\n",
       "  </tbody>\n",
       "</table>\n",
       "</div>"
      ],
      "text/plain": [
       "          Key  condgen_to_true  uncond_to_true  GO_idx  organism_index  \\\n",
       "6   f13_o3617         0.111495        0.482362      13            3617   \n",
       "5    f7_o3617         0.270334        0.516036       7            3617   \n",
       "3    f1_o3617         0.261825        0.299971       1            3617   \n",
       "8   f11_o3617         0.107143        0.503484      11            3617   \n",
       "4   f14_o3617         0.204458        0.344715      14            3617   \n",
       "10   f4_o3617         0.314544        0.440579       4            3617   \n",
       "2   f15_o3617         0.289515        0.307908      15            3617   \n",
       "11   f8_o3617         0.558635        0.619941       8            3617   \n",
       "7    f6_o3617         0.458800        0.432498       6            3617   \n",
       "9   f10_o3617         0.513110        0.465438      10            3617   \n",
       "0    f2_o3617         0.224314        0.350173       2            3617   \n",
       "1   f19_o3617         0.558084        0.404433      19            3617   \n",
       "\n",
       "    Unnamed: 0                                         GO_term  pfam_id  \\\n",
       "6          687  cysteine-type endopeptidase inhibitor activity  PF00031   \n",
       "5         1914    serine-type endopeptidase inhibitor activity  PF00014   \n",
       "3           54                         ATP hydrolysis activity  PF00004   \n",
       "8          922                          growth factor activity  PF00019   \n",
       "4          769                      electron transfer activity  PF00032   \n",
       "10        1634                   protein dimerization activity  PF00010   \n",
       "2          516                             calcium ion binding  PF00036   \n",
       "11        1931                             signal transduction  PF00015   \n",
       "7          247                                     RNA binding  PF00013   \n",
       "9         1629                                 protein binding  PF00018   \n",
       "0           52                                     ATP binding  PF00006   \n",
       "1           99                                     DNA binding  PF00046   \n",
       "\n",
       "         GO_id  GO_level  count     delta  \n",
       "6   GO:0004869  function      3 -0.370867  \n",
       "5   GO:0004867  function     11 -0.245702  \n",
       "3   GO:0016887  function     15 -0.038145  \n",
       "8   GO:0008083  function     17 -0.396341  \n",
       "4   GO:0009055  function     20 -0.140257  \n",
       "10  GO:0046983  function     22 -0.126036  \n",
       "2   GO:0005509  function     34 -0.018392  \n",
       "11  GO:0007165   process     34 -0.061306  \n",
       "7   GO:0003723  function    118  0.026302  \n",
       "9   GO:0005515  function    122  0.047672  \n",
       "0   GO:0005524  function    178 -0.125859  \n",
       "1   GO:0003677  function    320  0.153651  "
      ]
     },
     "execution_count": 173,
     "metadata": {},
     "output_type": "execute_result"
    }
   ],
   "source": [
    "combined_df"
   ]
  },
  {
   "cell_type": "code",
   "execution_count": 174,
   "id": "039fc281-049d-4cb0-8052-c035c6732383",
   "metadata": {},
   "outputs": [
    {
     "data": {
      "text/plain": [
       "<matplotlib.legend.Legend at 0x7f61fa3c2260>"
      ]
     },
     "execution_count": 174,
     "metadata": {},
     "output_type": "execute_result"
    },
    {
     "data": {
      "image/png": "[encoded data removed]",
      "text/plain": [
       "<Figure size 900x450 with 1 Axes>"
      ]
     },
     "metadata": {},
     "output_type": "display_data"
    }
   ],
   "source": [
    "fig, ax = plt.subplots(1, 1, dpi=150, figsize=(6,3))\n",
    "ax.scatter(np.arange(len(combined_df)), combined_df['condgen_to_true'].values, label=\"Generated\", s=30, c=\"navy\")\n",
    "# ax.scatter(np.arange(len(combined_df)), combined_df['uncond_to_true'].values, label=\"Random Validation Set Samples\",s=15, c=colors, marker=\"D\")\n",
    "ax.scatter(np.arange(len(combined_df)), combined_df['uncond_to_true'].values, label=\"Random Validation Set Samples\",s=10, c=\"lightskyblue\", marker=\"D\")\n",
    "ax.set_xticks(ticks=np.arange(len(combined_df)), labels=combined_df.GO_term.values, rotation=90)\n",
    "\n",
    "ax.axhline(y=uncond_gt_fid, color='green', linestyle='--', label=\"Natural Proteins\")\n",
    "ax.axhline(y=uncond_gen_fid, color='orange', linestyle='--', label=\"Unconditional FID\")\n",
    "\n",
    "\n",
    "### TODO: modify upper bound on y lim as needed\n",
    "### TODO: wrap text?\n",
    "\n",
    "ax.set_ylim(0,1.2)\n",
    "ax.set_xlabel(\"GO Term (sorted in ascending order of prevalence)\")\n",
    "ax.set_ylabel(\"FID (lower is better)\")\n",
    "\n",
    "plt.legend()"
   ]
  },
  {
   "cell_type": "code",
   "execution_count": 175,
   "id": "e8ed6cd8-dae0-4365-add2-e1b8fcd09506",
   "metadata": {},
   "outputs": [
    {
     "data": {
      "text/html": [
       "<div>\n",
       "<style scoped>\n",
       "    .dataframe tbody tr th:only-of-type {\n",
       "        vertical-align: middle;\n",
       "    }\n",
       "\n",
       "    .dataframe tbody tr th {\n",
       "        vertical-align: top;\n",
       "    }\n",
       "\n",
       "    .dataframe thead th {\n",
       "        text-align: right;\n",
       "    }\n",
       "</style>\n",
       "<table border=\"1\" class=\"dataframe\">\n",
       "  <thead>\n",
       "    <tr style=\"text-align: right;\">\n",
       "      <th></th>\n",
       "      <th>Key</th>\n",
       "      <th>condgen_to_true</th>\n",
       "      <th>uncond_to_true</th>\n",
       "      <th>GO_idx</th>\n",
       "      <th>organism_index</th>\n",
       "      <th>Unnamed: 0</th>\n",
       "      <th>GO_term</th>\n",
       "      <th>pfam_id</th>\n",
       "      <th>GO_id</th>\n",
       "      <th>GO_level</th>\n",
       "      <th>count</th>\n",
       "      <th>delta</th>\n",
       "    </tr>\n",
       "  </thead>\n",
       "  <tbody>\n",
       "    <tr>\n",
       "      <th>6</th>\n",
       "      <td>f13_o3617</td>\n",
       "      <td>0.111495</td>\n",
       "      <td>0.482362</td>\n",
       "      <td>13</td>\n",
       "      <td>3617</td>\n",
       "      <td>687</td>\n",
       "      <td>cysteine-type endopeptidase inhibitor activity</td>\n",
       "      <td>PF00031</td>\n",
       "      <td>GO:0004869</td>\n",
       "      <td>function</td>\n",
       "      <td>3</td>\n",
       "      <td>-0.370867</td>\n",
       "    </tr>\n",
       "    <tr>\n",
       "      <th>5</th>\n",
       "      <td>f7_o3617</td>\n",
       "      <td>0.270334</td>\n",
       "      <td>0.516036</td>\n",
       "      <td>7</td>\n",
       "      <td>3617</td>\n",
       "      <td>1914</td>\n",
       "      <td>serine-type endopeptidase inhibitor activity</td>\n",
       "      <td>PF00014</td>\n",
       "      <td>GO:0004867</td>\n",
       "      <td>function</td>\n",
       "      <td>11</td>\n",
       "      <td>-0.245702</td>\n",
       "    </tr>\n",
       "    <tr>\n",
       "      <th>3</th>\n",
       "      <td>f1_o3617</td>\n",
       "      <td>0.261825</td>\n",
       "      <td>0.299971</td>\n",
       "      <td>1</td>\n",
       "      <td>3617</td>\n",
       "      <td>54</td>\n",
       "      <td>ATP hydrolysis activity</td>\n",
       "      <td>PF00004</td>\n",
       "      <td>GO:0016887</td>\n",
       "      <td>function</td>\n",
       "      <td>15</td>\n",
       "      <td>-0.038145</td>\n",
       "    </tr>\n",
       "    <tr>\n",
       "      <th>8</th>\n",
       "      <td>f11_o3617</td>\n",
       "      <td>0.107143</td>\n",
       "      <td>0.503484</td>\n",
       "      <td>11</td>\n",
       "      <td>3617</td>\n",
       "      <td>922</td>\n",
       "      <td>growth factor activity</td>\n",
       "      <td>PF00019</td>\n",
       "      <td>GO:0008083</td>\n",
       "      <td>function</td>\n",
       "      <td>17</td>\n",
       "      <td>-0.396341</td>\n",
       "    </tr>\n",
       "    <tr>\n",
       "      <th>4</th>\n",
       "      <td>f14_o3617</td>\n",
       "      <td>0.204458</td>\n",
       "      <td>0.344715</td>\n",
       "      <td>14</td>\n",
       "      <td>3617</td>\n",
       "      <td>769</td>\n",
       "      <td>electron transfer activity</td>\n",
       "      <td>PF00032</td>\n",
       "      <td>GO:0009055</td>\n",
       "      <td>function</td>\n",
       "      <td>20</td>\n",
       "      <td>-0.140257</td>\n",
       "    </tr>\n",
       "  </tbody>\n",
       "</table>\n",
       "</div>"
      ],
      "text/plain": [
       "         Key  condgen_to_true  uncond_to_true  GO_idx  organism_index  \\\n",
       "6  f13_o3617         0.111495        0.482362      13            3617   \n",
       "5   f7_o3617         0.270334        0.516036       7            3617   \n",
       "3   f1_o3617         0.261825        0.299971       1            3617   \n",
       "8  f11_o3617         0.107143        0.503484      11            3617   \n",
       "4  f14_o3617         0.204458        0.344715      14            3617   \n",
       "\n",
       "   Unnamed: 0                                         GO_term  pfam_id  \\\n",
       "6         687  cysteine-type endopeptidase inhibitor activity  PF00031   \n",
       "5        1914    serine-type endopeptidase inhibitor activity  PF00014   \n",
       "3          54                         ATP hydrolysis activity  PF00004   \n",
       "8         922                          growth factor activity  PF00019   \n",
       "4         769                      electron transfer activity  PF00032   \n",
       "\n",
       "        GO_id  GO_level  count     delta  \n",
       "6  GO:0004869  function      3 -0.370867  \n",
       "5  GO:0004867  function     11 -0.245702  \n",
       "3  GO:0016887  function     15 -0.038145  \n",
       "8  GO:0008083  function     17 -0.396341  \n",
       "4  GO:0009055  function     20 -0.140257  "
      ]
     },
     "execution_count": 175,
     "metadata": {},
     "output_type": "execute_result"
    }
   ],
   "source": [
    "combined_df.head()"
   ]
  },
  {
   "cell_type": "code",
   "execution_count": 176,
   "id": "7401ed09-8d69-4a82-81a3-1a83b49460fc",
   "metadata": {},
   "outputs": [],
   "source": [
    "combined_df.to_csv(\"~/cond_fid_tmp.csv\", sep=\",\")"
   ]
  },
  {
   "cell_type": "markdown",
   "id": "2e0fb1b8-c21a-45c6-b286-60d3b59767c9",
   "metadata": {},
   "source": [
    "# Across Sampling Timesteps"
   ]
  },
  {
   "cell_type": "code",
   "execution_count": 26,
   "id": "25e598d1-f2bc-4c5d-b528-d13daf0edd96",
   "metadata": {},
   "outputs": [
    {
     "name": "stdout",
     "output_type": "stream",
     "text": [
      "/data/lux70/plaid/artifacts/samples/5j007z42/old/240911_2010/latent.npz\n"
     ]
    }
   ],
   "source": [
    "!ls /data/lux70/plaid/artifacts/samples/5j007z42/old/240911_2010/latent.npz"
   ]
  },
  {
   "cell_type": "code",
   "execution_count": 27,
   "id": "50387bde-cebc-4afa-b05c-7840fab3b488",
   "metadata": {},
   "outputs": [],
   "source": [
    "# oopsies on the path\n",
    "\n",
    "latent_path = Path(\"/data/lux70/plaid/artifacts/samples/5j007z42/old/240911_2010/latent.npz\")\n",
    "cond_code = \"f13_o3617\"  # cysteine-type endopeptidase inhibitor activity\n",
    "\n",
    "with np.load(latent_path) as f:\n",
    "    x = f['samples']\n"
   ]
  },
  {
   "cell_type": "code",
   "execution_count": 28,
   "id": "36201f9d-0679-4650-a6d0-13040f2d5a0a",
   "metadata": {},
   "outputs": [
    {
     "data": {
      "text/plain": [
       "(512, 501, 64, 32)"
      ]
     },
     "execution_count": 28,
     "metadata": {},
     "output_type": "execute_result"
    }
   ],
   "source": [
    "x.shape"
   ]
  },
  {
   "cell_type": "code",
   "execution_count": 30,
   "id": "bf2a5112-8b36-459d-be49-6b9163305cff",
   "metadata": {},
   "outputs": [
    {
     "data": {
      "text/plain": [
       "(512, 32)"
      ]
     },
     "execution_count": 30,
     "metadata": {},
     "output_type": "execute_result"
    }
   ],
   "source": [
    "gt_x1.shape"
   ]
  },
  {
   "cell_type": "code",
   "execution_count": 32,
   "id": "810427a6-8fcd-45d0-a78a-7190784e0535",
   "metadata": {},
   "outputs": [
    {
     "data": {
      "application/vnd.jupyter.widget-view+json": {
       "model_id": "c2d7b41c58a343a3b57026f6df97aca0",
       "version_major": 2,
       "version_minor": 0
      },
      "text/plain": [
       "  0%|          | 0/501 [00:00<?, ?it/s]"
      ]
     },
     "metadata": {},
     "output_type": "display_data"
    }
   ],
   "source": [
    "from tqdm.notebook import trange\n",
    "\n",
    "fids = []\n",
    "\n",
    "for i in trange(x.shape[1]): # across timesteps\n",
    "    lat = x[:, i, :, :]\n",
    "    fid = parmar_fid(gt_x1, lat.mean(axis=1))\n",
    "    fids.append(fid)"
   ]
  },
  {
   "cell_type": "code",
   "execution_count": 41,
   "id": "a871ff08-2b12-4aec-b369-4e0b53cf6b5d",
   "metadata": {},
   "outputs": [
    {
     "data": {
      "text/plain": [
       "Text(0, 0.5, 'FID')"
      ]
     },
     "execution_count": 41,
     "metadata": {},
     "output_type": "execute_result"
    },
    {
     "data": {
      "image/png": "[encoded data removed]",
      "text/plain": [
       "<Figure size 800x800 with 1 Axes>"
      ]
     },
     "metadata": {},
     "output_type": "display_data"
    }
   ],
   "source": [
    "fig,ax = plt.subplots(1,1,dpi=200, figsize=(4,4))\n",
    "ax.plot(fids)\n",
    "ax.set_xlabel(\"Sampling Timestep\")\n",
    "ax.set_ylabel(\"FID\")"
   ]
  },
  {
   "cell_type": "code",
   "execution_count": 46,
   "id": "0c527894-d4c3-4603-9bd0-e0e86331c483",
   "metadata": {},
   "outputs": [
    {
     "data": {
      "text/plain": [
       "array([20.82983691, 20.82983691, 20.77924247, 20.74089435, 20.71115266,\n",
       "       20.68616192, 20.66260001, 20.63977615, 20.61718973, 20.59377044,\n",
       "       20.56939729, 20.54426831, 20.51743677, 20.48986809, 20.46130177,\n",
       "       20.43119592, 20.39998558, 20.367356  , 20.33379954, 20.29879428,\n",
       "       20.26301748, 20.22679921, 20.18939789, 20.15146616, 20.11275051,\n",
       "       20.07394861, 20.03418312, 19.99389934, 19.95323274, 19.9128438 ,\n",
       "       19.87225523, 19.83060905, 19.78864442, 19.74680617, 19.70409088,\n",
       "       19.66151433, 19.61772462, 19.57398237, 19.5303921 , 19.48677134,\n",
       "       19.4418162 , 19.39730613, 19.35150614, 19.30604584, 19.2588524 ,\n",
       "       19.21262305, 19.16503584, 19.11639889, 19.06843868, 19.01910253,\n",
       "       18.97075934, 18.92182347, 18.8709118 , 18.82028099, 18.76853984,\n",
       "       18.71652336, 18.66419931, 18.61137295, 18.55664477, 18.50221254,\n",
       "       18.44714029, 18.39201725, 18.33512468, 18.27828631, 18.22090007,\n",
       "       18.16285863, 18.10503756, 18.04634104, 17.98744426, 17.92774677,\n",
       "       17.86850463, 17.80788064, 17.74821581, 17.6863313 , 17.62580213,\n",
       "       17.56386207, 17.50231193, 17.43973028, 17.3782226 , 17.31534347,\n",
       "       17.25240795, 17.18868572, 17.12531251, 17.06155265, 16.99812193,\n",
       "       16.93328431, 16.86942562, 16.80478756, 16.73979882, 16.6750215 ,\n",
       "       16.60997737, 16.54495983, 16.47940012, 16.41404289, 16.34813833,\n",
       "       16.28166419, 16.21595711, 16.14967829, 16.08376784, 16.0173489 ,\n",
       "       15.95069446, 15.88408657, 15.81770095, 15.75071796, 15.68379021,\n",
       "       15.61684872, 15.54959182, 15.48180967, 15.41436315, 15.34723497,\n",
       "       15.27985067, 15.21214674, 15.14454261, 15.07637467, 15.00885528,\n",
       "       14.94011468, 14.87266928, 14.80442969, 14.73571726, 14.66819455,\n",
       "       14.59996067, 14.53227011, 14.46405915, 14.39516451, 14.32708287,\n",
       "       14.25902884, 14.19005589, 14.12220773, 14.05395388, 13.98455957,\n",
       "       13.91654066, 13.84816302, 13.7794905 , 13.71180794, 13.64258128,\n",
       "       13.57367491, 13.50470073, 13.43730468, 13.36878432, 13.30080953,\n",
       "       13.23240968, 13.16477421, 13.0970218 , 13.02850654, 12.96006635,\n",
       "       12.89280469, 12.82446838, 12.7575357 , 12.689247  , 12.62155193,\n",
       "       12.55415095, 12.48728338, 12.41987449, 12.35218869, 12.28453866,\n",
       "       12.2178473 , 12.15005903, 12.08385907, 12.01761804, 11.9497402 ,\n",
       "       11.88318277, 11.81687414, 11.7501419 , 11.68453734, 11.6181827 ,\n",
       "       11.55203595, 11.48623078, 11.42012163, 11.35500881, 11.28852369,\n",
       "       11.22416725, 11.15896137, 11.09315979, 11.02887228, 10.96334749,\n",
       "       10.89892921, 10.83477814, 10.76942651, 10.70561465, 10.64196187,\n",
       "       10.57842468, 10.51525562, 10.45053316, 10.38774623, 10.32501694,\n",
       "       10.26136912, 10.19808759, 10.13512686, 10.0733466 , 10.01099586,\n",
       "        9.94881294,  9.88596463,  9.82532603,  9.76322228,  9.70226528,\n",
       "        9.64095687,  9.58005894,  9.5195978 ,  9.45923118,  9.39778486,\n",
       "        9.33711854,  9.27678603,  9.2168218 ,  9.15859452,  9.09746744,\n",
       "        9.03721778,  8.97857764,  8.92133086,  8.86209229,  8.80354536,\n",
       "        8.74542071,  8.68680697,  8.62967827,  8.57204942,  8.51444207,\n",
       "        8.457782  ,  8.40122978,  8.34421918,  8.28898406,  8.23178362,\n",
       "        8.1764857 ,  8.12105892,  8.06664614,  8.01000385,  7.95651614,\n",
       "        7.90149068,  7.84761625,  7.79348294,  7.73969547,  7.68591827,\n",
       "        7.63251702,  7.57980841,  7.52673001,  7.47459239,  7.42330912,\n",
       "        7.37129177,  7.31892449,  7.26949436,  7.21794087,  7.16768986,\n",
       "        7.11747163,  7.0676185 ,  7.01785931,  6.96829279,  6.91966231,\n",
       "        6.87074258,  6.82270729,  6.77292658,  6.72580886,  6.67895566,\n",
       "        6.63173132,  6.58399169,  6.53793478,  6.49113399,  6.44545543,\n",
       "        6.39824556,  6.35430171,  6.30864926,  6.26469473,  6.21986451,\n",
       "        6.17644989,  6.13165806,  6.08748956,  6.04465342,  6.00199138,\n",
       "        5.96023918,  5.91800983,  5.8758853 ,  5.83521839,  5.7934285 ,\n",
       "        5.75349477,  5.71219679,  5.67219163,  5.6332016 ,  5.59381868,\n",
       "        5.55459849,  5.51668093,  5.47764812,  5.43960749,  5.40246266,\n",
       "        5.36575106,  5.32923343,  5.29201843,  5.254861  ,  5.21947363,\n",
       "        5.18322515,  5.14946302,  5.11359387,  5.07863703,  5.04471858,\n",
       "        5.0116853 ,  4.9771498 ,  4.94382976,  4.91069032,  4.87859258,\n",
       "        4.84561986,  4.81434719,  4.78244623,  4.75144533,  4.71959025,\n",
       "        4.69004625,  4.65806217,  4.62850034,  4.59857757,  4.57002669,\n",
       "        4.53945269,  4.51112121,  4.48204221,  4.4535626 ,  4.42579515,\n",
       "        4.39818861,  4.37124335,  4.34353596,  4.31710003,  4.29044624,\n",
       "        4.26457806,  4.23906601,  4.21367797,  4.18803625,  4.16359834,\n",
       "        4.13788713,  4.11362672,  4.08997654,  4.06539351,  4.0423792 ,\n",
       "        4.0195091 ,  3.99666375,  3.97339211,  3.95207452,  3.92985491,\n",
       "        3.90906535,  3.88619718,  3.86644431,  3.84408743,  3.82382095,\n",
       "        3.80388686,  3.7841255 ,  3.76387889,  3.74496758,  3.72467155,\n",
       "        3.70613487,  3.68857944,  3.66926658,  3.65153709,  3.63384583,\n",
       "        3.61538919,  3.59829334,  3.58194425,  3.56364932,  3.54746788,\n",
       "        3.53159597,  3.51604376,  3.50042479,  3.48352761,  3.46853315,\n",
       "        3.45333637,  3.43835434,  3.42459015,  3.4101184 ,  3.3949885 ,\n",
       "        3.38217467,  3.36821261,  3.35515027,  3.34171538,  3.32792267,\n",
       "        3.31577702,  3.30304251,  3.29027871,  3.2784573 ,  3.26599684,\n",
       "        3.25463559,  3.24258863,  3.23205268,  3.22088918,  3.20893455,\n",
       "        3.19826452,  3.18715069,  3.17753933,  3.16752455,  3.15707027,\n",
       "        3.14714618,  3.13816228,  3.12826395,  3.11857826,  3.10974615,\n",
       "        3.10135607,  3.0921477 ,  3.08402724,  3.07512864,  3.06765256,\n",
       "        3.05939228,  3.05218858,  3.04421233,  3.03720421,  3.02979072,\n",
       "        3.02228679,  3.01543313,  3.00856698,  3.00126245,  2.99495757,\n",
       "        2.98877601,  2.982514  ,  2.97701902,  2.97058387,  2.96451528,\n",
       "        2.95975663,  2.95498556,  2.94843781,  2.94376587,  2.93848871,\n",
       "        2.9342679 ,  2.9292189 ,  2.92526141,  2.92057615,  2.91570315,\n",
       "        2.91169605,  2.90821204,  2.90350126,  2.90027898,  2.89698102,\n",
       "        2.89375036,  2.88983016,  2.88674149,  2.88367045,  2.88101376,\n",
       "        2.87782287,  2.8745011 ,  2.87282699,  2.86960438,  2.86746988,\n",
       "        2.86533301,  2.86384964,  2.86127569,  2.85902762,  2.85664097,\n",
       "        2.85555477,  2.85436935,  2.85242499,  2.8509792 ,  2.84935797,\n",
       "        2.84867243,  2.84794135,  2.84678605,  2.84552172,  2.84546523,\n",
       "        2.8444804 ,  2.84435344,  2.84416024,  2.84318523,  2.8434243 ,\n",
       "        2.84316209,  2.84361047,  2.84332956,  2.84426268,  2.84418716,\n",
       "        2.84540516,  2.84544679,  2.84594195,  2.84657995,  2.84768988,\n",
       "        2.84817641,  2.85028031,  2.85108557,  2.8529622 ,  2.85471265,\n",
       "        2.85625149,  2.85864926,  2.86048578,  2.86205261,  2.86518436,\n",
       "        2.86731552,  2.8687509 ,  2.87196945,  2.87470782,  2.87745732,\n",
       "        2.8806707 ,  2.8836539 ,  2.88675125,  2.89079526,  2.8940026 ,\n",
       "        2.89808004,  2.90126621,  2.90547373,  2.91008832,  2.91390214,\n",
       "        2.91808982,  2.92226406,  2.92663944,  2.93175489,  2.93637093,\n",
       "        2.94175155,  2.94657067,  2.95185168,  2.95789366,  2.96385179,\n",
       "        2.96948779,  2.97625593,  2.98333592,  2.98996672,  2.99595738,\n",
       "        2.99943212])"
      ]
     },
     "execution_count": 46,
     "metadata": {},
     "output_type": "execute_result"
    }
   ],
   "source": [
    "np.array(fids) * 10"
   ]
  },
  {
   "cell_type": "code",
   "execution_count": null,
   "id": "a2a97935-4ce5-4022-9855-8693a8454ced",
   "metadata": {},
   "outputs": [],
   "source": []
  }
 ],
 "metadata": {
  "kernelspec": {
   "display_name": "Python (plaid-train)",
   "language": "python",
   "name": "plaid-train"
  },
  "language_info": {
   "codemirror_mode": {
    "name": "ipython",
    "version": 3
   },
   "file_extension": ".py",
   "mimetype": "text/x-python",
   "name": "python",
   "nbconvert_exporter": "python",
   "pygments_lexer": "ipython3",
   "version": "3.10.14"
  }
 },
 "nbformat": 4,
 "nbformat_minor": 5
}
