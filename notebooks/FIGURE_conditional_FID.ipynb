{
 "cells": [
  {
   "cell_type": "code",
   "execution_count": 1,
   "id": "c9cfc485-3573-4f37-933f-2b9b9cede31d",
   "metadata": {},
   "outputs": [],
   "source": [
    "%load_ext autoreload\n",
    "%autoreload 2"
   ]
  },
  {
   "cell_type": "code",
   "execution_count": 6,
   "id": "d20b5781-26bd-4b39-a6cf-cfbacb0ecf18",
   "metadata": {},
   "outputs": [],
   "source": [
    "import safetensors\n",
    "from safetensors import safe_open\n",
    "import torch\n",
    "from pathlib import Path\n",
    "import numpy as np\n",
    "import random"
   ]
  },
  {
   "cell_type": "code",
   "execution_count": 7,
   "id": "919fb1f4-46b4-40d2-b0c8-88274ce1171d",
   "metadata": {},
   "outputs": [
    {
     "data": {
      "text/plain": [
       "<torch._C.Generator at 0x7f64406e4110>"
      ]
     },
     "execution_count": 7,
     "metadata": {},
     "output_type": "execute_result"
    }
   ],
   "source": [
    "random.seed(42)\n",
    "np.random.seed(42)\n",
    "torch.manual_seed(42)"
   ]
  },
  {
   "cell_type": "markdown",
   "id": "5c249b25-1dd0-4471-b5e8-f1aa174d81eb",
   "metadata": {},
   "source": [
    "# Baseline"
   ]
  },
  {
   "cell_type": "code",
   "execution_count": 17,
   "id": "ef6aa4c5-94a6-44b2-a31c-9723f9291e2c",
   "metadata": {},
   "outputs": [
    {
     "name": "stdout",
     "output_type": "stream",
     "text": [
      "torch.Size([11886, 32])\n"
     ]
    }
   ],
   "source": [
    "feature_path = \"/data/lux70/data/pfam/features/all.pt\"\n",
    "with safe_open(feature_path, \"pt\") as f:\n",
    "    features = f.get_tensor('features')\n",
    "\n",
    "print(features.shape)\n",
    "\n",
    "NUM_TO_EVAL = 512\n",
    "idxs = np.arange(NUM_TO_EVAL * 2)\n",
    "np.random.shuffle(idxs)\n",
    "\n",
    "idxs1 = idxs[:NUM_TO_EVAL]\n",
    "idxs2 = idxs[NUM_TO_EVAL:]\n",
    "\n",
    "gt_x1 = features[idxs1].numpy()\n",
    "gt_x2 = features[idxs2].numpy()"
   ]
  },
  {
   "cell_type": "code",
   "execution_count": 18,
   "id": "76505600-7128-49ca-9c8d-1d405ece36ba",
   "metadata": {},
   "outputs": [],
   "source": [
    "from plaid.evaluation import parmar_kid, parmar_fid, ConditionalFID"
   ]
  },
  {
   "cell_type": "code",
   "execution_count": 126,
   "id": "f9dfbe48-3cc0-4af9-8cbc-9f9068747baa",
   "metadata": {},
   "outputs": [
    {
     "name": "stdout",
     "output_type": "stream",
     "text": [
      "0.00585215408011952\n"
     ]
    }
   ],
   "source": [
    "uncond_gt_fid = parmar_fid(gt_x1, gt_x2)\n",
    "print(uncond_gt_fid)"
   ]
  },
  {
   "cell_type": "code",
   "execution_count": 20,
   "id": "e12a5876-8672-4611-804f-41b3d0ce2fb6",
   "metadata": {},
   "outputs": [
    {
     "data": {
      "text/plain": [
       "-3.000699843932253e-05"
      ]
     },
     "execution_count": 20,
     "metadata": {},
     "output_type": "execute_result"
    }
   ],
   "source": [
    "parmar_kid(gt_x1, gt_x2)"
   ]
  },
  {
   "cell_type": "markdown",
   "id": "fc87b378-0218-453d-94c0-8c25a600fbe6",
   "metadata": {},
   "source": [
    "### Unconditional to Random"
   ]
  },
  {
   "cell_type": "code",
   "execution_count": 137,
   "id": "380657ff-f4e6-4fbb-8f61-65200451b63f",
   "metadata": {},
   "outputs": [
    {
     "data": {
      "image/png": "[encoded data removed]",
      "text/plain": [
       "<Figure size 640x480 with 1 Axes>"
      ]
     },
     "metadata": {},
     "output_type": "display_data"
    }
   ],
   "source": [
    "# from scipy.stats import beta\n",
    "\n",
    "# # Beta distribution parameters can be tweaked for a Gaussian-like shape\n",
    "# alpha, beta_param = 8, 8\n",
    "# samples = beta(alpha, beta_param).rvs(1000)\n",
    "\n",
    "# # Rescale to [-1, 1]\n",
    "# bounded_samples = 2 * samples - 0.9\n",
    "# print(bounded_samples.shape)\n",
    "# _ = plt.hist(bounded_samples.flatten(),bins=100)\n",
    "\n",
    "\n",
    "random = np.random.normal(0, 0.3, (512, 32))\n",
    "_ = plt.hist(random.flatten(), bins=100)"
   ]
  },
  {
   "cell_type": "code",
   "execution_count": 138,
   "id": "0cbb2ba4-6e04-4b6f-ad13-fef21ddad595",
   "metadata": {},
   "outputs": [
    {
     "name": "stdout",
     "output_type": "stream",
     "text": [
      "3.6432780060217427\n"
     ]
    }
   ],
   "source": [
    "random_fid = parmar_fid(random, gt_x1)\n",
    "print(random_fid)"
   ]
  },
  {
   "cell_type": "code",
   "execution_count": 50,
   "id": "4026a222-d04f-458a-9385-6876fa4e6ff3",
   "metadata": {},
   "outputs": [
    {
     "data": {
      "text/plain": [
       "3.6534859668489053"
      ]
     },
     "execution_count": 50,
     "metadata": {},
     "output_type": "execute_result"
    }
   ],
   "source": [
    "parmar_fid(random, gt_x2)"
   ]
  },
  {
   "cell_type": "markdown",
   "id": "c95ab981-d75e-497d-bf3b-00c1a7917bbd",
   "metadata": {},
   "source": [
    "# Unconditional generation performance"
   ]
  },
  {
   "cell_type": "code",
   "execution_count": 12,
   "id": "ea061b2d-ceba-436d-bec7-2e3ab45ec09a",
   "metadata": {},
   "outputs": [
    {
     "name": "stdout",
     "output_type": "stream",
     "text": [
      "(1024, 128, 32)\n"
     ]
    }
   ],
   "source": [
    "with np.load(\"/data/lux70/plaid/artifacts/samples/5j007z42/f2219_o3617/240907_0658/latent.npz\", allow_pickle=True) as f:\n",
    "    uncond_gen = f['samples']\n",
    "\n",
    "print(uncond_gen.shape)\n",
    "uncond_gen = uncond_gen.astype(np.float32)"
   ]
  },
  {
   "cell_type": "code",
   "execution_count": 13,
   "id": "dd182b05-f399-4e98-ac4c-2077b7888961",
   "metadata": {},
   "outputs": [
    {
     "name": "stdout",
     "output_type": "stream",
     "text": [
      "(512, 32)\n"
     ]
    }
   ],
   "source": [
    "idxs = np.arange(len(uncond_gen))\n",
    "np.random.shuffle(idxs)\n",
    "uncond_gen = uncond_gen[idxs[:NUM_TO_EVAL]]\n",
    "uncond_gen = uncond_gen.mean(axis=1)\n",
    "print(uncond_gen.shape)"
   ]
  },
  {
   "cell_type": "code",
   "execution_count": 140,
   "id": "4d9429ea-64fe-4b91-b717-bd5e848f1e7f",
   "metadata": {},
   "outputs": [
    {
     "name": "stdout",
     "output_type": "stream",
     "text": [
      "0.08040021159387656\n",
      "0.08127619937382213\n"
     ]
    }
   ],
   "source": [
    "uncond_gen_fid = parmar_fid(gt_x1, uncond_gen)\n",
    "print(uncond_gen_fid)\n",
    "\n",
    "# just to double check, use the other chunk too\n",
    "print(parmar_fid(gt_x2, uncond_gen))"
   ]
  },
  {
   "cell_type": "code",
   "execution_count": 22,
   "id": "369eb593-b270-480f-bc7c-4b2bb28c96e0",
   "metadata": {},
   "outputs": [
    {
     "name": "stdout",
     "output_type": "stream",
     "text": [
      "0.002688788350547604\n",
      "0.0028708816834391014\n"
     ]
    }
   ],
   "source": [
    "print(parmar_kid(gt_x1, uncond_gen))\n",
    "print(parmar_kid(gt_x2, uncond_gen))"
   ]
  },
  {
   "cell_type": "markdown",
   "id": "f9793047-307e-47eb-ad06-5c7595f67f6f",
   "metadata": {},
   "source": [
    "# Amass Conditional FID"
   ]
  },
  {
   "cell_type": "code",
   "execution_count": 1,
   "id": "a0689991-53ab-4f70-acbf-70fe95c3cbff",
   "metadata": {},
   "outputs": [],
   "source": [
    "%load_ext autoreload\n",
    "%autoreload 2"
   ]
  },
  {
   "cell_type": "code",
   "execution_count": 2,
   "id": "850f90e9-d6f3-4fbe-a475-4cbf8fc55b19",
   "metadata": {},
   "outputs": [
    {
     "name": "stderr",
     "output_type": "stream",
     "text": [
      "/homefs/home/lux70/code/cheap-proteins/src/cheap/pretrained.py:32: FutureWarning: You are using `torch.load` with `weights_only=False` (the current default value), which uses the default pickle module implicitly. It is possible to construct malicious pickle data which will execute arbitrary code during unpickling (See https://github.com/pytorch/pytorch/blob/main/SECURITY.md#untrusted-models for more details). In a future release, the default value for `weights_only` will be flipped to `True`. This limits the functions that could be executed during unpickling. Arbitrary objects will no longer be allowed to be loaded via this mode unless they are explicitly allowlisted by the user via `torch.serialization.add_safe_globals`. We recommend you start setting `weights_only=True` for any use case where you don't have full control of the loaded file. Please open an issue on GitHub for any issues related to this experimental feature.\n",
      "  ckpt = torch.load(checkpoint_fpath)\n"
     ]
    },
    {
     "name": "stdout",
     "output_type": "stream",
     "text": [
      "Using tanh layer at bottleneck...\n",
      "Finished loading HPCT model with shorten factor 2 and 32 channel dimensions.\n",
      "Creating ESMFold embedding only model...\n",
      "ESMFold embedding only model created in 33.23 seconds\n"
     ]
    }
   ],
   "source": [
    "from cheap.pretrained import CHEAP_pfam_shorten_2_dim_32\n",
    "cheap_pipeline = CHEAP_pfam_shorten_2_dim_32()"
   ]
  },
  {
   "cell_type": "code",
   "execution_count": 3,
   "id": "aab94eaa-6872-4548-8588-8bdaba6a5f64",
   "metadata": {},
   "outputs": [],
   "source": [
    "from plaid.evaluation import ConditionalFID\n",
    "from pathlib import Path\n",
    "import glob\n",
    "import numpy as np\n",
    "import torch\n",
    "import os"
   ]
  },
  {
   "cell_type": "code",
   "execution_count": 51,
   "id": "92cfad19-056e-421e-be36-ae89e2a6ec76",
   "metadata": {},
   "outputs": [
    {
     "name": "stdout",
     "output_type": "stream",
     "text": [
      "/data/lux70/plaid/artifacts/samples/5j007z42/f2_o3617/240911_2240.npz\n",
      "f2_o3617 Generated <-> GT FID: 0.22431448614522595\n",
      "f2_o3617 Random Real <-> GT FID: 0.35681111653876574\n",
      "/data/lux70/plaid/artifacts/samples/5j007z42/f1_o3617/240911_2010.npz\n",
      "f1_o3617 Generated <-> GT FID: 0.2618252301259568\n",
      "f1_o3617 Random Real <-> GT FID: 0.3003167219386905\n",
      "/data/lux70/plaid/artifacts/samples/5j007z42/f7_o3617/240912_0118.npz\n",
      "f7_o3617 Generated <-> GT FID: 0.2703340737507355\n",
      "f7_o3617 Random Real <-> GT FID: 0.5201548885208318\n",
      "/data/lux70/plaid/artifacts/samples/5j007z42/f6_o3617/240912_0028.npz\n",
      "f6_o3617 Generated <-> GT FID: 0.4588000317148956\n",
      "f6_o3617 Random Real <-> GT FID: 0.43771777445155036\n",
      "/data/lux70/plaid/artifacts/samples/5j007z42/f11_o3617/240912_0350.npz\n",
      "f11_o3617 Generated <-> GT FID: 0.10714309219338226\n",
      "f11_o3617 Random Real <-> GT FID: 0.5099629354776762\n",
      "/data/lux70/plaid/artifacts/samples/5j007z42/f10_o3617/240912_0257.npz\n",
      "f10_o3617 Generated <-> GT FID: 0.5131101443852841\n",
      "f10_o3617 Random Real <-> GT FID: 0.46483794167954584\n",
      "/data/lux70/plaid/artifacts/samples/5j007z42/f4_o3617/240911_2308.npz\n",
      "f4_o3617 Generated <-> GT FID: 0.31454378421416923\n",
      "f4_o3617 Random Real <-> GT FID: 0.44589581394416433\n",
      "/data/lux70/plaid/artifacts/samples/5j007z42/f8_o3617/240912_0233.npz\n",
      "f8_o3617 Generated <-> GT FID: 0.5586349092293659\n",
      "f8_o3617 Random Real <-> GT FID: 0.6242217874380278\n"
     ]
    }
   ],
   "source": [
    "samples_dir = Path(\"/data/lux70/plaid/artifacts/samples/5j007z42/\")\n",
    "\n",
    "def cond_code_to_idx(cond_code: str):\n",
    "    vals = cond_code.split(\"_\")\n",
    "    return int(vals[0][1:]), int(vals[1][1:])\n",
    "\n",
    "\n",
    "condgen_to_true = {}\n",
    "uncond_to_true = {}\n",
    "\n",
    "batch_size = 128\n",
    "\n",
    "\n",
    "for i, cond_code in enumerate(os.listdir(samples_dir)):\n",
    "    function_idx, organism_idx = cond_code_to_idx(cond_code)\n",
    "    timestamps = glob.glob(str(samples_dir / cond_code / \"*.npz\"))\n",
    "    \n",
    "    if len(timestamps) > 0:\n",
    "        fpath = timestamps[-1]\n",
    "        print(fpath)\n",
    "\n",
    "        cond_fid = ConditionalFID(\n",
    "            function_idx=function_idx,\n",
    "            organism_idx=organism_idx,\n",
    "            cheap_pipeline=cheap_pipeline,\n",
    "            batch_size=batch_size,\n",
    "            max_seq_len=256,\n",
    "            max_eval_samples=512\n",
    "        )\n",
    "        \n",
    "        with np.load(fpath, allow_pickle=True) as f:\n",
    "            x = f['samples'].astype(np.float32)\n",
    "\n",
    "        feat = x[:, -1, :, :] # take last timestep only\n",
    "        feat = feat.mean(axis=1)\n",
    "        res = cond_fid.run(feat)\n",
    "        print(cond_code, \"Generated <-> GT FID:\", res)\n",
    "\n",
    "        condgen_to_true[cond_code] = res\n",
    "\n",
    "        # also try what happens if you do ground truth unconditional to conditional\n",
    "        res = parmar_fid(feat, gt_x1)\n",
    "        uncond_to_true[cond_code] = res\n",
    "        print(cond_code, \"Random Real <-> GT FID:\", res)\n",
    "            \n",
    "    else:\n",
    "        pass"
   ]
  },
  {
   "cell_type": "markdown",
   "id": "f3900743-70bc-48da-8503-9009e66afafd",
   "metadata": {},
   "source": [
    "# Plot"
   ]
  },
  {
   "cell_type": "code",
   "execution_count": 106,
   "id": "c1e291c4-b544-49d5-b542-7357000c856f",
   "metadata": {},
   "outputs": [],
   "source": [
    "# turn into dataframe\n",
    "df1 = pd.DataFrame(list(condgen_to_true.items()), columns=['Key', 'condgen_to_true'])\n",
    "df2 = pd.DataFrame(list(uncond_to_true.items()), columns=['Key', 'uncond_to_true'])\n",
    "combined_df = pd.merge(df1, df2, on='Key')\n",
    "combined_df[\"GO_idx\"] = combined_df['Key'].map(lambda x: cond_code_to_idx(x)[0])\n",
    "combined_df[\"organism_index\"] = combined_df['Key'].map(lambda x: cond_code_to_idx(x)[1])\n",
    "\n",
    "# attach GO metadata\n",
    "go_df = pd.read_csv(\"/data/lux70/data/pfam/go_index.csv\")\n",
    "combined_df = combined_df.merge(go_df)\n",
    "combined_df = combined_df.sort_values(by=\"count\")\n",
    "combined_df['delta'] = combined_df.condgen_to_true - combined_df.uncond_to_true"
   ]
  },
  {
   "cell_type": "code",
   "execution_count": 117,
   "id": "76224d25-8420-482e-bcce-6bdbd75662c7",
   "metadata": {},
   "outputs": [],
   "source": [
    "from matplotlib import cm\n",
    "from matplotlib.colors import Normalize\n",
    "\n",
    "values = combined_df['delta']\n",
    "norm = Normalize(vmin=min(values), vmax=max(values))\n",
    "\n",
    "colormap = cm.viridis  # You can replace 'viridis' with any other matplotlib colormap\n",
    "colors = colormap(norm(values))\n"
   ]
  },
  {
   "cell_type": "code",
   "execution_count": 115,
   "id": "860597d7-8112-4c27-a4c4-26a358540de2",
   "metadata": {},
   "outputs": [
    {
     "data": {
      "text/html": [
       "<div>\n",
       "<style scoped>\n",
       "    .dataframe tbody tr th:only-of-type {\n",
       "        vertical-align: middle;\n",
       "    }\n",
       "\n",
       "    .dataframe tbody tr th {\n",
       "        vertical-align: top;\n",
       "    }\n",
       "\n",
       "    .dataframe thead th {\n",
       "        text-align: right;\n",
       "    }\n",
       "</style>\n",
       "<table border=\"1\" class=\"dataframe\">\n",
       "  <thead>\n",
       "    <tr style=\"text-align: right;\">\n",
       "      <th></th>\n",
       "      <th>Key</th>\n",
       "      <th>condgen_to_true</th>\n",
       "      <th>uncond_to_true</th>\n",
       "      <th>GO_idx</th>\n",
       "      <th>organism_index</th>\n",
       "      <th>Unnamed: 0</th>\n",
       "      <th>GO_term</th>\n",
       "      <th>pfam_id</th>\n",
       "      <th>GO_id</th>\n",
       "      <th>GO_level</th>\n",
       "      <th>count</th>\n",
       "      <th>delta</th>\n",
       "    </tr>\n",
       "  </thead>\n",
       "  <tbody>\n",
       "    <tr>\n",
       "      <th>2</th>\n",
       "      <td>f7_o3617</td>\n",
       "      <td>0.270334</td>\n",
       "      <td>0.520155</td>\n",
       "      <td>7</td>\n",
       "      <td>3617</td>\n",
       "      <td>1914</td>\n",
       "      <td>serine-type endopeptidase inhibitor activity</td>\n",
       "      <td>PF00014</td>\n",
       "      <td>GO:0004867</td>\n",
       "      <td>function</td>\n",
       "      <td>11</td>\n",
       "      <td>-0.249821</td>\n",
       "    </tr>\n",
       "    <tr>\n",
       "      <th>1</th>\n",
       "      <td>f1_o3617</td>\n",
       "      <td>0.261825</td>\n",
       "      <td>0.300317</td>\n",
       "      <td>1</td>\n",
       "      <td>3617</td>\n",
       "      <td>54</td>\n",
       "      <td>ATP hydrolysis activity</td>\n",
       "      <td>PF00004</td>\n",
       "      <td>GO:0016887</td>\n",
       "      <td>function</td>\n",
       "      <td>15</td>\n",
       "      <td>-0.038491</td>\n",
       "    </tr>\n",
       "    <tr>\n",
       "      <th>4</th>\n",
       "      <td>f11_o3617</td>\n",
       "      <td>0.107143</td>\n",
       "      <td>0.509963</td>\n",
       "      <td>11</td>\n",
       "      <td>3617</td>\n",
       "      <td>922</td>\n",
       "      <td>growth factor activity</td>\n",
       "      <td>PF00019</td>\n",
       "      <td>GO:0008083</td>\n",
       "      <td>function</td>\n",
       "      <td>17</td>\n",
       "      <td>-0.402820</td>\n",
       "    </tr>\n",
       "    <tr>\n",
       "      <th>6</th>\n",
       "      <td>f4_o3617</td>\n",
       "      <td>0.314544</td>\n",
       "      <td>0.445896</td>\n",
       "      <td>4</td>\n",
       "      <td>3617</td>\n",
       "      <td>1634</td>\n",
       "      <td>protein dimerization activity</td>\n",
       "      <td>PF00010</td>\n",
       "      <td>GO:0046983</td>\n",
       "      <td>function</td>\n",
       "      <td>22</td>\n",
       "      <td>-0.131352</td>\n",
       "    </tr>\n",
       "    <tr>\n",
       "      <th>7</th>\n",
       "      <td>f8_o3617</td>\n",
       "      <td>0.558635</td>\n",
       "      <td>0.624222</td>\n",
       "      <td>8</td>\n",
       "      <td>3617</td>\n",
       "      <td>1931</td>\n",
       "      <td>signal transduction</td>\n",
       "      <td>PF00015</td>\n",
       "      <td>GO:0007165</td>\n",
       "      <td>process</td>\n",
       "      <td>34</td>\n",
       "      <td>-0.065587</td>\n",
       "    </tr>\n",
       "    <tr>\n",
       "      <th>3</th>\n",
       "      <td>f6_o3617</td>\n",
       "      <td>0.458800</td>\n",
       "      <td>0.437718</td>\n",
       "      <td>6</td>\n",
       "      <td>3617</td>\n",
       "      <td>247</td>\n",
       "      <td>RNA binding</td>\n",
       "      <td>PF00013</td>\n",
       "      <td>GO:0003723</td>\n",
       "      <td>function</td>\n",
       "      <td>118</td>\n",
       "      <td>0.021082</td>\n",
       "    </tr>\n",
       "    <tr>\n",
       "      <th>5</th>\n",
       "      <td>f10_o3617</td>\n",
       "      <td>0.513110</td>\n",
       "      <td>0.464838</td>\n",
       "      <td>10</td>\n",
       "      <td>3617</td>\n",
       "      <td>1629</td>\n",
       "      <td>protein binding</td>\n",
       "      <td>PF00018</td>\n",
       "      <td>GO:0005515</td>\n",
       "      <td>function</td>\n",
       "      <td>122</td>\n",
       "      <td>0.048272</td>\n",
       "    </tr>\n",
       "    <tr>\n",
       "      <th>0</th>\n",
       "      <td>f2_o3617</td>\n",
       "      <td>0.224314</td>\n",
       "      <td>0.356811</td>\n",
       "      <td>2</td>\n",
       "      <td>3617</td>\n",
       "      <td>52</td>\n",
       "      <td>ATP binding</td>\n",
       "      <td>PF00006</td>\n",
       "      <td>GO:0005524</td>\n",
       "      <td>function</td>\n",
       "      <td>178</td>\n",
       "      <td>-0.132497</td>\n",
       "    </tr>\n",
       "  </tbody>\n",
       "</table>\n",
       "</div>"
      ],
      "text/plain": [
       "         Key  condgen_to_true  uncond_to_true  GO_idx  organism_index  \\\n",
       "2   f7_o3617         0.270334        0.520155       7            3617   \n",
       "1   f1_o3617         0.261825        0.300317       1            3617   \n",
       "4  f11_o3617         0.107143        0.509963      11            3617   \n",
       "6   f4_o3617         0.314544        0.445896       4            3617   \n",
       "7   f8_o3617         0.558635        0.624222       8            3617   \n",
       "3   f6_o3617         0.458800        0.437718       6            3617   \n",
       "5  f10_o3617         0.513110        0.464838      10            3617   \n",
       "0   f2_o3617         0.224314        0.356811       2            3617   \n",
       "\n",
       "   Unnamed: 0                                       GO_term  pfam_id  \\\n",
       "2        1914  serine-type endopeptidase inhibitor activity  PF00014   \n",
       "1          54                       ATP hydrolysis activity  PF00004   \n",
       "4         922                        growth factor activity  PF00019   \n",
       "6        1634                 protein dimerization activity  PF00010   \n",
       "7        1931                           signal transduction  PF00015   \n",
       "3         247                                   RNA binding  PF00013   \n",
       "5        1629                               protein binding  PF00018   \n",
       "0          52                                   ATP binding  PF00006   \n",
       "\n",
       "        GO_id  GO_level  count     delta  \n",
       "2  GO:0004867  function     11 -0.249821  \n",
       "1  GO:0016887  function     15 -0.038491  \n",
       "4  GO:0008083  function     17 -0.402820  \n",
       "6  GO:0046983  function     22 -0.131352  \n",
       "7  GO:0007165   process     34 -0.065587  \n",
       "3  GO:0003723  function    118  0.021082  \n",
       "5  GO:0005515  function    122  0.048272  \n",
       "0  GO:0005524  function    178 -0.132497  "
      ]
     },
     "execution_count": 115,
     "metadata": {},
     "output_type": "execute_result"
    }
   ],
   "source": [
    "combined_df"
   ]
  },
  {
   "cell_type": "code",
   "execution_count": 151,
   "id": "039fc281-049d-4cb0-8052-c035c6732383",
   "metadata": {},
   "outputs": [
    {
     "data": {
      "text/plain": [
       "<matplotlib.legend.Legend at 0x7f6226d76860>"
      ]
     },
     "execution_count": 151,
     "metadata": {},
     "output_type": "execute_result"
    },
    {
     "data": {
      "image/png": "[encoded data removed]",
      "text/plain": [
       "<Figure size 900x450 with 1 Axes>"
      ]
     },
     "metadata": {},
     "output_type": "display_data"
    }
   ],
   "source": [
    "fig, ax = plt.subplots(1, 1, dpi=150, figsize=(6,3))\n",
    "ax.scatter(np.arange(len(combined_df)), combined_df['condgen_to_true'].values, label=\"Generated\", s=30, c=\"navy\")\n",
    "# ax.scatter(np.arange(len(combined_df)), combined_df['uncond_to_true'].values, label=\"Random Validation Set Samples\",s=15, c=colors, marker=\"D\")\n",
    "ax.scatter(np.arange(len(combined_df)), combined_df['uncond_to_true'].values, label=\"Random Validation Set Samples\",s=10, c=\"lightskyblue\", marker=\"D\")\n",
    "ax.set_xticks(ticks=np.arange(len(combined_df)), labels=combined_df.GO_term.values, rotation=90)\n",
    "\n",
    "ax.axhline(y=uncond_gt_fid, color='green', linestyle='--', label=\"Natural Proteins\")\n",
    "ax.axhline(y=uncond_gen_fid, color='orange', linestyle='--', label=\"Unconditional FID\")\n",
    "\n",
    "\n",
    "### TODO: modify upper bound on y lim as needed\n",
    "### TODO: wrap text?\n",
    "\n",
    "ax.set_ylim(0,1.2)\n",
    "ax.set_xlabel(\"GO Term (sorted in ascending order of prevalence)\")\n",
    "ax.set_ylabel(\"FID (lower is better)\")\n",
    "\n",
    "plt.legend()"
   ]
  },
  {
   "cell_type": "code",
   "execution_count": null,
   "id": "e8ed6cd8-dae0-4365-add2-e1b8fcd09506",
   "metadata": {},
   "outputs": [],
   "source": []
  }
 ],
 "metadata": {
  "kernelspec": {
   "display_name": "Python (plaid-train)",
   "language": "python",
   "name": "plaid-train"
  },
  "language_info": {
   "codemirror_mode": {
    "name": "ipython",
    "version": 3
   },
   "file_extension": ".py",
   "mimetype": "text/x-python",
   "name": "python",
   "nbconvert_exporter": "python",
   "pygments_lexer": "ipython3",
   "version": "3.10.14"
  }
 },
 "nbformat": 4,
 "nbformat_minor": 5
}
