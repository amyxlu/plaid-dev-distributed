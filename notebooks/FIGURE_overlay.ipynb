{
 "cells": [
  {
   "cell_type": "code",
   "execution_count": 1,
   "id": "7a907677-b1a6-4f16-b0e7-4db920680c81",
   "metadata": {},
   "outputs": [],
   "source": [
    "%load_ext autoreload\n",
    "%autoreload 2"
   ]
  },
  {
   "cell_type": "code",
   "execution_count": 2,
   "id": "6ec873d0-0f5e-4678-9ccb-e8bc8367f2fd",
   "metadata": {},
   "outputs": [],
   "source": [
    "import torch\n",
    "from pathlib import Path\n",
    "from plaid.compression.hourglass_vq import HourglassVQLightningModule\n",
    "import matplotlib.pyplot as plt\n",
    "import os"
   ]
  },
  {
   "cell_type": "code",
   "execution_count": 3,
   "id": "e28e4fe0-59ee-4f47-9db9-426676889365",
   "metadata": {},
   "outputs": [],
   "source": [
    "pdb_dir = \"/homefs/home/lux70/cache/\"\n",
    "\n",
    "from plaid.evaluation import run_tmalign\n",
    "import numpy as np\n",
    "\n",
    "def run_tm(orig_pdbs, recons_pdbs):\n",
    "    all_scores = []\n",
    "    for orig, recons in zip(orig_pdbs, recons_pdbs):\n",
    "        tmscore = run_tmalign(orig, recons)\n",
    "        all_scores.append(tmscore)\n",
    "    return all_scores"
   ]
  },
  {
   "cell_type": "code",
   "execution_count": 4,
   "id": "c7824ac2-bb76-469e-837f-99aa1f31106d",
   "metadata": {},
   "outputs": [],
   "source": [
    "from plaid.constants import COMPRESSION_INPUT_DIMENSIONS, COMPRESSION_SHORTEN_FACTORS\n",
    "import glob\n",
    "dim_to_dir = {}\n",
    "\n",
    "for model_id in COMPRESSION_INPUT_DIMENSIONS.keys():\n",
    "    if os.path.exists(os.path.join(pdb_dir, model_id)):\n",
    "        dim = COMPRESSION_INPUT_DIMENSIONS[model_id]\n",
    "        dirpath = os.path.join(pdb_dir, model_id)\n",
    "\n",
    "        originals = glob.glob(str(os.path.join(dirpath, \"orig*pdb\")))\n",
    "        predicted = glob.glob(str(os.path.join(dirpath, \"recons*pdb\")))\n",
    "        originals.sort()\n",
    "        predicted.sort()\n",
    "\n",
    "        tm_scores = run_tm(originals, predicted)\n",
    "        dim_to_dir[dim] = {\n",
    "            \"original\": originals,\n",
    "            \"predicted\": predicted,\n",
    "            \"tmscores\": tm_scores\n",
    "        }"
   ]
  },
  {
   "cell_type": "code",
   "execution_count": 12,
   "id": "be3d4412-f3ef-4dac-854f-92e496fc2716",
   "metadata": {},
   "outputs": [
    {
     "name": "stdout",
     "output_type": "stream",
     "text": [
      "4 0.789\n",
      "8 0.920\n",
      "16 0.968\n",
      "32 0.995\n",
      "64 0.991\n",
      "128 0.999\n",
      "256 1.000\n",
      "512 0.997\n",
      "1024 1.000\n"
     ]
    }
   ],
   "source": [
    "for k, v in dim_to_dir.items():\n",
    "    data = dim_to_dir[k]\n",
    "    tmscores = data['tmscores']\n",
    "    print(k, f\"{tmscores[3]:.3f}\")"
   ]
  },
  {
   "cell_type": "code",
   "execution_count": 8,
   "id": "3f58284e-8b14-4ce2-9215-0ec7e65503e5",
   "metadata": {},
   "outputs": [
    {
     "data": {
      "text/plain": [
       "'/homefs/home/lux70/cache/ich20c3q/orig_pred_11.pdb'"
      ]
     },
     "execution_count": 8,
     "metadata": {},
     "output_type": "execute_result"
    }
   ],
   "source": [
    "data['original'][i]"
   ]
  },
  {
   "cell_type": "code",
   "execution_count": 7,
   "id": "3d86c722-43df-46cd-bc02-3663543844c8",
   "metadata": {},
   "outputs": [
    {
     "name": "stdout",
     "output_type": "stream",
     "text": [
      "0 0.9189\n"
     ]
    },
    {
     "data": {
      "application/3dmoljs_load.v0": "<div id=\"3dmolviewer_17163933401062324\"  style=\"position: relative; width: 400px; height: 300px;\">\n        <p id=\"3dmolwarning_17163933401062324\" style=\"background-color:#ffcccc;color:black\">3Dmol.js failed to load for some reason.  Please check your browser console for error messages.<br></p>\n        </div>\n<script>\n\nvar loadScriptAsync = function(uri){\n  return new Promise((resolve, reject) => {\n    //this is to ignore the existence of requirejs amd\n    var savedexports, savedmodule;\n    if (typeof exports !== 'undefined') savedexports = exports;\n    else exports = {}\n    if (typeof module !== 'undefined') savedmodule = module;\n    else module = {}\n\n    var tag = document.createElement('script');\n    tag.src = uri;\n    tag.async = true;\n    tag.onload = () => {\n        exports = savedexports;\n        module = savedmodule;\n        resolve();\n    };\n  var firstScriptTag = document.getElementsByTagName('script')[0];\n  firstScriptTag.parentNode.insertBefore(tag, firstScriptTag);\n});\n};\n\nif(typeof $3Dmolpromise === 'undefined') {\n$3Dmolpromise = null;\n  $3Dmolpromise = loadScriptAsync('https://cdnjs.cloudflare.com/ajax/libs/3Dmol/2.1.0/3Dmol-min.js');\n}\n\nvar viewer_17163933401062324 = null;\nvar warn = document.getElementById(\"3dmolwarning_17163933401062324\");\nif(warn) {\n    warn.parentNode.removeChild(warn);\n}\n$3Dmolpromise.then(function() {\nviewer_17163933401062324 = $3Dmol.createViewer(document.getElementById(\"3dmolviewer_17163933401062324\"),{backgroundColor:\"white\"});\nviewer_17163933401062324.zoomTo();\n\tviewer_17163933401062324.addModelsAsFrames(\"/homefs/home/lux70/cache/ich20c3q/orig_pred_0.pdb\");\n\tviewer_17163933401062324.addModelsAsFrames(\"/homefs/home/lux70/cache/ich20c3q/recons_pred_0.pdb\");\n\tviewer_17163933401062324.setStyle({\"model\": 0},{\"cartoon\": {\"color\": \"orange\"}});\n\tviewer_17163933401062324.setStyle({\"model\": 1},{\"cartoon\": {\"color\": \"blue\"}});\n\tviewer_17163933401062324.zoomTo();\nviewer_17163933401062324.render();\n});\n</script>",
      "text/html": [
       "<div id=\"3dmolviewer_17163933401062324\"  style=\"position: relative; width: 400px; height: 300px;\">\n",
       "        <p id=\"3dmolwarning_17163933401062324\" style=\"background-color:#ffcccc;color:black\">3Dmol.js failed to load for some reason.  Please check your browser console for error messages.<br></p>\n",
       "        </div>\n",
       "<script>\n",
       "\n",
       "var loadScriptAsync = function(uri){\n",
       "  return new Promise((resolve, reject) => {\n",
       "    //this is to ignore the existence of requirejs amd\n",
       "    var savedexports, savedmodule;\n",
       "    if (typeof exports !== 'undefined') savedexports = exports;\n",
       "    else exports = {}\n",
       "    if (typeof module !== 'undefined') savedmodule = module;\n",
       "    else module = {}\n",
       "\n",
       "    var tag = document.createElement('script');\n",
       "    tag.src = uri;\n",
       "    tag.async = true;\n",
       "    tag.onload = () => {\n",
       "        exports = savedexports;\n",
       "        module = savedmodule;\n",
       "        resolve();\n",
       "    };\n",
       "  var firstScriptTag = document.getElementsByTagName('script')[0];\n",
       "  firstScriptTag.parentNode.insertBefore(tag, firstScriptTag);\n",
       "});\n",
       "};\n",
       "\n",
       "if(typeof $3Dmolpromise === 'undefined') {\n",
       "$3Dmolpromise = null;\n",
       "  $3Dmolpromise = loadScriptAsync('https://cdnjs.cloudflare.com/ajax/libs/3Dmol/2.1.0/3Dmol-min.js');\n",
       "}\n",
       "\n",
       "var viewer_17163933401062324 = null;\n",
       "var warn = document.getElementById(\"3dmolwarning_17163933401062324\");\n",
       "if(warn) {\n",
       "    warn.parentNode.removeChild(warn);\n",
       "}\n",
       "$3Dmolpromise.then(function() {\n",
       "viewer_17163933401062324 = $3Dmol.createViewer(document.getElementById(\"3dmolviewer_17163933401062324\"),{backgroundColor:\"white\"});\n",
       "viewer_17163933401062324.zoomTo();\n",
       "\tviewer_17163933401062324.addModelsAsFrames(\"/homefs/home/lux70/cache/ich20c3q/orig_pred_0.pdb\");\n",
       "\tviewer_17163933401062324.addModelsAsFrames(\"/homefs/home/lux70/cache/ich20c3q/recons_pred_0.pdb\");\n",
       "\tviewer_17163933401062324.setStyle({\"model\": 0},{\"cartoon\": {\"color\": \"orange\"}});\n",
       "\tviewer_17163933401062324.setStyle({\"model\": 1},{\"cartoon\": {\"color\": \"blue\"}});\n",
       "\tviewer_17163933401062324.zoomTo();\n",
       "viewer_17163933401062324.render();\n",
       "});\n",
       "</script>"
      ]
     },
     "metadata": {},
     "output_type": "display_data"
    },
    {
     "name": "stdout",
     "output_type": "stream",
     "text": [
      "1 0.85675\n"
     ]
    },
    {
     "data": {
      "application/3dmoljs_load.v0": "<div id=\"3dmolviewer_17163933401081488\"  style=\"position: relative; width: 400px; height: 300px;\">\n        <p id=\"3dmolwarning_17163933401081488\" style=\"background-color:#ffcccc;color:black\">3Dmol.js failed to load for some reason.  Please check your browser console for error messages.<br></p>\n        </div>\n<script>\n\nvar loadScriptAsync = function(uri){\n  return new Promise((resolve, reject) => {\n    //this is to ignore the existence of requirejs amd\n    var savedexports, savedmodule;\n    if (typeof exports !== 'undefined') savedexports = exports;\n    else exports = {}\n    if (typeof module !== 'undefined') savedmodule = module;\n    else module = {}\n\n    var tag = document.createElement('script');\n    tag.src = uri;\n    tag.async = true;\n    tag.onload = () => {\n        exports = savedexports;\n        module = savedmodule;\n        resolve();\n    };\n  var firstScriptTag = document.getElementsByTagName('script')[0];\n  firstScriptTag.parentNode.insertBefore(tag, firstScriptTag);\n});\n};\n\nif(typeof $3Dmolpromise === 'undefined') {\n$3Dmolpromise = null;\n  $3Dmolpromise = loadScriptAsync('https://cdnjs.cloudflare.com/ajax/libs/3Dmol/2.1.0/3Dmol-min.js');\n}\n\nvar viewer_17163933401081488 = null;\nvar warn = document.getElementById(\"3dmolwarning_17163933401081488\");\nif(warn) {\n    warn.parentNode.removeChild(warn);\n}\n$3Dmolpromise.then(function() {\nviewer_17163933401081488 = $3Dmol.createViewer(document.getElementById(\"3dmolviewer_17163933401081488\"),{backgroundColor:\"white\"});\nviewer_17163933401081488.zoomTo();\n\tviewer_17163933401081488.addModelsAsFrames(\"/homefs/home/lux70/cache/ich20c3q/orig_pred_1.pdb\");\n\tviewer_17163933401081488.addModelsAsFrames(\"/homefs/home/lux70/cache/ich20c3q/recons_pred_1.pdb\");\n\tviewer_17163933401081488.setStyle({\"model\": 0},{\"cartoon\": {\"color\": \"orange\"}});\n\tviewer_17163933401081488.setStyle({\"model\": 1},{\"cartoon\": {\"color\": \"blue\"}});\n\tviewer_17163933401081488.zoomTo();\nviewer_17163933401081488.render();\n});\n</script>",
      "text/html": [
       "<div id=\"3dmolviewer_17163933401081488\"  style=\"position: relative; width: 400px; height: 300px;\">\n",
       "        <p id=\"3dmolwarning_17163933401081488\" style=\"background-color:#ffcccc;color:black\">3Dmol.js failed to load for some reason.  Please check your browser console for error messages.<br></p>\n",
       "        </div>\n",
       "<script>\n",
       "\n",
       "var loadScriptAsync = function(uri){\n",
       "  return new Promise((resolve, reject) => {\n",
       "    //this is to ignore the existence of requirejs amd\n",
       "    var savedexports, savedmodule;\n",
       "    if (typeof exports !== 'undefined') savedexports = exports;\n",
       "    else exports = {}\n",
       "    if (typeof module !== 'undefined') savedmodule = module;\n",
       "    else module = {}\n",
       "\n",
       "    var tag = document.createElement('script');\n",
       "    tag.src = uri;\n",
       "    tag.async = true;\n",
       "    tag.onload = () => {\n",
       "        exports = savedexports;\n",
       "        module = savedmodule;\n",
       "        resolve();\n",
       "    };\n",
       "  var firstScriptTag = document.getElementsByTagName('script')[0];\n",
       "  firstScriptTag.parentNode.insertBefore(tag, firstScriptTag);\n",
       "});\n",
       "};\n",
       "\n",
       "if(typeof $3Dmolpromise === 'undefined') {\n",
       "$3Dmolpromise = null;\n",
       "  $3Dmolpromise = loadScriptAsync('https://cdnjs.cloudflare.com/ajax/libs/3Dmol/2.1.0/3Dmol-min.js');\n",
       "}\n",
       "\n",
       "var viewer_17163933401081488 = null;\n",
       "var warn = document.getElementById(\"3dmolwarning_17163933401081488\");\n",
       "if(warn) {\n",
       "    warn.parentNode.removeChild(warn);\n",
       "}\n",
       "$3Dmolpromise.then(function() {\n",
       "viewer_17163933401081488 = $3Dmol.createViewer(document.getElementById(\"3dmolviewer_17163933401081488\"),{backgroundColor:\"white\"});\n",
       "viewer_17163933401081488.zoomTo();\n",
       "\tviewer_17163933401081488.addModelsAsFrames(\"/homefs/home/lux70/cache/ich20c3q/orig_pred_1.pdb\");\n",
       "\tviewer_17163933401081488.addModelsAsFrames(\"/homefs/home/lux70/cache/ich20c3q/recons_pred_1.pdb\");\n",
       "\tviewer_17163933401081488.setStyle({\"model\": 0},{\"cartoon\": {\"color\": \"orange\"}});\n",
       "\tviewer_17163933401081488.setStyle({\"model\": 1},{\"cartoon\": {\"color\": \"blue\"}});\n",
       "\tviewer_17163933401081488.zoomTo();\n",
       "viewer_17163933401081488.render();\n",
       "});\n",
       "</script>"
      ]
     },
     "metadata": {},
     "output_type": "display_data"
    },
    {
     "name": "stdout",
     "output_type": "stream",
     "text": [
      "2 0.99997\n"
     ]
    },
    {
     "data": {
      "application/3dmoljs_load.v0": "<div id=\"3dmolviewer_17163933401100378\"  style=\"position: relative; width: 400px; height: 300px;\">\n        <p id=\"3dmolwarning_17163933401100378\" style=\"background-color:#ffcccc;color:black\">3Dmol.js failed to load for some reason.  Please check your browser console for error messages.<br></p>\n        </div>\n<script>\n\nvar loadScriptAsync = function(uri){\n  return new Promise((resolve, reject) => {\n    //this is to ignore the existence of requirejs amd\n    var savedexports, savedmodule;\n    if (typeof exports !== 'undefined') savedexports = exports;\n    else exports = {}\n    if (typeof module !== 'undefined') savedmodule = module;\n    else module = {}\n\n    var tag = document.createElement('script');\n    tag.src = uri;\n    tag.async = true;\n    tag.onload = () => {\n        exports = savedexports;\n        module = savedmodule;\n        resolve();\n    };\n  var firstScriptTag = document.getElementsByTagName('script')[0];\n  firstScriptTag.parentNode.insertBefore(tag, firstScriptTag);\n});\n};\n\nif(typeof $3Dmolpromise === 'undefined') {\n$3Dmolpromise = null;\n  $3Dmolpromise = loadScriptAsync('https://cdnjs.cloudflare.com/ajax/libs/3Dmol/2.1.0/3Dmol-min.js');\n}\n\nvar viewer_17163933401100378 = null;\nvar warn = document.getElementById(\"3dmolwarning_17163933401100378\");\nif(warn) {\n    warn.parentNode.removeChild(warn);\n}\n$3Dmolpromise.then(function() {\nviewer_17163933401100378 = $3Dmol.createViewer(document.getElementById(\"3dmolviewer_17163933401100378\"),{backgroundColor:\"white\"});\nviewer_17163933401100378.zoomTo();\n\tviewer_17163933401100378.addModelsAsFrames(\"/homefs/home/lux70/cache/ich20c3q/orig_pred_10.pdb\");\n\tviewer_17163933401100378.addModelsAsFrames(\"/homefs/home/lux70/cache/ich20c3q/recons_pred_10.pdb\");\n\tviewer_17163933401100378.setStyle({\"model\": 0},{\"cartoon\": {\"color\": \"orange\"}});\n\tviewer_17163933401100378.setStyle({\"model\": 1},{\"cartoon\": {\"color\": \"blue\"}});\n\tviewer_17163933401100378.zoomTo();\nviewer_17163933401100378.render();\n});\n</script>",
      "text/html": [
       "<div id=\"3dmolviewer_17163933401100378\"  style=\"position: relative; width: 400px; height: 300px;\">\n",
       "        <p id=\"3dmolwarning_17163933401100378\" style=\"background-color:#ffcccc;color:black\">3Dmol.js failed to load for some reason.  Please check your browser console for error messages.<br></p>\n",
       "        </div>\n",
       "<script>\n",
       "\n",
       "var loadScriptAsync = function(uri){\n",
       "  return new Promise((resolve, reject) => {\n",
       "    //this is to ignore the existence of requirejs amd\n",
       "    var savedexports, savedmodule;\n",
       "    if (typeof exports !== 'undefined') savedexports = exports;\n",
       "    else exports = {}\n",
       "    if (typeof module !== 'undefined') savedmodule = module;\n",
       "    else module = {}\n",
       "\n",
       "    var tag = document.createElement('script');\n",
       "    tag.src = uri;\n",
       "    tag.async = true;\n",
       "    tag.onload = () => {\n",
       "        exports = savedexports;\n",
       "        module = savedmodule;\n",
       "        resolve();\n",
       "    };\n",
       "  var firstScriptTag = document.getElementsByTagName('script')[0];\n",
       "  firstScriptTag.parentNode.insertBefore(tag, firstScriptTag);\n",
       "});\n",
       "};\n",
       "\n",
       "if(typeof $3Dmolpromise === 'undefined') {\n",
       "$3Dmolpromise = null;\n",
       "  $3Dmolpromise = loadScriptAsync('https://cdnjs.cloudflare.com/ajax/libs/3Dmol/2.1.0/3Dmol-min.js');\n",
       "}\n",
       "\n",
       "var viewer_17163933401100378 = null;\n",
       "var warn = document.getElementById(\"3dmolwarning_17163933401100378\");\n",
       "if(warn) {\n",
       "    warn.parentNode.removeChild(warn);\n",
       "}\n",
       "$3Dmolpromise.then(function() {\n",
       "viewer_17163933401100378 = $3Dmol.createViewer(document.getElementById(\"3dmolviewer_17163933401100378\"),{backgroundColor:\"white\"});\n",
       "viewer_17163933401100378.zoomTo();\n",
       "\tviewer_17163933401100378.addModelsAsFrames(\"/homefs/home/lux70/cache/ich20c3q/orig_pred_10.pdb\");\n",
       "\tviewer_17163933401100378.addModelsAsFrames(\"/homefs/home/lux70/cache/ich20c3q/recons_pred_10.pdb\");\n",
       "\tviewer_17163933401100378.setStyle({\"model\": 0},{\"cartoon\": {\"color\": \"orange\"}});\n",
       "\tviewer_17163933401100378.setStyle({\"model\": 1},{\"cartoon\": {\"color\": \"blue\"}});\n",
       "\tviewer_17163933401100378.zoomTo();\n",
       "viewer_17163933401100378.render();\n",
       "});\n",
       "</script>"
      ]
     },
     "metadata": {},
     "output_type": "display_data"
    },
    {
     "name": "stdout",
     "output_type": "stream",
     "text": [
      "3 0.99972\n"
     ]
    },
    {
     "data": {
      "application/3dmoljs_load.v0": "<div id=\"3dmolviewer_17163933401119041\"  style=\"position: relative; width: 400px; height: 300px;\">\n        <p id=\"3dmolwarning_17163933401119041\" style=\"background-color:#ffcccc;color:black\">3Dmol.js failed to load for some reason.  Please check your browser console for error messages.<br></p>\n        </div>\n<script>\n\nvar loadScriptAsync = function(uri){\n  return new Promise((resolve, reject) => {\n    //this is to ignore the existence of requirejs amd\n    var savedexports, savedmodule;\n    if (typeof exports !== 'undefined') savedexports = exports;\n    else exports = {}\n    if (typeof module !== 'undefined') savedmodule = module;\n    else module = {}\n\n    var tag = document.createElement('script');\n    tag.src = uri;\n    tag.async = true;\n    tag.onload = () => {\n        exports = savedexports;\n        module = savedmodule;\n        resolve();\n    };\n  var firstScriptTag = document.getElementsByTagName('script')[0];\n  firstScriptTag.parentNode.insertBefore(tag, firstScriptTag);\n});\n};\n\nif(typeof $3Dmolpromise === 'undefined') {\n$3Dmolpromise = null;\n  $3Dmolpromise = loadScriptAsync('https://cdnjs.cloudflare.com/ajax/libs/3Dmol/2.1.0/3Dmol-min.js');\n}\n\nvar viewer_17163933401119041 = null;\nvar warn = document.getElementById(\"3dmolwarning_17163933401119041\");\nif(warn) {\n    warn.parentNode.removeChild(warn);\n}\n$3Dmolpromise.then(function() {\nviewer_17163933401119041 = $3Dmol.createViewer(document.getElementById(\"3dmolviewer_17163933401119041\"),{backgroundColor:\"white\"});\nviewer_17163933401119041.zoomTo();\n\tviewer_17163933401119041.addModelsAsFrames(\"/homefs/home/lux70/cache/ich20c3q/orig_pred_11.pdb\");\n\tviewer_17163933401119041.addModelsAsFrames(\"/homefs/home/lux70/cache/ich20c3q/recons_pred_11.pdb\");\n\tviewer_17163933401119041.setStyle({\"model\": 0},{\"cartoon\": {\"color\": \"orange\"}});\n\tviewer_17163933401119041.setStyle({\"model\": 1},{\"cartoon\": {\"color\": \"blue\"}});\n\tviewer_17163933401119041.zoomTo();\nviewer_17163933401119041.render();\n});\n</script>",
      "text/html": [
       "<div id=\"3dmolviewer_17163933401119041\"  style=\"position: relative; width: 400px; height: 300px;\">\n",
       "        <p id=\"3dmolwarning_17163933401119041\" style=\"background-color:#ffcccc;color:black\">3Dmol.js failed to load for some reason.  Please check your browser console for error messages.<br></p>\n",
       "        </div>\n",
       "<script>\n",
       "\n",
       "var loadScriptAsync = function(uri){\n",
       "  return new Promise((resolve, reject) => {\n",
       "    //this is to ignore the existence of requirejs amd\n",
       "    var savedexports, savedmodule;\n",
       "    if (typeof exports !== 'undefined') savedexports = exports;\n",
       "    else exports = {}\n",
       "    if (typeof module !== 'undefined') savedmodule = module;\n",
       "    else module = {}\n",
       "\n",
       "    var tag = document.createElement('script');\n",
       "    tag.src = uri;\n",
       "    tag.async = true;\n",
       "    tag.onload = () => {\n",
       "        exports = savedexports;\n",
       "        module = savedmodule;\n",
       "        resolve();\n",
       "    };\n",
       "  var firstScriptTag = document.getElementsByTagName('script')[0];\n",
       "  firstScriptTag.parentNode.insertBefore(tag, firstScriptTag);\n",
       "});\n",
       "};\n",
       "\n",
       "if(typeof $3Dmolpromise === 'undefined') {\n",
       "$3Dmolpromise = null;\n",
       "  $3Dmolpromise = loadScriptAsync('https://cdnjs.cloudflare.com/ajax/libs/3Dmol/2.1.0/3Dmol-min.js');\n",
       "}\n",
       "\n",
       "var viewer_17163933401119041 = null;\n",
       "var warn = document.getElementById(\"3dmolwarning_17163933401119041\");\n",
       "if(warn) {\n",
       "    warn.parentNode.removeChild(warn);\n",
       "}\n",
       "$3Dmolpromise.then(function() {\n",
       "viewer_17163933401119041 = $3Dmol.createViewer(document.getElementById(\"3dmolviewer_17163933401119041\"),{backgroundColor:\"white\"});\n",
       "viewer_17163933401119041.zoomTo();\n",
       "\tviewer_17163933401119041.addModelsAsFrames(\"/homefs/home/lux70/cache/ich20c3q/orig_pred_11.pdb\");\n",
       "\tviewer_17163933401119041.addModelsAsFrames(\"/homefs/home/lux70/cache/ich20c3q/recons_pred_11.pdb\");\n",
       "\tviewer_17163933401119041.setStyle({\"model\": 0},{\"cartoon\": {\"color\": \"orange\"}});\n",
       "\tviewer_17163933401119041.setStyle({\"model\": 1},{\"cartoon\": {\"color\": \"blue\"}});\n",
       "\tviewer_17163933401119041.zoomTo();\n",
       "viewer_17163933401119041.render();\n",
       "});\n",
       "</script>"
      ]
     },
     "metadata": {},
     "output_type": "display_data"
    }
   ],
   "source": [
    "from plaid.utils import view_py3Dmol\n",
    "import py3Dmol\n",
    "\n",
    "curdim = 256\n",
    "data = dim_to_dir[curdim]\n",
    "\n",
    "for i in range(4):\n",
    "    print(i, data['tmscores'][i])\n",
    "    view = py3Dmol.view(width=400, height=300)\n",
    "    view.addModelsAsFrames(data['original'][i])\n",
    "    view.addModelsAsFrames(data['predicted'][i])\n",
    "    view.setStyle({\"model\": 0}, {\"cartoon\": {\"color\": \"orange\"}})\n",
    "    view.setStyle({\"model\": 1}, {\"cartoon\": {\"color\": \"blue\"}})\n",
    "    view.zoomTo()\n",
    "    view.show()"
   ]
  },
  {
   "cell_type": "code",
   "execution_count": null,
   "id": "125b4e51-93ee-48ee-9a53-9267bda41506",
   "metadata": {},
   "outputs": [],
   "source": []
  }
 ],
 "metadata": {
  "kernelspec": {
   "display_name": "Python (plaid)",
   "language": "python",
   "name": "plaid"
  },
  "language_info": {
   "codemirror_mode": {
    "name": "ipython",
    "version": 3
   },
   "file_extension": ".py",
   "mimetype": "text/x-python",
   "name": "python",
   "nbconvert_exporter": "python",
   "pygments_lexer": "ipython3",
   "version": "3.10.0"
  }
 },
 "nbformat": 4,
 "nbformat_minor": 5
}
