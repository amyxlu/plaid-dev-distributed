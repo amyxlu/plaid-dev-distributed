{
 "cells": [
  {
   "cell_type": "code",
   "execution_count": 5,
   "id": "fa69f70a-a2fd-42dd-b7b7-b22c1a87ff45",
   "metadata": {},
   "outputs": [
    {
     "name": "stdout",
     "output_type": "stream",
     "text": [
      "The autoreload extension is already loaded. To reload it, use:\n",
      "  %reload_ext autoreload\n"
     ]
    }
   ],
   "source": [
    "%load_ext autoreload \n",
    "%autoreload 2\n",
    "\n",
    "from pathlib import Path\n",
    "import torchdrug\n",
    "from torchdrug import datasets, core, tasks, transforms\n",
    "import torch\n",
    "\n",
    "from plaid.datasets import CATHShardedDataModule\n",
    "from plaid.compression.hourglass_vq import HourglassVQLightningModule\n",
    "from torchdrug import layers\n",
    "from plaid.esmfold.misc import batch_encode_sequences\n",
    "from plaid.esmfold import esmfold_v1\n",
    "\n",
    "TORCH_DRUG_DATASETS_PATH = Path(\"/homefs/home/lux70/storage/data/torchdrug\")\n",
    "device = torch.device(\"cuda\")"
   ]
  },
  {
   "cell_type": "code",
   "execution_count": 25,
   "id": "cfc14aec-c922-489a-b8c9-9cfa861eab79",
   "metadata": {},
   "outputs": [
    {
     "name": "stdout",
     "output_type": "stream",
     "text": [
      "using quantizer tanh\n"
     ]
    }
   ],
   "source": [
    "compression_model_id = \"kyytc8i9\"\n",
    "ckpt_dir = Path(\"/homefs/home/lux70/storage/plaid/checkpoints/hourglass_vq\")\n",
    "\n",
    "ckpt_path = ckpt_dir / compression_model_id / \"last.ckpt\"\n",
    "hourglass = HourglassVQLightningModule.load_from_checkpoint(ckpt_path)"
   ]
  },
  {
   "cell_type": "code",
   "execution_count": 23,
   "id": "7bb1bc8b-aa4c-4bff-97c4-da0cc851842b",
   "metadata": {},
   "outputs": [
    {
     "name": "stdout",
     "output_type": "stream",
     "text": [
      "using quantizer tanh\n"
     ]
    }
   ],
   "source": [
    "class ModelWrapper(torch.nn.Module):\n",
    "    def __init__(\n",
    "        self,\n",
    "        compression_model_id = \"kyytc8i9\",\n",
    "        ckpt_dir = Path(\"/homefs/home/lux70/storage/plaid/checkpoints/hourglass_vq\"),\n",
    "        esmfold=None,\n",
    "        num_mlp_layers=2,\n",
    "        num_classes=None,\n",
    "    ):\n",
    "        super().__init__()\n",
    "        self.compression_model_id = compression_model_id\n",
    "        self.ckpt_dir = ckpt_dir\n",
    "        \n",
    "\n",
    "        if esmfold is None:\n",
    "            esmfold = esmfold_v1()\n",
    "\n",
    "        hourglass = HourglassVQLightningModule.load_from_checkpoint(ckpt_dir / compression_model_id / \"last.ckpt\")\n",
    "        output_dim = 1024 // hourglass.enc.downproj_factor\n",
    "\n",
    "        mlp = layers.MLP(\n",
    "            output_dim,\n",
    "            [output_dim] * (num_mlp_layers - 1),\n",
    "            batch_norm=False,\n",
    "        )\n",
    "        self.esmfold = esmfold.requires_grad_(False)\n",
    "        self.hourglass = hourglass.requires_grad_(False)\n",
    "        self.output_dim = output_dim\n",
    "        self.mlp = mlp.to(device).requires_grad_(True)\n",
    "        \n",
    "        if num_classes is not None:\n",
    "            # assume classification\n",
    "            self.out_layer = torch.nn.Linear(output_dim, num_classes)\n",
    "        else:\n",
    "            # assume regression\n",
    "            self.out_layer = torch.nn.Linear(output_dim, 1)\n",
    "        \n",
    "\n",
    "    def forward(self, sequences):\n",
    "        with torch.no_grad():\n",
    "            latent = self.esmfold.infer_embedding(sequences)['s'].to(self.device)\n",
    "            compressed = self.hourglass(latent, mask=None, infer_only=True)  # (N, L, C)\n",
    "            compressed = torch.from_numpy(compressed).to(self.device)  # no grad passed\n",
    "        return self.out_layer(self.mlp(compressed.mean(dim=1))), compressed\n",
    "\n",
    "#esmfold = esmfold_v1()\n",
    "model = ModelWrapper(esmfold=esmfold)"
   ]
  },
  {
   "cell_type": "markdown",
   "id": "7c43f384-0862-4b24-a414-83621d83508d",
   "metadata": {},
   "source": [
    "# Beta Lactamase"
   ]
  },
  {
   "cell_type": "code",
   "execution_count": 6,
   "id": "81053594-209d-4828-9423-34b200567efa",
   "metadata": {},
   "outputs": [
    {
     "name": "stdout",
     "output_type": "stream",
     "text": [
      "19:56:10   Extracting /homefs/home/lux70/storage/data/torchdrug/beta_lactamase.tar.gz to /homefs/home/lux70/storage/data/torchdrug\n"
     ]
    },
    {
     "name": "stderr",
     "output_type": "stream",
     "text": [
      "Constructing proteins from sequences: 100%|███████████████████████████████████████████████████████████████████████████████████████████████████████████████| 5198/5198 [00:00<00:00, 12790.06it/s]\n"
     ]
    }
   ],
   "source": [
    "truncate_transform = transforms.TruncateProtein(max_length=350, random=False)\n",
    "dataset = datasets.BetaLactamase(TORCH_DRUG_DATASETS_PATH, transform=truncate_transform, lazy=True)\n",
    "train_set, valid_set, test_set = dataset.split()"
   ]
  },
  {
   "cell_type": "code",
   "execution_count": 24,
   "id": "3cb96fa8-2bad-4a0e-ae02-29e8ad6bde66",
   "metadata": {},
   "outputs": [
    {
     "data": {
      "text/plain": [
       "tensor([[-0.0998],\n",
       "        [-0.1001],\n",
       "        [-0.0999],\n",
       "        [-0.1002],\n",
       "        [-0.0999],\n",
       "        [-0.1000],\n",
       "        [-0.0998],\n",
       "        [-0.0999],\n",
       "        [-0.0998],\n",
       "        [-0.1000]], device='cuda:0', grad_fn=<AddmmBackward0>)"
      ]
     },
     "execution_count": 24,
     "metadata": {},
     "output_type": "execute_result"
    }
   ],
   "source": [
    "model = model.to(device)\n",
    "model(dataset.sequences[:10])"
   ]
  },
  {
   "cell_type": "code",
   "execution_count": 30,
   "id": "86372c37-5d1a-4c4b-b7dd-48a2736c24b1",
   "metadata": {},
   "outputs": [
    {
     "name": "stdout",
     "output_type": "stream",
     "text": [
      "00:59:45   Extracting /homefs/home/lux70/storage/data/torchdrug/beta_lactamase.tar.gz to /homefs/home/lux70/storage/data/torchdrug\n"
     ]
    },
    {
     "name": "stderr",
     "output_type": "stream",
     "text": [
      "Constructing proteins from sequences: 100%|████████████████████████████████████████████████████████████████████| 5198/5198 [00:08<00:00, 645.76it/s]\n"
     ]
    }
   ],
   "source": [
    "\n",
    "from torchdrug import datasets, transforms, tasks, core\n",
    "import torch\n",
    "\n",
    "truncate_transform = transforms.TruncateProtein(max_length=200, random=False)\n",
    "protein_view_transform = transforms.ProteinView(view=\"residue\")\n",
    "transform = transforms.Compose([truncate_transform, protein_view_transform])\n",
    "\n",
    "dataset = datasets.BetaLactamase(\"~/storage/data/torchdrug\", atom_feature=None, bond_feature=None, residue_feature=\"default\", transform=transform)\n",
    "train_set, valid_set, test_set = dataset.split()\n",
    "# task = tasks.PropertyPrediction(model, task=dataset.tasks,\n",
    "#                                 criterion=\"mse\", metric=(\"mae\", \"rmse\", \"spearmanr\"),\n",
    "#                                 normalization=False, num_mlp_layer=2)"
   ]
  },
  {
   "cell_type": "code",
   "execution_count": 40,
   "id": "cfe09401-3b35-4d8e-84f3-13c5995051aa",
   "metadata": {},
   "outputs": [
    {
     "data": {
      "text/plain": [
       "{'graph': Protein(num_atom=0, num_bond=0, num_residue=200),\n",
       " 'scaled_effect1': 0.9426838159561157}"
      ]
     },
     "execution_count": 40,
     "metadata": {},
     "output_type": "execute_result"
    }
   ],
   "source": [
    "train_set[0]"
   ]
  },
  {
   "cell_type": "code",
   "execution_count": 42,
   "id": "43faf21b-c8d5-4aed-bd69-b0db10ab7ccb",
   "metadata": {},
   "outputs": [
    {
     "data": {
      "text/plain": [
       "tensor([14,  2,  7, 11, 15, 16, 17,  4,  1,  8,  7,  3, 16, 16,  1,  1, 16,  6,\n",
       "         8,  3,  4, 16,  1, 15,  3, 13,  5,  8,  4, 12,  4, 12, 10,  1, 13, 10,\n",
       "        11,  8,  0,  1, 17,  4,  0, 18,  7, 13,  8, 10,  8,  9,  2,  0, 12,  7,\n",
       "         8, 13,  2, 16, 17,  3, 13, 13, 17, 16,  3, 14, 14,  2,  5, 16, 12,  4,\n",
       "         8,  8,  6,  0,  1,  4,  8,  2, 17,  4, 10,  1,  0, 11, 13, 11,  8,  0,\n",
       "        17, 17,  7, 15, 18,  2, 11,  9, 10,  8,  4, 13, 18,  2,  3,  4,  5, 13,\n",
       "        12, 15,  8,  5, 10,  0, 14,  5,  4, 17, 13,  8,  6,  2,  1,  1,  7,  5,\n",
       "        14,  2, 10,  9,  5,  1,  1,  9,  8,  7,  8,  5,  5,  7,  0,  0,  3, 12,\n",
       "        13,  8,  5,  1, 16,  8, 15,  9, 14,  0, 10, 15,  4,  5, 17,  8, 10, 17,\n",
       "        19, 13,  3, 13,  8,  9, 13,  1,  7,  3,  9, 10, 13, 17, 10,  5,  5, 14,\n",
       "         3,  1,  1, 14,  1,  5,  5,  8, 17, 12,  8,  8,  5,  0, 13,  8,  8,  5,\n",
       "         8,  1])"
      ]
     },
     "execution_count": 42,
     "metadata": {},
     "output_type": "execute_result"
    }
   ],
   "source": [
    "batch = train_set[0]\n",
    "batch['graph'].residue_type"
   ]
  },
  {
   "cell_type": "code",
   "execution_count": 33,
   "id": "330ef209-2323-4e73-956a-5a3e787ecc34",
   "metadata": {},
   "outputs": [
    {
     "data": {
      "text/plain": [
       "dict_keys(['_meta_contexts', 'meta_dict', '_edge_list', '_edge_weight', 'num_atom', 'num_bond', 'num_relation', 'atom_type', 'formal_charge', 'explicit_hs', 'chiral_tag', 'radical_electrons', 'atom_map', 'bond_type', 'bond_stereo', 'stereo_atoms', 'num_residue', 'view', 'atom_name', 'atom2residue', 'is_hetero_atom', 'occupancy', 'b_factor', 'residue_type', 'residue_feature', 'residue_number', 'insertion_code', 'chain_id'])"
      ]
     },
     "execution_count": 33,
     "metadata": {},
     "output_type": "execute_result"
    }
   ],
   "source": [
    "batch['graph'].__dict__.keys()"
   ]
  },
  {
   "cell_type": "code",
   "execution_count": 39,
   "id": "a7c1a67b-e1dd-4fde-9899-906a51ebb050",
   "metadata": {},
   "outputs": [
    {
     "data": {
      "text/plain": [
       "tensor(19)"
      ]
     },
     "execution_count": 39,
     "metadata": {},
     "output_type": "execute_result"
    }
   ],
   "source": [
    "batch['graph'].residue_type.max()"
   ]
  },
  {
   "cell_type": "code",
   "execution_count": null,
   "id": "63411b1f-5a5e-41e8-b500-26c0023d6879",
   "metadata": {},
   "outputs": [],
   "source": []
  },
  {
   "cell_type": "code",
   "execution_count": null,
   "id": "54b232bb-0ed2-46a3-a857-90725f8224d4",
   "metadata": {},
   "outputs": [],
   "source": []
  },
  {
   "cell_type": "code",
   "execution_count": null,
   "id": "70a662af-e7a7-40ca-a39a-471a3efffbd8",
   "metadata": {},
   "outputs": [],
   "source": []
  },
  {
   "cell_type": "code",
   "execution_count": null,
   "id": "7f5cf7df-c545-4f67-9694-1d1d2b788073",
   "metadata": {},
   "outputs": [],
   "source": []
  },
  {
   "cell_type": "code",
   "execution_count": null,
   "id": "7cccd3dd-01c7-4eb9-bbd6-f179e3e3c6b2",
   "metadata": {},
   "outputs": [],
   "source": []
  },
  {
   "cell_type": "code",
   "execution_count": null,
   "id": "8bc92b89-c1ba-44a0-867b-f7d6ddc0c92c",
   "metadata": {},
   "outputs": [],
   "source": []
  },
  {
   "cell_type": "code",
   "execution_count": null,
   "id": "c1b4828b-83ed-4ea1-a1d8-1d1aa9808460",
   "metadata": {},
   "outputs": [],
   "source": []
  },
  {
   "cell_type": "code",
   "execution_count": null,
   "id": "cc01e310-bbde-4611-951d-701e2193118e",
   "metadata": {},
   "outputs": [],
   "source": []
  },
  {
   "cell_type": "markdown",
   "id": "19dd679f-b1bb-42d7-8c98-62c989b12eb5",
   "metadata": {},
   "source": [
    "# "
   ]
  },
  {
   "cell_type": "code",
   "execution_count": 85,
   "id": "123bf867-bcf1-4cff-8777-9fe51f19f83e",
   "metadata": {},
   "outputs": [
    {
     "name": "stdout",
     "output_type": "stream",
     "text": [
      "19:39:21   Extracting /homefs/home/lux70/storage/data/torchdrug/fluorescence.tar.gz to /homefs/home/lux70/storage/data/torchdrug\n"
     ]
    },
    {
     "name": "stderr",
     "output_type": "stream",
     "text": [
      "Constructing proteins from sequences: 100%|████████████████████████████████████████████████████████████████████████████████████████████████████████████| 54025/54025 [00:00<00:00, 253494.00it/s]\n"
     ]
    }
   ],
   "source": [
    "fluorescence_ds = datasets.Fluorescence(TORCH_DRUG_DATASETS_PATH, transform=transform,lazy=True)"
   ]
  },
  {
   "cell_type": "code",
   "execution_count": 86,
   "id": "3004b894-3e17-41e7-9c58-0df72a52757d",
   "metadata": {},
   "outputs": [
    {
     "name": "stdout",
     "output_type": "stream",
     "text": [
      "19:39:27   Downloading https://miladeepgraphlearningproteindata.s3.us-east-2.amazonaws.com/peerdata/solubility.tar.gz to /homefs/home/lux70/storage/data/torchdrug/solubility.tar.gz\n",
      "19:39:31   Extracting /homefs/home/lux70/storage/data/torchdrug/solubility.tar.gz to /homefs/home/lux70/storage/data/torchdrug\n"
     ]
    },
    {
     "name": "stderr",
     "output_type": "stream",
     "text": [
      "Constructing proteins from sequences: 100%|████████████████████████████████████████████████████████████████████████████████████████████████████████████| 71419/71419 [00:00<00:00, 153910.69it/s]\n"
     ]
    }
   ],
   "source": [
    "soluability_ds = datasets.Solubility(TORCH_DRUG_DATASETS_PATH, transform=transform,lazy=True)"
   ]
  },
  {
   "cell_type": "code",
   "execution_count": 87,
   "id": "28c58850-0c0e-46f0-b45d-c8002be52537",
   "metadata": {},
   "outputs": [
    {
     "name": "stdout",
     "output_type": "stream",
     "text": [
      "19:39:41   Downloading https://miladeepgraphlearningproteindata.s3.us-east-2.amazonaws.com/peerdata/subcellular_localization_2.tar.gz to /homefs/home/lux70/storage/data/torchdrug/subcellular_localization_2.tar.gz\n",
      "19:39:42   Extracting /homefs/home/lux70/storage/data/torchdrug/subcellular_localization_2.tar.gz to /homefs/home/lux70/storage/data/torchdrug\n"
     ]
    },
    {
     "name": "stderr",
     "output_type": "stream",
     "text": [
      "Constructing proteins from sequences: 100%|████████████████████████████████████████████████████████████████████████████████████████████████████████████████| 8662/8662 [00:00<00:00, 8802.92it/s]\n"
     ]
    }
   ],
   "source": [
    "binary_loc_ds = datasets.BinaryLocalization(TORCH_DRUG_DATASETS_PATH, transform=transform,lazy=True)"
   ]
  },
  {
   "cell_type": "code",
   "execution_count": 88,
   "id": "3f52b711-83b2-4427-9566-21d7b07ea7c8",
   "metadata": {},
   "outputs": [
    {
     "name": "stdout",
     "output_type": "stream",
     "text": [
      "19:39:47   Downloading https://miladeepgraphlearningproteindata.s3.us-east-2.amazonaws.com/peerdata/subcellular_localization.tar.gz to /homefs/home/lux70/storage/data/torchdrug/subcellular_localization.tar.gz\n",
      "19:39:48   Extracting /homefs/home/lux70/storage/data/torchdrug/subcellular_localization.tar.gz to /homefs/home/lux70/storage/data/torchdrug\n"
     ]
    },
    {
     "name": "stderr",
     "output_type": "stream",
     "text": [
      "Constructing proteins from sequences: 100%|█████████████████████████████████████████████████████████████████████████████████████████████████████████████| 14004/14004 [00:00<00:00, 31486.60it/s]\n"
     ]
    }
   ],
   "source": [
    "sub_loc_ds = datasets.SubcellularLocalization(TORCH_DRUG_DATASETS_PATH, transform=transform,lazy=True)"
   ]
  },
  {
   "cell_type": "code",
   "execution_count": 89,
   "id": "31777273-1442-448d-ab08-093586688825",
   "metadata": {},
   "outputs": [
    {
     "name": "stdout",
     "output_type": "stream",
     "text": [
      "19:39:50   Downloading https://zenodo.org/record/6622158/files/EnzymeCommission.zip to /homefs/home/lux70/storage/data/torchdrug/EnzymeCommission.zip\n",
      "19:40:48   Extracting /homefs/home/lux70/storage/data/torchdrug/EnzymeCommission.zip to /homefs/home/lux70/storage/data/torchdrug\n",
      "19:40:51   Extracting /homefs/home/lux70/storage/data/torchdrug/EnzymeCommission/train.zip to /homefs/home/lux70/storage/data/torchdrug/EnzymeCommission\n",
      "19:41:54   Extracting /homefs/home/lux70/storage/data/torchdrug/EnzymeCommission/valid.zip to /homefs/home/lux70/storage/data/torchdrug/EnzymeCommission\n",
      "19:42:01   Extracting /homefs/home/lux70/storage/data/torchdrug/EnzymeCommission/test.zip to /homefs/home/lux70/storage/data/torchdrug/EnzymeCommission\n"
     ]
    },
    {
     "name": "stderr",
     "output_type": "stream",
     "text": [
      "Constructing proteins from pdbs:   0%|                                                                                                                                 | 0/19198 [00:00<?, ?it/s]/homefs/home/lux70/code/torchdrug/torchdrug/data/protein.py:212: UserWarning: Unknown residue `HOH`. Treat as glycine\n",
      "  warnings.warn(\"Unknown residue `%s`. Treat as glycine\" % type)\n",
      "/homefs/home/lux70/code/torchdrug/torchdrug/data/feature.py:42: UserWarning: Unknown value `HOH`\n",
      "  warnings.warn(\"Unknown value `%s`\" % x)\n",
      "Constructing proteins from pdbs: 100%|█████████████████████████████████████████████████████████████████████████████████████████████████████████████████| 19198/19198 [00:00<00:00, 134829.13it/s]\n",
      "Dumping to /homefs/home/lux70/storage/data/torchdrug/EnzymeCommission/enzyme_commission.pkl.gz: 100%|███████████████████████████████████████████████████| 19198/19198 [00:00<00:00, 72040.30it/s]\n"
     ]
    }
   ],
   "source": [
    "ec_ds = datasets.EnzymeCommission(TORCH_DRUG_DATASETS_PATH, transform=transform,lazy=True)"
   ]
  },
  {
   "cell_type": "code",
   "execution_count": 22,
   "id": "45a58c9d-a247-4513-9296-471f6450b751",
   "metadata": {},
   "outputs": [
    {
     "ename": "NameError",
     "evalue": "name 'transform' is not defined",
     "output_type": "error",
     "traceback": [
      "\u001b[0;31m---------------------------------------------------------------------------\u001b[0m",
      "\u001b[0;31mNameError\u001b[0m                                 Traceback (most recent call last)",
      "Cell \u001b[0;32mIn[22], line 1\u001b[0m\n\u001b[0;32m----> 1\u001b[0m go_ds \u001b[38;5;241m=\u001b[39m datasets\u001b[38;5;241m.\u001b[39mGeneOntology(TORCH_DRUG_DATASETS_PATH, transform\u001b[38;5;241m=\u001b[39m\u001b[43mtransform\u001b[49m,lazy\u001b[38;5;241m=\u001b[39m\u001b[38;5;28;01mTrue\u001b[39;00m)\n",
      "\u001b[0;31mNameError\u001b[0m: name 'transform' is not defined"
     ]
    }
   ],
   "source": [
    "go_ds = datasets.GeneOntology(TORCH_DRUG_DATASETS_PATH, transform=transform,lazy=True)"
   ]
  },
  {
   "cell_type": "code",
   "execution_count": null,
   "id": "ace829d7-bc8f-4518-ac06-4e716c59426a",
   "metadata": {},
   "outputs": [],
   "source": [
    "fold_ds = datasets.Fold(TORCH_DRUG_DATASETS_PATH, transform=transform,lazy=True)"
   ]
  },
  {
   "cell_type": "code",
   "execution_count": null,
   "id": "038e3ac6-aa07-4245-b5ae-36da16ecea74",
   "metadata": {},
   "outputs": [],
   "source": [
    "ss_ds = datasets.SecondaryStructure(TORCH_DRUG_DATASETS_PATH, transform=transform,lazy=True)"
   ]
  },
  {
   "cell_type": "code",
   "execution_count": null,
   "id": "43ed8815-ed1c-4310-8661-5cef433e2364",
   "metadata": {},
   "outputs": [],
   "source": [
    "pn_ds = datasets.ProteinNet(TORCH_DRUG_DATASETS_PATH, transform=transform,lazy=True)"
   ]
  },
  {
   "cell_type": "code",
   "execution_count": null,
   "id": "bcea048b-7c40-441e-8066-f003a919f992",
   "metadata": {},
   "outputs": [],
   "source": [
    "ppi_ds = datasets.HumanPPI(TORCH_DRUG_DATASETS_PATH, transform=transform,lazy=True)"
   ]
  },
  {
   "cell_type": "code",
   "execution_count": null,
   "id": "f070222f-ca96-4107-a0ed-e1bea6271ecc",
   "metadata": {},
   "outputs": [],
   "source": [
    "yeast_ds = datasets.YeastPPI(TORCH_DRUG_DATASETS_PATH, transform=transform,lazy=True)"
   ]
  },
  {
   "cell_type": "code",
   "execution_count": null,
   "id": "d9676d0c-12ba-49b5-beb6-bb705af25ccb",
   "metadata": {},
   "outputs": [],
   "source": [
    "ppi_aff_ds = datasets.PIAffinity(TORCH_DRUG_DATASETS_PATH, transform=transform,lazy=True)"
   ]
  },
  {
   "cell_type": "code",
   "execution_count": null,
   "id": "abccf61f-00fd-4108-9f51-9f7f7b173688",
   "metadata": {},
   "outputs": [],
   "source": []
  }
 ],
 "metadata": {
  "kernelspec": {
   "display_name": "Python (torchdrug)",
   "language": "python",
   "name": "torchdrug"
  },
  "language_info": {
   "codemirror_mode": {
    "name": "ipython",
    "version": 3
   },
   "file_extension": ".py",
   "mimetype": "text/x-python",
   "name": "python",
   "nbconvert_exporter": "python",
   "pygments_lexer": "ipython3",
   "version": "3.10.14"
  }
 },
 "nbformat": 4,
 "nbformat_minor": 5
}
