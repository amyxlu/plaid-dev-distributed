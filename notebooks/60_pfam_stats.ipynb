{
 "cells": [
  {
   "cell_type": "code",
   "execution_count": 2,
   "id": "5d10c310-485e-4aaa-8105-a5b0d95e1964",
   "metadata": {},
   "outputs": [
    {
     "name": "stdout",
     "output_type": "stream",
     "text": [
      "The autoreload extension is already loaded. To reload it, use:\n",
      "  %reload_ext autoreload\n"
     ]
    }
   ],
   "source": [
    "%load_ext autoreload\n",
    "%autoreload 2"
   ]
  },
  {
   "cell_type": "code",
   "execution_count": 9,
   "id": "0d8a0c41-9de1-43b4-9948-a87918be963b",
   "metadata": {},
   "outputs": [],
   "source": [
    "path = \"/data/lux70/data/pfam/Pfam-A.fasta\"\n",
    "from plaid.datasets import FastaDataset, MetadataParser"
   ]
  },
  {
   "cell_type": "code",
   "execution_count": 5,
   "id": "58096ddf-07f2-4e4e-8173-3ac64ab75baf",
   "metadata": {},
   "outputs": [
    {
     "name": "stderr",
     "output_type": "stream",
     "text": [
      "100%|██████████| 10.6G/10.6G [00:33<00:00, 339MB/s]\n",
      "100%|██████████| 10.6G/10.6G [01:01<00:00, 186MB/s]\n"
     ]
    }
   ],
   "source": [
    "ds = FastaDataset(path)"
   ]
  },
  {
   "cell_type": "code",
   "execution_count": 6,
   "id": "88cfc855-505c-4757-a195-e4511351199f",
   "metadata": {},
   "outputs": [
    {
     "data": {
      "application/vnd.jupyter.widget-view+json": {
       "model_id": "69907da9db5a40f2bed8b033c1a958ab",
       "version_major": 2,
       "version_minor": 0
      },
      "text/plain": [
       "  0%|          | 0/52786549 [00:00<?, ?it/s]"
      ]
     },
     "metadata": {},
     "output_type": "display_data"
    }
   ],
   "source": [
    "headers = []\n",
    "sequences = []\n",
    "\n",
    "from tqdm.notebook import tqdm, trange\n",
    "\n",
    "for i in trange(len(ds)):\n",
    "    header, sequence = ds[i]\n",
    "    headers.append(header)\n",
    "    sequences.append(sequence)"
   ]
  },
  {
   "cell_type": "code",
   "execution_count": 7,
   "id": "44f1b4e3-5bb4-4253-8068-60ed03db85d8",
   "metadata": {},
   "outputs": [],
   "source": [
    "import pandas as pd\n",
    "\n",
    "df = pd.DataFrame({\n",
    "    \"sequences\": sequences,\n",
    "    \"headers\": headers\n",
    "})"
   ]
  },
  {
   "cell_type": "code",
   "execution_count": 17,
   "id": "08adc0ab-3d0c-4108-bfab-82647743060f",
   "metadata": {},
   "outputs": [],
   "source": [
    "parser = MetadataParser()\n",
    "\n",
    "df['pfam_id'] = df.headers.map(lambda x: parser.header_to_pfam_id(x))\n",
    "df['organism_idx'] = df.headers.map(lambda x: parser.header_to_organism(x))"
   ]
  },
  {
   "cell_type": "code",
   "execution_count": 18,
   "id": "cb11c18d-8f84-4d60-91d8-8a83756bae89",
   "metadata": {},
   "outputs": [
    {
     "data": {
      "text/html": [
       "<div>\n",
       "<style scoped>\n",
       "    .dataframe tbody tr th:only-of-type {\n",
       "        vertical-align: middle;\n",
       "    }\n",
       "\n",
       "    .dataframe tbody tr th {\n",
       "        vertical-align: top;\n",
       "    }\n",
       "\n",
       "    .dataframe thead th {\n",
       "        text-align: right;\n",
       "    }\n",
       "</style>\n",
       "<table border=\"1\" class=\"dataframe\">\n",
       "  <thead>\n",
       "    <tr style=\"text-align: right;\">\n",
       "      <th></th>\n",
       "      <th>sequences</th>\n",
       "      <th>headers</th>\n",
       "      <th>pfam_id</th>\n",
       "      <th>organism_idx</th>\n",
       "    </tr>\n",
       "  </thead>\n",
       "  <tbody>\n",
       "    <tr>\n",
       "      <th>0</th>\n",
       "      <td>AFQYVQANPDEVCPANWTPGEKTMKPDPEGSKEYFSA</td>\n",
       "      <td>Q3AXS2_SYNS9/165-201 Q3AXS2.1 PF10417.13;1-cys...</td>\n",
       "      <td>PF10417</td>\n",
       "      <td>SYNS9</td>\n",
       "    </tr>\n",
       "    <tr>\n",
       "      <th>1</th>\n",
       "      <td>GLQYNRKTGEVVPANWVPGQSGITRDTKYIGR</td>\n",
       "      <td>K6DUV5_SCHAZ/104-135 K6DUV5.1 PF10417.13;1-cys...</td>\n",
       "      <td>PF10417</td>\n",
       "      <td>SCHAZ</td>\n",
       "    </tr>\n",
       "    <tr>\n",
       "      <th>2</th>\n",
       "      <td>AAQYVRTHPGEVCPAKWKEDGETLKPSFDLVGK</td>\n",
       "      <td>A0A2C9XNY2_9ENTE/154-186 A0A2C9XNY2.1 PF10417....</td>\n",
       "      <td>PF10417</td>\n",
       "      <td>9ENTE</td>\n",
       "    </tr>\n",
       "    <tr>\n",
       "      <th>3</th>\n",
       "      <td>AFQYATAHPGEVCPANWKPGHKTIKADQDAKYDFFDA</td>\n",
       "      <td>W4HAV8_APHAT/228-264 W4HAV8.1 PF10417.13;1-cys...</td>\n",
       "      <td>PF10417</td>\n",
       "      <td>APHAT</td>\n",
       "    </tr>\n",
       "    <tr>\n",
       "      <th>4</th>\n",
       "      <td>AAQYTAAHPNEVCPAKWKEGEKTLKPSLDLVGK</td>\n",
       "      <td>A0A4R5TJJ5_9GAMM/154-186 A0A4R5TJJ5.1 PF10417....</td>\n",
       "      <td>PF10417</td>\n",
       "      <td>9GAMM</td>\n",
       "    </tr>\n",
       "  </tbody>\n",
       "</table>\n",
       "</div>"
      ],
      "text/plain": [
       "                               sequences  \\\n",
       "0  AFQYVQANPDEVCPANWTPGEKTMKPDPEGSKEYFSA   \n",
       "1       GLQYNRKTGEVVPANWVPGQSGITRDTKYIGR   \n",
       "2      AAQYVRTHPGEVCPAKWKEDGETLKPSFDLVGK   \n",
       "3  AFQYATAHPGEVCPANWKPGHKTIKADQDAKYDFFDA   \n",
       "4      AAQYTAAHPNEVCPAKWKEGEKTLKPSLDLVGK   \n",
       "\n",
       "                                             headers  pfam_id organism_idx  \n",
       "0  Q3AXS2_SYNS9/165-201 Q3AXS2.1 PF10417.13;1-cys...  PF10417        SYNS9  \n",
       "1  K6DUV5_SCHAZ/104-135 K6DUV5.1 PF10417.13;1-cys...  PF10417        SCHAZ  \n",
       "2  A0A2C9XNY2_9ENTE/154-186 A0A2C9XNY2.1 PF10417....  PF10417        9ENTE  \n",
       "3  W4HAV8_APHAT/228-264 W4HAV8.1 PF10417.13;1-cys...  PF10417        APHAT  \n",
       "4  A0A4R5TJJ5_9GAMM/154-186 A0A4R5TJJ5.1 PF10417....  PF10417        9GAMM  "
      ]
     },
     "execution_count": 18,
     "metadata": {},
     "output_type": "execute_result"
    }
   ],
   "source": [
    "df.head()"
   ]
  },
  {
   "cell_type": "code",
   "execution_count": 22,
   "id": "98602cbb-6a1c-4a74-bd2d-6e7c11cdb49f",
   "metadata": {},
   "outputs": [
    {
     "name": "stdout",
     "output_type": "stream",
     "text": [
      "5212\n"
     ]
    }
   ],
   "source": [
    "print(len(set(parser.go_metadata.pfam_id)))"
   ]
  },
  {
   "cell_type": "code",
   "execution_count": 31,
   "id": "86a0ffdd-85c5-4d7a-8037-3d0db4866c34",
   "metadata": {},
   "outputs": [
    {
     "data": {
      "text/plain": [
       "True"
      ]
     },
     "execution_count": 31,
     "metadata": {},
     "output_type": "execute_result"
    }
   ],
   "source": [
    "'PF19036' in annotated_families"
   ]
  },
  {
   "cell_type": "code",
   "execution_count": 24,
   "id": "fe55d9dd-3653-4787-bc81-21a9d3a7ba98",
   "metadata": {},
   "outputs": [],
   "source": [
    "annotated_families = set(parser.go_metadata.pfam_id)\n",
    "df['has_go_annotation'] = df.headers.map(lambda x: x in annotated_families)"
   ]
  },
  {
   "cell_type": "code",
   "execution_count": 25,
   "id": "63b0f487-b2a2-40aa-8a03-04a814e61119",
   "metadata": {},
   "outputs": [
    {
     "data": {
      "text/html": [
       "<div>\n",
       "<style scoped>\n",
       "    .dataframe tbody tr th:only-of-type {\n",
       "        vertical-align: middle;\n",
       "    }\n",
       "\n",
       "    .dataframe tbody tr th {\n",
       "        vertical-align: top;\n",
       "    }\n",
       "\n",
       "    .dataframe thead th {\n",
       "        text-align: right;\n",
       "    }\n",
       "</style>\n",
       "<table border=\"1\" class=\"dataframe\">\n",
       "  <thead>\n",
       "    <tr style=\"text-align: right;\">\n",
       "      <th></th>\n",
       "      <th>sequences</th>\n",
       "      <th>headers</th>\n",
       "      <th>pfam_id</th>\n",
       "      <th>organism_idx</th>\n",
       "      <th>has_go_annotation</th>\n",
       "    </tr>\n",
       "  </thead>\n",
       "  <tbody>\n",
       "    <tr>\n",
       "      <th>0</th>\n",
       "      <td>AFQYVQANPDEVCPANWTPGEKTMKPDPEGSKEYFSA</td>\n",
       "      <td>Q3AXS2_SYNS9/165-201 Q3AXS2.1 PF10417.13;1-cys...</td>\n",
       "      <td>PF10417</td>\n",
       "      <td>SYNS9</td>\n",
       "      <td>False</td>\n",
       "    </tr>\n",
       "    <tr>\n",
       "      <th>1</th>\n",
       "      <td>GLQYNRKTGEVVPANWVPGQSGITRDTKYIGR</td>\n",
       "      <td>K6DUV5_SCHAZ/104-135 K6DUV5.1 PF10417.13;1-cys...</td>\n",
       "      <td>PF10417</td>\n",
       "      <td>SCHAZ</td>\n",
       "      <td>False</td>\n",
       "    </tr>\n",
       "    <tr>\n",
       "      <th>2</th>\n",
       "      <td>AAQYVRTHPGEVCPAKWKEDGETLKPSFDLVGK</td>\n",
       "      <td>A0A2C9XNY2_9ENTE/154-186 A0A2C9XNY2.1 PF10417....</td>\n",
       "      <td>PF10417</td>\n",
       "      <td>9ENTE</td>\n",
       "      <td>False</td>\n",
       "    </tr>\n",
       "    <tr>\n",
       "      <th>3</th>\n",
       "      <td>AFQYATAHPGEVCPANWKPGHKTIKADQDAKYDFFDA</td>\n",
       "      <td>W4HAV8_APHAT/228-264 W4HAV8.1 PF10417.13;1-cys...</td>\n",
       "      <td>PF10417</td>\n",
       "      <td>APHAT</td>\n",
       "      <td>False</td>\n",
       "    </tr>\n",
       "    <tr>\n",
       "      <th>4</th>\n",
       "      <td>AAQYTAAHPNEVCPAKWKEGEKTLKPSLDLVGK</td>\n",
       "      <td>A0A4R5TJJ5_9GAMM/154-186 A0A4R5TJJ5.1 PF10417....</td>\n",
       "      <td>PF10417</td>\n",
       "      <td>9GAMM</td>\n",
       "      <td>False</td>\n",
       "    </tr>\n",
       "  </tbody>\n",
       "</table>\n",
       "</div>"
      ],
      "text/plain": [
       "                               sequences  \\\n",
       "0  AFQYVQANPDEVCPANWTPGEKTMKPDPEGSKEYFSA   \n",
       "1       GLQYNRKTGEVVPANWVPGQSGITRDTKYIGR   \n",
       "2      AAQYVRTHPGEVCPAKWKEDGETLKPSFDLVGK   \n",
       "3  AFQYATAHPGEVCPANWKPGHKTIKADQDAKYDFFDA   \n",
       "4      AAQYTAAHPNEVCPAKWKEGEKTLKPSLDLVGK   \n",
       "\n",
       "                                             headers  pfam_id organism_idx  \\\n",
       "0  Q3AXS2_SYNS9/165-201 Q3AXS2.1 PF10417.13;1-cys...  PF10417        SYNS9   \n",
       "1  K6DUV5_SCHAZ/104-135 K6DUV5.1 PF10417.13;1-cys...  PF10417        SCHAZ   \n",
       "2  A0A2C9XNY2_9ENTE/154-186 A0A2C9XNY2.1 PF10417....  PF10417        9ENTE   \n",
       "3  W4HAV8_APHAT/228-264 W4HAV8.1 PF10417.13;1-cys...  PF10417        APHAT   \n",
       "4  A0A4R5TJJ5_9GAMM/154-186 A0A4R5TJJ5.1 PF10417....  PF10417        9GAMM   \n",
       "\n",
       "   has_go_annotation  \n",
       "0              False  \n",
       "1              False  \n",
       "2              False  \n",
       "3              False  \n",
       "4              False  "
      ]
     },
     "execution_count": 25,
     "metadata": {},
     "output_type": "execute_result"
    }
   ],
   "source": [
    "df.head()"
   ]
  },
  {
   "cell_type": "code",
   "execution_count": 34,
   "id": "3d1d63f7-1619-4fc6-a1fa-79afa4e9cd38",
   "metadata": {},
   "outputs": [],
   "source": [
    "has_go = [x in annotated_families for x in df.pfam_id.values]"
   ]
  },
  {
   "cell_type": "code",
   "execution_count": 36,
   "id": "c9a12da2-5b7b-437a-a838-40ef0d82bc20",
   "metadata": {},
   "outputs": [
    {
     "data": {
      "text/plain": [
       "20648"
      ]
     },
     "execution_count": 36,
     "metadata": {},
     "output_type": "execute_result"
    }
   ],
   "source": [
    "len(df.pfam_id.unique())"
   ]
  },
  {
   "cell_type": "code",
   "execution_count": 39,
   "id": "b6150d56-ebea-4e29-afba-652d158bfe64",
   "metadata": {},
   "outputs": [
    {
     "data": {
      "text/plain": [
       "0.46673322023760255"
      ]
     },
     "execution_count": 39,
     "metadata": {},
     "output_type": "execute_result"
    }
   ],
   "source": [
    "import numpy as np\n",
    "np.array(has_go).sum() / len(has_go)"
   ]
  },
  {
   "cell_type": "code",
   "execution_count": 40,
   "id": "b2c35c10-21f9-437e-9fcc-63a9a15eec8e",
   "metadata": {},
   "outputs": [
    {
     "name": "stdout",
     "output_type": "stream",
     "text": [
      "24637236\n"
     ]
    }
   ],
   "source": [
    "print(np.array(has_go).sum())"
   ]
  },
  {
   "cell_type": "code",
   "execution_count": null,
   "id": "90d869f6-3979-41ef-8196-0c4bf8242a99",
   "metadata": {},
   "outputs": [],
   "source": []
  }
 ],
 "metadata": {
  "kernelspec": {
   "display_name": "Python (flash_attn)",
   "language": "python",
   "name": "flash_attn"
  },
  "language_info": {
   "codemirror_mode": {
    "name": "ipython",
    "version": 3
   },
   "file_extension": ".py",
   "mimetype": "text/x-python",
   "name": "python",
   "nbconvert_exporter": "python",
   "pygments_lexer": "ipython3",
   "version": "3.11.9"
  }
 },
 "nbformat": 4,
 "nbformat_minor": 5
}
