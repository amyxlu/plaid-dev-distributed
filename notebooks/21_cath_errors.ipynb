version https://git-lfs.github.com/spec/v1
oid sha256:c0c43b45544d7fe35370523be4d4eb698258ff88544c496eb91b682fd2060e18
size 426633
