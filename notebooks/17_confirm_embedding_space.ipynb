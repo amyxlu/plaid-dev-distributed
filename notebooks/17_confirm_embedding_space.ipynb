{
 "cells": [
  {
   "cell_type": "code",
   "execution_count": 1,
   "metadata": {},
   "outputs": [],
   "source": [
    "%load_ext autoreload\n",
    "%autoreload 2"
   ]
  },
  {
   "cell_type": "code",
   "execution_count": 26,
   "metadata": {},
   "outputs": [],
   "source": [
    "from plaid.datasets import CATHShardedDataModule\n",
    "\n",
    "dm = CATHShardedDataModule()\n",
    "dm.setup(\"fit\")\n",
    "dl = dm.train_dataloader()\n",
    "batch = next(iter(dl))\n",
    "\n",
    "seq_to_header = {v: k for k, v in dm.train_dataset.header_to_seq.items()}"
   ]
  },
  {
   "cell_type": "code",
   "execution_count": 28,
   "metadata": {},
   "outputs": [],
   "source": [
    "from plaid.utils import LatentToSequence, LatentToStructure\n",
    "import torch\n",
    "device = torch.device(\"cuda\" if torch.cuda.is_available() else \"cpu\")\n",
    "l2seq = LatentToSequence(device)\n",
    "l2struct = LatentToStructure(device)\n",
    "l2struct.esmfold = l2struct.esmfold.to(dtype=torch.float32)"
   ]
  },
  {
   "cell_type": "code",
   "execution_count": 29,
   "metadata": {},
   "outputs": [],
   "source": [
    "x, mask, sequences = batch\n",
    "headers = [seq_to_header[s] for s in sequences]\n",
    "seqs = [s[:64] for s in sequences]"
   ]
  },
  {
   "cell_type": "code",
   "execution_count": 32,
   "metadata": {},
   "outputs": [
    {
     "data": {
      "text/plain": [
       "['2hfqA00',\n",
       " '3dh3B01',\n",
       " '2x6qA02',\n",
       " '2l6oA01',\n",
       " '2keoA00',\n",
       " '3k5rA02',\n",
       " '2rilA00',\n",
       " '1xovA02',\n",
       " '2losA00',\n",
       " '3fvcA03']"
      ]
     },
     "execution_count": 32,
     "metadata": {},
     "output_type": "execute_result"
    }
   ],
   "source": [
    "cath_ids = [h.split(\"|\")[2].split(\"/\")[0] for h in headers]\n",
    "cath_ids[:10]"
   ]
  },
  {
   "cell_type": "code",
   "execution_count": 59,
   "metadata": {},
   "outputs": [
    {
     "name": "stderr",
     "output_type": "stream",
     "text": [
      "(Generating structure from latents..): 100%|██████████| 1/1 [00:21<00:00, 21.11s/it]\n"
     ]
    }
   ],
   "source": [
    "pdbstrs, metrics = l2struct.to_structure(x.to(torch.float32), seqs, num_recycles=4)"
   ]
  },
  {
   "cell_type": "code",
   "execution_count": 60,
   "metadata": {},
   "outputs": [
    {
     "data": {
      "text/html": [
       "<div>\n",
       "<style scoped>\n",
       "    .dataframe tbody tr th:only-of-type {\n",
       "        vertical-align: middle;\n",
       "    }\n",
       "\n",
       "    .dataframe tbody tr th {\n",
       "        vertical-align: top;\n",
       "    }\n",
       "\n",
       "    .dataframe thead th {\n",
       "        text-align: right;\n",
       "    }\n",
       "</style>\n",
       "<table border=\"1\" class=\"dataframe\">\n",
       "  <thead>\n",
       "    <tr style=\"text-align: right;\">\n",
       "      <th></th>\n",
       "      <th>plddt</th>\n",
       "      <th>ptm</th>\n",
       "      <th>aligned_confidence_probs</th>\n",
       "      <th>predicted_aligned_error</th>\n",
       "    </tr>\n",
       "  </thead>\n",
       "  <tbody>\n",
       "    <tr>\n",
       "      <th>0</th>\n",
       "      <td>75.141884</td>\n",
       "      <td>0.753416</td>\n",
       "      <td>0.015625</td>\n",
       "      <td>3.425763</td>\n",
       "    </tr>\n",
       "    <tr>\n",
       "      <th>1</th>\n",
       "      <td>73.879166</td>\n",
       "      <td>0.811329</td>\n",
       "      <td>0.015625</td>\n",
       "      <td>3.084032</td>\n",
       "    </tr>\n",
       "    <tr>\n",
       "      <th>2</th>\n",
       "      <td>73.764053</td>\n",
       "      <td>0.758903</td>\n",
       "      <td>0.015625</td>\n",
       "      <td>3.114461</td>\n",
       "    </tr>\n",
       "    <tr>\n",
       "      <th>3</th>\n",
       "      <td>39.365517</td>\n",
       "      <td>0.237710</td>\n",
       "      <td>0.015625</td>\n",
       "      <td>16.648401</td>\n",
       "    </tr>\n",
       "    <tr>\n",
       "      <th>4</th>\n",
       "      <td>56.578186</td>\n",
       "      <td>0.356202</td>\n",
       "      <td>0.015625</td>\n",
       "      <td>10.982853</td>\n",
       "    </tr>\n",
       "    <tr>\n",
       "      <th>5</th>\n",
       "      <td>71.444534</td>\n",
       "      <td>0.593939</td>\n",
       "      <td>0.015625</td>\n",
       "      <td>5.531458</td>\n",
       "    </tr>\n",
       "    <tr>\n",
       "      <th>6</th>\n",
       "      <td>71.225548</td>\n",
       "      <td>0.610685</td>\n",
       "      <td>0.015625</td>\n",
       "      <td>4.504477</td>\n",
       "    </tr>\n",
       "    <tr>\n",
       "      <th>7</th>\n",
       "      <td>44.893436</td>\n",
       "      <td>0.290677</td>\n",
       "      <td>0.015625</td>\n",
       "      <td>14.074552</td>\n",
       "    </tr>\n",
       "    <tr>\n",
       "      <th>8</th>\n",
       "      <td>63.816181</td>\n",
       "      <td>0.574627</td>\n",
       "      <td>0.015625</td>\n",
       "      <td>8.036273</td>\n",
       "    </tr>\n",
       "    <tr>\n",
       "      <th>9</th>\n",
       "      <td>50.504631</td>\n",
       "      <td>0.255107</td>\n",
       "      <td>0.015625</td>\n",
       "      <td>18.744228</td>\n",
       "    </tr>\n",
       "    <tr>\n",
       "      <th>10</th>\n",
       "      <td>63.679306</td>\n",
       "      <td>0.594580</td>\n",
       "      <td>0.015625</td>\n",
       "      <td>6.470557</td>\n",
       "    </tr>\n",
       "    <tr>\n",
       "      <th>11</th>\n",
       "      <td>77.007980</td>\n",
       "      <td>0.789047</td>\n",
       "      <td>0.015625</td>\n",
       "      <td>3.409446</td>\n",
       "    </tr>\n",
       "    <tr>\n",
       "      <th>12</th>\n",
       "      <td>60.317871</td>\n",
       "      <td>0.515263</td>\n",
       "      <td>0.015625</td>\n",
       "      <td>9.929026</td>\n",
       "    </tr>\n",
       "    <tr>\n",
       "      <th>13</th>\n",
       "      <td>49.010525</td>\n",
       "      <td>0.299763</td>\n",
       "      <td>0.015625</td>\n",
       "      <td>15.137993</td>\n",
       "    </tr>\n",
       "    <tr>\n",
       "      <th>14</th>\n",
       "      <td>66.970818</td>\n",
       "      <td>0.619562</td>\n",
       "      <td>0.015625</td>\n",
       "      <td>5.389949</td>\n",
       "    </tr>\n",
       "    <tr>\n",
       "      <th>15</th>\n",
       "      <td>66.019165</td>\n",
       "      <td>0.585294</td>\n",
       "      <td>0.015625</td>\n",
       "      <td>8.046007</td>\n",
       "    </tr>\n",
       "    <tr>\n",
       "      <th>16</th>\n",
       "      <td>36.990524</td>\n",
       "      <td>0.166073</td>\n",
       "      <td>0.015625</td>\n",
       "      <td>16.616402</td>\n",
       "    </tr>\n",
       "    <tr>\n",
       "      <th>17</th>\n",
       "      <td>42.059807</td>\n",
       "      <td>0.192219</td>\n",
       "      <td>0.015625</td>\n",
       "      <td>17.538311</td>\n",
       "    </tr>\n",
       "    <tr>\n",
       "      <th>18</th>\n",
       "      <td>60.169743</td>\n",
       "      <td>0.507897</td>\n",
       "      <td>0.015625</td>\n",
       "      <td>9.004257</td>\n",
       "    </tr>\n",
       "    <tr>\n",
       "      <th>19</th>\n",
       "      <td>41.992516</td>\n",
       "      <td>0.210210</td>\n",
       "      <td>0.015625</td>\n",
       "      <td>19.032242</td>\n",
       "    </tr>\n",
       "    <tr>\n",
       "      <th>20</th>\n",
       "      <td>71.037346</td>\n",
       "      <td>0.681657</td>\n",
       "      <td>0.015625</td>\n",
       "      <td>4.078686</td>\n",
       "    </tr>\n",
       "    <tr>\n",
       "      <th>21</th>\n",
       "      <td>64.715111</td>\n",
       "      <td>0.551101</td>\n",
       "      <td>0.015625</td>\n",
       "      <td>7.200530</td>\n",
       "    </tr>\n",
       "    <tr>\n",
       "      <th>22</th>\n",
       "      <td>50.524441</td>\n",
       "      <td>0.304387</td>\n",
       "      <td>0.015625</td>\n",
       "      <td>13.376405</td>\n",
       "    </tr>\n",
       "    <tr>\n",
       "      <th>23</th>\n",
       "      <td>64.785744</td>\n",
       "      <td>0.564008</td>\n",
       "      <td>0.015625</td>\n",
       "      <td>7.894648</td>\n",
       "    </tr>\n",
       "    <tr>\n",
       "      <th>24</th>\n",
       "      <td>58.814953</td>\n",
       "      <td>0.526791</td>\n",
       "      <td>0.015625</td>\n",
       "      <td>9.712978</td>\n",
       "    </tr>\n",
       "    <tr>\n",
       "      <th>25</th>\n",
       "      <td>53.464272</td>\n",
       "      <td>0.320833</td>\n",
       "      <td>0.015625</td>\n",
       "      <td>17.274796</td>\n",
       "    </tr>\n",
       "    <tr>\n",
       "      <th>26</th>\n",
       "      <td>77.015068</td>\n",
       "      <td>0.698505</td>\n",
       "      <td>0.015625</td>\n",
       "      <td>3.677986</td>\n",
       "    </tr>\n",
       "    <tr>\n",
       "      <th>27</th>\n",
       "      <td>38.624523</td>\n",
       "      <td>0.164683</td>\n",
       "      <td>0.015625</td>\n",
       "      <td>17.723795</td>\n",
       "    </tr>\n",
       "    <tr>\n",
       "      <th>28</th>\n",
       "      <td>65.366714</td>\n",
       "      <td>0.487145</td>\n",
       "      <td>0.015625</td>\n",
       "      <td>6.530191</td>\n",
       "    </tr>\n",
       "    <tr>\n",
       "      <th>29</th>\n",
       "      <td>54.501110</td>\n",
       "      <td>0.399021</td>\n",
       "      <td>0.015625</td>\n",
       "      <td>10.007516</td>\n",
       "    </tr>\n",
       "    <tr>\n",
       "      <th>30</th>\n",
       "      <td>64.762085</td>\n",
       "      <td>0.596679</td>\n",
       "      <td>0.015625</td>\n",
       "      <td>6.529224</td>\n",
       "    </tr>\n",
       "    <tr>\n",
       "      <th>31</th>\n",
       "      <td>73.391273</td>\n",
       "      <td>0.649791</td>\n",
       "      <td>0.015625</td>\n",
       "      <td>5.344487</td>\n",
       "    </tr>\n",
       "  </tbody>\n",
       "</table>\n",
       "</div>"
      ],
      "text/plain": [
       "        plddt       ptm  aligned_confidence_probs  predicted_aligned_error\n",
       "0   75.141884  0.753416                  0.015625                 3.425763\n",
       "1   73.879166  0.811329                  0.015625                 3.084032\n",
       "2   73.764053  0.758903                  0.015625                 3.114461\n",
       "3   39.365517  0.237710                  0.015625                16.648401\n",
       "4   56.578186  0.356202                  0.015625                10.982853\n",
       "5   71.444534  0.593939                  0.015625                 5.531458\n",
       "6   71.225548  0.610685                  0.015625                 4.504477\n",
       "7   44.893436  0.290677                  0.015625                14.074552\n",
       "8   63.816181  0.574627                  0.015625                 8.036273\n",
       "9   50.504631  0.255107                  0.015625                18.744228\n",
       "10  63.679306  0.594580                  0.015625                 6.470557\n",
       "11  77.007980  0.789047                  0.015625                 3.409446\n",
       "12  60.317871  0.515263                  0.015625                 9.929026\n",
       "13  49.010525  0.299763                  0.015625                15.137993\n",
       "14  66.970818  0.619562                  0.015625                 5.389949\n",
       "15  66.019165  0.585294                  0.015625                 8.046007\n",
       "16  36.990524  0.166073                  0.015625                16.616402\n",
       "17  42.059807  0.192219                  0.015625                17.538311\n",
       "18  60.169743  0.507897                  0.015625                 9.004257\n",
       "19  41.992516  0.210210                  0.015625                19.032242\n",
       "20  71.037346  0.681657                  0.015625                 4.078686\n",
       "21  64.715111  0.551101                  0.015625                 7.200530\n",
       "22  50.524441  0.304387                  0.015625                13.376405\n",
       "23  64.785744  0.564008                  0.015625                 7.894648\n",
       "24  58.814953  0.526791                  0.015625                 9.712978\n",
       "25  53.464272  0.320833                  0.015625                17.274796\n",
       "26  77.015068  0.698505                  0.015625                 3.677986\n",
       "27  38.624523  0.164683                  0.015625                17.723795\n",
       "28  65.366714  0.487145                  0.015625                 6.530191\n",
       "29  54.501110  0.399021                  0.015625                10.007516\n",
       "30  64.762085  0.596679                  0.015625                 6.529224\n",
       "31  73.391273  0.649791                  0.015625                 5.344487"
      ]
     },
     "execution_count": 60,
     "metadata": {},
     "output_type": "execute_result"
    }
   ],
   "source": [
    "metrics"
   ]
  },
  {
   "cell_type": "code",
   "execution_count": 61,
   "metadata": {},
   "outputs": [],
   "source": [
    "for i in range(10):\n",
    "    with open(\"pred_from_latent_{}.pdb\".format(i), \"w\") as f:\n",
    "        f.write(pdbstrs[i])"
   ]
  },
  {
   "cell_type": "code",
   "execution_count": 62,
   "metadata": {},
   "outputs": [],
   "source": [
    "pdbstr_infered = l2struct.esmfold.infer_pdbs(seqs)"
   ]
  },
  {
   "cell_type": "code",
   "execution_count": 63,
   "metadata": {},
   "outputs": [],
   "source": [
    "for i in range(10):\n",
    "    with open(\"pred_from_seq_{}.pdb\".format(i), \"w\") as f:\n",
    "        f.write(pdbstr_infered[i])"
   ]
  },
  {
   "cell_type": "code",
   "execution_count": 43,
   "metadata": {},
   "outputs": [],
   "source": [
    "import os\n",
    "import shutil\n",
    "for i, name in enumerate(cath_ids[:10]):\n",
    "    original = \"/shared/amyxlu/data/cath/full/dompdb/\" + name\n",
    "    shutil.copy(original, f\"{i}_name.pdb\")\n",
    "    "
   ]
  },
  {
   "cell_type": "code",
   "execution_count": 42,
   "metadata": {},
   "outputs": [
    {
     "data": {
      "text/plain": [
       "['2hfqA00',\n",
       " '3dh3B01',\n",
       " '2x6qA02',\n",
       " '2l6oA01',\n",
       " '2keoA00',\n",
       " '3k5rA02',\n",
       " '2rilA00',\n",
       " '1xovA02',\n",
       " '2losA00',\n",
       " '3fvcA03']"
      ]
     },
     "execution_count": 42,
     "metadata": {},
     "output_type": "execute_result"
    }
   ],
   "source": [
    "cath_ids[:10]"
   ]
  },
  {
   "cell_type": "code",
   "execution_count": 64,
   "metadata": {},
   "outputs": [],
   "source": [
    "from plaid.utils import run_tmalign\n",
    "scores = []\n",
    "for i in range(10):\n",
    "    tmscore = run_tmalign(f\"pred_from_latent_{i}.pdb\", f\"pred_from_seq_{i}.pdb\")\n",
    "    scores.append(tmscore)"
   ]
  },
  {
   "cell_type": "code",
   "execution_count": 65,
   "metadata": {},
   "outputs": [
    {
     "data": {
      "text/plain": [
       "[0.96202,\n",
       " 0.99892,\n",
       " 0.28071,\n",
       " 0.66822,\n",
       " 0.30025,\n",
       " 0.98031,\n",
       " 0.75533,\n",
       " 0.87183,\n",
       " 0.51331,\n",
       " 0.38478]"
      ]
     },
     "execution_count": 65,
     "metadata": {},
     "output_type": "execute_result"
    }
   ],
   "source": [
    "scores"
   ]
  },
  {
   "cell_type": "code",
   "execution_count": 69,
   "metadata": {},
   "outputs": [
    {
     "data": {
      "text/plain": [
       "(array([2., 1., 0., 1., 0., 1., 1., 0., 1., 3.]),\n",
       " array([0.28071 , 0.352531, 0.424352, 0.496173, 0.567994, 0.639815,\n",
       "        0.711636, 0.783457, 0.855278, 0.927099, 0.99892 ]),\n",
       " <BarContainer object of 10 artists>)"
      ]
     },
     "execution_count": 69,
     "metadata": {},
     "output_type": "execute_result"
    },
    {
     "data": {
      "image/png": "[encoded data removed]",
      "text/plain": [
       "<Figure size 640x480 with 1 Axes>"
      ]
     },
     "metadata": {},
     "output_type": "display_data"
    }
   ],
   "source": [
    "plt.hist(scores)"
   ]
  },
  {
   "cell_type": "code",
   "execution_count": 66,
   "metadata": {},
   "outputs": [
    {
     "name": "stdout",
     "output_type": "stream",
     "text": [
      "[0.64679, 0.9415, 0.32059, 0.33272, 0.44037, 0.45129, 0.60652, 0.64804, 0.28663, 0.31174]\n"
     ]
    }
   ],
   "source": [
    "from plaid.utils import run_tmalign\n",
    "scores2 = []\n",
    "for i in range(10):\n",
    "    tmscore = run_tmalign(f\"pred_from_latent_{i}.pdb\", f\"{i}_name.pdb\")\n",
    "    scores2.append(tmscore)\n",
    "print(scores2)"
   ]
  },
  {
   "cell_type": "code",
   "execution_count": 67,
   "metadata": {},
   "outputs": [
    {
     "name": "stdout",
     "output_type": "stream",
     "text": [
      "[0.65961, 0.94377, 0.29444, 0.32714, 0.39404, 0.45055, 0.60519, 0.65165, 0.25412, 0.22379]\n"
     ]
    }
   ],
   "source": [
    "from plaid.utils import run_tmalign\n",
    "scores3 = []\n",
    "for i in range(10):\n",
    "    tmscore = run_tmalign(f\"pred_from_seq_{i}.pdb\", f\"{i}_name.pdb\")\n",
    "    scores3.append(tmscore)\n",
    "print(scores3)"
   ]
  },
  {
   "cell_type": "code",
   "execution_count": null,
   "metadata": {},
   "outputs": [],
   "source": []
  }
 ],
 "metadata": {
  "kernelspec": {
   "display_name": "kdif",
   "language": "python",
   "name": "python3"
  },
  "language_info": {
   "codemirror_mode": {
    "name": "ipython",
    "version": 3
   },
   "file_extension": ".py",
   "mimetype": "text/x-python",
   "name": "python",
   "nbconvert_exporter": "python",
   "pygments_lexer": "ipython3",
   "version": "3.11.6"
  }
 },
 "nbformat": 4,
 "nbformat_minor": 2
}
