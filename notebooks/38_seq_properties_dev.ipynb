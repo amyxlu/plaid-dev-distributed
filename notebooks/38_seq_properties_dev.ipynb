{
 "cells": [
  {
   "cell_type": "code",
   "execution_count": 38,
   "id": "48188ad3-12bb-43a0-ae91-3fbae6a7ef27",
   "metadata": {},
   "outputs": [],
   "source": [
    "%load_ext autoreload\n",
    "%autoreload 2"
   ]
  },
  {
   "cell_type": "code",
   "execution_count": 41,
   "id": "b7c31375-37c1-4a39-8577-e3d8457e689d",
   "metadata": {},
   "outputs": [
    {
     "name": "stderr",
     "output_type": "stream",
     "text": [
      "100%|██████████| 10.6G/10.6G [01:36<00:00, 118MB/s] \n",
      "100%|██████████| 10.6G/10.6G [01:15<00:00, 151MB/s]\n"
     ]
    }
   ],
   "source": [
    "from evo.dataset import FastaDataset\n",
    "\n",
    "pfam_path  = \"/homefs/home/lux70/storage/data/pfam/Pfam-A.fasta\"\n",
    "ds = FastaDataset(pfam_path)\n"
   ]
  },
  {
   "cell_type": "code",
   "execution_count": 42,
   "id": "c415913e-d1c3-47d5-9147-20d6ea732868",
   "metadata": {},
   "outputs": [],
   "source": [
    "dl = torch.utils.data.DataLoader(ds, batch_size=256)\n",
    "batch = next(iter(dl))"
   ]
  },
  {
   "cell_type": "code",
   "execution_count": null,
   "id": "7526bb70-c5c1-44b7-bc95-327c69f3ee94",
   "metadata": {},
   "outputs": [],
   "source": [
    "from Bio.SeqUtils.ProtParam import ProteinAnalysis\n",
    "\n",
    "import pandas as pd\n",
    "\n",
    "df = pd.DataFrame({\"sequences\": seqs})\n",
    "df = df.iloc[:10, ]\n",
    "\n",
    "def _protein_property(protein_sequence, property):\n",
    "    analyzer = ProteinAnalysis(protein_sequence)\n",
    "    if property == \"charge_at_pH\":\n",
    "        return getattr(analyzer, property)(pH=7)\n",
    "    else:\n",
    "        return getattr(analyzer, property)()\n",
    "\n",
    "properties = ['molecular_weight', 'aromaticity', 'instability_index', 'isoelectric_point', 'gravy', 'charge_at_pH']\n",
    "\n",
    "\n",
    "for property in properties:\n",
    "    df[property] = df.sequences.map(lambda seq: _protein_property(seq, property))\n"
   ]
  },
  {
   "cell_type": "code",
   "execution_count": 64,
   "id": "8a08ace3-3698-4882-8f21-088753740e60",
   "metadata": {},
   "outputs": [
    {
     "ename": "KeyboardInterrupt",
     "evalue": "",
     "output_type": "error",
     "traceback": [
      "\u001b[0;31m---------------------------------------------------------------------------\u001b[0m",
      "\u001b[0;31mKeyboardInterrupt\u001b[0m                         Traceback (most recent call last)",
      "Cell \u001b[0;32mIn[64], line 12\u001b[0m\n\u001b[1;32m     10\u001b[0m     df \u001b[38;5;241m=\u001b[39m pd\u001b[38;5;241m.\u001b[39mDataFrame({\u001b[38;5;124m\"\u001b[39m\u001b[38;5;124msequences\u001b[39m\u001b[38;5;124m\"\u001b[39m: seqs})\n\u001b[1;32m     11\u001b[0m     \u001b[38;5;28;01mfor\u001b[39;00m \u001b[38;5;28mproperty\u001b[39m \u001b[38;5;129;01min\u001b[39;00m properties:\n\u001b[0;32m---> 12\u001b[0m         df[\u001b[38;5;28mproperty\u001b[39m] \u001b[38;5;241m=\u001b[39m \u001b[43mdf\u001b[49m\u001b[38;5;241;43m.\u001b[39;49m\u001b[43msequences\u001b[49m\u001b[38;5;241;43m.\u001b[39;49m\u001b[43mmap\u001b[49m\u001b[43m(\u001b[49m\u001b[38;5;28;43;01mlambda\u001b[39;49;00m\u001b[43m \u001b[49m\u001b[43mseq\u001b[49m\u001b[43m:\u001b[49m\u001b[43m \u001b[49m\u001b[43m_protein_property\u001b[49m\u001b[43m(\u001b[49m\u001b[43mseq\u001b[49m\u001b[43m,\u001b[49m\u001b[43m \u001b[49m\u001b[38;5;28;43mproperty\u001b[39;49m\u001b[43m)\u001b[49m\u001b[43m)\u001b[49m\n\u001b[1;32m     13\u001b[0m     all_dfs\u001b[38;5;241m.\u001b[39mappend(df)\n\u001b[1;32m     15\u001b[0m df \u001b[38;5;241m=\u001b[39m pd\u001b[38;5;241m.\u001b[39mconcat(all_dfs, axis\u001b[38;5;241m=\u001b[39m\u001b[38;5;241m0\u001b[39m)\n",
      "File \u001b[0;32m~/miniconda3/envs/plaid/lib/python3.12/site-packages/pandas/core/series.py:4680\u001b[0m, in \u001b[0;36mSeries.map\u001b[0;34m(self, arg, na_action)\u001b[0m\n\u001b[1;32m   4600\u001b[0m \u001b[38;5;28;01mdef\u001b[39;00m \u001b[38;5;21mmap\u001b[39m(\n\u001b[1;32m   4601\u001b[0m     \u001b[38;5;28mself\u001b[39m,\n\u001b[1;32m   4602\u001b[0m     arg: Callable \u001b[38;5;241m|\u001b[39m Mapping \u001b[38;5;241m|\u001b[39m Series,\n\u001b[1;32m   4603\u001b[0m     na_action: Literal[\u001b[38;5;124m\"\u001b[39m\u001b[38;5;124mignore\u001b[39m\u001b[38;5;124m\"\u001b[39m] \u001b[38;5;241m|\u001b[39m \u001b[38;5;28;01mNone\u001b[39;00m \u001b[38;5;241m=\u001b[39m \u001b[38;5;28;01mNone\u001b[39;00m,\n\u001b[1;32m   4604\u001b[0m ) \u001b[38;5;241m-\u001b[39m\u001b[38;5;241m>\u001b[39m Series:\n\u001b[1;32m   4605\u001b[0m \u001b[38;5;250m    \u001b[39m\u001b[38;5;124;03m\"\"\"\u001b[39;00m\n\u001b[1;32m   4606\u001b[0m \u001b[38;5;124;03m    Map values of Series according to an input mapping or function.\u001b[39;00m\n\u001b[1;32m   4607\u001b[0m \n\u001b[0;32m   (...)\u001b[0m\n\u001b[1;32m   4678\u001b[0m \u001b[38;5;124;03m    dtype: object\u001b[39;00m\n\u001b[1;32m   4679\u001b[0m \u001b[38;5;124;03m    \"\"\"\u001b[39;00m\n\u001b[0;32m-> 4680\u001b[0m     new_values \u001b[38;5;241m=\u001b[39m \u001b[38;5;28;43mself\u001b[39;49m\u001b[38;5;241;43m.\u001b[39;49m\u001b[43m_map_values\u001b[49m\u001b[43m(\u001b[49m\u001b[43marg\u001b[49m\u001b[43m,\u001b[49m\u001b[43m \u001b[49m\u001b[43mna_action\u001b[49m\u001b[38;5;241;43m=\u001b[39;49m\u001b[43mna_action\u001b[49m\u001b[43m)\u001b[49m\n\u001b[1;32m   4681\u001b[0m     \u001b[38;5;28;01mreturn\u001b[39;00m \u001b[38;5;28mself\u001b[39m\u001b[38;5;241m.\u001b[39m_constructor(new_values, index\u001b[38;5;241m=\u001b[39m\u001b[38;5;28mself\u001b[39m\u001b[38;5;241m.\u001b[39mindex, copy\u001b[38;5;241m=\u001b[39m\u001b[38;5;28;01mFalse\u001b[39;00m)\u001b[38;5;241m.\u001b[39m__finalize__(\n\u001b[1;32m   4682\u001b[0m         \u001b[38;5;28mself\u001b[39m, method\u001b[38;5;241m=\u001b[39m\u001b[38;5;124m\"\u001b[39m\u001b[38;5;124mmap\u001b[39m\u001b[38;5;124m\"\u001b[39m\n\u001b[1;32m   4683\u001b[0m     )\n",
      "File \u001b[0;32m~/miniconda3/envs/plaid/lib/python3.12/site-packages/pandas/core/base.py:921\u001b[0m, in \u001b[0;36mIndexOpsMixin._map_values\u001b[0;34m(self, mapper, na_action, convert)\u001b[0m\n\u001b[1;32m    918\u001b[0m \u001b[38;5;28;01mif\u001b[39;00m \u001b[38;5;28misinstance\u001b[39m(arr, ExtensionArray):\n\u001b[1;32m    919\u001b[0m     \u001b[38;5;28;01mreturn\u001b[39;00m arr\u001b[38;5;241m.\u001b[39mmap(mapper, na_action\u001b[38;5;241m=\u001b[39mna_action)\n\u001b[0;32m--> 921\u001b[0m \u001b[38;5;28;01mreturn\u001b[39;00m \u001b[43malgorithms\u001b[49m\u001b[38;5;241;43m.\u001b[39;49m\u001b[43mmap_array\u001b[49m\u001b[43m(\u001b[49m\u001b[43marr\u001b[49m\u001b[43m,\u001b[49m\u001b[43m \u001b[49m\u001b[43mmapper\u001b[49m\u001b[43m,\u001b[49m\u001b[43m \u001b[49m\u001b[43mna_action\u001b[49m\u001b[38;5;241;43m=\u001b[39;49m\u001b[43mna_action\u001b[49m\u001b[43m,\u001b[49m\u001b[43m \u001b[49m\u001b[43mconvert\u001b[49m\u001b[38;5;241;43m=\u001b[39;49m\u001b[43mconvert\u001b[49m\u001b[43m)\u001b[49m\n",
      "File \u001b[0;32m~/miniconda3/envs/plaid/lib/python3.12/site-packages/pandas/core/algorithms.py:1743\u001b[0m, in \u001b[0;36mmap_array\u001b[0;34m(arr, mapper, na_action, convert)\u001b[0m\n\u001b[1;32m   1741\u001b[0m values \u001b[38;5;241m=\u001b[39m arr\u001b[38;5;241m.\u001b[39mastype(\u001b[38;5;28mobject\u001b[39m, copy\u001b[38;5;241m=\u001b[39m\u001b[38;5;28;01mFalse\u001b[39;00m)\n\u001b[1;32m   1742\u001b[0m \u001b[38;5;28;01mif\u001b[39;00m na_action \u001b[38;5;129;01mis\u001b[39;00m \u001b[38;5;28;01mNone\u001b[39;00m:\n\u001b[0;32m-> 1743\u001b[0m     \u001b[38;5;28;01mreturn\u001b[39;00m \u001b[43mlib\u001b[49m\u001b[38;5;241;43m.\u001b[39;49m\u001b[43mmap_infer\u001b[49m\u001b[43m(\u001b[49m\u001b[43mvalues\u001b[49m\u001b[43m,\u001b[49m\u001b[43m \u001b[49m\u001b[43mmapper\u001b[49m\u001b[43m,\u001b[49m\u001b[43m \u001b[49m\u001b[43mconvert\u001b[49m\u001b[38;5;241;43m=\u001b[39;49m\u001b[43mconvert\u001b[49m\u001b[43m)\u001b[49m\n\u001b[1;32m   1744\u001b[0m \u001b[38;5;28;01melse\u001b[39;00m:\n\u001b[1;32m   1745\u001b[0m     \u001b[38;5;28;01mreturn\u001b[39;00m lib\u001b[38;5;241m.\u001b[39mmap_infer_mask(\n\u001b[1;32m   1746\u001b[0m         values, mapper, mask\u001b[38;5;241m=\u001b[39misna(values)\u001b[38;5;241m.\u001b[39mview(np\u001b[38;5;241m.\u001b[39muint8), convert\u001b[38;5;241m=\u001b[39mconvert\n\u001b[1;32m   1747\u001b[0m     )\n",
      "File \u001b[0;32mlib.pyx:2972\u001b[0m, in \u001b[0;36mpandas._libs.lib.map_infer\u001b[0;34m()\u001b[0m\n",
      "Cell \u001b[0;32mIn[64], line 12\u001b[0m, in \u001b[0;36m<lambda>\u001b[0;34m(seq)\u001b[0m\n\u001b[1;32m     10\u001b[0m     df \u001b[38;5;241m=\u001b[39m pd\u001b[38;5;241m.\u001b[39mDataFrame({\u001b[38;5;124m\"\u001b[39m\u001b[38;5;124msequences\u001b[39m\u001b[38;5;124m\"\u001b[39m: seqs})\n\u001b[1;32m     11\u001b[0m     \u001b[38;5;28;01mfor\u001b[39;00m \u001b[38;5;28mproperty\u001b[39m \u001b[38;5;129;01min\u001b[39;00m properties:\n\u001b[0;32m---> 12\u001b[0m         df[\u001b[38;5;28mproperty\u001b[39m] \u001b[38;5;241m=\u001b[39m df\u001b[38;5;241m.\u001b[39msequences\u001b[38;5;241m.\u001b[39mmap(\u001b[38;5;28;01mlambda\u001b[39;00m seq: \u001b[43m_protein_property\u001b[49m\u001b[43m(\u001b[49m\u001b[43mseq\u001b[49m\u001b[43m,\u001b[49m\u001b[43m \u001b[49m\u001b[38;5;28;43mproperty\u001b[39;49m\u001b[43m)\u001b[49m)\n\u001b[1;32m     13\u001b[0m     all_dfs\u001b[38;5;241m.\u001b[39mappend(df)\n\u001b[1;32m     15\u001b[0m df \u001b[38;5;241m=\u001b[39m pd\u001b[38;5;241m.\u001b[39mconcat(all_dfs, axis\u001b[38;5;241m=\u001b[39m\u001b[38;5;241m0\u001b[39m)\n",
      "Cell \u001b[0;32mIn[62], line 11\u001b[0m, in \u001b[0;36m_protein_property\u001b[0;34m(protein_sequence, property)\u001b[0m\n\u001b[1;32m      9\u001b[0m     \u001b[38;5;28;01mreturn\u001b[39;00m \u001b[38;5;28mgetattr\u001b[39m(analyzer, \u001b[38;5;28mproperty\u001b[39m)(pH\u001b[38;5;241m=\u001b[39m\u001b[38;5;241m7\u001b[39m)\n\u001b[1;32m     10\u001b[0m \u001b[38;5;28;01melse\u001b[39;00m:\n\u001b[0;32m---> 11\u001b[0m     \u001b[38;5;28;01mreturn\u001b[39;00m \u001b[38;5;28;43mgetattr\u001b[39;49m\u001b[43m(\u001b[49m\u001b[43manalyzer\u001b[49m\u001b[43m,\u001b[49m\u001b[43m \u001b[49m\u001b[38;5;28;43mproperty\u001b[39;49m\u001b[43m)\u001b[49m\u001b[43m(\u001b[49m\u001b[43m)\u001b[49m\n",
      "File \u001b[0;32m~/miniconda3/envs/plaid/lib/python3.12/site-packages/Bio/SeqUtils/ProtParam.py:135\u001b[0m, in \u001b[0;36mProteinAnalysis.aromaticity\u001b[0;34m(self)\u001b[0m\n\u001b[1;32m    129\u001b[0m \u001b[38;5;250m\u001b[39m\u001b[38;5;124;03m\"\"\"Calculate the aromaticity according to Lobry, 1994.\u001b[39;00m\n\u001b[1;32m    130\u001b[0m \n\u001b[1;32m    131\u001b[0m \u001b[38;5;124;03mCalculates the aromaticity value of a protein according to Lobry, 1994.\u001b[39;00m\n\u001b[1;32m    132\u001b[0m \u001b[38;5;124;03mIt is simply the relative frequency of Phe+Trp+Tyr.\u001b[39;00m\n\u001b[1;32m    133\u001b[0m \u001b[38;5;124;03m\"\"\"\u001b[39;00m\n\u001b[1;32m    134\u001b[0m aromatic_aas \u001b[38;5;241m=\u001b[39m \u001b[38;5;124m\"\u001b[39m\u001b[38;5;124mYWF\u001b[39m\u001b[38;5;124m\"\u001b[39m\n\u001b[0;32m--> 135\u001b[0m aa_percentages \u001b[38;5;241m=\u001b[39m \u001b[38;5;28;43mself\u001b[39;49m\u001b[38;5;241;43m.\u001b[39;49m\u001b[43mget_amino_acids_percent\u001b[49m\u001b[43m(\u001b[49m\u001b[43m)\u001b[49m\n\u001b[1;32m    137\u001b[0m aromaticity \u001b[38;5;241m=\u001b[39m \u001b[38;5;28msum\u001b[39m(aa_percentages[aa] \u001b[38;5;28;01mfor\u001b[39;00m aa \u001b[38;5;129;01min\u001b[39;00m aromatic_aas)\n\u001b[1;32m    139\u001b[0m \u001b[38;5;28;01mreturn\u001b[39;00m aromaticity\n",
      "File \u001b[0;32m~/miniconda3/envs/plaid/lib/python3.12/site-packages/Bio/SeqUtils/ProtParam.py:114\u001b[0m, in \u001b[0;36mProteinAnalysis.get_amino_acids_percent\u001b[0;34m(self)\u001b[0m\n\u001b[1;32m    103\u001b[0m \u001b[38;5;250m\u001b[39m\u001b[38;5;124;03m\"\"\"Calculate the amino acid content in percentages.\u001b[39;00m\n\u001b[1;32m    104\u001b[0m \n\u001b[1;32m    105\u001b[0m \u001b[38;5;124;03mThe same as count_amino_acids only returns the Number in percentage of\u001b[39;00m\n\u001b[0;32m   (...)\u001b[0m\n\u001b[1;32m    111\u001b[0m \u001b[38;5;124;03moutput is a dictionary with amino acids as keys.\u001b[39;00m\n\u001b[1;32m    112\u001b[0m \u001b[38;5;124;03m\"\"\"\u001b[39;00m\n\u001b[1;32m    113\u001b[0m \u001b[38;5;28;01mif\u001b[39;00m \u001b[38;5;28mself\u001b[39m\u001b[38;5;241m.\u001b[39mamino_acids_percent \u001b[38;5;129;01mis\u001b[39;00m \u001b[38;5;28;01mNone\u001b[39;00m:\n\u001b[0;32m--> 114\u001b[0m     aa_counts \u001b[38;5;241m=\u001b[39m \u001b[38;5;28;43mself\u001b[39;49m\u001b[38;5;241;43m.\u001b[39;49m\u001b[43mcount_amino_acids\u001b[49m\u001b[43m(\u001b[49m\u001b[43m)\u001b[49m\n\u001b[1;32m    116\u001b[0m     percentages \u001b[38;5;241m=\u001b[39m {aa: count \u001b[38;5;241m/\u001b[39m \u001b[38;5;28mself\u001b[39m\u001b[38;5;241m.\u001b[39mlength \u001b[38;5;28;01mfor\u001b[39;00m aa, count \u001b[38;5;129;01min\u001b[39;00m aa_counts\u001b[38;5;241m.\u001b[39mitems()}\n\u001b[1;32m    118\u001b[0m     \u001b[38;5;28mself\u001b[39m\u001b[38;5;241m.\u001b[39mamino_acids_percent \u001b[38;5;241m=\u001b[39m percentages\n",
      "File \u001b[0;32m~/miniconda3/envs/plaid/lib/python3.12/site-packages/Bio/SeqUtils/ProtParam.py:96\u001b[0m, in \u001b[0;36mProteinAnalysis.count_amino_acids\u001b[0;34m(self)\u001b[0m\n\u001b[1;32m     94\u001b[0m     prot_dic \u001b[38;5;241m=\u001b[39m {k: \u001b[38;5;241m0\u001b[39m \u001b[38;5;28;01mfor\u001b[39;00m k \u001b[38;5;129;01min\u001b[39;00m IUPACData\u001b[38;5;241m.\u001b[39mprotein_letters}\n\u001b[1;32m     95\u001b[0m     \u001b[38;5;28;01mfor\u001b[39;00m aa \u001b[38;5;129;01min\u001b[39;00m prot_dic:\n\u001b[0;32m---> 96\u001b[0m         prot_dic[aa] \u001b[38;5;241m=\u001b[39m \u001b[38;5;28;43mself\u001b[39;49m\u001b[38;5;241;43m.\u001b[39;49m\u001b[43msequence\u001b[49m\u001b[38;5;241;43m.\u001b[39;49m\u001b[43mcount\u001b[49m\u001b[43m(\u001b[49m\u001b[43maa\u001b[49m\u001b[43m)\u001b[49m\n\u001b[1;32m     98\u001b[0m     \u001b[38;5;28mself\u001b[39m\u001b[38;5;241m.\u001b[39mamino_acids_content \u001b[38;5;241m=\u001b[39m prot_dic\n\u001b[1;32m    100\u001b[0m \u001b[38;5;28;01mreturn\u001b[39;00m \u001b[38;5;28mself\u001b[39m\u001b[38;5;241m.\u001b[39mamino_acids_content\n",
      "\u001b[0;31mKeyboardInterrupt\u001b[0m: "
     ]
    }
   ],
   "source": [
    "N = 0\n",
    "\n",
    "target_N = 1000\n",
    "all_dfs = []\n",
    "\n",
    "while N < target_N:\n",
    "    batch = next(iter(dl))\n",
    "    seqs = batch[1]\n",
    "    seqs = [s.replace(\"X\", \"\") for s in seqs]\n",
    "    df = pd.DataFrame({\"sequences\": seqs})\n",
    "    for property in properties:\n",
    "        df[property] = df.sequences.map(lambda seq: _protein_property(seq, property))\n",
    "    all_dfs.append(df)\n",
    "\n",
    "df = pd.concat(all_dfs, axis=0)\n"
   ]
  },
  {
   "cell_type": "code",
   "execution_count": 65,
   "id": "ace27ec9-c281-460c-8f8c-ecf33a249a70",
   "metadata": {},
   "outputs": [
    {
     "data": {
      "text/plain": [
       "96"
      ]
     },
     "execution_count": 65,
     "metadata": {},
     "output_type": "execute_result"
    }
   ],
   "source": [
    "import os\n",
    "os.cpu_count()"
   ]
  },
  {
   "cell_type": "code",
   "execution_count": 57,
   "id": "3d95798f-28d4-4697-9862-8386fa9e4029",
   "metadata": {},
   "outputs": [],
   "source": []
  },
  {
   "cell_type": "code",
   "execution_count": 62,
   "id": "05d43992-a093-466d-92d8-232773935007",
   "metadata": {},
   "outputs": [
    {
     "data": {
      "text/html": [
       "<div>\n",
       "<style scoped>\n",
       "    .dataframe tbody tr th:only-of-type {\n",
       "        vertical-align: middle;\n",
       "    }\n",
       "\n",
       "    .dataframe tbody tr th {\n",
       "        vertical-align: top;\n",
       "    }\n",
       "\n",
       "    .dataframe thead th {\n",
       "        text-align: right;\n",
       "    }\n",
       "</style>\n",
       "<table border=\"1\" class=\"dataframe\">\n",
       "  <thead>\n",
       "    <tr style=\"text-align: right;\">\n",
       "      <th></th>\n",
       "      <th>sequences</th>\n",
       "      <th>molecular_weight</th>\n",
       "      <th>aromaticity</th>\n",
       "      <th>instability_index</th>\n",
       "      <th>isoelectric_point</th>\n",
       "      <th>gravy</th>\n",
       "      <th>charge_at_pH</th>\n",
       "    </tr>\n",
       "  </thead>\n",
       "  <tbody>\n",
       "    <tr>\n",
       "      <th>0</th>\n",
       "      <td>AFQYVQANPDEVCPANWTPGEKTMKPDPEGSKEYFSA</td>\n",
       "      <td>4133.4840</td>\n",
       "      <td>0.135135</td>\n",
       "      <td>7.005405</td>\n",
       "      <td>4.359289</td>\n",
       "      <td>-0.983784</td>\n",
       "      <td>-3.205538</td>\n",
       "    </tr>\n",
       "    <tr>\n",
       "      <th>1</th>\n",
       "      <td>GLQYNRKTGEVVPANWVPGQSGITRDTKYIGR</td>\n",
       "      <td>3561.9579</td>\n",
       "      <td>0.093750</td>\n",
       "      <td>31.053125</td>\n",
       "      <td>9.988812</td>\n",
       "      <td>-0.834375</td>\n",
       "      <td>2.760007</td>\n",
       "    </tr>\n",
       "    <tr>\n",
       "      <th>2</th>\n",
       "      <td>AAQYVRTHPGEVCPAKWKEDGETLKPSFDLVGK</td>\n",
       "      <td>3658.1018</td>\n",
       "      <td>0.090909</td>\n",
       "      <td>19.051515</td>\n",
       "      <td>6.799899</td>\n",
       "      <td>-0.721212</td>\n",
       "      <td>-0.121184</td>\n",
       "    </tr>\n",
       "    <tr>\n",
       "      <th>3</th>\n",
       "      <td>AFQYATAHPGEVCPANWKPGHKTIKADQDAKYDFFDA</td>\n",
       "      <td>4139.5182</td>\n",
       "      <td>0.162162</td>\n",
       "      <td>29.264865</td>\n",
       "      <td>6.018590</td>\n",
       "      <td>-0.764865</td>\n",
       "      <td>-1.038379</td>\n",
       "    </tr>\n",
       "    <tr>\n",
       "      <th>4</th>\n",
       "      <td>AAQYTAAHPNEVCPAKWKEGEKTLKPSLDLVGK</td>\n",
       "      <td>3581.0609</td>\n",
       "      <td>0.060606</td>\n",
       "      <td>6.615152</td>\n",
       "      <td>8.168870</td>\n",
       "      <td>-0.678788</td>\n",
       "      <td>0.876706</td>\n",
       "    </tr>\n",
       "    <tr>\n",
       "      <th>5</th>\n",
       "      <td>AFQYVETHGEVCPANWTPDSPTIKPSPEGSKEYFEK</td>\n",
       "      <td>4070.4051</td>\n",
       "      <td>0.138889</td>\n",
       "      <td>39.688889</td>\n",
       "      <td>4.699243</td>\n",
       "      <td>-0.975000</td>\n",
       "      <td>-3.116674</td>\n",
       "    </tr>\n",
       "    <tr>\n",
       "      <th>6</th>\n",
       "      <td>AFQFADKHGEVCPANWNPDTNADTIKPNPKGSKEYFQK</td>\n",
       "      <td>4294.6712</td>\n",
       "      <td>0.131579</td>\n",
       "      <td>-14.826316</td>\n",
       "      <td>6.794385</td>\n",
       "      <td>-1.210526</td>\n",
       "      <td>-0.123863</td>\n",
       "    </tr>\n",
       "    <tr>\n",
       "      <th>7</th>\n",
       "      <td>AFQYTDEHGEVCPAGWKPGSDTIKPNVDDSKEYFSK</td>\n",
       "      <td>4047.3286</td>\n",
       "      <td>0.138889</td>\n",
       "      <td>2.780556</td>\n",
       "      <td>4.647406</td>\n",
       "      <td>-1.083333</td>\n",
       "      <td>-3.119932</td>\n",
       "    </tr>\n",
       "    <tr>\n",
       "      <th>8</th>\n",
       "      <td>ALQFHEEHGEVCPAQWAKDKAGMDASPEGVAKYLAS</td>\n",
       "      <td>3872.2572</td>\n",
       "      <td>0.083333</td>\n",
       "      <td>39.869444</td>\n",
       "      <td>4.969399</td>\n",
       "      <td>-0.513889</td>\n",
       "      <td>-3.030191</td>\n",
       "    </tr>\n",
       "    <tr>\n",
       "      <th>9</th>\n",
       "      <td>SLQTGDKHKVTTPINWVPGDDVIVHPSVKTEQAKEIFPE</td>\n",
       "      <td>4341.8289</td>\n",
       "      <td>0.051282</td>\n",
       "      <td>41.064103</td>\n",
       "      <td>5.482826</td>\n",
       "      <td>-0.592308</td>\n",
       "      <td>-2.352470</td>\n",
       "    </tr>\n",
       "  </tbody>\n",
       "</table>\n",
       "</div>"
      ],
      "text/plain": [
       "                                 sequences  molecular_weight  aromaticity  \\\n",
       "0    AFQYVQANPDEVCPANWTPGEKTMKPDPEGSKEYFSA         4133.4840     0.135135   \n",
       "1         GLQYNRKTGEVVPANWVPGQSGITRDTKYIGR         3561.9579     0.093750   \n",
       "2        AAQYVRTHPGEVCPAKWKEDGETLKPSFDLVGK         3658.1018     0.090909   \n",
       "3    AFQYATAHPGEVCPANWKPGHKTIKADQDAKYDFFDA         4139.5182     0.162162   \n",
       "4        AAQYTAAHPNEVCPAKWKEGEKTLKPSLDLVGK         3581.0609     0.060606   \n",
       "5     AFQYVETHGEVCPANWTPDSPTIKPSPEGSKEYFEK         4070.4051     0.138889   \n",
       "6   AFQFADKHGEVCPANWNPDTNADTIKPNPKGSKEYFQK         4294.6712     0.131579   \n",
       "7     AFQYTDEHGEVCPAGWKPGSDTIKPNVDDSKEYFSK         4047.3286     0.138889   \n",
       "8     ALQFHEEHGEVCPAQWAKDKAGMDASPEGVAKYLAS         3872.2572     0.083333   \n",
       "9  SLQTGDKHKVTTPINWVPGDDVIVHPSVKTEQAKEIFPE         4341.8289     0.051282   \n",
       "\n",
       "   instability_index  isoelectric_point     gravy  charge_at_pH  \n",
       "0           7.005405           4.359289 -0.983784     -3.205538  \n",
       "1          31.053125           9.988812 -0.834375      2.760007  \n",
       "2          19.051515           6.799899 -0.721212     -0.121184  \n",
       "3          29.264865           6.018590 -0.764865     -1.038379  \n",
       "4           6.615152           8.168870 -0.678788      0.876706  \n",
       "5          39.688889           4.699243 -0.975000     -3.116674  \n",
       "6         -14.826316           6.794385 -1.210526     -0.123863  \n",
       "7           2.780556           4.647406 -1.083333     -3.119932  \n",
       "8          39.869444           4.969399 -0.513889     -3.030191  \n",
       "9          41.064103           5.482826 -0.592308     -2.352470  "
      ]
     },
     "execution_count": 62,
     "metadata": {},
     "output_type": "execute_result"
    }
   ],
   "source": []
  },
  {
   "cell_type": "code",
   "execution_count": 14,
   "id": "198e98c1-a825-454d-af81-78edf1de73b1",
   "metadata": {},
   "outputs": [
    {
     "name": "stdout",
     "output_type": "stream",
     "text": [
      "sampling latent...\n"
     ]
    },
    {
     "name": "stderr",
     "output_type": "stream",
     "text": [
      "  0%|                                                                                                                                            | 0/1 [00:00<?, ?it/s]"
     ]
    },
    {
     "data": {
      "application/vnd.jupyter.widget-view+json": {
       "model_id": "73f4503feb6c46a2a3cac7f6f6c133c8",
       "version_major": 2,
       "version_minor": 0
      },
      "text/plain": [
       "  0%|          | 0/500 [00:00<?, ?it/s]"
      ]
     },
     "metadata": {},
     "output_type": "display_data"
    },
    {
     "name": "stderr",
     "output_type": "stream",
     "text": [
      "100%|████████████████████████████████████████████████████████████████████████████████████████████████████████████████████████████████████| 1/1 [00:29<00:00, 29.87s/it]\n",
      "Special tokens have been added in the vocabulary, make sure the associated word embeddings are fine-tuned or trained.\n"
     ]
    },
    {
     "name": "stdout",
     "output_type": "stream",
     "text": [
      "Mean perplexity: 24.415\n"
     ]
    }
   ],
   "source": [
    "log_to_wandb = False\n",
    "shape = (16, 64, 8)\n",
    "\n",
    "# sample latent (implicitly uncompresses and unnormalizes)\n",
    "print(\"sampling latent...\")\n",
    "x, log_dict = callback.sample_latent(shape)   # compressed, i.e. (N, L, C_compressed)\n",
    "\n",
    "# # uncompress and unnormalize the sampled x\n",
    "latent = callback.diffusion.process_x_to_latent(x)  # (N, L, C_comp) -> (N, L, C_lat)\n",
    "\n",
    "if callback.calc_sequence:\n",
    "    seq_str, log_dict = callback.construct_sequence(latent, device)"
   ]
  },
  {
   "cell_type": "code",
   "execution_count": 35,
   "id": "fa01b91e-b41e-4f0f-8517-3439a5a1a2b0",
   "metadata": {},
   "outputs": [],
   "source": [
    "from Bio.SeqUtils.ProtParam import ProteinAnalysis\n",
    "analyzer = ProteinAnalysis(seq_str[0])\n",
    "import numpy as np"
   ]
  },
  {
   "cell_type": "code",
   "execution_count": 36,
   "id": "693a1c6d-bc97-460f-ba3c-28a74d5a5811",
   "metadata": {},
   "outputs": [],
   "source": []
  },
  {
   "cell_type": "code",
   "execution_count": 37,
   "id": "2858ad49-90d4-47d1-978a-33c9e9151ad8",
   "metadata": {},
   "outputs": [
    {
     "name": "stdout",
     "output_type": "stream",
     "text": [
      "molecular_weight 7608.8577\n",
      "aromaticity 0.125\n",
      "instability_index 61.553281250000005\n",
      "isoelectric_point 9.339873313903809\n",
      "gravy -0.27187500000000003\n",
      "flexibility 0.9885220779220779\n",
      "charge_at_pH 5.046701083983767\n",
      "sec_struct_frac (0.234375, 0.203125, 0.34375)\n",
      "molar_extinction_coefficient (15470, 15720)\n"
     ]
    }
   ],
   "source": [
    "for k, v in results.items():\n",
    "    print(k, v)"
   ]
  },
  {
   "cell_type": "code",
   "execution_count": 27,
   "id": "f6a2a666-341a-401d-b2fa-442e0b69e0da",
   "metadata": {},
   "outputs": [
    {
     "data": {
      "text/plain": [
       "-0.27187500000000003"
      ]
     },
     "execution_count": 27,
     "metadata": {},
     "output_type": "execute_result"
    }
   ],
   "source": [
    "s = \"gravy\"\n",
    "unscaler = LatentScaler()\n",
    "getattr(analyzer, s)()"
   ]
  },
  {
   "cell_type": "code",
   "execution_count": null,
   "id": "c154ca73-ce87-4d6a-aae1-9aee783ce010",
   "metadata": {},
   "outputs": [],
   "source": [
    "properties "
   ]
  }
 ],
 "metadata": {
  "kernelspec": {
   "display_name": "Python 3 (ipykernel)",
   "language": "python",
   "name": "python3"
  },
  "language_info": {
   "codemirror_mode": {
    "name": "ipython",
    "version": 3
   },
   "file_extension": ".py",
   "mimetype": "text/x-python",
   "name": "python",
   "nbconvert_exporter": "python",
   "pygments_lexer": "ipython3",
   "version": "3.12.2"
  }
 },
 "nbformat": 4,
 "nbformat_minor": 5
}
