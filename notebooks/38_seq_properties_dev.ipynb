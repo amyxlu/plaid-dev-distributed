{
 "cells": [
  {
   "cell_type": "code",
   "execution_count": 1,
   "id": "48188ad3-12bb-43a0-ae91-3fbae6a7ef27",
   "metadata": {},
   "outputs": [],
   "source": [
    "%load_ext autoreload\n",
    "%autoreload 2"
   ]
  },
  {
   "cell_type": "code",
   "execution_count": 2,
   "id": "b7c31375-37c1-4a39-8577-e3d8457e689d",
   "metadata": {
    "scrolled": true
   },
   "outputs": [
    {
     "name": "stderr",
     "output_type": "stream",
     "text": [
      "100%|██████████| 10.6G/10.6G [01:37<00:00, 116MB/s] \n",
      "100%|██████████| 10.6G/10.6G [01:16<00:00, 148MB/s]\n"
     ]
    }
   ],
   "source": [
    "from evo.dataset import FastaDataset\n",
    "\n",
    "pfam_path  = \"/homefs/home/lux70/storage/data/pfam/Pfam-A.fasta\"\n",
    "ds = FastaDataset(pfam_path)\n"
   ]
  },
  {
   "cell_type": "code",
   "execution_count": 3,
   "id": "c415913e-d1c3-47d5-9147-20d6ea732868",
   "metadata": {},
   "outputs": [
    {
     "ename": "NameError",
     "evalue": "name 'torch' is not defined",
     "output_type": "error",
     "traceback": [
      "\u001b[0;31m---------------------------------------------------------------------------\u001b[0m",
      "\u001b[0;31mNameError\u001b[0m                                 Traceback (most recent call last)",
      "Cell \u001b[0;32mIn[3], line 1\u001b[0m\n\u001b[0;32m----> 1\u001b[0m dl \u001b[38;5;241m=\u001b[39m \u001b[43mtorch\u001b[49m\u001b[38;5;241m.\u001b[39mutils\u001b[38;5;241m.\u001b[39mdata\u001b[38;5;241m.\u001b[39mDataLoader(ds, batch_size\u001b[38;5;241m=\u001b[39m\u001b[38;5;241m256\u001b[39m)\n\u001b[1;32m      2\u001b[0m batch \u001b[38;5;241m=\u001b[39m \u001b[38;5;28mnext\u001b[39m(\u001b[38;5;28miter\u001b[39m(dl))\n",
      "\u001b[0;31mNameError\u001b[0m: name 'torch' is not defined"
     ]
    }
   ],
   "source": [
    "dl = torch.utils.data.DataLoader(ds, batch_size=256)\n",
    "batch = next(iter(dl))"
   ]
  },
  {
   "cell_type": "code",
   "execution_count": null,
   "id": "7526bb70-c5c1-44b7-bc95-327c69f3ee94",
   "metadata": {},
   "outputs": [],
   "source": [
    "from Bio.SeqUtils.ProtParam import ProteinAnalysis\n",
    "\n",
    "import pandas as pd\n",
    "\n",
    "df = pd.DataFrame({\"sequences\": seqs})\n",
    "df = df.iloc[:10, ]\n",
    "\n",
    "def _protein_property(protein_sequence, property):\n",
    "    analyzer = ProteinAnalysis(protein_sequence)\n",
    "    if property == \"charge_at_pH\":\n",
    "        return getattr(analyzer, property)(pH=7)\n",
    "    else:\n",
    "        return getattr(analyzer, property)()\n",
    "\n",
    "properties = ['molecular_weight', 'aromaticity', 'instability_index', 'isoelectric_point', 'gravy', 'charge_at_pH']\n",
    "\n",
    "\n",
    "for property in properties:\n",
    "    df[property] = df.sequences.map(lambda seq: _protein_property(seq, property))\n"
   ]
  },
  {
   "cell_type": "code",
   "execution_count": null,
   "id": "8a08ace3-3698-4882-8f21-088753740e60",
   "metadata": {},
   "outputs": [],
   "source": [
    "N = 0\n",
    "\n",
    "target_N = 1000\n",
    "all_dfs = []\n",
    "\n",
    "while N < target_N:\n",
    "    batch = next(iter(dl))\n",
    "    seqs = batch[1]\n",
    "    seqs = [s.replace(\"X\", \"\") for s in seqs]\n",
    "    df = pd.DataFrame({\"sequences\": seqs})\n",
    "    for property in properties:\n",
    "        df[property] = df.sequences.map(lambda seq: _protein_property(seq, property))\n",
    "    all_dfs.append(df)\n",
    "\n",
    "df = pd.concat(all_dfs, axis=0)\n"
   ]
  },
  {
   "cell_type": "code",
   "execution_count": null,
   "id": "ace27ec9-c281-460c-8f8c-ecf33a249a70",
   "metadata": {},
   "outputs": [],
   "source": [
    "import os\n",
    "os.cpu_count()"
   ]
  },
  {
   "cell_type": "code",
   "execution_count": null,
   "id": "3d95798f-28d4-4697-9862-8386fa9e4029",
   "metadata": {},
   "outputs": [],
   "source": []
  },
  {
   "cell_type": "code",
   "execution_count": null,
   "id": "05d43992-a093-466d-92d8-232773935007",
   "metadata": {},
   "outputs": [],
   "source": []
  },
  {
   "cell_type": "code",
   "execution_count": null,
   "id": "198e98c1-a825-454d-af81-78edf1de73b1",
   "metadata": {},
   "outputs": [],
   "source": [
    "log_to_wandb = False\n",
    "shape = (16, 64, 8)\n",
    "\n",
    "# sample latent (implicitly uncompresses and unnormalizes)\n",
    "print(\"sampling latent...\")\n",
    "x, log_dict = callback.sample_latent(shape)   # compressed, i.e. (N, L, C_compressed)\n",
    "\n",
    "# # uncompress and unnormalize the sampled x\n",
    "latent = callback.diffusion.process_x_to_latent(x)  # (N, L, C_comp) -> (N, L, C_lat)\n",
    "\n",
    "if callback.calc_sequence:\n",
    "    seq_str, log_dict = callback.construct_sequence(latent, device)"
   ]
  },
  {
   "cell_type": "code",
   "execution_count": null,
   "id": "fa01b91e-b41e-4f0f-8517-3439a5a1a2b0",
   "metadata": {},
   "outputs": [],
   "source": [
    "from Bio.SeqUtils.ProtParam import ProteinAnalysis\n",
    "analyzer = ProteinAnalysis(seq_str[0])\n",
    "import numpy as np"
   ]
  },
  {
   "cell_type": "code",
   "execution_count": null,
   "id": "693a1c6d-bc97-460f-ba3c-28a74d5a5811",
   "metadata": {},
   "outputs": [],
   "source": []
  },
  {
   "cell_type": "code",
   "execution_count": null,
   "id": "2858ad49-90d4-47d1-978a-33c9e9151ad8",
   "metadata": {},
   "outputs": [],
   "source": [
    "for k, v in results.items():\n",
    "    print(k, v)"
   ]
  },
  {
   "cell_type": "code",
   "execution_count": null,
   "id": "f6a2a666-341a-401d-b2fa-442e0b69e0da",
   "metadata": {},
   "outputs": [],
   "source": [
    "s = \"gravy\"\n",
    "unscaler = LatentScaler()\n",
    "getattr(analyzer, s)()"
   ]
  },
  {
   "cell_type": "code",
   "execution_count": null,
   "id": "c154ca73-ce87-4d6a-aae1-9aee783ce010",
   "metadata": {},
   "outputs": [],
   "source": [
    "properties "
   ]
  },
  {
   "cell_type": "code",
   "execution_count": null,
   "id": "741e2b1b-d58b-43c4-946f-ecc57a8b1194",
   "metadata": {},
   "outputs": [],
   "source": []
  },
  {
   "cell_type": "code",
   "execution_count": null,
   "id": "3a075a38-a002-4d01-91f8-9bd2158f241b",
   "metadata": {},
   "outputs": [],
   "source": []
  },
  {
   "cell_type": "code",
   "execution_count": null,
   "id": "33c83e2c-ec0d-4dc5-b642-ca8255ab8684",
   "metadata": {},
   "outputs": [],
   "source": []
  }
 ],
 "metadata": {
  "kernelspec": {
   "display_name": "Python 3 (ipykernel)",
   "language": "python",
   "name": "python3"
  },
  "language_info": {
   "codemirror_mode": {
    "name": "ipython",
    "version": 3
   },
   "file_extension": ".py",
   "mimetype": "text/x-python",
   "name": "python",
   "nbconvert_exporter": "python",
   "pygments_lexer": "ipython3",
   "version": "3.10.14"
  }
 },
 "nbformat": 4,
 "nbformat_minor": 5
}
