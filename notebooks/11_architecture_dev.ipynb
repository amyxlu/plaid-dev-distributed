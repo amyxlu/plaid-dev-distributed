{
 "cells": [
  {
   "cell_type": "code",
   "execution_count": 27,
   "metadata": {},
   "outputs": [
    {
     "name": "stdout",
     "output_type": "stream",
     "text": [
      "The autoreload extension is already loaded. To reload it, use:\n",
      "  %reload_ext autoreload\n"
     ]
    }
   ],
   "source": [
    "%load_ext autoreload\n",
    "%autoreload 2\n"
   ]
  },
  {
   "cell_type": "code",
   "execution_count": 28,
   "metadata": {},
   "outputs": [],
   "source": [
    "import torch\n",
    "device = torch.device(\"cuda:0\" if torch.cuda.is_available() else \"cpu\")"
   ]
  },
  {
   "cell_type": "code",
   "execution_count": 46,
   "metadata": {},
   "outputs": [],
   "source": [
    "from torch.utils.data import Dataset, DataLoader, RandomSampler, SequentialSampler\n",
    "from transformers import BertConfig, BertModel\n",
    "from transformers.models.bert.modeling_bert import BertEncoder\n",
    "import numpy as np\n",
    "import pandas as pd\n",
    "from sklearn import metrics\n",
    "import transformers\n",
    "import torch\n",
    "import k_diffusion as K"
   ]
  },
  {
   "cell_type": "code",
   "execution_count": 56,
   "metadata": {},
   "outputs": [],
   "source": [
    "config = BertConfig(hidden_size=1024, num_attention_heads=16)\n",
    "bert_model = BertModel(config)\n",
    "model = torch.nn.Sequential(*list(bert_model.children())[1:])\n",
    "# encoder = BertEncoder(config)"
   ]
  },
  {
   "cell_type": "code",
   "execution_count": 34,
   "metadata": {},
   "outputs": [],
   "source": [
    "import k_diffusion as K\n",
    "ds = K.datasets.ShardedTensorDataset(\"/shared/amyxlu/data/cath/shards/seqlen_256\")\n",
    "dl = torch.utils.data.DataLoader(ds, batch_size=4)\n",
    "batch = next(iter(dl))"
   ]
  },
  {
   "cell_type": "code",
   "execution_count": 74,
   "metadata": {},
   "outputs": [],
   "source": [
    "model = K.models.ProteinBertDenoiser()"
   ]
  },
  {
   "cell_type": "code",
   "execution_count": 75,
   "metadata": {},
   "outputs": [],
   "source": [
    "model = model.to(device)\n",
    "model = model.to(torch.bfloat16)"
   ]
  },
  {
   "cell_type": "code",
   "execution_count": 76,
   "metadata": {},
   "outputs": [],
   "source": [
    "import einops\n",
    "\n",
    "x = batch[0].to(device)\n",
    "mask = (\n",
    "    einops.repeat(\n",
    "        torch.arange(x.shape[1])[None, :],\n",
    "        \"1 L -> N L\",\n",
    "        N=x.shape[0],\n",
    "    )\n",
    "    < batch[1][:, None]\n",
    ").to(device)"
   ]
  },
  {
   "cell_type": "code",
   "execution_count": 77,
   "metadata": {},
   "outputs": [],
   "source": [
    "sigma = torch.randn(x.shape[0]).to(device).to(dtype=torch.bfloat16)\n",
    "output = model(x, sigma, mask)"
   ]
  }
 ],
 "metadata": {
  "kernelspec": {
   "display_name": "kdif",
   "language": "python",
   "name": "python3"
  },
  "language_info": {
   "codemirror_mode": {
    "name": "ipython",
    "version": 3
   },
   "file_extension": ".py",
   "mimetype": "text/x-python",
   "name": "python",
   "nbconvert_exporter": "python",
   "pygments_lexer": "ipython3",
   "version": "3.11.6"
  }
 },
 "nbformat": 4,
 "nbformat_minor": 2
}
