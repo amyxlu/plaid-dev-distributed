{
 "cells": [
  {
   "cell_type": "code",
   "execution_count": 2,
   "id": "9f352198-0c14-4312-bcc9-39e8a0b26093",
   "metadata": {
    "execution": {
     "iopub.execute_input": "2024-10-01T18:08:00.350194Z",
     "iopub.status.busy": "2024-10-01T18:08:00.349643Z",
     "iopub.status.idle": "2024-10-01T18:08:00.988694Z",
     "shell.execute_reply": "2024-10-01T18:08:00.988145Z",
     "shell.execute_reply.started": "2024-10-01T18:08:00.350172Z"
    }
   },
   "outputs": [],
   "source": [
    "import pandas as pd"
   ]
  },
  {
   "cell_type": "code",
   "execution_count": 3,
   "id": "c44ba401-a931-4851-973e-9741a020f6a5",
   "metadata": {
    "execution": {
     "iopub.execute_input": "2024-10-01T18:08:00.990166Z",
     "iopub.status.busy": "2024-10-01T18:08:00.989755Z",
     "iopub.status.idle": "2024-10-01T18:08:01.004889Z",
     "shell.execute_reply": "2024-10-01T18:08:01.004437Z",
     "shell.execute_reply.started": "2024-10-01T18:08:00.990146Z"
    }
   },
   "outputs": [],
   "source": [
    "pg_novelty = pd.read_csv(\"/homefs/home/robins21/fold_seek_results_/scoring/proteingenerator_100_200_300_novelty_score.csv\")"
   ]
  },
  {
   "cell_type": "code",
   "execution_count": 4,
   "id": "9a74c206-3a9c-4130-a828-7bd7d91619da",
   "metadata": {
    "execution": {
     "iopub.execute_input": "2024-10-01T18:08:01.006004Z",
     "iopub.status.busy": "2024-10-01T18:08:01.005572Z",
     "iopub.status.idle": "2024-10-01T18:08:01.028617Z",
     "shell.execute_reply": "2024-10-01T18:08:01.028166Z",
     "shell.execute_reply.started": "2024-10-01T18:08:01.005983Z"
    }
   },
   "outputs": [
    {
     "data": {
      "text/html": [
       "<div>\n",
       "<style scoped>\n",
       "    .dataframe tbody tr th:only-of-type {\n",
       "        vertical-align: middle;\n",
       "    }\n",
       "\n",
       "    .dataframe tbody tr th {\n",
       "        vertical-align: top;\n",
       "    }\n",
       "\n",
       "    .dataframe thead th {\n",
       "        text-align: right;\n",
       "    }\n",
       "</style>\n",
       "<table border=\"1\" class=\"dataframe\">\n",
       "  <thead>\n",
       "    <tr style=\"text-align: right;\">\n",
       "      <th></th>\n",
       "      <th>Unnamed: 0</th>\n",
       "      <th>tm1</th>\n",
       "      <th>tm5</th>\n",
       "      <th>tm10</th>\n",
       "      <th>e1</th>\n",
       "      <th>e5</th>\n",
       "      <th>e</th>\n",
       "    </tr>\n",
       "  </thead>\n",
       "  <tbody>\n",
       "    <tr>\n",
       "      <th>count</th>\n",
       "      <td>249.000000</td>\n",
       "      <td>249.000000</td>\n",
       "      <td>249.000000</td>\n",
       "      <td>249.000000</td>\n",
       "      <td>249.000000</td>\n",
       "      <td>249.00000</td>\n",
       "      <td>249.000000</td>\n",
       "    </tr>\n",
       "    <tr>\n",
       "      <th>mean</th>\n",
       "      <td>124.000000</td>\n",
       "      <td>0.763414</td>\n",
       "      <td>0.732849</td>\n",
       "      <td>0.714912</td>\n",
       "      <td>0.609081</td>\n",
       "      <td>0.58833</td>\n",
       "      <td>0.576670</td>\n",
       "    </tr>\n",
       "    <tr>\n",
       "      <th>std</th>\n",
       "      <td>72.024301</td>\n",
       "      <td>0.071944</td>\n",
       "      <td>0.070781</td>\n",
       "      <td>0.070219</td>\n",
       "      <td>0.066731</td>\n",
       "      <td>0.05981</td>\n",
       "      <td>0.055315</td>\n",
       "    </tr>\n",
       "    <tr>\n",
       "      <th>min</th>\n",
       "      <td>0.000000</td>\n",
       "      <td>0.597700</td>\n",
       "      <td>0.545060</td>\n",
       "      <td>0.527830</td>\n",
       "      <td>0.500900</td>\n",
       "      <td>0.50090</td>\n",
       "      <td>0.500900</td>\n",
       "    </tr>\n",
       "    <tr>\n",
       "      <th>25%</th>\n",
       "      <td>62.000000</td>\n",
       "      <td>0.706200</td>\n",
       "      <td>0.680500</td>\n",
       "      <td>0.661880</td>\n",
       "      <td>0.554600</td>\n",
       "      <td>0.54218</td>\n",
       "      <td>0.532800</td>\n",
       "    </tr>\n",
       "    <tr>\n",
       "      <th>50%</th>\n",
       "      <td>124.000000</td>\n",
       "      <td>0.758700</td>\n",
       "      <td>0.726540</td>\n",
       "      <td>0.707780</td>\n",
       "      <td>0.598100</td>\n",
       "      <td>0.57796</td>\n",
       "      <td>0.566900</td>\n",
       "    </tr>\n",
       "    <tr>\n",
       "      <th>75%</th>\n",
       "      <td>186.000000</td>\n",
       "      <td>0.820900</td>\n",
       "      <td>0.778780</td>\n",
       "      <td>0.756090</td>\n",
       "      <td>0.648900</td>\n",
       "      <td>0.62404</td>\n",
       "      <td>0.605360</td>\n",
       "    </tr>\n",
       "    <tr>\n",
       "      <th>max</th>\n",
       "      <td>248.000000</td>\n",
       "      <td>0.924400</td>\n",
       "      <td>0.917260</td>\n",
       "      <td>0.911990</td>\n",
       "      <td>0.804600</td>\n",
       "      <td>0.77490</td>\n",
       "      <td>0.751670</td>\n",
       "    </tr>\n",
       "  </tbody>\n",
       "</table>\n",
       "</div>"
      ],
      "text/plain": [
       "       Unnamed: 0         tm1         tm5        tm10          e1         e5  \\\n",
       "count  249.000000  249.000000  249.000000  249.000000  249.000000  249.00000   \n",
       "mean   124.000000    0.763414    0.732849    0.714912    0.609081    0.58833   \n",
       "std     72.024301    0.071944    0.070781    0.070219    0.066731    0.05981   \n",
       "min      0.000000    0.597700    0.545060    0.527830    0.500900    0.50090   \n",
       "25%     62.000000    0.706200    0.680500    0.661880    0.554600    0.54218   \n",
       "50%    124.000000    0.758700    0.726540    0.707780    0.598100    0.57796   \n",
       "75%    186.000000    0.820900    0.778780    0.756090    0.648900    0.62404   \n",
       "max    248.000000    0.924400    0.917260    0.911990    0.804600    0.77490   \n",
       "\n",
       "                e  \n",
       "count  249.000000  \n",
       "mean     0.576670  \n",
       "std      0.055315  \n",
       "min      0.500900  \n",
       "25%      0.532800  \n",
       "50%      0.566900  \n",
       "75%      0.605360  \n",
       "max      0.751670  "
      ]
     },
     "execution_count": 4,
     "metadata": {},
     "output_type": "execute_result"
    }
   ],
   "source": [
    "pg_novelty.describe()"
   ]
  },
  {
   "cell_type": "code",
   "execution_count": 5,
   "id": "bc69b8e1-b4ab-4ed7-9beb-aa1c9cfd7c34",
   "metadata": {
    "execution": {
     "iopub.execute_input": "2024-10-01T18:08:01.030139Z",
     "iopub.status.busy": "2024-10-01T18:08:01.029675Z",
     "iopub.status.idle": "2024-10-01T18:08:01.042255Z",
     "shell.execute_reply": "2024-10-01T18:08:01.041807Z",
     "shell.execute_reply.started": "2024-10-01T18:08:01.030118Z"
    }
   },
   "outputs": [],
   "source": [
    "ppd_novelty = pd.read_csv(\"/homefs/home/robins21/fold_seek_results_/scoring/protpardelle_samples_100_200_300_samp_novelty_score.csv\")"
   ]
  },
  {
   "cell_type": "code",
   "execution_count": 6,
   "id": "55e49105-70b0-4eb1-a705-83b9d70495d7",
   "metadata": {
    "execution": {
     "iopub.execute_input": "2024-10-01T18:08:01.043267Z",
     "iopub.status.busy": "2024-10-01T18:08:01.042910Z",
     "iopub.status.idle": "2024-10-01T18:08:01.060312Z",
     "shell.execute_reply": "2024-10-01T18:08:01.059886Z",
     "shell.execute_reply.started": "2024-10-01T18:08:01.043249Z"
    }
   },
   "outputs": [
    {
     "data": {
      "text/html": [
       "<div>\n",
       "<style scoped>\n",
       "    .dataframe tbody tr th:only-of-type {\n",
       "        vertical-align: middle;\n",
       "    }\n",
       "\n",
       "    .dataframe tbody tr th {\n",
       "        vertical-align: top;\n",
       "    }\n",
       "\n",
       "    .dataframe thead th {\n",
       "        text-align: right;\n",
       "    }\n",
       "</style>\n",
       "<table border=\"1\" class=\"dataframe\">\n",
       "  <thead>\n",
       "    <tr style=\"text-align: right;\">\n",
       "      <th></th>\n",
       "      <th>Unnamed: 0</th>\n",
       "      <th>tm1</th>\n",
       "      <th>tm5</th>\n",
       "      <th>tm10</th>\n",
       "      <th>e1</th>\n",
       "      <th>e5</th>\n",
       "      <th>e</th>\n",
       "    </tr>\n",
       "  </thead>\n",
       "  <tbody>\n",
       "    <tr>\n",
       "      <th>count</th>\n",
       "      <td>255.000000</td>\n",
       "      <td>255.000000</td>\n",
       "      <td>255.000000</td>\n",
       "      <td>255.000000</td>\n",
       "      <td>255.000000</td>\n",
       "      <td>255.000000</td>\n",
       "      <td>255.000000</td>\n",
       "    </tr>\n",
       "    <tr>\n",
       "      <th>mean</th>\n",
       "      <td>127.000000</td>\n",
       "      <td>0.715186</td>\n",
       "      <td>0.694379</td>\n",
       "      <td>0.683718</td>\n",
       "      <td>0.593016</td>\n",
       "      <td>0.579281</td>\n",
       "      <td>0.573528</td>\n",
       "    </tr>\n",
       "    <tr>\n",
       "      <th>std</th>\n",
       "      <td>73.756356</td>\n",
       "      <td>0.045526</td>\n",
       "      <td>0.046157</td>\n",
       "      <td>0.047925</td>\n",
       "      <td>0.051297</td>\n",
       "      <td>0.046404</td>\n",
       "      <td>0.044761</td>\n",
       "    </tr>\n",
       "    <tr>\n",
       "      <th>min</th>\n",
       "      <td>0.000000</td>\n",
       "      <td>0.558500</td>\n",
       "      <td>0.552400</td>\n",
       "      <td>0.534530</td>\n",
       "      <td>0.500600</td>\n",
       "      <td>0.500600</td>\n",
       "      <td>0.500600</td>\n",
       "    </tr>\n",
       "    <tr>\n",
       "      <th>25%</th>\n",
       "      <td>63.500000</td>\n",
       "      <td>0.682900</td>\n",
       "      <td>0.663580</td>\n",
       "      <td>0.651780</td>\n",
       "      <td>0.550300</td>\n",
       "      <td>0.536710</td>\n",
       "      <td>0.532770</td>\n",
       "    </tr>\n",
       "    <tr>\n",
       "      <th>50%</th>\n",
       "      <td>127.000000</td>\n",
       "      <td>0.717600</td>\n",
       "      <td>0.698600</td>\n",
       "      <td>0.688470</td>\n",
       "      <td>0.597900</td>\n",
       "      <td>0.586440</td>\n",
       "      <td>0.576640</td>\n",
       "    </tr>\n",
       "    <tr>\n",
       "      <th>75%</th>\n",
       "      <td>190.500000</td>\n",
       "      <td>0.749500</td>\n",
       "      <td>0.729890</td>\n",
       "      <td>0.720270</td>\n",
       "      <td>0.631300</td>\n",
       "      <td>0.616670</td>\n",
       "      <td>0.610590</td>\n",
       "    </tr>\n",
       "    <tr>\n",
       "      <th>max</th>\n",
       "      <td>254.000000</td>\n",
       "      <td>0.809200</td>\n",
       "      <td>0.787960</td>\n",
       "      <td>0.786540</td>\n",
       "      <td>0.718100</td>\n",
       "      <td>0.695840</td>\n",
       "      <td>0.687200</td>\n",
       "    </tr>\n",
       "  </tbody>\n",
       "</table>\n",
       "</div>"
      ],
      "text/plain": [
       "       Unnamed: 0         tm1         tm5        tm10          e1          e5  \\\n",
       "count  255.000000  255.000000  255.000000  255.000000  255.000000  255.000000   \n",
       "mean   127.000000    0.715186    0.694379    0.683718    0.593016    0.579281   \n",
       "std     73.756356    0.045526    0.046157    0.047925    0.051297    0.046404   \n",
       "min      0.000000    0.558500    0.552400    0.534530    0.500600    0.500600   \n",
       "25%     63.500000    0.682900    0.663580    0.651780    0.550300    0.536710   \n",
       "50%    127.000000    0.717600    0.698600    0.688470    0.597900    0.586440   \n",
       "75%    190.500000    0.749500    0.729890    0.720270    0.631300    0.616670   \n",
       "max    254.000000    0.809200    0.787960    0.786540    0.718100    0.695840   \n",
       "\n",
       "                e  \n",
       "count  255.000000  \n",
       "mean     0.573528  \n",
       "std      0.044761  \n",
       "min      0.500600  \n",
       "25%      0.532770  \n",
       "50%      0.576640  \n",
       "75%      0.610590  \n",
       "max      0.687200  "
      ]
     },
     "execution_count": 6,
     "metadata": {},
     "output_type": "execute_result"
    }
   ],
   "source": [
    "ppd_novelty.describe()"
   ]
  },
  {
   "cell_type": "code",
   "execution_count": 7,
   "id": "8b2e3ed1-9f3d-4662-91e9-2e5ce002206b",
   "metadata": {
    "execution": {
     "iopub.execute_input": "2024-10-01T18:08:01.061312Z",
     "iopub.status.busy": "2024-10-01T18:08:01.060941Z",
     "iopub.status.idle": "2024-10-01T18:08:01.067237Z",
     "shell.execute_reply": "2024-10-01T18:08:01.066791Z",
     "shell.execute_reply.started": "2024-10-01T18:08:01.061294Z"
    }
   },
   "outputs": [
    {
     "name": "stdout",
     "output_type": "stream",
     "text": [
      "3\n",
      "['/homefs/home/robins21/fold_seek_results_/scoring/artifacts_samples_5j007z42_100_200_300_v2_148_novelty_score.csv', '/homefs/home/robins21/fold_seek_results_/scoring/artifacts_samples_5j007z42_100_200_300_v2_100_novelty_score.csv', '/homefs/home/robins21/fold_seek_results_/scoring/artifacts_samples_5j007z42_100_200_300_v2_48_novelty_score.csv']\n"
     ]
    }
   ],
   "source": [
    "import glob\n",
    "csvs = glob.glob(\"/homefs/home/robins21/fold_seek_results_/scoring/artifacts_samples_5j007z42_100_200_300_v2*novelty*\")\n",
    "csvs = list(filter(lambda x: \"filtered\" not in x, csvs))\n",
    "print(len(csvs))\n",
    "print(csvs)"
   ]
  },
  {
   "cell_type": "code",
   "execution_count": 8,
   "id": "453a555c-2d3e-489a-bbd9-e748c0ae4955",
   "metadata": {
    "execution": {
     "iopub.execute_input": "2024-10-01T18:08:01.068109Z",
     "iopub.status.busy": "2024-10-01T18:08:01.067857Z",
     "iopub.status.idle": "2024-10-01T18:08:01.088787Z",
     "shell.execute_reply": "2024-10-01T18:08:01.088354Z",
     "shell.execute_reply.started": "2024-10-01T18:08:01.068091Z"
    }
   },
   "outputs": [],
   "source": [
    "plaid_novelties = {}\n",
    "for x in csvs:\n",
    "    plaid_novelties[x] = pd.read_csv(x)"
   ]
  },
  {
   "cell_type": "code",
   "execution_count": 9,
   "id": "177f49c1-008a-4186-a951-bbbf2986baa0",
   "metadata": {
    "execution": {
     "iopub.execute_input": "2024-10-01T18:08:01.111789Z",
     "iopub.status.busy": "2024-10-01T18:08:01.111382Z",
     "iopub.status.idle": "2024-10-01T18:08:01.114888Z",
     "shell.execute_reply": "2024-10-01T18:08:01.114424Z",
     "shell.execute_reply.started": "2024-10-01T18:08:01.111770Z"
    }
   },
   "outputs": [],
   "source": [
    "big_df = pd.concat(list(plaid_novelties.values()))"
   ]
  },
  {
   "cell_type": "code",
   "execution_count": 10,
   "id": "af096393-e85c-4032-8e02-4930128b518c",
   "metadata": {
    "execution": {
     "iopub.execute_input": "2024-10-01T18:08:01.180442Z",
     "iopub.status.busy": "2024-10-01T18:08:01.179929Z",
     "iopub.status.idle": "2024-10-01T18:08:01.199061Z",
     "shell.execute_reply": "2024-10-01T18:08:01.198598Z",
     "shell.execute_reply.started": "2024-10-01T18:08:01.180419Z"
    }
   },
   "outputs": [
    {
     "data": {
      "text/html": [
       "<div>\n",
       "<style scoped>\n",
       "    .dataframe tbody tr th:only-of-type {\n",
       "        vertical-align: middle;\n",
       "    }\n",
       "\n",
       "    .dataframe tbody tr th {\n",
       "        vertical-align: top;\n",
       "    }\n",
       "\n",
       "    .dataframe thead th {\n",
       "        text-align: right;\n",
       "    }\n",
       "</style>\n",
       "<table border=\"1\" class=\"dataframe\">\n",
       "  <thead>\n",
       "    <tr style=\"text-align: right;\">\n",
       "      <th></th>\n",
       "      <th>Unnamed: 0</th>\n",
       "      <th>tm1</th>\n",
       "      <th>tm5</th>\n",
       "      <th>tm10</th>\n",
       "      <th>e1</th>\n",
       "      <th>e5</th>\n",
       "      <th>e</th>\n",
       "    </tr>\n",
       "  </thead>\n",
       "  <tbody>\n",
       "    <tr>\n",
       "      <th>count</th>\n",
       "      <td>266.000000</td>\n",
       "      <td>266.000000</td>\n",
       "      <td>266.000000</td>\n",
       "      <td>266.000000</td>\n",
       "      <td>266.000000</td>\n",
       "      <td>266.000000</td>\n",
       "      <td>266.000000</td>\n",
       "    </tr>\n",
       "    <tr>\n",
       "      <th>mean</th>\n",
       "      <td>44.157895</td>\n",
       "      <td>0.832536</td>\n",
       "      <td>0.814294</td>\n",
       "      <td>0.803260</td>\n",
       "      <td>0.704248</td>\n",
       "      <td>0.690146</td>\n",
       "      <td>0.680850</td>\n",
       "    </tr>\n",
       "    <tr>\n",
       "      <th>std</th>\n",
       "      <td>26.212871</td>\n",
       "      <td>0.098289</td>\n",
       "      <td>0.103400</td>\n",
       "      <td>0.106976</td>\n",
       "      <td>0.115085</td>\n",
       "      <td>0.113856</td>\n",
       "      <td>0.112080</td>\n",
       "    </tr>\n",
       "    <tr>\n",
       "      <th>min</th>\n",
       "      <td>0.000000</td>\n",
       "      <td>0.587500</td>\n",
       "      <td>0.552533</td>\n",
       "      <td>0.552533</td>\n",
       "      <td>0.502500</td>\n",
       "      <td>0.502500</td>\n",
       "      <td>0.502500</td>\n",
       "    </tr>\n",
       "    <tr>\n",
       "      <th>25%</th>\n",
       "      <td>22.000000</td>\n",
       "      <td>0.765275</td>\n",
       "      <td>0.746305</td>\n",
       "      <td>0.722082</td>\n",
       "      <td>0.604425</td>\n",
       "      <td>0.587595</td>\n",
       "      <td>0.577157</td>\n",
       "    </tr>\n",
       "    <tr>\n",
       "      <th>50%</th>\n",
       "      <td>44.000000</td>\n",
       "      <td>0.844500</td>\n",
       "      <td>0.829790</td>\n",
       "      <td>0.819945</td>\n",
       "      <td>0.703650</td>\n",
       "      <td>0.679940</td>\n",
       "      <td>0.670480</td>\n",
       "    </tr>\n",
       "    <tr>\n",
       "      <th>75%</th>\n",
       "      <td>66.000000</td>\n",
       "      <td>0.912175</td>\n",
       "      <td>0.897370</td>\n",
       "      <td>0.890000</td>\n",
       "      <td>0.793575</td>\n",
       "      <td>0.783960</td>\n",
       "      <td>0.772768</td>\n",
       "    </tr>\n",
       "    <tr>\n",
       "      <th>max</th>\n",
       "      <td>98.000000</td>\n",
       "      <td>0.974000</td>\n",
       "      <td>0.971340</td>\n",
       "      <td>0.969010</td>\n",
       "      <td>0.956900</td>\n",
       "      <td>0.933180</td>\n",
       "      <td>0.926970</td>\n",
       "    </tr>\n",
       "  </tbody>\n",
       "</table>\n",
       "</div>"
      ],
      "text/plain": [
       "       Unnamed: 0         tm1         tm5        tm10          e1          e5  \\\n",
       "count  266.000000  266.000000  266.000000  266.000000  266.000000  266.000000   \n",
       "mean    44.157895    0.832536    0.814294    0.803260    0.704248    0.690146   \n",
       "std     26.212871    0.098289    0.103400    0.106976    0.115085    0.113856   \n",
       "min      0.000000    0.587500    0.552533    0.552533    0.502500    0.502500   \n",
       "25%     22.000000    0.765275    0.746305    0.722082    0.604425    0.587595   \n",
       "50%     44.000000    0.844500    0.829790    0.819945    0.703650    0.679940   \n",
       "75%     66.000000    0.912175    0.897370    0.890000    0.793575    0.783960   \n",
       "max     98.000000    0.974000    0.971340    0.969010    0.956900    0.933180   \n",
       "\n",
       "                e  \n",
       "count  266.000000  \n",
       "mean     0.680850  \n",
       "std      0.112080  \n",
       "min      0.502500  \n",
       "25%      0.577157  \n",
       "50%      0.670480  \n",
       "75%      0.772768  \n",
       "max      0.926970  "
      ]
     },
     "execution_count": 10,
     "metadata": {},
     "output_type": "execute_result"
    }
   ],
   "source": [
    "big_df.describe()"
   ]
  },
  {
   "cell_type": "code",
   "execution_count": 11,
   "id": "3e6d6e40-257d-48ef-8aea-b8307a439b67",
   "metadata": {
    "execution": {
     "iopub.execute_input": "2024-10-01T18:08:01.441388Z",
     "iopub.status.busy": "2024-10-01T18:08:01.441067Z",
     "iopub.status.idle": "2024-10-01T18:08:01.445381Z",
     "shell.execute_reply": "2024-10-01T18:08:01.444899Z",
     "shell.execute_reply.started": "2024-10-01T18:08:01.441365Z"
    }
   },
   "outputs": [
    {
     "name": "stdout",
     "output_type": "stream",
     "text": [
      "3\n",
      "['/homefs/home/robins21/fold_seek_results_/scoring/artifacts_natural_maxlen256_novelty_score.csv', '/homefs/home/robins21/fold_seek_results_/scoring/artifacts_natural_maxlen128_novelty_score.csv', '/homefs/home/robins21/fold_seek_results_/scoring/artifacts_natural_maxlen64_novelty_score.csv']\n"
     ]
    }
   ],
   "source": [
    "csvs = glob.glob(\"/homefs/home/robins21/fold_seek_results_/scoring/artifacts_natural_*novelty*.csv\")\n",
    "csvs = list(filter(lambda x: \"filtered\" not in x, csvs))\n",
    "print(len(csvs))\n",
    "print(csvs)"
   ]
  },
  {
   "cell_type": "code",
   "execution_count": 12,
   "id": "aba65637-fb37-4296-813a-c3d6a19bcb10",
   "metadata": {
    "execution": {
     "iopub.execute_input": "2024-10-01T18:08:01.584756Z",
     "iopub.status.busy": "2024-10-01T18:08:01.584431Z",
     "iopub.status.idle": "2024-10-01T18:08:01.656970Z",
     "shell.execute_reply": "2024-10-01T18:08:01.656441Z",
     "shell.execute_reply.started": "2024-10-01T18:08:01.584734Z"
    }
   },
   "outputs": [],
   "source": [
    "natural_novelties = {}\n",
    "for x in csvs:\n",
    "    natural_novelties[x] = pd.read_csv(x)"
   ]
  },
  {
   "cell_type": "code",
   "execution_count": 13,
   "id": "b8620da5-5239-420e-83ca-15d0a3a710c9",
   "metadata": {
    "execution": {
     "iopub.execute_input": "2024-10-01T18:08:01.810355Z",
     "iopub.status.busy": "2024-10-01T18:08:01.809795Z",
     "iopub.status.idle": "2024-10-01T18:08:01.813891Z",
     "shell.execute_reply": "2024-10-01T18:08:01.813382Z",
     "shell.execute_reply.started": "2024-10-01T18:08:01.810330Z"
    }
   },
   "outputs": [],
   "source": [
    "natural_df = pd.concat(list(natural_novelties.values()))"
   ]
  },
  {
   "cell_type": "code",
   "execution_count": 14,
   "id": "28ff9cc7-7cf5-4db8-af01-c85a2966188d",
   "metadata": {
    "execution": {
     "iopub.execute_input": "2024-10-01T18:08:02.083680Z",
     "iopub.status.busy": "2024-10-01T18:08:02.083347Z",
     "iopub.status.idle": "2024-10-01T18:08:02.103420Z",
     "shell.execute_reply": "2024-10-01T18:08:02.102954Z",
     "shell.execute_reply.started": "2024-10-01T18:08:02.083655Z"
    }
   },
   "outputs": [
    {
     "data": {
      "text/html": [
       "<div>\n",
       "<style scoped>\n",
       "    .dataframe tbody tr th:only-of-type {\n",
       "        vertical-align: middle;\n",
       "    }\n",
       "\n",
       "    .dataframe tbody tr th {\n",
       "        vertical-align: top;\n",
       "    }\n",
       "\n",
       "    .dataframe thead th {\n",
       "        text-align: right;\n",
       "    }\n",
       "</style>\n",
       "<table border=\"1\" class=\"dataframe\">\n",
       "  <thead>\n",
       "    <tr style=\"text-align: right;\">\n",
       "      <th></th>\n",
       "      <th>Unnamed: 0</th>\n",
       "      <th>tm1</th>\n",
       "      <th>tm5</th>\n",
       "      <th>tm10</th>\n",
       "      <th>e1</th>\n",
       "      <th>e5</th>\n",
       "      <th>e</th>\n",
       "    </tr>\n",
       "  </thead>\n",
       "  <tbody>\n",
       "    <tr>\n",
       "      <th>count</th>\n",
       "      <td>3075.000000</td>\n",
       "      <td>3075.000000</td>\n",
       "      <td>3075.000000</td>\n",
       "      <td>3075.000000</td>\n",
       "      <td>3075.000000</td>\n",
       "      <td>3075.000000</td>\n",
       "      <td>3075.000000</td>\n",
       "    </tr>\n",
       "    <tr>\n",
       "      <th>mean</th>\n",
       "      <td>513.567154</td>\n",
       "      <td>0.884916</td>\n",
       "      <td>0.861195</td>\n",
       "      <td>0.842373</td>\n",
       "      <td>0.727813</td>\n",
       "      <td>0.692170</td>\n",
       "      <td>0.673757</td>\n",
       "    </tr>\n",
       "    <tr>\n",
       "      <th>std</th>\n",
       "      <td>298.692114</td>\n",
       "      <td>0.078152</td>\n",
       "      <td>0.088367</td>\n",
       "      <td>0.095481</td>\n",
       "      <td>0.111729</td>\n",
       "      <td>0.108357</td>\n",
       "      <td>0.104732</td>\n",
       "    </tr>\n",
       "    <tr>\n",
       "      <th>min</th>\n",
       "      <td>0.000000</td>\n",
       "      <td>0.538000</td>\n",
       "      <td>0.531367</td>\n",
       "      <td>0.531367</td>\n",
       "      <td>0.500100</td>\n",
       "      <td>0.500100</td>\n",
       "      <td>0.500100</td>\n",
       "    </tr>\n",
       "    <tr>\n",
       "      <th>25%</th>\n",
       "      <td>256.000000</td>\n",
       "      <td>0.844250</td>\n",
       "      <td>0.810980</td>\n",
       "      <td>0.789018</td>\n",
       "      <td>0.640200</td>\n",
       "      <td>0.599100</td>\n",
       "      <td>0.584465</td>\n",
       "    </tr>\n",
       "    <tr>\n",
       "      <th>50%</th>\n",
       "      <td>512.000000</td>\n",
       "      <td>0.905000</td>\n",
       "      <td>0.882740</td>\n",
       "      <td>0.860200</td>\n",
       "      <td>0.728900</td>\n",
       "      <td>0.689660</td>\n",
       "      <td>0.665070</td>\n",
       "    </tr>\n",
       "    <tr>\n",
       "      <th>75%</th>\n",
       "      <td>768.000000</td>\n",
       "      <td>0.945000</td>\n",
       "      <td>0.929790</td>\n",
       "      <td>0.916670</td>\n",
       "      <td>0.815700</td>\n",
       "      <td>0.772070</td>\n",
       "      <td>0.747670</td>\n",
       "    </tr>\n",
       "    <tr>\n",
       "      <th>max</th>\n",
       "      <td>1102.000000</td>\n",
       "      <td>0.993500</td>\n",
       "      <td>0.987980</td>\n",
       "      <td>0.987420</td>\n",
       "      <td>0.987500</td>\n",
       "      <td>0.974260</td>\n",
       "      <td>0.973230</td>\n",
       "    </tr>\n",
       "  </tbody>\n",
       "</table>\n",
       "</div>"
      ],
      "text/plain": [
       "        Unnamed: 0          tm1          tm5         tm10           e1  \\\n",
       "count  3075.000000  3075.000000  3075.000000  3075.000000  3075.000000   \n",
       "mean    513.567154     0.884916     0.861195     0.842373     0.727813   \n",
       "std     298.692114     0.078152     0.088367     0.095481     0.111729   \n",
       "min       0.000000     0.538000     0.531367     0.531367     0.500100   \n",
       "25%     256.000000     0.844250     0.810980     0.789018     0.640200   \n",
       "50%     512.000000     0.905000     0.882740     0.860200     0.728900   \n",
       "75%     768.000000     0.945000     0.929790     0.916670     0.815700   \n",
       "max    1102.000000     0.993500     0.987980     0.987420     0.987500   \n",
       "\n",
       "                e5            e  \n",
       "count  3075.000000  3075.000000  \n",
       "mean      0.692170     0.673757  \n",
       "std       0.108357     0.104732  \n",
       "min       0.500100     0.500100  \n",
       "25%       0.599100     0.584465  \n",
       "50%       0.689660     0.665070  \n",
       "75%       0.772070     0.747670  \n",
       "max       0.974260     0.973230  "
      ]
     },
     "execution_count": 14,
     "metadata": {},
     "output_type": "execute_result"
    }
   ],
   "source": [
    "natural_df.describe()"
   ]
  },
  {
   "cell_type": "code",
   "execution_count": 15,
   "id": "ba31be1c-504e-4832-853c-a1396dc8f36a",
   "metadata": {
    "execution": {
     "iopub.execute_input": "2024-10-01T18:08:02.421197Z",
     "iopub.status.busy": "2024-10-01T18:08:02.420875Z",
     "iopub.status.idle": "2024-10-01T18:08:02.454398Z",
     "shell.execute_reply": "2024-10-01T18:08:02.453929Z",
     "shell.execute_reply.started": "2024-10-01T18:08:02.421175Z"
    }
   },
   "outputs": [
    {
     "name": "stdout",
     "output_type": "stream",
     "text": [
      "3\n",
      "['/homefs/home/robins21/fold_seek_results_/scoring/artifacts_samples_5j007z42_100_200_300_v2_filtered_48_novelty_score.csv', '/homefs/home/robins21/fold_seek_results_/scoring/artifacts_samples_5j007z42_100_200_300_v2_filtered_148_novelty_score.csv', '/homefs/home/robins21/fold_seek_results_/scoring/artifacts_samples_5j007z42_100_200_300_v2_filtered_100_novelty_score.csv']\n"
     ]
    },
    {
     "data": {
      "text/html": [
       "<div>\n",
       "<style scoped>\n",
       "    .dataframe tbody tr th:only-of-type {\n",
       "        vertical-align: middle;\n",
       "    }\n",
       "\n",
       "    .dataframe tbody tr th {\n",
       "        vertical-align: top;\n",
       "    }\n",
       "\n",
       "    .dataframe thead th {\n",
       "        text-align: right;\n",
       "    }\n",
       "</style>\n",
       "<table border=\"1\" class=\"dataframe\">\n",
       "  <thead>\n",
       "    <tr style=\"text-align: right;\">\n",
       "      <th></th>\n",
       "      <th>Unnamed: 0</th>\n",
       "      <th>tm1</th>\n",
       "      <th>tm5</th>\n",
       "      <th>tm10</th>\n",
       "      <th>e1</th>\n",
       "      <th>e5</th>\n",
       "      <th>e</th>\n",
       "    </tr>\n",
       "  </thead>\n",
       "  <tbody>\n",
       "    <tr>\n",
       "      <th>count</th>\n",
       "      <td>147.000000</td>\n",
       "      <td>147.000000</td>\n",
       "      <td>147.000000</td>\n",
       "      <td>147.000000</td>\n",
       "      <td>147.000000</td>\n",
       "      <td>147.000000</td>\n",
       "      <td>147.000000</td>\n",
       "    </tr>\n",
       "    <tr>\n",
       "      <th>mean</th>\n",
       "      <td>25.285714</td>\n",
       "      <td>0.893133</td>\n",
       "      <td>0.877377</td>\n",
       "      <td>0.867952</td>\n",
       "      <td>0.764412</td>\n",
       "      <td>0.749024</td>\n",
       "      <td>0.738554</td>\n",
       "    </tr>\n",
       "    <tr>\n",
       "      <th>std</th>\n",
       "      <td>16.107090</td>\n",
       "      <td>0.058387</td>\n",
       "      <td>0.063288</td>\n",
       "      <td>0.067958</td>\n",
       "      <td>0.092216</td>\n",
       "      <td>0.092311</td>\n",
       "      <td>0.091918</td>\n",
       "    </tr>\n",
       "    <tr>\n",
       "      <th>min</th>\n",
       "      <td>0.000000</td>\n",
       "      <td>0.649200</td>\n",
       "      <td>0.625760</td>\n",
       "      <td>0.605520</td>\n",
       "      <td>0.557100</td>\n",
       "      <td>0.549767</td>\n",
       "      <td>0.549767</td>\n",
       "    </tr>\n",
       "    <tr>\n",
       "      <th>25%</th>\n",
       "      <td>12.000000</td>\n",
       "      <td>0.850450</td>\n",
       "      <td>0.834120</td>\n",
       "      <td>0.821965</td>\n",
       "      <td>0.687500</td>\n",
       "      <td>0.674380</td>\n",
       "      <td>0.663450</td>\n",
       "    </tr>\n",
       "    <tr>\n",
       "      <th>50%</th>\n",
       "      <td>24.000000</td>\n",
       "      <td>0.904500</td>\n",
       "      <td>0.888940</td>\n",
       "      <td>0.879290</td>\n",
       "      <td>0.769500</td>\n",
       "      <td>0.757580</td>\n",
       "      <td>0.749450</td>\n",
       "    </tr>\n",
       "    <tr>\n",
       "      <th>75%</th>\n",
       "      <td>37.500000</td>\n",
       "      <td>0.939050</td>\n",
       "      <td>0.924230</td>\n",
       "      <td>0.917990</td>\n",
       "      <td>0.837450</td>\n",
       "      <td>0.827300</td>\n",
       "      <td>0.813120</td>\n",
       "    </tr>\n",
       "    <tr>\n",
       "      <th>max</th>\n",
       "      <td>60.000000</td>\n",
       "      <td>0.974000</td>\n",
       "      <td>0.971340</td>\n",
       "      <td>0.969010</td>\n",
       "      <td>0.956900</td>\n",
       "      <td>0.933180</td>\n",
       "      <td>0.926970</td>\n",
       "    </tr>\n",
       "  </tbody>\n",
       "</table>\n",
       "</div>"
      ],
      "text/plain": [
       "       Unnamed: 0         tm1         tm5        tm10          e1          e5  \\\n",
       "count  147.000000  147.000000  147.000000  147.000000  147.000000  147.000000   \n",
       "mean    25.285714    0.893133    0.877377    0.867952    0.764412    0.749024   \n",
       "std     16.107090    0.058387    0.063288    0.067958    0.092216    0.092311   \n",
       "min      0.000000    0.649200    0.625760    0.605520    0.557100    0.549767   \n",
       "25%     12.000000    0.850450    0.834120    0.821965    0.687500    0.674380   \n",
       "50%     24.000000    0.904500    0.888940    0.879290    0.769500    0.757580   \n",
       "75%     37.500000    0.939050    0.924230    0.917990    0.837450    0.827300   \n",
       "max     60.000000    0.974000    0.971340    0.969010    0.956900    0.933180   \n",
       "\n",
       "                e  \n",
       "count  147.000000  \n",
       "mean     0.738554  \n",
       "std      0.091918  \n",
       "min      0.549767  \n",
       "25%      0.663450  \n",
       "50%      0.749450  \n",
       "75%      0.813120  \n",
       "max      0.926970  "
      ]
     },
     "execution_count": 15,
     "metadata": {},
     "output_type": "execute_result"
    }
   ],
   "source": [
    "import glob\n",
    "csvs = glob.glob(\"/homefs/home/robins21/fold_seek_results_/scoring/artifacts_samples_5j007z42_100_200_300_v2*novelty*\")\n",
    "csvs = list(filter(lambda x: \"filtered\" in x, csvs))\n",
    "print(len(csvs))\n",
    "print(csvs)\n",
    "\n",
    "plaid_filtered_novelties = {}\n",
    "for x in csvs:\n",
    "    plaid_filtered_novelties[x] = pd.read_csv(x)\n",
    "\n",
    "plaid_filtered_df = pd.concat(list(plaid_filtered_novelties.values()))\n",
    "plaid_filtered_df.describe()"
   ]
  },
  {
   "cell_type": "code",
   "execution_count": 16,
   "id": "46f82be0-14b4-422b-8e5f-1b32a896d582",
   "metadata": {
    "execution": {
     "iopub.execute_input": "2024-10-01T18:08:03.033984Z",
     "iopub.status.busy": "2024-10-01T18:08:03.033672Z",
     "iopub.status.idle": "2024-10-01T18:08:03.138088Z",
     "shell.execute_reply": "2024-10-01T18:08:03.137620Z",
     "shell.execute_reply.started": "2024-10-01T18:08:03.033962Z"
    }
   },
   "outputs": [
    {
     "name": "stdout",
     "output_type": "stream",
     "text": [
      "4\n",
      "['/homefs/home/robins21/fold_seek_results_/scoring/artifacts_natural_filtered_maxlen512_novelty_score.csv', '/homefs/home/robins21/fold_seek_results_/scoring/artifacts_natural_filtered_maxlen256_novelty_score.csv', '/homefs/home/robins21/fold_seek_results_/scoring/artifacts_natural_filtered_maxlen128_novelty_score.csv', '/homefs/home/robins21/fold_seek_results_/scoring/artifacts_natural_filtered_maxlen64_novelty_score.csv']\n"
     ]
    },
    {
     "data": {
      "text/html": [
       "<div>\n",
       "<style scoped>\n",
       "    .dataframe tbody tr th:only-of-type {\n",
       "        vertical-align: middle;\n",
       "    }\n",
       "\n",
       "    .dataframe tbody tr th {\n",
       "        vertical-align: top;\n",
       "    }\n",
       "\n",
       "    .dataframe thead th {\n",
       "        text-align: right;\n",
       "    }\n",
       "</style>\n",
       "<table border=\"1\" class=\"dataframe\">\n",
       "  <thead>\n",
       "    <tr style=\"text-align: right;\">\n",
       "      <th></th>\n",
       "      <th>Unnamed: 0</th>\n",
       "      <th>tm1</th>\n",
       "      <th>tm5</th>\n",
       "      <th>tm10</th>\n",
       "      <th>e1</th>\n",
       "      <th>e5</th>\n",
       "      <th>e</th>\n",
       "    </tr>\n",
       "  </thead>\n",
       "  <tbody>\n",
       "    <tr>\n",
       "      <th>count</th>\n",
       "      <td>3531.000000</td>\n",
       "      <td>3531.000000</td>\n",
       "      <td>3531.000000</td>\n",
       "      <td>3531.000000</td>\n",
       "      <td>3531.000000</td>\n",
       "      <td>3531.000000</td>\n",
       "      <td>3531.000000</td>\n",
       "    </tr>\n",
       "    <tr>\n",
       "      <th>mean</th>\n",
       "      <td>476.469555</td>\n",
       "      <td>0.885487</td>\n",
       "      <td>0.862356</td>\n",
       "      <td>0.843832</td>\n",
       "      <td>0.735295</td>\n",
       "      <td>0.701712</td>\n",
       "      <td>0.683781</td>\n",
       "    </tr>\n",
       "    <tr>\n",
       "      <th>std</th>\n",
       "      <td>298.427069</td>\n",
       "      <td>0.077142</td>\n",
       "      <td>0.087119</td>\n",
       "      <td>0.093809</td>\n",
       "      <td>0.112336</td>\n",
       "      <td>0.110355</td>\n",
       "      <td>0.107324</td>\n",
       "    </tr>\n",
       "    <tr>\n",
       "      <th>min</th>\n",
       "      <td>0.000000</td>\n",
       "      <td>0.538000</td>\n",
       "      <td>0.531367</td>\n",
       "      <td>0.531367</td>\n",
       "      <td>0.500100</td>\n",
       "      <td>0.500100</td>\n",
       "      <td>0.500100</td>\n",
       "    </tr>\n",
       "    <tr>\n",
       "      <th>25%</th>\n",
       "      <td>220.000000</td>\n",
       "      <td>0.844850</td>\n",
       "      <td>0.813490</td>\n",
       "      <td>0.792235</td>\n",
       "      <td>0.647300</td>\n",
       "      <td>0.607360</td>\n",
       "      <td>0.591015</td>\n",
       "    </tr>\n",
       "    <tr>\n",
       "      <th>50%</th>\n",
       "      <td>441.000000</td>\n",
       "      <td>0.905700</td>\n",
       "      <td>0.884160</td>\n",
       "      <td>0.861810</td>\n",
       "      <td>0.738700</td>\n",
       "      <td>0.701900</td>\n",
       "      <td>0.677620</td>\n",
       "    </tr>\n",
       "    <tr>\n",
       "      <th>75%</th>\n",
       "      <td>730.000000</td>\n",
       "      <td>0.944700</td>\n",
       "      <td>0.929230</td>\n",
       "      <td>0.915370</td>\n",
       "      <td>0.824150</td>\n",
       "      <td>0.785770</td>\n",
       "      <td>0.763945</td>\n",
       "    </tr>\n",
       "    <tr>\n",
       "      <th>max</th>\n",
       "      <td>1102.000000</td>\n",
       "      <td>0.993500</td>\n",
       "      <td>0.988520</td>\n",
       "      <td>0.987420</td>\n",
       "      <td>0.987500</td>\n",
       "      <td>0.974260</td>\n",
       "      <td>0.973230</td>\n",
       "    </tr>\n",
       "  </tbody>\n",
       "</table>\n",
       "</div>"
      ],
      "text/plain": [
       "        Unnamed: 0          tm1          tm5         tm10           e1  \\\n",
       "count  3531.000000  3531.000000  3531.000000  3531.000000  3531.000000   \n",
       "mean    476.469555     0.885487     0.862356     0.843832     0.735295   \n",
       "std     298.427069     0.077142     0.087119     0.093809     0.112336   \n",
       "min       0.000000     0.538000     0.531367     0.531367     0.500100   \n",
       "25%     220.000000     0.844850     0.813490     0.792235     0.647300   \n",
       "50%     441.000000     0.905700     0.884160     0.861810     0.738700   \n",
       "75%     730.000000     0.944700     0.929230     0.915370     0.824150   \n",
       "max    1102.000000     0.993500     0.988520     0.987420     0.987500   \n",
       "\n",
       "                e5            e  \n",
       "count  3531.000000  3531.000000  \n",
       "mean      0.701712     0.683781  \n",
       "std       0.110355     0.107324  \n",
       "min       0.500100     0.500100  \n",
       "25%       0.607360     0.591015  \n",
       "50%       0.701900     0.677620  \n",
       "75%       0.785770     0.763945  \n",
       "max       0.974260     0.973230  "
      ]
     },
     "execution_count": 16,
     "metadata": {},
     "output_type": "execute_result"
    }
   ],
   "source": [
    "csvs = glob.glob(\"/homefs/home/robins21/fold_seek_results_/scoring/artifacts_natural_*novelty*.csv\")\n",
    "csvs = list(filter(lambda x: \"filtered\" in x, csvs))\n",
    "print(len(csvs))\n",
    "print(csvs)\n",
    "\n",
    "natural_novelties = {}\n",
    "for x in csvs:\n",
    "    natural_novelties[x] = pd.read_csv(x)\n",
    "\n",
    "natural_df = pd.concat(list(natural_novelties.values()))\n",
    "natural_df.describe()"
   ]
  },
  {
   "cell_type": "code",
   "execution_count": null,
   "id": "208a66bd-e7b5-41ef-bc9d-466a1cb5d924",
   "metadata": {},
   "outputs": [],
   "source": []
  },
  {
   "cell_type": "markdown",
   "id": "c6ced017-d6e1-451f-a0a3-158786a9518f",
   "metadata": {},
   "source": [
    "# Multiflow"
   ]
  },
  {
   "cell_type": "code",
   "execution_count": 20,
   "id": "fae539ef-2a92-42c0-aa6f-06a7f42c130f",
   "metadata": {
    "execution": {
     "iopub.execute_input": "2024-10-01T18:10:57.298797Z",
     "iopub.status.busy": "2024-10-01T18:10:57.298360Z",
     "iopub.status.idle": "2024-10-01T18:10:57.325907Z",
     "shell.execute_reply": "2024-10-01T18:10:57.325421Z",
     "shell.execute_reply.started": "2024-10-01T18:10:57.298776Z"
    }
   },
   "outputs": [
    {
     "name": "stdout",
     "output_type": "stream",
     "text": [
      "1\n",
      "['/homefs/home/robins21/fold_seek_results_/scoring/multiflow_100_200_300_organized_filtered_novelty_score.csv']\n"
     ]
    },
    {
     "data": {
      "text/html": [
       "<div>\n",
       "<style scoped>\n",
       "    .dataframe tbody tr th:only-of-type {\n",
       "        vertical-align: middle;\n",
       "    }\n",
       "\n",
       "    .dataframe tbody tr th {\n",
       "        vertical-align: top;\n",
       "    }\n",
       "\n",
       "    .dataframe thead th {\n",
       "        text-align: right;\n",
       "    }\n",
       "</style>\n",
       "<table border=\"1\" class=\"dataframe\">\n",
       "  <thead>\n",
       "    <tr style=\"text-align: right;\">\n",
       "      <th></th>\n",
       "      <th>Unnamed: 0</th>\n",
       "      <th>tm1</th>\n",
       "      <th>tm5</th>\n",
       "      <th>tm10</th>\n",
       "      <th>e1</th>\n",
       "      <th>e5</th>\n",
       "      <th>e</th>\n",
       "    </tr>\n",
       "  </thead>\n",
       "  <tbody>\n",
       "    <tr>\n",
       "      <th>count</th>\n",
       "      <td>194.000000</td>\n",
       "      <td>194.000000</td>\n",
       "      <td>194.000000</td>\n",
       "      <td>194.000000</td>\n",
       "      <td>194.000000</td>\n",
       "      <td>194.000000</td>\n",
       "      <td>194.000000</td>\n",
       "    </tr>\n",
       "    <tr>\n",
       "      <th>mean</th>\n",
       "      <td>96.500000</td>\n",
       "      <td>0.755367</td>\n",
       "      <td>0.726179</td>\n",
       "      <td>0.707614</td>\n",
       "      <td>0.591126</td>\n",
       "      <td>0.572932</td>\n",
       "      <td>0.563034</td>\n",
       "    </tr>\n",
       "    <tr>\n",
       "      <th>std</th>\n",
       "      <td>56.147128</td>\n",
       "      <td>0.067957</td>\n",
       "      <td>0.064754</td>\n",
       "      <td>0.064158</td>\n",
       "      <td>0.063308</td>\n",
       "      <td>0.056829</td>\n",
       "      <td>0.052212</td>\n",
       "    </tr>\n",
       "    <tr>\n",
       "      <th>min</th>\n",
       "      <td>0.000000</td>\n",
       "      <td>0.570200</td>\n",
       "      <td>0.566200</td>\n",
       "      <td>0.552970</td>\n",
       "      <td>0.500600</td>\n",
       "      <td>0.500600</td>\n",
       "      <td>0.500600</td>\n",
       "    </tr>\n",
       "    <tr>\n",
       "      <th>25%</th>\n",
       "      <td>48.250000</td>\n",
       "      <td>0.702800</td>\n",
       "      <td>0.678725</td>\n",
       "      <td>0.664233</td>\n",
       "      <td>0.547625</td>\n",
       "      <td>0.530360</td>\n",
       "      <td>0.522775</td>\n",
       "    </tr>\n",
       "    <tr>\n",
       "      <th>50%</th>\n",
       "      <td>96.500000</td>\n",
       "      <td>0.750950</td>\n",
       "      <td>0.722430</td>\n",
       "      <td>0.704140</td>\n",
       "      <td>0.575750</td>\n",
       "      <td>0.559270</td>\n",
       "      <td>0.549435</td>\n",
       "    </tr>\n",
       "    <tr>\n",
       "      <th>75%</th>\n",
       "      <td>144.750000</td>\n",
       "      <td>0.796350</td>\n",
       "      <td>0.763005</td>\n",
       "      <td>0.744115</td>\n",
       "      <td>0.627775</td>\n",
       "      <td>0.600405</td>\n",
       "      <td>0.590067</td>\n",
       "    </tr>\n",
       "    <tr>\n",
       "      <th>max</th>\n",
       "      <td>193.000000</td>\n",
       "      <td>0.950800</td>\n",
       "      <td>0.917860</td>\n",
       "      <td>0.900030</td>\n",
       "      <td>0.837200</td>\n",
       "      <td>0.784760</td>\n",
       "      <td>0.771610</td>\n",
       "    </tr>\n",
       "  </tbody>\n",
       "</table>\n",
       "</div>"
      ],
      "text/plain": [
       "       Unnamed: 0         tm1         tm5        tm10          e1          e5  \\\n",
       "count  194.000000  194.000000  194.000000  194.000000  194.000000  194.000000   \n",
       "mean    96.500000    0.755367    0.726179    0.707614    0.591126    0.572932   \n",
       "std     56.147128    0.067957    0.064754    0.064158    0.063308    0.056829   \n",
       "min      0.000000    0.570200    0.566200    0.552970    0.500600    0.500600   \n",
       "25%     48.250000    0.702800    0.678725    0.664233    0.547625    0.530360   \n",
       "50%     96.500000    0.750950    0.722430    0.704140    0.575750    0.559270   \n",
       "75%    144.750000    0.796350    0.763005    0.744115    0.627775    0.600405   \n",
       "max    193.000000    0.950800    0.917860    0.900030    0.837200    0.784760   \n",
       "\n",
       "                e  \n",
       "count  194.000000  \n",
       "mean     0.563034  \n",
       "std      0.052212  \n",
       "min      0.500600  \n",
       "25%      0.522775  \n",
       "50%      0.549435  \n",
       "75%      0.590067  \n",
       "max      0.771610  "
      ]
     },
     "execution_count": 20,
     "metadata": {},
     "output_type": "execute_result"
    }
   ],
   "source": [
    "csvs = glob.glob(\"/homefs/home/robins21/fold_seek_results_/scoring/multiflow_100_200_300_*novelty*.csv\")\n",
    "csvs = list(filter(lambda x: \"filtered\" in x, csvs))\n",
    "print(len(csvs))\n",
    "print(csvs)\n",
    "\n",
    "natural_novelties = {}\n",
    "for x in csvs:\n",
    "    natural_novelties[x] = pd.read_csv(x)\n",
    "\n",
    "natural_df = pd.concat(list(natural_novelties.values()))\n",
    "natural_df.describe()"
   ]
  },
  {
   "cell_type": "code",
   "execution_count": 21,
   "id": "413e1404-829a-4ae9-a00f-8eb42e8d3a86",
   "metadata": {
    "execution": {
     "iopub.execute_input": "2024-10-01T18:10:57.406831Z",
     "iopub.status.busy": "2024-10-01T18:10:57.406410Z",
     "iopub.status.idle": "2024-10-01T18:10:57.434498Z",
     "shell.execute_reply": "2024-10-01T18:10:57.434035Z",
     "shell.execute_reply.started": "2024-10-01T18:10:57.406808Z"
    }
   },
   "outputs": [
    {
     "name": "stdout",
     "output_type": "stream",
     "text": [
      "1\n",
      "['/homefs/home/robins21/fold_seek_results_/scoring/multiflow_100_200_300_organized_novelty_score.csv']\n"
     ]
    },
    {
     "data": {
      "text/html": [
       "<div>\n",
       "<style scoped>\n",
       "    .dataframe tbody tr th:only-of-type {\n",
       "        vertical-align: middle;\n",
       "    }\n",
       "\n",
       "    .dataframe tbody tr th {\n",
       "        vertical-align: top;\n",
       "    }\n",
       "\n",
       "    .dataframe thead th {\n",
       "        text-align: right;\n",
       "    }\n",
       "</style>\n",
       "<table border=\"1\" class=\"dataframe\">\n",
       "  <thead>\n",
       "    <tr style=\"text-align: right;\">\n",
       "      <th></th>\n",
       "      <th>Unnamed: 0</th>\n",
       "      <th>tm1</th>\n",
       "      <th>tm5</th>\n",
       "      <th>tm10</th>\n",
       "      <th>e1</th>\n",
       "      <th>e5</th>\n",
       "      <th>e</th>\n",
       "    </tr>\n",
       "  </thead>\n",
       "  <tbody>\n",
       "    <tr>\n",
       "      <th>count</th>\n",
       "      <td>219.000000</td>\n",
       "      <td>219.000000</td>\n",
       "      <td>219.000000</td>\n",
       "      <td>219.000000</td>\n",
       "      <td>219.000000</td>\n",
       "      <td>219.000000</td>\n",
       "      <td>219.000000</td>\n",
       "    </tr>\n",
       "    <tr>\n",
       "      <th>mean</th>\n",
       "      <td>109.000000</td>\n",
       "      <td>0.753134</td>\n",
       "      <td>0.724849</td>\n",
       "      <td>0.706576</td>\n",
       "      <td>0.590297</td>\n",
       "      <td>0.572308</td>\n",
       "      <td>0.562632</td>\n",
       "    </tr>\n",
       "    <tr>\n",
       "      <th>std</th>\n",
       "      <td>63.364028</td>\n",
       "      <td>0.065580</td>\n",
       "      <td>0.062198</td>\n",
       "      <td>0.061682</td>\n",
       "      <td>0.060666</td>\n",
       "      <td>0.054681</td>\n",
       "      <td>0.050352</td>\n",
       "    </tr>\n",
       "    <tr>\n",
       "      <th>min</th>\n",
       "      <td>0.000000</td>\n",
       "      <td>0.570200</td>\n",
       "      <td>0.566200</td>\n",
       "      <td>0.552970</td>\n",
       "      <td>0.500600</td>\n",
       "      <td>0.500600</td>\n",
       "      <td>0.500600</td>\n",
       "    </tr>\n",
       "    <tr>\n",
       "      <th>25%</th>\n",
       "      <td>54.500000</td>\n",
       "      <td>0.701350</td>\n",
       "      <td>0.680010</td>\n",
       "      <td>0.664855</td>\n",
       "      <td>0.549950</td>\n",
       "      <td>0.532590</td>\n",
       "      <td>0.524143</td>\n",
       "    </tr>\n",
       "    <tr>\n",
       "      <th>50%</th>\n",
       "      <td>109.000000</td>\n",
       "      <td>0.749100</td>\n",
       "      <td>0.722900</td>\n",
       "      <td>0.704540</td>\n",
       "      <td>0.576600</td>\n",
       "      <td>0.560740</td>\n",
       "      <td>0.551533</td>\n",
       "    </tr>\n",
       "    <tr>\n",
       "      <th>75%</th>\n",
       "      <td>163.500000</td>\n",
       "      <td>0.789800</td>\n",
       "      <td>0.759050</td>\n",
       "      <td>0.741520</td>\n",
       "      <td>0.622500</td>\n",
       "      <td>0.599350</td>\n",
       "      <td>0.589805</td>\n",
       "    </tr>\n",
       "    <tr>\n",
       "      <th>max</th>\n",
       "      <td>218.000000</td>\n",
       "      <td>0.950800</td>\n",
       "      <td>0.917860</td>\n",
       "      <td>0.900030</td>\n",
       "      <td>0.837200</td>\n",
       "      <td>0.784760</td>\n",
       "      <td>0.771610</td>\n",
       "    </tr>\n",
       "  </tbody>\n",
       "</table>\n",
       "</div>"
      ],
      "text/plain": [
       "       Unnamed: 0         tm1         tm5        tm10          e1          e5  \\\n",
       "count  219.000000  219.000000  219.000000  219.000000  219.000000  219.000000   \n",
       "mean   109.000000    0.753134    0.724849    0.706576    0.590297    0.572308   \n",
       "std     63.364028    0.065580    0.062198    0.061682    0.060666    0.054681   \n",
       "min      0.000000    0.570200    0.566200    0.552970    0.500600    0.500600   \n",
       "25%     54.500000    0.701350    0.680010    0.664855    0.549950    0.532590   \n",
       "50%    109.000000    0.749100    0.722900    0.704540    0.576600    0.560740   \n",
       "75%    163.500000    0.789800    0.759050    0.741520    0.622500    0.599350   \n",
       "max    218.000000    0.950800    0.917860    0.900030    0.837200    0.784760   \n",
       "\n",
       "                e  \n",
       "count  219.000000  \n",
       "mean     0.562632  \n",
       "std      0.050352  \n",
       "min      0.500600  \n",
       "25%      0.524143  \n",
       "50%      0.551533  \n",
       "75%      0.589805  \n",
       "max      0.771610  "
      ]
     },
     "execution_count": 21,
     "metadata": {},
     "output_type": "execute_result"
    }
   ],
   "source": [
    "csvs = glob.glob(\"/homefs/home/robins21/fold_seek_results_/scoring/multiflow_100_200_300_*novelty*.csv\")\n",
    "csvs = list(filter(lambda x: \"filtered\" not in x, csvs))\n",
    "print(len(csvs))\n",
    "print(csvs)\n",
    "\n",
    "natural_novelties = {}\n",
    "for x in csvs:\n",
    "    natural_novelties[x] = pd.read_csv(x)\n",
    "\n",
    "natural_df = pd.concat(list(natural_novelties.values()))\n",
    "natural_df.describe()"
   ]
  },
  {
   "cell_type": "code",
   "execution_count": 25,
   "id": "e528a3b1-6dbe-43dc-803b-644480e4e698",
   "metadata": {
    "execution": {
     "iopub.execute_input": "2024-10-01T18:14:15.635212Z",
     "iopub.status.busy": "2024-10-01T18:14:15.634875Z",
     "iopub.status.idle": "2024-10-01T18:14:15.644597Z",
     "shell.execute_reply": "2024-10-01T18:14:15.644121Z",
     "shell.execute_reply.started": "2024-10-01T18:14:15.635190Z"
    }
   },
   "outputs": [
    {
     "name": "stdout",
     "output_type": "stream",
     "text": [
      "1\n",
      "['/homefs/home/robins21/fold_seek_results_/scoring/multiflow_100_200_300_organized_filtered_diversity_score.csv']\n"
     ]
    },
    {
     "data": {
      "text/html": [
       "<div>\n",
       "<style scoped>\n",
       "    .dataframe tbody tr th:only-of-type {\n",
       "        vertical-align: middle;\n",
       "    }\n",
       "\n",
       "    .dataframe tbody tr th {\n",
       "        vertical-align: top;\n",
       "    }\n",
       "\n",
       "    .dataframe thead th {\n",
       "        text-align: right;\n",
       "    }\n",
       "</style>\n",
       "<table border=\"1\" class=\"dataframe\">\n",
       "  <thead>\n",
       "    <tr style=\"text-align: right;\">\n",
       "      <th></th>\n",
       "      <th>input</th>\n",
       "      <th>nclusters</th>\n",
       "      <th>nsamples</th>\n",
       "    </tr>\n",
       "  </thead>\n",
       "  <tbody>\n",
       "    <tr>\n",
       "      <th>0</th>\n",
       "      <td>/data/lux70/plaid/baselines/multiflow/100_200_...</td>\n",
       "      <td>219</td>\n",
       "      <td>261</td>\n",
       "    </tr>\n",
       "  </tbody>\n",
       "</table>\n",
       "</div>"
      ],
      "text/plain": [
       "                                               input  nclusters  nsamples\n",
       "0  /data/lux70/plaid/baselines/multiflow/100_200_...        219       261"
      ]
     },
     "execution_count": 25,
     "metadata": {},
     "output_type": "execute_result"
    }
   ],
   "source": [
    "csvs = glob.glob(\"/homefs/home/robins21/fold_seek_results_/scoring/multiflow_100_200_300_*diversity*.csv\")\n",
    "csvs = list(filter(lambda x: \"filtered\" in x, csvs))\n",
    "print(len(csvs))\n",
    "print(csvs)\n",
    "tmp = pd.read_csv(csvs[0])\n",
    "tmp\n",
    "\n"
   ]
  },
  {
   "cell_type": "code",
   "execution_count": 26,
   "id": "bf35e692-a302-4428-87ba-70c77d6562c2",
   "metadata": {
    "execution": {
     "iopub.execute_input": "2024-10-01T18:15:04.150890Z",
     "iopub.status.busy": "2024-10-01T18:15:04.150558Z",
     "iopub.status.idle": "2024-10-01T18:15:04.161101Z",
     "shell.execute_reply": "2024-10-01T18:15:04.160642Z",
     "shell.execute_reply.started": "2024-10-01T18:15:04.150868Z"
    }
   },
   "outputs": [
    {
     "name": "stdout",
     "output_type": "stream",
     "text": [
      "1\n",
      "['/homefs/home/robins21/fold_seek_results_/scoring/multiflow_100_200_300_organized_diversity_score.csv']\n"
     ]
    },
    {
     "data": {
      "text/html": [
       "<div>\n",
       "<style scoped>\n",
       "    .dataframe tbody tr th:only-of-type {\n",
       "        vertical-align: middle;\n",
       "    }\n",
       "\n",
       "    .dataframe tbody tr th {\n",
       "        vertical-align: top;\n",
       "    }\n",
       "\n",
       "    .dataframe thead th {\n",
       "        text-align: right;\n",
       "    }\n",
       "</style>\n",
       "<table border=\"1\" class=\"dataframe\">\n",
       "  <thead>\n",
       "    <tr style=\"text-align: right;\">\n",
       "      <th></th>\n",
       "      <th>input</th>\n",
       "      <th>nclusters</th>\n",
       "      <th>nsamples</th>\n",
       "    </tr>\n",
       "  </thead>\n",
       "  <tbody>\n",
       "    <tr>\n",
       "      <th>0</th>\n",
       "      <td>/data/lux70/plaid/baselines/multiflow/100_200_...</td>\n",
       "      <td>247</td>\n",
       "      <td>300</td>\n",
       "    </tr>\n",
       "  </tbody>\n",
       "</table>\n",
       "</div>"
      ],
      "text/plain": [
       "                                               input  nclusters  nsamples\n",
       "0  /data/lux70/plaid/baselines/multiflow/100_200_...        247       300"
      ]
     },
     "execution_count": 26,
     "metadata": {},
     "output_type": "execute_result"
    }
   ],
   "source": [
    "csvs = glob.glob(\"/homefs/home/robins21/fold_seek_results_/scoring/multiflow_100_200_300_*diversity*.csv\")\n",
    "csvs = list(filter(lambda x: \"filtered\" not in x, csvs))\n",
    "print(len(csvs))\n",
    "print(csvs)\n",
    "tmp = pd.read_csv(csvs[0])\n",
    "tmp\n",
    "\n"
   ]
  },
  {
   "cell_type": "markdown",
   "id": "a4d6da4e-6c1f-4dd7-9ae2-db8c38328640",
   "metadata": {},
   "source": [
    "# diversity"
   ]
  },
  {
   "cell_type": "code",
   "execution_count": 30,
   "id": "2d390ea5-838b-4069-84dc-0b3c3862b682",
   "metadata": {
    "execution": {
     "iopub.execute_input": "2024-09-30T21:13:52.634753Z",
     "iopub.status.busy": "2024-09-30T21:13:52.634312Z",
     "iopub.status.idle": "2024-09-30T21:13:52.647264Z",
     "shell.execute_reply": "2024-09-30T21:13:52.646773Z",
     "shell.execute_reply.started": "2024-09-30T21:13:52.634730Z"
    }
   },
   "outputs": [
    {
     "name": "stdout",
     "output_type": "stream",
     "text": [
      "4\n",
      "['/homefs/home/robins21/fold_seek_results_/scoring/artifacts_natural_filtered_maxlen128_diversity_score.csv', '/homefs/home/robins21/fold_seek_results_/scoring/artifacts_natural_filtered_maxlen512_diversity_score.csv', '/homefs/home/robins21/fold_seek_results_/scoring/artifacts_natural_filtered_maxlen256_diversity_score.csv', '/homefs/home/robins21/fold_seek_results_/scoring/artifacts_natural_filtered_maxlen64_diversity_score.csv']\n",
      "                                               input  nclusters  nsamples\n",
      "0  /data/lux70/plaid/artifacts/natural//maxlen128...        531      1300\n",
      "                                               input  nclusters  nsamples\n",
      "0  /data/lux70/plaid/artifacts/natural//maxlen512...        172       494\n",
      "                                               input  nclusters  nsamples\n",
      "0  /data/lux70/plaid/artifacts/natural//maxlen256...        453      1109\n",
      "                                               input  nclusters  nsamples\n",
      "0  /data/lux70/plaid/artifacts/natural//maxlen64/...        482      1315\n"
     ]
    }
   ],
   "source": [
    "csvs = glob.glob(\"/homefs/home/robins21/fold_seek_results_/scoring/artifacts_natural_*diversity*.csv\")\n",
    "csvs = list(filter(lambda x: \"filtered\" in x, csvs))\n",
    "print(len(csvs))\n",
    "print(csvs)\n",
    "\n",
    "all_dfs = {}\n",
    "for x in csvs:\n",
    "    tmp = pd.read_csv(x)\n",
    "    print(tmp)\n",
    "    all_dfs[x] = tmp\n",
    "# natural_novelties = {}\n",
    "# for x in csvs:\n",
    "#     natural_novelties[x] = pd.read_csv(x)\n",
    "\n",
    "# natural_df = pd.concat(list(natural_novelties.values()))\n",
    "# natural_df.describe()"
   ]
  },
  {
   "cell_type": "code",
   "execution_count": 35,
   "id": "8c3e8b1e-561e-4367-a9a5-557299e775fe",
   "metadata": {
    "execution": {
     "iopub.execute_input": "2024-09-30T21:14:23.858230Z",
     "iopub.status.busy": "2024-09-30T21:14:23.857991Z",
     "iopub.status.idle": "2024-09-30T21:14:23.864196Z",
     "shell.execute_reply": "2024-09-30T21:14:23.863710Z",
     "shell.execute_reply.started": "2024-09-30T21:14:23.858212Z"
    }
   },
   "outputs": [
    {
     "data": {
      "text/html": [
       "<div>\n",
       "<style scoped>\n",
       "    .dataframe tbody tr th:only-of-type {\n",
       "        vertical-align: middle;\n",
       "    }\n",
       "\n",
       "    .dataframe tbody tr th {\n",
       "        vertical-align: top;\n",
       "    }\n",
       "\n",
       "    .dataframe thead th {\n",
       "        text-align: right;\n",
       "    }\n",
       "</style>\n",
       "<table border=\"1\" class=\"dataframe\">\n",
       "  <thead>\n",
       "    <tr style=\"text-align: right;\">\n",
       "      <th></th>\n",
       "      <th>input</th>\n",
       "      <th>nclusters</th>\n",
       "      <th>nsamples</th>\n",
       "    </tr>\n",
       "  </thead>\n",
       "  <tbody>\n",
       "    <tr>\n",
       "      <th>0</th>\n",
       "      <td>/data/lux70/plaid/artifacts/natural//maxlen128...</td>\n",
       "      <td>531</td>\n",
       "      <td>1300</td>\n",
       "    </tr>\n",
       "    <tr>\n",
       "      <th>0</th>\n",
       "      <td>/data/lux70/plaid/artifacts/natural//maxlen512...</td>\n",
       "      <td>172</td>\n",
       "      <td>494</td>\n",
       "    </tr>\n",
       "    <tr>\n",
       "      <th>0</th>\n",
       "      <td>/data/lux70/plaid/artifacts/natural//maxlen256...</td>\n",
       "      <td>453</td>\n",
       "      <td>1109</td>\n",
       "    </tr>\n",
       "    <tr>\n",
       "      <th>0</th>\n",
       "      <td>/data/lux70/plaid/artifacts/natural//maxlen64/...</td>\n",
       "      <td>482</td>\n",
       "      <td>1315</td>\n",
       "    </tr>\n",
       "  </tbody>\n",
       "</table>\n",
       "</div>"
      ],
      "text/plain": [
       "                                               input  nclusters  nsamples\n",
       "0  /data/lux70/plaid/artifacts/natural//maxlen128...        531      1300\n",
       "0  /data/lux70/plaid/artifacts/natural//maxlen512...        172       494\n",
       "0  /data/lux70/plaid/artifacts/natural//maxlen256...        453      1109\n",
       "0  /data/lux70/plaid/artifacts/natural//maxlen64/...        482      1315"
      ]
     },
     "execution_count": 35,
     "metadata": {},
     "output_type": "execute_result"
    }
   ],
   "source": [
    "all_div_natural = pd.concat(all_dfs.values())\n",
    "all_div_natural"
   ]
  },
  {
   "cell_type": "code",
   "execution_count": 36,
   "id": "106c34f2-36d7-4279-9593-7b4f163ceb67",
   "metadata": {
    "execution": {
     "iopub.execute_input": "2024-09-30T21:14:29.506911Z",
     "iopub.status.busy": "2024-09-30T21:14:29.506666Z",
     "iopub.status.idle": "2024-09-30T21:14:29.511285Z",
     "shell.execute_reply": "2024-09-30T21:14:29.510794Z",
     "shell.execute_reply.started": "2024-09-30T21:14:29.506892Z"
    }
   },
   "outputs": [
    {
     "data": {
      "text/plain": [
       "input        /data/lux70/plaid/artifacts/natural//maxlen128...\n",
       "nclusters                                                 1638\n",
       "nsamples                                                  4218\n",
       "dtype: object"
      ]
     },
     "execution_count": 36,
     "metadata": {},
     "output_type": "execute_result"
    }
   ],
   "source": [
    "all_div_natural.sum()"
   ]
  },
  {
   "cell_type": "markdown",
   "id": "0a75d0ac-71b1-473e-8d76-3e8b8e58cf0e",
   "metadata": {},
   "source": [
    "# div natural unfiltered"
   ]
  },
  {
   "cell_type": "code",
   "execution_count": 37,
   "id": "e8a13bce-51ba-4f16-9d9a-ba6e541497a0",
   "metadata": {
    "execution": {
     "iopub.execute_input": "2024-09-30T21:16:18.764036Z",
     "iopub.status.busy": "2024-09-30T21:16:18.763693Z",
     "iopub.status.idle": "2024-09-30T21:16:18.782678Z",
     "shell.execute_reply": "2024-09-30T21:16:18.782246Z",
     "shell.execute_reply.started": "2024-09-30T21:16:18.764013Z"
    }
   },
   "outputs": [
    {
     "name": "stdout",
     "output_type": "stream",
     "text": [
      "4\n",
      "['/homefs/home/robins21/fold_seek_results_/scoring/artifacts_natural_maxlen256_diversity_score.csv', '/homefs/home/robins21/fold_seek_results_/scoring/artifacts_natural_maxlen64_diversity_score.csv', '/homefs/home/robins21/fold_seek_results_/scoring/artifacts_natural_maxlen128_diversity_score.csv', '/homefs/home/robins21/fold_seek_results_/scoring/artifacts_natural_maxlen512_diversity_score.csv']\n",
      "                                               input  nclusters  nsamples\n",
      "0  /data/lux70/plaid/artifacts/natural//maxlen256...        454      1111\n",
      "                                               input  nclusters  nsamples\n",
      "0  /data/lux70/plaid/artifacts/natural//maxlen64/...        482      1315\n",
      "                                               input  nclusters  nsamples\n",
      "0  /data/lux70/plaid/artifacts/natural//maxlen128...        531      1300\n",
      "                                               input  nclusters  nsamples\n",
      "0  /data/lux70/plaid/artifacts/natural//maxlen512...        172       494\n"
     ]
    },
    {
     "data": {
      "text/plain": [
       "input        /data/lux70/plaid/artifacts/natural//maxlen256...\n",
       "nclusters                                                 1639\n",
       "nsamples                                                  4220\n",
       "dtype: object"
      ]
     },
     "execution_count": 37,
     "metadata": {},
     "output_type": "execute_result"
    }
   ],
   "source": [
    "csvs = glob.glob(\"/homefs/home/robins21/fold_seek_results_/scoring/artifacts_natural_*diversity*.csv\")\n",
    "csvs = list(filter(lambda x: \"filtered\" not in x, csvs))\n",
    "print(len(csvs))\n",
    "print(csvs)\n",
    "\n",
    "all_dfs = {}\n",
    "for x in csvs:\n",
    "    tmp = pd.read_csv(x)\n",
    "    print(tmp)\n",
    "    all_dfs[x] = tmp\n",
    "# natural_novelties = {}\n",
    "# for x in csvs:\n",
    "#     natural_novelties[x] = pd.read_csv(x)\n",
    "\n",
    "# natural_df = pd.concat(list(natural_novelties.values()))\n",
    "# natural_df.describe()\n",
    "\n",
    "all_div_natural = pd.concat(all_dfs.values())\n",
    "all_div_natural.sum()"
   ]
  },
  {
   "cell_type": "code",
   "execution_count": null,
   "id": "c5280b7f-3a4a-4a8e-9fb6-8f52cad5fafb",
   "metadata": {},
   "outputs": [],
   "source": []
  },
  {
   "cell_type": "code",
   "execution_count": null,
   "id": "2bfe0d49-2ebd-4127-bdd3-9104ddcbb18f",
   "metadata": {},
   "outputs": [],
   "source": [
    "csvs = glob.glob(\"/homefs/home/robins21/fold_seek_results_/scoring/artifacts_*diversity*.csv\")\n",
    "csvs = list(filter(lambda x: \"filtered\" in x, csvs))\n",
    "print(len(csvs))\n",
    "print(csvs)\n",
    "\n",
    "all_dfs = {}\n",
    "for x in csvs:\n",
    "    tmp = pd.read_csv(x)\n",
    "    print(tmp)\n",
    "    all_dfs[x] = tmp\n",
    "# natural_novelties = {}\n",
    "# for x in csvs:\n",
    "#     natural_novelties[x] = pd.read_csv(x)\n",
    "\n",
    "# natural_df = pd.concat(list(natural_novelties.values()))\n",
    "# natural_df.describe()"
   ]
  },
  {
   "cell_type": "markdown",
   "id": "949cecc7-a41a-420f-92bc-67e728cc3d58",
   "metadata": {},
   "source": [
    "# plaid div filtered"
   ]
  },
  {
   "cell_type": "code",
   "execution_count": 38,
   "id": "cea457d2-3e50-4a5a-bbd2-da6b234241e1",
   "metadata": {
    "execution": {
     "iopub.execute_input": "2024-09-30T21:17:33.213515Z",
     "iopub.status.busy": "2024-09-30T21:17:33.213062Z",
     "iopub.status.idle": "2024-09-30T21:17:33.229227Z",
     "shell.execute_reply": "2024-09-30T21:17:33.228796Z",
     "shell.execute_reply.started": "2024-09-30T21:17:33.213491Z"
    }
   },
   "outputs": [
    {
     "name": "stdout",
     "output_type": "stream",
     "text": [
      "3\n",
      "['/homefs/home/robins21/fold_seek_results_/scoring/artifacts_samples_5j007z42_100_200_300_v2_filtered_48_diversity_score.csv', '/homefs/home/robins21/fold_seek_results_/scoring/artifacts_samples_5j007z42_100_200_300_v2_filtered_148_diversity_score.csv', '/homefs/home/robins21/fold_seek_results_/scoring/artifacts_samples_5j007z42_100_200_300_v2_filtered_100_diversity_score.csv']\n",
      "                                               input  nclusters  nsamples\n",
      "0  /data/lux70/plaid/artifacts/samples/5j007z42/1...         33        55\n",
      "                                               input  nclusters  nsamples\n",
      "0  /data/lux70/plaid/artifacts/samples/5j007z42/1...         22        61\n",
      "                                               input  nclusters  nsamples\n",
      "0  /data/lux70/plaid/artifacts/samples/5j007z42/1...         23        36\n"
     ]
    },
    {
     "data": {
      "text/plain": [
       "input        /data/lux70/plaid/artifacts/samples/5j007z42/1...\n",
       "nclusters                                                   78\n",
       "nsamples                                                   152\n",
       "dtype: object"
      ]
     },
     "execution_count": 38,
     "metadata": {},
     "output_type": "execute_result"
    }
   ],
   "source": [
    "csvs = glob.glob(\"/homefs/home/robins21/fold_seek_results_/scoring/artifacts_samples_5j007z42_100_200_300_v2_*diversity*.csv\")\n",
    "csvs = list(filter(lambda x: \"filtered\" in x, csvs))\n",
    "print(len(csvs))\n",
    "print(csvs)\n",
    "\n",
    "all_dfs = {}\n",
    "for x in csvs:\n",
    "    tmp = pd.read_csv(x)\n",
    "    print(tmp)\n",
    "    all_dfs[x] = tmp\n",
    "# natural_novelties = {}\n",
    "# for x in csvs:\n",
    "#     natural_novelties[x] = pd.read_csv(x)\n",
    "\n",
    "# natural_df = pd.concat(list(natural_novelties.values()))\n",
    "# natural_df.describe()\n",
    "\n",
    "all_div_plaid = pd.concat(all_dfs.values())\n",
    "all_div_plaid.sum()"
   ]
  },
  {
   "cell_type": "code",
   "execution_count": 39,
   "id": "1f898160-044f-4f42-a291-a3037f1e7099",
   "metadata": {
    "execution": {
     "iopub.execute_input": "2024-09-30T21:18:01.420634Z",
     "iopub.status.busy": "2024-09-30T21:18:01.420288Z",
     "iopub.status.idle": "2024-09-30T21:18:01.436067Z",
     "shell.execute_reply": "2024-09-30T21:18:01.435630Z",
     "shell.execute_reply.started": "2024-09-30T21:18:01.420611Z"
    }
   },
   "outputs": [
    {
     "name": "stdout",
     "output_type": "stream",
     "text": [
      "3\n",
      "['/homefs/home/robins21/fold_seek_results_/scoring/artifacts_samples_5j007z42_100_200_300_v2_148_diversity_score.csv', '/homefs/home/robins21/fold_seek_results_/scoring/artifacts_samples_5j007z42_100_200_300_v2_100_diversity_score.csv', '/homefs/home/robins21/fold_seek_results_/scoring/artifacts_samples_5j007z42_100_200_300_v2_48_diversity_score.csv']\n",
      "                                               input  nclusters  nsamples\n",
      "0  /data/lux70/plaid/artifacts/samples/5j007z42/1...         76       128\n",
      "                                               input  nclusters  nsamples\n",
      "0  /data/lux70/plaid/artifacts/samples/5j007z42/1...        109       128\n",
      "                                               input  nclusters  nsamples\n",
      "0  /data/lux70/plaid/artifacts/samples/5j007z42/1...        100       128\n"
     ]
    },
    {
     "data": {
      "text/plain": [
       "input        /data/lux70/plaid/artifacts/samples/5j007z42/1...\n",
       "nclusters                                                  285\n",
       "nsamples                                                   384\n",
       "dtype: object"
      ]
     },
     "execution_count": 39,
     "metadata": {},
     "output_type": "execute_result"
    }
   ],
   "source": [
    "csvs = glob.glob(\"/homefs/home/robins21/fold_seek_results_/scoring/artifacts_samples_5j007z42_100_200_300_v2_*diversity*.csv\")\n",
    "csvs = list(filter(lambda x: \"filtered\" not in x, csvs))\n",
    "print(len(csvs))\n",
    "print(csvs)\n",
    "\n",
    "all_dfs = {}\n",
    "for x in csvs:\n",
    "    tmp = pd.read_csv(x)\n",
    "    print(tmp)\n",
    "    all_dfs[x] = tmp\n",
    "# natural_novelties = {}\n",
    "# for x in csvs:\n",
    "#     natural_novelties[x] = pd.read_csv(x)\n",
    "\n",
    "# natural_df = pd.concat(list(natural_novelties.values()))\n",
    "# natural_df.describe()\n",
    "\n",
    "all_div_plaid = pd.concat(all_dfs.values())\n",
    "all_div_plaid.sum()"
   ]
  },
  {
   "cell_type": "markdown",
   "id": "5f6d1d97-1040-4599-8489-091076ebd1e1",
   "metadata": {},
   "source": [
    "# baselines no filter"
   ]
  },
  {
   "cell_type": "code",
   "execution_count": 40,
   "id": "cdd9c8ea-34cc-4c7a-bbbb-f10592510e79",
   "metadata": {
    "execution": {
     "iopub.execute_input": "2024-09-30T21:19:39.975930Z",
     "iopub.status.busy": "2024-09-30T21:19:39.975484Z",
     "iopub.status.idle": "2024-09-30T21:19:39.987295Z",
     "shell.execute_reply": "2024-09-30T21:19:39.986764Z",
     "shell.execute_reply.started": "2024-09-30T21:19:39.975907Z"
    }
   },
   "outputs": [
    {
     "name": "stdout",
     "output_type": "stream",
     "text": [
      "1\n",
      "['/homefs/home/robins21/fold_seek_results_/scoring/protpardelle_samples_100_200_300_samp_diversity_score.csv']\n",
      "                                               input  nclusters  nsamples\n",
      "0  /data/lux70/plaid/baselines/protpardelle/sampl...        177       300\n"
     ]
    },
    {
     "data": {
      "text/plain": [
       "input        /data/lux70/plaid/baselines/protpardelle/sampl...\n",
       "nclusters                                                  177\n",
       "nsamples                                                   300\n",
       "dtype: object"
      ]
     },
     "execution_count": 40,
     "metadata": {},
     "output_type": "execute_result"
    }
   ],
   "source": [
    "csvs = glob.glob(\"/homefs/home/robins21/fold_seek_results_/scoring/protpardelle_samples_100_200_300_samp*diversity*.csv\")\n",
    "csvs = list(filter(lambda x: \"filtered\" not in x, csvs))\n",
    "print(len(csvs))\n",
    "print(csvs)\n",
    "\n",
    "all_dfs = {}\n",
    "for x in csvs:\n",
    "    tmp = pd.read_csv(x)\n",
    "    print(tmp)\n",
    "    all_dfs[x] = tmp\n",
    "# natural_novelties = {}\n",
    "# for x in csvs:\n",
    "#     natural_novelties[x] = pd.read_csv(x)\n",
    "\n",
    "# natural_df = pd.concat(list(natural_novelties.values()))\n",
    "# natural_df.describe()\n",
    "\n",
    "all_div_plaid = pd.concat(all_dfs.values())\n",
    "all_div_plaid.sum()"
   ]
  },
  {
   "cell_type": "code",
   "execution_count": 41,
   "id": "05b4b29e-251b-4a5c-b14a-af844c617e7c",
   "metadata": {
    "execution": {
     "iopub.execute_input": "2024-09-30T21:20:18.321411Z",
     "iopub.status.busy": "2024-09-30T21:20:18.321075Z",
     "iopub.status.idle": "2024-09-30T21:20:18.331795Z",
     "shell.execute_reply": "2024-09-30T21:20:18.331287Z",
     "shell.execute_reply.started": "2024-09-30T21:20:18.321388Z"
    }
   },
   "outputs": [
    {
     "name": "stdout",
     "output_type": "stream",
     "text": [
      "1\n",
      "['/homefs/home/robins21/fold_seek_results_/scoring/proteingenerator_100_200_300_diversity_score.csv']\n",
      "                                               input  nclusters  nsamples\n",
      "0  /data/lux70/plaid/baselines/proteingenerator/1...        219       300\n"
     ]
    },
    {
     "data": {
      "text/plain": [
       "input        /data/lux70/plaid/baselines/proteingenerator/1...\n",
       "nclusters                                                  219\n",
       "nsamples                                                   300\n",
       "dtype: object"
      ]
     },
     "execution_count": 41,
     "metadata": {},
     "output_type": "execute_result"
    }
   ],
   "source": [
    "csvs = glob.glob(\"/homefs/home/robins21/fold_seek_results_/scoring/proteingenerator*diversity*.csv\")\n",
    "csvs = list(filter(lambda x: \"filtered\" not in x, csvs))\n",
    "print(len(csvs))\n",
    "print(csvs)\n",
    "\n",
    "all_dfs = {}\n",
    "for x in csvs:\n",
    "    tmp = pd.read_csv(x)\n",
    "    print(tmp)\n",
    "    all_dfs[x] = tmp\n",
    "# natural_novelties = {}\n",
    "# for x in csvs:\n",
    "#     natural_novelties[x] = pd.read_csv(x)\n",
    "\n",
    "# natural_df = pd.concat(list(natural_novelties.values()))\n",
    "# natural_df.describe()\n",
    "\n",
    "all_div_plaid = pd.concat(all_dfs.values())\n",
    "all_div_plaid.sum()"
   ]
  },
  {
   "cell_type": "markdown",
   "id": "da40664a-efa6-4263-8dcd-2f14907fd743",
   "metadata": {},
   "source": [
    "# sequence diversity"
   ]
  },
  {
   "cell_type": "code",
   "execution_count": 2,
   "id": "9a250fff-2f14-46a7-b6f5-539170e67c4f",
   "metadata": {
    "execution": {
     "iopub.execute_input": "2024-10-02T05:54:09.889805Z",
     "iopub.status.busy": "2024-10-02T05:54:09.889480Z",
     "iopub.status.idle": "2024-10-02T05:54:10.558765Z",
     "shell.execute_reply": "2024-10-02T05:54:10.558245Z",
     "shell.execute_reply.started": "2024-10-02T05:54:09.889780Z"
    }
   },
   "outputs": [],
   "source": [
    "import pandas as pd\n",
    "\n",
    "path = \"/data/mahajs17/PLAID/mmseqs_clustering_results.csv\"\n",
    "df = pd.read_csv(path)"
   ]
  },
  {
   "cell_type": "code",
   "execution_count": 8,
   "id": "b7a13616-d9b5-43bf-b1fa-3248cbff5f6b",
   "metadata": {
    "execution": {
     "iopub.execute_input": "2024-10-02T05:56:02.497623Z",
     "iopub.status.busy": "2024-10-02T05:56:02.497284Z",
     "iopub.status.idle": "2024-10-02T05:56:02.504617Z",
     "shell.execute_reply": "2024-10-02T05:56:02.504029Z",
     "shell.execute_reply.started": "2024-10-02T05:56:02.497602Z"
    }
   },
   "outputs": [
    {
     "data": {
      "text/html": [
       "<div>\n",
       "<style scoped>\n",
       "    .dataframe tbody tr th:only-of-type {\n",
       "        vertical-align: middle;\n",
       "    }\n",
       "\n",
       "    .dataframe tbody tr th {\n",
       "        vertical-align: top;\n",
       "    }\n",
       "\n",
       "    .dataframe thead th {\n",
       "        text-align: right;\n",
       "    }\n",
       "</style>\n",
       "<table border=\"1\" class=\"dataframe\">\n",
       "  <thead>\n",
       "    <tr style=\"text-align: right;\">\n",
       "      <th></th>\n",
       "      <th>Run</th>\n",
       "      <th>N_generated</th>\n",
       "      <th>cluster_SI25</th>\n",
       "      <th>cluster_SI50</th>\n",
       "      <th>cluster_SI80</th>\n",
       "    </tr>\n",
       "  </thead>\n",
       "  <tbody>\n",
       "    <tr>\n",
       "      <th>0</th>\n",
       "      <td>natural/maxlen64/generated</td>\n",
       "      <td>1315</td>\n",
       "      <td>1247</td>\n",
       "      <td>1253</td>\n",
       "      <td>1303</td>\n",
       "    </tr>\n",
       "    <tr>\n",
       "      <th>1</th>\n",
       "      <td>natural/maxlen512/generated</td>\n",
       "      <td>494</td>\n",
       "      <td>457</td>\n",
       "      <td>474</td>\n",
       "      <td>494</td>\n",
       "    </tr>\n",
       "    <tr>\n",
       "      <th>2</th>\n",
       "      <td>natural/maxlen256/generated</td>\n",
       "      <td>1111</td>\n",
       "      <td>1019</td>\n",
       "      <td>1052</td>\n",
       "      <td>1106</td>\n",
       "    </tr>\n",
       "    <tr>\n",
       "      <th>3</th>\n",
       "      <td>natural/maxlen128/generated</td>\n",
       "      <td>1300</td>\n",
       "      <td>1238</td>\n",
       "      <td>1256</td>\n",
       "      <td>1299</td>\n",
       "    </tr>\n",
       "    <tr>\n",
       "      <th>4</th>\n",
       "      <td>samples/5j007z42/100_200_300_v2/48/generated</td>\n",
       "      <td>128</td>\n",
       "      <td>126</td>\n",
       "      <td>128</td>\n",
       "      <td>128</td>\n",
       "    </tr>\n",
       "    <tr>\n",
       "      <th>5</th>\n",
       "      <td>samples/5j007z42/100_200_300_v2/100/generated</td>\n",
       "      <td>128</td>\n",
       "      <td>127</td>\n",
       "      <td>128</td>\n",
       "      <td>128</td>\n",
       "    </tr>\n",
       "    <tr>\n",
       "      <th>6</th>\n",
       "      <td>samples/5j007z42/100_200_300_v2/148/generated</td>\n",
       "      <td>128</td>\n",
       "      <td>117</td>\n",
       "      <td>120</td>\n",
       "      <td>128</td>\n",
       "    </tr>\n",
       "    <tr>\n",
       "      <th>7</th>\n",
       "      <td>baselines/protpardelle/samples_100_200_300/gen...</td>\n",
       "      <td>300</td>\n",
       "      <td>299</td>\n",
       "      <td>300</td>\n",
       "      <td>300</td>\n",
       "    </tr>\n",
       "    <tr>\n",
       "      <th>8</th>\n",
       "      <td>baselines/proteingenerator/100_200_300/generated</td>\n",
       "      <td>300</td>\n",
       "      <td>292</td>\n",
       "      <td>299</td>\n",
       "      <td>299</td>\n",
       "    </tr>\n",
       "    <tr>\n",
       "      <th>9</th>\n",
       "      <td>baselines/multiflow/100_200_300_organized/gene...</td>\n",
       "      <td>300</td>\n",
       "      <td>297</td>\n",
       "      <td>300</td>\n",
       "      <td>300</td>\n",
       "    </tr>\n",
       "  </tbody>\n",
       "</table>\n",
       "</div>"
      ],
      "text/plain": [
       "                                                 Run  N_generated  \\\n",
       "0                         natural/maxlen64/generated         1315   \n",
       "1                        natural/maxlen512/generated          494   \n",
       "2                        natural/maxlen256/generated         1111   \n",
       "3                        natural/maxlen128/generated         1300   \n",
       "4       samples/5j007z42/100_200_300_v2/48/generated          128   \n",
       "5      samples/5j007z42/100_200_300_v2/100/generated          128   \n",
       "6      samples/5j007z42/100_200_300_v2/148/generated          128   \n",
       "7  baselines/protpardelle/samples_100_200_300/gen...          300   \n",
       "8   baselines/proteingenerator/100_200_300/generated          300   \n",
       "9  baselines/multiflow/100_200_300_organized/gene...          300   \n",
       "\n",
       "   cluster_SI25  cluster_SI50  cluster_SI80  \n",
       "0          1247          1253          1303  \n",
       "1           457           474           494  \n",
       "2          1019          1052          1106  \n",
       "3          1238          1256          1299  \n",
       "4           126           128           128  \n",
       "5           127           128           128  \n",
       "6           117           120           128  \n",
       "7           299           300           300  \n",
       "8           292           299           299  \n",
       "9           297           300           300  "
      ]
     },
     "execution_count": 8,
     "metadata": {},
     "output_type": "execute_result"
    }
   ],
   "source": [
    "df"
   ]
  },
  {
   "cell_type": "code",
   "execution_count": 7,
   "id": "ab13cf78-93d4-4df3-80e0-221928105fc9",
   "metadata": {
    "execution": {
     "iopub.execute_input": "2024-10-02T05:54:50.683427Z",
     "iopub.status.busy": "2024-10-02T05:54:50.683097Z",
     "iopub.status.idle": "2024-10-02T05:54:50.689362Z",
     "shell.execute_reply": "2024-10-02T05:54:50.688757Z",
     "shell.execute_reply.started": "2024-10-02T05:54:50.683401Z"
    }
   },
   "outputs": [
    {
     "data": {
      "text/plain": [
       "Run             natural/maxlen64/generatednatural/maxlen512/ge...\n",
       "N_generated                                                  4220\n",
       "cluster_SI25                                                 3961\n",
       "cluster_SI50                                                 4035\n",
       "cluster_SI80                                                 4202\n",
       "dtype: object"
      ]
     },
     "execution_count": 7,
     "metadata": {},
     "output_type": "execute_result"
    }
   ],
   "source": [
    "tmp = df[df.Run.str.contains(\"natural\")]\n",
    "tmp.sum()"
   ]
  },
  {
   "cell_type": "code",
   "execution_count": 9,
   "id": "1530bbbc-1b06-40d4-ab7a-f466e63d13cc",
   "metadata": {
    "execution": {
     "iopub.execute_input": "2024-10-02T05:56:15.882991Z",
     "iopub.status.busy": "2024-10-02T05:56:15.882645Z",
     "iopub.status.idle": "2024-10-02T05:56:15.888956Z",
     "shell.execute_reply": "2024-10-02T05:56:15.888391Z",
     "shell.execute_reply.started": "2024-10-02T05:56:15.882968Z"
    }
   },
   "outputs": [
    {
     "data": {
      "text/plain": [
       "Run             samples/5j007z42/100_200_300_v2/48/generatedsa...\n",
       "N_generated                                                   384\n",
       "cluster_SI25                                                  370\n",
       "cluster_SI50                                                  376\n",
       "cluster_SI80                                                  384\n",
       "dtype: object"
      ]
     },
     "execution_count": 9,
     "metadata": {},
     "output_type": "execute_result"
    }
   ],
   "source": [
    "tmp = df[df.Run.str.contains(\"5j007z42\")]\n",
    "tmp.sum()"
   ]
  },
  {
   "cell_type": "code",
   "execution_count": null,
   "id": "53f7913f-c141-4662-a6c7-57f11c361ef8",
   "metadata": {},
   "outputs": [],
   "source": []
  }
 ],
 "metadata": {
  "kernelspec": {
   "display_name": "Python (omegafold)",
   "language": "python",
   "name": "omegafold"
  },
  "language_info": {
   "codemirror_mode": {
    "name": "ipython",
    "version": 3
   },
   "file_extension": ".py",
   "mimetype": "text/x-python",
   "name": "python",
   "nbconvert_exporter": "python",
   "pygments_lexer": "ipython3",
   "version": "3.9.12"
  }
 },
 "nbformat": 4,
 "nbformat_minor": 5
}
