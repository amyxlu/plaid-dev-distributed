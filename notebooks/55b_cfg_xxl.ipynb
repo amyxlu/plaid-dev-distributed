{
 "cells": [
  {
   "cell_type": "code",
   "execution_count": 3,
   "id": "8be77fb2-2be4-4ef5-bcff-c337ac2e0f22",
   "metadata": {},
   "outputs": [],
   "source": [
    "%load_ext autoreload\n",
    "%autoreload 2"
   ]
  },
  {
   "cell_type": "markdown",
   "id": "6cf5d6a4-43cc-43cd-b2cd-32d85ba411eb",
   "metadata": {},
   "source": [
    "# Load EMA weights"
   ]
  },
  {
   "cell_type": "code",
   "execution_count": 1,
   "id": "40340dd1-691e-46a9-a7a4-89764ae70232",
   "metadata": {},
   "outputs": [
    {
     "name": "stderr",
     "output_type": "stream",
     "text": [
      "/homefs/home/lux70/micromamba/envs/flash_attn/lib/python3.11/site-packages/xformers/ops/fmha/flash.py:211: FutureWarning: `torch.library.impl_abstract` was renamed to `torch.library.register_fake`. Please use that instead; we will remove `torch.library.impl_abstract` in a future version of PyTorch.\n",
      "  @torch.library.impl_abstract(\"xformers_flash::flash_fwd\")\n",
      "/homefs/home/lux70/micromamba/envs/flash_attn/lib/python3.11/site-packages/xformers/ops/fmha/flash.py:344: FutureWarning: `torch.library.impl_abstract` was renamed to `torch.library.register_fake`. Please use that instead; we will remove `torch.library.impl_abstract` in a future version of PyTorch.\n",
      "  @torch.library.impl_abstract(\"xformers_flash::flash_bwd\")\n",
      "/homefs/home/lux70/code/plaid/src/plaid/diffusion/cfg.py:470: FutureWarning: `torch.cuda.amp.autocast(args...)` is deprecated. Please use `torch.amp.autocast('cuda', args...)` instead.\n",
      "  @autocast(enabled = False)\n"
     ]
    }
   ],
   "source": [
    "from pathlib import Path\n",
    "from omegaconf import OmegaConf\n",
    "\n",
    "import torch\n",
    "from plaid.diffusion import FunctionOrganismDiffusion\n",
    "from plaid.denoisers import FunctionOrganismUDiT, DenoiserKwargs\n",
    "from plaid.constants import COMPRESSION_INPUT_DIMENSIONS, COMPRESSION_SHORTEN_FACTORS\n",
    "\n",
    "device = torch.device(\"cuda\")"
   ]
  },
  {
   "cell_type": "code",
   "execution_count": 2,
   "id": "d41fe821-9853-4dac-8770-7ad43913f72c",
   "metadata": {},
   "outputs": [],
   "source": [
    "model_id = \"5j007z42\"\n",
    "\n",
    "ckpt_dir = Path(\"/data/lux70/plaid/checkpoints/plaid-compositional\") \n",
    "model_path = ckpt_dir / model_id / \"last.ckpt\"\n",
    "config_path = ckpt_dir / model_id / \"config.yaml\"\n",
    "\n",
    "cfg = OmegaConf.load(config_path)"
   ]
  },
  {
   "cell_type": "code",
   "execution_count": 4,
   "id": "0d0ee233-db93-413c-9ad8-3d64002782ec",
   "metadata": {},
   "outputs": [],
   "source": [
    "compression_model_id = cfg['compression_model_id']\n",
    "shorten_factor = COMPRESSION_SHORTEN_FACTORS[compression_model_id]\n",
    "input_dim = COMPRESSION_INPUT_DIMENSIONS[compression_model_id]"
   ]
  },
  {
   "cell_type": "code",
   "execution_count": 5,
   "id": "0ccb6306-1595-415f-972a-f2e26c8f0855",
   "metadata": {},
   "outputs": [],
   "source": [
    "denoiser_kwargs = cfg.denoiser\n",
    "denoiser_kwargs.pop(\"_target_\")\n",
    "denoiser = FunctionOrganismUDiT(**denoiser_kwargs, input_dim=input_dim)"
   ]
  },
  {
   "cell_type": "code",
   "execution_count": 6,
   "id": "893d53c5-fb33-4ba3-abf0-f5fcef079c0b",
   "metadata": {},
   "outputs": [
    {
     "name": "stderr",
     "output_type": "stream",
     "text": [
      "/tmp/ipykernel_1829581/2446128762.py:3: FutureWarning: You are using `torch.load` with `weights_only=False` (the current default value), which uses the default pickle module implicitly. It is possible to construct malicious pickle data which will execute arbitrary code during unpickling (See https://github.com/pytorch/pytorch/blob/main/SECURITY.md#untrusted-models for more details). In a future release, the default value for `weights_only` will be flipped to `True`. This limits the functions that could be executed during unpickling. Arbitrary objects will no longer be allowed to be loaded via this mode unless they are explicitly allowlisted by the user via `torch.serialization.add_safe_globals`. We recommend you start setting `weights_only=True` for any use case where you don't have full control of the loaded file. Please open an issue on GitHub for any issues related to this experimental feature.\n",
      "  ckpt = torch.load(model_path)\n"
     ]
    },
    {
     "data": {
      "text/plain": [
       "dict_keys(['epoch', 'global_step', 'pytorch-lightning_version', 'state_dict', 'loops', 'callbacks', 'optimizer_states', 'lr_schedulers', 'hparams_name', 'hyper_parameters'])"
      ]
     },
     "execution_count": 6,
     "metadata": {},
     "output_type": "execute_result"
    }
   ],
   "source": [
    "# lask.ckpt automatically links to the EMA\n",
    "\n",
    "ckpt = torch.load(model_path)\n",
    "ckpt.keys()"
   ]
  },
  {
   "cell_type": "code",
   "execution_count": 7,
   "id": "339644e5-2ad5-4c13-a861-b0451aa896dc",
   "metadata": {},
   "outputs": [],
   "source": [
    "mod_state_dict = {}\n",
    "for k, v in ckpt['state_dict'].items():\n",
    "    if k[:16] == \"model._orig_mod.\":\n",
    "        mod_state_dict[k[16:]] = v"
   ]
  },
  {
   "cell_type": "code",
   "execution_count": 8,
   "id": "3db302af-0823-4253-87bd-2759f57bba5e",
   "metadata": {},
   "outputs": [
    {
     "data": {
      "text/plain": [
       "<All keys matched successfully>"
      ]
     },
     "execution_count": 8,
     "metadata": {},
     "output_type": "execute_result"
    }
   ],
   "source": [
    "denoiser.load_state_dict(mod_state_dict)"
   ]
  },
  {
   "cell_type": "code",
   "execution_count": 9,
   "id": "de95b1ca-a6a7-4577-a627-3a4e440d28c8",
   "metadata": {},
   "outputs": [],
   "source": [
    "diffusion_kwargs = cfg.diffusion\n",
    "diffusion_kwargs.pop(\"_target_\")\n",
    "\n",
    "# diffusion_kwargs['beta_scheduler_name'] = \"sigmoid\"\n",
    "# diffusion_kwargs['sampling_timesteps'] = 500\n",
    "\n",
    "diffusion = FunctionOrganismDiffusion(model=denoiser,**diffusion_kwargs)"
   ]
  },
  {
   "cell_type": "code",
   "execution_count": 10,
   "id": "11c8b285-5450-4c5b-a524-5bd16104f47f",
   "metadata": {},
   "outputs": [
    {
     "name": "stderr",
     "output_type": "stream",
     "text": [
      "/homefs/home/lux70/code/cheap-proteins/src/cheap/pretrained.py:32: FutureWarning: You are using `torch.load` with `weights_only=False` (the current default value), which uses the default pickle module implicitly. It is possible to construct malicious pickle data which will execute arbitrary code during unpickling (See https://github.com/pytorch/pytorch/blob/main/SECURITY.md#untrusted-models for more details). In a future release, the default value for `weights_only` will be flipped to `True`. This limits the functions that could be executed during unpickling. Arbitrary objects will no longer be allowed to be loaded via this mode unless they are explicitly allowlisted by the user via `torch.serialization.add_safe_globals`. We recommend you start setting `weights_only=True` for any use case where you don't have full control of the loaded file. Please open an issue on GitHub for any issues related to this experimental feature.\n",
      "  ckpt = torch.load(checkpoint_fpath)\n"
     ]
    },
    {
     "name": "stdout",
     "output_type": "stream",
     "text": [
      "Using tanh layer at bottleneck...\n",
      "Finished loading HPCT model with shorten factor 2 and 32 channel dimensions.\n"
     ]
    },
    {
     "name": "stderr",
     "output_type": "stream",
     "text": [
      "/homefs/home/lux70/code/cheap-proteins/src/cheap/decoder.py:92: FutureWarning: You are using `torch.load` with `weights_only=False` (the current default value), which uses the default pickle module implicitly. It is possible to construct malicious pickle data which will execute arbitrary code during unpickling (See https://github.com/pytorch/pytorch/blob/main/SECURITY.md#untrusted-models for more details). In a future release, the default value for `weights_only` will be flipped to `True`. This limits the functions that could be executed during unpickling. Arbitrary objects will no longer be allowed to be loaded via this mode unless they are explicitly allowlisted by the user via `torch.serialization.add_safe_globals`. We recommend you start setting `weights_only=True` for any use case where you don't have full control of the loaded file. Please open an issue on GitHub for any issues related to this experimental feature.\n",
      "  ckpt = torch.load(ckpt_path)\n",
      "Creating ESMFold...\n",
      "ESMFold model loaded in 40.29 seconds.\n"
     ]
    },
    {
     "data": {
      "text/plain": [
       "<cheap.proteins.LatentToStructure at 0x7feb5820b850>"
      ]
     },
     "execution_count": 10,
     "metadata": {},
     "output_type": "execute_result"
    }
   ],
   "source": [
    "from cheap.pretrained import load_model_from_id\n",
    "cheap_model = load_model_from_id(compression_model_id)\n",
    "_ = cheap_model.to(device)\n",
    "\n",
    "from cheap.proteins import LatentToSequence,LatentToStructure\n",
    "latent_to_sequence = LatentToSequence()\n",
    "latent_to_sequence.to(device)\n",
    "\n",
    "latent_to_structure = LatentToStructure()\n",
    "latent_to_structure.to(device)"
   ]
  },
  {
   "cell_type": "markdown",
   "id": "80da3b78-1ae3-43d5-bcfb-e1debeeb2b88",
   "metadata": {},
   "source": [
    "# Sample"
   ]
  },
  {
   "cell_type": "code",
   "execution_count": 11,
   "id": "8dbb148c-1816-460f-a511-050f4b9ac60c",
   "metadata": {},
   "outputs": [],
   "source": [
    "# organism_idx = org_df[org_df.organism_id == \"HUMAN\"].organism_index.iloc[0]\n",
    "# function_idx = go_df[go_df.GO_term == \"carbohydrate metabolic process\"].GO_idx.iloc[0]\n",
    "# print(organism_idx, function_idx)"
   ]
  },
  {
   "cell_type": "code",
   "execution_count": 12,
   "id": "ef5574ef-a2a4-4ed4-a8c0-ef6046ded4eb",
   "metadata": {},
   "outputs": [],
   "source": [
    "device = torch.device(\"cuda\")\n",
    "diffusion = diffusion.to(device)"
   ]
  },
  {
   "cell_type": "code",
   "execution_count": null,
   "id": "dbfd8cdc-0b38-4e42-9896-9bceae605613",
   "metadata": {},
   "outputs": [
    {
     "data": {
      "application/vnd.jupyter.widget-view+json": {
       "model_id": "6b2ea27825f74abf81dbb8346f4d7dad",
       "version_major": 2,
       "version_minor": 0
      },
      "text/plain": [
       "sampling loop time step:   0%|          | 0/250 [00:00<?, ?it/s]"
      ]
     },
     "metadata": {},
     "output_type": "display_data"
    }
   ],
   "source": [
    "from plaid.datasets import NUM_ORGANISM_CLASSES, NUM_FUNCTION_CLASSES\n",
    "\n",
    "N, L = 64, 128\n",
    "assert L % 4 == 0\n",
    "\n",
    "shape = (N, L, input_dim)\n",
    "\n",
    "organism_idx = NUM_ORGANISM_CLASSES\n",
    "function_idx = NUM_FUNCTION_CLASSES\n",
    "\n",
    "cond_scale = 10\n",
    "\n",
    "diffusion.sampling_timesteps=250\n",
    "\n",
    "sampled_latent = diffusion.ddim_sample_loop(\n",
    "    shape=shape,\n",
    "    organism_idx=organism_idx,\n",
    "    function_idx=function_idx,\n",
    "    return_all_timesteps=True,\n",
    "    cond_scale=cond_scale,\n",
    ")"
   ]
  },
  {
   "cell_type": "code",
   "execution_count": null,
   "id": "1cc49c1b-4349-43c0-bbc2-86bc37c22029",
   "metadata": {},
   "outputs": [],
   "source": [
    "print(sampled_latent.shape)\n",
    "final_sample = sampled_latent[:, -1, :, :]\n",
    "print(final_sample.shape)\n",
    "\n",
    "print(final_sample.max(), final_sample.min())"
   ]
  },
  {
   "cell_type": "code",
   "execution_count": null,
   "id": "6be3f51f-c486-4b19-b8e9-449c810ddad9",
   "metadata": {},
   "outputs": [],
   "source": [
    "sampled_uncompressed = cheap_model.decode(final_sample, downsampled_mask=None)\n",
    "print(sampled_uncompressed.min(), sampled_uncompressed.max())"
   ]
  },
  {
   "cell_type": "code",
   "execution_count": null,
   "id": "dbcf8ec3-7afc-48ae-b0d5-d19ded99b383",
   "metadata": {},
   "outputs": [],
   "source": [
    "# import pickle as pkl\n",
    "# with open(\"test_sample.pkl\", \"wb\") as f:\n",
    "#     pkl.dump(sampled_uncompressed,f)"
   ]
  },
  {
   "cell_type": "code",
   "execution_count": null,
   "id": "8e77d77c-ee26-41ee-a29b-67b3c9777136",
   "metadata": {},
   "outputs": [],
   "source": [
    "from cheap.utils import LatentScaler\n",
    "latent_scaler = LatentScaler()\n",
    "sampled_unscaled = latent_scaler.unscale(sampled_uncompressed) "
   ]
  },
  {
   "cell_type": "code",
   "execution_count": null,
   "id": "36492297-c8cc-44f2-8198-88b8e1223b3c",
   "metadata": {},
   "outputs": [],
   "source": [
    "print(sampled_unscaled.shape)\n",
    "print(sampled_unscaled.max(), sampled_unscaled.min())"
   ]
  },
  {
   "cell_type": "code",
   "execution_count": null,
   "id": "4ebf6908-d86b-4266-a9a9-65c020f2c8cd",
   "metadata": {},
   "outputs": [],
   "source": [
    "sequences = latent_to_sequence.to_sequence(sampled_unscaled)[-1]"
   ]
  },
  {
   "cell_type": "code",
   "execution_count": null,
   "id": "c07e3c4f-692f-435d-b495-d842e2653577",
   "metadata": {},
   "outputs": [],
   "source": [
    "sequences[:3]"
   ]
  },
  {
   "cell_type": "code",
   "execution_count": null,
   "id": "ab9c6666-1bee-41b8-a7be-5b408aa3aa0b",
   "metadata": {},
   "outputs": [],
   "source": [
    "pdb_strs, raw_outputs = latent_to_structure.to_structure(sampled_unscaled, return_raw_outputs=True, sequences=sequences, batch_size=32, num_recycles=1)"
   ]
  },
  {
   "cell_type": "code",
   "execution_count": null,
   "id": "cad56f46-1950-495f-9884-6575c0e9a64f",
   "metadata": {},
   "outputs": [],
   "source": [
    "import matplotlib.pyplot as plt\n",
    "import seaborn as sns\n",
    "\n",
    "_ = sns.distplot(raw_outputs['plddt'].mean(dim=-1).mean(dim=-1).cpu().numpy(), bins=30)"
   ]
  },
  {
   "cell_type": "code",
   "execution_count": null,
   "id": "87165734-415d-47f3-ad0f-9edbb69a8fb2",
   "metadata": {},
   "outputs": [],
   "source": [
    "import py3Dmol\n",
    "\n",
    "# for i in range(len(pdb_strs)):\n",
    "# for i in range(10,20): \n",
    "# for i in range(0, 10): \n",
    "for i in range(20,30): \n",
    "    view = py3Dmol.view(width=600, height=600)\n",
    "    view.addModelsAsFrames(pdb_strs[i])\n",
    "    \n",
    "    # Apply the plDDT color scheme\n",
    "    # view.setStyle({'cartoon': {'color': {'prop': 'b', 'gradient': 'roygb', 'min': 0, 'max': 100}}})\n",
    "    view.setStyle({'cartoon': {'color': {'prop': 'b', 'gradient': 'roygb', 'min': 50, 'max': 90}}})\n",
    "    \n",
    "    # # Add surface representation with plDDT-based color\n",
    "    view.addSurface(py3Dmol.VDW, {'opacity': 0.7, 'colorscheme': {'prop': 'b', 'gradient': 'roygb', 'min': 50, 'max': 90}})\n",
    "    # view.addSurface(py3Dmol.VDW, {'opacity': 0.7, 'colorscheme': {'prop': 'b', 'gradient': 'roygb', 'min': 0, 'max': 100}})\n",
    "\n",
    "    view.zoomTo()\n",
    "    view.show()"
   ]
  },
  {
   "cell_type": "code",
   "execution_count": null,
   "id": "c15f4adf-d61c-47e7-afa6-08619861e4a3",
   "metadata": {},
   "outputs": [],
   "source": [
    "from plaid.evaluation import RITAPerplexity\n",
    "\n",
    "perplexity_calc = RITAPerplexity(device=device)\n",
    "perplexities = perplexity_calc.batch_eval(sequences)"
   ]
  },
  {
   "cell_type": "code",
   "execution_count": null,
   "id": "69a3cd6d-9fbb-48b8-bb2e-e824f985020c",
   "metadata": {},
   "outputs": [],
   "source": [
    "perplexities = [perplexity_calc.calc_perplexity(s) for s in sequences]"
   ]
  },
  {
   "cell_type": "code",
   "execution_count": null,
   "id": "8db437c2-58e1-4121-9bdc-7d57f6353864",
   "metadata": {},
   "outputs": [],
   "source": [
    "import seaborn as sns\n",
    "_ = sns.distplot(perplexities, bins=30)"
   ]
  },
  {
   "cell_type": "code",
   "execution_count": null,
   "id": "aaf6a69e-c3c4-4bca-b5c5-59f367b7abca",
   "metadata": {},
   "outputs": [],
   "source": [
    "import numpy as np\n",
    "np.mean(perplexities)"
   ]
  },
  {
   "cell_type": "code",
   "execution_count": null,
   "id": "dc89dcc9-dc2f-4cf5-82af-d3a1b6e61a02",
   "metadata": {},
   "outputs": [],
   "source": [
    "from plaid.utils import write_to_fasta\n",
    "\n",
    "\n",
    "write_to_fasta(\n",
    "    sequences,\n",
    "    \"/homefs/home/lux70/generated.fasta\",\n",
    "    [f\"sample{i}\" for i in range(len(sequences))]\n",
    ")"
   ]
  },
  {
   "cell_type": "code",
   "execution_count": null,
   "id": "6ba241a5-a334-4034-aabd-186e81be9028",
   "metadata": {},
   "outputs": [],
   "source": []
  },
  {
   "cell_type": "code",
   "execution_count": null,
   "id": "9020b50b-00e5-4e6e-8cc4-71c5db80b9ba",
   "metadata": {},
   "outputs": [],
   "source": []
  },
  {
   "cell_type": "code",
   "execution_count": null,
   "id": "f0f9d17c-ab42-444e-a5a3-61a868e2a0cd",
   "metadata": {},
   "outputs": [],
   "source": []
  },
  {
   "cell_type": "code",
   "execution_count": null,
   "id": "e373a1b7-5ca1-481b-9b17-bc3c54fc7c7e",
   "metadata": {},
   "outputs": [],
   "source": []
  },
  {
   "cell_type": "code",
   "execution_count": null,
   "id": "9dbddd6f-45e6-4b9f-8445-f5c030e3e829",
   "metadata": {},
   "outputs": [],
   "source": []
  },
  {
   "cell_type": "code",
   "execution_count": null,
   "id": "c34723cc-ab4a-4a27-8031-55871fd4ca76",
   "metadata": {},
   "outputs": [],
   "source": []
  },
  {
   "cell_type": "code",
   "execution_count": null,
   "id": "422551f4-18cd-4c94-82e2-ab314664b5fa",
   "metadata": {},
   "outputs": [],
   "source": []
  },
  {
   "cell_type": "code",
   "execution_count": null,
   "id": "17409f0f-368a-4514-8e5d-5b930dbda11d",
   "metadata": {},
   "outputs": [],
   "source": []
  }
 ],
 "metadata": {
  "kernelspec": {
   "display_name": "Python (flash_attn)",
   "language": "python",
   "name": "flash_attn"
  },
  "language_info": {
   "codemirror_mode": {
    "name": "ipython",
    "version": 3
   },
   "file_extension": ".py",
   "mimetype": "text/x-python",
   "name": "python",
   "nbconvert_exporter": "python",
   "pygments_lexer": "ipython3",
   "version": "3.11.9"
  }
 },
 "nbformat": 4,
 "nbformat_minor": 5
}
