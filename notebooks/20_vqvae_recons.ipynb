{
 "cells": [
  {
   "cell_type": "code",
   "execution_count": 1,
   "metadata": {},
   "outputs": [],
   "source": [
    "%load_ext autoreload\n",
    "%autoreload 2"
   ]
  },
  {
   "cell_type": "code",
   "execution_count": 2,
   "metadata": {},
   "outputs": [],
   "source": [
    "import torch\n",
    "import torch.nn as nn\n",
    "\n",
    "from plaid.vqvae import TransformerVQVAE\n",
    "from plaid.proteins import LatentToSequence, LatentToStructure"
   ]
  },
  {
   "cell_type": "code",
   "execution_count": 5,
   "metadata": {},
   "outputs": [
    {
     "data": {
      "text/plain": [
       "dict_keys(['epoch', 'global_step', 'pytorch-lightning_version', 'state_dict', 'loops', 'callbacks', 'optimizer_states', 'lr_schedulers'])"
      ]
     },
     "execution_count": 5,
     "metadata": {},
     "output_type": "execute_result"
    }
   ],
   "source": [
    "file = \"/shared/amyxlu/plaid/checkpoints/2024-01-11T15-45-26/last.ckpt\"\n",
    "ckpt = torch.load(file)\n",
    "ckpt.keys()"
   ]
  },
  {
   "cell_type": "code",
   "execution_count": 6,
   "metadata": {},
   "outputs": [
    {
     "ename": "RuntimeError",
     "evalue": "Error(s) in loading state_dict for TransformerVQVAE:\n\tMissing key(s) in state_dict: \"vqvae_encoder.conv_stack.5.stack.3.res_block.1.weight\", \"vqvae_encoder.conv_stack.5.stack.3.res_block.3.weight\", \"vqvae_encoder.conv_stack.5.stack.4.res_block.1.weight\", \"vqvae_encoder.conv_stack.5.stack.4.res_block.3.weight\", \"vqvae_encoder.conv_stack.5.stack.5.res_block.1.weight\", \"vqvae_encoder.conv_stack.5.stack.5.res_block.3.weight\", \"vqvae_encoder.conv_stack.5.stack.6.res_block.1.weight\", \"vqvae_encoder.conv_stack.5.stack.6.res_block.3.weight\", \"vqvae_encoder.conv_stack.5.stack.7.res_block.1.weight\", \"vqvae_encoder.conv_stack.5.stack.7.res_block.3.weight\", \"vqvae_encoder.conv_stack.5.stack.8.res_block.1.weight\", \"vqvae_encoder.conv_stack.5.stack.8.res_block.3.weight\", \"vqvae_encoder.conv_stack.5.stack.9.res_block.1.weight\", \"vqvae_encoder.conv_stack.5.stack.9.res_block.3.weight\", \"vqvae_encoder.conv_stack.5.stack.10.res_block.1.weight\", \"vqvae_encoder.conv_stack.5.stack.10.res_block.3.weight\", \"vqvae_encoder.conv_stack.5.stack.11.res_block.1.weight\", \"vqvae_encoder.conv_stack.5.stack.11.res_block.3.weight\", \"vqvae_decoder.inverse_conv_stack.1.stack.3.res_block.1.weight\", \"vqvae_decoder.inverse_conv_stack.1.stack.3.res_block.3.weight\", \"vqvae_decoder.inverse_conv_stack.1.stack.4.res_block.1.weight\", \"vqvae_decoder.inverse_conv_stack.1.stack.4.res_block.3.weight\", \"vqvae_decoder.inverse_conv_stack.1.stack.5.res_block.1.weight\", \"vqvae_decoder.inverse_conv_stack.1.stack.5.res_block.3.weight\", \"vqvae_decoder.inverse_conv_stack.1.stack.6.res_block.1.weight\", \"vqvae_decoder.inverse_conv_stack.1.stack.6.res_block.3.weight\", \"vqvae_decoder.inverse_conv_stack.1.stack.7.res_block.1.weight\", \"vqvae_decoder.inverse_conv_stack.1.stack.7.res_block.3.weight\", \"vqvae_decoder.inverse_conv_stack.1.stack.8.res_block.1.weight\", \"vqvae_decoder.inverse_conv_stack.1.stack.8.res_block.3.weight\", \"vqvae_decoder.inverse_conv_stack.1.stack.9.res_block.1.weight\", \"vqvae_decoder.inverse_conv_stack.1.stack.9.res_block.3.weight\", \"vqvae_decoder.inverse_conv_stack.1.stack.10.res_block.1.weight\", \"vqvae_decoder.inverse_conv_stack.1.stack.10.res_block.3.weight\", \"vqvae_decoder.inverse_conv_stack.1.stack.11.res_block.1.weight\", \"vqvae_decoder.inverse_conv_stack.1.stack.11.res_block.3.weight\". \n\tUnexpected key(s) in state_dict: \"transformer.layer.6.attention.self.query.weight\", \"transformer.layer.6.attention.self.query.bias\", \"transformer.layer.6.attention.self.key.weight\", \"transformer.layer.6.attention.self.key.bias\", \"transformer.layer.6.attention.self.value.weight\", \"transformer.layer.6.attention.self.value.bias\", \"transformer.layer.6.attention.output.dense.weight\", \"transformer.layer.6.attention.output.dense.bias\", \"transformer.layer.6.attention.output.LayerNorm.weight\", \"transformer.layer.6.attention.output.LayerNorm.bias\", \"transformer.layer.6.intermediate.dense.weight\", \"transformer.layer.6.intermediate.dense.bias\", \"transformer.layer.6.output.dense.weight\", \"transformer.layer.6.output.dense.bias\", \"transformer.layer.6.output.LayerNorm.weight\", \"transformer.layer.6.output.LayerNorm.bias\", \"transformer.layer.7.attention.self.query.weight\", \"transformer.layer.7.attention.self.query.bias\", \"transformer.layer.7.attention.self.key.weight\", \"transformer.layer.7.attention.self.key.bias\", \"transformer.layer.7.attention.self.value.weight\", \"transformer.layer.7.attention.self.value.bias\", \"transformer.layer.7.attention.output.dense.weight\", \"transformer.layer.7.attention.output.dense.bias\", \"transformer.layer.7.attention.output.LayerNorm.weight\", \"transformer.layer.7.attention.output.LayerNorm.bias\", \"transformer.layer.7.intermediate.dense.weight\", \"transformer.layer.7.intermediate.dense.bias\", \"transformer.layer.7.output.dense.weight\", \"transformer.layer.7.output.dense.bias\", \"transformer.layer.7.output.LayerNorm.weight\", \"transformer.layer.7.output.LayerNorm.bias\", \"transformer.layer.8.attention.self.query.weight\", \"transformer.layer.8.attention.self.query.bias\", \"transformer.layer.8.attention.self.key.weight\", \"transformer.layer.8.attention.self.key.bias\", \"transformer.layer.8.attention.self.value.weight\", \"transformer.layer.8.attention.self.value.bias\", \"transformer.layer.8.attention.output.dense.weight\", \"transformer.layer.8.attention.output.dense.bias\", \"transformer.layer.8.attention.output.LayerNorm.weight\", \"transformer.layer.8.attention.output.LayerNorm.bias\", \"transformer.layer.8.intermediate.dense.weight\", \"transformer.layer.8.intermediate.dense.bias\", \"transformer.layer.8.output.dense.weight\", \"transformer.layer.8.output.dense.bias\", \"transformer.layer.8.output.LayerNorm.weight\", \"transformer.layer.8.output.LayerNorm.bias\", \"transformer.layer.9.attention.self.query.weight\", \"transformer.layer.9.attention.self.query.bias\", \"transformer.layer.9.attention.self.key.weight\", \"transformer.layer.9.attention.self.key.bias\", \"transformer.layer.9.attention.self.value.weight\", \"transformer.layer.9.attention.self.value.bias\", \"transformer.layer.9.attention.output.dense.weight\", \"transformer.layer.9.attention.output.dense.bias\", \"transformer.layer.9.attention.output.LayerNorm.weight\", \"transformer.layer.9.attention.output.LayerNorm.bias\", \"transformer.layer.9.intermediate.dense.weight\", \"transformer.layer.9.intermediate.dense.bias\", \"transformer.layer.9.output.dense.weight\", \"transformer.layer.9.output.dense.bias\", \"transformer.layer.9.output.LayerNorm.weight\", \"transformer.layer.9.output.LayerNorm.bias\", \"transformer.layer.10.attention.self.query.weight\", \"transformer.layer.10.attention.self.query.bias\", \"transformer.layer.10.attention.self.key.weight\", \"transformer.layer.10.attention.self.key.bias\", \"transformer.layer.10.attention.self.value.weight\", \"transformer.layer.10.attention.self.value.bias\", \"transformer.layer.10.attention.output.dense.weight\", \"transformer.layer.10.attention.output.dense.bias\", \"transformer.layer.10.attention.output.LayerNorm.weight\", \"transformer.layer.10.attention.output.LayerNorm.bias\", \"transformer.layer.10.intermediate.dense.weight\", \"transformer.layer.10.intermediate.dense.bias\", \"transformer.layer.10.output.dense.weight\", \"transformer.layer.10.output.dense.bias\", \"transformer.layer.10.output.LayerNorm.weight\", \"transformer.layer.10.output.LayerNorm.bias\", \"transformer.layer.11.attention.self.query.weight\", \"transformer.layer.11.attention.self.query.bias\", \"transformer.layer.11.attention.self.key.weight\", \"transformer.layer.11.attention.self.key.bias\", \"transformer.layer.11.attention.self.value.weight\", \"transformer.layer.11.attention.self.value.bias\", \"transformer.layer.11.attention.output.dense.weight\", \"transformer.layer.11.attention.output.dense.bias\", \"transformer.layer.11.attention.output.LayerNorm.weight\", \"transformer.layer.11.attention.output.LayerNorm.bias\", \"transformer.layer.11.intermediate.dense.weight\", \"transformer.layer.11.intermediate.dense.bias\", \"transformer.layer.11.output.dense.weight\", \"transformer.layer.11.output.dense.bias\", \"transformer.layer.11.output.LayerNorm.weight\", \"transformer.layer.11.output.LayerNorm.bias\". \n\tsize mismatch for transformer.layer.0.intermediate.dense.weight: copying a param with shape torch.Size([3072, 64]) from checkpoint, the shape in current model is torch.Size([2048, 64]).\n\tsize mismatch for transformer.layer.0.intermediate.dense.bias: copying a param with shape torch.Size([3072]) from checkpoint, the shape in current model is torch.Size([2048]).\n\tsize mismatch for transformer.layer.0.output.dense.weight: copying a param with shape torch.Size([64, 3072]) from checkpoint, the shape in current model is torch.Size([64, 2048]).\n\tsize mismatch for transformer.layer.1.intermediate.dense.weight: copying a param with shape torch.Size([3072, 64]) from checkpoint, the shape in current model is torch.Size([2048, 64]).\n\tsize mismatch for transformer.layer.1.intermediate.dense.bias: copying a param with shape torch.Size([3072]) from checkpoint, the shape in current model is torch.Size([2048]).\n\tsize mismatch for transformer.layer.1.output.dense.weight: copying a param with shape torch.Size([64, 3072]) from checkpoint, the shape in current model is torch.Size([64, 2048]).\n\tsize mismatch for transformer.layer.2.intermediate.dense.weight: copying a param with shape torch.Size([3072, 64]) from checkpoint, the shape in current model is torch.Size([2048, 64]).\n\tsize mismatch for transformer.layer.2.intermediate.dense.bias: copying a param with shape torch.Size([3072]) from checkpoint, the shape in current model is torch.Size([2048]).\n\tsize mismatch for transformer.layer.2.output.dense.weight: copying a param with shape torch.Size([64, 3072]) from checkpoint, the shape in current model is torch.Size([64, 2048]).\n\tsize mismatch for transformer.layer.3.intermediate.dense.weight: copying a param with shape torch.Size([3072, 64]) from checkpoint, the shape in current model is torch.Size([2048, 64]).\n\tsize mismatch for transformer.layer.3.intermediate.dense.bias: copying a param with shape torch.Size([3072]) from checkpoint, the shape in current model is torch.Size([2048]).\n\tsize mismatch for transformer.layer.3.output.dense.weight: copying a param with shape torch.Size([64, 3072]) from checkpoint, the shape in current model is torch.Size([64, 2048]).\n\tsize mismatch for transformer.layer.4.intermediate.dense.weight: copying a param with shape torch.Size([3072, 64]) from checkpoint, the shape in current model is torch.Size([2048, 64]).\n\tsize mismatch for transformer.layer.4.intermediate.dense.bias: copying a param with shape torch.Size([3072]) from checkpoint, the shape in current model is torch.Size([2048]).\n\tsize mismatch for transformer.layer.4.output.dense.weight: copying a param with shape torch.Size([64, 3072]) from checkpoint, the shape in current model is torch.Size([64, 2048]).\n\tsize mismatch for transformer.layer.5.intermediate.dense.weight: copying a param with shape torch.Size([3072, 64]) from checkpoint, the shape in current model is torch.Size([2048, 64]).\n\tsize mismatch for transformer.layer.5.intermediate.dense.bias: copying a param with shape torch.Size([3072]) from checkpoint, the shape in current model is torch.Size([2048]).\n\tsize mismatch for transformer.layer.5.output.dense.weight: copying a param with shape torch.Size([64, 3072]) from checkpoint, the shape in current model is torch.Size([64, 2048]).",
     "output_type": "error",
     "traceback": [
      "\u001b[0;31m---------------------------------------------------------------------------\u001b[0m",
      "\u001b[0;31mRuntimeError\u001b[0m                              Traceback (most recent call last)",
      "Cell \u001b[0;32mIn[6], line 2\u001b[0m\n\u001b[1;32m      1\u001b[0m \u001b[38;5;66;03m# ckpt = torch.load(file)\u001b[39;00m\n\u001b[0;32m----> 2\u001b[0m model \u001b[38;5;241m=\u001b[39m \u001b[43mTransformerVQVAE\u001b[49m\u001b[38;5;241;43m.\u001b[39;49m\u001b[43mload_from_checkpoint\u001b[49m\u001b[43m(\u001b[49m\u001b[43mfile\u001b[49m\u001b[43m,\u001b[49m\u001b[43m \u001b[49m\u001b[43mvqvae_h_dim\u001b[49m\u001b[38;5;241;43m=\u001b[39;49m\u001b[38;5;241;43m512\u001b[39;49m\u001b[43m,\u001b[49m\u001b[43m \u001b[49m\u001b[43mvqvae_res_h_dim\u001b[49m\u001b[38;5;241;43m=\u001b[39;49m\u001b[38;5;241;43m512\u001b[39;49m\u001b[43m)\u001b[49m\n",
      "File \u001b[0;32m~/miniconda3/envs/kdif/lib/python3.11/site-packages/lightning/pytorch/core/module.py:1552\u001b[0m, in \u001b[0;36mLightningModule.load_from_checkpoint\u001b[0;34m(cls, checkpoint_path, map_location, hparams_file, strict, **kwargs)\u001b[0m\n\u001b[1;32m   1471\u001b[0m \u001b[38;5;129m@_restricted_classmethod\u001b[39m\n\u001b[1;32m   1472\u001b[0m \u001b[38;5;28;01mdef\u001b[39;00m \u001b[38;5;21mload_from_checkpoint\u001b[39m(\n\u001b[1;32m   1473\u001b[0m     \u001b[38;5;28mcls\u001b[39m,\n\u001b[0;32m   (...)\u001b[0m\n\u001b[1;32m   1478\u001b[0m     \u001b[38;5;241m*\u001b[39m\u001b[38;5;241m*\u001b[39mkwargs: Any,\n\u001b[1;32m   1479\u001b[0m ) \u001b[38;5;241m-\u001b[39m\u001b[38;5;241m>\u001b[39m Self:\n\u001b[1;32m   1480\u001b[0m \u001b[38;5;250m    \u001b[39m\u001b[38;5;124mr\u001b[39m\u001b[38;5;124;03m\"\"\"Primary way of loading a model from a checkpoint. When Lightning saves a checkpoint it stores the arguments\u001b[39;00m\n\u001b[1;32m   1481\u001b[0m \u001b[38;5;124;03m    passed to ``__init__``  in the checkpoint under ``\"hyper_parameters\"``.\u001b[39;00m\n\u001b[1;32m   1482\u001b[0m \n\u001b[0;32m   (...)\u001b[0m\n\u001b[1;32m   1550\u001b[0m \n\u001b[1;32m   1551\u001b[0m \u001b[38;5;124;03m    \"\"\"\u001b[39;00m\n\u001b[0;32m-> 1552\u001b[0m     loaded \u001b[38;5;241m=\u001b[39m \u001b[43m_load_from_checkpoint\u001b[49m\u001b[43m(\u001b[49m\n\u001b[1;32m   1553\u001b[0m \u001b[43m        \u001b[49m\u001b[38;5;28;43mcls\u001b[39;49m\u001b[43m,\u001b[49m\u001b[43m  \u001b[49m\u001b[38;5;66;43;03m# type: ignore[arg-type]\u001b[39;49;00m\n\u001b[1;32m   1554\u001b[0m \u001b[43m        \u001b[49m\u001b[43mcheckpoint_path\u001b[49m\u001b[43m,\u001b[49m\n\u001b[1;32m   1555\u001b[0m \u001b[43m        \u001b[49m\u001b[43mmap_location\u001b[49m\u001b[43m,\u001b[49m\n\u001b[1;32m   1556\u001b[0m \u001b[43m        \u001b[49m\u001b[43mhparams_file\u001b[49m\u001b[43m,\u001b[49m\n\u001b[1;32m   1557\u001b[0m \u001b[43m        \u001b[49m\u001b[43mstrict\u001b[49m\u001b[43m,\u001b[49m\n\u001b[1;32m   1558\u001b[0m \u001b[43m        \u001b[49m\u001b[38;5;241;43m*\u001b[39;49m\u001b[38;5;241;43m*\u001b[39;49m\u001b[43mkwargs\u001b[49m\u001b[43m,\u001b[49m\n\u001b[1;32m   1559\u001b[0m \u001b[43m    \u001b[49m\u001b[43m)\u001b[49m\n\u001b[1;32m   1560\u001b[0m     \u001b[38;5;28;01mreturn\u001b[39;00m cast(Self, loaded)\n",
      "File \u001b[0;32m~/miniconda3/envs/kdif/lib/python3.11/site-packages/lightning/pytorch/core/saving.py:89\u001b[0m, in \u001b[0;36m_load_from_checkpoint\u001b[0;34m(cls, checkpoint_path, map_location, hparams_file, strict, **kwargs)\u001b[0m\n\u001b[1;32m     87\u001b[0m     \u001b[38;5;28;01mreturn\u001b[39;00m _load_state(\u001b[38;5;28mcls\u001b[39m, checkpoint, \u001b[38;5;241m*\u001b[39m\u001b[38;5;241m*\u001b[39mkwargs)\n\u001b[1;32m     88\u001b[0m \u001b[38;5;28;01mif\u001b[39;00m \u001b[38;5;28missubclass\u001b[39m(\u001b[38;5;28mcls\u001b[39m, pl\u001b[38;5;241m.\u001b[39mLightningModule):\n\u001b[0;32m---> 89\u001b[0m     model \u001b[38;5;241m=\u001b[39m \u001b[43m_load_state\u001b[49m\u001b[43m(\u001b[49m\u001b[38;5;28;43mcls\u001b[39;49m\u001b[43m,\u001b[49m\u001b[43m \u001b[49m\u001b[43mcheckpoint\u001b[49m\u001b[43m,\u001b[49m\u001b[43m \u001b[49m\u001b[43mstrict\u001b[49m\u001b[38;5;241;43m=\u001b[39;49m\u001b[43mstrict\u001b[49m\u001b[43m,\u001b[49m\u001b[43m \u001b[49m\u001b[38;5;241;43m*\u001b[39;49m\u001b[38;5;241;43m*\u001b[39;49m\u001b[43mkwargs\u001b[49m\u001b[43m)\u001b[49m\n\u001b[1;32m     90\u001b[0m     state_dict \u001b[38;5;241m=\u001b[39m checkpoint[\u001b[38;5;124m\"\u001b[39m\u001b[38;5;124mstate_dict\u001b[39m\u001b[38;5;124m\"\u001b[39m]\n\u001b[1;32m     91\u001b[0m     \u001b[38;5;28;01mif\u001b[39;00m \u001b[38;5;129;01mnot\u001b[39;00m state_dict:\n",
      "File \u001b[0;32m~/miniconda3/envs/kdif/lib/python3.11/site-packages/lightning/pytorch/core/saving.py:169\u001b[0m, in \u001b[0;36m_load_state\u001b[0;34m(cls, checkpoint, strict, **cls_kwargs_new)\u001b[0m\n\u001b[1;32m    167\u001b[0m \u001b[38;5;66;03m# load the state_dict on the model automatically\u001b[39;00m\n\u001b[1;32m    168\u001b[0m \u001b[38;5;28;01massert\u001b[39;00m strict \u001b[38;5;129;01mis\u001b[39;00m \u001b[38;5;129;01mnot\u001b[39;00m \u001b[38;5;28;01mNone\u001b[39;00m\n\u001b[0;32m--> 169\u001b[0m keys \u001b[38;5;241m=\u001b[39m \u001b[43mobj\u001b[49m\u001b[38;5;241;43m.\u001b[39;49m\u001b[43mload_state_dict\u001b[49m\u001b[43m(\u001b[49m\u001b[43mcheckpoint\u001b[49m\u001b[43m[\u001b[49m\u001b[38;5;124;43m\"\u001b[39;49m\u001b[38;5;124;43mstate_dict\u001b[39;49m\u001b[38;5;124;43m\"\u001b[39;49m\u001b[43m]\u001b[49m\u001b[43m,\u001b[49m\u001b[43m \u001b[49m\u001b[43mstrict\u001b[49m\u001b[38;5;241;43m=\u001b[39;49m\u001b[43mstrict\u001b[49m\u001b[43m)\u001b[49m\n\u001b[1;32m    171\u001b[0m \u001b[38;5;28;01mif\u001b[39;00m \u001b[38;5;129;01mnot\u001b[39;00m strict:\n\u001b[1;32m    172\u001b[0m     \u001b[38;5;28;01mif\u001b[39;00m keys\u001b[38;5;241m.\u001b[39mmissing_keys:\n",
      "File \u001b[0;32m~/miniconda3/envs/kdif/lib/python3.11/site-packages/torch/nn/modules/module.py:2152\u001b[0m, in \u001b[0;36mModule.load_state_dict\u001b[0;34m(self, state_dict, strict, assign)\u001b[0m\n\u001b[1;32m   2147\u001b[0m         error_msgs\u001b[38;5;241m.\u001b[39minsert(\n\u001b[1;32m   2148\u001b[0m             \u001b[38;5;241m0\u001b[39m, \u001b[38;5;124m'\u001b[39m\u001b[38;5;124mMissing key(s) in state_dict: \u001b[39m\u001b[38;5;132;01m{}\u001b[39;00m\u001b[38;5;124m. \u001b[39m\u001b[38;5;124m'\u001b[39m\u001b[38;5;241m.\u001b[39mformat(\n\u001b[1;32m   2149\u001b[0m                 \u001b[38;5;124m'\u001b[39m\u001b[38;5;124m, \u001b[39m\u001b[38;5;124m'\u001b[39m\u001b[38;5;241m.\u001b[39mjoin(\u001b[38;5;124mf\u001b[39m\u001b[38;5;124m'\u001b[39m\u001b[38;5;124m\"\u001b[39m\u001b[38;5;132;01m{\u001b[39;00mk\u001b[38;5;132;01m}\u001b[39;00m\u001b[38;5;124m\"\u001b[39m\u001b[38;5;124m'\u001b[39m \u001b[38;5;28;01mfor\u001b[39;00m k \u001b[38;5;129;01min\u001b[39;00m missing_keys)))\n\u001b[1;32m   2151\u001b[0m \u001b[38;5;28;01mif\u001b[39;00m \u001b[38;5;28mlen\u001b[39m(error_msgs) \u001b[38;5;241m>\u001b[39m \u001b[38;5;241m0\u001b[39m:\n\u001b[0;32m-> 2152\u001b[0m     \u001b[38;5;28;01mraise\u001b[39;00m \u001b[38;5;167;01mRuntimeError\u001b[39;00m(\u001b[38;5;124m'\u001b[39m\u001b[38;5;124mError(s) in loading state_dict for \u001b[39m\u001b[38;5;132;01m{}\u001b[39;00m\u001b[38;5;124m:\u001b[39m\u001b[38;5;130;01m\\n\u001b[39;00m\u001b[38;5;130;01m\\t\u001b[39;00m\u001b[38;5;132;01m{}\u001b[39;00m\u001b[38;5;124m'\u001b[39m\u001b[38;5;241m.\u001b[39mformat(\n\u001b[1;32m   2153\u001b[0m                        \u001b[38;5;28mself\u001b[39m\u001b[38;5;241m.\u001b[39m\u001b[38;5;18m__class__\u001b[39m\u001b[38;5;241m.\u001b[39m\u001b[38;5;18m__name__\u001b[39m, \u001b[38;5;124m\"\u001b[39m\u001b[38;5;130;01m\\n\u001b[39;00m\u001b[38;5;130;01m\\t\u001b[39;00m\u001b[38;5;124m\"\u001b[39m\u001b[38;5;241m.\u001b[39mjoin(error_msgs)))\n\u001b[1;32m   2154\u001b[0m \u001b[38;5;28;01mreturn\u001b[39;00m _IncompatibleKeys(missing_keys, unexpected_keys)\n",
      "\u001b[0;31mRuntimeError\u001b[0m: Error(s) in loading state_dict for TransformerVQVAE:\n\tMissing key(s) in state_dict: \"vqvae_encoder.conv_stack.5.stack.3.res_block.1.weight\", \"vqvae_encoder.conv_stack.5.stack.3.res_block.3.weight\", \"vqvae_encoder.conv_stack.5.stack.4.res_block.1.weight\", \"vqvae_encoder.conv_stack.5.stack.4.res_block.3.weight\", \"vqvae_encoder.conv_stack.5.stack.5.res_block.1.weight\", \"vqvae_encoder.conv_stack.5.stack.5.res_block.3.weight\", \"vqvae_encoder.conv_stack.5.stack.6.res_block.1.weight\", \"vqvae_encoder.conv_stack.5.stack.6.res_block.3.weight\", \"vqvae_encoder.conv_stack.5.stack.7.res_block.1.weight\", \"vqvae_encoder.conv_stack.5.stack.7.res_block.3.weight\", \"vqvae_encoder.conv_stack.5.stack.8.res_block.1.weight\", \"vqvae_encoder.conv_stack.5.stack.8.res_block.3.weight\", \"vqvae_encoder.conv_stack.5.stack.9.res_block.1.weight\", \"vqvae_encoder.conv_stack.5.stack.9.res_block.3.weight\", \"vqvae_encoder.conv_stack.5.stack.10.res_block.1.weight\", \"vqvae_encoder.conv_stack.5.stack.10.res_block.3.weight\", \"vqvae_encoder.conv_stack.5.stack.11.res_block.1.weight\", \"vqvae_encoder.conv_stack.5.stack.11.res_block.3.weight\", \"vqvae_decoder.inverse_conv_stack.1.stack.3.res_block.1.weight\", \"vqvae_decoder.inverse_conv_stack.1.stack.3.res_block.3.weight\", \"vqvae_decoder.inverse_conv_stack.1.stack.4.res_block.1.weight\", \"vqvae_decoder.inverse_conv_stack.1.stack.4.res_block.3.weight\", \"vqvae_decoder.inverse_conv_stack.1.stack.5.res_block.1.weight\", \"vqvae_decoder.inverse_conv_stack.1.stack.5.res_block.3.weight\", \"vqvae_decoder.inverse_conv_stack.1.stack.6.res_block.1.weight\", \"vqvae_decoder.inverse_conv_stack.1.stack.6.res_block.3.weight\", \"vqvae_decoder.inverse_conv_stack.1.stack.7.res_block.1.weight\", \"vqvae_decoder.inverse_conv_stack.1.stack.7.res_block.3.weight\", \"vqvae_decoder.inverse_conv_stack.1.stack.8.res_block.1.weight\", \"vqvae_decoder.inverse_conv_stack.1.stack.8.res_block.3.weight\", \"vqvae_decoder.inverse_conv_stack.1.stack.9.res_block.1.weight\", \"vqvae_decoder.inverse_conv_stack.1.stack.9.res_block.3.weight\", \"vqvae_decoder.inverse_conv_stack.1.stack.10.res_block.1.weight\", \"vqvae_decoder.inverse_conv_stack.1.stack.10.res_block.3.weight\", \"vqvae_decoder.inverse_conv_stack.1.stack.11.res_block.1.weight\", \"vqvae_decoder.inverse_conv_stack.1.stack.11.res_block.3.weight\". \n\tUnexpected key(s) in state_dict: \"transformer.layer.6.attention.self.query.weight\", \"transformer.layer.6.attention.self.query.bias\", \"transformer.layer.6.attention.self.key.weight\", \"transformer.layer.6.attention.self.key.bias\", \"transformer.layer.6.attention.self.value.weight\", \"transformer.layer.6.attention.self.value.bias\", \"transformer.layer.6.attention.output.dense.weight\", \"transformer.layer.6.attention.output.dense.bias\", \"transformer.layer.6.attention.output.LayerNorm.weight\", \"transformer.layer.6.attention.output.LayerNorm.bias\", \"transformer.layer.6.intermediate.dense.weight\", \"transformer.layer.6.intermediate.dense.bias\", \"transformer.layer.6.output.dense.weight\", \"transformer.layer.6.output.dense.bias\", \"transformer.layer.6.output.LayerNorm.weight\", \"transformer.layer.6.output.LayerNorm.bias\", \"transformer.layer.7.attention.self.query.weight\", \"transformer.layer.7.attention.self.query.bias\", \"transformer.layer.7.attention.self.key.weight\", \"transformer.layer.7.attention.self.key.bias\", \"transformer.layer.7.attention.self.value.weight\", \"transformer.layer.7.attention.self.value.bias\", \"transformer.layer.7.attention.output.dense.weight\", \"transformer.layer.7.attention.output.dense.bias\", \"transformer.layer.7.attention.output.LayerNorm.weight\", \"transformer.layer.7.attention.output.LayerNorm.bias\", \"transformer.layer.7.intermediate.dense.weight\", \"transformer.layer.7.intermediate.dense.bias\", \"transformer.layer.7.output.dense.weight\", \"transformer.layer.7.output.dense.bias\", \"transformer.layer.7.output.LayerNorm.weight\", \"transformer.layer.7.output.LayerNorm.bias\", \"transformer.layer.8.attention.self.query.weight\", \"transformer.layer.8.attention.self.query.bias\", \"transformer.layer.8.attention.self.key.weight\", \"transformer.layer.8.attention.self.key.bias\", \"transformer.layer.8.attention.self.value.weight\", \"transformer.layer.8.attention.self.value.bias\", \"transformer.layer.8.attention.output.dense.weight\", \"transformer.layer.8.attention.output.dense.bias\", \"transformer.layer.8.attention.output.LayerNorm.weight\", \"transformer.layer.8.attention.output.LayerNorm.bias\", \"transformer.layer.8.intermediate.dense.weight\", \"transformer.layer.8.intermediate.dense.bias\", \"transformer.layer.8.output.dense.weight\", \"transformer.layer.8.output.dense.bias\", \"transformer.layer.8.output.LayerNorm.weight\", \"transformer.layer.8.output.LayerNorm.bias\", \"transformer.layer.9.attention.self.query.weight\", \"transformer.layer.9.attention.self.query.bias\", \"transformer.layer.9.attention.self.key.weight\", \"transformer.layer.9.attention.self.key.bias\", \"transformer.layer.9.attention.self.value.weight\", \"transformer.layer.9.attention.self.value.bias\", \"transformer.layer.9.attention.output.dense.weight\", \"transformer.layer.9.attention.output.dense.bias\", \"transformer.layer.9.attention.output.LayerNorm.weight\", \"transformer.layer.9.attention.output.LayerNorm.bias\", \"transformer.layer.9.intermediate.dense.weight\", \"transformer.layer.9.intermediate.dense.bias\", \"transformer.layer.9.output.dense.weight\", \"transformer.layer.9.output.dense.bias\", \"transformer.layer.9.output.LayerNorm.weight\", \"transformer.layer.9.output.LayerNorm.bias\", \"transformer.layer.10.attention.self.query.weight\", \"transformer.layer.10.attention.self.query.bias\", \"transformer.layer.10.attention.self.key.weight\", \"transformer.layer.10.attention.self.key.bias\", \"transformer.layer.10.attention.self.value.weight\", \"transformer.layer.10.attention.self.value.bias\", \"transformer.layer.10.attention.output.dense.weight\", \"transformer.layer.10.attention.output.dense.bias\", \"transformer.layer.10.attention.output.LayerNorm.weight\", \"transformer.layer.10.attention.output.LayerNorm.bias\", \"transformer.layer.10.intermediate.dense.weight\", \"transformer.layer.10.intermediate.dense.bias\", \"transformer.layer.10.output.dense.weight\", \"transformer.layer.10.output.dense.bias\", \"transformer.layer.10.output.LayerNorm.weight\", \"transformer.layer.10.output.LayerNorm.bias\", \"transformer.layer.11.attention.self.query.weight\", \"transformer.layer.11.attention.self.query.bias\", \"transformer.layer.11.attention.self.key.weight\", \"transformer.layer.11.attention.self.key.bias\", \"transformer.layer.11.attention.self.value.weight\", \"transformer.layer.11.attention.self.value.bias\", \"transformer.layer.11.attention.output.dense.weight\", \"transformer.layer.11.attention.output.dense.bias\", \"transformer.layer.11.attention.output.LayerNorm.weight\", \"transformer.layer.11.attention.output.LayerNorm.bias\", \"transformer.layer.11.intermediate.dense.weight\", \"transformer.layer.11.intermediate.dense.bias\", \"transformer.layer.11.output.dense.weight\", \"transformer.layer.11.output.dense.bias\", \"transformer.layer.11.output.LayerNorm.weight\", \"transformer.layer.11.output.LayerNorm.bias\". \n\tsize mismatch for transformer.layer.0.intermediate.dense.weight: copying a param with shape torch.Size([3072, 64]) from checkpoint, the shape in current model is torch.Size([2048, 64]).\n\tsize mismatch for transformer.layer.0.intermediate.dense.bias: copying a param with shape torch.Size([3072]) from checkpoint, the shape in current model is torch.Size([2048]).\n\tsize mismatch for transformer.layer.0.output.dense.weight: copying a param with shape torch.Size([64, 3072]) from checkpoint, the shape in current model is torch.Size([64, 2048]).\n\tsize mismatch for transformer.layer.1.intermediate.dense.weight: copying a param with shape torch.Size([3072, 64]) from checkpoint, the shape in current model is torch.Size([2048, 64]).\n\tsize mismatch for transformer.layer.1.intermediate.dense.bias: copying a param with shape torch.Size([3072]) from checkpoint, the shape in current model is torch.Size([2048]).\n\tsize mismatch for transformer.layer.1.output.dense.weight: copying a param with shape torch.Size([64, 3072]) from checkpoint, the shape in current model is torch.Size([64, 2048]).\n\tsize mismatch for transformer.layer.2.intermediate.dense.weight: copying a param with shape torch.Size([3072, 64]) from checkpoint, the shape in current model is torch.Size([2048, 64]).\n\tsize mismatch for transformer.layer.2.intermediate.dense.bias: copying a param with shape torch.Size([3072]) from checkpoint, the shape in current model is torch.Size([2048]).\n\tsize mismatch for transformer.layer.2.output.dense.weight: copying a param with shape torch.Size([64, 3072]) from checkpoint, the shape in current model is torch.Size([64, 2048]).\n\tsize mismatch for transformer.layer.3.intermediate.dense.weight: copying a param with shape torch.Size([3072, 64]) from checkpoint, the shape in current model is torch.Size([2048, 64]).\n\tsize mismatch for transformer.layer.3.intermediate.dense.bias: copying a param with shape torch.Size([3072]) from checkpoint, the shape in current model is torch.Size([2048]).\n\tsize mismatch for transformer.layer.3.output.dense.weight: copying a param with shape torch.Size([64, 3072]) from checkpoint, the shape in current model is torch.Size([64, 2048]).\n\tsize mismatch for transformer.layer.4.intermediate.dense.weight: copying a param with shape torch.Size([3072, 64]) from checkpoint, the shape in current model is torch.Size([2048, 64]).\n\tsize mismatch for transformer.layer.4.intermediate.dense.bias: copying a param with shape torch.Size([3072]) from checkpoint, the shape in current model is torch.Size([2048]).\n\tsize mismatch for transformer.layer.4.output.dense.weight: copying a param with shape torch.Size([64, 3072]) from checkpoint, the shape in current model is torch.Size([64, 2048]).\n\tsize mismatch for transformer.layer.5.intermediate.dense.weight: copying a param with shape torch.Size([3072, 64]) from checkpoint, the shape in current model is torch.Size([2048, 64]).\n\tsize mismatch for transformer.layer.5.intermediate.dense.bias: copying a param with shape torch.Size([3072]) from checkpoint, the shape in current model is torch.Size([2048]).\n\tsize mismatch for transformer.layer.5.output.dense.weight: copying a param with shape torch.Size([64, 3072]) from checkpoint, the shape in current model is torch.Size([64, 2048])."
     ]
    }
   ],
   "source": [
    "# ckpt = torch.load(file)\n",
    "model = TransformerVQVAE.load_from_checkpoint(file, vqvae_h_dim=512, vqvae_res_h_dim=512)"
   ]
  },
  {
   "cell_type": "code",
   "execution_count": null,
   "metadata": {},
   "outputs": [],
   "source": [
    "from plaid.esmfold import esmfold_v1\n",
    "esmfold = esmfold_v1()"
   ]
  },
  {
   "cell_type": "code",
   "execution_count": 10,
   "metadata": {},
   "outputs": [],
   "source": [
    "device = torch.device(\"cuda:0\")\n",
    "latent_to_structure = LatentToStructure(device, esmfold)\n",
    "latent_to_sequence = LatentToSequence(device)"
   ]
  },
  {
   "cell_type": "code",
   "execution_count": 12,
   "metadata": {},
   "outputs": [],
   "source": [
    "from plaid.datasets import CATHShardedDataModule\n",
    "\n",
    "dm = CATHShardedDataModule(\n",
    "    shard_dir =\"/shared/amyxlu/data/cath/shards\",\n",
    "    header_to_sequence_file=\"/shared/amyxlu/data/cath/sequences.pkl\",\n",
    "    seq_len=64,\n",
    "    dtype=\"fp32\",\n",
    ")\n",
    "dm.setup()\n",
    "loader = dm.val_dataloader()\n",
    "batch = next(iter(loader))"
   ]
  },
  {
   "cell_type": "code",
   "execution_count": 15,
   "metadata": {},
   "outputs": [],
   "source": [
    "model = model.to(device)\n",
    "model = model.eval().requires_grad_(False)\n",
    "\n",
    "x = batch[0].to(device)\n",
    "output = model(x)"
   ]
  },
  {
   "cell_type": "code",
   "execution_count": 21,
   "metadata": {},
   "outputs": [
    {
     "data": {
      "text/plain": [
       "tensor(5212.0371, device='cuda:0')"
      ]
     },
     "execution_count": 21,
     "metadata": {},
     "output_type": "execute_result"
    }
   ],
   "source": [
    "x_hat = output[1]\n",
    "torch.mean((x_hat - x) ** 2)"
   ]
  },
  {
   "cell_type": "code",
   "execution_count": 27,
   "metadata": {},
   "outputs": [
    {
     "name": "stderr",
     "output_type": "stream",
     "text": [
      "(Generating structure from latents..): 100%|██████████| 1/1 [11:18<00:00, 678.82s/it]\n"
     ]
    }
   ],
   "source": [
    "sequences = [s[:64] for s in batch[-1]]\n",
    "pred_pdb = latent_to_structure.to_structure(x_hat, sequences)"
   ]
  },
  {
   "cell_type": "code",
   "execution_count": null,
   "metadata": {},
   "outputs": [],
   "source": []
  }
 ],
 "metadata": {
  "kernelspec": {
   "display_name": "Python 3 (ipykernel)",
   "language": "python",
   "name": "python3"
  },
  "language_info": {
   "codemirror_mode": {
    "name": "ipython",
    "version": 3
   },
   "file_extension": ".py",
   "mimetype": "text/x-python",
   "name": "python",
   "nbconvert_exporter": "python",
   "pygments_lexer": "ipython3",
   "version": "3.10.0"
  }
 },
 "nbformat": 4,
 "nbformat_minor": 4
}
