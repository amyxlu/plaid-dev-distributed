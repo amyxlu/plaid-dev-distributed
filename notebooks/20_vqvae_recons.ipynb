{
 "cells": [
  {
   "cell_type": "code",
   "execution_count": 1,
   "metadata": {},
   "outputs": [],
   "source": [
    "%load_ext autoreload\n",
    "%autoreload 2"
   ]
  },
  {
   "cell_type": "code",
   "execution_count": 8,
   "metadata": {},
   "outputs": [],
   "source": [
    "import torch\n",
    "import torch.nn as nn\n",
    "\n",
    "from plaid.vqvae import TransformerVQVAE\n",
    "from plaid.utils import LatentToSequence, LatentToStructure"
   ]
  },
  {
   "cell_type": "code",
   "execution_count": 4,
   "metadata": {},
   "outputs": [],
   "source": [
    "file = \"/shared/amyxlu/plaid/checkpoints/2024-01-11T15-45-26/last.ckpt\"\n",
    "# ckpt = torch.load(file)\n",
    "model = TransformerVQVAE.load_from_checkpoint(file)"
   ]
  },
  {
   "cell_type": "code",
   "execution_count": 9,
   "metadata": {},
   "outputs": [],
   "source": [
    "from plaid.esmfold import esmfold_v1\n",
    "esmfold = esmfold_v1()"
   ]
  },
  {
   "cell_type": "code",
   "execution_count": 10,
   "metadata": {},
   "outputs": [],
   "source": [
    "device = torch.device(\"cuda:0\")\n",
    "latent_to_structure = LatentToStructure(device, esmfold)\n",
    "latent_to_sequence = LatentToSequence(device)"
   ]
  },
  {
   "cell_type": "code",
   "execution_count": 12,
   "metadata": {},
   "outputs": [],
   "source": [
    "from plaid.datasets import CATHShardedDataModule\n",
    "\n",
    "dm = CATHShardedDataModule(\n",
    "    shard_dir =\"/shared/amyxlu/data/cath/shards\",\n",
    "    header_to_sequence_file=\"/shared/amyxlu/data/cath/sequences.pkl\",\n",
    "    seq_len=64,\n",
    "    dtype=\"fp32\",\n",
    ")\n",
    "dm.setup()\n",
    "loader = dm.val_dataloader()\n",
    "batch = next(iter(loader))"
   ]
  },
  {
   "cell_type": "code",
   "execution_count": 15,
   "metadata": {},
   "outputs": [],
   "source": [
    "model = model.to(device)\n",
    "model = model.eval().requires_grad_(False)\n",
    "\n",
    "x = batch[0].to(device)\n",
    "output = model(x)"
   ]
  },
  {
   "cell_type": "code",
   "execution_count": 21,
   "metadata": {},
   "outputs": [
    {
     "data": {
      "text/plain": [
       "tensor(5212.0371, device='cuda:0')"
      ]
     },
     "execution_count": 21,
     "metadata": {},
     "output_type": "execute_result"
    }
   ],
   "source": [
    "x_hat = output[1]\n",
    "torch.mean((x_hat - x) ** 2)"
   ]
  },
  {
   "cell_type": "code",
   "execution_count": 27,
   "metadata": {},
   "outputs": [
    {
     "name": "stderr",
     "output_type": "stream",
     "text": [
      "(Generating structure from latents..): 100%|██████████| 1/1 [11:18<00:00, 678.82s/it]\n"
     ]
    }
   ],
   "source": [
    "sequences = [s[:64] for s in batch[-1]]\n",
    "pred_pdb = latent_to_structure.to_structure(x_hat, sequences)"
   ]
  },
  {
   "cell_type": "code",
   "execution_count": null,
   "metadata": {},
   "outputs": [],
   "source": []
  }
 ],
 "metadata": {
  "kernelspec": {
   "display_name": "kdif",
   "language": "python",
   "name": "python3"
  },
  "language_info": {
   "codemirror_mode": {
    "name": "ipython",
    "version": 3
   },
   "file_extension": ".py",
   "mimetype": "text/x-python",
   "name": "python",
   "nbconvert_exporter": "python",
   "pygments_lexer": "ipython3",
   "version": "3.11.6"
  }
 },
 "nbformat": 4,
 "nbformat_minor": 2
}
