{
 "cells": [
  {
   "cell_type": "code",
   "execution_count": null,
   "id": "f3d05e76-ec1a-438f-87f9-39ee1a1fae4c",
   "metadata": {},
   "outputs": [],
   "source": [
    "%load_ext autoreload\n",
    "%autoreload 2"
   ]
  },
  {
   "cell_type": "code",
   "execution_count": 1,
   "id": "fe34bd2f-c58d-41a6-9bf5-482681aa43d1",
   "metadata": {},
   "outputs": [],
   "source": [
    "from plaid.compression.hourglass_vq import HourglassVQLightningModule\n",
    "from pathlib import Path\n",
    "import torch"
   ]
  },
  {
   "cell_type": "markdown",
   "id": "76af32fd-05a2-460b-8e7b-fe217938f3ac",
   "metadata": {},
   "source": [
    "# Setup model, data, and forward pass"
   ]
  },
  {
   "cell_type": "code",
   "execution_count": 2,
   "id": "9762e075-bf6a-4777-b533-8ce1032c6d4e",
   "metadata": {},
   "outputs": [
    {
     "name": "stdout",
     "output_type": "stream",
     "text": [
      "109,170,688\n"
     ]
    }
   ],
   "source": [
    "#@title Load VQVAE model\n",
    "\n",
    "dirpath = Path(\"/homefs/home/lux70/storage/plaid/checkpoints/hourglass_vq/2024-03-05T06-20-52\")\n",
    "ckpt_path = dirpath / \"last.ckpt\"\n",
    "vqvae = HourglassVQLightningModule.load_from_checkpoint(ckpt_path)\n",
    "from plaid.utils import n_params\n",
    "print(f\"{n_params(vqvae):,}\")"
   ]
  },
  {
   "cell_type": "code",
   "execution_count": 3,
   "id": "5a544460-6323-44d4-b497-0518ff80081f",
   "metadata": {},
   "outputs": [],
   "source": [
    "# load a toy dataloader\n",
    "from plaid.datasets import CATHShardedDataModule\n",
    "shard_dir = \"/homefs/home/lux70/storage/data/cath/shards\"\n",
    "dm = CATHShardedDataModule(shard_dir=shard_dir)\n",
    "dm.setup()\n",
    "train_loader = dm.train_dataloader()\n",
    "\n",
    "batch = next(iter(train_loader))"
   ]
  },
  {
   "cell_type": "code",
   "execution_count": 5,
   "id": "a4df33a2-7f12-4270-bb15-747a6c6c9931",
   "metadata": {},
   "outputs": [
    {
     "name": "stdout",
     "output_type": "stream",
     "text": [
      "tensor(0.0068, device='cuda:0', grad_fn=<MeanBackward0>)\n"
     ]
    }
   ],
   "source": [
    "# Try forward pass\n",
    "\n",
    "from plaid.utils import LatentScaler\n",
    "latent_scaler = LatentScaler()\n",
    "x, sequences, _ = batch\n",
    "\n",
    "device = torch.device(\"cuda\")\n",
    "x_norm = latent_scaler.scale(x)\n",
    "\n",
    "from plaid.esmfold.misc import batch_encode_sequences\n",
    "_, mask, _, _, _ = batch_encode_sequences(sequences)\n",
    "\n",
    "x_norm = x_norm.to(device)\n",
    "vqvae = vqvae.to(device)\n",
    "mask = mask.to(device).bool()\n",
    "\n",
    "# model forward pass!!\n",
    "recons_norm, loss, log_dict, quant_out = vqvae(x_norm, mask.bool(), log_wandb=False)\n",
    "print(torch.mean((recons_norm - x_norm) ** 2))\n"
   ]
  },
  {
   "cell_type": "code",
   "execution_count": 15,
   "id": "ca8acb16-4cbe-4c21-a355-ebf93a52aa2f",
   "metadata": {},
   "outputs": [
    {
     "name": "stdout",
     "output_type": "stream",
     "text": [
      "torch.Size([32, 64])\n"
     ]
    }
   ],
   "source": [
    "print(mask.shape)"
   ]
  },
  {
   "cell_type": "code",
   "execution_count": 8,
   "id": "5ba99bb9-a8e6-4880-8dbe-fb6689d999b3",
   "metadata": {},
   "outputs": [
    {
     "name": "stdout",
     "output_type": "stream",
     "text": [
      "dict_keys(['loss', 'z_q', 'perplexity', 'min_encodings', 'min_encoding_indices'])\n",
      "torch.Size([32768, 1])\n",
      "torch.Size([32768, 128])\n",
      "torch.Size([32, 64, 1024])\n",
      "torch.Size([512, 64])\n",
      "tensor([[111,  43,  11,  ...,  94,  53,  72],\n",
      "        [  6,  40,  96,  ...,  14, 121, 101],\n",
      "        [116,  78,  94,  ...,  89,  67,  55],\n",
      "        ...,\n",
      "        [ 59, 111,  15,  ...,  91,  48,  98],\n",
      "        [ 30, 123,  14,  ...,  61,  14,  52],\n",
      "        [102,   3,  94,  ...,  42,  65,  40]], device='cuda:0')\n"
     ]
    }
   ],
   "source": [
    "print(quant_out.keys())\n",
    "print(quant_out['min_encoding_indices'].shape)\n",
    "print(quant_out['min_encodings'].shape)\n",
    "\n",
    "codebook = quant_out['min_encoding_indices']\n",
    "print(x.shape)\n",
    "codebook = codebook.reshape(-1, x.shape[1])\n",
    "print(codebook.shape)\n",
    "print(codebook)"
   ]
  },
  {
   "cell_type": "code",
   "execution_count": 18,
   "id": "bf10bf50-67ec-4815-a646-b614a62c0e68",
   "metadata": {},
   "outputs": [
    {
     "name": "stdout",
     "output_type": "stream",
     "text": [
      "torch.Size([32, 64, 16])\n"
     ]
    }
   ],
   "source": [
    "# B, L, _ = x.shape\n",
    "reshaped_codebook = codebook.reshape(32, 64, -1)\n",
    "print(reshaped_codebook.shape)"
   ]
  },
  {
   "cell_type": "code",
   "execution_count": 25,
   "id": "f72d3bb3-e43f-449a-91ee-e01ce3c434ee",
   "metadata": {},
   "outputs": [
    {
     "data": {
      "image/png": "[encoded data removed]",
      "text/plain": [
       "<Figure size 640x480 with 1 Axes>"
      ]
     },
     "metadata": {},
     "output_type": "display_data"
    }
   ],
   "source": [
    "import matplotlib.pyplot as plt\n",
    "_ = plt.hist(codebook.detach().cpu().numpy(), bins=100)"
   ]
  },
  {
   "cell_type": "markdown",
   "id": "2bd9055c-e927-4fd7-80b0-8905613fa6d1",
   "metadata": {},
   "source": [
    "# Reshape sanity check w/ dummy data"
   ]
  },
  {
   "cell_type": "code",
   "execution_count": 23,
   "id": "08dcd4c5-1683-48f1-8699-4c1aedc1c8d6",
   "metadata": {},
   "outputs": [
    {
     "name": "stdout",
     "output_type": "stream",
     "text": [
      "torch.Size([2, 5, 10])\n",
      "torch.Size([20, 5])\n",
      "tensor([[  1.5000,   2.5000,   3.5000,   4.5000,   5.5000],\n",
      "        [  6.5000,   7.5000,   8.5000,   9.5000,  10.5000],\n",
      "        [ 11.5000,  12.5000,  13.5000,  14.5000,  15.5000],\n",
      "        [ 16.5000,  17.5000,  18.5000,  19.5000, 110.5000],\n",
      "        [ 21.5000,  22.5000,  23.5000,  24.5000,  25.5000],\n",
      "        [ 26.5000,  27.5000,  28.5000,  29.5000, 210.5000],\n",
      "        [ 31.5000,  32.5000,  33.5000,  34.5000,  35.5000],\n",
      "        [ 36.5000,  37.5000,  38.5000,  39.5000, 310.5000],\n",
      "        [ 41.5000,  42.5000,  43.5000,  44.5000,  45.5000],\n",
      "        [ 46.5000,  47.5000,  48.5000,  49.5000, 410.5000],\n",
      "        [  1.0000,   2.0000,   3.0000,   4.0000,   5.0000],\n",
      "        [  6.0000,   7.0000,   8.0000,   9.0000,  10.0000],\n",
      "        [ 11.0000,  12.0000,  13.0000,  14.0000,  15.0000],\n",
      "        [ 16.0000,  17.0000,  18.0000,  19.0000, 110.0000],\n",
      "        [ 21.0000,  22.0000,  23.0000,  24.0000,  25.0000],\n",
      "        [ 26.0000,  27.0000,  28.0000,  29.0000, 210.0000],\n",
      "        [ 31.0000,  32.0000,  33.0000,  34.0000,  35.0000],\n",
      "        [ 36.0000,  37.0000,  38.0000,  39.0000, 310.0000],\n",
      "        [ 41.0000,  42.0000,  43.0000,  44.0000,  45.0000],\n",
      "        [ 46.0000,  47.0000,  48.0000,  49.0000, 410.0000]])\n",
      "torch.Size([2, 5, 10])\n",
      "tensor([[[  1.5000,   2.5000,   3.5000,   4.5000,   5.5000,   6.5000,   7.5000,\n",
      "            8.5000,   9.5000,  10.5000],\n",
      "         [ 11.5000,  12.5000,  13.5000,  14.5000,  15.5000,  16.5000,  17.5000,\n",
      "           18.5000,  19.5000, 110.5000],\n",
      "         [ 21.5000,  22.5000,  23.5000,  24.5000,  25.5000,  26.5000,  27.5000,\n",
      "           28.5000,  29.5000, 210.5000],\n",
      "         [ 31.5000,  32.5000,  33.5000,  34.5000,  35.5000,  36.5000,  37.5000,\n",
      "           38.5000,  39.5000, 310.5000],\n",
      "         [ 41.5000,  42.5000,  43.5000,  44.5000,  45.5000,  46.5000,  47.5000,\n",
      "           48.5000,  49.5000, 410.5000]],\n",
      "\n",
      "        [[  1.0000,   2.0000,   3.0000,   4.0000,   5.0000,   6.0000,   7.0000,\n",
      "            8.0000,   9.0000,  10.0000],\n",
      "         [ 11.0000,  12.0000,  13.0000,  14.0000,  15.0000,  16.0000,  17.0000,\n",
      "           18.0000,  19.0000, 110.0000],\n",
      "         [ 21.0000,  22.0000,  23.0000,  24.0000,  25.0000,  26.0000,  27.0000,\n",
      "           28.0000,  29.0000, 210.0000],\n",
      "         [ 31.0000,  32.0000,  33.0000,  34.0000,  35.0000,  36.0000,  37.0000,\n",
      "           38.0000,  39.0000, 310.0000],\n",
      "         [ 41.0000,  42.0000,  43.0000,  44.0000,  45.0000,  46.0000,  47.0000,\n",
      "           48.0000,  49.0000, 410.0000]]])\n"
     ]
    }
   ],
   "source": [
    "x = torch.tensor(\n",
    "    [[[1.5,2.5,3.5,4.5,5.5,6.5,7.5,8.5,9.5,10.5],\n",
    "     [11.5,12.5,13.5,14.5,15.5,16.5,17.5,18.5,19.5,110.5],\n",
    "     [21.5,22.5,23.5,24.5,25.5,26.5,27.5,28.5,29.5,210.5],\n",
    "     [31.5,32.5,33.5,34.5,35.5,36.5,37.5,38.5,39.5,310.5],\n",
    "     [41.5,42.5,43.5,44.5,45.5,46.5,47.5,48.5,49.5,410.5]],\n",
    "     [[1,2,3,4,5,6,7,8,9,10],\n",
    "     [11,12,13,14,15,16,17,18,19,110],\n",
    "     [21,22,23,24,25,26,27,28,29,210],\n",
    "     [31,32,33,34,35,36,37,38,39,310],\n",
    "     [41,42,43,44,45,46,47,48,49,410]]]\n",
    ")\n",
    "x = x.float()\n",
    "print(x.shape)  # [2, 5, 10]\n",
    "y = x.view(-1, 5)\n",
    "print(y.shape)\n",
    "print(y)\n",
    "\n",
    "z = y.reshape(2, 5, -1)\n",
    "print(z.shape)\n",
    "print(z)  # should be same order"
   ]
  },
  {
   "cell_type": "code",
   "execution_count": null,
   "id": "a429a29a-9dda-46f3-a8b1-6673484aa16f",
   "metadata": {},
   "outputs": [],
   "source": []
  }
 ],
 "metadata": {
  "kernelspec": {
   "display_name": "Python 3 (ipykernel)",
   "language": "python",
   "name": "python3"
  },
  "language_info": {
   "codemirror_mode": {
    "name": "ipython",
    "version": 3
   },
   "file_extension": ".py",
   "mimetype": "text/x-python",
   "name": "python",
   "nbconvert_exporter": "python",
   "pygments_lexer": "ipython3",
   "version": "3.12.2"
  }
 },
 "nbformat": 4,
 "nbformat_minor": 5
}
