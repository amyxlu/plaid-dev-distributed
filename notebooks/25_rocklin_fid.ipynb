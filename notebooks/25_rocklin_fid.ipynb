{
 "cells": [
  {
   "cell_type": "code",
   "execution_count": 1,
   "id": "ba8d698e-b501-4086-a334-e3be7a56ff5d",
   "metadata": {},
   "outputs": [],
   "source": [
    "%load_ext autoreload\n",
    "%autoreload 2"
   ]
  },
  {
   "cell_type": "code",
   "execution_count": 12,
   "id": "13381ca6-653b-4afc-acf6-135e1d1a3168",
   "metadata": {},
   "outputs": [],
   "source": [
    "import torch\n",
    "from plaid.datasets import CATHShardedDataModule\n",
    "\n",
    "shard_dir = \"/homefs/home/lux70/storage/data/rocklin/shards/\"\n",
    "dm = CATHShardedDataModule(storage_type=\"hdf5\", shard_dir=shard_dir, seq_len=256, batch_size=)\n",
    "dm.setup()\n",
    "train_dataloader = dm.train_dataloader()\n",
    "val_dataloader = dm.val_dataloader()"
   ]
  },
  {
   "cell_type": "code",
   "execution_count": 13,
   "id": "e8e934b5-f038-465b-948e-d0cf23ee618b",
   "metadata": {},
   "outputs": [
    {
     "name": "stdout",
     "output_type": "stream",
     "text": [
      "7904\n",
      "1976\n",
      "torch.Size([1976, 43, 1024])\n",
      "torch.Size([1976, 43, 1024])\n"
     ]
    }
   ],
   "source": [
    "print(len(train_dataloader.dataset))\n",
    "print(len(val_dataloader.dataset))\n",
    "\n",
    "train_batch = next(iter(train_dataloader))\n",
    "val_batch = next(iter(val_dataloader))\n",
    "\n",
    "print(train_batch[0].shape)\n",
    "print(val_batch[0].shape)\n"
   ]
  },
  {
   "cell_type": "code",
   "execution_count": null,
   "id": "1a869c75-4e69-49f4-8e20-62db6113a1f5",
   "metadata": {},
   "outputs": [],
   "source": [
    "from plaid.evaluation import calc_fid_fn, parmar_fid"
   ]
  },
  {
   "cell_type": "markdown",
   "id": "8d985906-268a-495a-8aa9-37598c12d5ba",
   "metadata": {},
   "source": [
    "# Unnormalized raw latent"
   ]
  },
  {
   "cell_type": "code",
   "execution_count": 19,
   "id": "9b5c1fb0-9917-439e-a28b-357314215da8",
   "metadata": {},
   "outputs": [
    {
     "name": "stdout",
     "output_type": "stream",
     "text": [
      "tensor(1.1961) tensor(71.3851)\n",
      "tensor(1.1991) tensor(71.4518)\n"
     ]
    }
   ],
   "source": [
    "print(train_batch[0].mean(), train_batch[0].std())\n",
    "print(val_batch[0].mean(), val_batch[0].std())"
   ]
  },
  {
   "cell_type": "code",
   "execution_count": 16,
   "id": "76cf5c25-5c01-41a1-b4d2-a7ffcf299f36",
   "metadata": {},
   "outputs": [
    {
     "data": {
      "text/plain": [
       "tensor(-200.1610)"
      ]
     },
     "execution_count": 16,
     "metadata": {},
     "output_type": "execute_result"
    }
   ],
   "source": [
    "calc_fid_fn(train_batch[0].mean(dim=1), val_batch[0].mean(dim=1))"
   ]
  },
  {
   "cell_type": "code",
   "execution_count": 21,
   "id": "b60330d5-7046-4657-ab95-1f101f319f0b",
   "metadata": {},
   "outputs": [
    {
     "ename": "ValueError",
     "evalue": "Imaginary component 0.0029816698803220455",
     "output_type": "error",
     "traceback": [
      "\u001b[0;31m---------------------------------------------------------------------------\u001b[0m",
      "\u001b[0;31mValueError\u001b[0m                                Traceback (most recent call last)",
      "Cell \u001b[0;32mIn[21], line 2\u001b[0m\n\u001b[1;32m      1\u001b[0m \u001b[38;5;66;03m# try a different implementation\u001b[39;00m\n\u001b[0;32m----> 2\u001b[0m parmar_fid(train_batch[\u001b[38;5;241m0\u001b[39m]\u001b[38;5;241m.\u001b[39mmean(dim\u001b[38;5;241m=\u001b[39m\u001b[38;5;241m1\u001b[39m)\u001b[38;5;241m.\u001b[39mnumpy(), val_batch[\u001b[38;5;241m0\u001b[39m]\u001b[38;5;241m.\u001b[39mmean(dim\u001b[38;5;241m=\u001b[39m\u001b[38;5;241m1\u001b[39m)\u001b[38;5;241m.\u001b[39mnumpy())\n",
      "File \u001b[0;32m~/code/plaid/plaid/evaluation.py:230\u001b[0m, in \u001b[0;36mparmar_fid\u001b[0;34m(feats1, feats2)\u001b[0m\n\u001b[1;32m    228\u001b[0m mu1, sig1 \u001b[38;5;241m=\u001b[39m np\u001b[38;5;241m.\u001b[39mmean(feats1, axis\u001b[38;5;241m=\u001b[39m\u001b[38;5;241m0\u001b[39m), np\u001b[38;5;241m.\u001b[39mcov(feats1, rowvar\u001b[38;5;241m=\u001b[39m\u001b[38;5;28;01mFalse\u001b[39;00m)\n\u001b[1;32m    229\u001b[0m mu2, sig2 \u001b[38;5;241m=\u001b[39m np\u001b[38;5;241m.\u001b[39mmean(feats2, axis\u001b[38;5;241m=\u001b[39m\u001b[38;5;241m0\u001b[39m), np\u001b[38;5;241m.\u001b[39mcov(feats2, rowvar\u001b[38;5;241m=\u001b[39m\u001b[38;5;28;01mFalse\u001b[39;00m)\n\u001b[0;32m--> 230\u001b[0m \u001b[38;5;28;01mreturn\u001b[39;00m frechet_distance(mu1, sig1, mu2, sig2)\n",
      "File \u001b[0;32m~/code/plaid/plaid/evaluation.py:200\u001b[0m, in \u001b[0;36mfrechet_distance\u001b[0;34m(mu1, sigma1, mu2, sigma2, eps)\u001b[0m\n\u001b[1;32m    198\u001b[0m     \u001b[38;5;28;01mif\u001b[39;00m \u001b[38;5;129;01mnot\u001b[39;00m np\u001b[38;5;241m.\u001b[39mallclose(np\u001b[38;5;241m.\u001b[39mdiagonal(covmean)\u001b[38;5;241m.\u001b[39mimag, \u001b[38;5;241m0\u001b[39m, atol\u001b[38;5;241m=\u001b[39m\u001b[38;5;241m1e-3\u001b[39m):\n\u001b[1;32m    199\u001b[0m         m \u001b[38;5;241m=\u001b[39m np\u001b[38;5;241m.\u001b[39mmax(np\u001b[38;5;241m.\u001b[39mabs(covmean\u001b[38;5;241m.\u001b[39mimag))\n\u001b[0;32m--> 200\u001b[0m         \u001b[38;5;28;01mraise\u001b[39;00m \u001b[38;5;167;01mValueError\u001b[39;00m(\u001b[38;5;124m\"\u001b[39m\u001b[38;5;124mImaginary component \u001b[39m\u001b[38;5;132;01m{}\u001b[39;00m\u001b[38;5;124m\"\u001b[39m\u001b[38;5;241m.\u001b[39mformat(m))\n\u001b[1;32m    201\u001b[0m     covmean \u001b[38;5;241m=\u001b[39m covmean\u001b[38;5;241m.\u001b[39mreal\n\u001b[1;32m    203\u001b[0m tr_covmean \u001b[38;5;241m=\u001b[39m np\u001b[38;5;241m.\u001b[39mtrace(covmean)\n",
      "\u001b[0;31mValueError\u001b[0m: Imaginary component 0.0029816698803220455"
     ]
    }
   ],
   "source": [
    "# try a different implementation\n",
    "parmar_fid(train_batch[0].mean(dim=1).numpy(), val_batch[0].mean(dim=1).numpy())"
   ]
  },
  {
   "cell_type": "markdown",
   "id": "8ef350e9-18ec-47d6-b1ba-052b3fe95a2c",
   "metadata": {},
   "source": [
    "# Squish to [-1, 1] range"
   ]
  },
  {
   "cell_type": "code",
   "execution_count": 23,
   "id": "326f2838-0d45-4cbd-b9bb-0be0df2cf5ef",
   "metadata": {},
   "outputs": [],
   "source": [
    "from plaid.utils import LatentScaler\n",
    "\n",
    "scaler = LatentScaler()\n",
    "scaled_train = scaler.scale(train_batch[0])\n",
    "scaled_val = scaler.scale(val_batch[0])"
   ]
  },
  {
   "cell_type": "code",
   "execution_count": 24,
   "id": "635b46fb-02cc-4e64-964f-e9052e65dfcb",
   "metadata": {},
   "outputs": [
    {
     "name": "stdout",
     "output_type": "stream",
     "text": [
      "tensor(1.0689)\n",
      "tensor(-1.0252)\n",
      "tensor(-0.0052)\n",
      "tensor(0.1865)\n"
     ]
    }
   ],
   "source": [
    "print(scaled_train.max())\n",
    "print(scaled_train.min())\n",
    "print(scaled_train.mean())\n",
    "print(scaled_train.std())"
   ]
  },
  {
   "cell_type": "code",
   "execution_count": 25,
   "id": "d4c22d74-6cfb-4bf9-8467-ae0b9ad08852",
   "metadata": {},
   "outputs": [
    {
     "name": "stdout",
     "output_type": "stream",
     "text": [
      "tensor(1.1002)\n",
      "tensor(-1.1092)\n",
      "tensor(-0.0051)\n",
      "tensor(0.1867)\n"
     ]
    }
   ],
   "source": [
    "print(scaled_val.max())\n",
    "print(scaled_val.min())\n",
    "print(scaled_val.mean())\n",
    "print(scaled_val.std())"
   ]
  },
  {
   "cell_type": "code",
   "execution_count": 26,
   "id": "cf91ba00-df8d-4626-9fde-5ce7bf277bef",
   "metadata": {},
   "outputs": [
    {
     "data": {
      "text/plain": [
       "tensor(-0.0066)"
      ]
     },
     "execution_count": 26,
     "metadata": {},
     "output_type": "execute_result"
    }
   ],
   "source": [
    "calc_fid_fn(scaled_train.mean(dim=1), scaled_val.mean(dim=1))"
   ]
  },
  {
   "cell_type": "code",
   "execution_count": 27,
   "id": "53c23b94-eebc-4bb9-8e7f-e3b1cf9e9cc8",
   "metadata": {},
   "outputs": [
    {
     "data": {
      "text/plain": [
       "0.04311427881934016"
      ]
     },
     "execution_count": 27,
     "metadata": {},
     "output_type": "execute_result"
    }
   ],
   "source": [
    "# try dif implementation\n",
    "parmar_fid(scaled_train.mean(dim=1).numpy(), scaled_val.mean(dim=1).numpy())"
   ]
  },
  {
   "cell_type": "code",
   "execution_count": null,
   "id": "efe6c905-40f3-4a9e-ae9c-44445beb4d7c",
   "metadata": {},
   "outputs": [],
   "source": []
  }
 ],
 "metadata": {
  "kernelspec": {
   "display_name": "Python 3 (ipykernel)",
   "language": "python",
   "name": "python3"
  },
  "language_info": {
   "codemirror_mode": {
    "name": "ipython",
    "version": 3
   },
   "file_extension": ".py",
   "mimetype": "text/x-python",
   "name": "python",
   "nbconvert_exporter": "python",
   "pygments_lexer": "ipython3",
   "version": "3.12.1"
  }
 },
 "nbformat": 4,
 "nbformat_minor": 5
}
