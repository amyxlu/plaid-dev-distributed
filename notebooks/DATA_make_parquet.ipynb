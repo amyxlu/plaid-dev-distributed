{
 "cells": [
  {
   "cell_type": "code",
   "execution_count": 1,
   "id": "5d10c310-485e-4aaa-8105-a5b0d95e1964",
   "metadata": {
    "execution": {
     "iopub.execute_input": "2024-10-25T02:11:34.676578Z",
     "iopub.status.busy": "2024-10-25T02:11:34.676237Z",
     "iopub.status.idle": "2024-10-25T02:11:34.695428Z",
     "shell.execute_reply": "2024-10-25T02:11:34.694945Z",
     "shell.execute_reply.started": "2024-10-25T02:11:34.676551Z"
    }
   },
   "outputs": [],
   "source": [
    "%load_ext autoreload\n",
    "%autoreload 2"
   ]
  },
  {
   "cell_type": "code",
   "execution_count": 5,
   "id": "0d8a0c41-9de1-43b4-9948-a87918be963b",
   "metadata": {
    "execution": {
     "iopub.execute_input": "2024-10-25T02:12:25.420921Z",
     "iopub.status.busy": "2024-10-25T02:12:25.420317Z",
     "iopub.status.idle": "2024-10-25T02:12:26.583907Z",
     "shell.execute_reply": "2024-10-25T02:12:26.583354Z",
     "shell.execute_reply.started": "2024-10-25T02:12:25.420897Z"
    }
   },
   "outputs": [],
   "source": [
    "path = \"/data/lux70/data/pfam/train.fasta\"\n",
    "from evo.dataset import FastaDataset\n",
    "from plaid.datasets import MetadataParser"
   ]
  },
  {
   "cell_type": "code",
   "execution_count": 6,
   "id": "58096ddf-07f2-4e4e-8173-3ac64ab75baf",
   "metadata": {
    "execution": {
     "iopub.execute_input": "2024-10-25T02:12:28.112216Z",
     "iopub.status.busy": "2024-10-25T02:12:28.111874Z",
     "iopub.status.idle": "2024-10-25T02:13:56.999286Z",
     "shell.execute_reply": "2024-10-25T02:13:56.998594Z",
     "shell.execute_reply.started": "2024-10-25T02:12:28.112194Z"
    }
   },
   "outputs": [
    {
     "name": "stderr",
     "output_type": "stream",
     "text": [
      "100%|██████████| 9.03G/9.03G [00:33<00:00, 291MB/s]\n",
      "100%|██████████| 9.03G/9.03G [00:51<00:00, 188MB/s]\n"
     ]
    }
   ],
   "source": [
    "ds = FastaDataset(path)"
   ]
  },
  {
   "cell_type": "code",
   "execution_count": 7,
   "id": "88cfc855-505c-4757-a195-e4511351199f",
   "metadata": {
    "execution": {
     "iopub.execute_input": "2024-10-25T02:14:06.938233Z",
     "iopub.status.busy": "2024-10-25T02:14:06.937835Z",
     "iopub.status.idle": "2024-10-25T02:21:22.985918Z",
     "shell.execute_reply": "2024-10-25T02:21:22.985379Z",
     "shell.execute_reply.started": "2024-10-25T02:14:06.938210Z"
    }
   },
   "outputs": [
    {
     "data": {
      "application/vnd.jupyter.widget-view+json": {
       "model_id": "1b80863fc4284218a13fd417394d78e2",
       "version_major": 2,
       "version_minor": 0
      },
      "text/plain": [
       "  0%|          | 0/44190382 [00:00<?, ?it/s]"
      ]
     },
     "metadata": {},
     "output_type": "display_data"
    }
   ],
   "source": [
    "headers = []\n",
    "sequences = []\n",
    "\n",
    "from tqdm.notebook import tqdm, trange\n",
    "\n",
    "for i in trange(len(ds)):\n",
    "    header, sequence = ds[i]\n",
    "    headers.append(header)\n",
    "    sequences.append(sequence)"
   ]
  },
  {
   "cell_type": "code",
   "execution_count": 8,
   "id": "44f1b4e3-5bb4-4253-8068-60ed03db85d8",
   "metadata": {
    "execution": {
     "iopub.execute_input": "2024-10-25T02:21:22.987432Z",
     "iopub.status.busy": "2024-10-25T02:21:22.986978Z",
     "iopub.status.idle": "2024-10-25T02:21:34.508289Z",
     "shell.execute_reply": "2024-10-25T02:21:34.507641Z",
     "shell.execute_reply.started": "2024-10-25T02:21:22.987412Z"
    }
   },
   "outputs": [],
   "source": [
    "import pandas as pd\n",
    "\n",
    "df = pd.DataFrame({\n",
    "    \"sequences\": sequences,\n",
    "    \"headers\": headers\n",
    "})"
   ]
  },
  {
   "cell_type": "code",
   "execution_count": 12,
   "id": "08adc0ab-3d0c-4108-bfab-82647743060f",
   "metadata": {
    "execution": {
     "iopub.execute_input": "2024-10-25T02:44:31.749700Z",
     "iopub.status.busy": "2024-10-25T02:44:31.749319Z",
     "iopub.status.idle": "2024-10-25T03:51:55.239047Z",
     "shell.execute_reply": "2024-10-25T03:51:55.238303Z",
     "shell.execute_reply.started": "2024-10-25T02:44:31.749665Z"
    }
   },
   "outputs": [
    {
     "name": "stderr",
     "output_type": "stream",
     "text": [
      "Exception ignored in: <bound method IPythonKernel._clean_thread_parent_frames of <ipykernel.ipkernel.IPythonKernel object at 0x7f1d06c8a430>>\n",
      "Traceback (most recent call last):\n",
      "  File \"/homefs/home/lux70/micromamba/envs/omegafold/lib/python3.9/site-packages/ipykernel/ipkernel.py\", line 775, in _clean_thread_parent_frames\n",
      "    def _clean_thread_parent_frames(\n",
      "KeyboardInterrupt: \n",
      "\n",
      "KeyboardInterrupt\n",
      "\n"
     ]
    }
   ],
   "source": [
    "parser = MetadataParser()\n",
    "\n",
    "df['pfam_id'] = df.headers.map(lambda x: parser.header_to_pfam_id(x))\n",
    "df['organism_id'] = df.headers.map(lambda x: parser.header_to_organism(x))\n",
    "df['organism_idx'] = df.headers.map(lambda x: parser.header_to_organism_idx(x))\n",
    "# df['GO_idx'] = df.headers.map(lambda x: parser.header_to_go_idx(x))"
   ]
  },
  {
   "cell_type": "code",
   "execution_count": 13,
   "id": "cb11c18d-8f84-4d60-91d8-8a83756bae89",
   "metadata": {
    "execution": {
     "iopub.execute_input": "2024-10-25T03:52:02.379555Z",
     "iopub.status.busy": "2024-10-25T03:52:02.379188Z",
     "iopub.status.idle": "2024-10-25T03:52:05.367680Z",
     "shell.execute_reply": "2024-10-25T03:52:05.367081Z",
     "shell.execute_reply.started": "2024-10-25T03:52:02.379529Z"
    }
   },
   "outputs": [
    {
     "data": {
      "text/html": [
       "<div>\n",
       "<style scoped>\n",
       "    .dataframe tbody tr th:only-of-type {\n",
       "        vertical-align: middle;\n",
       "    }\n",
       "\n",
       "    .dataframe tbody tr th {\n",
       "        vertical-align: top;\n",
       "    }\n",
       "\n",
       "    .dataframe thead th {\n",
       "        text-align: right;\n",
       "    }\n",
       "</style>\n",
       "<table border=\"1\" class=\"dataframe\">\n",
       "  <thead>\n",
       "    <tr style=\"text-align: right;\">\n",
       "      <th></th>\n",
       "      <th>sequences</th>\n",
       "      <th>headers</th>\n",
       "      <th>pfam_id</th>\n",
       "      <th>organism_idx</th>\n",
       "      <th>organism_id</th>\n",
       "    </tr>\n",
       "  </thead>\n",
       "  <tbody>\n",
       "    <tr>\n",
       "      <th>0</th>\n",
       "      <td>AFQYVQANPDEVCPANWTPGEKTMKPDPEGSKEYFSA</td>\n",
       "      <td>Q3AXS2_SYNS9/165-201 Q3AXS2.1 PF10417.13;1-cys...</td>\n",
       "      <td>PF10417</td>\n",
       "      <td>SYNS9</td>\n",
       "      <td>SYNS9</td>\n",
       "    </tr>\n",
       "    <tr>\n",
       "      <th>1</th>\n",
       "      <td>GLQYNRKTGEVVPANWVPGQSGITRDTKYIGR</td>\n",
       "      <td>K6DUV5_SCHAZ/104-135 K6DUV5.1 PF10417.13;1-cys...</td>\n",
       "      <td>PF10417</td>\n",
       "      <td>SCHAZ</td>\n",
       "      <td>SCHAZ</td>\n",
       "    </tr>\n",
       "    <tr>\n",
       "      <th>2</th>\n",
       "      <td>AAQYVRTHPGEVCPAKWKEDGETLKPSFDLVGK</td>\n",
       "      <td>A0A2C9XNY2_9ENTE/154-186 A0A2C9XNY2.1 PF10417....</td>\n",
       "      <td>PF10417</td>\n",
       "      <td>9ENTE</td>\n",
       "      <td>9ENTE</td>\n",
       "    </tr>\n",
       "    <tr>\n",
       "      <th>3</th>\n",
       "      <td>AFQYATAHPGEVCPANWKPGHKTIKADQDAKYDFFDA</td>\n",
       "      <td>W4HAV8_APHAT/228-264 W4HAV8.1 PF10417.13;1-cys...</td>\n",
       "      <td>PF10417</td>\n",
       "      <td>APHAT</td>\n",
       "      <td>APHAT</td>\n",
       "    </tr>\n",
       "    <tr>\n",
       "      <th>4</th>\n",
       "      <td>AAQYTAAHPNEVCPAKWKEGEKTLKPSLDLVGK</td>\n",
       "      <td>A0A4R5TJJ5_9GAMM/154-186 A0A4R5TJJ5.1 PF10417....</td>\n",
       "      <td>PF10417</td>\n",
       "      <td>9GAMM</td>\n",
       "      <td>9GAMM</td>\n",
       "    </tr>\n",
       "  </tbody>\n",
       "</table>\n",
       "</div>"
      ],
      "text/plain": [
       "                               sequences  \\\n",
       "0  AFQYVQANPDEVCPANWTPGEKTMKPDPEGSKEYFSA   \n",
       "1       GLQYNRKTGEVVPANWVPGQSGITRDTKYIGR   \n",
       "2      AAQYVRTHPGEVCPAKWKEDGETLKPSFDLVGK   \n",
       "3  AFQYATAHPGEVCPANWKPGHKTIKADQDAKYDFFDA   \n",
       "4      AAQYTAAHPNEVCPAKWKEGEKTLKPSLDLVGK   \n",
       "\n",
       "                                             headers  pfam_id organism_idx  \\\n",
       "0  Q3AXS2_SYNS9/165-201 Q3AXS2.1 PF10417.13;1-cys...  PF10417        SYNS9   \n",
       "1  K6DUV5_SCHAZ/104-135 K6DUV5.1 PF10417.13;1-cys...  PF10417        SCHAZ   \n",
       "2  A0A2C9XNY2_9ENTE/154-186 A0A2C9XNY2.1 PF10417....  PF10417        9ENTE   \n",
       "3  W4HAV8_APHAT/228-264 W4HAV8.1 PF10417.13;1-cys...  PF10417        APHAT   \n",
       "4  A0A4R5TJJ5_9GAMM/154-186 A0A4R5TJJ5.1 PF10417....  PF10417        9GAMM   \n",
       "\n",
       "  organism_id  \n",
       "0       SYNS9  \n",
       "1       SCHAZ  \n",
       "2       9ENTE  \n",
       "3       APHAT  \n",
       "4       9GAMM  "
      ]
     },
     "execution_count": 13,
     "metadata": {},
     "output_type": "execute_result"
    }
   ],
   "source": [
    "df.head()"
   ]
  },
  {
   "cell_type": "code",
   "execution_count": 14,
   "id": "383e76b6-c75a-4a45-80fe-09b15ea39c7f",
   "metadata": {
    "execution": {
     "iopub.execute_input": "2024-10-25T03:52:53.556460Z",
     "iopub.status.busy": "2024-10-25T03:52:53.556091Z",
     "iopub.status.idle": "2024-10-25T03:52:53.608450Z",
     "shell.execute_reply": "2024-10-25T03:52:53.607862Z",
     "shell.execute_reply.started": "2024-10-25T03:52:53.556433Z"
    }
   },
   "outputs": [
    {
     "data": {
      "text/html": [
       "<div>\n",
       "<style scoped>\n",
       "    .dataframe tbody tr th:only-of-type {\n",
       "        vertical-align: middle;\n",
       "    }\n",
       "\n",
       "    .dataframe tbody tr th {\n",
       "        vertical-align: top;\n",
       "    }\n",
       "\n",
       "    .dataframe thead th {\n",
       "        text-align: right;\n",
       "    }\n",
       "</style>\n",
       "<table border=\"1\" class=\"dataframe\">\n",
       "  <thead>\n",
       "    <tr style=\"text-align: right;\">\n",
       "      <th></th>\n",
       "      <th>pfam_id</th>\n",
       "      <th>GO_id</th>\n",
       "      <th>GO_term</th>\n",
       "      <th>GO_level</th>\n",
       "      <th>count</th>\n",
       "      <th>GO_idx</th>\n",
       "    </tr>\n",
       "  </thead>\n",
       "  <tbody>\n",
       "    <tr>\n",
       "      <th>0</th>\n",
       "      <td>PF00001</td>\n",
       "      <td>GO:0004930</td>\n",
       "      <td>G protein-coupled receptor activity</td>\n",
       "      <td>function</td>\n",
       "      <td>11</td>\n",
       "      <td>0</td>\n",
       "    </tr>\n",
       "    <tr>\n",
       "      <th>1</th>\n",
       "      <td>PF00002</td>\n",
       "      <td>GO:0004930</td>\n",
       "      <td>G protein-coupled receptor activity</td>\n",
       "      <td>function</td>\n",
       "      <td>11</td>\n",
       "      <td>0</td>\n",
       "    </tr>\n",
       "    <tr>\n",
       "      <th>2</th>\n",
       "      <td>PF00003</td>\n",
       "      <td>GO:0004930</td>\n",
       "      <td>G protein-coupled receptor activity</td>\n",
       "      <td>function</td>\n",
       "      <td>11</td>\n",
       "      <td>0</td>\n",
       "    </tr>\n",
       "    <tr>\n",
       "      <th>3</th>\n",
       "      <td>PF00004</td>\n",
       "      <td>GO:0016887</td>\n",
       "      <td>ATP hydrolysis activity</td>\n",
       "      <td>function</td>\n",
       "      <td>15</td>\n",
       "      <td>1</td>\n",
       "    </tr>\n",
       "    <tr>\n",
       "      <th>4</th>\n",
       "      <td>PF00005</td>\n",
       "      <td>GO:0016887</td>\n",
       "      <td>ATP hydrolysis activity</td>\n",
       "      <td>function</td>\n",
       "      <td>15</td>\n",
       "      <td>1</td>\n",
       "    </tr>\n",
       "  </tbody>\n",
       "</table>\n",
       "</div>"
      ],
      "text/plain": [
       "   pfam_id       GO_id                              GO_term  GO_level  count  \\\n",
       "0  PF00001  GO:0004930  G protein-coupled receptor activity  function     11   \n",
       "1  PF00002  GO:0004930  G protein-coupled receptor activity  function     11   \n",
       "2  PF00003  GO:0004930  G protein-coupled receptor activity  function     11   \n",
       "3  PF00004  GO:0016887              ATP hydrolysis activity  function     15   \n",
       "4  PF00005  GO:0016887              ATP hydrolysis activity  function     15   \n",
       "\n",
       "   GO_idx  \n",
       "0       0  \n",
       "1       0  \n",
       "2       0  \n",
       "3       1  \n",
       "4       1  "
      ]
     },
     "execution_count": 14,
     "metadata": {},
     "output_type": "execute_result"
    }
   ],
   "source": [
    "go_df = parser.go_metadata\n",
    "go_df.head()"
   ]
  },
  {
   "cell_type": "code",
   "execution_count": 19,
   "id": "5d210ca2-3a4a-491b-b13a-91f719f86b26",
   "metadata": {
    "execution": {
     "iopub.execute_input": "2024-10-25T03:54:29.845494Z",
     "iopub.status.busy": "2024-10-25T03:54:29.845144Z",
     "iopub.status.idle": "2024-10-25T03:54:43.262019Z",
     "shell.execute_reply": "2024-10-25T03:54:43.261447Z",
     "shell.execute_reply.started": "2024-10-25T03:54:29.845470Z"
    }
   },
   "outputs": [],
   "source": [
    "df_ = df.copy()"
   ]
  },
  {
   "cell_type": "code",
   "execution_count": 20,
   "id": "c7ceb698-f65f-4bf4-a66c-cd1f59d88b99",
   "metadata": {
    "execution": {
     "iopub.execute_input": "2024-10-25T03:54:49.476236Z",
     "iopub.status.busy": "2024-10-25T03:54:49.475874Z",
     "iopub.status.idle": "2024-10-25T03:55:11.803084Z",
     "shell.execute_reply": "2024-10-25T03:55:11.802496Z",
     "shell.execute_reply.started": "2024-10-25T03:54:49.476214Z"
    }
   },
   "outputs": [],
   "source": [
    "df = df.merge(go_df, on=\"pfam_id\", how=\"left\")"
   ]
  },
  {
   "cell_type": "code",
   "execution_count": 21,
   "id": "3d1d63f7-1619-4fc6-a1fa-79afa4e9cd38",
   "metadata": {
    "execution": {
     "iopub.execute_input": "2024-10-25T03:55:11.804407Z",
     "iopub.status.busy": "2024-10-25T03:55:11.804144Z",
     "iopub.status.idle": "2024-10-25T03:55:11.859189Z",
     "shell.execute_reply": "2024-10-25T03:55:11.858705Z",
     "shell.execute_reply.started": "2024-10-25T03:55:11.804387Z"
    }
   },
   "outputs": [
    {
     "name": "stdout",
     "output_type": "stream",
     "text": [
      "(44190382, 10)\n"
     ]
    },
    {
     "data": {
      "text/html": [
       "<div>\n",
       "<style scoped>\n",
       "    .dataframe tbody tr th:only-of-type {\n",
       "        vertical-align: middle;\n",
       "    }\n",
       "\n",
       "    .dataframe tbody tr th {\n",
       "        vertical-align: top;\n",
       "    }\n",
       "\n",
       "    .dataframe thead th {\n",
       "        text-align: right;\n",
       "    }\n",
       "</style>\n",
       "<table border=\"1\" class=\"dataframe\">\n",
       "  <thead>\n",
       "    <tr style=\"text-align: right;\">\n",
       "      <th></th>\n",
       "      <th>sequences</th>\n",
       "      <th>headers</th>\n",
       "      <th>pfam_id</th>\n",
       "      <th>organism_idx</th>\n",
       "      <th>organism_id</th>\n",
       "      <th>GO_id</th>\n",
       "      <th>GO_term</th>\n",
       "      <th>GO_level</th>\n",
       "      <th>count</th>\n",
       "      <th>GO_idx</th>\n",
       "    </tr>\n",
       "  </thead>\n",
       "  <tbody>\n",
       "    <tr>\n",
       "      <th>0</th>\n",
       "      <td>AFQYVQANPDEVCPANWTPGEKTMKPDPEGSKEYFSA</td>\n",
       "      <td>Q3AXS2_SYNS9/165-201 Q3AXS2.1 PF10417.13;1-cys...</td>\n",
       "      <td>PF10417</td>\n",
       "      <td>SYNS9</td>\n",
       "      <td>SYNS9</td>\n",
       "      <td>GO:0051920</td>\n",
       "      <td>peroxiredoxin activity</td>\n",
       "      <td>function</td>\n",
       "      <td>2.0</td>\n",
       "      <td>829.0</td>\n",
       "    </tr>\n",
       "    <tr>\n",
       "      <th>1</th>\n",
       "      <td>GLQYNRKTGEVVPANWVPGQSGITRDTKYIGR</td>\n",
       "      <td>K6DUV5_SCHAZ/104-135 K6DUV5.1 PF10417.13;1-cys...</td>\n",
       "      <td>PF10417</td>\n",
       "      <td>SCHAZ</td>\n",
       "      <td>SCHAZ</td>\n",
       "      <td>GO:0051920</td>\n",
       "      <td>peroxiredoxin activity</td>\n",
       "      <td>function</td>\n",
       "      <td>2.0</td>\n",
       "      <td>829.0</td>\n",
       "    </tr>\n",
       "    <tr>\n",
       "      <th>2</th>\n",
       "      <td>AAQYVRTHPGEVCPAKWKEDGETLKPSFDLVGK</td>\n",
       "      <td>A0A2C9XNY2_9ENTE/154-186 A0A2C9XNY2.1 PF10417....</td>\n",
       "      <td>PF10417</td>\n",
       "      <td>9ENTE</td>\n",
       "      <td>9ENTE</td>\n",
       "      <td>GO:0051920</td>\n",
       "      <td>peroxiredoxin activity</td>\n",
       "      <td>function</td>\n",
       "      <td>2.0</td>\n",
       "      <td>829.0</td>\n",
       "    </tr>\n",
       "    <tr>\n",
       "      <th>3</th>\n",
       "      <td>AFQYATAHPGEVCPANWKPGHKTIKADQDAKYDFFDA</td>\n",
       "      <td>W4HAV8_APHAT/228-264 W4HAV8.1 PF10417.13;1-cys...</td>\n",
       "      <td>PF10417</td>\n",
       "      <td>APHAT</td>\n",
       "      <td>APHAT</td>\n",
       "      <td>GO:0051920</td>\n",
       "      <td>peroxiredoxin activity</td>\n",
       "      <td>function</td>\n",
       "      <td>2.0</td>\n",
       "      <td>829.0</td>\n",
       "    </tr>\n",
       "    <tr>\n",
       "      <th>4</th>\n",
       "      <td>AAQYTAAHPNEVCPAKWKEGEKTLKPSLDLVGK</td>\n",
       "      <td>A0A4R5TJJ5_9GAMM/154-186 A0A4R5TJJ5.1 PF10417....</td>\n",
       "      <td>PF10417</td>\n",
       "      <td>9GAMM</td>\n",
       "      <td>9GAMM</td>\n",
       "      <td>GO:0051920</td>\n",
       "      <td>peroxiredoxin activity</td>\n",
       "      <td>function</td>\n",
       "      <td>2.0</td>\n",
       "      <td>829.0</td>\n",
       "    </tr>\n",
       "  </tbody>\n",
       "</table>\n",
       "</div>"
      ],
      "text/plain": [
       "                               sequences  \\\n",
       "0  AFQYVQANPDEVCPANWTPGEKTMKPDPEGSKEYFSA   \n",
       "1       GLQYNRKTGEVVPANWVPGQSGITRDTKYIGR   \n",
       "2      AAQYVRTHPGEVCPAKWKEDGETLKPSFDLVGK   \n",
       "3  AFQYATAHPGEVCPANWKPGHKTIKADQDAKYDFFDA   \n",
       "4      AAQYTAAHPNEVCPAKWKEGEKTLKPSLDLVGK   \n",
       "\n",
       "                                             headers  pfam_id organism_idx  \\\n",
       "0  Q3AXS2_SYNS9/165-201 Q3AXS2.1 PF10417.13;1-cys...  PF10417        SYNS9   \n",
       "1  K6DUV5_SCHAZ/104-135 K6DUV5.1 PF10417.13;1-cys...  PF10417        SCHAZ   \n",
       "2  A0A2C9XNY2_9ENTE/154-186 A0A2C9XNY2.1 PF10417....  PF10417        9ENTE   \n",
       "3  W4HAV8_APHAT/228-264 W4HAV8.1 PF10417.13;1-cys...  PF10417        APHAT   \n",
       "4  A0A4R5TJJ5_9GAMM/154-186 A0A4R5TJJ5.1 PF10417....  PF10417        9GAMM   \n",
       "\n",
       "  organism_id       GO_id                 GO_term  GO_level  count  GO_idx  \n",
       "0       SYNS9  GO:0051920  peroxiredoxin activity  function    2.0   829.0  \n",
       "1       SCHAZ  GO:0051920  peroxiredoxin activity  function    2.0   829.0  \n",
       "2       9ENTE  GO:0051920  peroxiredoxin activity  function    2.0   829.0  \n",
       "3       APHAT  GO:0051920  peroxiredoxin activity  function    2.0   829.0  \n",
       "4       9GAMM  GO:0051920  peroxiredoxin activity  function    2.0   829.0  "
      ]
     },
     "execution_count": 21,
     "metadata": {},
     "output_type": "execute_result"
    }
   ],
   "source": [
    "print(df.shape)\n",
    "df.head()"
   ]
  },
  {
   "cell_type": "code",
   "execution_count": 23,
   "id": "99883127-4c91-4412-bd42-f8b9f023e272",
   "metadata": {
    "execution": {
     "iopub.execute_input": "2024-10-25T03:55:48.000427Z",
     "iopub.status.busy": "2024-10-25T03:55:47.999805Z",
     "iopub.status.idle": "2024-10-25T03:55:49.158275Z",
     "shell.execute_reply": "2024-10-25T03:55:49.157736Z",
     "shell.execute_reply.started": "2024-10-25T03:55:48.000400Z"
    }
   },
   "outputs": [
    {
     "data": {
      "text/plain": [
       "0.5336580254047136"
      ]
     },
     "execution_count": 23,
     "metadata": {},
     "output_type": "execute_result"
    }
   ],
   "source": [
    "df.GO_id.isna().sum() / len(df)"
   ]
  },
  {
   "cell_type": "code",
   "execution_count": 24,
   "id": "ce9759f7-7ecc-4866-98ce-1f07e318a6a0",
   "metadata": {
    "execution": {
     "iopub.execute_input": "2024-10-25T03:56:35.539784Z",
     "iopub.status.busy": "2024-10-25T03:56:35.539178Z",
     "iopub.status.idle": "2024-10-25T03:57:43.101379Z",
     "shell.execute_reply": "2024-10-25T03:57:43.100706Z",
     "shell.execute_reply.started": "2024-10-25T03:56:35.539758Z"
    }
   },
   "outputs": [],
   "source": [
    "# import pandas as pd\n",
    "\n",
    "# df.to_parquet(\"/data/lux70/data/pfam/train.parquet\")"
   ]
  },
  {
   "cell_type": "code",
   "execution_count": 25,
   "id": "b3e53656-0ee0-4a20-b375-682fd7cea109",
   "metadata": {
    "execution": {
     "iopub.execute_input": "2024-10-25T04:21:28.144936Z",
     "iopub.status.busy": "2024-10-25T04:21:28.144587Z",
     "iopub.status.idle": "2024-10-25T04:21:29.470584Z",
     "shell.execute_reply": "2024-10-25T04:21:29.469998Z",
     "shell.execute_reply.started": "2024-10-25T04:21:28.144914Z"
    }
   },
   "outputs": [],
   "source": [
    "path = \"/data/lux70/plaid/artifacts/samples/5j007z42/100_200_300_v2/100/designability.csv\"\n",
    "desdf = pd.read_csv(path)"
   ]
  },
  {
   "cell_type": "code",
   "execution_count": 35,
   "id": "b62cc0d3-d7e4-496b-a9b6-c90aa4463523",
   "metadata": {
    "execution": {
     "iopub.execute_input": "2024-10-25T04:32:45.234188Z",
     "iopub.status.busy": "2024-10-25T04:32:45.233830Z",
     "iopub.status.idle": "2024-10-25T04:32:46.564942Z",
     "shell.execute_reply": "2024-10-25T04:32:46.564388Z",
     "shell.execute_reply.started": "2024-10-25T04:32:45.234164Z"
    }
   },
   "outputs": [],
   "source": [
    "from pathlib import Path\n",
    "\n",
    "def _ensure_parent_exists(path):\n",
    "    path = Path(path)\n",
    "    if not path.parent.exists():\n",
    "        path.parent.mkdir(parents=True)\n",
    "\n",
    "def copy(src, dst):\n",
    "    _ensure_parent_exists(dst)\n",
    "    shutil.copy2(src, dst)\n",
    "\n",
    "\n",
    "def move(src, dst):\n",
    "    _ensure_parent_exists(dst)\n",
    "    shutil.move(src, dst)\n",
    "\n",
    "\n",
    "def move_designable(df, delete_original=False):\n",
    "    generated_pdb_paths = df.pdb_paths\n",
    "\n",
    "    if delete_original:\n",
    "        for i, p in enumerate(generated_pdb_paths):\n",
    "            if df['designable'][i]:\n",
    "                move(p, p.replace(\"generated/structures\", \"designable\"))\n",
    "            else:\n",
    "                move(p, p.replace(\"generated/structures\", \"undesignable\"))\n",
    "    \n",
    "    else:\n",
    "        for i, p in enumerate(generated_pdb_paths):\n",
    "            if df['designable'][i]:\n",
    "                copy(p, p.replace(\"generated/structures\", \"designable\"))\n",
    "            else:\n",
    "                copy(p, p.replace(\"generated/structures\", \"undesignable\"))\n",
    "\n"
   ]
  },
  {
   "cell_type": "code",
   "execution_count": 36,
   "id": "a177e62e-a85b-44f6-bab0-bd341766644e",
   "metadata": {
    "execution": {
     "iopub.execute_input": "2024-10-25T04:32:52.437649Z",
     "iopub.status.busy": "2024-10-25T04:32:52.437065Z",
     "iopub.status.idle": "2024-10-25T04:32:53.333041Z",
     "shell.execute_reply": "2024-10-25T04:32:53.332450Z",
     "shell.execute_reply.started": "2024-10-25T04:32:52.437624Z"
    }
   },
   "outputs": [],
   "source": [
    "import shutil\n",
    "\n",
    "move_designable(desdf)"
   ]
  },
  {
   "cell_type": "code",
   "execution_count": null,
   "id": "cf3c3881-0e79-4dec-9945-ea33e77281d4",
   "metadata": {},
   "outputs": [],
   "source": []
  }
 ],
 "metadata": {
  "kernelspec": {
   "display_name": "Python (omegafold)",
   "language": "python",
   "name": "omegafold"
  },
  "language_info": {
   "codemirror_mode": {
    "name": "ipython",
    "version": 3
   },
   "file_extension": ".py",
   "mimetype": "text/x-python",
   "name": "python",
   "nbconvert_exporter": "python",
   "pygments_lexer": "ipython3",
   "version": "3.9.12"
  }
 },
 "nbformat": 4,
 "nbformat_minor": 5
}
