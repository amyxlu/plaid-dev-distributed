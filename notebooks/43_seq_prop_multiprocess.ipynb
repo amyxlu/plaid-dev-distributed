{
 "cells": [
  {
   "cell_type": "code",
   "execution_count": 31,
   "id": "1f6d9fcc-5b5a-4a97-9f44-9e3bbdb68282",
   "metadata": {},
   "outputs": [
    {
     "name": "stdout",
     "output_type": "stream",
     "text": [
      "The autoreload extension is already loaded. To reload it, use:\n",
      "  %reload_ext autoreload\n"
     ]
    },
    {
     "name": "stderr",
     "output_type": "stream",
     "text": [
      "100%|██████████| 340M/340M [00:01<00:00, 339MB/s] \n",
      "100%|██████████| 340M/340M [00:02<00:00, 133MB/s] \n"
     ]
    }
   ],
   "source": [
    "%load_ext autoreload\n",
    "%autoreload 2\n",
    "from evo.dataset import FastaDataset\n",
    "import torch\n",
    "\n",
    "pfam_path  = \"/homefs/home/lux70/storage/data/rocklinl.fasta\"\n",
    "ds = FastaDataset(pfam_path)\n",
    "dl = torch.utils.data.DataLoader(ds, batch_size=1024)\n",
    "batch = next(iter(dl))"
   ]
  },
  {
   "cell_type": "code",
   "execution_count": 42,
   "id": "dcc63741-aaca-46dd-9a8d-b33e08be7f33",
   "metadata": {},
   "outputs": [],
   "source": [
    "restypes = set([\n",
    "    \"A\",\n",
    "    \"R\",\n",
    "    \"N\",\n",
    "    \"D\",\n",
    "    \"C\",\n",
    "    \"Q\",\n",
    "    \"E\",\n",
    "    \"G\",\n",
    "    \"H\",\n",
    "    \"I\",\n",
    "    \"L\",\n",
    "    \"K\",\n",
    "    \"M\",\n",
    "    \"F\",\n",
    "    \"P\",\n",
    "    \"S\",\n",
    "    \"T\",\n",
    "    \"W\",\n",
    "    \"Y\",\n",
    "    \"V\",\n",
    "])"
   ]
  },
  {
   "cell_type": "code",
   "execution_count": 51,
   "id": "85a1dd9b-1680-4a94-a6cb-6655d895feab",
   "metadata": {},
   "outputs": [],
   "source": [
    "from Bio.SeqUtils.ProtParam import ProteinAnalysis\n",
    "import pandas as pd\n",
    "\n",
    "headers, seqs = batch\n",
    "df = pd.DataFrame({\"sequences\": seqs})\n",
    "\n",
    "def _protein_property(protein_sequence, property):\n",
    "    protein_sequence = \"\".join(list(filter(lambda char: char in restypes, protein_sequence)))\n",
    "    analyzer = ProteinAnalysis(protein_sequence)\n",
    "    if property == \"charge_at_pH\":\n",
    "        return getattr(analyzer, property)(pH=7)\n",
    "    else:\n",
    "        return getattr(analyzer, property)()\n",
    "\n"
   ]
  },
  {
   "cell_type": "code",
   "execution_count": 52,
   "id": "c2d5b10f-1347-447e-8e5e-c1c402225715",
   "metadata": {},
   "outputs": [
    {
     "name": "stdout",
     "output_type": "stream",
     "text": [
      "(1024, 1)\n"
     ]
    },
    {
     "data": {
      "text/html": [
       "<div>\n",
       "<style scoped>\n",
       "    .dataframe tbody tr th:only-of-type {\n",
       "        vertical-align: middle;\n",
       "    }\n",
       "\n",
       "    .dataframe tbody tr th {\n",
       "        vertical-align: top;\n",
       "    }\n",
       "\n",
       "    .dataframe thead th {\n",
       "        text-align: right;\n",
       "    }\n",
       "</style>\n",
       "<table border=\"1\" class=\"dataframe\">\n",
       "  <thead>\n",
       "    <tr style=\"text-align: right;\">\n",
       "      <th></th>\n",
       "      <th>sequences</th>\n",
       "    </tr>\n",
       "  </thead>\n",
       "  <tbody>\n",
       "    <tr>\n",
       "      <th>0</th>\n",
       "      <td>MEEITQIKKRLSQTVRLEGKEDLLSKKDSITNLKTEEHVSVKKMVI...</td>\n",
       "    </tr>\n",
       "    <tr>\n",
       "      <th>1</th>\n",
       "      <td>MKAIAWLIVLTFLPEQVAWAVDYNLRGALHGAVAPLVSAATVATDG...</td>\n",
       "    </tr>\n",
       "    <tr>\n",
       "      <th>2</th>\n",
       "      <td>MEILGRNLPRILGNLVKTIKTAPVRVVARRGARTLTQKEFGKYLGS...</td>\n",
       "    </tr>\n",
       "    <tr>\n",
       "      <th>3</th>\n",
       "      <td>MSSQESPAVEFSTTTVSSVAVQAGDSKIVIAVIKCGKWIQLQLAES...</td>\n",
       "    </tr>\n",
       "    <tr>\n",
       "      <th>4</th>\n",
       "      <td>PPSFIHKPDPQEVLPGSNVKFTSVVTGTAPLKVSWFKGTTELVAGR...</td>\n",
       "    </tr>\n",
       "    <tr>\n",
       "      <th>...</th>\n",
       "      <td>...</td>\n",
       "    </tr>\n",
       "    <tr>\n",
       "      <th>1019</th>\n",
       "      <td>MSTQAPTFTQPLQSVVALEGSAATFEAQVSGSPVPEVSWFRDGQVL...</td>\n",
       "    </tr>\n",
       "    <tr>\n",
       "      <th>1020</th>\n",
       "      <td>MATQAPTFTQPLQSVVALEGSAATFEAQISGNPVPEVSWFRDGQVL...</td>\n",
       "    </tr>\n",
       "    <tr>\n",
       "      <th>1021</th>\n",
       "      <td>MSTQAPTFTQPLQSVVALEGSAATFEAQVSGNPVPEVSWFRDGQVL...</td>\n",
       "    </tr>\n",
       "    <tr>\n",
       "      <th>1022</th>\n",
       "      <td>MSTQAPTFTQPLQNVVALEGSAATFQAQVSGSPVPEVSWFRDGQVL...</td>\n",
       "    </tr>\n",
       "    <tr>\n",
       "      <th>1023</th>\n",
       "      <td>MATQAPTFTQPLQSVVALEGSAATFEAQISGNPVPEVSWFRDGQVL...</td>\n",
       "    </tr>\n",
       "  </tbody>\n",
       "</table>\n",
       "<p>1024 rows × 1 columns</p>\n",
       "</div>"
      ],
      "text/plain": [
       "                                              sequences\n",
       "0     MEEITQIKKRLSQTVRLEGKEDLLSKKDSITNLKTEEHVSVKKMVI...\n",
       "1     MKAIAWLIVLTFLPEQVAWAVDYNLRGALHGAVAPLVSAATVATDG...\n",
       "2     MEILGRNLPRILGNLVKTIKTAPVRVVARRGARTLTQKEFGKYLGS...\n",
       "3     MSSQESPAVEFSTTTVSSVAVQAGDSKIVIAVIKCGKWIQLQLAES...\n",
       "4     PPSFIHKPDPQEVLPGSNVKFTSVVTGTAPLKVSWFKGTTELVAGR...\n",
       "...                                                 ...\n",
       "1019  MSTQAPTFTQPLQSVVALEGSAATFEAQVSGSPVPEVSWFRDGQVL...\n",
       "1020  MATQAPTFTQPLQSVVALEGSAATFEAQISGNPVPEVSWFRDGQVL...\n",
       "1021  MSTQAPTFTQPLQSVVALEGSAATFEAQVSGNPVPEVSWFRDGQVL...\n",
       "1022  MSTQAPTFTQPLQNVVALEGSAATFQAQVSGSPVPEVSWFRDGQVL...\n",
       "1023  MATQAPTFTQPLQSVVALEGSAATFEAQISGNPVPEVSWFRDGQVL...\n",
       "\n",
       "[1024 rows x 1 columns]"
      ]
     },
     "execution_count": 52,
     "metadata": {},
     "output_type": "execute_result"
    }
   ],
   "source": [
    "from copy import deepcopy\n",
    "df1 = deepcopy(df)\n",
    "df2 = deepcopy(df)\n",
    "print(df.shape)\n",
    "df"
   ]
  },
  {
   "cell_type": "code",
   "execution_count": 55,
   "id": "5aa16769-fd66-401e-9681-a27edcf931ab",
   "metadata": {},
   "outputs": [
    {
     "name": "stdout",
     "output_type": "stream",
     "text": [
      "CPU times: user 24.1 s, sys: 10.2 ms, total: 24.1 s\n",
      "Wall time: 24.1 s\n"
     ]
    }
   ],
   "source": [
    "%%time\n",
    "# no multiprocessing\n",
    "\n",
    "for property in properties:\n",
    "    df1[property] = df.sequences.map(lambda seq: _protein_property(seq, property))"
   ]
  },
  {
   "cell_type": "code",
   "execution_count": 56,
   "id": "882164ec-2e74-4ec6-a9ef-8e1943406912",
   "metadata": {},
   "outputs": [
    {
     "name": "stdout",
     "output_type": "stream",
     "text": [
      "96\n",
      "96\n"
     ]
    }
   ],
   "source": [
    "import multiprocessing as mp\n",
    "print(mp.cpu_count())\n",
    "\n",
    "num_processes = min(mp.cpu_count(), df.shape[0]) \n",
    "print(num_processes)\n",
    "\n",
    "from functools import partial\n",
    "\n",
    "def process_chunk(chunk, prop):\n",
    "    return chunk.sequences.map(lambda seq: _protein_property(seq, prop))"
   ]
  },
  {
   "cell_type": "code",
   "execution_count": 57,
   "id": "43cb7a0e-3b16-4087-a0d6-126c965c2c92",
   "metadata": {},
   "outputs": [
    {
     "name": "stdout",
     "output_type": "stream",
     "text": [
      "CPU times: user 1.85 s, sys: 5.12 s, total: 6.97 s\n",
      "Wall time: 13.3 s\n"
     ]
    }
   ],
   "source": [
    "%%time\n",
    "for prop in properties:  \n",
    "    chunk_size = len(df) // num_processes  # Size of each chunk\n",
    "    chunks = [df[i:i+chunk_size] for i in range(0, len(df), chunk_size)]\n",
    "    \n",
    "    pool = mp.Pool(processes=num_processes)\n",
    "    fn = partial(process_chunk, prop=prop)\n",
    "    results = pool.map(fn, chunks)\n",
    "    pool.close()\n",
    "    pool.join()\n",
    "    df2[prop] = pd.concat(results)"
   ]
  },
  {
   "cell_type": "code",
   "execution_count": null,
   "id": "9c169efb-a1af-4492-84f6-d03378b5eb30",
   "metadata": {},
   "outputs": [],
   "source": []
  }
 ],
 "metadata": {
  "kernelspec": {
   "display_name": "Python (py310)",
   "language": "python",
   "name": "py310"
  },
  "language_info": {
   "codemirror_mode": {
    "name": "ipython",
    "version": 3
   },
   "file_extension": ".py",
   "mimetype": "text/x-python",
   "name": "python",
   "nbconvert_exporter": "python",
   "pygments_lexer": "ipython3",
   "version": "3.10.14"
  }
 },
 "nbformat": 4,
 "nbformat_minor": 5
}
