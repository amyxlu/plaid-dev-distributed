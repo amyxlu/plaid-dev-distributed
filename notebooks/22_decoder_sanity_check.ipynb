{
 "cells": [
  {
   "cell_type": "code",
   "execution_count": 1,
   "metadata": {},
   "outputs": [],
   "source": [
    "%load_ext autoreload\n",
    "%autoreload 2"
   ]
  },
  {
   "cell_type": "code",
   "execution_count": 2,
   "metadata": {},
   "outputs": [],
   "source": [
    "import torch\n",
    "from plaid.esmfold import esmfold_v1\n",
    "from plaid.decoder import FullyConnectedNetwork\n",
    "\n",
    "mlp = FullyConnectedNetwork.from_pretrained()\n",
    "# path = \"../cached_tensors/decoder_vocab_21.ckpt\"\n",
    "# path = \"/shared/amyxlu/plaid/checkpoints/sequence_decoder/2024-01-19T02-19-28/last.ckpt\"\n",
    "# mlp = FullyConnectedNetwork.load_from_checkpoint(path, n_classes=21, mlp_num_layers=3, esmfold=None)"
   ]
  },
  {
   "cell_type": "code",
   "execution_count": 3,
   "metadata": {},
   "outputs": [
    {
     "name": "stderr",
     "output_type": "stream",
     "text": [
      "Creating ESMFold...\n",
      "ESMFold model loaded in 45.42 seconds.\n"
     ]
    }
   ],
   "source": [
    "device = torch.device(\"cuda:0\") \n",
    "esmfold = esmfold_v1()\n",
    "esmfold = esmfold.to(device).eval().requires_grad_(False)"
   ]
  },
  {
   "cell_type": "code",
   "execution_count": null,
   "metadata": {},
   "outputs": [],
   "source": []
  },
  {
   "cell_type": "code",
   "execution_count": 75,
   "metadata": {},
   "outputs": [
    {
     "name": "stdout",
     "output_type": "stream",
     "text": [
      "MEEITQIKKRLSQTVRLEGKEDLLSKKDSITNLKTEEHVSVKKMVISEPKPEKKEDIQLKKKEVVAVAKKEEVLKKEVVVPSKKDEEILPLKKEVPRPPKKEEDVMPQKKEVPRPPKKEEDIVPQMRDVSLPPKEEEKIVPKKKEVPRPPKKVEEILPPKKEVHRPPKKEEDIVPQIREVSLPPKKDEEIVCEKKEVAPAKEEPSKKPKVPSLPATQREDVIEEIIHKKPTAALSKFEDVKEHEEKETFVVLKKEIIDAPTKKEMVTAKHVIVPQKEEIIPSPTQEEVVSFKRKQTVRTSKKDAVPQKKEITYTQQTLEDKEEKILKRLEVTSTPDEEEIAHIQKKLYHTVRLVEKDVFPEKEDITMLETEEFVSQEIKLVSEPKPEKEKEIQGKKKVPPVSKKEEPLHHPKMDEKIVLKQKDVTLSHRKDEETVPQKKDPILALRKDEEIVTQKKDVTPPLIKEEESVPQNKDVTRPLR\n"
     ]
    }
   ],
   "source": [
    "s = \"\"\"MEEITQIKKRLSQTVRLEGKEDLLSKKDSITNLKTEEHVSVKKMVISEPKPEKKEDIQLK\\\n",
    "KKEVVAVAKKEEVLKKEVVVPSKKDEEILPLKKEVPRPPKKEEDVMPQKKEVPRPPKKEE\\\n",
    "DIVPQMRDVSLPPKEEEKIVPKKKEVPRPPKKVEEILPPKKEVHRPPKKEEDIVPQIREV\\\n",
    "SLPPKKDEEIVCEKKEVAPAKEEPSKKPKVPSLPATQREDVIEEIIHKKPTAALSKFEDV\\\n",
    "KEHEEKETFVVLKKEIIDAPTKKEMVTAKHVIVPQKEEIIPSPTQEEVVSFKRKQTVRTS\\\n",
    "KKDAVPQKKEITYTQQTLEDKEEKILKRLEVTSTPDEEEIAHIQKKLYHTVRLVEKDVFP\\\n",
    "EKEDITMLETEEFVSQEIKLVSEPKPEKEKEIQGKKKVPPVSKKEEPLHHPKMDEKIVLK\\\n",
    "QKDVTLSHRKDEETVPQKKDPILALRKDEEIVTQKKDVTPPLIKEEESVPQNKDVTRPLR\\\n",
    "\"\"\"\n",
    "\n",
    "print(s)\n",
    "mlp = mlp.to(device).eval().requires_grad_(False)\n",
    "emb = esmfold.infer_embedding(s)['s']"
   ]
  },
  {
   "cell_type": "code",
   "execution_count": null,
   "metadata": {},
   "outputs": [],
   "source": []
  },
  {
   "cell_type": "code",
   "execution_count": 76,
   "metadata": {},
   "outputs": [],
   "source": [
    "sequence_logits = mlp(emb)"
   ]
  },
  {
   "cell_type": "code",
   "execution_count": 77,
   "metadata": {},
   "outputs": [
    {
     "data": {
      "text/plain": [
       "tensor(True)"
      ]
     },
     "execution_count": 77,
     "metadata": {},
     "output_type": "execute_result"
    }
   ],
   "source": [
    "from plaid.utils import DecoderTokenizer\n",
    "tokenizer = DecoderTokenizer()\n",
    "\n",
    "from plaid.esmfold.misc import encode_sequence\n",
    "true_aatype, _, _, _ = encode_sequence(s)\n",
    "reimplemented_tokenizer_aatype = tokenizer.str_to_aatype_sequence(s)\n",
    "\n",
    "(true_aatype == reimplemented_tokenizer_aatype).all()"
   ]
  },
  {
   "cell_type": "code",
   "execution_count": 78,
   "metadata": {},
   "outputs": [
    {
     "name": "stdout",
     "output_type": "stream",
     "text": [
      "tensor([12,  6,  6,  9, 16,  5,  9, 11, 11,  1, 10, 15,  5, 16, 19,  1, 10,  6,\n",
      "         7, 11,  6,  3, 10, 10, 15, 11, 11,  3, 15,  9, 16,  2, 10, 11, 16,  6,\n",
      "         6,  8, 19, 15, 19, 11, 11, 12, 19,  9, 15,  6, 14, 11, 14,  6, 11, 11,\n",
      "         6,  3,  9,  5, 10, 11, 11, 11,  6, 19, 19,  0, 19,  0, 11, 11,  6,  6,\n",
      "        19, 10, 11, 11,  6, 19, 19, 19, 14, 15, 11, 11,  3,  6,  6,  9, 10, 14,\n",
      "        10, 11, 11,  6, 19, 14,  1, 14, 14, 11, 11,  6,  6,  3, 19, 12, 14,  5,\n",
      "        11, 11,  6, 19, 14,  1, 14, 14, 11, 11,  6,  6,  3,  9, 19, 14,  5, 12,\n",
      "         1,  3, 19, 15, 10, 14, 14, 11,  6,  6,  6, 11,  9, 19, 14, 11, 11, 11,\n",
      "         6, 19, 14,  1, 14, 14, 11, 11, 19,  6,  6,  9, 10, 14, 14, 11, 11,  6,\n",
      "        19,  8,  1, 14, 14, 11, 11,  6,  6,  3,  9, 19, 14,  5,  9,  1,  6, 19,\n",
      "        15, 10, 14, 14, 11, 11,  3,  6,  6,  9, 19,  4,  6, 11, 11,  6, 19,  0,\n",
      "        14,  0, 11,  6,  6, 14, 15, 11, 11, 14, 11, 19, 14, 15, 10, 14,  0, 16,\n",
      "         5,  1,  6,  3, 19,  9,  6,  6,  9,  9,  8, 11, 11, 14, 16,  0,  0, 10,\n",
      "        15, 11, 13,  6,  3, 19, 11,  6,  8,  6,  6, 11,  6, 16, 13, 19, 19, 10,\n",
      "        11, 11,  6,  9,  9,  3,  0, 14, 16, 11, 11,  6, 12, 19, 16,  0, 11,  8,\n",
      "        19,  9, 19, 14,  5, 11,  6,  6,  9,  9, 14, 15, 14, 16,  5,  6,  6, 19,\n",
      "        19, 15, 13, 11,  1, 11,  5, 16, 19,  1, 16, 15, 11, 11,  3,  0, 19, 14,\n",
      "         5, 11, 11,  6,  9, 16, 18, 16,  5,  5, 16, 10,  6,  3, 11,  6,  6, 11,\n",
      "         9, 10, 11,  1, 10,  6, 19, 16, 15, 16, 14,  3,  6,  6,  6,  9,  0,  8,\n",
      "         9,  5, 11, 11, 10, 18,  8, 16, 19,  1, 10, 19,  6, 11,  3, 19, 13, 14,\n",
      "         6, 11,  6,  3,  9, 16, 12, 10,  6, 16,  6,  6, 13, 19, 15,  5,  6,  9,\n",
      "        11, 10, 19, 15,  6, 14, 11, 14,  6, 11,  6, 11,  6,  9,  5,  7, 11, 11,\n",
      "        11, 19, 14, 14, 19, 15, 11, 11,  6,  6, 14, 10,  8,  8, 14, 11, 12,  3,\n",
      "         6, 11,  9, 19, 10, 11,  5, 11,  3, 19, 16, 10, 15,  8,  1, 11,  3,  6,\n",
      "         6, 16, 19, 14,  5, 11, 11,  3, 14,  9, 10,  0, 10,  1, 11,  3,  6,  6,\n",
      "         9, 19, 16,  5, 11, 11,  3, 19, 16, 14, 14, 10,  9, 11,  6,  6,  6, 15,\n",
      "        19, 14,  5,  2, 11,  3, 19, 16,  1, 14, 10,  1], device='cuda:0')\n"
     ]
    }
   ],
   "source": [
    "pred_aatype = sequence_logits.argmax(dim=-1).squeeze()\n",
    "print(pred_aatype)\n",
    "\n",
    "pred_aatype = pred_aatype.squeeze().cpu()\n",
    "pred_s = tokenizer.aatype_to_str_sequence(pred_aatype)\n"
   ]
  },
  {
   "cell_type": "code",
   "execution_count": 79,
   "metadata": {},
   "outputs": [
    {
     "data": {
      "text/plain": [
       "tensor(1.)"
      ]
     },
     "execution_count": 79,
     "metadata": {},
     "output_type": "execute_result"
    }
   ],
   "source": [
    "(pred_aatype == true_aatype).sum() / len(true_aatype)"
   ]
  },
  {
   "cell_type": "code",
   "execution_count": 80,
   "metadata": {},
   "outputs": [
    {
     "name": "stdout",
     "output_type": "stream",
     "text": [
      "MEEITQIKKRLSQTVRLEGKEDLLSKKDSITNLKTEEHVSVKKMVISEPKPEKKEDIQLKKKEVVAVAKKEEVLKKEVVVPSKKDEEILPLKKEVPRPPKKEEDVMPQKKEVPRPPKKEEDIVPQMRDVSLPPKEEEKIVPKKKEVPRPPKKVEEILPPKKEVHRPPKKEEDIVPQIREVSLPPKKDEEIVCEKKEVAPAKEEPSKKPKVPSLPATQREDVIEEIIHKKPTAALSKFEDVKEHEEKETFVVLKKEIIDAPTKKEMVTAKHVIVPQKEEIIPSPTQEEVVSFKRKQTVRTSKKDAVPQKKEITYTQQTLEDKEEKILKRLEVTSTPDEEEIAHIQKKLYHTVRLVEKDVFPEKEDITMLETEEFVSQEIKLVSEPKPEKEKEIQGKKKVPPVSKKEEPLHHPKMDEKIVLKQKDVTLSHRKDEETVPQKKDPILALRKDEEIVTQKKDVTPPLIKEEESVPQNKDVTRPLR\n",
      "MEEITQIKKRLSQTVRLEGKEDLLSKKDSITNLKTEEHVSVKKMVISEPKPEKKEDIQLKKKEVVAVAKKEEVLKKEVVVPSKKDEEILPLKKEVPRPPKKEEDVMPQKKEVPRPPKKEEDIVPQMRDVSLPPKEEEKIVPKKKEVPRPPKKVEEILPPKKEVHRPPKKEEDIVPQIREVSLPPKKDEEIVCEKKEVAPAKEEPSKKPKVPSLPATQREDVIEEIIHKKPTAALSKFEDVKEHEEKETFVVLKKEIIDAPTKKEMVTAKHVIVPQKEEIIPSPTQEEVVSFKRKQTVRTSKKDAVPQKKEITYTQQTLEDKEEKILKRLEVTSTPDEEEIAHIQKKLYHTVRLVEKDVFPEKEDITMLETEEFVSQEIKLVSEPKPEKEKEIQGKKKVPPVSKKEEPLHHPKMDEKIVLKQKDVTLSHRKDEETVPQKKDPILALRKDEEIVTQKKDVTPPLIKEEESVPQNKDVTRPLR\n"
     ]
    },
    {
     "data": {
      "text/plain": [
       "1.0"
      ]
     },
     "execution_count": 80,
     "metadata": {},
     "output_type": "execute_result"
    }
   ],
   "source": [
    "print(s)\n",
    "print(pred_s)\n",
    "import numpy as np\n",
    "(np.array(list(s)) == np.array(list(pred_s))).sum() / len(s)"
   ]
  },
  {
   "cell_type": "code",
   "execution_count": 82,
   "metadata": {},
   "outputs": [],
   "source": [
    "# test that model loading classmethod works\n",
    "model = FullyConnectedNetwork.from_pretrained()"
   ]
  },
  {
   "cell_type": "code",
   "execution_count": 84,
   "metadata": {},
   "outputs": [
    {
     "data": {
      "text/plain": [
       "'MEEITQIKKRLSQTVRLEGKEDLLSKKDSITNLKTEEHVSVKKMVISEPKPEKKEDIQLKKKEVVAVAKKEEVLKKEVVVPSKKDEEILPLKKEVPRPPKKEEDVMPQKKEVPRPPKKEEDIVPQMRDVSLPPKEEEKIVPKKKEVPRPPKKVEEILPPKKEVHRPPKKEEDIVPQIREVSLPPKKDEEIVCEKKEVAPAKEEPSKKPKVPSLPATQREDVIEEIIHKKPTAALSKFEDVKEHEEKETFVVLKKEIIDAPTKKEMVTAKHVIVPQKEEIIPSPTQEEVVSFKRKQTVRTSKKDAVPQKKEITYTQQTLEDKEEKILKRLEVTSTPDEEEIAHIQKKLYHTVRLVEKDVFPEKEDITMLETEEFVSQEIKLVSEPKPEKEKEIQGKKKVPPVSKKEEPLHHPKMDEKIVLKQKDVTLSHRKDEETVPQKKDPILALRKDEEIVTQKKDVTPPLIKEEESVPQNKDVTRPLR'"
      ]
     },
     "execution_count": 84,
     "metadata": {},
     "output_type": "execute_result"
    }
   ],
   "source": [
    "sequence_logits = model(emb)\n",
    "tokenizer.aatype_to_str_sequence(sequence_logits.argmax(dim=-1).squeeze())"
   ]
  },
  {
   "cell_type": "code",
   "execution_count": null,
   "metadata": {},
   "outputs": [],
   "source": []
  },
  {
   "cell_type": "code",
   "execution_count": null,
   "metadata": {},
   "outputs": [],
   "source": []
  }
 ],
 "metadata": {
  "kernelspec": {
   "display_name": "Python 3 (ipykernel)",
   "language": "python",
   "name": "python3"
  },
  "language_info": {
   "codemirror_mode": {
    "name": "ipython",
    "version": 3
   },
   "file_extension": ".py",
   "mimetype": "text/x-python",
   "name": "python",
   "nbconvert_exporter": "python",
   "pygments_lexer": "ipython3",
   "version": "3.10.0"
  }
 },
 "nbformat": 4,
 "nbformat_minor": 4
}
