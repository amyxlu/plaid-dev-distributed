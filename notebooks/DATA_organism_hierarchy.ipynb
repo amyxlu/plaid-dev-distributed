{
 "cells": [
  {
   "cell_type": "code",
   "execution_count": 1,
   "id": "07fa3e19-734b-4f70-8a1a-174912765323",
   "metadata": {
    "execution": {
     "iopub.execute_input": "2024-09-22T01:40:14.517610Z",
     "iopub.status.busy": "2024-09-22T01:40:14.516993Z",
     "iopub.status.idle": "2024-09-22T01:40:15.253432Z",
     "shell.execute_reply": "2024-09-22T01:40:15.252837Z",
     "shell.execute_reply.started": "2024-09-22T01:40:14.517581Z"
    }
   },
   "outputs": [],
   "source": [
    "import pandas as pd"
   ]
  },
  {
   "cell_type": "code",
   "execution_count": 55,
   "id": "e0afb50d-d954-4c5f-b1f2-a37db9a68bbc",
   "metadata": {
    "execution": {
     "iopub.execute_input": "2024-09-22T03:59:38.636677Z",
     "iopub.status.busy": "2024-09-22T03:59:38.636300Z",
     "iopub.status.idle": "2024-09-22T03:59:38.652535Z",
     "shell.execute_reply": "2024-09-22T03:59:38.651999Z",
     "shell.execute_reply.started": "2024-09-22T03:59:38.636652Z"
    }
   },
   "outputs": [
    {
     "data": {
      "text/html": [
       "<div>\n",
       "<style scoped>\n",
       "    .dataframe tbody tr th:only-of-type {\n",
       "        vertical-align: middle;\n",
       "    }\n",
       "\n",
       "    .dataframe tbody tr th {\n",
       "        vertical-align: top;\n",
       "    }\n",
       "\n",
       "    .dataframe thead th {\n",
       "        text-align: right;\n",
       "    }\n",
       "</style>\n",
       "<table border=\"1\" class=\"dataframe\">\n",
       "  <thead>\n",
       "    <tr style=\"text-align: right;\">\n",
       "      <th></th>\n",
       "      <th>organism_index</th>\n",
       "      <th>organism_id</th>\n",
       "      <th>counts</th>\n",
       "    </tr>\n",
       "  </thead>\n",
       "  <tbody>\n",
       "    <tr>\n",
       "      <th>0</th>\n",
       "      <td>0</td>\n",
       "      <td>SYNS9</td>\n",
       "      <td>2126</td>\n",
       "    </tr>\n",
       "    <tr>\n",
       "      <th>1</th>\n",
       "      <td>1</td>\n",
       "      <td>SCHAZ</td>\n",
       "      <td>4805</td>\n",
       "    </tr>\n",
       "    <tr>\n",
       "      <th>2</th>\n",
       "      <td>2</td>\n",
       "      <td>9ENTE</td>\n",
       "      <td>108317</td>\n",
       "    </tr>\n",
       "    <tr>\n",
       "      <th>3</th>\n",
       "      <td>3</td>\n",
       "      <td>APHAT</td>\n",
       "      <td>14121</td>\n",
       "    </tr>\n",
       "    <tr>\n",
       "      <th>4</th>\n",
       "      <td>4</td>\n",
       "      <td>9GAMM</td>\n",
       "      <td>2601336</td>\n",
       "    </tr>\n",
       "  </tbody>\n",
       "</table>\n",
       "</div>"
      ],
      "text/plain": [
       "   organism_index organism_id   counts\n",
       "0               0       SYNS9     2126\n",
       "1               1       SCHAZ     4805\n",
       "2               2       9ENTE   108317\n",
       "3               3       APHAT    14121\n",
       "4               4       9GAMM  2601336"
      ]
     },
     "execution_count": 55,
     "metadata": {},
     "output_type": "execute_result"
    }
   ],
   "source": [
    "org_df = pd.read_csv(\"/data/lux70/data/pfam/organism_counts.csv\")\n",
    "org_df.head()"
   ]
  },
  {
   "cell_type": "code",
   "execution_count": 33,
   "id": "471fa73c-6be3-46bd-8176-c4bd028efdcd",
   "metadata": {
    "execution": {
     "iopub.execute_input": "2024-09-22T02:09:11.835147Z",
     "iopub.status.busy": "2024-09-22T02:09:11.834779Z",
     "iopub.status.idle": "2024-09-22T02:09:11.960708Z",
     "shell.execute_reply": "2024-09-22T02:09:11.959883Z",
     "shell.execute_reply.started": "2024-09-22T02:09:11.835121Z"
    }
   },
   "outputs": [
    {
     "name": "stdout",
     "output_type": "stream",
     "text": [
      "AADNV V  648330: N=Aedes albopictus densovirus (isolate Boublik/1994)\n",
      "AAV2  V   10804: N=Adeno-associated virus 2\n",
      "AAV2S V  648242: N=Adeno-associated virus 2 (isolate Srivastava/1982)\n",
      "ABABO E 3053407: N=Abaeis boisduvaliana\n",
      "ABAMA E  118452: N=Abacion magnum\n",
      "ABAME E 3053408: N=Abaeis mexicana\n",
      "ABANI E   72259: N=Abaeis nicippe\n",
      "ABAPA E  102642: N=Abax parallelepipedus\n",
      "ABAST E  392897: N=Abalistes stellaris\n",
      "ABBRI E   75332: N=Abbottina rivularis\n"
     ]
    }
   ],
   "source": [
    "!head /data/lux70/data/uniref90/speclist_parse.txt "
   ]
  },
  {
   "cell_type": "code",
   "execution_count": 34,
   "id": "fd08efba-a897-49f9-ba99-4685af5495ec",
   "metadata": {
    "execution": {
     "iopub.execute_input": "2024-09-22T02:09:12.543225Z",
     "iopub.status.busy": "2024-09-22T02:09:12.542822Z",
     "iopub.status.idle": "2024-09-22T02:09:12.671509Z",
     "shell.execute_reply": "2024-09-22T02:09:12.670876Z",
     "shell.execute_reply.started": "2024-09-22T02:09:12.543198Z"
    }
   },
   "outputs": [],
   "source": [
    "df = pd.read_csv(\"/data/lux70/data/uniref90/speclist_parse.txt\", sep=\": N=\",header=None)\n",
    "df.columns = ['uniref_code','name']"
   ]
  },
  {
   "cell_type": "code",
   "execution_count": 35,
   "id": "6c3b627e-3de1-4a97-b90b-0885b5eaf43f",
   "metadata": {
    "execution": {
     "iopub.execute_input": "2024-09-22T02:09:14.294104Z",
     "iopub.status.busy": "2024-09-22T02:09:14.293738Z",
     "iopub.status.idle": "2024-09-22T02:09:14.311464Z",
     "shell.execute_reply": "2024-09-22T02:09:14.310796Z",
     "shell.execute_reply.started": "2024-09-22T02:09:14.294079Z"
    }
   },
   "outputs": [],
   "source": [
    "df['uniref_identifier'] = df.uniref_code.str[:5]\n",
    "df['uniref_code'] = df.uniref_code.str[7:].astype(int)"
   ]
  },
  {
   "cell_type": "code",
   "execution_count": 36,
   "id": "4b9d4173-2800-4041-9d39-eea952389c00",
   "metadata": {
    "execution": {
     "iopub.execute_input": "2024-09-22T02:09:14.381660Z",
     "iopub.status.busy": "2024-09-22T02:09:14.381348Z",
     "iopub.status.idle": "2024-09-22T02:09:14.388708Z",
     "shell.execute_reply": "2024-09-22T02:09:14.388195Z",
     "shell.execute_reply.started": "2024-09-22T02:09:14.381634Z"
    }
   },
   "outputs": [
    {
     "data": {
      "text/html": [
       "<div>\n",
       "<style scoped>\n",
       "    .dataframe tbody tr th:only-of-type {\n",
       "        vertical-align: middle;\n",
       "    }\n",
       "\n",
       "    .dataframe tbody tr th {\n",
       "        vertical-align: top;\n",
       "    }\n",
       "\n",
       "    .dataframe thead th {\n",
       "        text-align: right;\n",
       "    }\n",
       "</style>\n",
       "<table border=\"1\" class=\"dataframe\">\n",
       "  <thead>\n",
       "    <tr style=\"text-align: right;\">\n",
       "      <th></th>\n",
       "      <th>uniref_code</th>\n",
       "      <th>name</th>\n",
       "      <th>uniref_identifier</th>\n",
       "    </tr>\n",
       "  </thead>\n",
       "  <tbody>\n",
       "    <tr>\n",
       "      <th>0</th>\n",
       "      <td>648330</td>\n",
       "      <td>Aedes albopictus densovirus (isolate Boublik/1...</td>\n",
       "      <td>AADNV</td>\n",
       "    </tr>\n",
       "    <tr>\n",
       "      <th>1</th>\n",
       "      <td>10804</td>\n",
       "      <td>Adeno-associated virus 2</td>\n",
       "      <td>AAV2</td>\n",
       "    </tr>\n",
       "    <tr>\n",
       "      <th>2</th>\n",
       "      <td>648242</td>\n",
       "      <td>Adeno-associated virus 2 (isolate Srivastava/1...</td>\n",
       "      <td>AAV2S</td>\n",
       "    </tr>\n",
       "    <tr>\n",
       "      <th>3</th>\n",
       "      <td>3053407</td>\n",
       "      <td>Abaeis boisduvaliana</td>\n",
       "      <td>ABABO</td>\n",
       "    </tr>\n",
       "    <tr>\n",
       "      <th>4</th>\n",
       "      <td>118452</td>\n",
       "      <td>Abacion magnum</td>\n",
       "      <td>ABAMA</td>\n",
       "    </tr>\n",
       "  </tbody>\n",
       "</table>\n",
       "</div>"
      ],
      "text/plain": [
       "   uniref_code                                               name  \\\n",
       "0       648330  Aedes albopictus densovirus (isolate Boublik/1...   \n",
       "1        10804                           Adeno-associated virus 2   \n",
       "2       648242  Adeno-associated virus 2 (isolate Srivastava/1...   \n",
       "3      3053407                               Abaeis boisduvaliana   \n",
       "4       118452                                     Abacion magnum   \n",
       "\n",
       "  uniref_identifier  \n",
       "0             AADNV  \n",
       "1             AAV2   \n",
       "2             AAV2S  \n",
       "3             ABABO  \n",
       "4             ABAMA  "
      ]
     },
     "execution_count": 36,
     "metadata": {},
     "output_type": "execute_result"
    }
   ],
   "source": [
    "df.head()"
   ]
  },
  {
   "cell_type": "code",
   "execution_count": 7,
   "id": "3755c355-0c80-43f3-a3e2-75779fc07e1e",
   "metadata": {
    "execution": {
     "iopub.execute_input": "2024-09-22T01:40:30.152857Z",
     "iopub.status.busy": "2024-09-22T01:40:30.152482Z",
     "iopub.status.idle": "2024-09-22T01:40:30.942664Z",
     "shell.execute_reply": "2024-09-22T01:40:30.941981Z",
     "shell.execute_reply.started": "2024-09-22T01:40:30.152830Z"
    }
   },
   "outputs": [],
   "source": [
    "from ete3 import NCBITaxa\n",
    "ncbi = NCBITaxa()\n",
    "#ncbi.update_taxonomy_database()  # Download NCBI taxonomy"
   ]
  },
  {
   "cell_type": "code",
   "execution_count": 30,
   "id": "3872cc1e-34e6-4766-af28-3441ce333727",
   "metadata": {
    "execution": {
     "iopub.execute_input": "2024-09-22T02:08:22.803996Z",
     "iopub.status.busy": "2024-09-22T02:08:22.803618Z",
     "iopub.status.idle": "2024-09-22T02:08:22.833492Z",
     "shell.execute_reply": "2024-09-22T02:08:22.832889Z",
     "shell.execute_reply.started": "2024-09-22T02:08:22.803969Z"
    }
   },
   "outputs": [
    {
     "name": "stdout",
     "output_type": "stream",
     "text": [
      "10804 ======\n",
      "12 ['root', 'Viruses', 'Monodnaviria', 'Shotokuvirae', 'Cossaviricota', 'Quintoviricetes', 'Piccovirales', 'Parvoviridae', 'Parvovirinae', 'Dependoparvovirus', 'Dependoparvovirus primate1', 'adeno-associated virus 2']\n",
      "3053408 ======\n",
      "31 ['root', 'cellular organisms', 'Eukaryota', 'Opisthokonta', 'Metazoa', 'Eumetazoa', 'Bilateria', 'Protostomia', 'Ecdysozoa', 'Panarthropoda', 'Arthropoda', 'Mandibulata', 'Pancrustacea', 'Hexapoda', 'Insecta', 'Dicondylia', 'Pterygota', 'Neoptera', 'Endopterygota', 'Amphiesmenoptera', 'Lepidoptera', 'Glossata', 'Neolepidoptera', 'Heteroneura', 'Ditrysia', 'Obtectomera', 'Papilionoidea', 'Pieridae', 'Coliadinae', 'Abaeis', 'Abaeis mexicana']\n",
      "75332 ======\n",
      "30 ['root', 'cellular organisms', 'Eukaryota', 'Opisthokonta', 'Metazoa', 'Eumetazoa', 'Bilateria', 'Deuterostomia', 'Chordata', 'Craniata', 'Vertebrata', 'Gnathostomata', 'Teleostomi', 'Euteleostomi', 'Actinopterygii', 'Actinopteri', 'Neopterygii', 'Teleostei', 'Osteoglossocephalai', 'Clupeocephala', 'Otomorpha', 'Ostariophysi', 'Otophysi', 'Cypriniphysae', 'Cypriniformes', 'Cyprinoidei', 'Gobionidae', 'Gobioninae', 'Abbottina', 'Abbottina rivularis']\n",
      "183219 ======\n",
      "22 ['root', 'cellular organisms', 'Eukaryota', 'Viridiplantae', 'Streptophyta', 'Streptophytina', 'Embryophyta', 'Tracheophyta', 'Euphyllophyta', 'Spermatophyta', 'Magnoliopsida', 'Mesangiospermae', 'eudicotyledons', 'Gunneridae', 'Pentapetalae', 'rosids', 'malvids', 'Malvales', 'Malvaceae', 'Malvoideae', 'Abelmoschus', 'Abelmoschus ficulneus']\n",
      "45372 ======\n",
      "18 ['root', 'cellular organisms', 'Eukaryota', 'Viridiplantae', 'Streptophyta', 'Streptophytina', 'Embryophyta', 'Tracheophyta', 'Euphyllophyta', 'Spermatophyta', 'Acrogymnospermae', 'Pinopsida', 'Pinidae', 'Conifers I', 'Pinales', 'Pinaceae', 'Abies', 'Abies alba']\n",
      "97173 ======\n",
      "18 ['root', 'cellular organisms', 'Eukaryota', 'Viridiplantae', 'Streptophyta', 'Streptophytina', 'Embryophyta', 'Tracheophyta', 'Euphyllophyta', 'Spermatophyta', 'Acrogymnospermae', 'Pinopsida', 'Pinidae', 'Conifers I', 'Pinales', 'Pinaceae', 'Abies', 'Abies concolor']\n",
      "473868 ======\n",
      "31 ['root', 'cellular organisms', 'Eukaryota', 'Opisthokonta', 'Metazoa', 'Eumetazoa', 'Bilateria', 'Protostomia', 'Ecdysozoa', 'Panarthropoda', 'Arthropoda', 'Mandibulata', 'Pancrustacea', 'Hexapoda', 'Insecta', 'Dicondylia', 'Pterygota', 'Neoptera', 'Endopterygota', 'Amphiesmenoptera', 'Lepidoptera', 'Glossata', 'Neolepidoptera', 'Heteroneura', 'Ditrysia', 'Obtectomera', 'Papilionoidea', 'Riodinidae', 'Nemeobiinae', 'Abisara', 'Abisara fylloides']\n",
      "97170 ======\n",
      "18 ['root', 'cellular organisms', 'Eukaryota', 'Viridiplantae', 'Streptophyta', 'Streptophytina', 'Embryophyta', 'Tracheophyta', 'Euphyllophyta', 'Spermatophyta', 'Acrogymnospermae', 'Pinopsida', 'Pinidae', 'Conifers I', 'Pinales', 'Pinaceae', 'Abies', 'Abies koreana']\n",
      "97176 ======\n",
      "18 ['root', 'cellular organisms', 'Eukaryota', 'Viridiplantae', 'Streptophyta', 'Streptophytina', 'Embryophyta', 'Tracheophyta', 'Euphyllophyta', 'Spermatophyta', 'Acrogymnospermae', 'Pinopsida', 'Pinidae', 'Conifers I', 'Pinales', 'Pinaceae', 'Abies', 'Abies nebrodensis']\n",
      "283347 ======\n",
      "29 ['root', 'cellular organisms', 'Eukaryota', 'Opisthokonta', 'Metazoa', 'Eumetazoa', 'Bilateria', 'Deuterostomia', 'Chordata', 'Craniata', 'Vertebrata', 'Gnathostomata', 'Teleostomi', 'Euteleostomi', 'Sarcopterygii', 'Dipnotetrapodomorpha', 'Tetrapoda', 'Amniota', 'Sauropsida', 'Sauria', 'Lepidosauria', 'Squamata', 'Bifurcata', 'Unidentata', 'Scinciformata', 'Scincidae', 'Eugongylinae', 'Ablepharus', 'Ablepharus budaki']\n"
     ]
    }
   ],
   "source": [
    "for taxon_id in df['uniref_code'][1:40:4]:\n",
    "    print(f\"{taxon_id} ======\")\n",
    "    lineage = ncbi.get_lineage(taxon_id)\n",
    "    names = ncbi.get_taxid_translator(lineage)\n",
    "    \n",
    "    # Print higher-order taxonomy names\n",
    "    print(len(lineage), [names[taxid] for taxid in lineage])"
   ]
  },
  {
   "cell_type": "code",
   "execution_count": 51,
   "id": "b1af9cb0-7271-4dfe-a398-22d7bb8f4b27",
   "metadata": {
    "execution": {
     "iopub.execute_input": "2024-09-22T02:54:21.253612Z",
     "iopub.status.busy": "2024-09-22T02:54:21.253298Z",
     "iopub.status.idle": "2024-09-22T02:54:21.257841Z",
     "shell.execute_reply": "2024-09-22T02:54:21.257283Z",
     "shell.execute_reply.started": "2024-09-22T02:54:21.253580Z"
    }
   },
   "outputs": [
    {
     "data": {
      "text/plain": [
       "{1: 'no rank',\n",
       " 2759: 'superkingdom',\n",
       " 3193: 'clade',\n",
       " 3313: 'subclass',\n",
       " 3318: 'family',\n",
       " 3319: 'genus',\n",
       " 33090: 'kingdom',\n",
       " 35493: 'phylum',\n",
       " 58019: 'class',\n",
       " 58023: 'clade',\n",
       " 58024: 'clade',\n",
       " 78536: 'clade',\n",
       " 97170: 'species',\n",
       " 131221: 'subphylum',\n",
       " 131567: 'no rank',\n",
       " 1437180: 'clade',\n",
       " 1446380: 'order',\n",
       " 2821352: 'clade'}"
      ]
     },
     "execution_count": 51,
     "metadata": {},
     "output_type": "execute_result"
    }
   ],
   "source": [
    "ranks"
   ]
  },
  {
   "cell_type": "code",
   "execution_count": 45,
   "id": "ec166dfd-1cdc-4fbf-873c-70e0af3c9871",
   "metadata": {
    "execution": {
     "iopub.execute_input": "2024-09-22T02:46:26.969502Z",
     "iopub.status.busy": "2024-09-22T02:46:26.969115Z",
     "iopub.status.idle": "2024-09-22T02:46:26.973493Z",
     "shell.execute_reply": "2024-09-22T02:46:26.972943Z",
     "shell.execute_reply.started": "2024-09-22T02:46:26.969473Z"
    }
   },
   "outputs": [],
   "source": [
    "def parse_level(taxon_id, level):\n",
    "    try:\n",
    "        lineage = ncbi.get_lineage(taxon_id)\n",
    "        names = ncbi.get_taxid_translator(lineage)\n",
    "         \n",
    "        ranks = ncbi.get_rank(lineage)\n",
    "        \n",
    "        # Find the kingdom in the lineage\n",
    "        levels = [names[taxid] for taxid in lineage if ranks[taxid] == level]\n",
    "        return levels[0]\n",
    "        \n",
    "    except:\n",
    "        return \"\""
   ]
  },
  {
   "cell_type": "code",
   "execution_count": 41,
   "id": "d2e08ac9-610a-4293-9373-c6fe7474044f",
   "metadata": {
    "execution": {
     "iopub.execute_input": "2024-09-22T02:10:53.548221Z",
     "iopub.status.busy": "2024-09-22T02:10:53.547863Z",
     "iopub.status.idle": "2024-09-22T02:12:29.933142Z",
     "shell.execute_reply": "2024-09-22T02:12:29.932517Z",
     "shell.execute_reply.started": "2024-09-22T02:10:53.548197Z"
    }
   },
   "outputs": [],
   "source": [
    "import warnings\n",
    "warnings.filterwarnings(\"ignore\")\n"
   ]
  },
  {
   "cell_type": "code",
   "execution_count": 44,
   "id": "a33c6e01-d41d-47c8-942a-23946a86caf6",
   "metadata": {
    "execution": {
     "iopub.execute_input": "2024-09-22T02:45:22.868763Z",
     "iopub.status.busy": "2024-09-22T02:45:22.868389Z",
     "iopub.status.idle": "2024-09-22T02:45:22.887951Z",
     "shell.execute_reply": "2024-09-22T02:45:22.887356Z",
     "shell.execute_reply.started": "2024-09-22T02:45:22.868738Z"
    }
   },
   "outputs": [
    {
     "data": {
      "text/plain": [
       "(array(['', 'Bamfordvirae', 'Fungi', 'Heunggongvirae', 'Loebvirae',\n",
       "        'Metazoa', 'Orthornavirae', 'Pararnavirae', 'Sangervirae',\n",
       "        'Shotokuvirae', 'Trapavirae', 'Viridiplantae', 'Zilligvirae'],\n",
       "       dtype=object),\n",
       " array([ 5540,   176,  1102,   380,    14, 13270,  1744,   363,    10,\n",
       "          234,     2,  4802,    14]))"
      ]
     },
     "execution_count": 44,
     "metadata": {},
     "output_type": "execute_result"
    }
   ],
   "source": [
    "import numpy as np\n",
    "\n",
    "np.unique(df.kingdom.values, return_counts=True)"
   ]
  },
  {
   "cell_type": "code",
   "execution_count": 48,
   "id": "80670af0-b95c-46b8-800e-41cdc9d95577",
   "metadata": {
    "execution": {
     "iopub.execute_input": "2024-09-22T02:47:23.175797Z",
     "iopub.status.busy": "2024-09-22T02:47:23.175087Z",
     "iopub.status.idle": "2024-09-22T02:49:00.166085Z",
     "shell.execute_reply": "2024-09-22T02:49:00.165471Z",
     "shell.execute_reply.started": "2024-09-22T02:47:23.175758Z"
    }
   },
   "outputs": [],
   "source": [
    "import warnings\n",
    "warnings.filterwarnings(\"ignore\")\n",
    "df['superkingdom'] = df.uniref_code.map(lambda x: parse_level(x, \"superkingdom\"))"
   ]
  },
  {
   "cell_type": "code",
   "execution_count": 49,
   "id": "9cc551e0-4848-4a59-b041-31fbd0d7d389",
   "metadata": {
    "execution": {
     "iopub.execute_input": "2024-09-22T02:53:21.871233Z",
     "iopub.status.busy": "2024-09-22T02:53:21.870943Z",
     "iopub.status.idle": "2024-09-22T02:53:21.891122Z",
     "shell.execute_reply": "2024-09-22T02:53:21.890576Z",
     "shell.execute_reply.started": "2024-09-22T02:53:21.871210Z"
    }
   },
   "outputs": [
    {
     "data": {
      "text/plain": [
       "(array(['', 'Archaea', 'Bacteria', 'Eukaryota', 'Viruses'], dtype=object),\n",
       " array([  128,   330,  4259, 19855,  3079]))"
      ]
     },
     "execution_count": 49,
     "metadata": {},
     "output_type": "execute_result"
    }
   ],
   "source": [
    "np.unique(df.superkingdom, return_counts=True)"
   ]
  },
  {
   "cell_type": "code",
   "execution_count": 53,
   "id": "fa553f38-3cce-46e2-9e9a-fa95f0500208",
   "metadata": {
    "execution": {
     "iopub.execute_input": "2024-09-22T03:08:48.767059Z",
     "iopub.status.busy": "2024-09-22T03:08:48.766668Z",
     "iopub.status.idle": "2024-09-22T03:18:29.531191Z",
     "shell.execute_reply": "2024-09-22T03:18:29.530599Z",
     "shell.execute_reply.started": "2024-09-22T03:08:48.767033Z"
    }
   },
   "outputs": [],
   "source": [
    "import warnings\n",
    "warnings.filterwarnings(\"ignore\")\n",
    "# df['kingdom'] = df.uniref_code.map(lambda x: parse_kingdom(x, \"kingdom\"))\n",
    "df['phylum'] = df.uniref_code.map(lambda x: parse_level(x, \"phylum\"))\n",
    "df['class'] = df.uniref_code.map(lambda x: parse_level(x, \"class\"))\n",
    "df['order'] = df.uniref_code.map(lambda x: parse_level(x, \"order\"))\n",
    "df['family'] = df.uniref_code.map(lambda x: parse_level(x, \"family\"))\n",
    "df['genus'] = df.uniref_code.map(lambda x: parse_level(x, \"genus\"))\n",
    "df['species'] = df.uniref_code.map(lambda x: parse_level(x, \"species\"))"
   ]
  },
  {
   "cell_type": "code",
   "execution_count": 58,
   "id": "c90aa471-1bbe-4f36-8790-861c2321bf56",
   "metadata": {
    "execution": {
     "iopub.execute_input": "2024-09-22T04:00:47.729651Z",
     "iopub.status.busy": "2024-09-22T04:00:47.729263Z",
     "iopub.status.idle": "2024-09-22T04:00:47.770100Z",
     "shell.execute_reply": "2024-09-22T04:00:47.769477Z",
     "shell.execute_reply.started": "2024-09-22T04:00:47.729622Z"
    }
   },
   "outputs": [],
   "source": [
    "df = df.set_index(\"uniref_identifier\").join(org_df.set_index(\"organism_id\"))"
   ]
  },
  {
   "cell_type": "code",
   "execution_count": 60,
   "id": "355a716d-64b3-4112-9f21-947278c13341",
   "metadata": {
    "execution": {
     "iopub.execute_input": "2024-09-22T04:01:52.814254Z",
     "iopub.status.busy": "2024-09-22T04:01:52.813884Z",
     "iopub.status.idle": "2024-09-22T04:01:52.826452Z",
     "shell.execute_reply": "2024-09-22T04:01:52.825739Z",
     "shell.execute_reply.started": "2024-09-22T04:01:52.814230Z"
    }
   },
   "outputs": [
    {
     "data": {
      "text/html": [
       "<div>\n",
       "<style scoped>\n",
       "    .dataframe tbody tr th:only-of-type {\n",
       "        vertical-align: middle;\n",
       "    }\n",
       "\n",
       "    .dataframe tbody tr th {\n",
       "        vertical-align: top;\n",
       "    }\n",
       "\n",
       "    .dataframe thead th {\n",
       "        text-align: right;\n",
       "    }\n",
       "</style>\n",
       "<table border=\"1\" class=\"dataframe\">\n",
       "  <thead>\n",
       "    <tr style=\"text-align: right;\">\n",
       "      <th></th>\n",
       "      <th>uniref_code</th>\n",
       "      <th>name</th>\n",
       "      <th>kingdom</th>\n",
       "      <th>superkingdom</th>\n",
       "      <th>phylum</th>\n",
       "      <th>class</th>\n",
       "      <th>order</th>\n",
       "      <th>family</th>\n",
       "      <th>genus</th>\n",
       "      <th>species</th>\n",
       "      <th>organism_index</th>\n",
       "      <th>counts</th>\n",
       "    </tr>\n",
       "    <tr>\n",
       "      <th>uniref_identifier</th>\n",
       "      <th></th>\n",
       "      <th></th>\n",
       "      <th></th>\n",
       "      <th></th>\n",
       "      <th></th>\n",
       "      <th></th>\n",
       "      <th></th>\n",
       "      <th></th>\n",
       "      <th></th>\n",
       "      <th></th>\n",
       "      <th></th>\n",
       "      <th></th>\n",
       "    </tr>\n",
       "  </thead>\n",
       "  <tbody>\n",
       "    <tr>\n",
       "      <th>AADNV</th>\n",
       "      <td>648330</td>\n",
       "      <td>Aedes albopictus densovirus (isolate Boublik/1...</td>\n",
       "      <td>Shotokuvirae</td>\n",
       "      <td>Viruses</td>\n",
       "      <td>Cossaviricota</td>\n",
       "      <td>Quintoviricetes</td>\n",
       "      <td>Piccovirales</td>\n",
       "      <td>Parvoviridae</td>\n",
       "      <td>Brevihamaparvovirus</td>\n",
       "      <td>Brevihamaparvovirus dipteran1</td>\n",
       "      <td>3491.0</td>\n",
       "      <td>2.0</td>\n",
       "    </tr>\n",
       "    <tr>\n",
       "      <th>AAV2</th>\n",
       "      <td>10804</td>\n",
       "      <td>Adeno-associated virus 2</td>\n",
       "      <td>Shotokuvirae</td>\n",
       "      <td>Viruses</td>\n",
       "      <td>Cossaviricota</td>\n",
       "      <td>Quintoviricetes</td>\n",
       "      <td>Piccovirales</td>\n",
       "      <td>Parvoviridae</td>\n",
       "      <td>Dependoparvovirus</td>\n",
       "      <td>Dependoparvovirus primate1</td>\n",
       "      <td>NaN</td>\n",
       "      <td>NaN</td>\n",
       "    </tr>\n",
       "    <tr>\n",
       "      <th>AAV2S</th>\n",
       "      <td>648242</td>\n",
       "      <td>Adeno-associated virus 2 (isolate Srivastava/1...</td>\n",
       "      <td>Shotokuvirae</td>\n",
       "      <td>Viruses</td>\n",
       "      <td>Cossaviricota</td>\n",
       "      <td>Quintoviricetes</td>\n",
       "      <td>Piccovirales</td>\n",
       "      <td>Parvoviridae</td>\n",
       "      <td>Dependoparvovirus</td>\n",
       "      <td>Dependoparvovirus primate1</td>\n",
       "      <td>3489.0</td>\n",
       "      <td>4.0</td>\n",
       "    </tr>\n",
       "    <tr>\n",
       "      <th>ABABO</th>\n",
       "      <td>3053407</td>\n",
       "      <td>Abaeis boisduvaliana</td>\n",
       "      <td>Metazoa</td>\n",
       "      <td>Eukaryota</td>\n",
       "      <td>Arthropoda</td>\n",
       "      <td>Insecta</td>\n",
       "      <td>Lepidoptera</td>\n",
       "      <td>Pieridae</td>\n",
       "      <td>Abaeis</td>\n",
       "      <td>Abaeis boisduvaliana</td>\n",
       "      <td>NaN</td>\n",
       "      <td>NaN</td>\n",
       "    </tr>\n",
       "    <tr>\n",
       "      <th>ABAMA</th>\n",
       "      <td>118452</td>\n",
       "      <td>Abacion magnum</td>\n",
       "      <td>Metazoa</td>\n",
       "      <td>Eukaryota</td>\n",
       "      <td>Arthropoda</td>\n",
       "      <td>Diplopoda</td>\n",
       "      <td>Callipodida</td>\n",
       "      <td>Callipodidae</td>\n",
       "      <td>Abacion</td>\n",
       "      <td>Abacion magnum</td>\n",
       "      <td>NaN</td>\n",
       "      <td>NaN</td>\n",
       "    </tr>\n",
       "  </tbody>\n",
       "</table>\n",
       "</div>"
      ],
      "text/plain": [
       "                   uniref_code  \\\n",
       "uniref_identifier                \n",
       "AADNV                   648330   \n",
       "AAV2                     10804   \n",
       "AAV2S                   648242   \n",
       "ABABO                  3053407   \n",
       "ABAMA                   118452   \n",
       "\n",
       "                                                                name  \\\n",
       "uniref_identifier                                                      \n",
       "AADNV              Aedes albopictus densovirus (isolate Boublik/1...   \n",
       "AAV2                                        Adeno-associated virus 2   \n",
       "AAV2S              Adeno-associated virus 2 (isolate Srivastava/1...   \n",
       "ABABO                                           Abaeis boisduvaliana   \n",
       "ABAMA                                                 Abacion magnum   \n",
       "\n",
       "                        kingdom superkingdom         phylum            class  \\\n",
       "uniref_identifier                                                              \n",
       "AADNV              Shotokuvirae      Viruses  Cossaviricota  Quintoviricetes   \n",
       "AAV2               Shotokuvirae      Viruses  Cossaviricota  Quintoviricetes   \n",
       "AAV2S              Shotokuvirae      Viruses  Cossaviricota  Quintoviricetes   \n",
       "ABABO                   Metazoa    Eukaryota     Arthropoda          Insecta   \n",
       "ABAMA                   Metazoa    Eukaryota     Arthropoda        Diplopoda   \n",
       "\n",
       "                          order        family                genus  \\\n",
       "uniref_identifier                                                    \n",
       "AADNV              Piccovirales  Parvoviridae  Brevihamaparvovirus   \n",
       "AAV2               Piccovirales  Parvoviridae    Dependoparvovirus   \n",
       "AAV2S              Piccovirales  Parvoviridae    Dependoparvovirus   \n",
       "ABABO               Lepidoptera      Pieridae               Abaeis   \n",
       "ABAMA               Callipodida  Callipodidae              Abacion   \n",
       "\n",
       "                                         species  organism_index  counts  \n",
       "uniref_identifier                                                         \n",
       "AADNV              Brevihamaparvovirus dipteran1          3491.0     2.0  \n",
       "AAV2                  Dependoparvovirus primate1             NaN     NaN  \n",
       "AAV2S                 Dependoparvovirus primate1          3489.0     4.0  \n",
       "ABABO                       Abaeis boisduvaliana             NaN     NaN  \n",
       "ABAMA                             Abacion magnum             NaN     NaN  "
      ]
     },
     "execution_count": 60,
     "metadata": {},
     "output_type": "execute_result"
    }
   ],
   "source": [
    "df.head()"
   ]
  },
  {
   "cell_type": "code",
   "execution_count": 62,
   "id": "73d86184-1d3b-47b7-a264-1e45e9eed477",
   "metadata": {
    "execution": {
     "iopub.execute_input": "2024-09-22T04:02:21.415649Z",
     "iopub.status.busy": "2024-09-22T04:02:21.415248Z",
     "iopub.status.idle": "2024-09-22T04:02:21.567069Z",
     "shell.execute_reply": "2024-09-22T04:02:21.566415Z",
     "shell.execute_reply.started": "2024-09-22T04:02:21.415617Z"
    }
   },
   "outputs": [],
   "source": [
    "# df.to_csv(\"/data/lux70/data/uniref90/all_specs_parsed.csv\", index=True)"
   ]
  },
  {
   "cell_type": "code",
   "execution_count": 64,
   "id": "6a226705-1aff-45ba-9d8a-16ff722b2452",
   "metadata": {
    "execution": {
     "iopub.execute_input": "2024-09-22T04:02:45.044325Z",
     "iopub.status.busy": "2024-09-22T04:02:45.043907Z",
     "iopub.status.idle": "2024-09-22T04:02:45.058900Z",
     "shell.execute_reply": "2024-09-22T04:02:45.058311Z",
     "shell.execute_reply.started": "2024-09-22T04:02:45.044296Z"
    }
   },
   "outputs": [],
   "source": [
    "df = df.reset_index()"
   ]
  },
  {
   "cell_type": "code",
   "execution_count": 68,
   "id": "6cef142d-bfb1-495a-a622-36e6998f8f85",
   "metadata": {
    "execution": {
     "iopub.execute_input": "2024-09-22T04:03:25.157014Z",
     "iopub.status.busy": "2024-09-22T04:03:25.156644Z",
     "iopub.status.idle": "2024-09-22T04:03:25.162641Z",
     "shell.execute_reply": "2024-09-22T04:03:25.162061Z",
     "shell.execute_reply.started": "2024-09-22T04:03:25.156989Z"
    }
   },
   "outputs": [],
   "source": [
    "included_organisms_df = df[~df.organism_index.isna()]"
   ]
  },
  {
   "cell_type": "code",
   "execution_count": 69,
   "id": "2553ae8a-a8d9-4786-b619-24c3f190afe8",
   "metadata": {
    "execution": {
     "iopub.execute_input": "2024-09-22T04:03:51.532890Z",
     "iopub.status.busy": "2024-09-22T04:03:51.532499Z",
     "iopub.status.idle": "2024-09-22T04:03:51.537031Z",
     "shell.execute_reply": "2024-09-22T04:03:51.536317Z",
     "shell.execute_reply.started": "2024-09-22T04:03:51.532860Z"
    }
   },
   "outputs": [],
   "source": [
    "included_organisms_df['organism_index'] = included_organisms_df.organism_index.astype(int)"
   ]
  },
  {
   "cell_type": "code",
   "execution_count": 70,
   "id": "7791eb25-e097-4f7d-bd41-f645cf004ae3",
   "metadata": {
    "execution": {
     "iopub.execute_input": "2024-09-22T04:04:10.761186Z",
     "iopub.status.busy": "2024-09-22T04:04:10.760817Z",
     "iopub.status.idle": "2024-09-22T04:04:10.764917Z",
     "shell.execute_reply": "2024-09-22T04:04:10.764237Z",
     "shell.execute_reply.started": "2024-09-22T04:04:10.761161Z"
    }
   },
   "outputs": [],
   "source": [
    "included_organisms_df['counts'] = included_organisms_df.counts.astype(int)"
   ]
  },
  {
   "cell_type": "code",
   "execution_count": 71,
   "id": "19504a03-808d-428f-ae6e-83b8b9f2d9a9",
   "metadata": {
    "execution": {
     "iopub.execute_input": "2024-09-22T04:04:16.810711Z",
     "iopub.status.busy": "2024-09-22T04:04:16.810334Z",
     "iopub.status.idle": "2024-09-22T04:04:16.822221Z",
     "shell.execute_reply": "2024-09-22T04:04:16.821516Z",
     "shell.execute_reply.started": "2024-09-22T04:04:16.810683Z"
    }
   },
   "outputs": [
    {
     "data": {
      "text/html": [
       "<div>\n",
       "<style scoped>\n",
       "    .dataframe tbody tr th:only-of-type {\n",
       "        vertical-align: middle;\n",
       "    }\n",
       "\n",
       "    .dataframe tbody tr th {\n",
       "        vertical-align: top;\n",
       "    }\n",
       "\n",
       "    .dataframe thead th {\n",
       "        text-align: right;\n",
       "    }\n",
       "</style>\n",
       "<table border=\"1\" class=\"dataframe\">\n",
       "  <thead>\n",
       "    <tr style=\"text-align: right;\">\n",
       "      <th></th>\n",
       "      <th>uniref_identifier</th>\n",
       "      <th>uniref_code</th>\n",
       "      <th>name</th>\n",
       "      <th>kingdom</th>\n",
       "      <th>superkingdom</th>\n",
       "      <th>phylum</th>\n",
       "      <th>class</th>\n",
       "      <th>order</th>\n",
       "      <th>family</th>\n",
       "      <th>genus</th>\n",
       "      <th>species</th>\n",
       "      <th>organism_index</th>\n",
       "      <th>counts</th>\n",
       "    </tr>\n",
       "  </thead>\n",
       "  <tbody>\n",
       "    <tr>\n",
       "      <th>0</th>\n",
       "      <td>AADNV</td>\n",
       "      <td>648330</td>\n",
       "      <td>Aedes albopictus densovirus (isolate Boublik/1...</td>\n",
       "      <td>Shotokuvirae</td>\n",
       "      <td>Viruses</td>\n",
       "      <td>Cossaviricota</td>\n",
       "      <td>Quintoviricetes</td>\n",
       "      <td>Piccovirales</td>\n",
       "      <td>Parvoviridae</td>\n",
       "      <td>Brevihamaparvovirus</td>\n",
       "      <td>Brevihamaparvovirus dipteran1</td>\n",
       "      <td>3491</td>\n",
       "      <td>2</td>\n",
       "    </tr>\n",
       "    <tr>\n",
       "      <th>2</th>\n",
       "      <td>AAV2S</td>\n",
       "      <td>648242</td>\n",
       "      <td>Adeno-associated virus 2 (isolate Srivastava/1...</td>\n",
       "      <td>Shotokuvirae</td>\n",
       "      <td>Viruses</td>\n",
       "      <td>Cossaviricota</td>\n",
       "      <td>Quintoviricetes</td>\n",
       "      <td>Piccovirales</td>\n",
       "      <td>Parvoviridae</td>\n",
       "      <td>Dependoparvovirus</td>\n",
       "      <td>Dependoparvovirus primate1</td>\n",
       "      <td>3489</td>\n",
       "      <td>4</td>\n",
       "    </tr>\n",
       "    <tr>\n",
       "      <th>22</th>\n",
       "      <td>ABIDE</td>\n",
       "      <td>46125</td>\n",
       "      <td>Abiotrophia defectiva</td>\n",
       "      <td></td>\n",
       "      <td>Bacteria</td>\n",
       "      <td>Bacillota</td>\n",
       "      <td>Bacilli</td>\n",
       "      <td>Lactobacillales</td>\n",
       "      <td>Aerococcaceae</td>\n",
       "      <td>Abiotrophia</td>\n",
       "      <td>Abiotrophia defectiva</td>\n",
       "      <td>2236</td>\n",
       "      <td>2411</td>\n",
       "    </tr>\n",
       "    <tr>\n",
       "      <th>40</th>\n",
       "      <td>ABLVB</td>\n",
       "      <td>446561</td>\n",
       "      <td>Australian bat lyssavirus (isolate Bat/AUS/1996)</td>\n",
       "      <td>Orthornavirae</td>\n",
       "      <td>Viruses</td>\n",
       "      <td>Negarnaviricota</td>\n",
       "      <td>Monjiviricetes</td>\n",
       "      <td>Mononegavirales</td>\n",
       "      <td>Rhabdoviridae</td>\n",
       "      <td>Lyssavirus</td>\n",
       "      <td>Lyssavirus australis</td>\n",
       "      <td>3422</td>\n",
       "      <td>8</td>\n",
       "    </tr>\n",
       "    <tr>\n",
       "      <th>43</th>\n",
       "      <td>ABPVR</td>\n",
       "      <td>1217067</td>\n",
       "      <td>Acute bee paralysis virus (strain Rothamsted)</td>\n",
       "      <td>Orthornavirae</td>\n",
       "      <td>Viruses</td>\n",
       "      <td>Pisuviricota</td>\n",
       "      <td>Pisoniviricetes</td>\n",
       "      <td>Picornavirales</td>\n",
       "      <td>Dicistroviridae</td>\n",
       "      <td>Aparavirus</td>\n",
       "      <td>Aparavirus apisacutum</td>\n",
       "      <td>3093</td>\n",
       "      <td>6</td>\n",
       "    </tr>\n",
       "  </tbody>\n",
       "</table>\n",
       "</div>"
      ],
      "text/plain": [
       "   uniref_identifier  uniref_code  \\\n",
       "0              AADNV       648330   \n",
       "2              AAV2S       648242   \n",
       "22             ABIDE        46125   \n",
       "40             ABLVB       446561   \n",
       "43             ABPVR      1217067   \n",
       "\n",
       "                                                 name        kingdom  \\\n",
       "0   Aedes albopictus densovirus (isolate Boublik/1...   Shotokuvirae   \n",
       "2   Adeno-associated virus 2 (isolate Srivastava/1...   Shotokuvirae   \n",
       "22                              Abiotrophia defectiva                  \n",
       "40   Australian bat lyssavirus (isolate Bat/AUS/1996)  Orthornavirae   \n",
       "43      Acute bee paralysis virus (strain Rothamsted)  Orthornavirae   \n",
       "\n",
       "   superkingdom           phylum            class            order  \\\n",
       "0       Viruses    Cossaviricota  Quintoviricetes     Piccovirales   \n",
       "2       Viruses    Cossaviricota  Quintoviricetes     Piccovirales   \n",
       "22     Bacteria        Bacillota          Bacilli  Lactobacillales   \n",
       "40      Viruses  Negarnaviricota   Monjiviricetes  Mononegavirales   \n",
       "43      Viruses     Pisuviricota  Pisoniviricetes   Picornavirales   \n",
       "\n",
       "             family                genus                        species  \\\n",
       "0      Parvoviridae  Brevihamaparvovirus  Brevihamaparvovirus dipteran1   \n",
       "2      Parvoviridae    Dependoparvovirus     Dependoparvovirus primate1   \n",
       "22    Aerococcaceae          Abiotrophia          Abiotrophia defectiva   \n",
       "40    Rhabdoviridae           Lyssavirus           Lyssavirus australis   \n",
       "43  Dicistroviridae           Aparavirus          Aparavirus apisacutum   \n",
       "\n",
       "    organism_index  counts  \n",
       "0             3491       2  \n",
       "2             3489       4  \n",
       "22            2236    2411  \n",
       "40            3422       8  \n",
       "43            3093       6  "
      ]
     },
     "execution_count": 71,
     "metadata": {},
     "output_type": "execute_result"
    }
   ],
   "source": [
    "included_organisms_df.head()"
   ]
  },
  {
   "cell_type": "code",
   "execution_count": 72,
   "id": "d7c87496-f6f6-4cde-8b0a-8eb67fbd2038",
   "metadata": {
    "execution": {
     "iopub.execute_input": "2024-09-22T04:05:19.460595Z",
     "iopub.status.busy": "2024-09-22T04:05:19.460217Z",
     "iopub.status.idle": "2024-09-22T04:05:19.491080Z",
     "shell.execute_reply": "2024-09-22T04:05:19.490415Z",
     "shell.execute_reply.started": "2024-09-22T04:05:19.460570Z"
    }
   },
   "outputs": [],
   "source": [
    "# included_organisms_df.to_csv(\"/data/lux70/data/pfam/organism_hierarchy.csv\", index=False)"
   ]
  },
  {
   "cell_type": "code",
   "execution_count": 74,
   "id": "8317c137-bbde-4298-b206-25b2c1f8d506",
   "metadata": {
    "execution": {
     "iopub.execute_input": "2024-09-22T04:05:45.393118Z",
     "iopub.status.busy": "2024-09-22T04:05:45.392727Z",
     "iopub.status.idle": "2024-09-22T04:05:45.399346Z",
     "shell.execute_reply": "2024-09-22T04:05:45.398721Z",
     "shell.execute_reply.started": "2024-09-22T04:05:45.393083Z"
    }
   },
   "outputs": [
    {
     "data": {
      "text/plain": [
       "(array(['', 'Bamfordvirae', 'Fungi', 'Heunggongvirae', 'Loebvirae',\n",
       "        'Metazoa', 'Orthornavirae', 'Pararnavirae', 'Sangervirae',\n",
       "        'Shotokuvirae', 'Trapavirae', 'Viridiplantae', 'Zilligvirae'],\n",
       "       dtype=object),\n",
       " array([1548,   61,  371,  145,    8,  642,  267,   62,    5,   95,    1,\n",
       "         166,    7]))"
      ]
     },
     "execution_count": 74,
     "metadata": {},
     "output_type": "execute_result"
    }
   ],
   "source": [
    "np.unique(included_organisms_df.kingdom, return_counts=True)"
   ]
  },
  {
   "cell_type": "code",
   "execution_count": 76,
   "id": "6ad3f4e0-9378-4396-8da1-a6a4346075ad",
   "metadata": {
    "execution": {
     "iopub.execute_input": "2024-09-22T04:06:15.463384Z",
     "iopub.status.busy": "2024-09-22T04:06:15.462988Z",
     "iopub.status.idle": "2024-09-22T04:06:15.470187Z",
     "shell.execute_reply": "2024-09-22T04:06:15.469512Z",
     "shell.execute_reply.started": "2024-09-22T04:06:15.463354Z"
    }
   },
   "outputs": [
    {
     "data": {
      "text/plain": [
       "(array(['', 'Archaea', 'Bacteria', 'Eukaryota', 'Viruses'], dtype=object),\n",
       " array([  33,  109, 1247, 1295,  694]))"
      ]
     },
     "execution_count": 76,
     "metadata": {},
     "output_type": "execute_result"
    }
   ],
   "source": [
    "np.unique(included_organisms_df.superkingdom, return_counts=True)"
   ]
  },
  {
   "cell_type": "code",
   "execution_count": 77,
   "id": "4529c47d-8e10-4415-95f6-4eed283e37ce",
   "metadata": {
    "execution": {
     "iopub.execute_input": "2024-09-22T04:07:07.216951Z",
     "iopub.status.busy": "2024-09-22T04:07:07.216651Z",
     "iopub.status.idle": "2024-09-22T04:07:07.224124Z",
     "shell.execute_reply": "2024-09-22T04:07:07.223519Z",
     "shell.execute_reply.started": "2024-09-22T04:07:07.216921Z"
    }
   },
   "outputs": [
    {
     "data": {
      "text/plain": [
       "(array(['', 'Acidobacteriota', 'Actinomycetota', 'Annelida', 'Apicomplexa',\n",
       "        'Aquificota', 'Armatimonadota', 'Arthropoda', 'Artverviricota',\n",
       "        'Ascomycota', 'Bacillariophyta', 'Bacillota', 'Bacteroidota',\n",
       "        'Basidiomycota', 'Bdellovibrionota', 'Blastocladiomycota',\n",
       "        'Brachiopoda', 'Bryozoa', 'Caldisericota', 'Campylobacterota',\n",
       "        'Candidatus Cloacimonadota', 'Candidatus Micrarchaeota',\n",
       "        'Candidatus Parvarchaeota', 'Candidatus Thermoplasmatota',\n",
       "        'Chlamydiota', 'Chlorobiota', 'Chloroflexota', 'Chlorophyta',\n",
       "        'Chordata', 'Chytridiomycota', 'Ciliophora', 'Cnidaria',\n",
       "        'Coprothermobacterota', 'Cossaviricota', 'Cressdnaviricota',\n",
       "        'Cryptomycota', 'Cyanobacteriota', 'Deferribacterota',\n",
       "        'Deinococcota', 'Dictyoglomota', 'Discosea', 'Duplornaviricota',\n",
       "        'Echinodermata', 'Elusimicrobiota', 'Endomyxa', 'Euglenozoa',\n",
       "        'Euryarchaeota', 'Evosea', 'Fibrobacterota', 'Foraminifera',\n",
       "        'Fornicata', 'Fusobacteriota', 'Gemmatimonadota', 'Haptophyta',\n",
       "        'Heterolobosea', 'Hofneiviricota', 'Ignavibacteriota',\n",
       "        'Kitrinoviricota', 'Lenarviricota', 'Microsporidia', 'Mollusca',\n",
       "        'Mucoromycota', 'Mycoplasmatota', 'Myxococcota', 'Nanoarchaeota',\n",
       "        'Negarnaviricota', 'Nematoda', 'Nitrososphaerota', 'Nitrospinota',\n",
       "        'Nitrospirota', 'Nucleocytoviricota', 'Oomycota', 'Parabasalia',\n",
       "        'Peploviricota', 'Perkinsozoa', 'Phixviricota', 'Pisuviricota',\n",
       "        'Placozoa', 'Planctomycetota', 'Platyhelminthes', 'Porifera',\n",
       "        'Preplasmiviricota', 'Pseudomonadota', 'Rhodophyta',\n",
       "        'Rhodothermota', 'Rotifera', 'Saleviricota', 'Spirochaetota',\n",
       "        'Streptophyta', 'Synergistota', 'Taleaviricota', 'Tardigrada',\n",
       "        'Thermodesulfobacteriota', 'Thermomicrobiota', 'Thermoproteota',\n",
       "        'Thermosulfidibacterota', 'Thermotogota', 'Uroviricota',\n",
       "        'Verrucomicrobiota', 'Zoopagomycota'], dtype=object),\n",
       " array([110,   8, 223,   3,  30,   7,   2, 118,  62, 255,   4, 224,  74,\n",
       "         80,   5,   1,   1,   1,   1,  22,   1,   1,   2,   8,   8,   9,\n",
       "         10,  15, 430,   5,   8,   7,   1,  73,  22,   1,  53,   4,  14,\n",
       "          1,   1,  33,   3,   2,   1,  13,  66,   7,   1,   1,   2,   9,\n",
       "          1,   2,   2,   8,   2,  65,   7,  10,  11,  14,  35,   9,   2,\n",
       "         75,  40,   4,   1,   4,  40,  12,   1,  34,   3,   5,  82,   1,\n",
       "          9,  20,   1,  21, 419,   7,   1,   2,   1,  26, 151,   4,   7,\n",
       "          2,  39,   1,  25,   1,   8, 111,   6,   3]))"
      ]
     },
     "execution_count": 77,
     "metadata": {},
     "output_type": "execute_result"
    }
   ],
   "source": [
    "np.unique(included_organisms_df.phylum, return_counts=True)"
   ]
  },
  {
   "cell_type": "code",
   "execution_count": null,
   "id": "e0f92505-4d5c-4496-a08c-2d3d66551e4e",
   "metadata": {},
   "outputs": [],
   "source": []
  }
 ],
 "metadata": {
  "kernelspec": {
   "display_name": "Python (omegafold)",
   "language": "python",
   "name": "omegafold"
  },
  "language_info": {
   "codemirror_mode": {
    "name": "ipython",
    "version": 3
   },
   "file_extension": ".py",
   "mimetype": "text/x-python",
   "name": "python",
   "nbconvert_exporter": "python",
   "pygments_lexer": "ipython3",
   "version": "3.9.12"
  }
 },
 "nbformat": 4,
 "nbformat_minor": 5
}
