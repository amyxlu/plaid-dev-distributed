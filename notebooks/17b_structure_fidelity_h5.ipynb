{
 "cells": [
  {
   "cell_type": "code",
   "execution_count": 1,
   "metadata": {},
   "outputs": [],
   "source": [
    "%load_ext autoreload\n",
    "%autoreload 2"
   ]
  },
  {
   "cell_type": "code",
   "execution_count": 3,
   "metadata": {},
   "outputs": [
    {
     "name": "stdout",
     "output_type": "stream",
     "text": [
      "32\n"
     ]
    }
   ],
   "source": [
    "from plaid.datasets import CATHStructureDataModule\n",
    "\n",
    "shard_dir = \"/data/lux70/data/cath/shards/\"\n",
    "pdb_dir = \"/data/bucket/lux70/data/cath/dompdb\"\n",
    "# shard_dir = \"/data/lux70/data/rocklin/shards/\"\n",
    "# pdb_dir = \"/data/bucket/lux70/data/rocklin/structures/\"\n",
    "\n",
    "max_seq_len=256\n",
    "dm = CATHStructureDataModule(\n",
    "    shard_dir,\n",
    "    pdb_dir,\n",
    "    seq_len=max_seq_len,\n",
    "    batch_size=32,\n",
    "    max_num_samples=32,\n",
    "    shuffle_val_dataset=False\n",
    ") \n",
    "    \n",
    "dm.setup()\n",
    "val_dataloader = dm.val_dataloader()\n",
    "batch = next(iter(val_dataloader))\n",
    "print(len(val_dataloader.dataset))"
   ]
  },
  {
   "cell_type": "code",
   "execution_count": 6,
   "metadata": {},
   "outputs": [
    {
     "name": "stdout",
     "output_type": "stream",
     "text": [
      "loading esmfold model...\n",
      "ESMFold model created in 46.14 seconds.\n"
     ]
    },
    {
     "data": {
      "text/plain": [
       "<cheap.proteins.LatentToStructure at 0x7f21472edd00>"
      ]
     },
     "execution_count": 6,
     "metadata": {},
     "output_type": "execute_result"
    }
   ],
   "source": [
    "from cheap.proteins import LatentToSequence, LatentToStructure\n",
    "import torch\n",
    "device = torch.device(\"cuda\" if torch.cuda.is_available() else \"cpu\")\n",
    "l2seq = LatentToSequence()\n",
    "l2struct = LatentToStructure()\n",
    "l2struct.to(device)"
   ]
  },
  {
   "cell_type": "code",
   "execution_count": 7,
   "metadata": {},
   "outputs": [
    {
     "ename": "ValueError",
     "evalue": "too many values to unpack (expected 2)",
     "output_type": "error",
     "traceback": [
      "\u001b[0;31m---------------------------------------------------------------------------\u001b[0m",
      "\u001b[0;31mValueError\u001b[0m                                Traceback (most recent call last)",
      "Cell \u001b[0;32mIn[7], line 1\u001b[0m\n\u001b[0;32m----> 1\u001b[0m x, sequences \u001b[38;5;241m=\u001b[39m batch\n\u001b[1;32m      2\u001b[0m headers \u001b[38;5;241m=\u001b[39m [seq_to_header[s] \u001b[38;5;28;01mfor\u001b[39;00m s \u001b[38;5;129;01min\u001b[39;00m sequences]\n\u001b[1;32m      3\u001b[0m seqs \u001b[38;5;241m=\u001b[39m [s[:\u001b[38;5;241m64\u001b[39m] \u001b[38;5;28;01mfor\u001b[39;00m s \u001b[38;5;129;01min\u001b[39;00m sequences]\n",
      "\u001b[0;31mValueError\u001b[0m: too many values to unpack (expected 2)"
     ]
    }
   ],
   "source": [
    "x, sequences = batch\n",
    "headers = [seq_to_header[s] for s in sequences]\n",
    "seqs = [s[:64] for s in sequences]"
   ]
  },
  {
   "cell_type": "code",
   "execution_count": null,
   "metadata": {},
   "outputs": [],
   "source": [
    "pdbstrs, raw_outputs, metrics = l2struct.to_structure(x.to(torch.float32), seqs, num_recycles=4, return_metrics=True)"
   ]
  },
  {
   "cell_type": "code",
   "execution_count": null,
   "metadata": {},
   "outputs": [],
   "source": [
    "metrics"
   ]
  },
  {
   "cell_type": "code",
   "execution_count": 15,
   "metadata": {},
   "outputs": [],
   "source": [
    "for i in range(10):\n",
    "    with open(\"pred_from_latent_{}.pdb\".format(i), \"w\") as f:\n",
    "        f.write(pdbstrs[i])"
   ]
  },
  {
   "cell_type": "code",
   "execution_count": null,
   "metadata": {},
   "outputs": [],
   "source": [
    "# del l2struct"
   ]
  },
  {
   "cell_type": "code",
   "execution_count": 16,
   "metadata": {},
   "outputs": [],
   "source": [
    "from plaid.esmfold import esmfold_v1\n",
    "efold = esmfold_v1()"
   ]
  },
  {
   "cell_type": "code",
   "execution_count": 17,
   "metadata": {},
   "outputs": [],
   "source": [
    "efold.to(device)\n",
    "with torch.no_grad():\n",
    "    pdbstr_inferred = efold.infer_pdbs(seqs)"
   ]
  },
  {
   "cell_type": "code",
   "execution_count": 18,
   "metadata": {},
   "outputs": [],
   "source": [
    "for i in range(10):\n",
    "    with open(\"pred_from_seq_{}.pdb\".format(i), \"w\") as f:\n",
    "        f.write(pdbstr_inferred[i])"
   ]
  },
  {
   "cell_type": "code",
   "execution_count": 20,
   "metadata": {},
   "outputs": [],
   "source": [
    "import os\n",
    "import shutil\n",
    "for i, name in enumerate(cath_ids[:10]):\n",
    "    original = \"/shared/amyxlu/data/cath/full/dompdb/\" + name\n",
    "    shutil.copy(original, f\"{i}_name.pdb\")\n",
    "    "
   ]
  },
  {
   "cell_type": "code",
   "execution_count": 19,
   "metadata": {},
   "outputs": [
    {
     "data": {
      "text/plain": [
       "[0.3898,\n",
       " 0.89816,\n",
       " 0.4072,\n",
       " 0.33646,\n",
       " 0.82221,\n",
       " 0.26164,\n",
       " 0.20608,\n",
       " 0.36169,\n",
       " 0.78232,\n",
       " 0.60658]"
      ]
     },
     "execution_count": 19,
     "metadata": {},
     "output_type": "execute_result"
    }
   ],
   "source": [
    "from plaid.evaluation import run_tmalign\n",
    "scores = []\n",
    "for i in range(10):\n",
    "    tmscore = run_tmalign(f\"pred_from_latent_{i}.pdb\", f\"pred_from_seq_{i}.pdb\")\n",
    "    scores.append(tmscore)\n",
    "\n",
    "scores"
   ]
  },
  {
   "cell_type": "code",
   "execution_count": 21,
   "metadata": {},
   "outputs": [
    {
     "name": "stdout",
     "output_type": "stream",
     "text": [
      "[0.42449, 0.49204, 0.26532, 0.13074, 0.46336, 0.22204, 0.20049, 0.33428, 0.33495, 0.22423]\n"
     ]
    }
   ],
   "source": [
    "from plaid.evaluation import run_tmalign\n",
    "scores2 = []\n",
    "for i in range(10):\n",
    "    tmscore = run_tmalign(f\"pred_from_latent_{i}.pdb\", f\"{i}_name.pdb\")\n",
    "    scores2.append(tmscore)\n",
    "print(scores2)"
   ]
  },
  {
   "cell_type": "code",
   "execution_count": 22,
   "metadata": {},
   "outputs": [
    {
     "name": "stdout",
     "output_type": "stream",
     "text": [
      "[0.21496, 0.49122, 0.15789, 0.13635, 0.4812, 0.20423, 0.21574, 0.45479, 0.37716, 0.22346]\n"
     ]
    }
   ],
   "source": [
    "from plaid.evaluation import run_tmalign\n",
    "scores3 = []\n",
    "for i in range(10):\n",
    "    tmscore = run_tmalign(f\"pred_from_seq_{i}.pdb\", f\"{i}_name.pdb\")\n",
    "    scores3.append(tmscore)\n",
    "print(scores3)"
   ]
  }
 ],
 "metadata": {
  "kernelspec": {
   "display_name": "Python 3 (ipykernel)",
   "language": "python",
   "name": "python3"
  },
  "language_info": {
   "codemirror_mode": {
    "name": "ipython",
    "version": 3
   },
   "file_extension": ".py",
   "mimetype": "text/x-python",
   "name": "python",
   "nbconvert_exporter": "python",
   "pygments_lexer": "ipython3",
   "version": "3.12.2"
  }
 },
 "nbformat": 4,
 "nbformat_minor": 4
}
