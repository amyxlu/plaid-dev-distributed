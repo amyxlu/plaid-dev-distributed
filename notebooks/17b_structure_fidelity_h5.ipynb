{
 "cells": [
  {
   "cell_type": "code",
   "execution_count": 1,
   "metadata": {},
   "outputs": [],
   "source": [
    "%load_ext autoreload\n",
    "%autoreload 2"
   ]
  },
  {
   "cell_type": "code",
   "execution_count": 4,
   "metadata": {},
   "outputs": [],
   "source": [
    "from plaid.datasets import CATHShardedDataModule\n",
    "\n",
    "dm = CATHShardedDataModule(storage_type=\"hdf5\", dtype=\"fp32\", seq_len=64)\n",
    "dm.setup(\"fit\")\n",
    "dl = dm.train_dataloader()\n",
    "batch = next(iter(dl))\n",
    "\n",
    "seq_to_header = {v: k for k, v in dm.train_dataset.header_to_seq.items()}"
   ]
  },
  {
   "cell_type": "code",
   "execution_count": 3,
   "metadata": {},
   "outputs": [
    {
     "name": "stdout",
     "output_type": "stream",
     "text": [
      "loaded decoder from /home/amyxlu/plaid/plaid/utils/../../cached_tensors/decoder_vocab_21.ckpt\n"
     ]
    }
   ],
   "source": [
    "from plaid.utils import LatentToSequence, LatentToStructure\n",
    "import torch\n",
    "device = torch.device(\"cuda\" if torch.cuda.is_available() else \"cpu\")\n",
    "l2seq = LatentToSequence(device)\n",
    "l2struct = LatentToStructure(device)"
   ]
  },
  {
   "cell_type": "code",
   "execution_count": 6,
   "metadata": {},
   "outputs": [
    {
     "ename": "KeyError",
     "evalue": "'IFARDPSKLPDYRMIISHPMWWDLIKARLTRYEYTSPSAFINDMRLVVQNCYDYNREESPFSTL'",
     "output_type": "error",
     "traceback": [
      "\u001b[0;31m---------------------------------------------------------------------------\u001b[0m",
      "\u001b[0;31mKeyError\u001b[0m                                  Traceback (most recent call last)",
      "Cell \u001b[0;32mIn[6], line 2\u001b[0m\n\u001b[1;32m      1\u001b[0m x, sequences \u001b[38;5;241m=\u001b[39m batch\n\u001b[0;32m----> 2\u001b[0m headers \u001b[38;5;241m=\u001b[39m \u001b[43m[\u001b[49m\u001b[43mseq_to_header\u001b[49m\u001b[43m[\u001b[49m\u001b[43ms\u001b[49m\u001b[43m]\u001b[49m\u001b[43m \u001b[49m\u001b[38;5;28;43;01mfor\u001b[39;49;00m\u001b[43m \u001b[49m\u001b[43ms\u001b[49m\u001b[43m \u001b[49m\u001b[38;5;129;43;01min\u001b[39;49;00m\u001b[43m \u001b[49m\u001b[43msequences\u001b[49m\u001b[43m]\u001b[49m\n\u001b[1;32m      3\u001b[0m seqs \u001b[38;5;241m=\u001b[39m [s[:\u001b[38;5;241m64\u001b[39m] \u001b[38;5;28;01mfor\u001b[39;00m s \u001b[38;5;129;01min\u001b[39;00m sequences]\n",
      "Cell \u001b[0;32mIn[6], line 2\u001b[0m, in \u001b[0;36m<listcomp>\u001b[0;34m(.0)\u001b[0m\n\u001b[1;32m      1\u001b[0m x, sequences \u001b[38;5;241m=\u001b[39m batch\n\u001b[0;32m----> 2\u001b[0m headers \u001b[38;5;241m=\u001b[39m [\u001b[43mseq_to_header\u001b[49m\u001b[43m[\u001b[49m\u001b[43ms\u001b[49m\u001b[43m]\u001b[49m \u001b[38;5;28;01mfor\u001b[39;00m s \u001b[38;5;129;01min\u001b[39;00m sequences]\n\u001b[1;32m      3\u001b[0m seqs \u001b[38;5;241m=\u001b[39m [s[:\u001b[38;5;241m64\u001b[39m] \u001b[38;5;28;01mfor\u001b[39;00m s \u001b[38;5;129;01min\u001b[39;00m sequences]\n",
      "\u001b[0;31mKeyError\u001b[0m: 'IFARDPSKLPDYRMIISHPMWWDLIKARLTRYEYTSPSAFINDMRLVVQNCYDYNREESPFSTL'"
     ]
    }
   ],
   "source": [
    "x, sequences = batch\n",
    "headers = [seq_to_header[s] for s in sequences]\n",
    "seqs = [s[:64] for s in sequences]"
   ]
  },
  {
   "cell_type": "code",
   "execution_count": 12,
   "metadata": {},
   "outputs": [
    {
     "data": {
      "text/plain": [
       "['1h8mA00',\n",
       " '3tgnA03',\n",
       " '4g3aA00',\n",
       " '4rhiA00',\n",
       " '3cwzB03',\n",
       " '3m1cA04',\n",
       " '3qv0A00',\n",
       " '1rlhA02',\n",
       " '1u69A00',\n",
       " '1oznA00']"
      ]
     },
     "execution_count": 12,
     "metadata": {},
     "output_type": "execute_result"
    }
   ],
   "source": [
    "cath_ids = [h.split(\"|\")[2].split(\"/\")[0] for h in headers]\n",
    "cath_ids[:10]"
   ]
  },
  {
   "cell_type": "code",
   "execution_count": 13,
   "metadata": {},
   "outputs": [
    {
     "name": "stderr",
     "output_type": "stream",
     "text": [
      "(Generating structure from latents..):   0%|          | 0/1 [00:00<?, ?it/s]"
     ]
    },
    {
     "name": "stderr",
     "output_type": "stream",
     "text": [
      "(Generating structure from latents..): 100%|██████████| 1/1 [00:19<00:00, 19.81s/it]\n"
     ]
    }
   ],
   "source": [
    "pdbstrs, metrics = l2struct.to_structure(x.to(torch.float32), seqs, num_recycles=4)"
   ]
  },
  {
   "cell_type": "code",
   "execution_count": 14,
   "metadata": {},
   "outputs": [
    {
     "data": {
      "text/html": [
       "<div>\n",
       "<style scoped>\n",
       "    .dataframe tbody tr th:only-of-type {\n",
       "        vertical-align: middle;\n",
       "    }\n",
       "\n",
       "    .dataframe tbody tr th {\n",
       "        vertical-align: top;\n",
       "    }\n",
       "\n",
       "    .dataframe thead th {\n",
       "        text-align: right;\n",
       "    }\n",
       "</style>\n",
       "<table border=\"1\" class=\"dataframe\">\n",
       "  <thead>\n",
       "    <tr style=\"text-align: right;\">\n",
       "      <th></th>\n",
       "      <th>plddt</th>\n",
       "      <th>ptm</th>\n",
       "      <th>aligned_confidence_probs</th>\n",
       "      <th>predicted_aligned_error</th>\n",
       "    </tr>\n",
       "  </thead>\n",
       "  <tbody>\n",
       "    <tr>\n",
       "      <th>0</th>\n",
       "      <td>76.790588</td>\n",
       "      <td>0.764460</td>\n",
       "      <td>0.015625</td>\n",
       "      <td>2.912920</td>\n",
       "    </tr>\n",
       "    <tr>\n",
       "      <th>1</th>\n",
       "      <td>53.388073</td>\n",
       "      <td>0.426433</td>\n",
       "      <td>0.015625</td>\n",
       "      <td>12.359621</td>\n",
       "    </tr>\n",
       "    <tr>\n",
       "      <th>2</th>\n",
       "      <td>72.762375</td>\n",
       "      <td>0.730029</td>\n",
       "      <td>0.015625</td>\n",
       "      <td>3.674550</td>\n",
       "    </tr>\n",
       "    <tr>\n",
       "      <th>3</th>\n",
       "      <td>43.810520</td>\n",
       "      <td>0.126293</td>\n",
       "      <td>0.015625</td>\n",
       "      <td>21.946461</td>\n",
       "    </tr>\n",
       "    <tr>\n",
       "      <th>4</th>\n",
       "      <td>65.219398</td>\n",
       "      <td>0.621859</td>\n",
       "      <td>0.015625</td>\n",
       "      <td>7.050356</td>\n",
       "    </tr>\n",
       "    <tr>\n",
       "      <th>5</th>\n",
       "      <td>41.152943</td>\n",
       "      <td>0.206621</td>\n",
       "      <td>0.015625</td>\n",
       "      <td>16.407764</td>\n",
       "    </tr>\n",
       "    <tr>\n",
       "      <th>6</th>\n",
       "      <td>54.154346</td>\n",
       "      <td>0.285250</td>\n",
       "      <td>0.015625</td>\n",
       "      <td>20.142078</td>\n",
       "    </tr>\n",
       "    <tr>\n",
       "      <th>7</th>\n",
       "      <td>44.535862</td>\n",
       "      <td>0.275349</td>\n",
       "      <td>0.015625</td>\n",
       "      <td>13.622183</td>\n",
       "    </tr>\n",
       "    <tr>\n",
       "      <th>8</th>\n",
       "      <td>64.865936</td>\n",
       "      <td>0.606047</td>\n",
       "      <td>0.015625</td>\n",
       "      <td>7.890108</td>\n",
       "    </tr>\n",
       "    <tr>\n",
       "      <th>9</th>\n",
       "      <td>74.966965</td>\n",
       "      <td>0.725256</td>\n",
       "      <td>0.015625</td>\n",
       "      <td>3.258469</td>\n",
       "    </tr>\n",
       "    <tr>\n",
       "      <th>10</th>\n",
       "      <td>69.374184</td>\n",
       "      <td>0.631219</td>\n",
       "      <td>0.015625</td>\n",
       "      <td>4.939046</td>\n",
       "    </tr>\n",
       "    <tr>\n",
       "      <th>11</th>\n",
       "      <td>41.206360</td>\n",
       "      <td>0.266277</td>\n",
       "      <td>0.015625</td>\n",
       "      <td>17.885677</td>\n",
       "    </tr>\n",
       "    <tr>\n",
       "      <th>12</th>\n",
       "      <td>73.471825</td>\n",
       "      <td>0.734925</td>\n",
       "      <td>0.015625</td>\n",
       "      <td>4.161109</td>\n",
       "    </tr>\n",
       "    <tr>\n",
       "      <th>13</th>\n",
       "      <td>54.151196</td>\n",
       "      <td>0.296628</td>\n",
       "      <td>0.015625</td>\n",
       "      <td>16.229568</td>\n",
       "    </tr>\n",
       "    <tr>\n",
       "      <th>14</th>\n",
       "      <td>56.754620</td>\n",
       "      <td>0.515813</td>\n",
       "      <td>0.015625</td>\n",
       "      <td>9.877592</td>\n",
       "    </tr>\n",
       "    <tr>\n",
       "      <th>15</th>\n",
       "      <td>68.667770</td>\n",
       "      <td>0.587577</td>\n",
       "      <td>0.015625</td>\n",
       "      <td>7.149110</td>\n",
       "    </tr>\n",
       "    <tr>\n",
       "      <th>16</th>\n",
       "      <td>63.269241</td>\n",
       "      <td>0.496745</td>\n",
       "      <td>0.015625</td>\n",
       "      <td>8.378757</td>\n",
       "    </tr>\n",
       "    <tr>\n",
       "      <th>17</th>\n",
       "      <td>61.285435</td>\n",
       "      <td>0.537180</td>\n",
       "      <td>0.015625</td>\n",
       "      <td>7.844096</td>\n",
       "    </tr>\n",
       "    <tr>\n",
       "      <th>18</th>\n",
       "      <td>75.275703</td>\n",
       "      <td>0.753772</td>\n",
       "      <td>0.015625</td>\n",
       "      <td>3.990925</td>\n",
       "    </tr>\n",
       "    <tr>\n",
       "      <th>19</th>\n",
       "      <td>65.680031</td>\n",
       "      <td>0.556682</td>\n",
       "      <td>0.015625</td>\n",
       "      <td>11.995914</td>\n",
       "    </tr>\n",
       "    <tr>\n",
       "      <th>20</th>\n",
       "      <td>75.630447</td>\n",
       "      <td>0.783413</td>\n",
       "      <td>0.015625</td>\n",
       "      <td>3.445451</td>\n",
       "    </tr>\n",
       "    <tr>\n",
       "      <th>21</th>\n",
       "      <td>74.279762</td>\n",
       "      <td>0.676041</td>\n",
       "      <td>0.015625</td>\n",
       "      <td>3.944701</td>\n",
       "    </tr>\n",
       "    <tr>\n",
       "      <th>22</th>\n",
       "      <td>68.814240</td>\n",
       "      <td>0.595393</td>\n",
       "      <td>0.015625</td>\n",
       "      <td>7.095647</td>\n",
       "    </tr>\n",
       "    <tr>\n",
       "      <th>23</th>\n",
       "      <td>64.597107</td>\n",
       "      <td>0.577627</td>\n",
       "      <td>0.015625</td>\n",
       "      <td>10.073946</td>\n",
       "    </tr>\n",
       "    <tr>\n",
       "      <th>24</th>\n",
       "      <td>67.722893</td>\n",
       "      <td>0.679904</td>\n",
       "      <td>0.015625</td>\n",
       "      <td>6.976315</td>\n",
       "    </tr>\n",
       "    <tr>\n",
       "      <th>25</th>\n",
       "      <td>50.752342</td>\n",
       "      <td>0.425150</td>\n",
       "      <td>0.015625</td>\n",
       "      <td>13.419686</td>\n",
       "    </tr>\n",
       "    <tr>\n",
       "      <th>26</th>\n",
       "      <td>62.745644</td>\n",
       "      <td>0.527804</td>\n",
       "      <td>0.015625</td>\n",
       "      <td>6.745327</td>\n",
       "    </tr>\n",
       "    <tr>\n",
       "      <th>27</th>\n",
       "      <td>50.849377</td>\n",
       "      <td>0.366623</td>\n",
       "      <td>0.015625</td>\n",
       "      <td>13.726887</td>\n",
       "    </tr>\n",
       "    <tr>\n",
       "      <th>28</th>\n",
       "      <td>50.133488</td>\n",
       "      <td>0.378777</td>\n",
       "      <td>0.015625</td>\n",
       "      <td>13.454642</td>\n",
       "    </tr>\n",
       "    <tr>\n",
       "      <th>29</th>\n",
       "      <td>65.066154</td>\n",
       "      <td>0.396503</td>\n",
       "      <td>0.015625</td>\n",
       "      <td>9.644623</td>\n",
       "    </tr>\n",
       "    <tr>\n",
       "      <th>30</th>\n",
       "      <td>71.701843</td>\n",
       "      <td>0.699179</td>\n",
       "      <td>0.015625</td>\n",
       "      <td>5.985198</td>\n",
       "    </tr>\n",
       "    <tr>\n",
       "      <th>31</th>\n",
       "      <td>79.849701</td>\n",
       "      <td>0.739800</td>\n",
       "      <td>0.015625</td>\n",
       "      <td>3.254312</td>\n",
       "    </tr>\n",
       "  </tbody>\n",
       "</table>\n",
       "</div>"
      ],
      "text/plain": [
       "        plddt       ptm  aligned_confidence_probs  predicted_aligned_error\n",
       "0   76.790588  0.764460                  0.015625                 2.912920\n",
       "1   53.388073  0.426433                  0.015625                12.359621\n",
       "2   72.762375  0.730029                  0.015625                 3.674550\n",
       "3   43.810520  0.126293                  0.015625                21.946461\n",
       "4   65.219398  0.621859                  0.015625                 7.050356\n",
       "5   41.152943  0.206621                  0.015625                16.407764\n",
       "6   54.154346  0.285250                  0.015625                20.142078\n",
       "7   44.535862  0.275349                  0.015625                13.622183\n",
       "8   64.865936  0.606047                  0.015625                 7.890108\n",
       "9   74.966965  0.725256                  0.015625                 3.258469\n",
       "10  69.374184  0.631219                  0.015625                 4.939046\n",
       "11  41.206360  0.266277                  0.015625                17.885677\n",
       "12  73.471825  0.734925                  0.015625                 4.161109\n",
       "13  54.151196  0.296628                  0.015625                16.229568\n",
       "14  56.754620  0.515813                  0.015625                 9.877592\n",
       "15  68.667770  0.587577                  0.015625                 7.149110\n",
       "16  63.269241  0.496745                  0.015625                 8.378757\n",
       "17  61.285435  0.537180                  0.015625                 7.844096\n",
       "18  75.275703  0.753772                  0.015625                 3.990925\n",
       "19  65.680031  0.556682                  0.015625                11.995914\n",
       "20  75.630447  0.783413                  0.015625                 3.445451\n",
       "21  74.279762  0.676041                  0.015625                 3.944701\n",
       "22  68.814240  0.595393                  0.015625                 7.095647\n",
       "23  64.597107  0.577627                  0.015625                10.073946\n",
       "24  67.722893  0.679904                  0.015625                 6.976315\n",
       "25  50.752342  0.425150                  0.015625                13.419686\n",
       "26  62.745644  0.527804                  0.015625                 6.745327\n",
       "27  50.849377  0.366623                  0.015625                13.726887\n",
       "28  50.133488  0.378777                  0.015625                13.454642\n",
       "29  65.066154  0.396503                  0.015625                 9.644623\n",
       "30  71.701843  0.699179                  0.015625                 5.985198\n",
       "31  79.849701  0.739800                  0.015625                 3.254312"
      ]
     },
     "execution_count": 14,
     "metadata": {},
     "output_type": "execute_result"
    }
   ],
   "source": [
    "metrics"
   ]
  },
  {
   "cell_type": "code",
   "execution_count": 15,
   "metadata": {},
   "outputs": [],
   "source": [
    "for i in range(10):\n",
    "    with open(\"pred_from_latent_{}.pdb\".format(i), \"w\") as f:\n",
    "        f.write(pdbstrs[i])"
   ]
  },
  {
   "cell_type": "code",
   "execution_count": null,
   "metadata": {},
   "outputs": [],
   "source": [
    "# del l2struct"
   ]
  },
  {
   "cell_type": "code",
   "execution_count": 16,
   "metadata": {},
   "outputs": [],
   "source": [
    "from plaid.esmfold import esmfold_v1\n",
    "efold = esmfold_v1()"
   ]
  },
  {
   "cell_type": "code",
   "execution_count": 17,
   "metadata": {},
   "outputs": [],
   "source": [
    "efold.to(device)\n",
    "with torch.no_grad():\n",
    "    pdbstr_inferred = efold.infer_pdbs(seqs)"
   ]
  },
  {
   "cell_type": "code",
   "execution_count": 18,
   "metadata": {},
   "outputs": [],
   "source": [
    "for i in range(10):\n",
    "    with open(\"pred_from_seq_{}.pdb\".format(i), \"w\") as f:\n",
    "        f.write(pdbstr_inferred[i])"
   ]
  },
  {
   "cell_type": "code",
   "execution_count": 20,
   "metadata": {},
   "outputs": [],
   "source": [
    "import os\n",
    "import shutil\n",
    "for i, name in enumerate(cath_ids[:10]):\n",
    "    original = \"/shared/amyxlu/data/cath/full/dompdb/\" + name\n",
    "    shutil.copy(original, f\"{i}_name.pdb\")\n",
    "    "
   ]
  },
  {
   "cell_type": "code",
   "execution_count": 19,
   "metadata": {},
   "outputs": [
    {
     "data": {
      "text/plain": [
       "[0.3898,\n",
       " 0.89816,\n",
       " 0.4072,\n",
       " 0.33646,\n",
       " 0.82221,\n",
       " 0.26164,\n",
       " 0.20608,\n",
       " 0.36169,\n",
       " 0.78232,\n",
       " 0.60658]"
      ]
     },
     "execution_count": 19,
     "metadata": {},
     "output_type": "execute_result"
    }
   ],
   "source": [
    "from plaid.utils import run_tmalign\n",
    "scores = []\n",
    "for i in range(10):\n",
    "    tmscore = run_tmalign(f\"pred_from_latent_{i}.pdb\", f\"pred_from_seq_{i}.pdb\")\n",
    "    scores.append(tmscore)\n",
    "\n",
    "scores"
   ]
  },
  {
   "cell_type": "code",
   "execution_count": 21,
   "metadata": {},
   "outputs": [
    {
     "name": "stdout",
     "output_type": "stream",
     "text": [
      "[0.42449, 0.49204, 0.26532, 0.13074, 0.46336, 0.22204, 0.20049, 0.33428, 0.33495, 0.22423]\n"
     ]
    }
   ],
   "source": [
    "from plaid.utils import run_tmalign\n",
    "scores2 = []\n",
    "for i in range(10):\n",
    "    tmscore = run_tmalign(f\"pred_from_latent_{i}.pdb\", f\"{i}_name.pdb\")\n",
    "    scores2.append(tmscore)\n",
    "print(scores2)"
   ]
  },
  {
   "cell_type": "code",
   "execution_count": 22,
   "metadata": {},
   "outputs": [
    {
     "name": "stdout",
     "output_type": "stream",
     "text": [
      "[0.21496, 0.49122, 0.15789, 0.13635, 0.4812, 0.20423, 0.21574, 0.45479, 0.37716, 0.22346]\n"
     ]
    }
   ],
   "source": [
    "from plaid.utils import run_tmalign\n",
    "scores3 = []\n",
    "for i in range(10):\n",
    "    tmscore = run_tmalign(f\"pred_from_seq_{i}.pdb\", f\"{i}_name.pdb\")\n",
    "    scores3.append(tmscore)\n",
    "print(scores3)"
   ]
  }
 ],
 "metadata": {
  "kernelspec": {
   "display_name": "kdif",
   "language": "python",
   "name": "python3"
  },
  "language_info": {
   "codemirror_mode": {
    "name": "ipython",
    "version": 3
   },
   "file_extension": ".py",
   "mimetype": "text/x-python",
   "name": "python",
   "nbconvert_exporter": "python",
   "pygments_lexer": "ipython3",
   "version": "3.11.6"
  }
 },
 "nbformat": 4,
 "nbformat_minor": 2
}
