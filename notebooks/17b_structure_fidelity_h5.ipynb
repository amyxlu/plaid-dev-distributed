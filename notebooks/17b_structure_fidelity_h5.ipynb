version https://git-lfs.github.com/spec/v1
oid sha256:34cf48535309936f493c992bd6175eb46e239fccbeae258b15ebbf068063899f
size 7157
