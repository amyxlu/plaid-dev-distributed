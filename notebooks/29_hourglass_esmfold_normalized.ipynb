version https://git-lfs.github.com/spec/v1
oid sha256:49226b2f371a789741433afc589adf7bba59ffc914f3257662b1c5c69a836ee8
size 29647
