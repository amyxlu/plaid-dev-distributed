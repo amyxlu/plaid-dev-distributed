{
 "cells": [
  {
   "cell_type": "code",
   "execution_count": 3,
   "id": "c693f2ae-8703-4390-9a22-65ddd1fac4e7",
   "metadata": {
    "execution": {
     "iopub.execute_input": "2024-11-12T23:53:07.981883Z",
     "iopub.status.busy": "2024-11-12T23:53:07.981538Z",
     "iopub.status.idle": "2024-11-12T23:53:07.992532Z",
     "shell.execute_reply": "2024-11-12T23:53:07.992042Z",
     "shell.execute_reply.started": "2024-11-12T23:53:07.981861Z"
    }
   },
   "outputs": [
    {
     "name": "stdout",
     "output_type": "stream",
     "text": [
      "The autoreload extension is already loaded. To reload it, use:\n",
      "  %reload_ext autoreload\n"
     ]
    }
   ],
   "source": [
    "%load_ext autoreload\n",
    "%autoreload 2"
   ]
  },
  {
   "cell_type": "code",
   "execution_count": 11,
   "id": "61cc1c9a-0e39-4f00-995b-f0e6fa4b5167",
   "metadata": {
    "execution": {
     "iopub.execute_input": "2024-11-12T23:55:06.839242Z",
     "iopub.status.busy": "2024-11-12T23:55:06.838506Z",
     "iopub.status.idle": "2024-11-12T23:57:04.007051Z",
     "shell.execute_reply": "2024-11-12T23:57:04.006123Z",
     "shell.execute_reply.started": "2024-11-12T23:55:06.839208Z"
    }
   },
   "outputs": [
    {
     "name": "stderr",
     "output_type": "stream",
     "text": [
      "100%|██████████| 9.03G/9.03G [00:47<00:00, 206MB/s]\n",
      "100%|██████████| 9.03G/9.03G [01:05<00:00, 148MB/s] \n"
     ]
    }
   ],
   "source": [
    "import torch\n",
    "from evo.dataset import FastaDataset\n",
    "from plaid.datasets import MetadataParser, NUM_FUNCTION_CLASSES, NUM_ORGANISM_CLASSES\n",
    "import numpy as np\n",
    "import matplotlib.pyplot as plt\n",
    "\n",
    "val_fasta = '/data/lux70/data/pfam/val.fasta'\n",
    "train_fasta = '/data/lux70/data/pfam/train.fasta'\n",
    "\n",
    "ds = FastaDataset(train_fasta)\n",
    "parser = MetadataParser()"
   ]
  },
  {
   "cell_type": "markdown",
   "id": "4f7f7d41-578d-4159-ae6f-e957bdf34ada",
   "metadata": {},
   "source": [
    "## Parse FASTA to DataFrame"
   ]
  },
  {
   "cell_type": "code",
   "execution_count": 66,
   "id": "5444dfc3-8d08-465b-b0f1-7ee61e41274f",
   "metadata": {
    "execution": {
     "iopub.execute_input": "2024-11-13T02:13:41.335959Z",
     "iopub.status.busy": "2024-11-13T02:13:41.335504Z",
     "iopub.status.idle": "2024-11-13T02:13:43.135133Z",
     "shell.execute_reply": "2024-11-13T02:13:43.134386Z",
     "shell.execute_reply.started": "2024-11-13T02:13:41.335934Z"
    }
   },
   "outputs": [
    {
     "name": "stdout",
     "output_type": "stream",
     "text": [
      "(441473,)\n"
     ]
    }
   ],
   "source": [
    "import random\n",
    "random.seed(42)\n",
    "np.random.seed(42)\n",
    "\n",
    "indices = np.arange(len(ds))[np.random.rand(len(ds)) < 0.01]\n",
    "print(indices.shape)"
   ]
  },
  {
   "cell_type": "code",
   "execution_count": 77,
   "id": "65483db1-b2cf-44fb-92e5-b82eae0853b1",
   "metadata": {
    "execution": {
     "iopub.execute_input": "2024-11-13T02:16:56.485256Z",
     "iopub.status.busy": "2024-11-13T02:16:56.484460Z",
     "iopub.status.idle": "2024-11-13T02:17:02.906747Z",
     "shell.execute_reply": "2024-11-13T02:17:02.905954Z",
     "shell.execute_reply.started": "2024-11-13T02:16:56.485229Z"
    }
   },
   "outputs": [],
   "source": [
    "all_sequences = []\n",
    "\n",
    "from tqdm.auto import trange, tqdm\n",
    "import math\n",
    "\n",
    "for i in indices:\n",
    "    header, sequence = ds[i]\n",
    "    if (len(sequence) <= 520) and (len(sequence) >= 64):\n",
    "        all_sequences.append(sequence)"
   ]
  },
  {
   "cell_type": "code",
   "execution_count": 78,
   "id": "4aa7aaf7-808c-4a0d-bf0d-79547b5e6d99",
   "metadata": {
    "execution": {
     "iopub.execute_input": "2024-11-13T02:17:02.908471Z",
     "iopub.status.busy": "2024-11-13T02:17:02.908203Z",
     "iopub.status.idle": "2024-11-13T02:17:02.955927Z",
     "shell.execute_reply": "2024-11-13T02:17:02.955197Z",
     "shell.execute_reply.started": "2024-11-13T02:17:02.908449Z"
    }
   },
   "outputs": [],
   "source": [
    "def check_if_all_lists_above_num(d, num):\n",
    "    for v in d.values():\n",
    "        if len(v) < num:\n",
    "            return False\n",
    "    return True"
   ]
  },
  {
   "cell_type": "code",
   "execution_count": 81,
   "id": "4ec164c3-6d40-4bb2-9e31-24e97bb38869",
   "metadata": {
    "execution": {
     "iopub.execute_input": "2024-11-13T02:17:36.688724Z",
     "iopub.status.busy": "2024-11-13T02:17:36.688231Z",
     "iopub.status.idle": "2024-11-13T02:17:38.513191Z",
     "shell.execute_reply": "2024-11-13T02:17:38.512400Z",
     "shell.execute_reply.started": "2024-11-13T02:17:36.688698Z"
    }
   },
   "outputs": [
    {
     "name": "stdout",
     "output_type": "stream",
     "text": [
      "{64: [], 72: [], 80: [], 88: [], 96: [], 104: [], 112: [], 120: [], 128: [], 136: [], 144: [], 152: [], 160: [], 168: [], 176: [], 184: [], 192: [], 200: [], 208: [], 216: [], 224: [], 232: [], 240: [], 248: [], 256: [], 264: [], 272: [], 280: [], 288: [], 296: [], 304: [], 312: [], 320: [], 328: [], 336: [], 344: [], 352: [], 360: [], 368: [], 376: [], 384: [], 392: [], 400: [], 408: [], 416: [], 424: [], 432: [], 440: [], 448: [], 456: [], 464: [], 472: [], 480: [], 488: [], 496: [], 504: [], 512: []}\n",
      "[ 64  72  80  88  96 104 112 120 128 136 144 152 160 168 176 184 192 200\n",
      " 208 216 224 232 240 248 256 264 272 280 288 296 304 312 320 328 336 344\n",
      " 352 360 368 376 384 392 400 408 416 424 432 440 448 456 464 472 480 488\n",
      " 496 504 512 520]\n"
     ]
    }
   ],
   "source": [
    "lengths = np.arange(64, 521, 8)\n",
    "\n",
    "outdict = dict(zip(lengths, [[] for _ in range(len(lengths))]))\n",
    "outdict.pop(520)\n",
    "\n",
    "print(outdict)\n",
    "print(lengths)\n",
    "\n",
    "for s in all_sequences:\n",
    "    good = check_if_all_lists_above_num(outdict, 64)\n",
    "    if good:\n",
    "        break\n",
    "    \n",
    "    for i in range(len(lengths) - 1):\n",
    "        if (len(s) > lengths[i]) and (len(s) < lengths[i+1]):\n",
    "            if len(outdict[lengths[i]]) < 64:\n",
    "                outdict[lengths[i]].append(s)\n",
    "        else:\n",
    "            pass"
   ]
  },
  {
   "cell_type": "code",
   "execution_count": 83,
   "id": "400f2ae9-35cf-4ab2-a88e-e855a156671d",
   "metadata": {
    "execution": {
     "iopub.execute_input": "2024-11-13T02:17:45.333073Z",
     "iopub.status.busy": "2024-11-13T02:17:45.332282Z",
     "iopub.status.idle": "2024-11-13T02:17:45.385930Z",
     "shell.execute_reply": "2024-11-13T02:17:45.385072Z",
     "shell.execute_reply.started": "2024-11-13T02:17:45.333044Z"
    }
   },
   "outputs": [],
   "source": [
    "all_seqs = np.concatenate([np.array(v) for v in outdict.values()])"
   ]
  },
  {
   "cell_type": "code",
   "execution_count": 96,
   "id": "8f0a8c5d-9d50-41c3-beb1-016afe046db0",
   "metadata": {
    "execution": {
     "iopub.execute_input": "2024-11-13T02:25:05.051555Z",
     "iopub.status.busy": "2024-11-13T02:25:05.051039Z",
     "iopub.status.idle": "2024-11-13T02:25:05.398422Z",
     "shell.execute_reply": "2024-11-13T02:25:05.397625Z",
     "shell.execute_reply.started": "2024-11-13T02:25:05.051530Z"
    }
   },
   "outputs": [
    {
     "data": {
      "image/png": "[encoded data removed]",
      "text/plain": [
       "<Figure size 640x480 with 1 Axes>"
      ]
     },
     "metadata": {},
     "output_type": "display_data"
    }
   ],
   "source": [
    "all_lengths = [len(s) for s in all_seqs]\n",
    "_ = plt.hist(all_lengths,bins=200)"
   ]
  },
  {
   "cell_type": "code",
   "execution_count": 92,
   "id": "d1f87bf6-13ea-40d2-8c8d-785ec120e531",
   "metadata": {
    "execution": {
     "iopub.execute_input": "2024-11-13T02:23:59.107215Z",
     "iopub.status.busy": "2024-11-13T02:23:59.106768Z",
     "iopub.status.idle": "2024-11-13T02:23:59.418217Z",
     "shell.execute_reply": "2024-11-13T02:23:59.417633Z",
     "shell.execute_reply.started": "2024-11-13T02:23:59.107190Z"
    }
   },
   "outputs": [
    {
     "name": "stdout",
     "output_type": "stream",
     "text": [
      "Wrote 64 sequences to /data/lux70/plaid/artifacts/natural_binned_lengths/binstart64/generated/sequences.fasta.\n",
      "Wrote 64 sequences to /data/lux70/plaid/artifacts/natural_binned_lengths/binstart72/generated/sequences.fasta.\n",
      "Wrote 64 sequences to /data/lux70/plaid/artifacts/natural_binned_lengths/binstart80/generated/sequences.fasta.\n",
      "Wrote 64 sequences to /data/lux70/plaid/artifacts/natural_binned_lengths/binstart88/generated/sequences.fasta.\n",
      "Wrote 64 sequences to /data/lux70/plaid/artifacts/natural_binned_lengths/binstart96/generated/sequences.fasta.\n",
      "Wrote 64 sequences to /data/lux70/plaid/artifacts/natural_binned_lengths/binstart104/generated/sequences.fasta.\n",
      "Wrote 64 sequences to /data/lux70/plaid/artifacts/natural_binned_lengths/binstart112/generated/sequences.fasta.\n",
      "Wrote 64 sequences to /data/lux70/plaid/artifacts/natural_binned_lengths/binstart120/generated/sequences.fasta.\n",
      "Wrote 64 sequences to /data/lux70/plaid/artifacts/natural_binned_lengths/binstart128/generated/sequences.fasta.\n",
      "Wrote 64 sequences to /data/lux70/plaid/artifacts/natural_binned_lengths/binstart136/generated/sequences.fasta.\n",
      "Wrote 64 sequences to /data/lux70/plaid/artifacts/natural_binned_lengths/binstart144/generated/sequences.fasta.\n",
      "Wrote 64 sequences to /data/lux70/plaid/artifacts/natural_binned_lengths/binstart152/generated/sequences.fasta.\n",
      "Wrote 64 sequences to /data/lux70/plaid/artifacts/natural_binned_lengths/binstart160/generated/sequences.fasta.\n",
      "Wrote 64 sequences to /data/lux70/plaid/artifacts/natural_binned_lengths/binstart168/generated/sequences.fasta.\n",
      "Wrote 64 sequences to /data/lux70/plaid/artifacts/natural_binned_lengths/binstart176/generated/sequences.fasta.\n",
      "Wrote 64 sequences to /data/lux70/plaid/artifacts/natural_binned_lengths/binstart184/generated/sequences.fasta.\n",
      "Wrote 64 sequences to /data/lux70/plaid/artifacts/natural_binned_lengths/binstart192/generated/sequences.fasta.\n",
      "Wrote 64 sequences to /data/lux70/plaid/artifacts/natural_binned_lengths/binstart200/generated/sequences.fasta.\n",
      "Wrote 64 sequences to /data/lux70/plaid/artifacts/natural_binned_lengths/binstart208/generated/sequences.fasta.\n",
      "Wrote 64 sequences to /data/lux70/plaid/artifacts/natural_binned_lengths/binstart216/generated/sequences.fasta.\n",
      "Wrote 64 sequences to /data/lux70/plaid/artifacts/natural_binned_lengths/binstart224/generated/sequences.fasta.\n",
      "Wrote 64 sequences to /data/lux70/plaid/artifacts/natural_binned_lengths/binstart232/generated/sequences.fasta.\n",
      "Wrote 64 sequences to /data/lux70/plaid/artifacts/natural_binned_lengths/binstart240/generated/sequences.fasta.\n",
      "Wrote 64 sequences to /data/lux70/plaid/artifacts/natural_binned_lengths/binstart248/generated/sequences.fasta.\n",
      "Wrote 64 sequences to /data/lux70/plaid/artifacts/natural_binned_lengths/binstart256/generated/sequences.fasta.\n",
      "Wrote 64 sequences to /data/lux70/plaid/artifacts/natural_binned_lengths/binstart264/generated/sequences.fasta.\n",
      "Wrote 64 sequences to /data/lux70/plaid/artifacts/natural_binned_lengths/binstart272/generated/sequences.fasta.\n",
      "Wrote 64 sequences to /data/lux70/plaid/artifacts/natural_binned_lengths/binstart280/generated/sequences.fasta.\n",
      "Wrote 64 sequences to /data/lux70/plaid/artifacts/natural_binned_lengths/binstart288/generated/sequences.fasta.\n",
      "Wrote 64 sequences to /data/lux70/plaid/artifacts/natural_binned_lengths/binstart296/generated/sequences.fasta.\n",
      "Wrote 64 sequences to /data/lux70/plaid/artifacts/natural_binned_lengths/binstart304/generated/sequences.fasta.\n",
      "Wrote 64 sequences to /data/lux70/plaid/artifacts/natural_binned_lengths/binstart312/generated/sequences.fasta.\n",
      "Wrote 64 sequences to /data/lux70/plaid/artifacts/natural_binned_lengths/binstart320/generated/sequences.fasta.\n",
      "Wrote 64 sequences to /data/lux70/plaid/artifacts/natural_binned_lengths/binstart328/generated/sequences.fasta.\n",
      "Wrote 64 sequences to /data/lux70/plaid/artifacts/natural_binned_lengths/binstart336/generated/sequences.fasta.\n",
      "Wrote 64 sequences to /data/lux70/plaid/artifacts/natural_binned_lengths/binstart344/generated/sequences.fasta.\n",
      "Wrote 64 sequences to /data/lux70/plaid/artifacts/natural_binned_lengths/binstart352/generated/sequences.fasta.\n",
      "Wrote 64 sequences to /data/lux70/plaid/artifacts/natural_binned_lengths/binstart360/generated/sequences.fasta.\n",
      "Wrote 64 sequences to /data/lux70/plaid/artifacts/natural_binned_lengths/binstart368/generated/sequences.fasta.\n",
      "Wrote 64 sequences to /data/lux70/plaid/artifacts/natural_binned_lengths/binstart376/generated/sequences.fasta.\n",
      "Wrote 64 sequences to /data/lux70/plaid/artifacts/natural_binned_lengths/binstart384/generated/sequences.fasta.\n",
      "Wrote 64 sequences to /data/lux70/plaid/artifacts/natural_binned_lengths/binstart392/generated/sequences.fasta.\n",
      "Wrote 64 sequences to /data/lux70/plaid/artifacts/natural_binned_lengths/binstart400/generated/sequences.fasta.\n",
      "Wrote 64 sequences to /data/lux70/plaid/artifacts/natural_binned_lengths/binstart408/generated/sequences.fasta.\n",
      "Wrote 64 sequences to /data/lux70/plaid/artifacts/natural_binned_lengths/binstart416/generated/sequences.fasta.\n",
      "Wrote 64 sequences to /data/lux70/plaid/artifacts/natural_binned_lengths/binstart424/generated/sequences.fasta.\n",
      "Wrote 64 sequences to /data/lux70/plaid/artifacts/natural_binned_lengths/binstart432/generated/sequences.fasta.\n",
      "Wrote 64 sequences to /data/lux70/plaid/artifacts/natural_binned_lengths/binstart440/generated/sequences.fasta.\n",
      "Wrote 64 sequences to /data/lux70/plaid/artifacts/natural_binned_lengths/binstart448/generated/sequences.fasta.\n",
      "Wrote 64 sequences to /data/lux70/plaid/artifacts/natural_binned_lengths/binstart456/generated/sequences.fasta.\n",
      "Wrote 64 sequences to /data/lux70/plaid/artifacts/natural_binned_lengths/binstart464/generated/sequences.fasta.\n",
      "Wrote 64 sequences to /data/lux70/plaid/artifacts/natural_binned_lengths/binstart472/generated/sequences.fasta.\n",
      "Wrote 64 sequences to /data/lux70/plaid/artifacts/natural_binned_lengths/binstart480/generated/sequences.fasta.\n",
      "Wrote 64 sequences to /data/lux70/plaid/artifacts/natural_binned_lengths/binstart488/generated/sequences.fasta.\n",
      "Wrote 64 sequences to /data/lux70/plaid/artifacts/natural_binned_lengths/binstart496/generated/sequences.fasta.\n",
      "Wrote 64 sequences to /data/lux70/plaid/artifacts/natural_binned_lengths/binstart504/generated/sequences.fasta.\n",
      "Wrote 64 sequences to /data/lux70/plaid/artifacts/natural_binned_lengths/binstart512/generated/sequences.fasta.\n"
     ]
    }
   ],
   "source": [
    "from plaid.utils import write_to_fasta\n",
    "from pathlib import Path\n",
    "\n",
    "root_out_dir = Path(\"/data/lux70/plaid/artifacts/natural_binned_lengths/\")\n",
    "\n",
    "for length, sequences in outdict.items():\n",
    "    outpath = root_out_dir / f\"binstart{str(length)}\" / \"generated\" / \"sequences.fasta\"\n",
    "    if not outpath.parent.exists():\n",
    "        outpath.parent.mkdir(parents=True)\n",
    "    \n",
    "    write_to_fasta(sequences,outpath)"
   ]
  },
  {
   "cell_type": "code",
   "execution_count": null,
   "id": "c62fe3a3-4ed8-4b6b-97ec-d3f2226d335e",
   "metadata": {},
   "outputs": [],
   "source": []
  }
 ],
 "metadata": {
  "kernelspec": {
   "display_name": "Python (omegafold)",
   "language": "python",
   "name": "omegafold"
  },
  "language_info": {
   "codemirror_mode": {
    "name": "ipython",
    "version": 3
   },
   "file_extension": ".py",
   "mimetype": "text/x-python",
   "name": "python",
   "nbconvert_exporter": "python",
   "pygments_lexer": "ipython3",
   "version": "3.9.12"
  }
 },
 "nbformat": 4,
 "nbformat_minor": 5
}
